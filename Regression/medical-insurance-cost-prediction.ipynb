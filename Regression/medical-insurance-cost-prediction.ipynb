{
 "cells": [
  {
   "cell_type": "code",
   "execution_count": 1,
   "id": "bbc28f82",
   "metadata": {
    "_cell_guid": "b1076dfc-b9ad-4769-8c92-a6c4dae69d19",
    "_uuid": "8f2839f25d086af736a60e9eeb907d3b93b6e0e5",
    "execution": {
     "iopub.execute_input": "2024-04-01T14:42:21.474721Z",
     "iopub.status.busy": "2024-04-01T14:42:21.474304Z",
     "iopub.status.idle": "2024-04-01T14:42:24.007917Z",
     "shell.execute_reply": "2024-04-01T14:42:24.006636Z"
    },
    "papermill": {
     "duration": 2.548216,
     "end_time": "2024-04-01T14:42:24.010890",
     "exception": false,
     "start_time": "2024-04-01T14:42:21.462674",
     "status": "completed"
    },
    "tags": []
   },
   "outputs": [],
   "source": [
    "import numpy as np\n",
    "import pandas as pd\n",
    "import matplotlib.pyplot as plt\n",
    "import seaborn as sns\n",
    "from sklearn.model_selection import train_test_split\n",
    "from sklearn.linear_model import LinearRegression\n",
    "from sklearn import metrics"
   ]
  },
  {
   "cell_type": "code",
   "execution_count": 2,
   "id": "a8bbe062",
   "metadata": {
    "execution": {
     "iopub.execute_input": "2024-04-01T14:42:24.030859Z",
     "iopub.status.busy": "2024-04-01T14:42:24.030348Z",
     "iopub.status.idle": "2024-04-01T14:42:24.052130Z",
     "shell.execute_reply": "2024-04-01T14:42:24.051091Z"
    },
    "papermill": {
     "duration": 0.034336,
     "end_time": "2024-04-01T14:42:24.054365",
     "exception": false,
     "start_time": "2024-04-01T14:42:24.020029",
     "status": "completed"
    },
    "tags": []
   },
   "outputs": [],
   "source": [
    "data=pd.read_csv('/kaggle/input/insurance/insurance.csv')"
   ]
  },
  {
   "cell_type": "code",
   "execution_count": 3,
   "id": "8525a4e4",
   "metadata": {
    "execution": {
     "iopub.execute_input": "2024-04-01T14:42:24.074577Z",
     "iopub.status.busy": "2024-04-01T14:42:24.074224Z",
     "iopub.status.idle": "2024-04-01T14:42:24.094520Z",
     "shell.execute_reply": "2024-04-01T14:42:24.093434Z"
    },
    "papermill": {
     "duration": 0.033406,
     "end_time": "2024-04-01T14:42:24.096856",
     "exception": false,
     "start_time": "2024-04-01T14:42:24.063450",
     "status": "completed"
    },
    "tags": []
   },
   "outputs": [
    {
     "data": {
      "text/html": [
       "<div>\n",
       "<style scoped>\n",
       "    .dataframe tbody tr th:only-of-type {\n",
       "        vertical-align: middle;\n",
       "    }\n",
       "\n",
       "    .dataframe tbody tr th {\n",
       "        vertical-align: top;\n",
       "    }\n",
       "\n",
       "    .dataframe thead th {\n",
       "        text-align: right;\n",
       "    }\n",
       "</style>\n",
       "<table border=\"1\" class=\"dataframe\">\n",
       "  <thead>\n",
       "    <tr style=\"text-align: right;\">\n",
       "      <th></th>\n",
       "      <th>age</th>\n",
       "      <th>sex</th>\n",
       "      <th>bmi</th>\n",
       "      <th>children</th>\n",
       "      <th>smoker</th>\n",
       "      <th>region</th>\n",
       "      <th>charges</th>\n",
       "    </tr>\n",
       "  </thead>\n",
       "  <tbody>\n",
       "    <tr>\n",
       "      <th>0</th>\n",
       "      <td>19</td>\n",
       "      <td>female</td>\n",
       "      <td>27.900</td>\n",
       "      <td>0</td>\n",
       "      <td>yes</td>\n",
       "      <td>southwest</td>\n",
       "      <td>16884.92400</td>\n",
       "    </tr>\n",
       "    <tr>\n",
       "      <th>1</th>\n",
       "      <td>18</td>\n",
       "      <td>male</td>\n",
       "      <td>33.770</td>\n",
       "      <td>1</td>\n",
       "      <td>no</td>\n",
       "      <td>southeast</td>\n",
       "      <td>1725.55230</td>\n",
       "    </tr>\n",
       "    <tr>\n",
       "      <th>2</th>\n",
       "      <td>28</td>\n",
       "      <td>male</td>\n",
       "      <td>33.000</td>\n",
       "      <td>3</td>\n",
       "      <td>no</td>\n",
       "      <td>southeast</td>\n",
       "      <td>4449.46200</td>\n",
       "    </tr>\n",
       "    <tr>\n",
       "      <th>3</th>\n",
       "      <td>33</td>\n",
       "      <td>male</td>\n",
       "      <td>22.705</td>\n",
       "      <td>0</td>\n",
       "      <td>no</td>\n",
       "      <td>northwest</td>\n",
       "      <td>21984.47061</td>\n",
       "    </tr>\n",
       "    <tr>\n",
       "      <th>4</th>\n",
       "      <td>32</td>\n",
       "      <td>male</td>\n",
       "      <td>28.880</td>\n",
       "      <td>0</td>\n",
       "      <td>no</td>\n",
       "      <td>northwest</td>\n",
       "      <td>3866.85520</td>\n",
       "    </tr>\n",
       "  </tbody>\n",
       "</table>\n",
       "</div>"
      ],
      "text/plain": [
       "   age     sex     bmi  children smoker     region      charges\n",
       "0   19  female  27.900         0    yes  southwest  16884.92400\n",
       "1   18    male  33.770         1     no  southeast   1725.55230\n",
       "2   28    male  33.000         3     no  southeast   4449.46200\n",
       "3   33    male  22.705         0     no  northwest  21984.47061\n",
       "4   32    male  28.880         0     no  northwest   3866.85520"
      ]
     },
     "execution_count": 3,
     "metadata": {},
     "output_type": "execute_result"
    }
   ],
   "source": [
    "data.head()"
   ]
  },
  {
   "cell_type": "code",
   "execution_count": 4,
   "id": "d8cc0a6a",
   "metadata": {
    "execution": {
     "iopub.execute_input": "2024-04-01T14:42:24.117276Z",
     "iopub.status.busy": "2024-04-01T14:42:24.116858Z",
     "iopub.status.idle": "2024-04-01T14:42:24.146555Z",
     "shell.execute_reply": "2024-04-01T14:42:24.145653Z"
    },
    "papermill": {
     "duration": 0.042612,
     "end_time": "2024-04-01T14:42:24.148825",
     "exception": false,
     "start_time": "2024-04-01T14:42:24.106213",
     "status": "completed"
    },
    "tags": []
   },
   "outputs": [
    {
     "name": "stdout",
     "output_type": "stream",
     "text": [
      "<class 'pandas.core.frame.DataFrame'>\n",
      "RangeIndex: 1338 entries, 0 to 1337\n",
      "Data columns (total 7 columns):\n",
      " #   Column    Non-Null Count  Dtype  \n",
      "---  ------    --------------  -----  \n",
      " 0   age       1338 non-null   int64  \n",
      " 1   sex       1338 non-null   object \n",
      " 2   bmi       1338 non-null   float64\n",
      " 3   children  1338 non-null   int64  \n",
      " 4   smoker    1338 non-null   object \n",
      " 5   region    1338 non-null   object \n",
      " 6   charges   1338 non-null   float64\n",
      "dtypes: float64(2), int64(2), object(3)\n",
      "memory usage: 73.3+ KB\n"
     ]
    }
   ],
   "source": [
    "data.info()"
   ]
  },
  {
   "cell_type": "markdown",
   "id": "2cbf48cd",
   "metadata": {
    "papermill": {
     "duration": 0.008836,
     "end_time": "2024-04-01T14:42:24.167793",
     "exception": false,
     "start_time": "2024-04-01T14:42:24.158957",
     "status": "completed"
    },
    "tags": []
   },
   "source": [
    "**Catagirical Data**\n",
    "\n",
    "**1.sex**\n",
    "\n",
    "**2.smoker**\n",
    "\n",
    "**3.region**"
   ]
  },
  {
   "cell_type": "code",
   "execution_count": 5,
   "id": "c6a24a9b",
   "metadata": {
    "execution": {
     "iopub.execute_input": "2024-04-01T14:42:24.188148Z",
     "iopub.status.busy": "2024-04-01T14:42:24.187504Z",
     "iopub.status.idle": "2024-04-01T14:42:24.193315Z",
     "shell.execute_reply": "2024-04-01T14:42:24.192078Z"
    },
    "papermill": {
     "duration": 0.018505,
     "end_time": "2024-04-01T14:42:24.195513",
     "exception": false,
     "start_time": "2024-04-01T14:42:24.177008",
     "status": "completed"
    },
    "tags": []
   },
   "outputs": [
    {
     "data": {
      "text/plain": [
       "(1338, 7)"
      ]
     },
     "execution_count": 5,
     "metadata": {},
     "output_type": "execute_result"
    }
   ],
   "source": [
    "data.shape"
   ]
  },
  {
   "cell_type": "code",
   "execution_count": 6,
   "id": "8e21bbef",
   "metadata": {
    "execution": {
     "iopub.execute_input": "2024-04-01T14:42:24.218045Z",
     "iopub.status.busy": "2024-04-01T14:42:24.217446Z",
     "iopub.status.idle": "2024-04-01T14:42:24.225638Z",
     "shell.execute_reply": "2024-04-01T14:42:24.224535Z"
    },
    "papermill": {
     "duration": 0.021718,
     "end_time": "2024-04-01T14:42:24.227921",
     "exception": false,
     "start_time": "2024-04-01T14:42:24.206203",
     "status": "completed"
    },
    "tags": []
   },
   "outputs": [
    {
     "data": {
      "text/plain": [
       "age         0\n",
       "sex         0\n",
       "bmi         0\n",
       "children    0\n",
       "smoker      0\n",
       "region      0\n",
       "charges     0\n",
       "dtype: int64"
      ]
     },
     "execution_count": 6,
     "metadata": {},
     "output_type": "execute_result"
    }
   ],
   "source": [
    "data.isnull().sum()"
   ]
  },
  {
   "cell_type": "code",
   "execution_count": 7,
   "id": "9a7ede15",
   "metadata": {
    "execution": {
     "iopub.execute_input": "2024-04-01T14:42:24.248534Z",
     "iopub.status.busy": "2024-04-01T14:42:24.248149Z",
     "iopub.status.idle": "2024-04-01T14:42:24.269783Z",
     "shell.execute_reply": "2024-04-01T14:42:24.268752Z"
    },
    "papermill": {
     "duration": 0.034645,
     "end_time": "2024-04-01T14:42:24.272024",
     "exception": false,
     "start_time": "2024-04-01T14:42:24.237379",
     "status": "completed"
    },
    "tags": []
   },
   "outputs": [
    {
     "data": {
      "text/html": [
       "<div>\n",
       "<style scoped>\n",
       "    .dataframe tbody tr th:only-of-type {\n",
       "        vertical-align: middle;\n",
       "    }\n",
       "\n",
       "    .dataframe tbody tr th {\n",
       "        vertical-align: top;\n",
       "    }\n",
       "\n",
       "    .dataframe thead th {\n",
       "        text-align: right;\n",
       "    }\n",
       "</style>\n",
       "<table border=\"1\" class=\"dataframe\">\n",
       "  <thead>\n",
       "    <tr style=\"text-align: right;\">\n",
       "      <th></th>\n",
       "      <th>age</th>\n",
       "      <th>bmi</th>\n",
       "      <th>children</th>\n",
       "      <th>charges</th>\n",
       "    </tr>\n",
       "  </thead>\n",
       "  <tbody>\n",
       "    <tr>\n",
       "      <th>count</th>\n",
       "      <td>1338.000000</td>\n",
       "      <td>1338.000000</td>\n",
       "      <td>1338.000000</td>\n",
       "      <td>1338.000000</td>\n",
       "    </tr>\n",
       "    <tr>\n",
       "      <th>mean</th>\n",
       "      <td>39.207025</td>\n",
       "      <td>30.663397</td>\n",
       "      <td>1.094918</td>\n",
       "      <td>13270.422265</td>\n",
       "    </tr>\n",
       "    <tr>\n",
       "      <th>std</th>\n",
       "      <td>14.049960</td>\n",
       "      <td>6.098187</td>\n",
       "      <td>1.205493</td>\n",
       "      <td>12110.011237</td>\n",
       "    </tr>\n",
       "    <tr>\n",
       "      <th>min</th>\n",
       "      <td>18.000000</td>\n",
       "      <td>15.960000</td>\n",
       "      <td>0.000000</td>\n",
       "      <td>1121.873900</td>\n",
       "    </tr>\n",
       "    <tr>\n",
       "      <th>25%</th>\n",
       "      <td>27.000000</td>\n",
       "      <td>26.296250</td>\n",
       "      <td>0.000000</td>\n",
       "      <td>4740.287150</td>\n",
       "    </tr>\n",
       "    <tr>\n",
       "      <th>50%</th>\n",
       "      <td>39.000000</td>\n",
       "      <td>30.400000</td>\n",
       "      <td>1.000000</td>\n",
       "      <td>9382.033000</td>\n",
       "    </tr>\n",
       "    <tr>\n",
       "      <th>75%</th>\n",
       "      <td>51.000000</td>\n",
       "      <td>34.693750</td>\n",
       "      <td>2.000000</td>\n",
       "      <td>16639.912515</td>\n",
       "    </tr>\n",
       "    <tr>\n",
       "      <th>max</th>\n",
       "      <td>64.000000</td>\n",
       "      <td>53.130000</td>\n",
       "      <td>5.000000</td>\n",
       "      <td>63770.428010</td>\n",
       "    </tr>\n",
       "  </tbody>\n",
       "</table>\n",
       "</div>"
      ],
      "text/plain": [
       "               age          bmi     children       charges\n",
       "count  1338.000000  1338.000000  1338.000000   1338.000000\n",
       "mean     39.207025    30.663397     1.094918  13270.422265\n",
       "std      14.049960     6.098187     1.205493  12110.011237\n",
       "min      18.000000    15.960000     0.000000   1121.873900\n",
       "25%      27.000000    26.296250     0.000000   4740.287150\n",
       "50%      39.000000    30.400000     1.000000   9382.033000\n",
       "75%      51.000000    34.693750     2.000000  16639.912515\n",
       "max      64.000000    53.130000     5.000000  63770.428010"
      ]
     },
     "execution_count": 7,
     "metadata": {},
     "output_type": "execute_result"
    }
   ],
   "source": [
    "data.describe()"
   ]
  },
  {
   "cell_type": "markdown",
   "id": "12a3bdb7",
   "metadata": {
    "papermill": {
     "duration": 0.009361,
     "end_time": "2024-04-01T14:42:24.291214",
     "exception": false,
     "start_time": "2024-04-01T14:42:24.281853",
     "status": "completed"
    },
    "tags": []
   },
   "source": [
    "# Data Analysis"
   ]
  },
  {
   "cell_type": "code",
   "execution_count": 8,
   "id": "10a21cc3",
   "metadata": {
    "execution": {
     "iopub.execute_input": "2024-04-01T14:42:24.312247Z",
     "iopub.status.busy": "2024-04-01T14:42:24.311826Z",
     "iopub.status.idle": "2024-04-01T14:42:24.752618Z",
     "shell.execute_reply": "2024-04-01T14:42:24.751552Z"
    },
    "papermill": {
     "duration": 0.454107,
     "end_time": "2024-04-01T14:42:24.754817",
     "exception": false,
     "start_time": "2024-04-01T14:42:24.300710",
     "status": "completed"
    },
    "tags": []
   },
   "outputs": [
    {
     "name": "stderr",
     "output_type": "stream",
     "text": [
      "/tmp/ipykernel_18/2067655652.py:4: UserWarning: \n",
      "\n",
      "`distplot` is a deprecated function and will be removed in seaborn v0.14.0.\n",
      "\n",
      "Please adapt your code to use either `displot` (a figure-level function with\n",
      "similar flexibility) or `histplot` (an axes-level function for histograms).\n",
      "\n",
      "For a guide to updating your code to use the new functions, please see\n",
      "https://gist.github.com/mwaskom/de44147ed2974457ad6372750bbe5751\n",
      "\n",
      "  sns.distplot(data['age'])\n",
      "/opt/conda/lib/python3.10/site-packages/seaborn/_oldcore.py:1119: FutureWarning: use_inf_as_na option is deprecated and will be removed in a future version. Convert inf values to NaN before operating instead.\n",
      "  with pd.option_context('mode.use_inf_as_na', True):\n"
     ]
    },
    {
     "data": {
      "image/png": "[encoded data removed]",
      "text/plain": [
       "<Figure size 600x600 with 1 Axes>"
      ]
     },
     "metadata": {},
     "output_type": "display_data"
    }
   ],
   "source": [
    "# distribution of age value\n",
    "sns.set()\n",
    "plt.figure(figsize=(6,6))\n",
    "sns.distplot(data['age'])\n",
    "plt.title(\"Age distribution\")\n",
    "plt.show()"
   ]
  },
  {
   "cell_type": "code",
   "execution_count": 9,
   "id": "237fddd3",
   "metadata": {
    "execution": {
     "iopub.execute_input": "2024-04-01T14:42:24.777496Z",
     "iopub.status.busy": "2024-04-01T14:42:24.777058Z",
     "iopub.status.idle": "2024-04-01T14:42:24.978653Z",
     "shell.execute_reply": "2024-04-01T14:42:24.977553Z"
    },
    "papermill": {
     "duration": 0.21566,
     "end_time": "2024-04-01T14:42:24.980925",
     "exception": false,
     "start_time": "2024-04-01T14:42:24.765265",
     "status": "completed"
    },
    "tags": []
   },
   "outputs": [
    {
     "data": {
      "image/png": "[encoded data removed]",
      "text/plain": [
       "<Figure size 600x600 with 1 Axes>"
      ]
     },
     "metadata": {},
     "output_type": "display_data"
    }
   ],
   "source": [
    "# distribution of gender\n",
    "plt.figure(figsize=(6,6))\n",
    "sns.countplot(x='sex',data=data)\n",
    "plt.title(\"Sex distribution\")\n",
    "plt.show()"
   ]
  },
  {
   "cell_type": "code",
   "execution_count": 10,
   "id": "5ac2ba56",
   "metadata": {
    "execution": {
     "iopub.execute_input": "2024-04-01T14:42:25.004898Z",
     "iopub.status.busy": "2024-04-01T14:42:25.004445Z",
     "iopub.status.idle": "2024-04-01T14:42:25.012871Z",
     "shell.execute_reply": "2024-04-01T14:42:25.011706Z"
    },
    "papermill": {
     "duration": 0.023518,
     "end_time": "2024-04-01T14:42:25.015204",
     "exception": false,
     "start_time": "2024-04-01T14:42:24.991686",
     "status": "completed"
    },
    "tags": []
   },
   "outputs": [
    {
     "data": {
      "text/plain": [
       "sex\n",
       "male      676\n",
       "female    662\n",
       "Name: count, dtype: int64"
      ]
     },
     "execution_count": 10,
     "metadata": {},
     "output_type": "execute_result"
    }
   ],
   "source": [
    "data['sex'].value_counts()"
   ]
  },
  {
   "cell_type": "code",
   "execution_count": 11,
   "id": "a606c5c8",
   "metadata": {
    "execution": {
     "iopub.execute_input": "2024-04-01T14:42:25.039306Z",
     "iopub.status.busy": "2024-04-01T14:42:25.038600Z",
     "iopub.status.idle": "2024-04-01T14:42:25.468637Z",
     "shell.execute_reply": "2024-04-01T14:42:25.467579Z"
    },
    "papermill": {
     "duration": 0.444485,
     "end_time": "2024-04-01T14:42:25.470617",
     "exception": false,
     "start_time": "2024-04-01T14:42:25.026132",
     "status": "completed"
    },
    "tags": []
   },
   "outputs": [
    {
     "name": "stderr",
     "output_type": "stream",
     "text": [
      "/tmp/ipykernel_18/810861004.py:3: UserWarning: \n",
      "\n",
      "`distplot` is a deprecated function and will be removed in seaborn v0.14.0.\n",
      "\n",
      "Please adapt your code to use either `displot` (a figure-level function with\n",
      "similar flexibility) or `histplot` (an axes-level function for histograms).\n",
      "\n",
      "For a guide to updating your code to use the new functions, please see\n",
      "https://gist.github.com/mwaskom/de44147ed2974457ad6372750bbe5751\n",
      "\n",
      "  sns.distplot(data['bmi'])\n",
      "/opt/conda/lib/python3.10/site-packages/seaborn/_oldcore.py:1119: FutureWarning: use_inf_as_na option is deprecated and will be removed in a future version. Convert inf values to NaN before operating instead.\n",
      "  with pd.option_context('mode.use_inf_as_na', True):\n"
     ]
    },
    {
     "data": {
      "image/png": "[encoded data removed]",
      "text/plain": [
       "<Figure size 600x600 with 1 Axes>"
      ]
     },
     "metadata": {},
     "output_type": "display_data"
    }
   ],
   "source": [
    "# bmi distribution\n",
    "plt.figure(figsize=(6,6))\n",
    "sns.distplot(data['bmi'])\n",
    "plt.title(\"BMI distribution\")\n",
    "plt.show()"
   ]
  },
  {
   "cell_type": "markdown",
   "id": "168c4878",
   "metadata": {
    "papermill": {
     "duration": 0.011067,
     "end_time": "2024-04-01T14:42:25.493241",
     "exception": false,
     "start_time": "2024-04-01T14:42:25.482174",
     "status": "completed"
    },
    "tags": []
   },
   "source": [
    "**Normal BMI Range --> 18.5 to 24.9**"
   ]
  },
  {
   "cell_type": "code",
   "execution_count": 12,
   "id": "c94b4766",
   "metadata": {
    "execution": {
     "iopub.execute_input": "2024-04-01T14:42:25.517626Z",
     "iopub.status.busy": "2024-04-01T14:42:25.517229Z",
     "iopub.status.idle": "2024-04-01T14:42:25.755895Z",
     "shell.execute_reply": "2024-04-01T14:42:25.754975Z"
    },
    "papermill": {
     "duration": 0.253761,
     "end_time": "2024-04-01T14:42:25.758246",
     "exception": false,
     "start_time": "2024-04-01T14:42:25.504485",
     "status": "completed"
    },
    "tags": []
   },
   "outputs": [
    {
     "data": {
      "image/png": "[encoded data removed]",
      "text/plain": [
       "<Figure size 600x600 with 1 Axes>"
      ]
     },
     "metadata": {},
     "output_type": "display_data"
    }
   ],
   "source": [
    "# children column\n",
    "plt.figure(figsize=(6,6))\n",
    "sns.countplot(x='children',data=data)\n",
    "plt.title(\"Children distribution\")\n",
    "plt.show()"
   ]
  },
  {
   "cell_type": "code",
   "execution_count": 13,
   "id": "8d893cde",
   "metadata": {
    "execution": {
     "iopub.execute_input": "2024-04-01T14:42:25.784030Z",
     "iopub.status.busy": "2024-04-01T14:42:25.783614Z",
     "iopub.status.idle": "2024-04-01T14:42:25.793601Z",
     "shell.execute_reply": "2024-04-01T14:42:25.792497Z"
    },
    "papermill": {
     "duration": 0.025501,
     "end_time": "2024-04-01T14:42:25.795807",
     "exception": false,
     "start_time": "2024-04-01T14:42:25.770306",
     "status": "completed"
    },
    "tags": []
   },
   "outputs": [
    {
     "data": {
      "text/plain": [
       "children\n",
       "0    574\n",
       "1    324\n",
       "2    240\n",
       "3    157\n",
       "4     25\n",
       "5     18\n",
       "Name: count, dtype: int64"
      ]
     },
     "execution_count": 13,
     "metadata": {},
     "output_type": "execute_result"
    }
   ],
   "source": [
    "data['children'].value_counts()"
   ]
  },
  {
   "cell_type": "code",
   "execution_count": 14,
   "id": "69a443be",
   "metadata": {
    "execution": {
     "iopub.execute_input": "2024-04-01T14:42:25.822220Z",
     "iopub.status.busy": "2024-04-01T14:42:25.821034Z",
     "iopub.status.idle": "2024-04-01T14:42:26.005188Z",
     "shell.execute_reply": "2024-04-01T14:42:26.003976Z"
    },
    "papermill": {
     "duration": 0.199875,
     "end_time": "2024-04-01T14:42:26.007702",
     "exception": false,
     "start_time": "2024-04-01T14:42:25.807827",
     "status": "completed"
    },
    "tags": []
   },
   "outputs": [
    {
     "data": {
      "image/png": "[encoded data removed]",
      "text/plain": [
       "<Figure size 600x600 with 1 Axes>"
      ]
     },
     "metadata": {},
     "output_type": "display_data"
    }
   ],
   "source": [
    "# smoker column\n",
    "plt.figure(figsize=(6,6))\n",
    "sns.countplot(x='smoker',data=data)\n",
    "plt.title(\"Smoker distribution\")\n",
    "plt.show()"
   ]
  },
  {
   "cell_type": "code",
   "execution_count": 15,
   "id": "4a458b5f",
   "metadata": {
    "execution": {
     "iopub.execute_input": "2024-04-01T14:42:26.034395Z",
     "iopub.status.busy": "2024-04-01T14:42:26.033968Z",
     "iopub.status.idle": "2024-04-01T14:42:26.042757Z",
     "shell.execute_reply": "2024-04-01T14:42:26.041702Z"
    },
    "papermill": {
     "duration": 0.024689,
     "end_time": "2024-04-01T14:42:26.044901",
     "exception": false,
     "start_time": "2024-04-01T14:42:26.020212",
     "status": "completed"
    },
    "tags": []
   },
   "outputs": [
    {
     "data": {
      "text/plain": [
       "smoker\n",
       "no     1064\n",
       "yes     274\n",
       "Name: count, dtype: int64"
      ]
     },
     "execution_count": 15,
     "metadata": {},
     "output_type": "execute_result"
    }
   ],
   "source": [
    "data['smoker'].value_counts()"
   ]
  },
  {
   "cell_type": "code",
   "execution_count": 16,
   "id": "cecd1caf",
   "metadata": {
    "execution": {
     "iopub.execute_input": "2024-04-01T14:42:26.071623Z",
     "iopub.status.busy": "2024-04-01T14:42:26.071220Z",
     "iopub.status.idle": "2024-04-01T14:42:26.307492Z",
     "shell.execute_reply": "2024-04-01T14:42:26.305138Z"
    },
    "papermill": {
     "duration": 0.252711,
     "end_time": "2024-04-01T14:42:26.310157",
     "exception": false,
     "start_time": "2024-04-01T14:42:26.057446",
     "status": "completed"
    },
    "tags": []
   },
   "outputs": [
    {
     "data": {
      "image/png": "[encoded data removed]",
      "text/plain": [
       "<Figure size 600x600 with 1 Axes>"
      ]
     },
     "metadata": {},
     "output_type": "display_data"
    }
   ],
   "source": [
    "# region column\n",
    "plt.figure(figsize=(6,6))\n",
    "sns.countplot(x='region',data=data)\n",
    "plt.title(\"Region distribution\")\n",
    "plt.show()"
   ]
  },
  {
   "cell_type": "code",
   "execution_count": 17,
   "id": "8a631bc5",
   "metadata": {
    "execution": {
     "iopub.execute_input": "2024-04-01T14:42:26.337367Z",
     "iopub.status.busy": "2024-04-01T14:42:26.336965Z",
     "iopub.status.idle": "2024-04-01T14:42:26.344841Z",
     "shell.execute_reply": "2024-04-01T14:42:26.344060Z"
    },
    "papermill": {
     "duration": 0.023989,
     "end_time": "2024-04-01T14:42:26.346943",
     "exception": false,
     "start_time": "2024-04-01T14:42:26.322954",
     "status": "completed"
    },
    "tags": []
   },
   "outputs": [
    {
     "data": {
      "text/plain": [
       "region\n",
       "southeast    364\n",
       "southwest    325\n",
       "northwest    325\n",
       "northeast    324\n",
       "Name: count, dtype: int64"
      ]
     },
     "execution_count": 17,
     "metadata": {},
     "output_type": "execute_result"
    }
   ],
   "source": [
    "data['region'].value_counts()"
   ]
  },
  {
   "cell_type": "code",
   "execution_count": 18,
   "id": "9e4b57c1",
   "metadata": {
    "execution": {
     "iopub.execute_input": "2024-04-01T14:42:26.374906Z",
     "iopub.status.busy": "2024-04-01T14:42:26.374181Z",
     "iopub.status.idle": "2024-04-01T14:42:26.833275Z",
     "shell.execute_reply": "2024-04-01T14:42:26.832030Z"
    },
    "papermill": {
     "duration": 0.475989,
     "end_time": "2024-04-01T14:42:26.835816",
     "exception": false,
     "start_time": "2024-04-01T14:42:26.359827",
     "status": "completed"
    },
    "tags": []
   },
   "outputs": [
    {
     "name": "stderr",
     "output_type": "stream",
     "text": [
      "/tmp/ipykernel_18/1423672458.py:3: UserWarning: \n",
      "\n",
      "`distplot` is a deprecated function and will be removed in seaborn v0.14.0.\n",
      "\n",
      "Please adapt your code to use either `displot` (a figure-level function with\n",
      "similar flexibility) or `histplot` (an axes-level function for histograms).\n",
      "\n",
      "For a guide to updating your code to use the new functions, please see\n",
      "https://gist.github.com/mwaskom/de44147ed2974457ad6372750bbe5751\n",
      "\n",
      "  sns.distplot(data['charges'])\n",
      "/opt/conda/lib/python3.10/site-packages/seaborn/_oldcore.py:1119: FutureWarning: use_inf_as_na option is deprecated and will be removed in a future version. Convert inf values to NaN before operating instead.\n",
      "  with pd.option_context('mode.use_inf_as_na', True):\n"
     ]
    },
    {
     "data": {
      "image/png": "[encoded data removed]",
      "text/plain": [
       "<Figure size 600x600 with 1 Axes>"
      ]
     },
     "metadata": {},
     "output_type": "display_data"
    }
   ],
   "source": [
    "# distribution of charges value\n",
    "plt.figure(figsize=(6,6))\n",
    "sns.distplot(data['charges'])\n",
    "plt.title('Charges Distribution')\n",
    "plt.show()"
   ]
  },
  {
   "cell_type": "markdown",
   "id": "46dbabdb",
   "metadata": {
    "papermill": {
     "duration": 0.013637,
     "end_time": "2024-04-01T14:42:26.863511",
     "exception": false,
     "start_time": "2024-04-01T14:42:26.849874",
     "status": "completed"
    },
    "tags": []
   },
   "source": [
    "# **Data Pre-Processing**"
   ]
  },
  {
   "cell_type": "markdown",
   "id": "03825873",
   "metadata": {
    "papermill": {
     "duration": 0.01334,
     "end_time": "2024-04-01T14:42:26.890481",
     "exception": false,
     "start_time": "2024-04-01T14:42:26.877141",
     "status": "completed"
    },
    "tags": []
   },
   "source": [
    "**Encoding the categorical features**"
   ]
  },
  {
   "cell_type": "code",
   "execution_count": 19,
   "id": "9bb555c6",
   "metadata": {
    "execution": {
     "iopub.execute_input": "2024-04-01T14:42:26.919386Z",
     "iopub.status.busy": "2024-04-01T14:42:26.918963Z",
     "iopub.status.idle": "2024-04-01T14:42:26.932922Z",
     "shell.execute_reply": "2024-04-01T14:42:26.931716Z"
    },
    "papermill": {
     "duration": 0.031096,
     "end_time": "2024-04-01T14:42:26.935274",
     "exception": false,
     "start_time": "2024-04-01T14:42:26.904178",
     "status": "completed"
    },
    "tags": []
   },
   "outputs": [
    {
     "name": "stderr",
     "output_type": "stream",
     "text": [
      "/tmp/ipykernel_18/1129895356.py:2: FutureWarning: Downcasting behavior in `replace` is deprecated and will be removed in a future version. To retain the old behavior, explicitly call `result.infer_objects(copy=False)`. To opt-in to the future behavior, set `pd.set_option('future.no_silent_downcasting', True)`\n",
      "  data.replace({'sex':{'male':0,'female':1}},inplace=True)\n",
      "/tmp/ipykernel_18/1129895356.py:4: FutureWarning: Downcasting behavior in `replace` is deprecated and will be removed in a future version. To retain the old behavior, explicitly call `result.infer_objects(copy=False)`. To opt-in to the future behavior, set `pd.set_option('future.no_silent_downcasting', True)`\n",
      "  data.replace({'smoker':{'yes':0,'no':1}},inplace=True)\n",
      "/tmp/ipykernel_18/1129895356.py:6: FutureWarning: Downcasting behavior in `replace` is deprecated and will be removed in a future version. To retain the old behavior, explicitly call `result.infer_objects(copy=False)`. To opt-in to the future behavior, set `pd.set_option('future.no_silent_downcasting', True)`\n",
      "  data.replace({'region':{'southeast':0,'southwest':1,'northeast':2,'northwest':3}},inplace=True)\n"
     ]
    }
   ],
   "source": [
    "# encoding sex column\n",
    "data.replace({'sex':{'male':0,'female':1}},inplace=True)\n",
    "# encoding 'smoker' column\n",
    "data.replace({'smoker':{'yes':0,'no':1}},inplace=True)\n",
    "# encoding 'region' column\n",
    "data.replace({'region':{'southeast':0,'southwest':1,'northeast':2,'northwest':3}},inplace=True)"
   ]
  },
  {
   "cell_type": "code",
   "execution_count": 20,
   "id": "c3471642",
   "metadata": {
    "execution": {
     "iopub.execute_input": "2024-04-01T14:42:26.964320Z",
     "iopub.status.busy": "2024-04-01T14:42:26.963924Z",
     "iopub.status.idle": "2024-04-01T14:42:26.976749Z",
     "shell.execute_reply": "2024-04-01T14:42:26.975650Z"
    },
    "papermill": {
     "duration": 0.030042,
     "end_time": "2024-04-01T14:42:26.978828",
     "exception": false,
     "start_time": "2024-04-01T14:42:26.948786",
     "status": "completed"
    },
    "tags": []
   },
   "outputs": [
    {
     "data": {
      "text/html": [
       "<div>\n",
       "<style scoped>\n",
       "    .dataframe tbody tr th:only-of-type {\n",
       "        vertical-align: middle;\n",
       "    }\n",
       "\n",
       "    .dataframe tbody tr th {\n",
       "        vertical-align: top;\n",
       "    }\n",
       "\n",
       "    .dataframe thead th {\n",
       "        text-align: right;\n",
       "    }\n",
       "</style>\n",
       "<table border=\"1\" class=\"dataframe\">\n",
       "  <thead>\n",
       "    <tr style=\"text-align: right;\">\n",
       "      <th></th>\n",
       "      <th>age</th>\n",
       "      <th>sex</th>\n",
       "      <th>bmi</th>\n",
       "      <th>children</th>\n",
       "      <th>smoker</th>\n",
       "      <th>region</th>\n",
       "      <th>charges</th>\n",
       "    </tr>\n",
       "  </thead>\n",
       "  <tbody>\n",
       "    <tr>\n",
       "      <th>1333</th>\n",
       "      <td>50</td>\n",
       "      <td>0</td>\n",
       "      <td>30.97</td>\n",
       "      <td>3</td>\n",
       "      <td>1</td>\n",
       "      <td>3</td>\n",
       "      <td>10600.5483</td>\n",
       "    </tr>\n",
       "    <tr>\n",
       "      <th>1334</th>\n",
       "      <td>18</td>\n",
       "      <td>1</td>\n",
       "      <td>31.92</td>\n",
       "      <td>0</td>\n",
       "      <td>1</td>\n",
       "      <td>2</td>\n",
       "      <td>2205.9808</td>\n",
       "    </tr>\n",
       "    <tr>\n",
       "      <th>1335</th>\n",
       "      <td>18</td>\n",
       "      <td>1</td>\n",
       "      <td>36.85</td>\n",
       "      <td>0</td>\n",
       "      <td>1</td>\n",
       "      <td>0</td>\n",
       "      <td>1629.8335</td>\n",
       "    </tr>\n",
       "    <tr>\n",
       "      <th>1336</th>\n",
       "      <td>21</td>\n",
       "      <td>1</td>\n",
       "      <td>25.80</td>\n",
       "      <td>0</td>\n",
       "      <td>1</td>\n",
       "      <td>1</td>\n",
       "      <td>2007.9450</td>\n",
       "    </tr>\n",
       "    <tr>\n",
       "      <th>1337</th>\n",
       "      <td>61</td>\n",
       "      <td>1</td>\n",
       "      <td>29.07</td>\n",
       "      <td>0</td>\n",
       "      <td>0</td>\n",
       "      <td>3</td>\n",
       "      <td>29141.3603</td>\n",
       "    </tr>\n",
       "  </tbody>\n",
       "</table>\n",
       "</div>"
      ],
      "text/plain": [
       "      age  sex    bmi  children  smoker  region     charges\n",
       "1333   50    0  30.97         3       1       3  10600.5483\n",
       "1334   18    1  31.92         0       1       2   2205.9808\n",
       "1335   18    1  36.85         0       1       0   1629.8335\n",
       "1336   21    1  25.80         0       1       1   2007.9450\n",
       "1337   61    1  29.07         0       0       3  29141.3603"
      ]
     },
     "execution_count": 20,
     "metadata": {},
     "output_type": "execute_result"
    }
   ],
   "source": [
    "data.tail()"
   ]
  },
  {
   "cell_type": "markdown",
   "id": "ea930735",
   "metadata": {
    "papermill": {
     "duration": 0.014361,
     "end_time": "2024-04-01T14:42:27.007132",
     "exception": false,
     "start_time": "2024-04-01T14:42:26.992771",
     "status": "completed"
    },
    "tags": []
   },
   "source": [
    "# **Splitting the Features and Target**"
   ]
  },
  {
   "cell_type": "code",
   "execution_count": 21,
   "id": "39e2abb2",
   "metadata": {
    "execution": {
     "iopub.execute_input": "2024-04-01T14:42:27.096745Z",
     "iopub.status.busy": "2024-04-01T14:42:27.096386Z",
     "iopub.status.idle": "2024-04-01T14:42:27.103570Z",
     "shell.execute_reply": "2024-04-01T14:42:27.102315Z"
    },
    "papermill": {
     "duration": 0.025161,
     "end_time": "2024-04-01T14:42:27.106084",
     "exception": false,
     "start_time": "2024-04-01T14:42:27.080923",
     "status": "completed"
    },
    "tags": []
   },
   "outputs": [],
   "source": [
    "X=data.drop(columns='charges',axis=1)\n",
    "Y=data['charges']"
   ]
  },
  {
   "cell_type": "code",
   "execution_count": 22,
   "id": "207c6a1e",
   "metadata": {
    "execution": {
     "iopub.execute_input": "2024-04-01T14:42:27.137757Z",
     "iopub.status.busy": "2024-04-01T14:42:27.136430Z",
     "iopub.status.idle": "2024-04-01T14:42:27.146262Z",
     "shell.execute_reply": "2024-04-01T14:42:27.145140Z"
    },
    "papermill": {
     "duration": 0.028337,
     "end_time": "2024-04-01T14:42:27.148551",
     "exception": false,
     "start_time": "2024-04-01T14:42:27.120214",
     "status": "completed"
    },
    "tags": []
   },
   "outputs": [
    {
     "name": "stdout",
     "output_type": "stream",
     "text": [
      "      age  sex     bmi  children  smoker  region\n",
      "0      19    1  27.900         0       0       1\n",
      "1      18    0  33.770         1       1       0\n",
      "2      28    0  33.000         3       1       0\n",
      "3      33    0  22.705         0       1       3\n",
      "4      32    0  28.880         0       1       3\n",
      "...   ...  ...     ...       ...     ...     ...\n",
      "1333   50    0  30.970         3       1       3\n",
      "1334   18    1  31.920         0       1       2\n",
      "1335   18    1  36.850         0       1       0\n",
      "1336   21    1  25.800         0       1       1\n",
      "1337   61    1  29.070         0       0       3\n",
      "\n",
      "[1338 rows x 6 columns]\n"
     ]
    }
   ],
   "source": [
    "print(X)"
   ]
  },
  {
   "cell_type": "code",
   "execution_count": 23,
   "id": "b317fb54",
   "metadata": {
    "execution": {
     "iopub.execute_input": "2024-04-01T14:42:27.178634Z",
     "iopub.status.busy": "2024-04-01T14:42:27.177972Z",
     "iopub.status.idle": "2024-04-01T14:42:27.186666Z",
     "shell.execute_reply": "2024-04-01T14:42:27.185487Z"
    },
    "papermill": {
     "duration": 0.026606,
     "end_time": "2024-04-01T14:42:27.189168",
     "exception": false,
     "start_time": "2024-04-01T14:42:27.162562",
     "status": "completed"
    },
    "tags": []
   },
   "outputs": [
    {
     "name": "stdout",
     "output_type": "stream",
     "text": [
      "0       16884.92400\n",
      "1        1725.55230\n",
      "2        4449.46200\n",
      "3       21984.47061\n",
      "4        3866.85520\n",
      "           ...     \n",
      "1333    10600.54830\n",
      "1334     2205.98080\n",
      "1335     1629.83350\n",
      "1336     2007.94500\n",
      "1337    29141.36030\n",
      "Name: charges, Length: 1338, dtype: float64\n"
     ]
    }
   ],
   "source": [
    "print(Y)"
   ]
  },
  {
   "cell_type": "markdown",
   "id": "75a6f4b7",
   "metadata": {
    "papermill": {
     "duration": 0.014768,
     "end_time": "2024-04-01T14:42:27.218796",
     "exception": false,
     "start_time": "2024-04-01T14:42:27.204028",
     "status": "completed"
    },
    "tags": []
   },
   "source": [
    "# **Splitting the data into Training data & Testing Data**"
   ]
  },
  {
   "cell_type": "code",
   "execution_count": 24,
   "id": "ab784757",
   "metadata": {
    "execution": {
     "iopub.execute_input": "2024-04-01T14:42:27.249730Z",
     "iopub.status.busy": "2024-04-01T14:42:27.248690Z",
     "iopub.status.idle": "2024-04-01T14:42:27.258331Z",
     "shell.execute_reply": "2024-04-01T14:42:27.257171Z"
    },
    "papermill": {
     "duration": 0.027185,
     "end_time": "2024-04-01T14:42:27.260672",
     "exception": false,
     "start_time": "2024-04-01T14:42:27.233487",
     "status": "completed"
    },
    "tags": []
   },
   "outputs": [],
   "source": [
    "X_train,X_test,Y_train,Y_test=train_test_split(X,Y,test_size=0.3,random_state=3)"
   ]
  },
  {
   "cell_type": "code",
   "execution_count": 25,
   "id": "8d102ce2",
   "metadata": {
    "execution": {
     "iopub.execute_input": "2024-04-01T14:42:27.290943Z",
     "iopub.status.busy": "2024-04-01T14:42:27.290498Z",
     "iopub.status.idle": "2024-04-01T14:42:27.296737Z",
     "shell.execute_reply": "2024-04-01T14:42:27.295227Z"
    },
    "papermill": {
     "duration": 0.023838,
     "end_time": "2024-04-01T14:42:27.298848",
     "exception": false,
     "start_time": "2024-04-01T14:42:27.275010",
     "status": "completed"
    },
    "tags": []
   },
   "outputs": [
    {
     "name": "stdout",
     "output_type": "stream",
     "text": [
      "(1338, 6) (936, 6) (402, 6)\n"
     ]
    }
   ],
   "source": [
    "print(X.shape,X_train.shape,X_test.shape)"
   ]
  },
  {
   "cell_type": "markdown",
   "id": "115ebc24",
   "metadata": {
    "papermill": {
     "duration": 0.014169,
     "end_time": "2024-04-01T14:42:27.327868",
     "exception": false,
     "start_time": "2024-04-01T14:42:27.313699",
     "status": "completed"
    },
    "tags": []
   },
   "source": [
    "**Linear Regression**"
   ]
  },
  {
   "cell_type": "code",
   "execution_count": 26,
   "id": "089687f7",
   "metadata": {
    "execution": {
     "iopub.execute_input": "2024-04-01T14:42:27.358458Z",
     "iopub.status.busy": "2024-04-01T14:42:27.358054Z",
     "iopub.status.idle": "2024-04-01T14:42:27.363231Z",
     "shell.execute_reply": "2024-04-01T14:42:27.362050Z"
    },
    "papermill": {
     "duration": 0.023371,
     "end_time": "2024-04-01T14:42:27.365695",
     "exception": false,
     "start_time": "2024-04-01T14:42:27.342324",
     "status": "completed"
    },
    "tags": []
   },
   "outputs": [],
   "source": [
    "reg=LinearRegression()"
   ]
  },
  {
   "cell_type": "code",
   "execution_count": 27,
   "id": "08181ba8",
   "metadata": {
    "execution": {
     "iopub.execute_input": "2024-04-01T14:42:27.396540Z",
     "iopub.status.busy": "2024-04-01T14:42:27.396151Z",
     "iopub.status.idle": "2024-04-01T14:42:27.405354Z",
     "shell.execute_reply": "2024-04-01T14:42:27.404247Z"
    },
    "papermill": {
     "duration": 0.027014,
     "end_time": "2024-04-01T14:42:27.407498",
     "exception": false,
     "start_time": "2024-04-01T14:42:27.380484",
     "status": "completed"
    },
    "tags": []
   },
   "outputs": [
    {
     "data": {
      "text/html": [
       "<style>#sk-container-id-1 {color: black;background-color: white;}#sk-container-id-1 pre{padding: 0;}#sk-container-id-1 div.sk-toggleable {background-color: white;}#sk-container-id-1 label.sk-toggleable__label {cursor: pointer;display: block;width: 100%;margin-bottom: 0;padding: 0.3em;box-sizing: border-box;text-align: center;}#sk-container-id-1 label.sk-toggleable__label-arrow:before {content: \"▸\";float: left;margin-right: 0.25em;color: #696969;}#sk-container-id-1 label.sk-toggleable__label-arrow:hover:before {color: black;}#sk-container-id-1 div.sk-estimator:hover label.sk-toggleable__label-arrow:before {color: black;}#sk-container-id-1 div.sk-toggleable__content {max-height: 0;max-width: 0;overflow: hidden;text-align: left;background-color: #f0f8ff;}#sk-container-id-1 div.sk-toggleable__content pre {margin: 0.2em;color: black;border-radius: 0.25em;background-color: #f0f8ff;}#sk-container-id-1 input.sk-toggleable__control:checked~div.sk-toggleable__content {max-height: 200px;max-width: 100%;overflow: auto;}#sk-container-id-1 input.sk-toggleable__control:checked~label.sk-toggleable__label-arrow:before {content: \"▾\";}#sk-container-id-1 div.sk-estimator input.sk-toggleable__control:checked~label.sk-toggleable__label {background-color: #d4ebff;}#sk-container-id-1 div.sk-label input.sk-toggleable__control:checked~label.sk-toggleable__label {background-color: #d4ebff;}#sk-container-id-1 input.sk-hidden--visually {border: 0;clip: rect(1px 1px 1px 1px);clip: rect(1px, 1px, 1px, 1px);height: 1px;margin: -1px;overflow: hidden;padding: 0;position: absolute;width: 1px;}#sk-container-id-1 div.sk-estimator {font-family: monospace;background-color: #f0f8ff;border: 1px dotted black;border-radius: 0.25em;box-sizing: border-box;margin-bottom: 0.5em;}#sk-container-id-1 div.sk-estimator:hover {background-color: #d4ebff;}#sk-container-id-1 div.sk-parallel-item::after {content: \"\";width: 100%;border-bottom: 1px solid gray;flex-grow: 1;}#sk-container-id-1 div.sk-label:hover label.sk-toggleable__label {background-color: #d4ebff;}#sk-container-id-1 div.sk-serial::before {content: \"\";position: absolute;border-left: 1px solid gray;box-sizing: border-box;top: 0;bottom: 0;left: 50%;z-index: 0;}#sk-container-id-1 div.sk-serial {display: flex;flex-direction: column;align-items: center;background-color: white;padding-right: 0.2em;padding-left: 0.2em;position: relative;}#sk-container-id-1 div.sk-item {position: relative;z-index: 1;}#sk-container-id-1 div.sk-parallel {display: flex;align-items: stretch;justify-content: center;background-color: white;position: relative;}#sk-container-id-1 div.sk-item::before, #sk-container-id-1 div.sk-parallel-item::before {content: \"\";position: absolute;border-left: 1px solid gray;box-sizing: border-box;top: 0;bottom: 0;left: 50%;z-index: -1;}#sk-container-id-1 div.sk-parallel-item {display: flex;flex-direction: column;z-index: 1;position: relative;background-color: white;}#sk-container-id-1 div.sk-parallel-item:first-child::after {align-self: flex-end;width: 50%;}#sk-container-id-1 div.sk-parallel-item:last-child::after {align-self: flex-start;width: 50%;}#sk-container-id-1 div.sk-parallel-item:only-child::after {width: 0;}#sk-container-id-1 div.sk-dashed-wrapped {border: 1px dashed gray;margin: 0 0.4em 0.5em 0.4em;box-sizing: border-box;padding-bottom: 0.4em;background-color: white;}#sk-container-id-1 div.sk-label label {font-family: monospace;font-weight: bold;display: inline-block;line-height: 1.2em;}#sk-container-id-1 div.sk-label-container {text-align: center;}#sk-container-id-1 div.sk-container {/* jupyter's `normalize.less` sets `[hidden] { display: none; }` but bootstrap.min.css set `[hidden] { display: none !important; }` so we also need the `!important` here to be able to override the default hidden behavior on the sphinx rendered scikit-learn.org. See: https://github.com/scikit-learn/scikit-learn/issues/21755 */display: inline-block !important;position: relative;}#sk-container-id-1 div.sk-text-repr-fallback {display: none;}</style><div id=\"sk-container-id-1\" class=\"sk-top-container\"><div class=\"sk-text-repr-fallback\"><pre>LinearRegression()</pre><b>In a Jupyter environment, please rerun this cell to show the HTML representation or trust the notebook. <br />On GitHub, the HTML representation is unable to render, please try loading this page with nbviewer.org.</b></div><div class=\"sk-container\" hidden><div class=\"sk-item\"><div class=\"sk-estimator sk-toggleable\"><input class=\"sk-toggleable__control sk-hidden--visually\" id=\"sk-estimator-id-1\" type=\"checkbox\" checked><label for=\"sk-estimator-id-1\" class=\"sk-toggleable__label sk-toggleable__label-arrow\">LinearRegression</label><div class=\"sk-toggleable__content\"><pre>LinearRegression()</pre></div></div></div></div></div>"
      ],
      "text/plain": [
       "LinearRegression()"
      ]
     },
     "execution_count": 27,
     "metadata": {},
     "output_type": "execute_result"
    }
   ],
   "source": [
    "reg"
   ]
  },
  {
   "cell_type": "code",
   "execution_count": 28,
   "id": "b0989ead",
   "metadata": {
    "execution": {
     "iopub.execute_input": "2024-04-01T14:42:27.439605Z",
     "iopub.status.busy": "2024-04-01T14:42:27.439242Z",
     "iopub.status.idle": "2024-04-01T14:42:27.466501Z",
     "shell.execute_reply": "2024-04-01T14:42:27.465319Z"
    },
    "papermill": {
     "duration": 0.046267,
     "end_time": "2024-04-01T14:42:27.468838",
     "exception": false,
     "start_time": "2024-04-01T14:42:27.422571",
     "status": "completed"
    },
    "tags": []
   },
   "outputs": [
    {
     "data": {
      "text/html": [
       "<style>#sk-container-id-2 {color: black;background-color: white;}#sk-container-id-2 pre{padding: 0;}#sk-container-id-2 div.sk-toggleable {background-color: white;}#sk-container-id-2 label.sk-toggleable__label {cursor: pointer;display: block;width: 100%;margin-bottom: 0;padding: 0.3em;box-sizing: border-box;text-align: center;}#sk-container-id-2 label.sk-toggleable__label-arrow:before {content: \"▸\";float: left;margin-right: 0.25em;color: #696969;}#sk-container-id-2 label.sk-toggleable__label-arrow:hover:before {color: black;}#sk-container-id-2 div.sk-estimator:hover label.sk-toggleable__label-arrow:before {color: black;}#sk-container-id-2 div.sk-toggleable__content {max-height: 0;max-width: 0;overflow: hidden;text-align: left;background-color: #f0f8ff;}#sk-container-id-2 div.sk-toggleable__content pre {margin: 0.2em;color: black;border-radius: 0.25em;background-color: #f0f8ff;}#sk-container-id-2 input.sk-toggleable__control:checked~div.sk-toggleable__content {max-height: 200px;max-width: 100%;overflow: auto;}#sk-container-id-2 input.sk-toggleable__control:checked~label.sk-toggleable__label-arrow:before {content: \"▾\";}#sk-container-id-2 div.sk-estimator input.sk-toggleable__control:checked~label.sk-toggleable__label {background-color: #d4ebff;}#sk-container-id-2 div.sk-label input.sk-toggleable__control:checked~label.sk-toggleable__label {background-color: #d4ebff;}#sk-container-id-2 input.sk-hidden--visually {border: 0;clip: rect(1px 1px 1px 1px);clip: rect(1px, 1px, 1px, 1px);height: 1px;margin: -1px;overflow: hidden;padding: 0;position: absolute;width: 1px;}#sk-container-id-2 div.sk-estimator {font-family: monospace;background-color: #f0f8ff;border: 1px dotted black;border-radius: 0.25em;box-sizing: border-box;margin-bottom: 0.5em;}#sk-container-id-2 div.sk-estimator:hover {background-color: #d4ebff;}#sk-container-id-2 div.sk-parallel-item::after {content: \"\";width: 100%;border-bottom: 1px solid gray;flex-grow: 1;}#sk-container-id-2 div.sk-label:hover label.sk-toggleable__label {background-color: #d4ebff;}#sk-container-id-2 div.sk-serial::before {content: \"\";position: absolute;border-left: 1px solid gray;box-sizing: border-box;top: 0;bottom: 0;left: 50%;z-index: 0;}#sk-container-id-2 div.sk-serial {display: flex;flex-direction: column;align-items: center;background-color: white;padding-right: 0.2em;padding-left: 0.2em;position: relative;}#sk-container-id-2 div.sk-item {position: relative;z-index: 1;}#sk-container-id-2 div.sk-parallel {display: flex;align-items: stretch;justify-content: center;background-color: white;position: relative;}#sk-container-id-2 div.sk-item::before, #sk-container-id-2 div.sk-parallel-item::before {content: \"\";position: absolute;border-left: 1px solid gray;box-sizing: border-box;top: 0;bottom: 0;left: 50%;z-index: -1;}#sk-container-id-2 div.sk-parallel-item {display: flex;flex-direction: column;z-index: 1;position: relative;background-color: white;}#sk-container-id-2 div.sk-parallel-item:first-child::after {align-self: flex-end;width: 50%;}#sk-container-id-2 div.sk-parallel-item:last-child::after {align-self: flex-start;width: 50%;}#sk-container-id-2 div.sk-parallel-item:only-child::after {width: 0;}#sk-container-id-2 div.sk-dashed-wrapped {border: 1px dashed gray;margin: 0 0.4em 0.5em 0.4em;box-sizing: border-box;padding-bottom: 0.4em;background-color: white;}#sk-container-id-2 div.sk-label label {font-family: monospace;font-weight: bold;display: inline-block;line-height: 1.2em;}#sk-container-id-2 div.sk-label-container {text-align: center;}#sk-container-id-2 div.sk-container {/* jupyter's `normalize.less` sets `[hidden] { display: none; }` but bootstrap.min.css set `[hidden] { display: none !important; }` so we also need the `!important` here to be able to override the default hidden behavior on the sphinx rendered scikit-learn.org. See: https://github.com/scikit-learn/scikit-learn/issues/21755 */display: inline-block !important;position: relative;}#sk-container-id-2 div.sk-text-repr-fallback {display: none;}</style><div id=\"sk-container-id-2\" class=\"sk-top-container\"><div class=\"sk-text-repr-fallback\"><pre>LinearRegression()</pre><b>In a Jupyter environment, please rerun this cell to show the HTML representation or trust the notebook. <br />On GitHub, the HTML representation is unable to render, please try loading this page with nbviewer.org.</b></div><div class=\"sk-container\" hidden><div class=\"sk-item\"><div class=\"sk-estimator sk-toggleable\"><input class=\"sk-toggleable__control sk-hidden--visually\" id=\"sk-estimator-id-2\" type=\"checkbox\" checked><label for=\"sk-estimator-id-2\" class=\"sk-toggleable__label sk-toggleable__label-arrow\">LinearRegression</label><div class=\"sk-toggleable__content\"><pre>LinearRegression()</pre></div></div></div></div></div>"
      ],
      "text/plain": [
       "LinearRegression()"
      ]
     },
     "execution_count": 28,
     "metadata": {},
     "output_type": "execute_result"
    }
   ],
   "source": [
    "reg.fit(X_train,Y_train)"
   ]
  },
  {
   "cell_type": "markdown",
   "id": "001e1599",
   "metadata": {
    "papermill": {
     "duration": 0.015267,
     "end_time": "2024-04-01T14:42:27.499548",
     "exception": false,
     "start_time": "2024-04-01T14:42:27.484281",
     "status": "completed"
    },
    "tags": []
   },
   "source": [
    "**Model Evaluation**"
   ]
  },
  {
   "cell_type": "code",
   "execution_count": 29,
   "id": "15addaa7",
   "metadata": {
    "execution": {
     "iopub.execute_input": "2024-04-01T14:42:27.532563Z",
     "iopub.status.busy": "2024-04-01T14:42:27.531825Z",
     "iopub.status.idle": "2024-04-01T14:42:27.538284Z",
     "shell.execute_reply": "2024-04-01T14:42:27.537387Z"
    },
    "papermill": {
     "duration": 0.024815,
     "end_time": "2024-04-01T14:42:27.540354",
     "exception": false,
     "start_time": "2024-04-01T14:42:27.515539",
     "status": "completed"
    },
    "tags": []
   },
   "outputs": [],
   "source": [
    "# prediction on training data\n",
    "training_data_prediction=reg.predict(X_train)"
   ]
  },
  {
   "cell_type": "code",
   "execution_count": 30,
   "id": "207e25ad",
   "metadata": {
    "execution": {
     "iopub.execute_input": "2024-04-01T14:42:27.572671Z",
     "iopub.status.busy": "2024-04-01T14:42:27.572303Z",
     "iopub.status.idle": "2024-04-01T14:42:27.579127Z",
     "shell.execute_reply": "2024-04-01T14:42:27.577911Z"
    },
    "papermill": {
     "duration": 0.026109,
     "end_time": "2024-04-01T14:42:27.581715",
     "exception": false,
     "start_time": "2024-04-01T14:42:27.555606",
     "status": "completed"
    },
    "tags": []
   },
   "outputs": [
    {
     "name": "stdout",
     "output_type": "stream",
     "text": [
      "R squared vale :  0.7574340926271486\n"
     ]
    }
   ],
   "source": [
    "# R squared value\n",
    "r2_train = metrics.r2_score(Y_train, training_data_prediction)\n",
    "print('R squared vale : ', r2_train)"
   ]
  },
  {
   "cell_type": "code",
   "execution_count": 31,
   "id": "8c66be7a",
   "metadata": {
    "execution": {
     "iopub.execute_input": "2024-04-01T14:42:27.614433Z",
     "iopub.status.busy": "2024-04-01T14:42:27.613593Z",
     "iopub.status.idle": "2024-04-01T14:42:27.620494Z",
     "shell.execute_reply": "2024-04-01T14:42:27.619293Z"
    },
    "papermill": {
     "duration": 0.025496,
     "end_time": "2024-04-01T14:42:27.622699",
     "exception": false,
     "start_time": "2024-04-01T14:42:27.597203",
     "status": "completed"
    },
    "tags": []
   },
   "outputs": [],
   "source": [
    "# prediction on test data\n",
    "test_data_prediction =reg.predict(X_test)"
   ]
  },
  {
   "cell_type": "code",
   "execution_count": 32,
   "id": "3112185e",
   "metadata": {
    "execution": {
     "iopub.execute_input": "2024-04-01T14:42:27.654542Z",
     "iopub.status.busy": "2024-04-01T14:42:27.654178Z",
     "iopub.status.idle": "2024-04-01T14:42:27.660636Z",
     "shell.execute_reply": "2024-04-01T14:42:27.659449Z"
    },
    "papermill": {
     "duration": 0.025412,
     "end_time": "2024-04-01T14:42:27.663129",
     "exception": false,
     "start_time": "2024-04-01T14:42:27.637717",
     "status": "completed"
    },
    "tags": []
   },
   "outputs": [
    {
     "name": "stdout",
     "output_type": "stream",
     "text": [
      "R squared vale :  0.7318630535235594\n"
     ]
    }
   ],
   "source": [
    "# R squared value\n",
    "r2_test = metrics.r2_score(Y_test, test_data_prediction)\n",
    "print('R squared vale : ', r2_test)"
   ]
  },
  {
   "cell_type": "markdown",
   "id": "a5ad4f66",
   "metadata": {
    "papermill": {
     "duration": 0.015263,
     "end_time": "2024-04-01T14:42:27.693304",
     "exception": false,
     "start_time": "2024-04-01T14:42:27.678041",
     "status": "completed"
    },
    "tags": []
   },
   "source": [
    "# Building a Predictive System"
   ]
  },
  {
   "cell_type": "code",
   "execution_count": 33,
   "id": "1c58746e",
   "metadata": {
    "execution": {
     "iopub.execute_input": "2024-04-01T14:42:27.726335Z",
     "iopub.status.busy": "2024-04-01T14:42:27.725934Z",
     "iopub.status.idle": "2024-04-01T14:42:27.735299Z",
     "shell.execute_reply": "2024-04-01T14:42:27.733862Z"
    },
    "papermill": {
     "duration": 0.029056,
     "end_time": "2024-04-01T14:42:27.737628",
     "exception": false,
     "start_time": "2024-04-01T14:42:27.708572",
     "status": "completed"
    },
    "tags": []
   },
   "outputs": [
    {
     "name": "stdout",
     "output_type": "stream",
     "text": [
      "[3776.26152817]\n",
      "The insurance cost is USD  3776.261528166704\n"
     ]
    },
    {
     "name": "stderr",
     "output_type": "stream",
     "text": [
      "/opt/conda/lib/python3.10/site-packages/sklearn/base.py:439: UserWarning: X does not have valid feature names, but LinearRegression was fitted with feature names\n",
      "  warnings.warn(\n"
     ]
    }
   ],
   "source": [
    "input_data = (31,1,25.74,0,1,0)\n",
    "\n",
    "# changing input_data to a numpy array\n",
    "input_data_as_numpy_array = np.asarray(input_data)\n",
    "\n",
    "# reshape the array\n",
    "input_data_reshaped = input_data_as_numpy_array.reshape(1,-1)\n",
    "\n",
    "prediction = reg.predict(input_data_reshaped)\n",
    "print(prediction)\n",
    "\n",
    "print('The insurance cost is USD ', prediction[0])"
   ]
  },
  {
   "cell_type": "code",
   "execution_count": null,
   "id": "3397322e",
   "metadata": {
    "papermill": {
     "duration": 0.015106,
     "end_time": "2024-04-01T14:42:27.769496",
     "exception": false,
     "start_time": "2024-04-01T14:42:27.754390",
     "status": "completed"
    },
    "tags": []
   },
   "outputs": [],
   "source": []
  }
 ],
 "metadata": {
  "kaggle": {
   "accelerator": "none",
   "dataSources": [
    {
     "datasetId": 13720,
     "sourceId": 18513,
     "sourceType": "datasetVersion"
    }
   ],
   "dockerImageVersionId": 30673,
   "isGpuEnabled": false,
   "isInternetEnabled": false,
   "language": "python",
   "sourceType": "notebook"
  },
  "kernelspec": {
   "display_name": "Python 3",
   "language": "python",
   "name": "python3"
  },
  "language_info": {
   "codemirror_mode": {
    "name": "ipython",
    "version": 3
   },
   "file_extension": ".py",
   "mimetype": "text/x-python",
   "name": "python",
   "nbconvert_exporter": "python",
   "pygments_lexer": "ipython3",
   "version": "3.10.13"
  },
  "papermill": {
   "default_parameters": {},
   "duration": 9.691222,
   "end_time": "2024-04-01T14:42:28.406598",
   "environment_variables": {},
   "exception": null,
   "input_path": "__notebook__.ipynb",
   "output_path": "__notebook__.ipynb",
   "parameters": {},
   "start_time": "2024-04-01T14:42:18.715376",
   "version": "2.5.0"
  }
 },
 "nbformat": 4,
 "nbformat_minor": 5
}
