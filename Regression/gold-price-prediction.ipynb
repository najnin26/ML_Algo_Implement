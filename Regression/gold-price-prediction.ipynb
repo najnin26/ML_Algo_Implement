{
 "cells": [
  {
   "cell_type": "markdown",
   "id": "d41b791a",
   "metadata": {
    "id": "Guy3HuA6X7h8",
    "papermill": {
     "duration": 0.00762,
     "end_time": "2024-03-29T11:02:33.580414",
     "exception": false,
     "start_time": "2024-03-29T11:02:33.572794",
     "status": "completed"
    },
    "tags": []
   },
   "source": [
    "**Importing the Libraries**\n"
   ]
  },
  {
   "cell_type": "code",
   "execution_count": 1,
   "id": "64901078",
   "metadata": {
    "execution": {
     "iopub.execute_input": "2024-03-29T11:02:33.597243Z",
     "iopub.status.busy": "2024-03-29T11:02:33.596552Z",
     "iopub.status.idle": "2024-03-29T11:02:36.547274Z",
     "shell.execute_reply": "2024-03-29T11:02:36.545982Z"
    },
    "id": "bWqjbhKiXWMy",
    "papermill": {
     "duration": 2.962388,
     "end_time": "2024-03-29T11:02:36.550439",
     "exception": false,
     "start_time": "2024-03-29T11:02:33.588051",
     "status": "completed"
    },
    "tags": []
   },
   "outputs": [],
   "source": [
    "import numpy as np\n",
    "import pandas as pd\n",
    "import matplotlib.pyplot as plt\n",
    "import seaborn as sns\n",
    "from sklearn.model_selection import train_test_split\n",
    "from sklearn.ensemble import RandomForestRegressor\n",
    "from sklearn import metrics"
   ]
  },
  {
   "cell_type": "markdown",
   "id": "1b5201ae",
   "metadata": {
    "id": "OFKg46SzYR9m",
    "papermill": {
     "duration": 0.006806,
     "end_time": "2024-03-29T11:02:36.564330",
     "exception": false,
     "start_time": "2024-03-29T11:02:36.557524",
     "status": "completed"
    },
    "tags": []
   },
   "source": [
    "**Data Collection and Processing**"
   ]
  },
  {
   "cell_type": "code",
   "execution_count": 2,
   "id": "35f302dd",
   "metadata": {
    "execution": {
     "iopub.execute_input": "2024-03-29T11:02:36.580646Z",
     "iopub.status.busy": "2024-03-29T11:02:36.580127Z",
     "iopub.status.idle": "2024-03-29T11:02:36.608091Z",
     "shell.execute_reply": "2024-03-29T11:02:36.606894Z"
    },
    "id": "4VG_5EYLYYJO",
    "papermill": {
     "duration": 0.038898,
     "end_time": "2024-03-29T11:02:36.610659",
     "exception": false,
     "start_time": "2024-03-29T11:02:36.571761",
     "status": "completed"
    },
    "tags": []
   },
   "outputs": [],
   "source": [
    "gold_data=pd.read_csv('/kaggle/input/gold-price-data/gld_price_data.csv')"
   ]
  },
  {
   "cell_type": "code",
   "execution_count": 3,
   "id": "0a943193",
   "metadata": {
    "execution": {
     "iopub.execute_input": "2024-03-29T11:02:36.627144Z",
     "iopub.status.busy": "2024-03-29T11:02:36.626434Z",
     "iopub.status.idle": "2024-03-29T11:02:36.650995Z",
     "shell.execute_reply": "2024-03-29T11:02:36.649613Z"
    },
    "id": "TsD5WL7kZNjY",
    "outputId": "7e5d6ff5-c238-4856-fa1e-065274c90e3f",
    "papermill": {
     "duration": 0.036007,
     "end_time": "2024-03-29T11:02:36.653798",
     "exception": false,
     "start_time": "2024-03-29T11:02:36.617791",
     "status": "completed"
    },
    "tags": []
   },
   "outputs": [
    {
     "data": {
      "text/html": [
       "<div>\n",
       "<style scoped>\n",
       "    .dataframe tbody tr th:only-of-type {\n",
       "        vertical-align: middle;\n",
       "    }\n",
       "\n",
       "    .dataframe tbody tr th {\n",
       "        vertical-align: top;\n",
       "    }\n",
       "\n",
       "    .dataframe thead th {\n",
       "        text-align: right;\n",
       "    }\n",
       "</style>\n",
       "<table border=\"1\" class=\"dataframe\">\n",
       "  <thead>\n",
       "    <tr style=\"text-align: right;\">\n",
       "      <th></th>\n",
       "      <th>Date</th>\n",
       "      <th>SPX</th>\n",
       "      <th>GLD</th>\n",
       "      <th>USO</th>\n",
       "      <th>SLV</th>\n",
       "      <th>EUR/USD</th>\n",
       "    </tr>\n",
       "  </thead>\n",
       "  <tbody>\n",
       "    <tr>\n",
       "      <th>0</th>\n",
       "      <td>1/2/2008</td>\n",
       "      <td>1447.160034</td>\n",
       "      <td>84.860001</td>\n",
       "      <td>78.470001</td>\n",
       "      <td>15.180</td>\n",
       "      <td>1.471692</td>\n",
       "    </tr>\n",
       "    <tr>\n",
       "      <th>1</th>\n",
       "      <td>1/3/2008</td>\n",
       "      <td>1447.160034</td>\n",
       "      <td>85.570000</td>\n",
       "      <td>78.370003</td>\n",
       "      <td>15.285</td>\n",
       "      <td>1.474491</td>\n",
       "    </tr>\n",
       "    <tr>\n",
       "      <th>2</th>\n",
       "      <td>1/4/2008</td>\n",
       "      <td>1411.630005</td>\n",
       "      <td>85.129997</td>\n",
       "      <td>77.309998</td>\n",
       "      <td>15.167</td>\n",
       "      <td>1.475492</td>\n",
       "    </tr>\n",
       "    <tr>\n",
       "      <th>3</th>\n",
       "      <td>1/7/2008</td>\n",
       "      <td>1416.180054</td>\n",
       "      <td>84.769997</td>\n",
       "      <td>75.500000</td>\n",
       "      <td>15.053</td>\n",
       "      <td>1.468299</td>\n",
       "    </tr>\n",
       "    <tr>\n",
       "      <th>4</th>\n",
       "      <td>1/8/2008</td>\n",
       "      <td>1390.189941</td>\n",
       "      <td>86.779999</td>\n",
       "      <td>76.059998</td>\n",
       "      <td>15.590</td>\n",
       "      <td>1.557099</td>\n",
       "    </tr>\n",
       "  </tbody>\n",
       "</table>\n",
       "</div>"
      ],
      "text/plain": [
       "       Date          SPX        GLD        USO     SLV   EUR/USD\n",
       "0  1/2/2008  1447.160034  84.860001  78.470001  15.180  1.471692\n",
       "1  1/3/2008  1447.160034  85.570000  78.370003  15.285  1.474491\n",
       "2  1/4/2008  1411.630005  85.129997  77.309998  15.167  1.475492\n",
       "3  1/7/2008  1416.180054  84.769997  75.500000  15.053  1.468299\n",
       "4  1/8/2008  1390.189941  86.779999  76.059998  15.590  1.557099"
      ]
     },
     "execution_count": 3,
     "metadata": {},
     "output_type": "execute_result"
    }
   ],
   "source": [
    "gold_data.head()"
   ]
  },
  {
   "cell_type": "code",
   "execution_count": 4,
   "id": "dace792f",
   "metadata": {
    "execution": {
     "iopub.execute_input": "2024-03-29T11:02:36.672059Z",
     "iopub.status.busy": "2024-03-29T11:02:36.671660Z",
     "iopub.status.idle": "2024-03-29T11:02:36.678526Z",
     "shell.execute_reply": "2024-03-29T11:02:36.677288Z"
    },
    "id": "mu_FepuuZSOM",
    "outputId": "714e7a1a-a0c9-4f14-a253-b7902d67202f",
    "papermill": {
     "duration": 0.018275,
     "end_time": "2024-03-29T11:02:36.680770",
     "exception": false,
     "start_time": "2024-03-29T11:02:36.662495",
     "status": "completed"
    },
    "tags": []
   },
   "outputs": [
    {
     "data": {
      "text/plain": [
       "(2290, 6)"
      ]
     },
     "execution_count": 4,
     "metadata": {},
     "output_type": "execute_result"
    }
   ],
   "source": [
    "gold_data.shape"
   ]
  },
  {
   "cell_type": "code",
   "execution_count": 5,
   "id": "bea774e6",
   "metadata": {
    "execution": {
     "iopub.execute_input": "2024-03-29T11:02:36.698398Z",
     "iopub.status.busy": "2024-03-29T11:02:36.697445Z",
     "iopub.status.idle": "2024-03-29T11:02:36.724703Z",
     "shell.execute_reply": "2024-03-29T11:02:36.722830Z"
    },
    "id": "IxwCaINeZWYn",
    "outputId": "398f6ad1-f8a5-4c11-87d6-64fcb6268e99",
    "papermill": {
     "duration": 0.03878,
     "end_time": "2024-03-29T11:02:36.727137",
     "exception": false,
     "start_time": "2024-03-29T11:02:36.688357",
     "status": "completed"
    },
    "tags": []
   },
   "outputs": [
    {
     "name": "stdout",
     "output_type": "stream",
     "text": [
      "<class 'pandas.core.frame.DataFrame'>\n",
      "RangeIndex: 2290 entries, 0 to 2289\n",
      "Data columns (total 6 columns):\n",
      " #   Column   Non-Null Count  Dtype  \n",
      "---  ------   --------------  -----  \n",
      " 0   Date     2290 non-null   object \n",
      " 1   SPX      2290 non-null   float64\n",
      " 2   GLD      2290 non-null   float64\n",
      " 3   USO      2290 non-null   float64\n",
      " 4   SLV      2290 non-null   float64\n",
      " 5   EUR/USD  2290 non-null   float64\n",
      "dtypes: float64(5), object(1)\n",
      "memory usage: 107.5+ KB\n"
     ]
    }
   ],
   "source": [
    "gold_data.info()"
   ]
  },
  {
   "cell_type": "code",
   "execution_count": 6,
   "id": "4f4e46ea",
   "metadata": {
    "execution": {
     "iopub.execute_input": "2024-03-29T11:02:36.745325Z",
     "iopub.status.busy": "2024-03-29T11:02:36.744651Z",
     "iopub.status.idle": "2024-03-29T11:02:36.769341Z",
     "shell.execute_reply": "2024-03-29T11:02:36.767955Z"
    },
    "id": "AigKv9oiZa9F",
    "outputId": "c21e6bba-29f3-4de7-d1cb-ad8f578bfd32",
    "papermill": {
     "duration": 0.037353,
     "end_time": "2024-03-29T11:02:36.772050",
     "exception": false,
     "start_time": "2024-03-29T11:02:36.734697",
     "status": "completed"
    },
    "tags": []
   },
   "outputs": [
    {
     "data": {
      "text/html": [
       "<div>\n",
       "<style scoped>\n",
       "    .dataframe tbody tr th:only-of-type {\n",
       "        vertical-align: middle;\n",
       "    }\n",
       "\n",
       "    .dataframe tbody tr th {\n",
       "        vertical-align: top;\n",
       "    }\n",
       "\n",
       "    .dataframe thead th {\n",
       "        text-align: right;\n",
       "    }\n",
       "</style>\n",
       "<table border=\"1\" class=\"dataframe\">\n",
       "  <thead>\n",
       "    <tr style=\"text-align: right;\">\n",
       "      <th></th>\n",
       "      <th>SPX</th>\n",
       "      <th>GLD</th>\n",
       "      <th>USO</th>\n",
       "      <th>SLV</th>\n",
       "      <th>EUR/USD</th>\n",
       "    </tr>\n",
       "  </thead>\n",
       "  <tbody>\n",
       "    <tr>\n",
       "      <th>count</th>\n",
       "      <td>2290.000000</td>\n",
       "      <td>2290.000000</td>\n",
       "      <td>2290.000000</td>\n",
       "      <td>2290.000000</td>\n",
       "      <td>2290.000000</td>\n",
       "    </tr>\n",
       "    <tr>\n",
       "      <th>mean</th>\n",
       "      <td>1654.315776</td>\n",
       "      <td>122.732875</td>\n",
       "      <td>31.842221</td>\n",
       "      <td>20.084997</td>\n",
       "      <td>1.283653</td>\n",
       "    </tr>\n",
       "    <tr>\n",
       "      <th>std</th>\n",
       "      <td>519.111540</td>\n",
       "      <td>23.283346</td>\n",
       "      <td>19.523517</td>\n",
       "      <td>7.092566</td>\n",
       "      <td>0.131547</td>\n",
       "    </tr>\n",
       "    <tr>\n",
       "      <th>min</th>\n",
       "      <td>676.530029</td>\n",
       "      <td>70.000000</td>\n",
       "      <td>7.960000</td>\n",
       "      <td>8.850000</td>\n",
       "      <td>1.039047</td>\n",
       "    </tr>\n",
       "    <tr>\n",
       "      <th>25%</th>\n",
       "      <td>1239.874969</td>\n",
       "      <td>109.725000</td>\n",
       "      <td>14.380000</td>\n",
       "      <td>15.570000</td>\n",
       "      <td>1.171313</td>\n",
       "    </tr>\n",
       "    <tr>\n",
       "      <th>50%</th>\n",
       "      <td>1551.434998</td>\n",
       "      <td>120.580002</td>\n",
       "      <td>33.869999</td>\n",
       "      <td>17.268500</td>\n",
       "      <td>1.303297</td>\n",
       "    </tr>\n",
       "    <tr>\n",
       "      <th>75%</th>\n",
       "      <td>2073.010070</td>\n",
       "      <td>132.840004</td>\n",
       "      <td>37.827501</td>\n",
       "      <td>22.882500</td>\n",
       "      <td>1.369971</td>\n",
       "    </tr>\n",
       "    <tr>\n",
       "      <th>max</th>\n",
       "      <td>2872.870117</td>\n",
       "      <td>184.589996</td>\n",
       "      <td>117.480003</td>\n",
       "      <td>47.259998</td>\n",
       "      <td>1.598798</td>\n",
       "    </tr>\n",
       "  </tbody>\n",
       "</table>\n",
       "</div>"
      ],
      "text/plain": [
       "               SPX          GLD          USO          SLV      EUR/USD\n",
       "count  2290.000000  2290.000000  2290.000000  2290.000000  2290.000000\n",
       "mean   1654.315776   122.732875    31.842221    20.084997     1.283653\n",
       "std     519.111540    23.283346    19.523517     7.092566     0.131547\n",
       "min     676.530029    70.000000     7.960000     8.850000     1.039047\n",
       "25%    1239.874969   109.725000    14.380000    15.570000     1.171313\n",
       "50%    1551.434998   120.580002    33.869999    17.268500     1.303297\n",
       "75%    2073.010070   132.840004    37.827501    22.882500     1.369971\n",
       "max    2872.870117   184.589996   117.480003    47.259998     1.598798"
      ]
     },
     "execution_count": 6,
     "metadata": {},
     "output_type": "execute_result"
    }
   ],
   "source": [
    "# getting the statistical measures of the data\n",
    "gold_data.describe()"
   ]
  },
  {
   "cell_type": "code",
   "execution_count": 7,
   "id": "e55cea27",
   "metadata": {
    "execution": {
     "iopub.execute_input": "2024-03-29T11:02:36.790458Z",
     "iopub.status.busy": "2024-03-29T11:02:36.789055Z",
     "iopub.status.idle": "2024-03-29T11:02:36.797182Z",
     "shell.execute_reply": "2024-03-29T11:02:36.796178Z"
    },
    "papermill": {
     "duration": 0.02002,
     "end_time": "2024-03-29T11:02:36.799877",
     "exception": false,
     "start_time": "2024-03-29T11:02:36.779857",
     "status": "completed"
    },
    "tags": []
   },
   "outputs": [],
   "source": [
    "gold_data=gold_data.drop(['Date'],axis=1)"
   ]
  },
  {
   "cell_type": "markdown",
   "id": "7041a473",
   "metadata": {
    "id": "b51_-XuwZljc",
    "papermill": {
     "duration": 0.007324,
     "end_time": "2024-03-29T11:02:36.815435",
     "exception": false,
     "start_time": "2024-03-29T11:02:36.808111",
     "status": "completed"
    },
    "tags": []
   },
   "source": [
    "**Correlation:**\n",
    "\n",
    "1.Positive Correlation\n",
    "\n",
    "2.Negative Correlation\n",
    "\n"
   ]
  },
  {
   "cell_type": "code",
   "execution_count": 8,
   "id": "cff21779",
   "metadata": {
    "execution": {
     "iopub.execute_input": "2024-03-29T11:02:36.832657Z",
     "iopub.status.busy": "2024-03-29T11:02:36.832290Z",
     "iopub.status.idle": "2024-03-29T11:02:36.838972Z",
     "shell.execute_reply": "2024-03-29T11:02:36.837808Z"
    },
    "id": "OItTapcoZ-f-",
    "outputId": "cbe35b4b-9399-4297-a5dc-d5c3b3a1347d",
    "papermill": {
     "duration": 0.018435,
     "end_time": "2024-03-29T11:02:36.841370",
     "exception": false,
     "start_time": "2024-03-29T11:02:36.822935",
     "status": "completed"
    },
    "tags": []
   },
   "outputs": [],
   "source": [
    "correlation = gold_data.corr()"
   ]
  },
  {
   "cell_type": "code",
   "execution_count": 9,
   "id": "86c69d27",
   "metadata": {
    "execution": {
     "iopub.execute_input": "2024-03-29T11:02:36.858991Z",
     "iopub.status.busy": "2024-03-29T11:02:36.858623Z",
     "iopub.status.idle": "2024-03-29T11:02:37.275433Z",
     "shell.execute_reply": "2024-03-29T11:02:37.274162Z"
    },
    "id": "_23ZIUwSaBDm",
    "outputId": "232f0c19-97d8-4300-90c7-cad49dd88405",
    "papermill": {
     "duration": 0.429456,
     "end_time": "2024-03-29T11:02:37.279035",
     "exception": false,
     "start_time": "2024-03-29T11:02:36.849579",
     "status": "completed"
    },
    "tags": []
   },
   "outputs": [
    {
     "data": {
      "text/plain": [
       "<Axes: >"
      ]
     },
     "execution_count": 9,
     "metadata": {},
     "output_type": "execute_result"
    },
    {
     "data": {
      "image/png": "[encoded data removed]",
      "text/plain": [
       "<Figure size 800x800 with 2 Axes>"
      ]
     },
     "metadata": {},
     "output_type": "display_data"
    }
   ],
   "source": [
    "# constructing a heatmap to understand the correlatiom\n",
    "plt.figure(figsize=(8,8))\n",
    "sns.heatmap(correlation,cbar=True,square=True,fmt='.1f',annot=True,\n",
    "           annot_kws={'size':8},cmap='Blues')"
   ]
  },
  {
   "cell_type": "code",
   "execution_count": 10,
   "id": "1f1809a0",
   "metadata": {
    "execution": {
     "iopub.execute_input": "2024-03-29T11:02:37.301252Z",
     "iopub.status.busy": "2024-03-29T11:02:37.300682Z",
     "iopub.status.idle": "2024-03-29T11:02:37.308180Z",
     "shell.execute_reply": "2024-03-29T11:02:37.306848Z"
    },
    "id": "mtwDFbHqaFck",
    "outputId": "d61d333e-713b-423c-aff2-433ec5947b95",
    "papermill": {
     "duration": 0.020279,
     "end_time": "2024-03-29T11:02:37.311233",
     "exception": false,
     "start_time": "2024-03-29T11:02:37.290954",
     "status": "completed"
    },
    "tags": []
   },
   "outputs": [
    {
     "name": "stdout",
     "output_type": "stream",
     "text": [
      "SPX        0.049345\n",
      "GLD        1.000000\n",
      "USO       -0.186360\n",
      "SLV        0.866632\n",
      "EUR/USD   -0.024375\n",
      "Name: GLD, dtype: float64\n"
     ]
    }
   ],
   "source": [
    "# correlation values of GLD\n",
    "print(correlation['GLD'])"
   ]
  },
  {
   "cell_type": "code",
   "execution_count": 11,
   "id": "076df8d7",
   "metadata": {
    "execution": {
     "iopub.execute_input": "2024-03-29T11:02:37.341315Z",
     "iopub.status.busy": "2024-03-29T11:02:37.338167Z",
     "iopub.status.idle": "2024-03-29T11:02:37.802152Z",
     "shell.execute_reply": "2024-03-29T11:02:37.801166Z"
    },
    "id": "quTt9qu_kv2B",
    "outputId": "186ace4b-0d7b-42e0-e6a3-20d3e7833589",
    "papermill": {
     "duration": 0.480625,
     "end_time": "2024-03-29T11:02:37.805126",
     "exception": false,
     "start_time": "2024-03-29T11:02:37.324501",
     "status": "completed"
    },
    "tags": []
   },
   "outputs": [
    {
     "name": "stderr",
     "output_type": "stream",
     "text": [
      "/tmp/ipykernel_18/3440296056.py:2: UserWarning: \n",
      "\n",
      "`distplot` is a deprecated function and will be removed in seaborn v0.14.0.\n",
      "\n",
      "Please adapt your code to use either `displot` (a figure-level function with\n",
      "similar flexibility) or `histplot` (an axes-level function for histograms).\n",
      "\n",
      "For a guide to updating your code to use the new functions, please see\n",
      "https://gist.github.com/mwaskom/de44147ed2974457ad6372750bbe5751\n",
      "\n",
      "  sns.distplot(gold_data['GLD'])\n",
      "/opt/conda/lib/python3.10/site-packages/seaborn/_oldcore.py:1119: FutureWarning: use_inf_as_na option is deprecated and will be removed in a future version. Convert inf values to NaN before operating instead.\n",
      "  with pd.option_context('mode.use_inf_as_na', True):\n"
     ]
    },
    {
     "data": {
      "text/plain": [
       "<Axes: xlabel='GLD', ylabel='Density'>"
      ]
     },
     "execution_count": 11,
     "metadata": {},
     "output_type": "execute_result"
    },
    {
     "data": {
      "image/png": "[encoded data removed]",
      "text/plain": [
       "<Figure size 640x480 with 1 Axes>"
      ]
     },
     "metadata": {},
     "output_type": "display_data"
    }
   ],
   "source": [
    "# checking the distribution of the GLD Price\n",
    "sns.distplot(gold_data['GLD'])"
   ]
  },
  {
   "cell_type": "markdown",
   "id": "ac2d3d65",
   "metadata": {
    "id": "JNmHJd4NlbT0",
    "papermill": {
     "duration": 0.013125,
     "end_time": "2024-03-29T11:02:37.830095",
     "exception": false,
     "start_time": "2024-03-29T11:02:37.816970",
     "status": "completed"
    },
    "tags": []
   },
   "source": [
    "**Splitting the Features and Target**"
   ]
  },
  {
   "cell_type": "code",
   "execution_count": 12,
   "id": "9ca4d1f0",
   "metadata": {
    "execution": {
     "iopub.execute_input": "2024-03-29T11:02:37.856503Z",
     "iopub.status.busy": "2024-03-29T11:02:37.855404Z",
     "iopub.status.idle": "2024-03-29T11:02:37.861692Z",
     "shell.execute_reply": "2024-03-29T11:02:37.860641Z"
    },
    "id": "01B8ws6AljKr",
    "papermill": {
     "duration": 0.02394,
     "end_time": "2024-03-29T11:02:37.863928",
     "exception": false,
     "start_time": "2024-03-29T11:02:37.839988",
     "status": "completed"
    },
    "tags": []
   },
   "outputs": [],
   "source": [
    "X=gold_data.drop(['GLD'],axis=1)\n",
    "Y=gold_data['GLD']"
   ]
  },
  {
   "cell_type": "code",
   "execution_count": 13,
   "id": "e4e109d4",
   "metadata": {
    "execution": {
     "iopub.execute_input": "2024-03-29T11:02:37.884636Z",
     "iopub.status.busy": "2024-03-29T11:02:37.883905Z",
     "iopub.status.idle": "2024-03-29T11:02:37.894357Z",
     "shell.execute_reply": "2024-03-29T11:02:37.893242Z"
    },
    "id": "l7h-hBKrlrs_",
    "outputId": "b5114f1e-36fd-44f2-a838-55962f489a4e",
    "papermill": {
     "duration": 0.02392,
     "end_time": "2024-03-29T11:02:37.896995",
     "exception": false,
     "start_time": "2024-03-29T11:02:37.873075",
     "status": "completed"
    },
    "tags": []
   },
   "outputs": [
    {
     "name": "stdout",
     "output_type": "stream",
     "text": [
      "              SPX        USO      SLV   EUR/USD\n",
      "0     1447.160034  78.470001  15.1800  1.471692\n",
      "1     1447.160034  78.370003  15.2850  1.474491\n",
      "2     1411.630005  77.309998  15.1670  1.475492\n",
      "3     1416.180054  75.500000  15.0530  1.468299\n",
      "4     1390.189941  76.059998  15.5900  1.557099\n",
      "...           ...        ...      ...       ...\n",
      "2285  2671.919922  14.060000  15.5100  1.186789\n",
      "2286  2697.790039  14.370000  15.5300  1.184722\n",
      "2287  2723.070068  14.410000  15.7400  1.191753\n",
      "2288  2730.129883  14.380000  15.5600  1.193118\n",
      "2289  2725.780029  14.405800  15.4542  1.182033\n",
      "\n",
      "[2290 rows x 4 columns]\n"
     ]
    }
   ],
   "source": [
    "print(X)"
   ]
  },
  {
   "cell_type": "code",
   "execution_count": 14,
   "id": "0b9895c2",
   "metadata": {
    "execution": {
     "iopub.execute_input": "2024-03-29T11:02:37.918176Z",
     "iopub.status.busy": "2024-03-29T11:02:37.917235Z",
     "iopub.status.idle": "2024-03-29T11:02:37.925305Z",
     "shell.execute_reply": "2024-03-29T11:02:37.923998Z"
    },
    "id": "9JykIeMLmmwI",
    "outputId": "459fd04d-68b2-4ae6-edc0-6dbd76fd7c11",
    "papermill": {
     "duration": 0.020918,
     "end_time": "2024-03-29T11:02:37.927600",
     "exception": false,
     "start_time": "2024-03-29T11:02:37.906682",
     "status": "completed"
    },
    "tags": []
   },
   "outputs": [
    {
     "name": "stdout",
     "output_type": "stream",
     "text": [
      "0        84.860001\n",
      "1        85.570000\n",
      "2        85.129997\n",
      "3        84.769997\n",
      "4        86.779999\n",
      "           ...    \n",
      "2285    124.589996\n",
      "2286    124.330002\n",
      "2287    125.180000\n",
      "2288    124.489998\n",
      "2289    122.543800\n",
      "Name: GLD, Length: 2290, dtype: float64\n"
     ]
    }
   ],
   "source": [
    "print(Y)"
   ]
  },
  {
   "cell_type": "markdown",
   "id": "ae954836",
   "metadata": {
    "id": "xJEasRmapTqN",
    "papermill": {
     "duration": 0.009099,
     "end_time": "2024-03-29T11:02:37.946184",
     "exception": false,
     "start_time": "2024-03-29T11:02:37.937085",
     "status": "completed"
    },
    "tags": []
   },
   "source": [
    "**Splitting into Training data and Test Data**"
   ]
  },
  {
   "cell_type": "code",
   "execution_count": 15,
   "id": "535bf1f1",
   "metadata": {
    "execution": {
     "iopub.execute_input": "2024-03-29T11:02:37.967246Z",
     "iopub.status.busy": "2024-03-29T11:02:37.966484Z",
     "iopub.status.idle": "2024-03-29T11:02:37.975071Z",
     "shell.execute_reply": "2024-03-29T11:02:37.974032Z"
    },
    "id": "JUqlaP8MpVRT",
    "papermill": {
     "duration": 0.021872,
     "end_time": "2024-03-29T11:02:37.977437",
     "exception": false,
     "start_time": "2024-03-29T11:02:37.955565",
     "status": "completed"
    },
    "tags": []
   },
   "outputs": [],
   "source": [
    "X_train,X_test,Y_train,Y_test=train_test_split(X,Y,test_size=0.3,random_state=3)"
   ]
  },
  {
   "cell_type": "markdown",
   "id": "23ecdb7b",
   "metadata": {
    "id": "Hmw4yhUuqTaV",
    "papermill": {
     "duration": 0.009171,
     "end_time": "2024-03-29T11:02:37.996696",
     "exception": false,
     "start_time": "2024-03-29T11:02:37.987525",
     "status": "completed"
    },
    "tags": []
   },
   "source": [
    "**Model Training: Random Forest Regressor**"
   ]
  },
  {
   "cell_type": "code",
   "execution_count": 16,
   "id": "a37d65b3",
   "metadata": {
    "execution": {
     "iopub.execute_input": "2024-03-29T11:02:38.019092Z",
     "iopub.status.busy": "2024-03-29T11:02:38.017907Z",
     "iopub.status.idle": "2024-03-29T11:02:38.023258Z",
     "shell.execute_reply": "2024-03-29T11:02:38.022278Z"
    },
    "id": "RLeUnMfvqWZm",
    "papermill": {
     "duration": 0.018605,
     "end_time": "2024-03-29T11:02:38.025557",
     "exception": false,
     "start_time": "2024-03-29T11:02:38.006952",
     "status": "completed"
    },
    "tags": []
   },
   "outputs": [],
   "source": [
    "regressor=RandomForestRegressor(n_estimators=100)"
   ]
  },
  {
   "cell_type": "code",
   "execution_count": 17,
   "id": "e5816619",
   "metadata": {
    "execution": {
     "iopub.execute_input": "2024-03-29T11:02:38.048381Z",
     "iopub.status.busy": "2024-03-29T11:02:38.047494Z",
     "iopub.status.idle": "2024-03-29T11:02:38.707160Z",
     "shell.execute_reply": "2024-03-29T11:02:38.706002Z"
    },
    "id": "-52FiZg2sZzZ",
    "outputId": "2b2774ea-ada2-4a2b-d79b-ebc31e14c339",
    "papermill": {
     "duration": 0.674431,
     "end_time": "2024-03-29T11:02:38.709743",
     "exception": false,
     "start_time": "2024-03-29T11:02:38.035312",
     "status": "completed"
    },
    "tags": []
   },
   "outputs": [
    {
     "data": {
      "text/html": [
       "<style>#sk-container-id-1 {color: black;background-color: white;}#sk-container-id-1 pre{padding: 0;}#sk-container-id-1 div.sk-toggleable {background-color: white;}#sk-container-id-1 label.sk-toggleable__label {cursor: pointer;display: block;width: 100%;margin-bottom: 0;padding: 0.3em;box-sizing: border-box;text-align: center;}#sk-container-id-1 label.sk-toggleable__label-arrow:before {content: \"▸\";float: left;margin-right: 0.25em;color: #696969;}#sk-container-id-1 label.sk-toggleable__label-arrow:hover:before {color: black;}#sk-container-id-1 div.sk-estimator:hover label.sk-toggleable__label-arrow:before {color: black;}#sk-container-id-1 div.sk-toggleable__content {max-height: 0;max-width: 0;overflow: hidden;text-align: left;background-color: #f0f8ff;}#sk-container-id-1 div.sk-toggleable__content pre {margin: 0.2em;color: black;border-radius: 0.25em;background-color: #f0f8ff;}#sk-container-id-1 input.sk-toggleable__control:checked~div.sk-toggleable__content {max-height: 200px;max-width: 100%;overflow: auto;}#sk-container-id-1 input.sk-toggleable__control:checked~label.sk-toggleable__label-arrow:before {content: \"▾\";}#sk-container-id-1 div.sk-estimator input.sk-toggleable__control:checked~label.sk-toggleable__label {background-color: #d4ebff;}#sk-container-id-1 div.sk-label input.sk-toggleable__control:checked~label.sk-toggleable__label {background-color: #d4ebff;}#sk-container-id-1 input.sk-hidden--visually {border: 0;clip: rect(1px 1px 1px 1px);clip: rect(1px, 1px, 1px, 1px);height: 1px;margin: -1px;overflow: hidden;padding: 0;position: absolute;width: 1px;}#sk-container-id-1 div.sk-estimator {font-family: monospace;background-color: #f0f8ff;border: 1px dotted black;border-radius: 0.25em;box-sizing: border-box;margin-bottom: 0.5em;}#sk-container-id-1 div.sk-estimator:hover {background-color: #d4ebff;}#sk-container-id-1 div.sk-parallel-item::after {content: \"\";width: 100%;border-bottom: 1px solid gray;flex-grow: 1;}#sk-container-id-1 div.sk-label:hover label.sk-toggleable__label {background-color: #d4ebff;}#sk-container-id-1 div.sk-serial::before {content: \"\";position: absolute;border-left: 1px solid gray;box-sizing: border-box;top: 0;bottom: 0;left: 50%;z-index: 0;}#sk-container-id-1 div.sk-serial {display: flex;flex-direction: column;align-items: center;background-color: white;padding-right: 0.2em;padding-left: 0.2em;position: relative;}#sk-container-id-1 div.sk-item {position: relative;z-index: 1;}#sk-container-id-1 div.sk-parallel {display: flex;align-items: stretch;justify-content: center;background-color: white;position: relative;}#sk-container-id-1 div.sk-item::before, #sk-container-id-1 div.sk-parallel-item::before {content: \"\";position: absolute;border-left: 1px solid gray;box-sizing: border-box;top: 0;bottom: 0;left: 50%;z-index: -1;}#sk-container-id-1 div.sk-parallel-item {display: flex;flex-direction: column;z-index: 1;position: relative;background-color: white;}#sk-container-id-1 div.sk-parallel-item:first-child::after {align-self: flex-end;width: 50%;}#sk-container-id-1 div.sk-parallel-item:last-child::after {align-self: flex-start;width: 50%;}#sk-container-id-1 div.sk-parallel-item:only-child::after {width: 0;}#sk-container-id-1 div.sk-dashed-wrapped {border: 1px dashed gray;margin: 0 0.4em 0.5em 0.4em;box-sizing: border-box;padding-bottom: 0.4em;background-color: white;}#sk-container-id-1 div.sk-label label {font-family: monospace;font-weight: bold;display: inline-block;line-height: 1.2em;}#sk-container-id-1 div.sk-label-container {text-align: center;}#sk-container-id-1 div.sk-container {/* jupyter's `normalize.less` sets `[hidden] { display: none; }` but bootstrap.min.css set `[hidden] { display: none !important; }` so we also need the `!important` here to be able to override the default hidden behavior on the sphinx rendered scikit-learn.org. See: https://github.com/scikit-learn/scikit-learn/issues/21755 */display: inline-block !important;position: relative;}#sk-container-id-1 div.sk-text-repr-fallback {display: none;}</style><div id=\"sk-container-id-1\" class=\"sk-top-container\"><div class=\"sk-text-repr-fallback\"><pre>RandomForestRegressor()</pre><b>In a Jupyter environment, please rerun this cell to show the HTML representation or trust the notebook. <br />On GitHub, the HTML representation is unable to render, please try loading this page with nbviewer.org.</b></div><div class=\"sk-container\" hidden><div class=\"sk-item\"><div class=\"sk-estimator sk-toggleable\"><input class=\"sk-toggleable__control sk-hidden--visually\" id=\"sk-estimator-id-1\" type=\"checkbox\" checked><label for=\"sk-estimator-id-1\" class=\"sk-toggleable__label sk-toggleable__label-arrow\">RandomForestRegressor</label><div class=\"sk-toggleable__content\"><pre>RandomForestRegressor()</pre></div></div></div></div></div>"
      ],
      "text/plain": [
       "RandomForestRegressor()"
      ]
     },
     "execution_count": 17,
     "metadata": {},
     "output_type": "execute_result"
    }
   ],
   "source": [
    "regressor.fit(X_train,Y_train)"
   ]
  },
  {
   "cell_type": "markdown",
   "id": "97e8639a",
   "metadata": {
    "id": "vafdcfsYsoDp",
    "papermill": {
     "duration": 0.010206,
     "end_time": "2024-03-29T11:02:38.730086",
     "exception": false,
     "start_time": "2024-03-29T11:02:38.719880",
     "status": "completed"
    },
    "tags": []
   },
   "source": [
    "**Model Evaluation**"
   ]
  },
  {
   "cell_type": "code",
   "execution_count": 18,
   "id": "3c7d1e40",
   "metadata": {
    "execution": {
     "iopub.execute_input": "2024-03-29T11:02:38.753245Z",
     "iopub.status.busy": "2024-03-29T11:02:38.752498Z",
     "iopub.status.idle": "2024-03-29T11:02:38.776057Z",
     "shell.execute_reply": "2024-03-29T11:02:38.774804Z"
    },
    "id": "bPY5MC8BslNX",
    "papermill": {
     "duration": 0.037772,
     "end_time": "2024-03-29T11:02:38.778618",
     "exception": false,
     "start_time": "2024-03-29T11:02:38.740846",
     "status": "completed"
    },
    "tags": []
   },
   "outputs": [],
   "source": [
    "test_data_prediction=regressor.predict(X_test)"
   ]
  },
  {
   "cell_type": "code",
   "execution_count": 19,
   "id": "556a4005",
   "metadata": {
    "execution": {
     "iopub.execute_input": "2024-03-29T11:02:38.802318Z",
     "iopub.status.busy": "2024-03-29T11:02:38.801845Z",
     "iopub.status.idle": "2024-03-29T11:02:38.814773Z",
     "shell.execute_reply": "2024-03-29T11:02:38.812006Z"
    },
    "id": "qb-QmyWVs-Dr",
    "outputId": "e795fd1d-d771-46fa-a1e8-6213c4e0fe84",
    "papermill": {
     "duration": 0.028091,
     "end_time": "2024-03-29T11:02:38.818060",
     "exception": false,
     "start_time": "2024-03-29T11:02:38.789969",
     "status": "completed"
    },
    "tags": []
   },
   "outputs": [
    {
     "name": "stdout",
     "output_type": "stream",
     "text": [
      "[162.82290033 127.37460003 124.21990022 119.81919897 126.2485994\n",
      "  85.34259793 171.93120226 138.91790059 106.59150011 132.55330179\n",
      " 120.69649966 124.7355005  143.55549689 104.54969932  80.95319935\n",
      " 120.4582     141.09860058  90.59370063  91.61549891 128.22560171\n",
      " 125.44650089 148.19120069 116.8863018  151.84539922 129.24780015\n",
      " 129.26070058 117.97630124 111.46550096 168.67200211 157.94119975\n",
      " 126.08320205 153.71770065 126.96800011 122.52609779 116.9493012\n",
      " 154.27009947 115.22889975 120.61210169 103.75390198 106.50500047\n",
      " 135.37959934  86.2853998  155.63730165 121.11840029 122.51360093\n",
      " 154.4886018  120.21949959 116.12330029 168.83980231 116.78600036\n",
      " 139.36260164 161.84719906 158.40750064 153.47110169 124.35329987\n",
      " 117.28480054 167.44260049 117.3293998  165.6277995   84.03559973\n",
      " 121.419699   122.42180007 119.94890006 172.0804985  118.89069998\n",
      " 180.83579501 161.3503026  141.0145021  116.55129942  92.78920053\n",
      " 172.00949971 117.93239987 116.86689978 125.73020013 147.06959885\n",
      "  91.59940077  83.69939854  88.96399958 102.73739968 124.28870047\n",
      " 122.88940026 169.6105023  121.60249974 126.84859872 159.88220554\n",
      " 120.52220125 169.46870161 147.47569817  87.11889934 126.66730035\n",
      " 118.95100029  90.14609986 118.49799965 116.7527984   89.21789878\n",
      " 137.77720211 160.39580019 131.07820422 105.83340131 122.7026999\n",
      " 120.69780101 123.68110058 107.97850018 115.20650037 113.62009945\n",
      " 120.70470045 159.35080265 126.87619935 120.02009951  90.93149964\n",
      " 125.36719979 161.45019943 160.76120241  87.62489947 139.17320136\n",
      " 166.88759827 155.34240044 110.00489938 109.39099756 125.20409963\n",
      " 113.83520171 117.48470056 160.71490217 121.89610013 143.30409559\n",
      " 117.62500069 163.56860234 120.06619926 112.15390098 148.33559875\n",
      " 104.12359902 121.84079973  78.87729935 161.02489831 125.88950057\n",
      " 131.99420073 120.28979939 106.17639939 153.31950058 114.2171004\n",
      " 161.72870008 128.1668008   91.73819981 121.35373713 131.06199934\n",
      "  89.89849961 120.43779968 120.1975011  113.01040064  90.9648001\n",
      "  91.14879885 117.29339992 150.9009008  113.09040047 132.35930144\n",
      " 117.10190082 119.46210023 156.6957977  127.90210317 113.72020132\n",
      " 119.58500088 140.3467993  116.2585013   92.35189851  89.78300049\n",
      " 165.88490122 112.78900039 115.60030061 119.39720137 114.67320014\n",
      "  91.90969963 116.90090001 154.74930265 152.06880143  93.12570007\n",
      " 126.11929983 104.28999978 155.62670089 115.31569972 120.53569967\n",
      "  91.97729928  91.71920062 153.1103009  173.24709734  78.0274993\n",
      " 125.99879953 119.22340022 152.0363002   91.81570095 163.7485012\n",
      " 137.95709737 117.41870098 142.61250078  80.55489946 124.68719931\n",
      " 118.47590091  90.90850079  94.32029996 174.21809742 164.93399968\n",
      " 167.56589931 139.48890168 118.36603896 131.00970117 124.39450038\n",
      " 129.21790024 121.51380032 122.22039886 127.46089978 103.12700026\n",
      " 115.6799009  132.93369978 163.99550232 125.7425004  113.98020194\n",
      " 123.13560017  82.65150148 102.75609832 121.40079869 162.37019985\n",
      " 121.29479982  88.14149936 127.50030043 108.24759982 158.67100166\n",
      " 165.75949972 123.36349978 124.48890032 144.23050146  89.93169941\n",
      "  88.13320092 115.34720056 108.7140001  128.54779915 107.8283993\n",
      " 114.74899987 168.03579913 119.89040043 107.07009886 159.17129867\n",
      " 124.99389959 114.50120131 103.63350009 150.35419972 166.95879912\n",
      " 171.53460265  92.25469889 114.82500049 119.01099912 113.28300103\n",
      " 160.23960438 120.00299892  72.97520201 118.88563793 115.26609972\n",
      " 166.76629873 119.05529991 114.95549975  94.37569922 116.22770168\n",
      " 128.14039766 114.21889983 156.3049997  119.33060057 118.52490123\n",
      " 161.4086995  118.28390022  95.25099894 117.67900115 166.86660151\n",
      " 111.16729917 147.02690269 119.03230031  86.20769861 171.783702\n",
      " 154.4509981  158.95849982  84.55659826 120.00393807 108.11160065\n",
      "  92.78810069  72.59339976  92.62190027 117.53590036 176.92839888\n",
      " 116.3684013  123.45999985  86.73609865 113.40110066 112.08070039\n",
      " 161.45860454 118.45550119  87.18289786 163.97849887 125.33589999\n",
      " 125.96829992 121.31559987 116.63700064  89.98440016 147.15429965\n",
      " 108.85219912  91.49809832 118.04309989 152.77620193 123.05709953\n",
      " 142.48309917 148.13880079 108.0245994  129.14140219 111.95249972\n",
      " 114.3390998  115.13229999 158.04529817  83.36669865 124.01419998\n",
      "  91.74039979 113.13210026 127.15799754  92.78170016 129.5496009\n",
      " 124.15579876 128.0502979  121.80509912  90.01690027  85.04959844\n",
      " 135.84849937 165.62280218 168.95709929 160.02050336 124.93159971\n",
      " 106.62320041 115.99640053 123.99569904  90.95320032 166.96819857\n",
      "  91.68139898 127.91670133 117.3324011  165.7337     115.54679966\n",
      " 162.69450191 163.6051998   84.15109928 117.57370047 101.86519824\n",
      " 130.87380125 112.57440029  79.73739933  92.50680026 135.57589938\n",
      "  98.34439987 117.29309883 116.58660105 119.22590022 126.1505001\n",
      " 115.17880013  97.08720125  73.34829919 118.38720014  89.58810084\n",
      " 135.57229881 113.12599992 115.46350027 110.44260103  85.64909861\n",
      " 113.4833008  126.34290111 156.26039782 119.68500054  76.58880055\n",
      " 113.60660035  85.50539798 114.81980062  96.06690169 115.89999996\n",
      " 126.04299924 113.98210041 117.35399858 118.4309002  125.42549846\n",
      " 111.68980183 109.45150052 164.89280348  96.12619903 121.3720013\n",
      "  92.18670094 116.12400069 110.86739947 155.95210312 117.58399954\n",
      " 154.15650086  86.50689908 141.40589833 110.06559938 106.44340006\n",
      " 128.16519748 119.03639966 119.90930045 117.72430048 149.98820124\n",
      " 109.7635985  134.17850148 159.38169919 105.9547993  102.63429968\n",
      " 163.29090051 119.88430141 140.99700311 104.746001    94.37359996\n",
      " 113.78760127 123.56280077 109.58109849 167.67710127 171.39800282\n",
      " 117.8432995  168.63199804 126.36560102 160.69560405  95.98699939\n",
      "  98.99419948 125.36120058  73.19160052  91.7817995   93.39330083\n",
      " 148.29339651 113.83560137 107.47179916 123.14989888  89.95339904\n",
      " 150.9000009   93.93739852  86.02219819 107.0047008   74.0967004\n",
      " 134.46189889 167.22710079 118.08109929 117.91779904  96.71290178\n",
      " 126.04639998 127.90280032 113.8097996  126.8459998  127.59909965\n",
      " 115.870101    95.67469934 123.36699939 126.38040079  90.29990038\n",
      " 133.73510084 118.63800103 115.95069815 144.15159809  94.0156009\n",
      " 116.5899001   87.87940009 119.69019983 115.41709998 121.45719925\n",
      " 152.89269908 127.14100148 120.29120028 109.39510095  74.83920081\n",
      "  87.49179958 125.66800025 125.67889924 127.71629922 116.83050046\n",
      " 120.54500025  92.72889999 117.61619944 111.6468004  106.72569972\n",
      " 122.92620068 118.26420083 125.40300022 106.35649964 122.27569919\n",
      " 110.02639722 106.55429968 116.36800161 154.25740209 134.27519954\n",
      " 126.10000147 124.04089894  87.72490024 127.74379787  91.88749974\n",
      " 144.24430103 114.15189938 128.65560042 108.64909973  80.32039973\n",
      " 113.22180131 131.30570145 117.48699954 107.47100099  92.58099897\n",
      " 159.42729944 161.21489839  91.66299914 117.18739876  82.8487012\n",
      " 157.18580261 112.16550018 167.24569539 126.55439839 136.63199955\n",
      " 126.61610046 126.97810075 107.07160121 126.09259983 133.0791004\n",
      " 127.46210044 139.87560406  99.63200179 125.70189975 111.03710071\n",
      " 173.59419782 113.70670104 112.77969982 105.41730042 119.89290066\n",
      " 135.50439795 124.75510109 123.17369923 102.24340078 121.71910119\n",
      " 104.83550072 123.1747987  126.45029815 118.19299952 114.69689954\n",
      " 127.09620093 153.95940171 131.55180153 176.35209625 115.35190155\n",
      " 112.32569983 127.53829977 116.64840024 117.41059968 128.51790121\n",
      " 117.58489985 115.34020027 113.18949894 107.77490032 126.06579856\n",
      "  90.85670067  94.74980052 108.88889872 121.32020025  87.84429942\n",
      " 120.85580079 126.48919963 163.91910277 109.45729876 129.09289806\n",
      " 160.26969939 141.46329965 125.1052013  120.06520078  99.75670146\n",
      " 109.10289792  91.34850158 117.68100075 108.37319995 109.78209834\n",
      "  91.7867998  122.35770006 101.81589843 108.71920005 129.51840025\n",
      "  86.18859945 117.17690102 103.05480011 109.79759939 142.07419679\n",
      " 113.22579992  88.10639942 118.48553935 156.00960055 102.70659987\n",
      "  87.69509944 153.44709953 108.21819952 123.04909964 137.10290393\n",
      " 105.08630036 155.8077031  113.95190003 135.38830187 106.31450048\n",
      " 126.57090056 110.43910025  87.09069855 123.7897993  165.10840164\n",
      "  83.69969834  81.28709858 166.48999974 112.84900208 112.64920038\n",
      " 118.81089882  89.5101006   93.19060135 151.23829761 114.32940025\n",
      " 114.72209933 159.74409938  91.89679979 170.62440112  76.50379815\n",
      " 122.02899907 113.01000035 117.4786006  113.39280084 152.80000193\n",
      " 104.64850045 161.02939758  86.94249794 150.68920062  90.46359884\n",
      " 124.30739969 108.69589964 115.29459965 147.99109939 120.59909926\n",
      " 118.49440142  87.63960006 120.44670051  76.64449971 154.58840157\n",
      " 120.49500068  91.01989907 115.37619994 148.82900045 131.47249897\n",
      " 162.01479838 125.69719985 102.47699876 122.64739966 117.5512007\n",
      " 155.66179826 108.70440061 132.26990204 148.49959754 127.07999974\n",
      " 153.7812011  124.99329981  91.65369848  88.37310058 161.4296996\n",
      " 154.64070022 121.21379929 104.98120053  95.26080081 127.21579988\n",
      " 117.20170068 124.55890166 117.71519937  90.83119954 163.8545012\n",
      " 147.70679993 113.38750017  85.55879824 125.76479988 154.49490342\n",
      " 119.74100098 153.32280202 161.02739997  93.00700079 105.54419984\n",
      " 127.52049904 145.80790203 122.24790024 165.08570294 116.77250022\n",
      " 113.44559963 154.54909957 112.07680039 111.18339978 111.56739896\n",
      " 104.85539919 168.6260992 ]\n"
     ]
    }
   ],
   "source": [
    "print(test_data_prediction)"
   ]
  },
  {
   "cell_type": "code",
   "execution_count": 20,
   "id": "069be426",
   "metadata": {
    "execution": {
     "iopub.execute_input": "2024-03-29T11:02:38.840494Z",
     "iopub.status.busy": "2024-03-29T11:02:38.839547Z",
     "iopub.status.idle": "2024-03-29T11:02:38.846108Z",
     "shell.execute_reply": "2024-03-29T11:02:38.845157Z"
    },
    "id": "S1D3ZO7atOmy",
    "papermill": {
     "duration": 0.020443,
     "end_time": "2024-03-29T11:02:38.848563",
     "exception": false,
     "start_time": "2024-03-29T11:02:38.828120",
     "status": "completed"
    },
    "tags": []
   },
   "outputs": [],
   "source": [
    "# R squared error\n",
    "error=metrics.r2_score(Y_test,test_data_prediction)"
   ]
  },
  {
   "cell_type": "code",
   "execution_count": 21,
   "id": "dd09a497",
   "metadata": {
    "execution": {
     "iopub.execute_input": "2024-03-29T11:02:38.871340Z",
     "iopub.status.busy": "2024-03-29T11:02:38.870948Z",
     "iopub.status.idle": "2024-03-29T11:02:38.877407Z",
     "shell.execute_reply": "2024-03-29T11:02:38.876221Z"
    },
    "id": "6bj3GsYIuD06",
    "outputId": "2f58ca4b-96cf-4192-ed49-508e7ee1d570",
    "papermill": {
     "duration": 0.020614,
     "end_time": "2024-03-29T11:02:38.879612",
     "exception": false,
     "start_time": "2024-03-29T11:02:38.858998",
     "status": "completed"
    },
    "tags": []
   },
   "outputs": [
    {
     "data": {
      "text/plain": [
       "0.9865605532018419"
      ]
     },
     "execution_count": 21,
     "metadata": {},
     "output_type": "execute_result"
    }
   ],
   "source": [
    "error"
   ]
  },
  {
   "cell_type": "markdown",
   "id": "82158e08",
   "metadata": {
    "id": "Vfp18OQeuToz",
    "papermill": {
     "duration": 0.009661,
     "end_time": "2024-03-29T11:02:38.899119",
     "exception": false,
     "start_time": "2024-03-29T11:02:38.889458",
     "status": "completed"
    },
    "tags": []
   },
   "source": [
    "**Compare the Actual Values and Predicted Values in a Plot**"
   ]
  },
  {
   "cell_type": "code",
   "execution_count": 22,
   "id": "4ad80667",
   "metadata": {
    "execution": {
     "iopub.execute_input": "2024-03-29T11:02:38.920940Z",
     "iopub.status.busy": "2024-03-29T11:02:38.920556Z",
     "iopub.status.idle": "2024-03-29T11:02:38.925836Z",
     "shell.execute_reply": "2024-03-29T11:02:38.924671Z"
    },
    "id": "hqNp2EaduFFe",
    "papermill": {
     "duration": 0.018661,
     "end_time": "2024-03-29T11:02:38.928002",
     "exception": false,
     "start_time": "2024-03-29T11:02:38.909341",
     "status": "completed"
    },
    "tags": []
   },
   "outputs": [],
   "source": [
    "Y_test=list(Y_test)"
   ]
  },
  {
   "cell_type": "code",
   "execution_count": 23,
   "id": "9e86eb88",
   "metadata": {
    "execution": {
     "iopub.execute_input": "2024-03-29T11:02:38.952710Z",
     "iopub.status.busy": "2024-03-29T11:02:38.950888Z",
     "iopub.status.idle": "2024-03-29T11:02:39.256278Z",
     "shell.execute_reply": "2024-03-29T11:02:39.254115Z"
    },
    "id": "NoTHY1souZyO",
    "outputId": "b4ac41f3-07da-4046-dba4-c74cea715c72",
    "papermill": {
     "duration": 0.320923,
     "end_time": "2024-03-29T11:02:39.258989",
     "exception": false,
     "start_time": "2024-03-29T11:02:38.938066",
     "status": "completed"
    },
    "tags": []
   },
   "outputs": [
    {
     "data": {
      "image/png": "[encoded data removed]",
      "text/plain": [
       "<Figure size 640x480 with 1 Axes>"
      ]
     },
     "metadata": {},
     "output_type": "display_data"
    }
   ],
   "source": [
    "plt.plot(Y_test,color=\"blue\",label='Actual Value')\n",
    "plt.plot(test_data_prediction,color='green',label='Predicted Value')\n",
    "plt.title(\"Actual Prices Vs Predicted Prices\")\n",
    "plt.xlabel(\"Number of values\")\n",
    "plt.ylabel(\"GLD Prices\")\n",
    "plt.legend()\n",
    "plt.show()"
   ]
  },
  {
   "cell_type": "code",
   "execution_count": null,
   "id": "d8ea40cc",
   "metadata": {
    "id": "NkRd1NPFvMgC",
    "papermill": {
     "duration": 0.015596,
     "end_time": "2024-03-29T11:02:39.288737",
     "exception": false,
     "start_time": "2024-03-29T11:02:39.273141",
     "status": "completed"
    },
    "tags": []
   },
   "outputs": [],
   "source": []
  }
 ],
 "metadata": {
  "accelerator": "GPU",
  "colab": {
   "gpuType": "T4",
   "provenance": []
  },
  "kaggle": {
   "accelerator": "none",
   "dataSources": [
    {
     "datasetId": 145424,
     "sourceId": 339411,
     "sourceType": "datasetVersion"
    }
   ],
   "dockerImageVersionId": 30673,
   "isGpuEnabled": false,
   "isInternetEnabled": false,
   "language": "python",
   "sourceType": "notebook"
  },
  "kernelspec": {
   "display_name": "Python 3",
   "language": "python",
   "name": "python3"
  },
  "language_info": {
   "codemirror_mode": {
    "name": "ipython",
    "version": 3
   },
   "file_extension": ".py",
   "mimetype": "text/x-python",
   "name": "python",
   "nbconvert_exporter": "python",
   "pygments_lexer": "ipython3",
   "version": "3.10.13"
  },
  "papermill": {
   "default_parameters": {},
   "duration": 9.303992,
   "end_time": "2024-03-29T11:02:40.026009",
   "environment_variables": {},
   "exception": null,
   "input_path": "__notebook__.ipynb",
   "output_path": "__notebook__.ipynb",
   "parameters": {},
   "start_time": "2024-03-29T11:02:30.722017",
   "version": "2.5.0"
  }
 },
 "nbformat": 4,
 "nbformat_minor": 5
}
