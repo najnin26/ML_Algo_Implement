{
 "cells": [
  {
   "cell_type": "markdown",
   "id": "3aa4d59f",
   "metadata": {
    "_cell_guid": "b1076dfc-b9ad-4769-8c92-a6c4dae69d19",
    "_uuid": "8f2839f25d086af736a60e9eeb907d3b93b6e0e5",
    "papermill": {
     "duration": 0.003973,
     "end_time": "2024-03-29T08:31:13.550272",
     "exception": false,
     "start_time": "2024-03-29T08:31:13.546299",
     "status": "completed"
    },
    "tags": []
   },
   "source": [
    "# Importing the Libraries"
   ]
  },
  {
   "cell_type": "code",
   "execution_count": 1,
   "id": "a6a21862",
   "metadata": {
    "execution": {
     "iopub.execute_input": "2024-03-29T08:31:13.559066Z",
     "iopub.status.busy": "2024-03-29T08:31:13.558634Z",
     "iopub.status.idle": "2024-03-29T08:31:16.858326Z",
     "shell.execute_reply": "2024-03-29T08:31:16.857098Z"
    },
    "papermill": {
     "duration": 3.306983,
     "end_time": "2024-03-29T08:31:16.861166",
     "exception": false,
     "start_time": "2024-03-29T08:31:13.554183",
     "status": "completed"
    },
    "tags": []
   },
   "outputs": [],
   "source": [
    "import numpy as np\n",
    "import pandas as pd\n",
    "import matplotlib.pyplot as plt\n",
    "import seaborn as sns\n",
    "from sklearn.model_selection import train_test_split\n",
    "from sklearn.ensemble import RandomForestRegressor\n",
    "from sklearn import metrics"
   ]
  },
  {
   "cell_type": "markdown",
   "id": "9434c858",
   "metadata": {
    "papermill": {
     "duration": 0.002993,
     "end_time": "2024-03-29T08:31:16.867693",
     "exception": false,
     "start_time": "2024-03-29T08:31:16.864700",
     "status": "completed"
    },
    "tags": []
   },
   "source": [
    "# Data Collection and Processing"
   ]
  },
  {
   "cell_type": "markdown",
   "id": "e6afe65c",
   "metadata": {
    "papermill": {
     "duration": 0.002996,
     "end_time": "2024-03-29T08:31:16.873943",
     "exception": false,
     "start_time": "2024-03-29T08:31:16.870947",
     "status": "completed"
    },
    "tags": []
   },
   "source": []
  },
  {
   "cell_type": "code",
   "execution_count": 2,
   "id": "d0c85daf",
   "metadata": {
    "execution": {
     "iopub.execute_input": "2024-03-29T08:31:16.882240Z",
     "iopub.status.busy": "2024-03-29T08:31:16.881704Z",
     "iopub.status.idle": "2024-03-29T08:31:16.913593Z",
     "shell.execute_reply": "2024-03-29T08:31:16.912748Z"
    },
    "papermill": {
     "duration": 0.038898,
     "end_time": "2024-03-29T08:31:16.915941",
     "exception": false,
     "start_time": "2024-03-29T08:31:16.877043",
     "status": "completed"
    },
    "tags": []
   },
   "outputs": [],
   "source": [
    "gold_data=pd.read_csv('/kaggle/input/gold-price-data/gld_price_data.csv')"
   ]
  },
  {
   "cell_type": "code",
   "execution_count": 3,
   "id": "c6b9a0c8",
   "metadata": {
    "execution": {
     "iopub.execute_input": "2024-03-29T08:31:16.924594Z",
     "iopub.status.busy": "2024-03-29T08:31:16.924215Z",
     "iopub.status.idle": "2024-03-29T08:31:16.944181Z",
     "shell.execute_reply": "2024-03-29T08:31:16.943392Z"
    },
    "papermill": {
     "duration": 0.026865,
     "end_time": "2024-03-29T08:31:16.946193",
     "exception": false,
     "start_time": "2024-03-29T08:31:16.919328",
     "status": "completed"
    },
    "tags": []
   },
   "outputs": [
    {
     "data": {
      "text/html": [
       "<div>\n",
       "<style scoped>\n",
       "    .dataframe tbody tr th:only-of-type {\n",
       "        vertical-align: middle;\n",
       "    }\n",
       "\n",
       "    .dataframe tbody tr th {\n",
       "        vertical-align: top;\n",
       "    }\n",
       "\n",
       "    .dataframe thead th {\n",
       "        text-align: right;\n",
       "    }\n",
       "</style>\n",
       "<table border=\"1\" class=\"dataframe\">\n",
       "  <thead>\n",
       "    <tr style=\"text-align: right;\">\n",
       "      <th></th>\n",
       "      <th>Date</th>\n",
       "      <th>SPX</th>\n",
       "      <th>GLD</th>\n",
       "      <th>USO</th>\n",
       "      <th>SLV</th>\n",
       "      <th>EUR/USD</th>\n",
       "    </tr>\n",
       "  </thead>\n",
       "  <tbody>\n",
       "    <tr>\n",
       "      <th>0</th>\n",
       "      <td>1/2/2008</td>\n",
       "      <td>1447.160034</td>\n",
       "      <td>84.860001</td>\n",
       "      <td>78.470001</td>\n",
       "      <td>15.180</td>\n",
       "      <td>1.471692</td>\n",
       "    </tr>\n",
       "    <tr>\n",
       "      <th>1</th>\n",
       "      <td>1/3/2008</td>\n",
       "      <td>1447.160034</td>\n",
       "      <td>85.570000</td>\n",
       "      <td>78.370003</td>\n",
       "      <td>15.285</td>\n",
       "      <td>1.474491</td>\n",
       "    </tr>\n",
       "    <tr>\n",
       "      <th>2</th>\n",
       "      <td>1/4/2008</td>\n",
       "      <td>1411.630005</td>\n",
       "      <td>85.129997</td>\n",
       "      <td>77.309998</td>\n",
       "      <td>15.167</td>\n",
       "      <td>1.475492</td>\n",
       "    </tr>\n",
       "    <tr>\n",
       "      <th>3</th>\n",
       "      <td>1/7/2008</td>\n",
       "      <td>1416.180054</td>\n",
       "      <td>84.769997</td>\n",
       "      <td>75.500000</td>\n",
       "      <td>15.053</td>\n",
       "      <td>1.468299</td>\n",
       "    </tr>\n",
       "    <tr>\n",
       "      <th>4</th>\n",
       "      <td>1/8/2008</td>\n",
       "      <td>1390.189941</td>\n",
       "      <td>86.779999</td>\n",
       "      <td>76.059998</td>\n",
       "      <td>15.590</td>\n",
       "      <td>1.557099</td>\n",
       "    </tr>\n",
       "  </tbody>\n",
       "</table>\n",
       "</div>"
      ],
      "text/plain": [
       "       Date          SPX        GLD        USO     SLV   EUR/USD\n",
       "0  1/2/2008  1447.160034  84.860001  78.470001  15.180  1.471692\n",
       "1  1/3/2008  1447.160034  85.570000  78.370003  15.285  1.474491\n",
       "2  1/4/2008  1411.630005  85.129997  77.309998  15.167  1.475492\n",
       "3  1/7/2008  1416.180054  84.769997  75.500000  15.053  1.468299\n",
       "4  1/8/2008  1390.189941  86.779999  76.059998  15.590  1.557099"
      ]
     },
     "execution_count": 3,
     "metadata": {},
     "output_type": "execute_result"
    }
   ],
   "source": [
    "gold_data.head()"
   ]
  },
  {
   "cell_type": "code",
   "execution_count": 4,
   "id": "489d87cb",
   "metadata": {
    "execution": {
     "iopub.execute_input": "2024-03-29T08:31:16.955519Z",
     "iopub.status.busy": "2024-03-29T08:31:16.954511Z",
     "iopub.status.idle": "2024-03-29T08:31:16.960471Z",
     "shell.execute_reply": "2024-03-29T08:31:16.959476Z"
    },
    "papermill": {
     "duration": 0.012628,
     "end_time": "2024-03-29T08:31:16.962489",
     "exception": false,
     "start_time": "2024-03-29T08:31:16.949861",
     "status": "completed"
    },
    "tags": []
   },
   "outputs": [
    {
     "data": {
      "text/plain": [
       "(2290, 6)"
      ]
     },
     "execution_count": 4,
     "metadata": {},
     "output_type": "execute_result"
    }
   ],
   "source": [
    "gold_data.shape"
   ]
  },
  {
   "cell_type": "code",
   "execution_count": 5,
   "id": "b6288025",
   "metadata": {
    "execution": {
     "iopub.execute_input": "2024-03-29T08:31:16.971433Z",
     "iopub.status.busy": "2024-03-29T08:31:16.970857Z",
     "iopub.status.idle": "2024-03-29T08:31:16.997253Z",
     "shell.execute_reply": "2024-03-29T08:31:16.996150Z"
    },
    "papermill": {
     "duration": 0.033336,
     "end_time": "2024-03-29T08:31:16.999442",
     "exception": false,
     "start_time": "2024-03-29T08:31:16.966106",
     "status": "completed"
    },
    "tags": []
   },
   "outputs": [
    {
     "name": "stdout",
     "output_type": "stream",
     "text": [
      "<class 'pandas.core.frame.DataFrame'>\n",
      "RangeIndex: 2290 entries, 0 to 2289\n",
      "Data columns (total 6 columns):\n",
      " #   Column   Non-Null Count  Dtype  \n",
      "---  ------   --------------  -----  \n",
      " 0   Date     2290 non-null   object \n",
      " 1   SPX      2290 non-null   float64\n",
      " 2   GLD      2290 non-null   float64\n",
      " 3   USO      2290 non-null   float64\n",
      " 4   SLV      2290 non-null   float64\n",
      " 5   EUR/USD  2290 non-null   float64\n",
      "dtypes: float64(5), object(1)\n",
      "memory usage: 107.5+ KB\n"
     ]
    }
   ],
   "source": [
    "gold_data.info()"
   ]
  },
  {
   "cell_type": "code",
   "execution_count": 6,
   "id": "78f7a094",
   "metadata": {
    "execution": {
     "iopub.execute_input": "2024-03-29T08:31:17.009261Z",
     "iopub.status.busy": "2024-03-29T08:31:17.008262Z",
     "iopub.status.idle": "2024-03-29T08:31:17.016996Z",
     "shell.execute_reply": "2024-03-29T08:31:17.015987Z"
    },
    "papermill": {
     "duration": 0.01598,
     "end_time": "2024-03-29T08:31:17.019215",
     "exception": false,
     "start_time": "2024-03-29T08:31:17.003235",
     "status": "completed"
    },
    "tags": []
   },
   "outputs": [
    {
     "data": {
      "text/plain": [
       "Date       0\n",
       "SPX        0\n",
       "GLD        0\n",
       "USO        0\n",
       "SLV        0\n",
       "EUR/USD    0\n",
       "dtype: int64"
      ]
     },
     "execution_count": 6,
     "metadata": {},
     "output_type": "execute_result"
    }
   ],
   "source": [
    "gold_data.isnull().sum()"
   ]
  },
  {
   "cell_type": "code",
   "execution_count": 7,
   "id": "7509033d",
   "metadata": {
    "execution": {
     "iopub.execute_input": "2024-03-29T08:31:17.029002Z",
     "iopub.status.busy": "2024-03-29T08:31:17.028130Z",
     "iopub.status.idle": "2024-03-29T08:31:17.055672Z",
     "shell.execute_reply": "2024-03-29T08:31:17.054617Z"
    },
    "papermill": {
     "duration": 0.034989,
     "end_time": "2024-03-29T08:31:17.058131",
     "exception": false,
     "start_time": "2024-03-29T08:31:17.023142",
     "status": "completed"
    },
    "tags": []
   },
   "outputs": [
    {
     "data": {
      "text/html": [
       "<div>\n",
       "<style scoped>\n",
       "    .dataframe tbody tr th:only-of-type {\n",
       "        vertical-align: middle;\n",
       "    }\n",
       "\n",
       "    .dataframe tbody tr th {\n",
       "        vertical-align: top;\n",
       "    }\n",
       "\n",
       "    .dataframe thead th {\n",
       "        text-align: right;\n",
       "    }\n",
       "</style>\n",
       "<table border=\"1\" class=\"dataframe\">\n",
       "  <thead>\n",
       "    <tr style=\"text-align: right;\">\n",
       "      <th></th>\n",
       "      <th>SPX</th>\n",
       "      <th>GLD</th>\n",
       "      <th>USO</th>\n",
       "      <th>SLV</th>\n",
       "      <th>EUR/USD</th>\n",
       "    </tr>\n",
       "  </thead>\n",
       "  <tbody>\n",
       "    <tr>\n",
       "      <th>count</th>\n",
       "      <td>2290.000000</td>\n",
       "      <td>2290.000000</td>\n",
       "      <td>2290.000000</td>\n",
       "      <td>2290.000000</td>\n",
       "      <td>2290.000000</td>\n",
       "    </tr>\n",
       "    <tr>\n",
       "      <th>mean</th>\n",
       "      <td>1654.315776</td>\n",
       "      <td>122.732875</td>\n",
       "      <td>31.842221</td>\n",
       "      <td>20.084997</td>\n",
       "      <td>1.283653</td>\n",
       "    </tr>\n",
       "    <tr>\n",
       "      <th>std</th>\n",
       "      <td>519.111540</td>\n",
       "      <td>23.283346</td>\n",
       "      <td>19.523517</td>\n",
       "      <td>7.092566</td>\n",
       "      <td>0.131547</td>\n",
       "    </tr>\n",
       "    <tr>\n",
       "      <th>min</th>\n",
       "      <td>676.530029</td>\n",
       "      <td>70.000000</td>\n",
       "      <td>7.960000</td>\n",
       "      <td>8.850000</td>\n",
       "      <td>1.039047</td>\n",
       "    </tr>\n",
       "    <tr>\n",
       "      <th>25%</th>\n",
       "      <td>1239.874969</td>\n",
       "      <td>109.725000</td>\n",
       "      <td>14.380000</td>\n",
       "      <td>15.570000</td>\n",
       "      <td>1.171313</td>\n",
       "    </tr>\n",
       "    <tr>\n",
       "      <th>50%</th>\n",
       "      <td>1551.434998</td>\n",
       "      <td>120.580002</td>\n",
       "      <td>33.869999</td>\n",
       "      <td>17.268500</td>\n",
       "      <td>1.303297</td>\n",
       "    </tr>\n",
       "    <tr>\n",
       "      <th>75%</th>\n",
       "      <td>2073.010070</td>\n",
       "      <td>132.840004</td>\n",
       "      <td>37.827501</td>\n",
       "      <td>22.882500</td>\n",
       "      <td>1.369971</td>\n",
       "    </tr>\n",
       "    <tr>\n",
       "      <th>max</th>\n",
       "      <td>2872.870117</td>\n",
       "      <td>184.589996</td>\n",
       "      <td>117.480003</td>\n",
       "      <td>47.259998</td>\n",
       "      <td>1.598798</td>\n",
       "    </tr>\n",
       "  </tbody>\n",
       "</table>\n",
       "</div>"
      ],
      "text/plain": [
       "               SPX          GLD          USO          SLV      EUR/USD\n",
       "count  2290.000000  2290.000000  2290.000000  2290.000000  2290.000000\n",
       "mean   1654.315776   122.732875    31.842221    20.084997     1.283653\n",
       "std     519.111540    23.283346    19.523517     7.092566     0.131547\n",
       "min     676.530029    70.000000     7.960000     8.850000     1.039047\n",
       "25%    1239.874969   109.725000    14.380000    15.570000     1.171313\n",
       "50%    1551.434998   120.580002    33.869999    17.268500     1.303297\n",
       "75%    2073.010070   132.840004    37.827501    22.882500     1.369971\n",
       "max    2872.870117   184.589996   117.480003    47.259998     1.598798"
      ]
     },
     "execution_count": 7,
     "metadata": {},
     "output_type": "execute_result"
    }
   ],
   "source": [
    "# getting the statistical measures of the data\n",
    "gold_data.describe()"
   ]
  },
  {
   "cell_type": "markdown",
   "id": "1aafbf12",
   "metadata": {
    "papermill": {
     "duration": 0.003802,
     "end_time": "2024-03-29T08:31:17.066109",
     "exception": false,
     "start_time": "2024-03-29T08:31:17.062307",
     "status": "completed"
    },
    "tags": []
   },
   "source": [
    "# Correlation:\n",
    "\n",
    "**1. Positive Correlation 2. Negative Correlation**"
   ]
  },
  {
   "cell_type": "code",
   "execution_count": null,
   "id": "987aedfb",
   "metadata": {
    "papermill": {
     "duration": 0.003789,
     "end_time": "2024-03-29T08:31:17.074291",
     "exception": false,
     "start_time": "2024-03-29T08:31:17.070502",
     "status": "completed"
    },
    "tags": []
   },
   "outputs": [],
   "source": []
  }
 ],
 "metadata": {
  "kaggle": {
   "accelerator": "none",
   "dataSources": [
    {
     "datasetId": 145424,
     "sourceId": 339411,
     "sourceType": "datasetVersion"
    }
   ],
   "dockerImageVersionId": 30673,
   "isGpuEnabled": false,
   "isInternetEnabled": false,
   "language": "python",
   "sourceType": "notebook"
  },
  "kernelspec": {
   "display_name": "Python 3",
   "language": "python",
   "name": "python3"
  },
  "language_info": {
   "codemirror_mode": {
    "name": "ipython",
    "version": 3
   },
   "file_extension": ".py",
   "mimetype": "text/x-python",
   "name": "python",
   "nbconvert_exporter": "python",
   "pygments_lexer": "ipython3",
   "version": "3.10.13"
  },
  "papermill": {
   "default_parameters": {},
   "duration": 7.076227,
   "end_time": "2024-03-29T08:31:17.699282",
   "environment_variables": {},
   "exception": null,
   "input_path": "__notebook__.ipynb",
   "output_path": "__notebook__.ipynb",
   "parameters": {},
   "start_time": "2024-03-29T08:31:10.623055",
   "version": "2.5.0"
  }
 },
 "nbformat": 4,
 "nbformat_minor": 5
}
