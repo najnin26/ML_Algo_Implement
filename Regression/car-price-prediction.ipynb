{
 "cells": [
  {
   "cell_type": "code",
   "execution_count": 1,
   "id": "53b4c9b4",
   "metadata": {
    "_cell_guid": "b1076dfc-b9ad-4769-8c92-a6c4dae69d19",
    "_uuid": "8f2839f25d086af736a60e9eeb907d3b93b6e0e5",
    "execution": {
     "iopub.execute_input": "2024-03-28T08:40:01.119434Z",
     "iopub.status.busy": "2024-03-28T08:40:01.117886Z",
     "iopub.status.idle": "2024-03-28T08:40:04.608667Z",
     "shell.execute_reply": "2024-03-28T08:40:04.607369Z"
    },
    "papermill": {
     "duration": 3.505633,
     "end_time": "2024-03-28T08:40:04.611907",
     "exception": false,
     "start_time": "2024-03-28T08:40:01.106274",
     "status": "completed"
    },
    "tags": []
   },
   "outputs": [],
   "source": [
    "import pandas as pd\n",
    "import matplotlib.pyplot as plt\n",
    "import seaborn as sns\n",
    "from sklearn.model_selection  import  train_test_split\n",
    "from sklearn.linear_model import LinearRegression\n",
    "from sklearn.linear_model import Lasso\n",
    "from sklearn import metrics"
   ]
  },
  {
   "cell_type": "markdown",
   "id": "90fb9348",
   "metadata": {
    "papermill": {
     "duration": 0.008465,
     "end_time": "2024-03-28T08:40:04.629320",
     "exception": false,
     "start_time": "2024-03-28T08:40:04.620855",
     "status": "completed"
    },
    "tags": []
   },
   "source": [
    "# Data Collection and Processing"
   ]
  },
  {
   "cell_type": "code",
   "execution_count": 2,
   "id": "7b1e4806",
   "metadata": {
    "execution": {
     "iopub.execute_input": "2024-03-28T08:40:04.648829Z",
     "iopub.status.busy": "2024-03-28T08:40:04.648298Z",
     "iopub.status.idle": "2024-03-28T08:40:04.674161Z",
     "shell.execute_reply": "2024-03-28T08:40:04.672806Z"
    },
    "papermill": {
     "duration": 0.039157,
     "end_time": "2024-03-28T08:40:04.677068",
     "exception": false,
     "start_time": "2024-03-28T08:40:04.637911",
     "status": "completed"
    },
    "tags": []
   },
   "outputs": [],
   "source": [
    "# loading the data from csv file to pandas dataframe\n",
    "car_dataset=pd.read_csv('/kaggle/input/vehicle-dataset-from-cardekho/car data.csv')"
   ]
  },
  {
   "cell_type": "markdown",
   "id": "2a33730e",
   "metadata": {
    "papermill": {
     "duration": 0.009012,
     "end_time": "2024-03-28T08:40:04.695391",
     "exception": false,
     "start_time": "2024-03-28T08:40:04.686379",
     "status": "completed"
    },
    "tags": []
   },
   "source": []
  },
  {
   "cell_type": "code",
   "execution_count": 3,
   "id": "f3e79413",
   "metadata": {
    "execution": {
     "iopub.execute_input": "2024-03-28T08:40:04.716317Z",
     "iopub.status.busy": "2024-03-28T08:40:04.715899Z",
     "iopub.status.idle": "2024-03-28T08:40:04.744462Z",
     "shell.execute_reply": "2024-03-28T08:40:04.743193Z"
    },
    "papermill": {
     "duration": 0.042108,
     "end_time": "2024-03-28T08:40:04.747062",
     "exception": false,
     "start_time": "2024-03-28T08:40:04.704954",
     "status": "completed"
    },
    "tags": []
   },
   "outputs": [
    {
     "data": {
      "text/html": [
       "<div>\n",
       "<style scoped>\n",
       "    .dataframe tbody tr th:only-of-type {\n",
       "        vertical-align: middle;\n",
       "    }\n",
       "\n",
       "    .dataframe tbody tr th {\n",
       "        vertical-align: top;\n",
       "    }\n",
       "\n",
       "    .dataframe thead th {\n",
       "        text-align: right;\n",
       "    }\n",
       "</style>\n",
       "<table border=\"1\" class=\"dataframe\">\n",
       "  <thead>\n",
       "    <tr style=\"text-align: right;\">\n",
       "      <th></th>\n",
       "      <th>Car_Name</th>\n",
       "      <th>Year</th>\n",
       "      <th>Selling_Price</th>\n",
       "      <th>Present_Price</th>\n",
       "      <th>Kms_Driven</th>\n",
       "      <th>Fuel_Type</th>\n",
       "      <th>Seller_Type</th>\n",
       "      <th>Transmission</th>\n",
       "      <th>Owner</th>\n",
       "    </tr>\n",
       "  </thead>\n",
       "  <tbody>\n",
       "    <tr>\n",
       "      <th>0</th>\n",
       "      <td>ritz</td>\n",
       "      <td>2014</td>\n",
       "      <td>3.35</td>\n",
       "      <td>5.59</td>\n",
       "      <td>27000</td>\n",
       "      <td>Petrol</td>\n",
       "      <td>Dealer</td>\n",
       "      <td>Manual</td>\n",
       "      <td>0</td>\n",
       "    </tr>\n",
       "    <tr>\n",
       "      <th>1</th>\n",
       "      <td>sx4</td>\n",
       "      <td>2013</td>\n",
       "      <td>4.75</td>\n",
       "      <td>9.54</td>\n",
       "      <td>43000</td>\n",
       "      <td>Diesel</td>\n",
       "      <td>Dealer</td>\n",
       "      <td>Manual</td>\n",
       "      <td>0</td>\n",
       "    </tr>\n",
       "    <tr>\n",
       "      <th>2</th>\n",
       "      <td>ciaz</td>\n",
       "      <td>2017</td>\n",
       "      <td>7.25</td>\n",
       "      <td>9.85</td>\n",
       "      <td>6900</td>\n",
       "      <td>Petrol</td>\n",
       "      <td>Dealer</td>\n",
       "      <td>Manual</td>\n",
       "      <td>0</td>\n",
       "    </tr>\n",
       "    <tr>\n",
       "      <th>3</th>\n",
       "      <td>wagon r</td>\n",
       "      <td>2011</td>\n",
       "      <td>2.85</td>\n",
       "      <td>4.15</td>\n",
       "      <td>5200</td>\n",
       "      <td>Petrol</td>\n",
       "      <td>Dealer</td>\n",
       "      <td>Manual</td>\n",
       "      <td>0</td>\n",
       "    </tr>\n",
       "    <tr>\n",
       "      <th>4</th>\n",
       "      <td>swift</td>\n",
       "      <td>2014</td>\n",
       "      <td>4.60</td>\n",
       "      <td>6.87</td>\n",
       "      <td>42450</td>\n",
       "      <td>Diesel</td>\n",
       "      <td>Dealer</td>\n",
       "      <td>Manual</td>\n",
       "      <td>0</td>\n",
       "    </tr>\n",
       "  </tbody>\n",
       "</table>\n",
       "</div>"
      ],
      "text/plain": [
       "  Car_Name  Year  Selling_Price  Present_Price  Kms_Driven Fuel_Type  \\\n",
       "0     ritz  2014           3.35           5.59       27000    Petrol   \n",
       "1      sx4  2013           4.75           9.54       43000    Diesel   \n",
       "2     ciaz  2017           7.25           9.85        6900    Petrol   \n",
       "3  wagon r  2011           2.85           4.15        5200    Petrol   \n",
       "4    swift  2014           4.60           6.87       42450    Diesel   \n",
       "\n",
       "  Seller_Type Transmission  Owner  \n",
       "0      Dealer       Manual      0  \n",
       "1      Dealer       Manual      0  \n",
       "2      Dealer       Manual      0  \n",
       "3      Dealer       Manual      0  \n",
       "4      Dealer       Manual      0  "
      ]
     },
     "execution_count": 3,
     "metadata": {},
     "output_type": "execute_result"
    }
   ],
   "source": [
    "# inspecting the first 5 rows of the dataframe\n",
    "car_dataset.head()"
   ]
  },
  {
   "cell_type": "code",
   "execution_count": 4,
   "id": "dc7a3909",
   "metadata": {
    "execution": {
     "iopub.execute_input": "2024-03-28T08:40:04.767943Z",
     "iopub.status.busy": "2024-03-28T08:40:04.767552Z",
     "iopub.status.idle": "2024-03-28T08:40:04.774854Z",
     "shell.execute_reply": "2024-03-28T08:40:04.773474Z"
    },
    "papermill": {
     "duration": 0.021291,
     "end_time": "2024-03-28T08:40:04.777452",
     "exception": false,
     "start_time": "2024-03-28T08:40:04.756161",
     "status": "completed"
    },
    "tags": []
   },
   "outputs": [
    {
     "data": {
      "text/plain": [
       "(301, 9)"
      ]
     },
     "execution_count": 4,
     "metadata": {},
     "output_type": "execute_result"
    }
   ],
   "source": [
    "# checking the number of rows and columns\n",
    "car_dataset.shape"
   ]
  },
  {
   "cell_type": "code",
   "execution_count": 5,
   "id": "99069bd8",
   "metadata": {
    "execution": {
     "iopub.execute_input": "2024-03-28T08:40:04.800023Z",
     "iopub.status.busy": "2024-03-28T08:40:04.799634Z",
     "iopub.status.idle": "2024-03-28T08:40:04.829855Z",
     "shell.execute_reply": "2024-03-28T08:40:04.828101Z"
    },
    "papermill": {
     "duration": 0.044475,
     "end_time": "2024-03-28T08:40:04.832582",
     "exception": false,
     "start_time": "2024-03-28T08:40:04.788107",
     "status": "completed"
    },
    "tags": []
   },
   "outputs": [
    {
     "name": "stdout",
     "output_type": "stream",
     "text": [
      "<class 'pandas.core.frame.DataFrame'>\n",
      "RangeIndex: 301 entries, 0 to 300\n",
      "Data columns (total 9 columns):\n",
      " #   Column         Non-Null Count  Dtype  \n",
      "---  ------         --------------  -----  \n",
      " 0   Car_Name       301 non-null    object \n",
      " 1   Year           301 non-null    int64  \n",
      " 2   Selling_Price  301 non-null    float64\n",
      " 3   Present_Price  301 non-null    float64\n",
      " 4   Kms_Driven     301 non-null    int64  \n",
      " 5   Fuel_Type      301 non-null    object \n",
      " 6   Seller_Type    301 non-null    object \n",
      " 7   Transmission   301 non-null    object \n",
      " 8   Owner          301 non-null    int64  \n",
      "dtypes: float64(2), int64(3), object(4)\n",
      "memory usage: 21.3+ KB\n"
     ]
    }
   ],
   "source": [
    "# getting some information about the dataset\n",
    "car_dataset.info()"
   ]
  },
  {
   "cell_type": "code",
   "execution_count": 6,
   "id": "0e2ee300",
   "metadata": {
    "execution": {
     "iopub.execute_input": "2024-03-28T08:40:04.854677Z",
     "iopub.status.busy": "2024-03-28T08:40:04.853922Z",
     "iopub.status.idle": "2024-03-28T08:40:04.864329Z",
     "shell.execute_reply": "2024-03-28T08:40:04.863081Z"
    },
    "papermill": {
     "duration": 0.024685,
     "end_time": "2024-03-28T08:40:04.867218",
     "exception": false,
     "start_time": "2024-03-28T08:40:04.842533",
     "status": "completed"
    },
    "tags": []
   },
   "outputs": [
    {
     "data": {
      "text/plain": [
       "Car_Name         0\n",
       "Year             0\n",
       "Selling_Price    0\n",
       "Present_Price    0\n",
       "Kms_Driven       0\n",
       "Fuel_Type        0\n",
       "Seller_Type      0\n",
       "Transmission     0\n",
       "Owner            0\n",
       "dtype: int64"
      ]
     },
     "execution_count": 6,
     "metadata": {},
     "output_type": "execute_result"
    }
   ],
   "source": [
    "# checking the number of missing values\n",
    "car_dataset.isnull().sum()"
   ]
  },
  {
   "cell_type": "code",
   "execution_count": 7,
   "id": "e9cee9c5",
   "metadata": {
    "execution": {
     "iopub.execute_input": "2024-03-28T08:40:04.890803Z",
     "iopub.status.busy": "2024-03-28T08:40:04.890406Z",
     "iopub.status.idle": "2024-03-28T08:40:04.901911Z",
     "shell.execute_reply": "2024-03-28T08:40:04.900417Z"
    },
    "papermill": {
     "duration": 0.028115,
     "end_time": "2024-03-28T08:40:04.904836",
     "exception": false,
     "start_time": "2024-03-28T08:40:04.876721",
     "status": "completed"
    },
    "tags": []
   },
   "outputs": [
    {
     "name": "stdout",
     "output_type": "stream",
     "text": [
      "Fuel_Type\n",
      "Petrol    239\n",
      "Diesel     60\n",
      "CNG         2\n",
      "Name: count, dtype: int64\n",
      "Seller_Type\n",
      "Dealer        195\n",
      "Individual    106\n",
      "Name: count, dtype: int64\n",
      "Transmission\n",
      "Manual       261\n",
      "Automatic     40\n",
      "Name: count, dtype: int64\n"
     ]
    }
   ],
   "source": [
    "# checking the distribution of categorical data\n",
    "print(car_dataset.Fuel_Type.value_counts())\n",
    "print(car_dataset.Seller_Type.value_counts())\n",
    "print(car_dataset.Transmission.value_counts())"
   ]
  },
  {
   "cell_type": "markdown",
   "id": "6f191092",
   "metadata": {
    "papermill": {
     "duration": 0.01056,
     "end_time": "2024-03-28T08:40:04.925853",
     "exception": false,
     "start_time": "2024-03-28T08:40:04.915293",
     "status": "completed"
    },
    "tags": []
   },
   "source": [
    "# Encoding the Categorical Data"
   ]
  },
  {
   "cell_type": "code",
   "execution_count": 8,
   "id": "3eabccfe",
   "metadata": {
    "execution": {
     "iopub.execute_input": "2024-03-28T08:40:04.949476Z",
     "iopub.status.busy": "2024-03-28T08:40:04.948765Z",
     "iopub.status.idle": "2024-03-28T08:40:04.961091Z",
     "shell.execute_reply": "2024-03-28T08:40:04.960230Z"
    },
    "papermill": {
     "duration": 0.027426,
     "end_time": "2024-03-28T08:40:04.963724",
     "exception": false,
     "start_time": "2024-03-28T08:40:04.936298",
     "status": "completed"
    },
    "tags": []
   },
   "outputs": [
    {
     "name": "stderr",
     "output_type": "stream",
     "text": [
      "/tmp/ipykernel_18/2077123942.py:2: FutureWarning: Downcasting behavior in `replace` is deprecated and will be removed in a future version. To retain the old behavior, explicitly call `result.infer_objects(copy=False)`. To opt-in to the future behavior, set `pd.set_option('future.no_silent_downcasting', True)`\n",
      "  car_dataset.replace({'Fuel_Type':{'Petrol':0,'Diesel':1,'CNG':2}},inplace=True)\n",
      "/tmp/ipykernel_18/2077123942.py:4: FutureWarning: Downcasting behavior in `replace` is deprecated and will be removed in a future version. To retain the old behavior, explicitly call `result.infer_objects(copy=False)`. To opt-in to the future behavior, set `pd.set_option('future.no_silent_downcasting', True)`\n",
      "  car_dataset.replace({\"Seller_Type\":{\"Dealer\":0,\"Individual\":1}},inplace=True)\n",
      "/tmp/ipykernel_18/2077123942.py:6: FutureWarning: Downcasting behavior in `replace` is deprecated and will be removed in a future version. To retain the old behavior, explicitly call `result.infer_objects(copy=False)`. To opt-in to the future behavior, set `pd.set_option('future.no_silent_downcasting', True)`\n",
      "  car_dataset.replace({\"Transmission\":{\"Manual\":0,\"Automatic\":1}},inplace=True)\n"
     ]
    }
   ],
   "source": [
    "# encoding \"Fuel_Type\" Column\n",
    "car_dataset.replace({'Fuel_Type':{'Petrol':0,'Diesel':1,'CNG':2}},inplace=True)\n",
    "# encoding \"Seller_Type\" Column\n",
    "car_dataset.replace({\"Seller_Type\":{\"Dealer\":0,\"Individual\":1}},inplace=True)\n",
    "# encoding \"Transmission\" Column\n",
    "car_dataset.replace({\"Transmission\":{\"Manual\":0,\"Automatic\":1}},inplace=True)"
   ]
  },
  {
   "cell_type": "code",
   "execution_count": 9,
   "id": "97c9ed9a",
   "metadata": {
    "execution": {
     "iopub.execute_input": "2024-03-28T08:40:04.986921Z",
     "iopub.status.busy": "2024-03-28T08:40:04.986482Z",
     "iopub.status.idle": "2024-03-28T08:40:05.002643Z",
     "shell.execute_reply": "2024-03-28T08:40:05.001210Z"
    },
    "papermill": {
     "duration": 0.031192,
     "end_time": "2024-03-28T08:40:05.005424",
     "exception": false,
     "start_time": "2024-03-28T08:40:04.974232",
     "status": "completed"
    },
    "tags": []
   },
   "outputs": [
    {
     "data": {
      "text/html": [
       "<div>\n",
       "<style scoped>\n",
       "    .dataframe tbody tr th:only-of-type {\n",
       "        vertical-align: middle;\n",
       "    }\n",
       "\n",
       "    .dataframe tbody tr th {\n",
       "        vertical-align: top;\n",
       "    }\n",
       "\n",
       "    .dataframe thead th {\n",
       "        text-align: right;\n",
       "    }\n",
       "</style>\n",
       "<table border=\"1\" class=\"dataframe\">\n",
       "  <thead>\n",
       "    <tr style=\"text-align: right;\">\n",
       "      <th></th>\n",
       "      <th>Car_Name</th>\n",
       "      <th>Year</th>\n",
       "      <th>Selling_Price</th>\n",
       "      <th>Present_Price</th>\n",
       "      <th>Kms_Driven</th>\n",
       "      <th>Fuel_Type</th>\n",
       "      <th>Seller_Type</th>\n",
       "      <th>Transmission</th>\n",
       "      <th>Owner</th>\n",
       "    </tr>\n",
       "  </thead>\n",
       "  <tbody>\n",
       "    <tr>\n",
       "      <th>0</th>\n",
       "      <td>ritz</td>\n",
       "      <td>2014</td>\n",
       "      <td>3.35</td>\n",
       "      <td>5.59</td>\n",
       "      <td>27000</td>\n",
       "      <td>0</td>\n",
       "      <td>0</td>\n",
       "      <td>0</td>\n",
       "      <td>0</td>\n",
       "    </tr>\n",
       "    <tr>\n",
       "      <th>1</th>\n",
       "      <td>sx4</td>\n",
       "      <td>2013</td>\n",
       "      <td>4.75</td>\n",
       "      <td>9.54</td>\n",
       "      <td>43000</td>\n",
       "      <td>1</td>\n",
       "      <td>0</td>\n",
       "      <td>0</td>\n",
       "      <td>0</td>\n",
       "    </tr>\n",
       "    <tr>\n",
       "      <th>2</th>\n",
       "      <td>ciaz</td>\n",
       "      <td>2017</td>\n",
       "      <td>7.25</td>\n",
       "      <td>9.85</td>\n",
       "      <td>6900</td>\n",
       "      <td>0</td>\n",
       "      <td>0</td>\n",
       "      <td>0</td>\n",
       "      <td>0</td>\n",
       "    </tr>\n",
       "    <tr>\n",
       "      <th>3</th>\n",
       "      <td>wagon r</td>\n",
       "      <td>2011</td>\n",
       "      <td>2.85</td>\n",
       "      <td>4.15</td>\n",
       "      <td>5200</td>\n",
       "      <td>0</td>\n",
       "      <td>0</td>\n",
       "      <td>0</td>\n",
       "      <td>0</td>\n",
       "    </tr>\n",
       "    <tr>\n",
       "      <th>4</th>\n",
       "      <td>swift</td>\n",
       "      <td>2014</td>\n",
       "      <td>4.60</td>\n",
       "      <td>6.87</td>\n",
       "      <td>42450</td>\n",
       "      <td>1</td>\n",
       "      <td>0</td>\n",
       "      <td>0</td>\n",
       "      <td>0</td>\n",
       "    </tr>\n",
       "  </tbody>\n",
       "</table>\n",
       "</div>"
      ],
      "text/plain": [
       "  Car_Name  Year  Selling_Price  Present_Price  Kms_Driven  Fuel_Type  \\\n",
       "0     ritz  2014           3.35           5.59       27000          0   \n",
       "1      sx4  2013           4.75           9.54       43000          1   \n",
       "2     ciaz  2017           7.25           9.85        6900          0   \n",
       "3  wagon r  2011           2.85           4.15        5200          0   \n",
       "4    swift  2014           4.60           6.87       42450          1   \n",
       "\n",
       "   Seller_Type  Transmission  Owner  \n",
       "0            0             0      0  \n",
       "1            0             0      0  \n",
       "2            0             0      0  \n",
       "3            0             0      0  \n",
       "4            0             0      0  "
      ]
     },
     "execution_count": 9,
     "metadata": {},
     "output_type": "execute_result"
    }
   ],
   "source": [
    "car_dataset.head()"
   ]
  },
  {
   "cell_type": "markdown",
   "id": "a90b1692",
   "metadata": {
    "papermill": {
     "duration": 0.011884,
     "end_time": "2024-03-28T08:40:05.028253",
     "exception": false,
     "start_time": "2024-03-28T08:40:05.016369",
     "status": "completed"
    },
    "tags": []
   },
   "source": [
    "# Splitting the data and Target"
   ]
  },
  {
   "cell_type": "code",
   "execution_count": 10,
   "id": "771cb28c",
   "metadata": {
    "execution": {
     "iopub.execute_input": "2024-03-28T08:40:05.051976Z",
     "iopub.status.busy": "2024-03-28T08:40:05.051592Z",
     "iopub.status.idle": "2024-03-28T08:40:05.059235Z",
     "shell.execute_reply": "2024-03-28T08:40:05.058307Z"
    },
    "papermill": {
     "duration": 0.022144,
     "end_time": "2024-03-28T08:40:05.061527",
     "exception": false,
     "start_time": "2024-03-28T08:40:05.039383",
     "status": "completed"
    },
    "tags": []
   },
   "outputs": [],
   "source": [
    "X=car_dataset.drop(['Car_Name','Selling_Price'],axis=1)\n",
    "Y=car_dataset['Selling_Price']"
   ]
  },
  {
   "cell_type": "code",
   "execution_count": 11,
   "id": "ca41dabf",
   "metadata": {
    "execution": {
     "iopub.execute_input": "2024-03-28T08:40:05.084371Z",
     "iopub.status.busy": "2024-03-28T08:40:05.083601Z",
     "iopub.status.idle": "2024-03-28T08:40:05.093176Z",
     "shell.execute_reply": "2024-03-28T08:40:05.091220Z"
    },
    "papermill": {
     "duration": 0.024803,
     "end_time": "2024-03-28T08:40:05.096643",
     "exception": false,
     "start_time": "2024-03-28T08:40:05.071840",
     "status": "completed"
    },
    "tags": []
   },
   "outputs": [
    {
     "name": "stdout",
     "output_type": "stream",
     "text": [
      "0       3.35\n",
      "1       4.75\n",
      "2       7.25\n",
      "3       2.85\n",
      "4       4.60\n",
      "       ...  \n",
      "296     9.50\n",
      "297     4.00\n",
      "298     3.35\n",
      "299    11.50\n",
      "300     5.30\n",
      "Name: Selling_Price, Length: 301, dtype: float64\n"
     ]
    }
   ],
   "source": [
    "print(Y)"
   ]
  },
  {
   "cell_type": "code",
   "execution_count": 12,
   "id": "17b03ce4",
   "metadata": {
    "execution": {
     "iopub.execute_input": "2024-03-28T08:40:05.120297Z",
     "iopub.status.busy": "2024-03-28T08:40:05.119872Z",
     "iopub.status.idle": "2024-03-28T08:40:05.132600Z",
     "shell.execute_reply": "2024-03-28T08:40:05.131577Z"
    },
    "papermill": {
     "duration": 0.027601,
     "end_time": "2024-03-28T08:40:05.135508",
     "exception": false,
     "start_time": "2024-03-28T08:40:05.107907",
     "status": "completed"
    },
    "tags": []
   },
   "outputs": [
    {
     "name": "stdout",
     "output_type": "stream",
     "text": [
      "     Year  Present_Price  Kms_Driven  Fuel_Type  Seller_Type  Transmission  \\\n",
      "0    2014           5.59       27000          0            0             0   \n",
      "1    2013           9.54       43000          1            0             0   \n",
      "2    2017           9.85        6900          0            0             0   \n",
      "3    2011           4.15        5200          0            0             0   \n",
      "4    2014           6.87       42450          1            0             0   \n",
      "..    ...            ...         ...        ...          ...           ...   \n",
      "296  2016          11.60       33988          1            0             0   \n",
      "297  2015           5.90       60000          0            0             0   \n",
      "298  2009          11.00       87934          0            0             0   \n",
      "299  2017          12.50        9000          1            0             0   \n",
      "300  2016           5.90        5464          0            0             0   \n",
      "\n",
      "     Owner  \n",
      "0        0  \n",
      "1        0  \n",
      "2        0  \n",
      "3        0  \n",
      "4        0  \n",
      "..     ...  \n",
      "296      0  \n",
      "297      0  \n",
      "298      0  \n",
      "299      0  \n",
      "300      0  \n",
      "\n",
      "[301 rows x 7 columns]\n"
     ]
    }
   ],
   "source": [
    "print(X)"
   ]
  },
  {
   "cell_type": "markdown",
   "id": "f4e1d866",
   "metadata": {
    "papermill": {
     "duration": 0.009985,
     "end_time": "2024-03-28T08:40:05.155939",
     "exception": false,
     "start_time": "2024-03-28T08:40:05.145954",
     "status": "completed"
    },
    "tags": []
   },
   "source": [
    "# Splitting Training and Test data"
   ]
  },
  {
   "cell_type": "markdown",
   "id": "65466c0f",
   "metadata": {
    "papermill": {
     "duration": 0.009977,
     "end_time": "2024-03-28T08:40:05.176645",
     "exception": false,
     "start_time": "2024-03-28T08:40:05.166668",
     "status": "completed"
    },
    "tags": []
   },
   "source": []
  },
  {
   "cell_type": "code",
   "execution_count": 13,
   "id": "6468a01d",
   "metadata": {
    "execution": {
     "iopub.execute_input": "2024-03-28T08:40:05.200870Z",
     "iopub.status.busy": "2024-03-28T08:40:05.200137Z",
     "iopub.status.idle": "2024-03-28T08:40:05.209563Z",
     "shell.execute_reply": "2024-03-28T08:40:05.208099Z"
    },
    "papermill": {
     "duration": 0.025298,
     "end_time": "2024-03-28T08:40:05.212799",
     "exception": false,
     "start_time": "2024-03-28T08:40:05.187501",
     "status": "completed"
    },
    "tags": []
   },
   "outputs": [],
   "source": [
    "X_train,X_test,Y_train,Y_test=train_test_split(X,Y,test_size=0.1,random_state=2)"
   ]
  },
  {
   "cell_type": "markdown",
   "id": "603fb8e5",
   "metadata": {
    "papermill": {
     "duration": 0.009834,
     "end_time": "2024-03-28T08:40:05.232840",
     "exception": false,
     "start_time": "2024-03-28T08:40:05.223006",
     "status": "completed"
    },
    "tags": []
   },
   "source": [
    "# Model Training"
   ]
  },
  {
   "cell_type": "markdown",
   "id": "0caac6c4",
   "metadata": {
    "papermill": {
     "duration": 0.010578,
     "end_time": "2024-03-28T08:40:05.253918",
     "exception": false,
     "start_time": "2024-03-28T08:40:05.243340",
     "status": "completed"
    },
    "tags": []
   },
   "source": [
    "**1 . **Linear Regression****"
   ]
  },
  {
   "cell_type": "markdown",
   "id": "e658793b",
   "metadata": {
    "papermill": {
     "duration": 0.009751,
     "end_time": "2024-03-28T08:40:05.274028",
     "exception": false,
     "start_time": "2024-03-28T08:40:05.264277",
     "status": "completed"
    },
    "tags": []
   },
   "source": []
  },
  {
   "cell_type": "code",
   "execution_count": 14,
   "id": "77830e9c",
   "metadata": {
    "execution": {
     "iopub.execute_input": "2024-03-28T08:40:05.298063Z",
     "iopub.status.busy": "2024-03-28T08:40:05.297144Z",
     "iopub.status.idle": "2024-03-28T08:40:05.301750Z",
     "shell.execute_reply": "2024-03-28T08:40:05.300793Z"
    },
    "papermill": {
     "duration": 0.02001,
     "end_time": "2024-03-28T08:40:05.304262",
     "exception": false,
     "start_time": "2024-03-28T08:40:05.284252",
     "status": "completed"
    },
    "tags": []
   },
   "outputs": [],
   "source": [
    "# loading the linear regression model\n",
    "lin_reg_model=LinearRegression()"
   ]
  },
  {
   "cell_type": "code",
   "execution_count": 15,
   "id": "744e78ab",
   "metadata": {
    "execution": {
     "iopub.execute_input": "2024-03-28T08:40:05.327416Z",
     "iopub.status.busy": "2024-03-28T08:40:05.326710Z",
     "iopub.status.idle": "2024-03-28T08:40:05.362336Z",
     "shell.execute_reply": "2024-03-28T08:40:05.361461Z"
    },
    "papermill": {
     "duration": 0.050106,
     "end_time": "2024-03-28T08:40:05.364822",
     "exception": false,
     "start_time": "2024-03-28T08:40:05.314716",
     "status": "completed"
    },
    "tags": []
   },
   "outputs": [
    {
     "data": {
      "text/html": [
       "<style>#sk-container-id-1 {color: black;background-color: white;}#sk-container-id-1 pre{padding: 0;}#sk-container-id-1 div.sk-toggleable {background-color: white;}#sk-container-id-1 label.sk-toggleable__label {cursor: pointer;display: block;width: 100%;margin-bottom: 0;padding: 0.3em;box-sizing: border-box;text-align: center;}#sk-container-id-1 label.sk-toggleable__label-arrow:before {content: \"▸\";float: left;margin-right: 0.25em;color: #696969;}#sk-container-id-1 label.sk-toggleable__label-arrow:hover:before {color: black;}#sk-container-id-1 div.sk-estimator:hover label.sk-toggleable__label-arrow:before {color: black;}#sk-container-id-1 div.sk-toggleable__content {max-height: 0;max-width: 0;overflow: hidden;text-align: left;background-color: #f0f8ff;}#sk-container-id-1 div.sk-toggleable__content pre {margin: 0.2em;color: black;border-radius: 0.25em;background-color: #f0f8ff;}#sk-container-id-1 input.sk-toggleable__control:checked~div.sk-toggleable__content {max-height: 200px;max-width: 100%;overflow: auto;}#sk-container-id-1 input.sk-toggleable__control:checked~label.sk-toggleable__label-arrow:before {content: \"▾\";}#sk-container-id-1 div.sk-estimator input.sk-toggleable__control:checked~label.sk-toggleable__label {background-color: #d4ebff;}#sk-container-id-1 div.sk-label input.sk-toggleable__control:checked~label.sk-toggleable__label {background-color: #d4ebff;}#sk-container-id-1 input.sk-hidden--visually {border: 0;clip: rect(1px 1px 1px 1px);clip: rect(1px, 1px, 1px, 1px);height: 1px;margin: -1px;overflow: hidden;padding: 0;position: absolute;width: 1px;}#sk-container-id-1 div.sk-estimator {font-family: monospace;background-color: #f0f8ff;border: 1px dotted black;border-radius: 0.25em;box-sizing: border-box;margin-bottom: 0.5em;}#sk-container-id-1 div.sk-estimator:hover {background-color: #d4ebff;}#sk-container-id-1 div.sk-parallel-item::after {content: \"\";width: 100%;border-bottom: 1px solid gray;flex-grow: 1;}#sk-container-id-1 div.sk-label:hover label.sk-toggleable__label {background-color: #d4ebff;}#sk-container-id-1 div.sk-serial::before {content: \"\";position: absolute;border-left: 1px solid gray;box-sizing: border-box;top: 0;bottom: 0;left: 50%;z-index: 0;}#sk-container-id-1 div.sk-serial {display: flex;flex-direction: column;align-items: center;background-color: white;padding-right: 0.2em;padding-left: 0.2em;position: relative;}#sk-container-id-1 div.sk-item {position: relative;z-index: 1;}#sk-container-id-1 div.sk-parallel {display: flex;align-items: stretch;justify-content: center;background-color: white;position: relative;}#sk-container-id-1 div.sk-item::before, #sk-container-id-1 div.sk-parallel-item::before {content: \"\";position: absolute;border-left: 1px solid gray;box-sizing: border-box;top: 0;bottom: 0;left: 50%;z-index: -1;}#sk-container-id-1 div.sk-parallel-item {display: flex;flex-direction: column;z-index: 1;position: relative;background-color: white;}#sk-container-id-1 div.sk-parallel-item:first-child::after {align-self: flex-end;width: 50%;}#sk-container-id-1 div.sk-parallel-item:last-child::after {align-self: flex-start;width: 50%;}#sk-container-id-1 div.sk-parallel-item:only-child::after {width: 0;}#sk-container-id-1 div.sk-dashed-wrapped {border: 1px dashed gray;margin: 0 0.4em 0.5em 0.4em;box-sizing: border-box;padding-bottom: 0.4em;background-color: white;}#sk-container-id-1 div.sk-label label {font-family: monospace;font-weight: bold;display: inline-block;line-height: 1.2em;}#sk-container-id-1 div.sk-label-container {text-align: center;}#sk-container-id-1 div.sk-container {/* jupyter's `normalize.less` sets `[hidden] { display: none; }` but bootstrap.min.css set `[hidden] { display: none !important; }` so we also need the `!important` here to be able to override the default hidden behavior on the sphinx rendered scikit-learn.org. See: https://github.com/scikit-learn/scikit-learn/issues/21755 */display: inline-block !important;position: relative;}#sk-container-id-1 div.sk-text-repr-fallback {display: none;}</style><div id=\"sk-container-id-1\" class=\"sk-top-container\"><div class=\"sk-text-repr-fallback\"><pre>LinearRegression()</pre><b>In a Jupyter environment, please rerun this cell to show the HTML representation or trust the notebook. <br />On GitHub, the HTML representation is unable to render, please try loading this page with nbviewer.org.</b></div><div class=\"sk-container\" hidden><div class=\"sk-item\"><div class=\"sk-estimator sk-toggleable\"><input class=\"sk-toggleable__control sk-hidden--visually\" id=\"sk-estimator-id-1\" type=\"checkbox\" checked><label for=\"sk-estimator-id-1\" class=\"sk-toggleable__label sk-toggleable__label-arrow\">LinearRegression</label><div class=\"sk-toggleable__content\"><pre>LinearRegression()</pre></div></div></div></div></div>"
      ],
      "text/plain": [
       "LinearRegression()"
      ]
     },
     "execution_count": 15,
     "metadata": {},
     "output_type": "execute_result"
    }
   ],
   "source": [
    "lin_reg_model.fit(X_train,Y_train)"
   ]
  },
  {
   "cell_type": "markdown",
   "id": "2acdb3a6",
   "metadata": {
    "papermill": {
     "duration": 0.010044,
     "end_time": "2024-03-28T08:40:05.385401",
     "exception": false,
     "start_time": "2024-03-28T08:40:05.375357",
     "status": "completed"
    },
    "tags": []
   },
   "source": [
    "**Model Evaluation**"
   ]
  },
  {
   "cell_type": "code",
   "execution_count": 16,
   "id": "cd5a5ba5",
   "metadata": {
    "execution": {
     "iopub.execute_input": "2024-03-28T08:40:05.410173Z",
     "iopub.status.busy": "2024-03-28T08:40:05.409433Z",
     "iopub.status.idle": "2024-03-28T08:40:05.416362Z",
     "shell.execute_reply": "2024-03-28T08:40:05.415103Z"
    },
    "papermill": {
     "duration": 0.021651,
     "end_time": "2024-03-28T08:40:05.419007",
     "exception": false,
     "start_time": "2024-03-28T08:40:05.397356",
     "status": "completed"
    },
    "tags": []
   },
   "outputs": [],
   "source": [
    "# prediction on Training data\n",
    "predict=lin_reg_model.predict(X_train)"
   ]
  },
  {
   "cell_type": "code",
   "execution_count": 17,
   "id": "ced801a3",
   "metadata": {
    "execution": {
     "iopub.execute_input": "2024-03-28T08:40:05.442881Z",
     "iopub.status.busy": "2024-03-28T08:40:05.442112Z",
     "iopub.status.idle": "2024-03-28T08:40:05.448778Z",
     "shell.execute_reply": "2024-03-28T08:40:05.447595Z"
    },
    "papermill": {
     "duration": 0.02133,
     "end_time": "2024-03-28T08:40:05.451359",
     "exception": false,
     "start_time": "2024-03-28T08:40:05.430029",
     "status": "completed"
    },
    "tags": []
   },
   "outputs": [
    {
     "name": "stdout",
     "output_type": "stream",
     "text": [
      "R squared error :  0.8799451660493711\n"
     ]
    }
   ],
   "source": [
    "# R squared Error\n",
    "error_score=metrics.r2_score(Y_train,predict)\n",
    "print(\"R squared error : \",error_score)"
   ]
  },
  {
   "cell_type": "markdown",
   "id": "a128fea0",
   "metadata": {
    "papermill": {
     "duration": 0.010214,
     "end_time": "2024-03-28T08:40:05.472189",
     "exception": false,
     "start_time": "2024-03-28T08:40:05.461975",
     "status": "completed"
    },
    "tags": []
   },
   "source": [
    "**Visualize the actual prices and Predicted prices**"
   ]
  },
  {
   "cell_type": "code",
   "execution_count": null,
   "id": "0704f65a",
   "metadata": {
    "papermill": {
     "duration": 0.010489,
     "end_time": "2024-03-28T08:40:05.493304",
     "exception": false,
     "start_time": "2024-03-28T08:40:05.482815",
     "status": "completed"
    },
    "tags": []
   },
   "outputs": [],
   "source": []
  }
 ],
 "metadata": {
  "kaggle": {
   "accelerator": "none",
   "dataSources": [
    {
     "datasetId": 33080,
     "sourceId": 4852390,
     "sourceType": "datasetVersion"
    }
   ],
   "dockerImageVersionId": 30673,
   "isGpuEnabled": false,
   "isInternetEnabled": false,
   "language": "python",
   "sourceType": "notebook"
  },
  "kernelspec": {
   "display_name": "Python 3",
   "language": "python",
   "name": "python3"
  },
  "language_info": {
   "codemirror_mode": {
    "name": "ipython",
    "version": 3
   },
   "file_extension": ".py",
   "mimetype": "text/x-python",
   "name": "python",
   "nbconvert_exporter": "python",
   "pygments_lexer": "ipython3",
   "version": "3.10.13"
  },
  "papermill": {
   "default_parameters": {},
   "duration": 8.416724,
   "end_time": "2024-03-28T08:40:06.227977",
   "environment_variables": {},
   "exception": null,
   "input_path": "__notebook__.ipynb",
   "output_path": "__notebook__.ipynb",
   "parameters": {},
   "start_time": "2024-03-28T08:39:57.811253",
   "version": "2.5.0"
  }
 },
 "nbformat": 4,
 "nbformat_minor": 5
}
