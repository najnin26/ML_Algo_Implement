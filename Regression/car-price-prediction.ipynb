{
 "cells": [
  {
   "cell_type": "code",
   "execution_count": 1,
   "id": "5dec9138",
   "metadata": {
    "_cell_guid": "b1076dfc-b9ad-4769-8c92-a6c4dae69d19",
    "_uuid": "8f2839f25d086af736a60e9eeb907d3b93b6e0e5",
    "execution": {
     "iopub.execute_input": "2024-03-28T06:46:44.651176Z",
     "iopub.status.busy": "2024-03-28T06:46:44.650356Z",
     "iopub.status.idle": "2024-03-28T06:46:47.527139Z",
     "shell.execute_reply": "2024-03-28T06:46:47.526216Z"
    },
    "papermill": {
     "duration": 2.888359,
     "end_time": "2024-03-28T06:46:47.529854",
     "exception": false,
     "start_time": "2024-03-28T06:46:44.641495",
     "status": "completed"
    },
    "tags": []
   },
   "outputs": [],
   "source": [
    "import pandas as pd\n",
    "import matplotlib.pyplot as plt\n",
    "import seaborn as sns\n",
    "from sklearn.model_selection  import  train_test_split\n",
    "from sklearn.linear_model import LinearRegression\n",
    "from sklearn.linear_model import Lasso\n",
    "from sklearn import metrics"
   ]
  },
  {
   "cell_type": "markdown",
   "id": "9167f550",
   "metadata": {
    "papermill": {
     "duration": 0.00592,
     "end_time": "2024-03-28T06:46:47.542368",
     "exception": false,
     "start_time": "2024-03-28T06:46:47.536448",
     "status": "completed"
    },
    "tags": []
   },
   "source": [
    "# Data Collection and Processing"
   ]
  },
  {
   "cell_type": "code",
   "execution_count": 2,
   "id": "976e1870",
   "metadata": {
    "execution": {
     "iopub.execute_input": "2024-03-28T06:46:47.556508Z",
     "iopub.status.busy": "2024-03-28T06:46:47.555917Z",
     "iopub.status.idle": "2024-03-28T06:46:47.581981Z",
     "shell.execute_reply": "2024-03-28T06:46:47.580869Z"
    },
    "papermill": {
     "duration": 0.036238,
     "end_time": "2024-03-28T06:46:47.584745",
     "exception": false,
     "start_time": "2024-03-28T06:46:47.548507",
     "status": "completed"
    },
    "tags": []
   },
   "outputs": [],
   "source": [
    "# loading the data from csv file to pandas dataframe\n",
    "car_dataset=pd.read_csv('/kaggle/input/vehicle-dataset-from-cardekho/car data.csv')"
   ]
  },
  {
   "cell_type": "markdown",
   "id": "53886d64",
   "metadata": {
    "papermill": {
     "duration": 0.006125,
     "end_time": "2024-03-28T06:46:47.597163",
     "exception": false,
     "start_time": "2024-03-28T06:46:47.591038",
     "status": "completed"
    },
    "tags": []
   },
   "source": []
  },
  {
   "cell_type": "code",
   "execution_count": 3,
   "id": "0102a125",
   "metadata": {
    "execution": {
     "iopub.execute_input": "2024-03-28T06:46:47.611559Z",
     "iopub.status.busy": "2024-03-28T06:46:47.611144Z",
     "iopub.status.idle": "2024-03-28T06:46:47.634946Z",
     "shell.execute_reply": "2024-03-28T06:46:47.634029Z"
    },
    "papermill": {
     "duration": 0.03393,
     "end_time": "2024-03-28T06:46:47.637364",
     "exception": false,
     "start_time": "2024-03-28T06:46:47.603434",
     "status": "completed"
    },
    "tags": []
   },
   "outputs": [
    {
     "data": {
      "text/html": [
       "<div>\n",
       "<style scoped>\n",
       "    .dataframe tbody tr th:only-of-type {\n",
       "        vertical-align: middle;\n",
       "    }\n",
       "\n",
       "    .dataframe tbody tr th {\n",
       "        vertical-align: top;\n",
       "    }\n",
       "\n",
       "    .dataframe thead th {\n",
       "        text-align: right;\n",
       "    }\n",
       "</style>\n",
       "<table border=\"1\" class=\"dataframe\">\n",
       "  <thead>\n",
       "    <tr style=\"text-align: right;\">\n",
       "      <th></th>\n",
       "      <th>Car_Name</th>\n",
       "      <th>Year</th>\n",
       "      <th>Selling_Price</th>\n",
       "      <th>Present_Price</th>\n",
       "      <th>Kms_Driven</th>\n",
       "      <th>Fuel_Type</th>\n",
       "      <th>Seller_Type</th>\n",
       "      <th>Transmission</th>\n",
       "      <th>Owner</th>\n",
       "    </tr>\n",
       "  </thead>\n",
       "  <tbody>\n",
       "    <tr>\n",
       "      <th>0</th>\n",
       "      <td>ritz</td>\n",
       "      <td>2014</td>\n",
       "      <td>3.35</td>\n",
       "      <td>5.59</td>\n",
       "      <td>27000</td>\n",
       "      <td>Petrol</td>\n",
       "      <td>Dealer</td>\n",
       "      <td>Manual</td>\n",
       "      <td>0</td>\n",
       "    </tr>\n",
       "    <tr>\n",
       "      <th>1</th>\n",
       "      <td>sx4</td>\n",
       "      <td>2013</td>\n",
       "      <td>4.75</td>\n",
       "      <td>9.54</td>\n",
       "      <td>43000</td>\n",
       "      <td>Diesel</td>\n",
       "      <td>Dealer</td>\n",
       "      <td>Manual</td>\n",
       "      <td>0</td>\n",
       "    </tr>\n",
       "    <tr>\n",
       "      <th>2</th>\n",
       "      <td>ciaz</td>\n",
       "      <td>2017</td>\n",
       "      <td>7.25</td>\n",
       "      <td>9.85</td>\n",
       "      <td>6900</td>\n",
       "      <td>Petrol</td>\n",
       "      <td>Dealer</td>\n",
       "      <td>Manual</td>\n",
       "      <td>0</td>\n",
       "    </tr>\n",
       "    <tr>\n",
       "      <th>3</th>\n",
       "      <td>wagon r</td>\n",
       "      <td>2011</td>\n",
       "      <td>2.85</td>\n",
       "      <td>4.15</td>\n",
       "      <td>5200</td>\n",
       "      <td>Petrol</td>\n",
       "      <td>Dealer</td>\n",
       "      <td>Manual</td>\n",
       "      <td>0</td>\n",
       "    </tr>\n",
       "    <tr>\n",
       "      <th>4</th>\n",
       "      <td>swift</td>\n",
       "      <td>2014</td>\n",
       "      <td>4.60</td>\n",
       "      <td>6.87</td>\n",
       "      <td>42450</td>\n",
       "      <td>Diesel</td>\n",
       "      <td>Dealer</td>\n",
       "      <td>Manual</td>\n",
       "      <td>0</td>\n",
       "    </tr>\n",
       "  </tbody>\n",
       "</table>\n",
       "</div>"
      ],
      "text/plain": [
       "  Car_Name  Year  Selling_Price  Present_Price  Kms_Driven Fuel_Type  \\\n",
       "0     ritz  2014           3.35           5.59       27000    Petrol   \n",
       "1      sx4  2013           4.75           9.54       43000    Diesel   \n",
       "2     ciaz  2017           7.25           9.85        6900    Petrol   \n",
       "3  wagon r  2011           2.85           4.15        5200    Petrol   \n",
       "4    swift  2014           4.60           6.87       42450    Diesel   \n",
       "\n",
       "  Seller_Type Transmission  Owner  \n",
       "0      Dealer       Manual      0  \n",
       "1      Dealer       Manual      0  \n",
       "2      Dealer       Manual      0  \n",
       "3      Dealer       Manual      0  \n",
       "4      Dealer       Manual      0  "
      ]
     },
     "execution_count": 3,
     "metadata": {},
     "output_type": "execute_result"
    }
   ],
   "source": [
    "# inspecting the first 5 rows of the dataframe\n",
    "car_dataset.head()"
   ]
  },
  {
   "cell_type": "code",
   "execution_count": 4,
   "id": "b2c8077d",
   "metadata": {
    "execution": {
     "iopub.execute_input": "2024-03-28T06:46:47.652990Z",
     "iopub.status.busy": "2024-03-28T06:46:47.652354Z",
     "iopub.status.idle": "2024-03-28T06:46:47.657934Z",
     "shell.execute_reply": "2024-03-28T06:46:47.656866Z"
    },
    "papermill": {
     "duration": 0.016074,
     "end_time": "2024-03-28T06:46:47.660116",
     "exception": false,
     "start_time": "2024-03-28T06:46:47.644042",
     "status": "completed"
    },
    "tags": []
   },
   "outputs": [
    {
     "data": {
      "text/plain": [
       "(301, 9)"
      ]
     },
     "execution_count": 4,
     "metadata": {},
     "output_type": "execute_result"
    }
   ],
   "source": [
    "# checking the number of rows and columns\n",
    "car_dataset.shape"
   ]
  },
  {
   "cell_type": "code",
   "execution_count": 5,
   "id": "a5970283",
   "metadata": {
    "execution": {
     "iopub.execute_input": "2024-03-28T06:46:47.676032Z",
     "iopub.status.busy": "2024-03-28T06:46:47.675407Z",
     "iopub.status.idle": "2024-03-28T06:46:47.700826Z",
     "shell.execute_reply": "2024-03-28T06:46:47.699213Z"
    },
    "papermill": {
     "duration": 0.036262,
     "end_time": "2024-03-28T06:46:47.703306",
     "exception": false,
     "start_time": "2024-03-28T06:46:47.667044",
     "status": "completed"
    },
    "tags": []
   },
   "outputs": [
    {
     "name": "stdout",
     "output_type": "stream",
     "text": [
      "<class 'pandas.core.frame.DataFrame'>\n",
      "RangeIndex: 301 entries, 0 to 300\n",
      "Data columns (total 9 columns):\n",
      " #   Column         Non-Null Count  Dtype  \n",
      "---  ------         --------------  -----  \n",
      " 0   Car_Name       301 non-null    object \n",
      " 1   Year           301 non-null    int64  \n",
      " 2   Selling_Price  301 non-null    float64\n",
      " 3   Present_Price  301 non-null    float64\n",
      " 4   Kms_Driven     301 non-null    int64  \n",
      " 5   Fuel_Type      301 non-null    object \n",
      " 6   Seller_Type    301 non-null    object \n",
      " 7   Transmission   301 non-null    object \n",
      " 8   Owner          301 non-null    int64  \n",
      "dtypes: float64(2), int64(3), object(4)\n",
      "memory usage: 21.3+ KB\n"
     ]
    }
   ],
   "source": [
    "# getting some information about the dataset\n",
    "car_dataset.info()"
   ]
  },
  {
   "cell_type": "code",
   "execution_count": 6,
   "id": "ce249daa",
   "metadata": {
    "execution": {
     "iopub.execute_input": "2024-03-28T06:46:47.719316Z",
     "iopub.status.busy": "2024-03-28T06:46:47.718869Z",
     "iopub.status.idle": "2024-03-28T06:46:47.729075Z",
     "shell.execute_reply": "2024-03-28T06:46:47.727197Z"
    },
    "papermill": {
     "duration": 0.021776,
     "end_time": "2024-03-28T06:46:47.732197",
     "exception": false,
     "start_time": "2024-03-28T06:46:47.710421",
     "status": "completed"
    },
    "tags": []
   },
   "outputs": [
    {
     "data": {
      "text/plain": [
       "Car_Name         0\n",
       "Year             0\n",
       "Selling_Price    0\n",
       "Present_Price    0\n",
       "Kms_Driven       0\n",
       "Fuel_Type        0\n",
       "Seller_Type      0\n",
       "Transmission     0\n",
       "Owner            0\n",
       "dtype: int64"
      ]
     },
     "execution_count": 6,
     "metadata": {},
     "output_type": "execute_result"
    }
   ],
   "source": [
    "# checking the number of missing values\n",
    "car_dataset.isnull().sum()"
   ]
  },
  {
   "cell_type": "code",
   "execution_count": 7,
   "id": "87df6179",
   "metadata": {
    "execution": {
     "iopub.execute_input": "2024-03-28T06:46:47.748632Z",
     "iopub.status.busy": "2024-03-28T06:46:47.748180Z",
     "iopub.status.idle": "2024-03-28T06:46:47.757316Z",
     "shell.execute_reply": "2024-03-28T06:46:47.756213Z"
    },
    "papermill": {
     "duration": 0.020462,
     "end_time": "2024-03-28T06:46:47.760054",
     "exception": false,
     "start_time": "2024-03-28T06:46:47.739592",
     "status": "completed"
    },
    "tags": []
   },
   "outputs": [
    {
     "name": "stdout",
     "output_type": "stream",
     "text": [
      "Fuel_Type\n",
      "Petrol    239\n",
      "Diesel     60\n",
      "CNG         2\n",
      "Name: count, dtype: int64\n",
      "Seller_Type\n",
      "Dealer        195\n",
      "Individual    106\n",
      "Name: count, dtype: int64\n",
      "Transmission\n",
      "Manual       261\n",
      "Automatic     40\n",
      "Name: count, dtype: int64\n"
     ]
    }
   ],
   "source": [
    "# checking the distribution of categorical data\n",
    "print(car_dataset.Fuel_Type.value_counts())\n",
    "print(car_dataset.Seller_Type.value_counts())\n",
    "print(car_dataset.Transmission.value_counts())"
   ]
  },
  {
   "cell_type": "markdown",
   "id": "2a7a3968",
   "metadata": {
    "papermill": {
     "duration": 0.00683,
     "end_time": "2024-03-28T06:46:47.774115",
     "exception": false,
     "start_time": "2024-03-28T06:46:47.767285",
     "status": "completed"
    },
    "tags": []
   },
   "source": [
    "# Encoding the Categorical Data"
   ]
  },
  {
   "cell_type": "code",
   "execution_count": 8,
   "id": "23bdcae7",
   "metadata": {
    "execution": {
     "iopub.execute_input": "2024-03-28T06:46:47.790852Z",
     "iopub.status.busy": "2024-03-28T06:46:47.790056Z",
     "iopub.status.idle": "2024-03-28T06:46:47.801086Z",
     "shell.execute_reply": "2024-03-28T06:46:47.799972Z"
    },
    "papermill": {
     "duration": 0.022186,
     "end_time": "2024-03-28T06:46:47.803618",
     "exception": false,
     "start_time": "2024-03-28T06:46:47.781432",
     "status": "completed"
    },
    "tags": []
   },
   "outputs": [
    {
     "name": "stderr",
     "output_type": "stream",
     "text": [
      "/tmp/ipykernel_18/2077123942.py:2: FutureWarning: Downcasting behavior in `replace` is deprecated and will be removed in a future version. To retain the old behavior, explicitly call `result.infer_objects(copy=False)`. To opt-in to the future behavior, set `pd.set_option('future.no_silent_downcasting', True)`\n",
      "  car_dataset.replace({'Fuel_Type':{'Petrol':0,'Diesel':1,'CNG':2}},inplace=True)\n",
      "/tmp/ipykernel_18/2077123942.py:4: FutureWarning: Downcasting behavior in `replace` is deprecated and will be removed in a future version. To retain the old behavior, explicitly call `result.infer_objects(copy=False)`. To opt-in to the future behavior, set `pd.set_option('future.no_silent_downcasting', True)`\n",
      "  car_dataset.replace({\"Seller_Type\":{\"Dealer\":0,\"Individual\":1}},inplace=True)\n",
      "/tmp/ipykernel_18/2077123942.py:6: FutureWarning: Downcasting behavior in `replace` is deprecated and will be removed in a future version. To retain the old behavior, explicitly call `result.infer_objects(copy=False)`. To opt-in to the future behavior, set `pd.set_option('future.no_silent_downcasting', True)`\n",
      "  car_dataset.replace({\"Transmission\":{\"Manual\":0,\"Automatic\":1}},inplace=True)\n"
     ]
    }
   ],
   "source": [
    "# encoding \"Fuel_Type\" Column\n",
    "car_dataset.replace({'Fuel_Type':{'Petrol':0,'Diesel':1,'CNG':2}},inplace=True)\n",
    "# encoding \"Seller_Type\" Column\n",
    "car_dataset.replace({\"Seller_Type\":{\"Dealer\":0,\"Individual\":1}},inplace=True)\n",
    "# encoding \"Transmission\" Column\n",
    "car_dataset.replace({\"Transmission\":{\"Manual\":0,\"Automatic\":1}},inplace=True)"
   ]
  },
  {
   "cell_type": "code",
   "execution_count": 9,
   "id": "0c2f39f3",
   "metadata": {
    "execution": {
     "iopub.execute_input": "2024-03-28T06:46:47.820545Z",
     "iopub.status.busy": "2024-03-28T06:46:47.819377Z",
     "iopub.status.idle": "2024-03-28T06:46:47.834682Z",
     "shell.execute_reply": "2024-03-28T06:46:47.833870Z"
    },
    "papermill": {
     "duration": 0.025954,
     "end_time": "2024-03-28T06:46:47.836783",
     "exception": false,
     "start_time": "2024-03-28T06:46:47.810829",
     "status": "completed"
    },
    "tags": []
   },
   "outputs": [
    {
     "data": {
      "text/html": [
       "<div>\n",
       "<style scoped>\n",
       "    .dataframe tbody tr th:only-of-type {\n",
       "        vertical-align: middle;\n",
       "    }\n",
       "\n",
       "    .dataframe tbody tr th {\n",
       "        vertical-align: top;\n",
       "    }\n",
       "\n",
       "    .dataframe thead th {\n",
       "        text-align: right;\n",
       "    }\n",
       "</style>\n",
       "<table border=\"1\" class=\"dataframe\">\n",
       "  <thead>\n",
       "    <tr style=\"text-align: right;\">\n",
       "      <th></th>\n",
       "      <th>Car_Name</th>\n",
       "      <th>Year</th>\n",
       "      <th>Selling_Price</th>\n",
       "      <th>Present_Price</th>\n",
       "      <th>Kms_Driven</th>\n",
       "      <th>Fuel_Type</th>\n",
       "      <th>Seller_Type</th>\n",
       "      <th>Transmission</th>\n",
       "      <th>Owner</th>\n",
       "    </tr>\n",
       "  </thead>\n",
       "  <tbody>\n",
       "    <tr>\n",
       "      <th>0</th>\n",
       "      <td>ritz</td>\n",
       "      <td>2014</td>\n",
       "      <td>3.35</td>\n",
       "      <td>5.59</td>\n",
       "      <td>27000</td>\n",
       "      <td>0</td>\n",
       "      <td>0</td>\n",
       "      <td>0</td>\n",
       "      <td>0</td>\n",
       "    </tr>\n",
       "    <tr>\n",
       "      <th>1</th>\n",
       "      <td>sx4</td>\n",
       "      <td>2013</td>\n",
       "      <td>4.75</td>\n",
       "      <td>9.54</td>\n",
       "      <td>43000</td>\n",
       "      <td>1</td>\n",
       "      <td>0</td>\n",
       "      <td>0</td>\n",
       "      <td>0</td>\n",
       "    </tr>\n",
       "    <tr>\n",
       "      <th>2</th>\n",
       "      <td>ciaz</td>\n",
       "      <td>2017</td>\n",
       "      <td>7.25</td>\n",
       "      <td>9.85</td>\n",
       "      <td>6900</td>\n",
       "      <td>0</td>\n",
       "      <td>0</td>\n",
       "      <td>0</td>\n",
       "      <td>0</td>\n",
       "    </tr>\n",
       "    <tr>\n",
       "      <th>3</th>\n",
       "      <td>wagon r</td>\n",
       "      <td>2011</td>\n",
       "      <td>2.85</td>\n",
       "      <td>4.15</td>\n",
       "      <td>5200</td>\n",
       "      <td>0</td>\n",
       "      <td>0</td>\n",
       "      <td>0</td>\n",
       "      <td>0</td>\n",
       "    </tr>\n",
       "    <tr>\n",
       "      <th>4</th>\n",
       "      <td>swift</td>\n",
       "      <td>2014</td>\n",
       "      <td>4.60</td>\n",
       "      <td>6.87</td>\n",
       "      <td>42450</td>\n",
       "      <td>1</td>\n",
       "      <td>0</td>\n",
       "      <td>0</td>\n",
       "      <td>0</td>\n",
       "    </tr>\n",
       "  </tbody>\n",
       "</table>\n",
       "</div>"
      ],
      "text/plain": [
       "  Car_Name  Year  Selling_Price  Present_Price  Kms_Driven  Fuel_Type  \\\n",
       "0     ritz  2014           3.35           5.59       27000          0   \n",
       "1      sx4  2013           4.75           9.54       43000          1   \n",
       "2     ciaz  2017           7.25           9.85        6900          0   \n",
       "3  wagon r  2011           2.85           4.15        5200          0   \n",
       "4    swift  2014           4.60           6.87       42450          1   \n",
       "\n",
       "   Seller_Type  Transmission  Owner  \n",
       "0            0             0      0  \n",
       "1            0             0      0  \n",
       "2            0             0      0  \n",
       "3            0             0      0  \n",
       "4            0             0      0  "
      ]
     },
     "execution_count": 9,
     "metadata": {},
     "output_type": "execute_result"
    }
   ],
   "source": [
    "car_dataset.head()"
   ]
  },
  {
   "cell_type": "markdown",
   "id": "c9ff4042",
   "metadata": {
    "papermill": {
     "duration": 0.007284,
     "end_time": "2024-03-28T06:46:47.851734",
     "exception": false,
     "start_time": "2024-03-28T06:46:47.844450",
     "status": "completed"
    },
    "tags": []
   },
   "source": [
    "# Splitting the data and Target"
   ]
  },
  {
   "cell_type": "code",
   "execution_count": 10,
   "id": "baba9dc2",
   "metadata": {
    "execution": {
     "iopub.execute_input": "2024-03-28T06:46:47.869436Z",
     "iopub.status.busy": "2024-03-28T06:46:47.868628Z",
     "iopub.status.idle": "2024-03-28T06:46:47.876212Z",
     "shell.execute_reply": "2024-03-28T06:46:47.875250Z"
    },
    "papermill": {
     "duration": 0.019375,
     "end_time": "2024-03-28T06:46:47.878735",
     "exception": false,
     "start_time": "2024-03-28T06:46:47.859360",
     "status": "completed"
    },
    "tags": []
   },
   "outputs": [],
   "source": [
    "X=car_dataset.drop(['Car_Name','Selling_Price'],axis=1)\n",
    "Y=car_dataset['Selling_Price']"
   ]
  },
  {
   "cell_type": "code",
   "execution_count": 11,
   "id": "9fbc08ce",
   "metadata": {
    "execution": {
     "iopub.execute_input": "2024-03-28T06:46:47.895967Z",
     "iopub.status.busy": "2024-03-28T06:46:47.895139Z",
     "iopub.status.idle": "2024-03-28T06:46:47.901880Z",
     "shell.execute_reply": "2024-03-28T06:46:47.901025Z"
    },
    "papermill": {
     "duration": 0.018517,
     "end_time": "2024-03-28T06:46:47.904892",
     "exception": false,
     "start_time": "2024-03-28T06:46:47.886375",
     "status": "completed"
    },
    "tags": []
   },
   "outputs": [
    {
     "name": "stdout",
     "output_type": "stream",
     "text": [
      "0       3.35\n",
      "1       4.75\n",
      "2       7.25\n",
      "3       2.85\n",
      "4       4.60\n",
      "       ...  \n",
      "296     9.50\n",
      "297     4.00\n",
      "298     3.35\n",
      "299    11.50\n",
      "300     5.30\n",
      "Name: Selling_Price, Length: 301, dtype: float64\n"
     ]
    }
   ],
   "source": [
    "print(Y)"
   ]
  },
  {
   "cell_type": "code",
   "execution_count": 12,
   "id": "76059965",
   "metadata": {
    "execution": {
     "iopub.execute_input": "2024-03-28T06:46:47.923588Z",
     "iopub.status.busy": "2024-03-28T06:46:47.922950Z",
     "iopub.status.idle": "2024-03-28T06:46:47.933646Z",
     "shell.execute_reply": "2024-03-28T06:46:47.932119Z"
    },
    "papermill": {
     "duration": 0.022839,
     "end_time": "2024-03-28T06:46:47.936509",
     "exception": false,
     "start_time": "2024-03-28T06:46:47.913670",
     "status": "completed"
    },
    "tags": []
   },
   "outputs": [
    {
     "name": "stdout",
     "output_type": "stream",
     "text": [
      "     Year  Present_Price  Kms_Driven  Fuel_Type  Seller_Type  Transmission  \\\n",
      "0    2014           5.59       27000          0            0             0   \n",
      "1    2013           9.54       43000          1            0             0   \n",
      "2    2017           9.85        6900          0            0             0   \n",
      "3    2011           4.15        5200          0            0             0   \n",
      "4    2014           6.87       42450          1            0             0   \n",
      "..    ...            ...         ...        ...          ...           ...   \n",
      "296  2016          11.60       33988          1            0             0   \n",
      "297  2015           5.90       60000          0            0             0   \n",
      "298  2009          11.00       87934          0            0             0   \n",
      "299  2017          12.50        9000          1            0             0   \n",
      "300  2016           5.90        5464          0            0             0   \n",
      "\n",
      "     Owner  \n",
      "0        0  \n",
      "1        0  \n",
      "2        0  \n",
      "3        0  \n",
      "4        0  \n",
      "..     ...  \n",
      "296      0  \n",
      "297      0  \n",
      "298      0  \n",
      "299      0  \n",
      "300      0  \n",
      "\n",
      "[301 rows x 7 columns]\n"
     ]
    }
   ],
   "source": [
    "print(X)"
   ]
  },
  {
   "cell_type": "markdown",
   "id": "46229ddc",
   "metadata": {
    "papermill": {
     "duration": 0.007456,
     "end_time": "2024-03-28T06:46:47.951745",
     "exception": false,
     "start_time": "2024-03-28T06:46:47.944289",
     "status": "completed"
    },
    "tags": []
   },
   "source": [
    "# Splitting Training and Test data"
   ]
  },
  {
   "cell_type": "markdown",
   "id": "8f69e836",
   "metadata": {
    "papermill": {
     "duration": 0.007491,
     "end_time": "2024-03-28T06:46:47.966970",
     "exception": false,
     "start_time": "2024-03-28T06:46:47.959479",
     "status": "completed"
    },
    "tags": []
   },
   "source": []
  },
  {
   "cell_type": "code",
   "execution_count": null,
   "id": "1c2d39e1",
   "metadata": {
    "papermill": {
     "duration": 0.007453,
     "end_time": "2024-03-28T06:46:47.982322",
     "exception": false,
     "start_time": "2024-03-28T06:46:47.974869",
     "status": "completed"
    },
    "tags": []
   },
   "outputs": [],
   "source": []
  }
 ],
 "metadata": {
  "kaggle": {
   "accelerator": "none",
   "dataSources": [
    {
     "datasetId": 33080,
     "sourceId": 4852390,
     "sourceType": "datasetVersion"
    }
   ],
   "dockerImageVersionId": 30673,
   "isGpuEnabled": false,
   "isInternetEnabled": false,
   "language": "python",
   "sourceType": "notebook"
  },
  "kernelspec": {
   "display_name": "Python 3",
   "language": "python",
   "name": "python3"
  },
  "language_info": {
   "codemirror_mode": {
    "name": "ipython",
    "version": 3
   },
   "file_extension": ".py",
   "mimetype": "text/x-python",
   "name": "python",
   "nbconvert_exporter": "python",
   "pygments_lexer": "ipython3",
   "version": "3.10.13"
  },
  "papermill": {
   "default_parameters": {},
   "duration": 7.618655,
   "end_time": "2024-03-28T06:46:48.711444",
   "environment_variables": {},
   "exception": null,
   "input_path": "__notebook__.ipynb",
   "output_path": "__notebook__.ipynb",
   "parameters": {},
   "start_time": "2024-03-28T06:46:41.092789",
   "version": "2.5.0"
  }
 },
 "nbformat": 4,
 "nbformat_minor": 5
}
