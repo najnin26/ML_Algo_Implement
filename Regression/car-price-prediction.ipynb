{
 "cells": [
  {
   "cell_type": "code",
   "execution_count": 1,
   "id": "7eb47df8",
   "metadata": {
    "_cell_guid": "b1076dfc-b9ad-4769-8c92-a6c4dae69d19",
    "_uuid": "8f2839f25d086af736a60e9eeb907d3b93b6e0e5",
    "execution": {
     "iopub.execute_input": "2024-03-28T08:51:04.960238Z",
     "iopub.status.busy": "2024-03-28T08:51:04.959204Z",
     "iopub.status.idle": "2024-03-28T08:51:08.255878Z",
     "shell.execute_reply": "2024-03-28T08:51:08.254851Z"
    },
    "papermill": {
     "duration": 3.309344,
     "end_time": "2024-03-28T08:51:08.258731",
     "exception": false,
     "start_time": "2024-03-28T08:51:04.949387",
     "status": "completed"
    },
    "tags": []
   },
   "outputs": [],
   "source": [
    "import pandas as pd\n",
    "import matplotlib.pyplot as plt\n",
    "import seaborn as sns\n",
    "from sklearn.model_selection  import  train_test_split\n",
    "from sklearn.linear_model import LinearRegression\n",
    "from sklearn.linear_model import Lasso\n",
    "from sklearn import metrics"
   ]
  },
  {
   "cell_type": "markdown",
   "id": "09cb596f",
   "metadata": {
    "papermill": {
     "duration": 0.006677,
     "end_time": "2024-03-28T08:51:08.272753",
     "exception": false,
     "start_time": "2024-03-28T08:51:08.266076",
     "status": "completed"
    },
    "tags": []
   },
   "source": [
    "# Data Collection and Processing"
   ]
  },
  {
   "cell_type": "code",
   "execution_count": 2,
   "id": "cba520d2",
   "metadata": {
    "execution": {
     "iopub.execute_input": "2024-03-28T08:51:08.289432Z",
     "iopub.status.busy": "2024-03-28T08:51:08.288548Z",
     "iopub.status.idle": "2024-03-28T08:51:08.314387Z",
     "shell.execute_reply": "2024-03-28T08:51:08.313011Z"
    },
    "papermill": {
     "duration": 0.037413,
     "end_time": "2024-03-28T08:51:08.317129",
     "exception": false,
     "start_time": "2024-03-28T08:51:08.279716",
     "status": "completed"
    },
    "tags": []
   },
   "outputs": [],
   "source": [
    "# loading the data from csv file to pandas dataframe\n",
    "car_dataset=pd.read_csv('/kaggle/input/vehicle-dataset-from-cardekho/car data.csv')"
   ]
  },
  {
   "cell_type": "markdown",
   "id": "4887836b",
   "metadata": {
    "papermill": {
     "duration": 0.006642,
     "end_time": "2024-03-28T08:51:08.331398",
     "exception": false,
     "start_time": "2024-03-28T08:51:08.324756",
     "status": "completed"
    },
    "tags": []
   },
   "source": []
  },
  {
   "cell_type": "code",
   "execution_count": 3,
   "id": "59e8e6ff",
   "metadata": {
    "execution": {
     "iopub.execute_input": "2024-03-28T08:51:08.350161Z",
     "iopub.status.busy": "2024-03-28T08:51:08.349775Z",
     "iopub.status.idle": "2024-03-28T08:51:08.375402Z",
     "shell.execute_reply": "2024-03-28T08:51:08.374100Z"
    },
    "papermill": {
     "duration": 0.038903,
     "end_time": "2024-03-28T08:51:08.377847",
     "exception": false,
     "start_time": "2024-03-28T08:51:08.338944",
     "status": "completed"
    },
    "tags": []
   },
   "outputs": [
    {
     "data": {
      "text/html": [
       "<div>\n",
       "<style scoped>\n",
       "    .dataframe tbody tr th:only-of-type {\n",
       "        vertical-align: middle;\n",
       "    }\n",
       "\n",
       "    .dataframe tbody tr th {\n",
       "        vertical-align: top;\n",
       "    }\n",
       "\n",
       "    .dataframe thead th {\n",
       "        text-align: right;\n",
       "    }\n",
       "</style>\n",
       "<table border=\"1\" class=\"dataframe\">\n",
       "  <thead>\n",
       "    <tr style=\"text-align: right;\">\n",
       "      <th></th>\n",
       "      <th>Car_Name</th>\n",
       "      <th>Year</th>\n",
       "      <th>Selling_Price</th>\n",
       "      <th>Present_Price</th>\n",
       "      <th>Kms_Driven</th>\n",
       "      <th>Fuel_Type</th>\n",
       "      <th>Seller_Type</th>\n",
       "      <th>Transmission</th>\n",
       "      <th>Owner</th>\n",
       "    </tr>\n",
       "  </thead>\n",
       "  <tbody>\n",
       "    <tr>\n",
       "      <th>0</th>\n",
       "      <td>ritz</td>\n",
       "      <td>2014</td>\n",
       "      <td>3.35</td>\n",
       "      <td>5.59</td>\n",
       "      <td>27000</td>\n",
       "      <td>Petrol</td>\n",
       "      <td>Dealer</td>\n",
       "      <td>Manual</td>\n",
       "      <td>0</td>\n",
       "    </tr>\n",
       "    <tr>\n",
       "      <th>1</th>\n",
       "      <td>sx4</td>\n",
       "      <td>2013</td>\n",
       "      <td>4.75</td>\n",
       "      <td>9.54</td>\n",
       "      <td>43000</td>\n",
       "      <td>Diesel</td>\n",
       "      <td>Dealer</td>\n",
       "      <td>Manual</td>\n",
       "      <td>0</td>\n",
       "    </tr>\n",
       "    <tr>\n",
       "      <th>2</th>\n",
       "      <td>ciaz</td>\n",
       "      <td>2017</td>\n",
       "      <td>7.25</td>\n",
       "      <td>9.85</td>\n",
       "      <td>6900</td>\n",
       "      <td>Petrol</td>\n",
       "      <td>Dealer</td>\n",
       "      <td>Manual</td>\n",
       "      <td>0</td>\n",
       "    </tr>\n",
       "    <tr>\n",
       "      <th>3</th>\n",
       "      <td>wagon r</td>\n",
       "      <td>2011</td>\n",
       "      <td>2.85</td>\n",
       "      <td>4.15</td>\n",
       "      <td>5200</td>\n",
       "      <td>Petrol</td>\n",
       "      <td>Dealer</td>\n",
       "      <td>Manual</td>\n",
       "      <td>0</td>\n",
       "    </tr>\n",
       "    <tr>\n",
       "      <th>4</th>\n",
       "      <td>swift</td>\n",
       "      <td>2014</td>\n",
       "      <td>4.60</td>\n",
       "      <td>6.87</td>\n",
       "      <td>42450</td>\n",
       "      <td>Diesel</td>\n",
       "      <td>Dealer</td>\n",
       "      <td>Manual</td>\n",
       "      <td>0</td>\n",
       "    </tr>\n",
       "  </tbody>\n",
       "</table>\n",
       "</div>"
      ],
      "text/plain": [
       "  Car_Name  Year  Selling_Price  Present_Price  Kms_Driven Fuel_Type  \\\n",
       "0     ritz  2014           3.35           5.59       27000    Petrol   \n",
       "1      sx4  2013           4.75           9.54       43000    Diesel   \n",
       "2     ciaz  2017           7.25           9.85        6900    Petrol   \n",
       "3  wagon r  2011           2.85           4.15        5200    Petrol   \n",
       "4    swift  2014           4.60           6.87       42450    Diesel   \n",
       "\n",
       "  Seller_Type Transmission  Owner  \n",
       "0      Dealer       Manual      0  \n",
       "1      Dealer       Manual      0  \n",
       "2      Dealer       Manual      0  \n",
       "3      Dealer       Manual      0  \n",
       "4      Dealer       Manual      0  "
      ]
     },
     "execution_count": 3,
     "metadata": {},
     "output_type": "execute_result"
    }
   ],
   "source": [
    "# inspecting the first 5 rows of the dataframe\n",
    "car_dataset.head()"
   ]
  },
  {
   "cell_type": "code",
   "execution_count": 4,
   "id": "a372b378",
   "metadata": {
    "execution": {
     "iopub.execute_input": "2024-03-28T08:51:08.395155Z",
     "iopub.status.busy": "2024-03-28T08:51:08.394084Z",
     "iopub.status.idle": "2024-03-28T08:51:08.401474Z",
     "shell.execute_reply": "2024-03-28T08:51:08.400081Z"
    },
    "papermill": {
     "duration": 0.019597,
     "end_time": "2024-03-28T08:51:08.405118",
     "exception": false,
     "start_time": "2024-03-28T08:51:08.385521",
     "status": "completed"
    },
    "tags": []
   },
   "outputs": [
    {
     "data": {
      "text/plain": [
       "(301, 9)"
      ]
     },
     "execution_count": 4,
     "metadata": {},
     "output_type": "execute_result"
    }
   ],
   "source": [
    "# checking the number of rows and columns\n",
    "car_dataset.shape"
   ]
  },
  {
   "cell_type": "code",
   "execution_count": 5,
   "id": "113d7e74",
   "metadata": {
    "execution": {
     "iopub.execute_input": "2024-03-28T08:51:08.422164Z",
     "iopub.status.busy": "2024-03-28T08:51:08.421790Z",
     "iopub.status.idle": "2024-03-28T08:51:08.453947Z",
     "shell.execute_reply": "2024-03-28T08:51:08.453020Z"
    },
    "papermill": {
     "duration": 0.045013,
     "end_time": "2024-03-28T08:51:08.457516",
     "exception": false,
     "start_time": "2024-03-28T08:51:08.412503",
     "status": "completed"
    },
    "tags": []
   },
   "outputs": [
    {
     "name": "stdout",
     "output_type": "stream",
     "text": [
      "<class 'pandas.core.frame.DataFrame'>\n",
      "RangeIndex: 301 entries, 0 to 300\n",
      "Data columns (total 9 columns):\n",
      " #   Column         Non-Null Count  Dtype  \n",
      "---  ------         --------------  -----  \n",
      " 0   Car_Name       301 non-null    object \n",
      " 1   Year           301 non-null    int64  \n",
      " 2   Selling_Price  301 non-null    float64\n",
      " 3   Present_Price  301 non-null    float64\n",
      " 4   Kms_Driven     301 non-null    int64  \n",
      " 5   Fuel_Type      301 non-null    object \n",
      " 6   Seller_Type    301 non-null    object \n",
      " 7   Transmission   301 non-null    object \n",
      " 8   Owner          301 non-null    int64  \n",
      "dtypes: float64(2), int64(3), object(4)\n",
      "memory usage: 21.3+ KB\n"
     ]
    }
   ],
   "source": [
    "# getting some information about the dataset\n",
    "car_dataset.info()"
   ]
  },
  {
   "cell_type": "code",
   "execution_count": 6,
   "id": "ff2ef76d",
   "metadata": {
    "execution": {
     "iopub.execute_input": "2024-03-28T08:51:08.477766Z",
     "iopub.status.busy": "2024-03-28T08:51:08.477322Z",
     "iopub.status.idle": "2024-03-28T08:51:08.487738Z",
     "shell.execute_reply": "2024-03-28T08:51:08.486572Z"
    },
    "papermill": {
     "duration": 0.023026,
     "end_time": "2024-03-28T08:51:08.490249",
     "exception": false,
     "start_time": "2024-03-28T08:51:08.467223",
     "status": "completed"
    },
    "tags": []
   },
   "outputs": [
    {
     "data": {
      "text/plain": [
       "Car_Name         0\n",
       "Year             0\n",
       "Selling_Price    0\n",
       "Present_Price    0\n",
       "Kms_Driven       0\n",
       "Fuel_Type        0\n",
       "Seller_Type      0\n",
       "Transmission     0\n",
       "Owner            0\n",
       "dtype: int64"
      ]
     },
     "execution_count": 6,
     "metadata": {},
     "output_type": "execute_result"
    }
   ],
   "source": [
    "# checking the number of missing values\n",
    "car_dataset.isnull().sum()"
   ]
  },
  {
   "cell_type": "code",
   "execution_count": 7,
   "id": "b6c4c8ab",
   "metadata": {
    "execution": {
     "iopub.execute_input": "2024-03-28T08:51:08.509319Z",
     "iopub.status.busy": "2024-03-28T08:51:08.508870Z",
     "iopub.status.idle": "2024-03-28T08:51:08.521181Z",
     "shell.execute_reply": "2024-03-28T08:51:08.519782Z"
    },
    "papermill": {
     "duration": 0.02541,
     "end_time": "2024-03-28T08:51:08.523743",
     "exception": false,
     "start_time": "2024-03-28T08:51:08.498333",
     "status": "completed"
    },
    "tags": []
   },
   "outputs": [
    {
     "name": "stdout",
     "output_type": "stream",
     "text": [
      "Fuel_Type\n",
      "Petrol    239\n",
      "Diesel     60\n",
      "CNG         2\n",
      "Name: count, dtype: int64\n",
      "Seller_Type\n",
      "Dealer        195\n",
      "Individual    106\n",
      "Name: count, dtype: int64\n",
      "Transmission\n",
      "Manual       261\n",
      "Automatic     40\n",
      "Name: count, dtype: int64\n"
     ]
    }
   ],
   "source": [
    "# checking the distribution of categorical data\n",
    "print(car_dataset.Fuel_Type.value_counts())\n",
    "print(car_dataset.Seller_Type.value_counts())\n",
    "print(car_dataset.Transmission.value_counts())"
   ]
  },
  {
   "cell_type": "markdown",
   "id": "522fe0a4",
   "metadata": {
    "papermill": {
     "duration": 0.007521,
     "end_time": "2024-03-28T08:51:08.540157",
     "exception": false,
     "start_time": "2024-03-28T08:51:08.532636",
     "status": "completed"
    },
    "tags": []
   },
   "source": [
    "# Encoding the Categorical Data"
   ]
  },
  {
   "cell_type": "code",
   "execution_count": 8,
   "id": "0bf8e26d",
   "metadata": {
    "execution": {
     "iopub.execute_input": "2024-03-28T08:51:08.558893Z",
     "iopub.status.busy": "2024-03-28T08:51:08.558513Z",
     "iopub.status.idle": "2024-03-28T08:51:08.570045Z",
     "shell.execute_reply": "2024-03-28T08:51:08.568524Z"
    },
    "papermill": {
     "duration": 0.023643,
     "end_time": "2024-03-28T08:51:08.572647",
     "exception": false,
     "start_time": "2024-03-28T08:51:08.549004",
     "status": "completed"
    },
    "tags": []
   },
   "outputs": [
    {
     "name": "stderr",
     "output_type": "stream",
     "text": [
      "/tmp/ipykernel_18/2077123942.py:2: FutureWarning: Downcasting behavior in `replace` is deprecated and will be removed in a future version. To retain the old behavior, explicitly call `result.infer_objects(copy=False)`. To opt-in to the future behavior, set `pd.set_option('future.no_silent_downcasting', True)`\n",
      "  car_dataset.replace({'Fuel_Type':{'Petrol':0,'Diesel':1,'CNG':2}},inplace=True)\n",
      "/tmp/ipykernel_18/2077123942.py:4: FutureWarning: Downcasting behavior in `replace` is deprecated and will be removed in a future version. To retain the old behavior, explicitly call `result.infer_objects(copy=False)`. To opt-in to the future behavior, set `pd.set_option('future.no_silent_downcasting', True)`\n",
      "  car_dataset.replace({\"Seller_Type\":{\"Dealer\":0,\"Individual\":1}},inplace=True)\n",
      "/tmp/ipykernel_18/2077123942.py:6: FutureWarning: Downcasting behavior in `replace` is deprecated and will be removed in a future version. To retain the old behavior, explicitly call `result.infer_objects(copy=False)`. To opt-in to the future behavior, set `pd.set_option('future.no_silent_downcasting', True)`\n",
      "  car_dataset.replace({\"Transmission\":{\"Manual\":0,\"Automatic\":1}},inplace=True)\n"
     ]
    }
   ],
   "source": [
    "# encoding \"Fuel_Type\" Column\n",
    "car_dataset.replace({'Fuel_Type':{'Petrol':0,'Diesel':1,'CNG':2}},inplace=True)\n",
    "# encoding \"Seller_Type\" Column\n",
    "car_dataset.replace({\"Seller_Type\":{\"Dealer\":0,\"Individual\":1}},inplace=True)\n",
    "# encoding \"Transmission\" Column\n",
    "car_dataset.replace({\"Transmission\":{\"Manual\":0,\"Automatic\":1}},inplace=True)"
   ]
  },
  {
   "cell_type": "code",
   "execution_count": 9,
   "id": "bec8f791",
   "metadata": {
    "execution": {
     "iopub.execute_input": "2024-03-28T08:51:08.589792Z",
     "iopub.status.busy": "2024-03-28T08:51:08.589411Z",
     "iopub.status.idle": "2024-03-28T08:51:08.604763Z",
     "shell.execute_reply": "2024-03-28T08:51:08.603844Z"
    },
    "papermill": {
     "duration": 0.026434,
     "end_time": "2024-03-28T08:51:08.606966",
     "exception": false,
     "start_time": "2024-03-28T08:51:08.580532",
     "status": "completed"
    },
    "tags": []
   },
   "outputs": [
    {
     "data": {
      "text/html": [
       "<div>\n",
       "<style scoped>\n",
       "    .dataframe tbody tr th:only-of-type {\n",
       "        vertical-align: middle;\n",
       "    }\n",
       "\n",
       "    .dataframe tbody tr th {\n",
       "        vertical-align: top;\n",
       "    }\n",
       "\n",
       "    .dataframe thead th {\n",
       "        text-align: right;\n",
       "    }\n",
       "</style>\n",
       "<table border=\"1\" class=\"dataframe\">\n",
       "  <thead>\n",
       "    <tr style=\"text-align: right;\">\n",
       "      <th></th>\n",
       "      <th>Car_Name</th>\n",
       "      <th>Year</th>\n",
       "      <th>Selling_Price</th>\n",
       "      <th>Present_Price</th>\n",
       "      <th>Kms_Driven</th>\n",
       "      <th>Fuel_Type</th>\n",
       "      <th>Seller_Type</th>\n",
       "      <th>Transmission</th>\n",
       "      <th>Owner</th>\n",
       "    </tr>\n",
       "  </thead>\n",
       "  <tbody>\n",
       "    <tr>\n",
       "      <th>0</th>\n",
       "      <td>ritz</td>\n",
       "      <td>2014</td>\n",
       "      <td>3.35</td>\n",
       "      <td>5.59</td>\n",
       "      <td>27000</td>\n",
       "      <td>0</td>\n",
       "      <td>0</td>\n",
       "      <td>0</td>\n",
       "      <td>0</td>\n",
       "    </tr>\n",
       "    <tr>\n",
       "      <th>1</th>\n",
       "      <td>sx4</td>\n",
       "      <td>2013</td>\n",
       "      <td>4.75</td>\n",
       "      <td>9.54</td>\n",
       "      <td>43000</td>\n",
       "      <td>1</td>\n",
       "      <td>0</td>\n",
       "      <td>0</td>\n",
       "      <td>0</td>\n",
       "    </tr>\n",
       "    <tr>\n",
       "      <th>2</th>\n",
       "      <td>ciaz</td>\n",
       "      <td>2017</td>\n",
       "      <td>7.25</td>\n",
       "      <td>9.85</td>\n",
       "      <td>6900</td>\n",
       "      <td>0</td>\n",
       "      <td>0</td>\n",
       "      <td>0</td>\n",
       "      <td>0</td>\n",
       "    </tr>\n",
       "    <tr>\n",
       "      <th>3</th>\n",
       "      <td>wagon r</td>\n",
       "      <td>2011</td>\n",
       "      <td>2.85</td>\n",
       "      <td>4.15</td>\n",
       "      <td>5200</td>\n",
       "      <td>0</td>\n",
       "      <td>0</td>\n",
       "      <td>0</td>\n",
       "      <td>0</td>\n",
       "    </tr>\n",
       "    <tr>\n",
       "      <th>4</th>\n",
       "      <td>swift</td>\n",
       "      <td>2014</td>\n",
       "      <td>4.60</td>\n",
       "      <td>6.87</td>\n",
       "      <td>42450</td>\n",
       "      <td>1</td>\n",
       "      <td>0</td>\n",
       "      <td>0</td>\n",
       "      <td>0</td>\n",
       "    </tr>\n",
       "  </tbody>\n",
       "</table>\n",
       "</div>"
      ],
      "text/plain": [
       "  Car_Name  Year  Selling_Price  Present_Price  Kms_Driven  Fuel_Type  \\\n",
       "0     ritz  2014           3.35           5.59       27000          0   \n",
       "1      sx4  2013           4.75           9.54       43000          1   \n",
       "2     ciaz  2017           7.25           9.85        6900          0   \n",
       "3  wagon r  2011           2.85           4.15        5200          0   \n",
       "4    swift  2014           4.60           6.87       42450          1   \n",
       "\n",
       "   Seller_Type  Transmission  Owner  \n",
       "0            0             0      0  \n",
       "1            0             0      0  \n",
       "2            0             0      0  \n",
       "3            0             0      0  \n",
       "4            0             0      0  "
      ]
     },
     "execution_count": 9,
     "metadata": {},
     "output_type": "execute_result"
    }
   ],
   "source": [
    "car_dataset.head()"
   ]
  },
  {
   "cell_type": "markdown",
   "id": "38b0db1e",
   "metadata": {
    "papermill": {
     "duration": 0.009079,
     "end_time": "2024-03-28T08:51:08.624005",
     "exception": false,
     "start_time": "2024-03-28T08:51:08.614926",
     "status": "completed"
    },
    "tags": []
   },
   "source": [
    "# Splitting the data and Target"
   ]
  },
  {
   "cell_type": "code",
   "execution_count": 10,
   "id": "748e0317",
   "metadata": {
    "execution": {
     "iopub.execute_input": "2024-03-28T08:51:08.642171Z",
     "iopub.status.busy": "2024-03-28T08:51:08.641794Z",
     "iopub.status.idle": "2024-03-28T08:51:08.649979Z",
     "shell.execute_reply": "2024-03-28T08:51:08.648744Z"
    },
    "papermill": {
     "duration": 0.019709,
     "end_time": "2024-03-28T08:51:08.652309",
     "exception": false,
     "start_time": "2024-03-28T08:51:08.632600",
     "status": "completed"
    },
    "tags": []
   },
   "outputs": [],
   "source": [
    "X=car_dataset.drop(['Car_Name','Selling_Price'],axis=1)\n",
    "Y=car_dataset['Selling_Price']"
   ]
  },
  {
   "cell_type": "code",
   "execution_count": 11,
   "id": "794a0ce3",
   "metadata": {
    "execution": {
     "iopub.execute_input": "2024-03-28T08:51:08.670964Z",
     "iopub.status.busy": "2024-03-28T08:51:08.670598Z",
     "iopub.status.idle": "2024-03-28T08:51:08.678042Z",
     "shell.execute_reply": "2024-03-28T08:51:08.676655Z"
    },
    "papermill": {
     "duration": 0.019625,
     "end_time": "2024-03-28T08:51:08.680395",
     "exception": false,
     "start_time": "2024-03-28T08:51:08.660770",
     "status": "completed"
    },
    "tags": []
   },
   "outputs": [
    {
     "name": "stdout",
     "output_type": "stream",
     "text": [
      "0       3.35\n",
      "1       4.75\n",
      "2       7.25\n",
      "3       2.85\n",
      "4       4.60\n",
      "       ...  \n",
      "296     9.50\n",
      "297     4.00\n",
      "298     3.35\n",
      "299    11.50\n",
      "300     5.30\n",
      "Name: Selling_Price, Length: 301, dtype: float64\n"
     ]
    }
   ],
   "source": [
    "print(Y)"
   ]
  },
  {
   "cell_type": "code",
   "execution_count": 12,
   "id": "2cff70de",
   "metadata": {
    "execution": {
     "iopub.execute_input": "2024-03-28T08:51:08.700398Z",
     "iopub.status.busy": "2024-03-28T08:51:08.699443Z",
     "iopub.status.idle": "2024-03-28T08:51:08.711720Z",
     "shell.execute_reply": "2024-03-28T08:51:08.710444Z"
    },
    "papermill": {
     "duration": 0.02551,
     "end_time": "2024-03-28T08:51:08.714478",
     "exception": false,
     "start_time": "2024-03-28T08:51:08.688968",
     "status": "completed"
    },
    "tags": []
   },
   "outputs": [
    {
     "name": "stdout",
     "output_type": "stream",
     "text": [
      "     Year  Present_Price  Kms_Driven  Fuel_Type  Seller_Type  Transmission  \\\n",
      "0    2014           5.59       27000          0            0             0   \n",
      "1    2013           9.54       43000          1            0             0   \n",
      "2    2017           9.85        6900          0            0             0   \n",
      "3    2011           4.15        5200          0            0             0   \n",
      "4    2014           6.87       42450          1            0             0   \n",
      "..    ...            ...         ...        ...          ...           ...   \n",
      "296  2016          11.60       33988          1            0             0   \n",
      "297  2015           5.90       60000          0            0             0   \n",
      "298  2009          11.00       87934          0            0             0   \n",
      "299  2017          12.50        9000          1            0             0   \n",
      "300  2016           5.90        5464          0            0             0   \n",
      "\n",
      "     Owner  \n",
      "0        0  \n",
      "1        0  \n",
      "2        0  \n",
      "3        0  \n",
      "4        0  \n",
      "..     ...  \n",
      "296      0  \n",
      "297      0  \n",
      "298      0  \n",
      "299      0  \n",
      "300      0  \n",
      "\n",
      "[301 rows x 7 columns]\n"
     ]
    }
   ],
   "source": [
    "print(X)"
   ]
  },
  {
   "cell_type": "markdown",
   "id": "8e2f7efa",
   "metadata": {
    "papermill": {
     "duration": 0.008006,
     "end_time": "2024-03-28T08:51:08.730585",
     "exception": false,
     "start_time": "2024-03-28T08:51:08.722579",
     "status": "completed"
    },
    "tags": []
   },
   "source": [
    "# Splitting Training and Test data"
   ]
  },
  {
   "cell_type": "markdown",
   "id": "53bd16c2",
   "metadata": {
    "papermill": {
     "duration": 0.007725,
     "end_time": "2024-03-28T08:51:08.746393",
     "exception": false,
     "start_time": "2024-03-28T08:51:08.738668",
     "status": "completed"
    },
    "tags": []
   },
   "source": []
  },
  {
   "cell_type": "code",
   "execution_count": 13,
   "id": "5af1d7f7",
   "metadata": {
    "execution": {
     "iopub.execute_input": "2024-03-28T08:51:08.764205Z",
     "iopub.status.busy": "2024-03-28T08:51:08.763843Z",
     "iopub.status.idle": "2024-03-28T08:51:08.771911Z",
     "shell.execute_reply": "2024-03-28T08:51:08.770980Z"
    },
    "papermill": {
     "duration": 0.019632,
     "end_time": "2024-03-28T08:51:08.774096",
     "exception": false,
     "start_time": "2024-03-28T08:51:08.754464",
     "status": "completed"
    },
    "tags": []
   },
   "outputs": [],
   "source": [
    "X_train,X_test,Y_train,Y_test=train_test_split(X,Y,test_size=0.1,random_state=2)"
   ]
  },
  {
   "cell_type": "markdown",
   "id": "462962a5",
   "metadata": {
    "papermill": {
     "duration": 0.007661,
     "end_time": "2024-03-28T08:51:08.789925",
     "exception": false,
     "start_time": "2024-03-28T08:51:08.782264",
     "status": "completed"
    },
    "tags": []
   },
   "source": [
    "# Model Training"
   ]
  },
  {
   "cell_type": "markdown",
   "id": "a4575be0",
   "metadata": {
    "papermill": {
     "duration": 0.00775,
     "end_time": "2024-03-28T08:51:08.805849",
     "exception": false,
     "start_time": "2024-03-28T08:51:08.798099",
     "status": "completed"
    },
    "tags": []
   },
   "source": [
    "**1 . **Linear Regression****"
   ]
  },
  {
   "cell_type": "markdown",
   "id": "af457f2e",
   "metadata": {
    "papermill": {
     "duration": 0.007726,
     "end_time": "2024-03-28T08:51:08.821509",
     "exception": false,
     "start_time": "2024-03-28T08:51:08.813783",
     "status": "completed"
    },
    "tags": []
   },
   "source": []
  },
  {
   "cell_type": "code",
   "execution_count": 14,
   "id": "27071008",
   "metadata": {
    "execution": {
     "iopub.execute_input": "2024-03-28T08:51:08.839436Z",
     "iopub.status.busy": "2024-03-28T08:51:08.839024Z",
     "iopub.status.idle": "2024-03-28T08:51:08.843803Z",
     "shell.execute_reply": "2024-03-28T08:51:08.842581Z"
    },
    "papermill": {
     "duration": 0.016614,
     "end_time": "2024-03-28T08:51:08.846087",
     "exception": false,
     "start_time": "2024-03-28T08:51:08.829473",
     "status": "completed"
    },
    "tags": []
   },
   "outputs": [],
   "source": [
    "# loading the linear regression model\n",
    "lin_reg_model=LinearRegression()"
   ]
  },
  {
   "cell_type": "code",
   "execution_count": 15,
   "id": "7b72f1c2",
   "metadata": {
    "execution": {
     "iopub.execute_input": "2024-03-28T08:51:08.864490Z",
     "iopub.status.busy": "2024-03-28T08:51:08.864054Z",
     "iopub.status.idle": "2024-03-28T08:51:08.897012Z",
     "shell.execute_reply": "2024-03-28T08:51:08.896193Z"
    },
    "papermill": {
     "duration": 0.044691,
     "end_time": "2024-03-28T08:51:08.899007",
     "exception": false,
     "start_time": "2024-03-28T08:51:08.854316",
     "status": "completed"
    },
    "tags": []
   },
   "outputs": [
    {
     "data": {
      "text/html": [
       "<style>#sk-container-id-1 {color: black;background-color: white;}#sk-container-id-1 pre{padding: 0;}#sk-container-id-1 div.sk-toggleable {background-color: white;}#sk-container-id-1 label.sk-toggleable__label {cursor: pointer;display: block;width: 100%;margin-bottom: 0;padding: 0.3em;box-sizing: border-box;text-align: center;}#sk-container-id-1 label.sk-toggleable__label-arrow:before {content: \"▸\";float: left;margin-right: 0.25em;color: #696969;}#sk-container-id-1 label.sk-toggleable__label-arrow:hover:before {color: black;}#sk-container-id-1 div.sk-estimator:hover label.sk-toggleable__label-arrow:before {color: black;}#sk-container-id-1 div.sk-toggleable__content {max-height: 0;max-width: 0;overflow: hidden;text-align: left;background-color: #f0f8ff;}#sk-container-id-1 div.sk-toggleable__content pre {margin: 0.2em;color: black;border-radius: 0.25em;background-color: #f0f8ff;}#sk-container-id-1 input.sk-toggleable__control:checked~div.sk-toggleable__content {max-height: 200px;max-width: 100%;overflow: auto;}#sk-container-id-1 input.sk-toggleable__control:checked~label.sk-toggleable__label-arrow:before {content: \"▾\";}#sk-container-id-1 div.sk-estimator input.sk-toggleable__control:checked~label.sk-toggleable__label {background-color: #d4ebff;}#sk-container-id-1 div.sk-label input.sk-toggleable__control:checked~label.sk-toggleable__label {background-color: #d4ebff;}#sk-container-id-1 input.sk-hidden--visually {border: 0;clip: rect(1px 1px 1px 1px);clip: rect(1px, 1px, 1px, 1px);height: 1px;margin: -1px;overflow: hidden;padding: 0;position: absolute;width: 1px;}#sk-container-id-1 div.sk-estimator {font-family: monospace;background-color: #f0f8ff;border: 1px dotted black;border-radius: 0.25em;box-sizing: border-box;margin-bottom: 0.5em;}#sk-container-id-1 div.sk-estimator:hover {background-color: #d4ebff;}#sk-container-id-1 div.sk-parallel-item::after {content: \"\";width: 100%;border-bottom: 1px solid gray;flex-grow: 1;}#sk-container-id-1 div.sk-label:hover label.sk-toggleable__label {background-color: #d4ebff;}#sk-container-id-1 div.sk-serial::before {content: \"\";position: absolute;border-left: 1px solid gray;box-sizing: border-box;top: 0;bottom: 0;left: 50%;z-index: 0;}#sk-container-id-1 div.sk-serial {display: flex;flex-direction: column;align-items: center;background-color: white;padding-right: 0.2em;padding-left: 0.2em;position: relative;}#sk-container-id-1 div.sk-item {position: relative;z-index: 1;}#sk-container-id-1 div.sk-parallel {display: flex;align-items: stretch;justify-content: center;background-color: white;position: relative;}#sk-container-id-1 div.sk-item::before, #sk-container-id-1 div.sk-parallel-item::before {content: \"\";position: absolute;border-left: 1px solid gray;box-sizing: border-box;top: 0;bottom: 0;left: 50%;z-index: -1;}#sk-container-id-1 div.sk-parallel-item {display: flex;flex-direction: column;z-index: 1;position: relative;background-color: white;}#sk-container-id-1 div.sk-parallel-item:first-child::after {align-self: flex-end;width: 50%;}#sk-container-id-1 div.sk-parallel-item:last-child::after {align-self: flex-start;width: 50%;}#sk-container-id-1 div.sk-parallel-item:only-child::after {width: 0;}#sk-container-id-1 div.sk-dashed-wrapped {border: 1px dashed gray;margin: 0 0.4em 0.5em 0.4em;box-sizing: border-box;padding-bottom: 0.4em;background-color: white;}#sk-container-id-1 div.sk-label label {font-family: monospace;font-weight: bold;display: inline-block;line-height: 1.2em;}#sk-container-id-1 div.sk-label-container {text-align: center;}#sk-container-id-1 div.sk-container {/* jupyter's `normalize.less` sets `[hidden] { display: none; }` but bootstrap.min.css set `[hidden] { display: none !important; }` so we also need the `!important` here to be able to override the default hidden behavior on the sphinx rendered scikit-learn.org. See: https://github.com/scikit-learn/scikit-learn/issues/21755 */display: inline-block !important;position: relative;}#sk-container-id-1 div.sk-text-repr-fallback {display: none;}</style><div id=\"sk-container-id-1\" class=\"sk-top-container\"><div class=\"sk-text-repr-fallback\"><pre>LinearRegression()</pre><b>In a Jupyter environment, please rerun this cell to show the HTML representation or trust the notebook. <br />On GitHub, the HTML representation is unable to render, please try loading this page with nbviewer.org.</b></div><div class=\"sk-container\" hidden><div class=\"sk-item\"><div class=\"sk-estimator sk-toggleable\"><input class=\"sk-toggleable__control sk-hidden--visually\" id=\"sk-estimator-id-1\" type=\"checkbox\" checked><label for=\"sk-estimator-id-1\" class=\"sk-toggleable__label sk-toggleable__label-arrow\">LinearRegression</label><div class=\"sk-toggleable__content\"><pre>LinearRegression()</pre></div></div></div></div></div>"
      ],
      "text/plain": [
       "LinearRegression()"
      ]
     },
     "execution_count": 15,
     "metadata": {},
     "output_type": "execute_result"
    }
   ],
   "source": [
    "lin_reg_model.fit(X_train,Y_train)"
   ]
  },
  {
   "cell_type": "markdown",
   "id": "8af40732",
   "metadata": {
    "papermill": {
     "duration": 0.008146,
     "end_time": "2024-03-28T08:51:08.915654",
     "exception": false,
     "start_time": "2024-03-28T08:51:08.907508",
     "status": "completed"
    },
    "tags": []
   },
   "source": [
    "**Model Evaluation**"
   ]
  },
  {
   "cell_type": "code",
   "execution_count": 16,
   "id": "6120aa9b",
   "metadata": {
    "execution": {
     "iopub.execute_input": "2024-03-28T08:51:08.934111Z",
     "iopub.status.busy": "2024-03-28T08:51:08.933737Z",
     "iopub.status.idle": "2024-03-28T08:51:08.940666Z",
     "shell.execute_reply": "2024-03-28T08:51:08.939569Z"
    },
    "papermill": {
     "duration": 0.01906,
     "end_time": "2024-03-28T08:51:08.943065",
     "exception": false,
     "start_time": "2024-03-28T08:51:08.924005",
     "status": "completed"
    },
    "tags": []
   },
   "outputs": [],
   "source": [
    "# prediction on Training data\n",
    "train_data_prediction=lin_reg_model.predict(X_train)"
   ]
  },
  {
   "cell_type": "code",
   "execution_count": 17,
   "id": "69371cc5",
   "metadata": {
    "execution": {
     "iopub.execute_input": "2024-03-28T08:51:08.961599Z",
     "iopub.status.busy": "2024-03-28T08:51:08.961178Z",
     "iopub.status.idle": "2024-03-28T08:51:08.968363Z",
     "shell.execute_reply": "2024-03-28T08:51:08.967155Z"
    },
    "papermill": {
     "duration": 0.019478,
     "end_time": "2024-03-28T08:51:08.971075",
     "exception": false,
     "start_time": "2024-03-28T08:51:08.951597",
     "status": "completed"
    },
    "tags": []
   },
   "outputs": [
    {
     "name": "stdout",
     "output_type": "stream",
     "text": [
      "R squared error :  0.8799451660493711\n"
     ]
    }
   ],
   "source": [
    "# R squared Error\n",
    "error_score=metrics.r2_score(Y_train,train_data_prediction)\n",
    "print(\"R squared error : \",error_score)"
   ]
  },
  {
   "cell_type": "markdown",
   "id": "5bf15f67",
   "metadata": {
    "papermill": {
     "duration": 0.009746,
     "end_time": "2024-03-28T08:51:08.990230",
     "exception": false,
     "start_time": "2024-03-28T08:51:08.980484",
     "status": "completed"
    },
    "tags": []
   },
   "source": [
    "**Visualize the actual prices and Predicted prices**"
   ]
  },
  {
   "cell_type": "code",
   "execution_count": 18,
   "id": "a1e0760f",
   "metadata": {
    "execution": {
     "iopub.execute_input": "2024-03-28T08:51:09.009957Z",
     "iopub.status.busy": "2024-03-28T08:51:09.009565Z",
     "iopub.status.idle": "2024-03-28T08:51:09.319199Z",
     "shell.execute_reply": "2024-03-28T08:51:09.318107Z"
    },
    "papermill": {
     "duration": 0.322805,
     "end_time": "2024-03-28T08:51:09.321695",
     "exception": false,
     "start_time": "2024-03-28T08:51:08.998890",
     "status": "completed"
    },
    "tags": []
   },
   "outputs": [
    {
     "data": {
      "image/png": "[encoded data removed]",
      "text/plain": [
       "<Figure size 640x480 with 1 Axes>"
      ]
     },
     "metadata": {},
     "output_type": "display_data"
    }
   ],
   "source": [
    "plt.scatter(Y_train,train_data_prediction)\n",
    "plt.xlabel(\"Actual prices\")\n",
    "plt.ylabel(\"Predicted price\")\n",
    "plt.title(\"Actual prices Vs Predicted Prices\")\n",
    "plt.show()"
   ]
  },
  {
   "cell_type": "code",
   "execution_count": 19,
   "id": "4869c264",
   "metadata": {
    "execution": {
     "iopub.execute_input": "2024-03-28T08:51:09.341592Z",
     "iopub.status.busy": "2024-03-28T08:51:09.341182Z",
     "iopub.status.idle": "2024-03-28T08:51:09.350313Z",
     "shell.execute_reply": "2024-03-28T08:51:09.349188Z"
    },
    "papermill": {
     "duration": 0.022462,
     "end_time": "2024-03-28T08:51:09.353330",
     "exception": false,
     "start_time": "2024-03-28T08:51:09.330868",
     "status": "completed"
    },
    "tags": []
   },
   "outputs": [],
   "source": [
    "# prediction on Testing data\n",
    "test_data_prediction=lin_reg_model.predict(X_test)"
   ]
  },
  {
   "cell_type": "code",
   "execution_count": 20,
   "id": "a1a96d92",
   "metadata": {
    "execution": {
     "iopub.execute_input": "2024-03-28T08:51:09.374173Z",
     "iopub.status.busy": "2024-03-28T08:51:09.373511Z",
     "iopub.status.idle": "2024-03-28T08:51:09.379675Z",
     "shell.execute_reply": "2024-03-28T08:51:09.378487Z"
    },
    "papermill": {
     "duration": 0.019787,
     "end_time": "2024-03-28T08:51:09.382202",
     "exception": false,
     "start_time": "2024-03-28T08:51:09.362415",
     "status": "completed"
    },
    "tags": []
   },
   "outputs": [
    {
     "name": "stdout",
     "output_type": "stream",
     "text": [
      "R squared error :  0.8365766715027051\n"
     ]
    }
   ],
   "source": [
    "# R squared Error\n",
    "error_score=metrics.r2_score(Y_test,test_data_prediction)\n",
    "print(\"R squared error : \",error_score)"
   ]
  },
  {
   "cell_type": "code",
   "execution_count": 21,
   "id": "e2259aa1",
   "metadata": {
    "execution": {
     "iopub.execute_input": "2024-03-28T08:51:09.402670Z",
     "iopub.status.busy": "2024-03-28T08:51:09.402254Z",
     "iopub.status.idle": "2024-03-28T08:51:09.672833Z",
     "shell.execute_reply": "2024-03-28T08:51:09.671738Z"
    },
    "papermill": {
     "duration": 0.283524,
     "end_time": "2024-03-28T08:51:09.675181",
     "exception": false,
     "start_time": "2024-03-28T08:51:09.391657",
     "status": "completed"
    },
    "tags": []
   },
   "outputs": [
    {
     "data": {
      "image/png": "[encoded data removed]",
      "text/plain": [
       "<Figure size 640x480 with 1 Axes>"
      ]
     },
     "metadata": {},
     "output_type": "display_data"
    }
   ],
   "source": [
    "plt.scatter(Y_test,test_data_prediction)\n",
    "plt.xlabel(\"Actual prices\")\n",
    "plt.ylabel(\"Predicted price\")\n",
    "plt.title(\"Actual prices Vs Predicted Prices\")\n",
    "plt.show()"
   ]
  },
  {
   "cell_type": "code",
   "execution_count": null,
   "id": "34c81d8e",
   "metadata": {
    "papermill": {
     "duration": 0.0092,
     "end_time": "2024-03-28T08:51:09.693966",
     "exception": false,
     "start_time": "2024-03-28T08:51:09.684766",
     "status": "completed"
    },
    "tags": []
   },
   "outputs": [],
   "source": []
  }
 ],
 "metadata": {
  "kaggle": {
   "accelerator": "none",
   "dataSources": [
    {
     "datasetId": 33080,
     "sourceId": 4852390,
     "sourceType": "datasetVersion"
    }
   ],
   "dockerImageVersionId": 30673,
   "isGpuEnabled": false,
   "isInternetEnabled": false,
   "language": "python",
   "sourceType": "notebook"
  },
  "kernelspec": {
   "display_name": "Python 3",
   "language": "python",
   "name": "python3"
  },
  "language_info": {
   "codemirror_mode": {
    "name": "ipython",
    "version": 3
   },
   "file_extension": ".py",
   "mimetype": "text/x-python",
   "name": "python",
   "nbconvert_exporter": "python",
   "pygments_lexer": "ipython3",
   "version": "3.10.13"
  },
  "papermill": {
   "default_parameters": {},
   "duration": 8.366999,
   "end_time": "2024-03-28T08:51:10.324655",
   "environment_variables": {},
   "exception": null,
   "input_path": "__notebook__.ipynb",
   "output_path": "__notebook__.ipynb",
   "parameters": {},
   "start_time": "2024-03-28T08:51:01.957656",
   "version": "2.5.0"
  }
 },
 "nbformat": 4,
 "nbformat_minor": 5
}
