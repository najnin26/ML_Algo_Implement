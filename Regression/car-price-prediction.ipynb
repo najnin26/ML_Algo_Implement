{
 "cells": [
  {
   "cell_type": "code",
   "execution_count": 1,
   "id": "54c5a618",
   "metadata": {
    "_cell_guid": "b1076dfc-b9ad-4769-8c92-a6c4dae69d19",
    "_uuid": "8f2839f25d086af736a60e9eeb907d3b93b6e0e5",
    "execution": {
     "iopub.execute_input": "2024-03-27T14:54:34.557758Z",
     "iopub.status.busy": "2024-03-27T14:54:34.557303Z",
     "iopub.status.idle": "2024-03-27T14:54:37.621258Z",
     "shell.execute_reply": "2024-03-27T14:54:37.620027Z"
    },
    "papermill": {
     "duration": 3.072518,
     "end_time": "2024-03-27T14:54:37.624469",
     "exception": false,
     "start_time": "2024-03-27T14:54:34.551951",
     "status": "completed"
    },
    "tags": []
   },
   "outputs": [],
   "source": [
    "import pandas as pd\n",
    "import matplotlib.pyplot as plt\n",
    "import seaborn as sns\n",
    "from sklearn.model_selection  import  train_test_split\n",
    "from sklearn.linear_model import LinearRegression\n",
    "from sklearn.linear_model import Lasso\n",
    "from sklearn import metrics"
   ]
  },
  {
   "cell_type": "markdown",
   "id": "6b8ad098",
   "metadata": {
    "papermill": {
     "duration": 0.002308,
     "end_time": "2024-03-27T14:54:37.629627",
     "exception": false,
     "start_time": "2024-03-27T14:54:37.627319",
     "status": "completed"
    },
    "tags": []
   },
   "source": [
    "# Data Collection and Processing"
   ]
  },
  {
   "cell_type": "code",
   "execution_count": null,
   "id": "90770b9a",
   "metadata": {
    "papermill": {
     "duration": 0.002089,
     "end_time": "2024-03-27T14:54:37.634046",
     "exception": false,
     "start_time": "2024-03-27T14:54:37.631957",
     "status": "completed"
    },
    "tags": []
   },
   "outputs": [],
   "source": []
  },
  {
   "cell_type": "markdown",
   "id": "f4c26adb",
   "metadata": {
    "papermill": {
     "duration": 0.002065,
     "end_time": "2024-03-27T14:54:37.638419",
     "exception": false,
     "start_time": "2024-03-27T14:54:37.636354",
     "status": "completed"
    },
    "tags": []
   },
   "source": []
  },
  {
   "cell_type": "code",
   "execution_count": null,
   "id": "98de1d01",
   "metadata": {
    "papermill": {
     "duration": 0.002048,
     "end_time": "2024-03-27T14:54:37.642720",
     "exception": false,
     "start_time": "2024-03-27T14:54:37.640672",
     "status": "completed"
    },
    "tags": []
   },
   "outputs": [],
   "source": []
  }
 ],
 "metadata": {
  "kaggle": {
   "accelerator": "none",
   "dataSources": [
    {
     "datasetId": 33080,
     "sourceId": 4852390,
     "sourceType": "datasetVersion"
    }
   ],
   "dockerImageVersionId": 30673,
   "isGpuEnabled": false,
   "isInternetEnabled": false,
   "language": "python",
   "sourceType": "notebook"
  },
  "kernelspec": {
   "display_name": "Python 3",
   "language": "python",
   "name": "python3"
  },
  "language_info": {
   "codemirror_mode": {
    "name": "ipython",
    "version": 3
   },
   "file_extension": ".py",
   "mimetype": "text/x-python",
   "name": "python",
   "nbconvert_exporter": "python",
   "pygments_lexer": "ipython3",
   "version": "3.10.13"
  },
  "papermill": {
   "default_parameters": {},
   "duration": 7.027695,
   "end_time": "2024-03-27T14:54:38.467566",
   "environment_variables": {},
   "exception": null,
   "input_path": "__notebook__.ipynb",
   "output_path": "__notebook__.ipynb",
   "parameters": {},
   "start_time": "2024-03-27T14:54:31.439871",
   "version": "2.5.0"
  }
 },
 "nbformat": 4,
 "nbformat_minor": 5
}
