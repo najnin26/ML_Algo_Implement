{
 "cells": [
  {
   "cell_type": "code",
   "execution_count": 1,
   "id": "12e81615",
   "metadata": {
    "_cell_guid": "b1076dfc-b9ad-4769-8c92-a6c4dae69d19",
    "_uuid": "8f2839f25d086af736a60e9eeb907d3b93b6e0e5",
    "execution": {
     "iopub.execute_input": "2024-03-28T10:51:12.729674Z",
     "iopub.status.busy": "2024-03-28T10:51:12.728921Z",
     "iopub.status.idle": "2024-03-28T10:51:16.080283Z",
     "shell.execute_reply": "2024-03-28T10:51:16.079102Z"
    },
    "papermill": {
     "duration": 3.371193,
     "end_time": "2024-03-28T10:51:16.083479",
     "exception": false,
     "start_time": "2024-03-28T10:51:12.712286",
     "status": "completed"
    },
    "tags": []
   },
   "outputs": [],
   "source": [
    "import pandas as pd\n",
    "import matplotlib.pyplot as plt\n",
    "import seaborn as sns\n",
    "from sklearn.model_selection  import  train_test_split\n",
    "from sklearn.linear_model import LinearRegression\n",
    "from sklearn.linear_model import Lasso\n",
    "from sklearn import metrics"
   ]
  },
  {
   "cell_type": "markdown",
   "id": "ab8a6254",
   "metadata": {
    "papermill": {
     "duration": 0.014863,
     "end_time": "2024-03-28T10:51:16.113130",
     "exception": false,
     "start_time": "2024-03-28T10:51:16.098267",
     "status": "completed"
    },
    "tags": []
   },
   "source": [
    "# Data Collection and Processing"
   ]
  },
  {
   "cell_type": "code",
   "execution_count": 2,
   "id": "e0210b46",
   "metadata": {
    "execution": {
     "iopub.execute_input": "2024-03-28T10:51:16.145386Z",
     "iopub.status.busy": "2024-03-28T10:51:16.144358Z",
     "iopub.status.idle": "2024-03-28T10:51:16.169580Z",
     "shell.execute_reply": "2024-03-28T10:51:16.168312Z"
    },
    "papermill": {
     "duration": 0.045317,
     "end_time": "2024-03-28T10:51:16.173350",
     "exception": false,
     "start_time": "2024-03-28T10:51:16.128033",
     "status": "completed"
    },
    "tags": []
   },
   "outputs": [],
   "source": [
    "# loading the data from csv file to pandas dataframe\n",
    "car_dataset=pd.read_csv('/kaggle/input/vehicle-dataset-from-cardekho/car data.csv')"
   ]
  },
  {
   "cell_type": "markdown",
   "id": "0dc7fba9",
   "metadata": {
    "papermill": {
     "duration": 0.013341,
     "end_time": "2024-03-28T10:51:16.200970",
     "exception": false,
     "start_time": "2024-03-28T10:51:16.187629",
     "status": "completed"
    },
    "tags": []
   },
   "source": []
  },
  {
   "cell_type": "code",
   "execution_count": 3,
   "id": "0869fa35",
   "metadata": {
    "execution": {
     "iopub.execute_input": "2024-03-28T10:51:16.233241Z",
     "iopub.status.busy": "2024-03-28T10:51:16.232319Z",
     "iopub.status.idle": "2024-03-28T10:51:16.270479Z",
     "shell.execute_reply": "2024-03-28T10:51:16.268460Z"
    },
    "papermill": {
     "duration": 0.057737,
     "end_time": "2024-03-28T10:51:16.273779",
     "exception": false,
     "start_time": "2024-03-28T10:51:16.216042",
     "status": "completed"
    },
    "tags": []
   },
   "outputs": [
    {
     "data": {
      "text/html": [
       "<div>\n",
       "<style scoped>\n",
       "    .dataframe tbody tr th:only-of-type {\n",
       "        vertical-align: middle;\n",
       "    }\n",
       "\n",
       "    .dataframe tbody tr th {\n",
       "        vertical-align: top;\n",
       "    }\n",
       "\n",
       "    .dataframe thead th {\n",
       "        text-align: right;\n",
       "    }\n",
       "</style>\n",
       "<table border=\"1\" class=\"dataframe\">\n",
       "  <thead>\n",
       "    <tr style=\"text-align: right;\">\n",
       "      <th></th>\n",
       "      <th>Car_Name</th>\n",
       "      <th>Year</th>\n",
       "      <th>Selling_Price</th>\n",
       "      <th>Present_Price</th>\n",
       "      <th>Kms_Driven</th>\n",
       "      <th>Fuel_Type</th>\n",
       "      <th>Seller_Type</th>\n",
       "      <th>Transmission</th>\n",
       "      <th>Owner</th>\n",
       "    </tr>\n",
       "  </thead>\n",
       "  <tbody>\n",
       "    <tr>\n",
       "      <th>0</th>\n",
       "      <td>ritz</td>\n",
       "      <td>2014</td>\n",
       "      <td>3.35</td>\n",
       "      <td>5.59</td>\n",
       "      <td>27000</td>\n",
       "      <td>Petrol</td>\n",
       "      <td>Dealer</td>\n",
       "      <td>Manual</td>\n",
       "      <td>0</td>\n",
       "    </tr>\n",
       "    <tr>\n",
       "      <th>1</th>\n",
       "      <td>sx4</td>\n",
       "      <td>2013</td>\n",
       "      <td>4.75</td>\n",
       "      <td>9.54</td>\n",
       "      <td>43000</td>\n",
       "      <td>Diesel</td>\n",
       "      <td>Dealer</td>\n",
       "      <td>Manual</td>\n",
       "      <td>0</td>\n",
       "    </tr>\n",
       "    <tr>\n",
       "      <th>2</th>\n",
       "      <td>ciaz</td>\n",
       "      <td>2017</td>\n",
       "      <td>7.25</td>\n",
       "      <td>9.85</td>\n",
       "      <td>6900</td>\n",
       "      <td>Petrol</td>\n",
       "      <td>Dealer</td>\n",
       "      <td>Manual</td>\n",
       "      <td>0</td>\n",
       "    </tr>\n",
       "    <tr>\n",
       "      <th>3</th>\n",
       "      <td>wagon r</td>\n",
       "      <td>2011</td>\n",
       "      <td>2.85</td>\n",
       "      <td>4.15</td>\n",
       "      <td>5200</td>\n",
       "      <td>Petrol</td>\n",
       "      <td>Dealer</td>\n",
       "      <td>Manual</td>\n",
       "      <td>0</td>\n",
       "    </tr>\n",
       "    <tr>\n",
       "      <th>4</th>\n",
       "      <td>swift</td>\n",
       "      <td>2014</td>\n",
       "      <td>4.60</td>\n",
       "      <td>6.87</td>\n",
       "      <td>42450</td>\n",
       "      <td>Diesel</td>\n",
       "      <td>Dealer</td>\n",
       "      <td>Manual</td>\n",
       "      <td>0</td>\n",
       "    </tr>\n",
       "  </tbody>\n",
       "</table>\n",
       "</div>"
      ],
      "text/plain": [
       "  Car_Name  Year  Selling_Price  Present_Price  Kms_Driven Fuel_Type  \\\n",
       "0     ritz  2014           3.35           5.59       27000    Petrol   \n",
       "1      sx4  2013           4.75           9.54       43000    Diesel   \n",
       "2     ciaz  2017           7.25           9.85        6900    Petrol   \n",
       "3  wagon r  2011           2.85           4.15        5200    Petrol   \n",
       "4    swift  2014           4.60           6.87       42450    Diesel   \n",
       "\n",
       "  Seller_Type Transmission  Owner  \n",
       "0      Dealer       Manual      0  \n",
       "1      Dealer       Manual      0  \n",
       "2      Dealer       Manual      0  \n",
       "3      Dealer       Manual      0  \n",
       "4      Dealer       Manual      0  "
      ]
     },
     "execution_count": 3,
     "metadata": {},
     "output_type": "execute_result"
    }
   ],
   "source": [
    "# inspecting the first 5 rows of the dataframe\n",
    "car_dataset.head()"
   ]
  },
  {
   "cell_type": "code",
   "execution_count": 4,
   "id": "bbf8ca5b",
   "metadata": {
    "execution": {
     "iopub.execute_input": "2024-03-28T10:51:16.303931Z",
     "iopub.status.busy": "2024-03-28T10:51:16.303440Z",
     "iopub.status.idle": "2024-03-28T10:51:16.311987Z",
     "shell.execute_reply": "2024-03-28T10:51:16.310170Z"
    },
    "papermill": {
     "duration": 0.02674,
     "end_time": "2024-03-28T10:51:16.314774",
     "exception": false,
     "start_time": "2024-03-28T10:51:16.288034",
     "status": "completed"
    },
    "tags": []
   },
   "outputs": [
    {
     "data": {
      "text/plain": [
       "(301, 9)"
      ]
     },
     "execution_count": 4,
     "metadata": {},
     "output_type": "execute_result"
    }
   ],
   "source": [
    "# checking the number of rows and columns\n",
    "car_dataset.shape"
   ]
  },
  {
   "cell_type": "code",
   "execution_count": 5,
   "id": "8eeb0e96",
   "metadata": {
    "execution": {
     "iopub.execute_input": "2024-03-28T10:51:16.345092Z",
     "iopub.status.busy": "2024-03-28T10:51:16.344628Z",
     "iopub.status.idle": "2024-03-28T10:51:16.373751Z",
     "shell.execute_reply": "2024-03-28T10:51:16.372648Z"
    },
    "papermill": {
     "duration": 0.047752,
     "end_time": "2024-03-28T10:51:16.376704",
     "exception": false,
     "start_time": "2024-03-28T10:51:16.328952",
     "status": "completed"
    },
    "tags": []
   },
   "outputs": [
    {
     "name": "stdout",
     "output_type": "stream",
     "text": [
      "<class 'pandas.core.frame.DataFrame'>\n",
      "RangeIndex: 301 entries, 0 to 300\n",
      "Data columns (total 9 columns):\n",
      " #   Column         Non-Null Count  Dtype  \n",
      "---  ------         --------------  -----  \n",
      " 0   Car_Name       301 non-null    object \n",
      " 1   Year           301 non-null    int64  \n",
      " 2   Selling_Price  301 non-null    float64\n",
      " 3   Present_Price  301 non-null    float64\n",
      " 4   Kms_Driven     301 non-null    int64  \n",
      " 5   Fuel_Type      301 non-null    object \n",
      " 6   Seller_Type    301 non-null    object \n",
      " 7   Transmission   301 non-null    object \n",
      " 8   Owner          301 non-null    int64  \n",
      "dtypes: float64(2), int64(3), object(4)\n",
      "memory usage: 21.3+ KB\n"
     ]
    }
   ],
   "source": [
    "# getting some information about the dataset\n",
    "car_dataset.info()"
   ]
  },
  {
   "cell_type": "code",
   "execution_count": 6,
   "id": "07c53642",
   "metadata": {
    "execution": {
     "iopub.execute_input": "2024-03-28T10:51:16.407014Z",
     "iopub.status.busy": "2024-03-28T10:51:16.406550Z",
     "iopub.status.idle": "2024-03-28T10:51:16.418321Z",
     "shell.execute_reply": "2024-03-28T10:51:16.416477Z"
    },
    "papermill": {
     "duration": 0.030348,
     "end_time": "2024-03-28T10:51:16.421059",
     "exception": false,
     "start_time": "2024-03-28T10:51:16.390711",
     "status": "completed"
    },
    "tags": []
   },
   "outputs": [
    {
     "data": {
      "text/plain": [
       "Car_Name         0\n",
       "Year             0\n",
       "Selling_Price    0\n",
       "Present_Price    0\n",
       "Kms_Driven       0\n",
       "Fuel_Type        0\n",
       "Seller_Type      0\n",
       "Transmission     0\n",
       "Owner            0\n",
       "dtype: int64"
      ]
     },
     "execution_count": 6,
     "metadata": {},
     "output_type": "execute_result"
    }
   ],
   "source": [
    "# checking the number of missing values\n",
    "car_dataset.isnull().sum()"
   ]
  },
  {
   "cell_type": "code",
   "execution_count": 7,
   "id": "7b08fe0e",
   "metadata": {
    "execution": {
     "iopub.execute_input": "2024-03-28T10:51:16.452935Z",
     "iopub.status.busy": "2024-03-28T10:51:16.452436Z",
     "iopub.status.idle": "2024-03-28T10:51:16.467829Z",
     "shell.execute_reply": "2024-03-28T10:51:16.466008Z"
    },
    "papermill": {
     "duration": 0.035025,
     "end_time": "2024-03-28T10:51:16.470974",
     "exception": false,
     "start_time": "2024-03-28T10:51:16.435949",
     "status": "completed"
    },
    "tags": []
   },
   "outputs": [
    {
     "name": "stdout",
     "output_type": "stream",
     "text": [
      "Fuel_Type\n",
      "Petrol    239\n",
      "Diesel     60\n",
      "CNG         2\n",
      "Name: count, dtype: int64\n",
      "Seller_Type\n",
      "Dealer        195\n",
      "Individual    106\n",
      "Name: count, dtype: int64\n",
      "Transmission\n",
      "Manual       261\n",
      "Automatic     40\n",
      "Name: count, dtype: int64\n"
     ]
    }
   ],
   "source": [
    "# checking the distribution of categorical data\n",
    "print(car_dataset.Fuel_Type.value_counts())\n",
    "print(car_dataset.Seller_Type.value_counts())\n",
    "print(car_dataset.Transmission.value_counts())"
   ]
  },
  {
   "cell_type": "markdown",
   "id": "6d61689a",
   "metadata": {
    "papermill": {
     "duration": 0.014902,
     "end_time": "2024-03-28T10:51:16.500226",
     "exception": false,
     "start_time": "2024-03-28T10:51:16.485324",
     "status": "completed"
    },
    "tags": []
   },
   "source": [
    "# Encoding the Categorical Data"
   ]
  },
  {
   "cell_type": "code",
   "execution_count": 8,
   "id": "f63fec30",
   "metadata": {
    "execution": {
     "iopub.execute_input": "2024-03-28T10:51:16.532410Z",
     "iopub.status.busy": "2024-03-28T10:51:16.531963Z",
     "iopub.status.idle": "2024-03-28T10:51:16.546228Z",
     "shell.execute_reply": "2024-03-28T10:51:16.544475Z"
    },
    "papermill": {
     "duration": 0.035378,
     "end_time": "2024-03-28T10:51:16.549959",
     "exception": false,
     "start_time": "2024-03-28T10:51:16.514581",
     "status": "completed"
    },
    "tags": []
   },
   "outputs": [
    {
     "name": "stderr",
     "output_type": "stream",
     "text": [
      "/tmp/ipykernel_18/2077123942.py:2: FutureWarning: Downcasting behavior in `replace` is deprecated and will be removed in a future version. To retain the old behavior, explicitly call `result.infer_objects(copy=False)`. To opt-in to the future behavior, set `pd.set_option('future.no_silent_downcasting', True)`\n",
      "  car_dataset.replace({'Fuel_Type':{'Petrol':0,'Diesel':1,'CNG':2}},inplace=True)\n",
      "/tmp/ipykernel_18/2077123942.py:4: FutureWarning: Downcasting behavior in `replace` is deprecated and will be removed in a future version. To retain the old behavior, explicitly call `result.infer_objects(copy=False)`. To opt-in to the future behavior, set `pd.set_option('future.no_silent_downcasting', True)`\n",
      "  car_dataset.replace({\"Seller_Type\":{\"Dealer\":0,\"Individual\":1}},inplace=True)\n",
      "/tmp/ipykernel_18/2077123942.py:6: FutureWarning: Downcasting behavior in `replace` is deprecated and will be removed in a future version. To retain the old behavior, explicitly call `result.infer_objects(copy=False)`. To opt-in to the future behavior, set `pd.set_option('future.no_silent_downcasting', True)`\n",
      "  car_dataset.replace({\"Transmission\":{\"Manual\":0,\"Automatic\":1}},inplace=True)\n"
     ]
    }
   ],
   "source": [
    "# encoding \"Fuel_Type\" Column\n",
    "car_dataset.replace({'Fuel_Type':{'Petrol':0,'Diesel':1,'CNG':2}},inplace=True)\n",
    "# encoding \"Seller_Type\" Column\n",
    "car_dataset.replace({\"Seller_Type\":{\"Dealer\":0,\"Individual\":1}},inplace=True)\n",
    "# encoding \"Transmission\" Column\n",
    "car_dataset.replace({\"Transmission\":{\"Manual\":0,\"Automatic\":1}},inplace=True)"
   ]
  },
  {
   "cell_type": "code",
   "execution_count": 9,
   "id": "ae0940dd",
   "metadata": {
    "execution": {
     "iopub.execute_input": "2024-03-28T10:51:16.582547Z",
     "iopub.status.busy": "2024-03-28T10:51:16.582062Z",
     "iopub.status.idle": "2024-03-28T10:51:16.600373Z",
     "shell.execute_reply": "2024-03-28T10:51:16.597984Z"
    },
    "papermill": {
     "duration": 0.037597,
     "end_time": "2024-03-28T10:51:16.603070",
     "exception": false,
     "start_time": "2024-03-28T10:51:16.565473",
     "status": "completed"
    },
    "tags": []
   },
   "outputs": [
    {
     "data": {
      "text/html": [
       "<div>\n",
       "<style scoped>\n",
       "    .dataframe tbody tr th:only-of-type {\n",
       "        vertical-align: middle;\n",
       "    }\n",
       "\n",
       "    .dataframe tbody tr th {\n",
       "        vertical-align: top;\n",
       "    }\n",
       "\n",
       "    .dataframe thead th {\n",
       "        text-align: right;\n",
       "    }\n",
       "</style>\n",
       "<table border=\"1\" class=\"dataframe\">\n",
       "  <thead>\n",
       "    <tr style=\"text-align: right;\">\n",
       "      <th></th>\n",
       "      <th>Car_Name</th>\n",
       "      <th>Year</th>\n",
       "      <th>Selling_Price</th>\n",
       "      <th>Present_Price</th>\n",
       "      <th>Kms_Driven</th>\n",
       "      <th>Fuel_Type</th>\n",
       "      <th>Seller_Type</th>\n",
       "      <th>Transmission</th>\n",
       "      <th>Owner</th>\n",
       "    </tr>\n",
       "  </thead>\n",
       "  <tbody>\n",
       "    <tr>\n",
       "      <th>0</th>\n",
       "      <td>ritz</td>\n",
       "      <td>2014</td>\n",
       "      <td>3.35</td>\n",
       "      <td>5.59</td>\n",
       "      <td>27000</td>\n",
       "      <td>0</td>\n",
       "      <td>0</td>\n",
       "      <td>0</td>\n",
       "      <td>0</td>\n",
       "    </tr>\n",
       "    <tr>\n",
       "      <th>1</th>\n",
       "      <td>sx4</td>\n",
       "      <td>2013</td>\n",
       "      <td>4.75</td>\n",
       "      <td>9.54</td>\n",
       "      <td>43000</td>\n",
       "      <td>1</td>\n",
       "      <td>0</td>\n",
       "      <td>0</td>\n",
       "      <td>0</td>\n",
       "    </tr>\n",
       "    <tr>\n",
       "      <th>2</th>\n",
       "      <td>ciaz</td>\n",
       "      <td>2017</td>\n",
       "      <td>7.25</td>\n",
       "      <td>9.85</td>\n",
       "      <td>6900</td>\n",
       "      <td>0</td>\n",
       "      <td>0</td>\n",
       "      <td>0</td>\n",
       "      <td>0</td>\n",
       "    </tr>\n",
       "    <tr>\n",
       "      <th>3</th>\n",
       "      <td>wagon r</td>\n",
       "      <td>2011</td>\n",
       "      <td>2.85</td>\n",
       "      <td>4.15</td>\n",
       "      <td>5200</td>\n",
       "      <td>0</td>\n",
       "      <td>0</td>\n",
       "      <td>0</td>\n",
       "      <td>0</td>\n",
       "    </tr>\n",
       "    <tr>\n",
       "      <th>4</th>\n",
       "      <td>swift</td>\n",
       "      <td>2014</td>\n",
       "      <td>4.60</td>\n",
       "      <td>6.87</td>\n",
       "      <td>42450</td>\n",
       "      <td>1</td>\n",
       "      <td>0</td>\n",
       "      <td>0</td>\n",
       "      <td>0</td>\n",
       "    </tr>\n",
       "  </tbody>\n",
       "</table>\n",
       "</div>"
      ],
      "text/plain": [
       "  Car_Name  Year  Selling_Price  Present_Price  Kms_Driven  Fuel_Type  \\\n",
       "0     ritz  2014           3.35           5.59       27000          0   \n",
       "1      sx4  2013           4.75           9.54       43000          1   \n",
       "2     ciaz  2017           7.25           9.85        6900          0   \n",
       "3  wagon r  2011           2.85           4.15        5200          0   \n",
       "4    swift  2014           4.60           6.87       42450          1   \n",
       "\n",
       "   Seller_Type  Transmission  Owner  \n",
       "0            0             0      0  \n",
       "1            0             0      0  \n",
       "2            0             0      0  \n",
       "3            0             0      0  \n",
       "4            0             0      0  "
      ]
     },
     "execution_count": 9,
     "metadata": {},
     "output_type": "execute_result"
    }
   ],
   "source": [
    "car_dataset.head()"
   ]
  },
  {
   "cell_type": "markdown",
   "id": "0a67ee86",
   "metadata": {
    "papermill": {
     "duration": 0.014329,
     "end_time": "2024-03-28T10:51:16.632210",
     "exception": false,
     "start_time": "2024-03-28T10:51:16.617881",
     "status": "completed"
    },
    "tags": []
   },
   "source": [
    "# Splitting the data and Target"
   ]
  },
  {
   "cell_type": "code",
   "execution_count": 10,
   "id": "6978d283",
   "metadata": {
    "execution": {
     "iopub.execute_input": "2024-03-28T10:51:16.663183Z",
     "iopub.status.busy": "2024-03-28T10:51:16.662673Z",
     "iopub.status.idle": "2024-03-28T10:51:16.674256Z",
     "shell.execute_reply": "2024-03-28T10:51:16.672591Z"
    },
    "papermill": {
     "duration": 0.030499,
     "end_time": "2024-03-28T10:51:16.677131",
     "exception": false,
     "start_time": "2024-03-28T10:51:16.646632",
     "status": "completed"
    },
    "tags": []
   },
   "outputs": [],
   "source": [
    "X=car_dataset.drop(['Car_Name','Selling_Price'],axis=1)\n",
    "Y=car_dataset['Selling_Price']"
   ]
  },
  {
   "cell_type": "code",
   "execution_count": 11,
   "id": "3843f080",
   "metadata": {
    "execution": {
     "iopub.execute_input": "2024-03-28T10:51:16.708496Z",
     "iopub.status.busy": "2024-03-28T10:51:16.708043Z",
     "iopub.status.idle": "2024-03-28T10:51:16.717465Z",
     "shell.execute_reply": "2024-03-28T10:51:16.715470Z"
    },
    "papermill": {
     "duration": 0.028565,
     "end_time": "2024-03-28T10:51:16.720367",
     "exception": false,
     "start_time": "2024-03-28T10:51:16.691802",
     "status": "completed"
    },
    "tags": []
   },
   "outputs": [
    {
     "name": "stdout",
     "output_type": "stream",
     "text": [
      "0       3.35\n",
      "1       4.75\n",
      "2       7.25\n",
      "3       2.85\n",
      "4       4.60\n",
      "       ...  \n",
      "296     9.50\n",
      "297     4.00\n",
      "298     3.35\n",
      "299    11.50\n",
      "300     5.30\n",
      "Name: Selling_Price, Length: 301, dtype: float64\n"
     ]
    }
   ],
   "source": [
    "print(Y)"
   ]
  },
  {
   "cell_type": "code",
   "execution_count": 12,
   "id": "2d490c49",
   "metadata": {
    "execution": {
     "iopub.execute_input": "2024-03-28T10:51:16.752916Z",
     "iopub.status.busy": "2024-03-28T10:51:16.752320Z",
     "iopub.status.idle": "2024-03-28T10:51:16.767151Z",
     "shell.execute_reply": "2024-03-28T10:51:16.765384Z"
    },
    "papermill": {
     "duration": 0.036026,
     "end_time": "2024-03-28T10:51:16.770996",
     "exception": false,
     "start_time": "2024-03-28T10:51:16.734970",
     "status": "completed"
    },
    "tags": []
   },
   "outputs": [
    {
     "name": "stdout",
     "output_type": "stream",
     "text": [
      "     Year  Present_Price  Kms_Driven  Fuel_Type  Seller_Type  Transmission  \\\n",
      "0    2014           5.59       27000          0            0             0   \n",
      "1    2013           9.54       43000          1            0             0   \n",
      "2    2017           9.85        6900          0            0             0   \n",
      "3    2011           4.15        5200          0            0             0   \n",
      "4    2014           6.87       42450          1            0             0   \n",
      "..    ...            ...         ...        ...          ...           ...   \n",
      "296  2016          11.60       33988          1            0             0   \n",
      "297  2015           5.90       60000          0            0             0   \n",
      "298  2009          11.00       87934          0            0             0   \n",
      "299  2017          12.50        9000          1            0             0   \n",
      "300  2016           5.90        5464          0            0             0   \n",
      "\n",
      "     Owner  \n",
      "0        0  \n",
      "1        0  \n",
      "2        0  \n",
      "3        0  \n",
      "4        0  \n",
      "..     ...  \n",
      "296      0  \n",
      "297      0  \n",
      "298      0  \n",
      "299      0  \n",
      "300      0  \n",
      "\n",
      "[301 rows x 7 columns]\n"
     ]
    }
   ],
   "source": [
    "print(X)"
   ]
  },
  {
   "cell_type": "markdown",
   "id": "9dbe5816",
   "metadata": {
    "papermill": {
     "duration": 0.015386,
     "end_time": "2024-03-28T10:51:16.803377",
     "exception": false,
     "start_time": "2024-03-28T10:51:16.787991",
     "status": "completed"
    },
    "tags": []
   },
   "source": [
    "# Splitting Training and Test data"
   ]
  },
  {
   "cell_type": "markdown",
   "id": "8c929b15",
   "metadata": {
    "papermill": {
     "duration": 0.01488,
     "end_time": "2024-03-28T10:51:16.833940",
     "exception": false,
     "start_time": "2024-03-28T10:51:16.819060",
     "status": "completed"
    },
    "tags": []
   },
   "source": []
  },
  {
   "cell_type": "code",
   "execution_count": 13,
   "id": "7017437a",
   "metadata": {
    "execution": {
     "iopub.execute_input": "2024-03-28T10:51:16.866460Z",
     "iopub.status.busy": "2024-03-28T10:51:16.866023Z",
     "iopub.status.idle": "2024-03-28T10:51:16.877576Z",
     "shell.execute_reply": "2024-03-28T10:51:16.876222Z"
    },
    "papermill": {
     "duration": 0.031597,
     "end_time": "2024-03-28T10:51:16.880740",
     "exception": false,
     "start_time": "2024-03-28T10:51:16.849143",
     "status": "completed"
    },
    "tags": []
   },
   "outputs": [],
   "source": [
    "X_train,X_test,Y_train,Y_test=train_test_split(X,Y,test_size=0.1,random_state=2)"
   ]
  },
  {
   "cell_type": "markdown",
   "id": "e7acd46f",
   "metadata": {
    "papermill": {
     "duration": 0.014707,
     "end_time": "2024-03-28T10:51:16.910811",
     "exception": false,
     "start_time": "2024-03-28T10:51:16.896104",
     "status": "completed"
    },
    "tags": []
   },
   "source": [
    "# Model Training"
   ]
  },
  {
   "cell_type": "markdown",
   "id": "a7d6fb9c",
   "metadata": {
    "papermill": {
     "duration": 0.01732,
     "end_time": "2024-03-28T10:51:16.942984",
     "exception": false,
     "start_time": "2024-03-28T10:51:16.925664",
     "status": "completed"
    },
    "tags": []
   },
   "source": [
    "**1 . **Linear Regression****"
   ]
  },
  {
   "cell_type": "markdown",
   "id": "9e271377",
   "metadata": {
    "papermill": {
     "duration": 0.014664,
     "end_time": "2024-03-28T10:51:16.973972",
     "exception": false,
     "start_time": "2024-03-28T10:51:16.959308",
     "status": "completed"
    },
    "tags": []
   },
   "source": []
  },
  {
   "cell_type": "code",
   "execution_count": 14,
   "id": "8c158dcd",
   "metadata": {
    "execution": {
     "iopub.execute_input": "2024-03-28T10:51:17.006273Z",
     "iopub.status.busy": "2024-03-28T10:51:17.005846Z",
     "iopub.status.idle": "2024-03-28T10:51:17.011994Z",
     "shell.execute_reply": "2024-03-28T10:51:17.010649Z"
    },
    "papermill": {
     "duration": 0.026781,
     "end_time": "2024-03-28T10:51:17.015611",
     "exception": false,
     "start_time": "2024-03-28T10:51:16.988830",
     "status": "completed"
    },
    "tags": []
   },
   "outputs": [],
   "source": [
    "# loading the linear regression model\n",
    "lin_reg_model=LinearRegression()"
   ]
  },
  {
   "cell_type": "code",
   "execution_count": 15,
   "id": "cdfc964c",
   "metadata": {
    "execution": {
     "iopub.execute_input": "2024-03-28T10:51:17.051635Z",
     "iopub.status.busy": "2024-03-28T10:51:17.050342Z",
     "iopub.status.idle": "2024-03-28T10:51:17.088612Z",
     "shell.execute_reply": "2024-03-28T10:51:17.087043Z"
    },
    "papermill": {
     "duration": 0.060502,
     "end_time": "2024-03-28T10:51:17.091665",
     "exception": false,
     "start_time": "2024-03-28T10:51:17.031163",
     "status": "completed"
    },
    "tags": []
   },
   "outputs": [
    {
     "data": {
      "text/html": [
       "<style>#sk-container-id-1 {color: black;background-color: white;}#sk-container-id-1 pre{padding: 0;}#sk-container-id-1 div.sk-toggleable {background-color: white;}#sk-container-id-1 label.sk-toggleable__label {cursor: pointer;display: block;width: 100%;margin-bottom: 0;padding: 0.3em;box-sizing: border-box;text-align: center;}#sk-container-id-1 label.sk-toggleable__label-arrow:before {content: \"▸\";float: left;margin-right: 0.25em;color: #696969;}#sk-container-id-1 label.sk-toggleable__label-arrow:hover:before {color: black;}#sk-container-id-1 div.sk-estimator:hover label.sk-toggleable__label-arrow:before {color: black;}#sk-container-id-1 div.sk-toggleable__content {max-height: 0;max-width: 0;overflow: hidden;text-align: left;background-color: #f0f8ff;}#sk-container-id-1 div.sk-toggleable__content pre {margin: 0.2em;color: black;border-radius: 0.25em;background-color: #f0f8ff;}#sk-container-id-1 input.sk-toggleable__control:checked~div.sk-toggleable__content {max-height: 200px;max-width: 100%;overflow: auto;}#sk-container-id-1 input.sk-toggleable__control:checked~label.sk-toggleable__label-arrow:before {content: \"▾\";}#sk-container-id-1 div.sk-estimator input.sk-toggleable__control:checked~label.sk-toggleable__label {background-color: #d4ebff;}#sk-container-id-1 div.sk-label input.sk-toggleable__control:checked~label.sk-toggleable__label {background-color: #d4ebff;}#sk-container-id-1 input.sk-hidden--visually {border: 0;clip: rect(1px 1px 1px 1px);clip: rect(1px, 1px, 1px, 1px);height: 1px;margin: -1px;overflow: hidden;padding: 0;position: absolute;width: 1px;}#sk-container-id-1 div.sk-estimator {font-family: monospace;background-color: #f0f8ff;border: 1px dotted black;border-radius: 0.25em;box-sizing: border-box;margin-bottom: 0.5em;}#sk-container-id-1 div.sk-estimator:hover {background-color: #d4ebff;}#sk-container-id-1 div.sk-parallel-item::after {content: \"\";width: 100%;border-bottom: 1px solid gray;flex-grow: 1;}#sk-container-id-1 div.sk-label:hover label.sk-toggleable__label {background-color: #d4ebff;}#sk-container-id-1 div.sk-serial::before {content: \"\";position: absolute;border-left: 1px solid gray;box-sizing: border-box;top: 0;bottom: 0;left: 50%;z-index: 0;}#sk-container-id-1 div.sk-serial {display: flex;flex-direction: column;align-items: center;background-color: white;padding-right: 0.2em;padding-left: 0.2em;position: relative;}#sk-container-id-1 div.sk-item {position: relative;z-index: 1;}#sk-container-id-1 div.sk-parallel {display: flex;align-items: stretch;justify-content: center;background-color: white;position: relative;}#sk-container-id-1 div.sk-item::before, #sk-container-id-1 div.sk-parallel-item::before {content: \"\";position: absolute;border-left: 1px solid gray;box-sizing: border-box;top: 0;bottom: 0;left: 50%;z-index: -1;}#sk-container-id-1 div.sk-parallel-item {display: flex;flex-direction: column;z-index: 1;position: relative;background-color: white;}#sk-container-id-1 div.sk-parallel-item:first-child::after {align-self: flex-end;width: 50%;}#sk-container-id-1 div.sk-parallel-item:last-child::after {align-self: flex-start;width: 50%;}#sk-container-id-1 div.sk-parallel-item:only-child::after {width: 0;}#sk-container-id-1 div.sk-dashed-wrapped {border: 1px dashed gray;margin: 0 0.4em 0.5em 0.4em;box-sizing: border-box;padding-bottom: 0.4em;background-color: white;}#sk-container-id-1 div.sk-label label {font-family: monospace;font-weight: bold;display: inline-block;line-height: 1.2em;}#sk-container-id-1 div.sk-label-container {text-align: center;}#sk-container-id-1 div.sk-container {/* jupyter's `normalize.less` sets `[hidden] { display: none; }` but bootstrap.min.css set `[hidden] { display: none !important; }` so we also need the `!important` here to be able to override the default hidden behavior on the sphinx rendered scikit-learn.org. See: https://github.com/scikit-learn/scikit-learn/issues/21755 */display: inline-block !important;position: relative;}#sk-container-id-1 div.sk-text-repr-fallback {display: none;}</style><div id=\"sk-container-id-1\" class=\"sk-top-container\"><div class=\"sk-text-repr-fallback\"><pre>LinearRegression()</pre><b>In a Jupyter environment, please rerun this cell to show the HTML representation or trust the notebook. <br />On GitHub, the HTML representation is unable to render, please try loading this page with nbviewer.org.</b></div><div class=\"sk-container\" hidden><div class=\"sk-item\"><div class=\"sk-estimator sk-toggleable\"><input class=\"sk-toggleable__control sk-hidden--visually\" id=\"sk-estimator-id-1\" type=\"checkbox\" checked><label for=\"sk-estimator-id-1\" class=\"sk-toggleable__label sk-toggleable__label-arrow\">LinearRegression</label><div class=\"sk-toggleable__content\"><pre>LinearRegression()</pre></div></div></div></div></div>"
      ],
      "text/plain": [
       "LinearRegression()"
      ]
     },
     "execution_count": 15,
     "metadata": {},
     "output_type": "execute_result"
    }
   ],
   "source": [
    "lin_reg_model.fit(X_train,Y_train)"
   ]
  },
  {
   "cell_type": "markdown",
   "id": "66c3ac9a",
   "metadata": {
    "papermill": {
     "duration": 0.015657,
     "end_time": "2024-03-28T10:51:17.123337",
     "exception": false,
     "start_time": "2024-03-28T10:51:17.107680",
     "status": "completed"
    },
    "tags": []
   },
   "source": [
    "**Model Evaluation**"
   ]
  },
  {
   "cell_type": "code",
   "execution_count": 16,
   "id": "5205a013",
   "metadata": {
    "execution": {
     "iopub.execute_input": "2024-03-28T10:51:17.157412Z",
     "iopub.status.busy": "2024-03-28T10:51:17.156973Z",
     "iopub.status.idle": "2024-03-28T10:51:17.166544Z",
     "shell.execute_reply": "2024-03-28T10:51:17.165122Z"
    },
    "papermill": {
     "duration": 0.030096,
     "end_time": "2024-03-28T10:51:17.169872",
     "exception": false,
     "start_time": "2024-03-28T10:51:17.139776",
     "status": "completed"
    },
    "tags": []
   },
   "outputs": [],
   "source": [
    "# prediction on Training data\n",
    "train_data_prediction=lin_reg_model.predict(X_train)"
   ]
  },
  {
   "cell_type": "code",
   "execution_count": 17,
   "id": "02ba9858",
   "metadata": {
    "execution": {
     "iopub.execute_input": "2024-03-28T10:51:17.207515Z",
     "iopub.status.busy": "2024-03-28T10:51:17.207022Z",
     "iopub.status.idle": "2024-03-28T10:51:17.220592Z",
     "shell.execute_reply": "2024-03-28T10:51:17.217786Z"
    },
    "papermill": {
     "duration": 0.039086,
     "end_time": "2024-03-28T10:51:17.224867",
     "exception": false,
     "start_time": "2024-03-28T10:51:17.185781",
     "status": "completed"
    },
    "tags": []
   },
   "outputs": [
    {
     "name": "stdout",
     "output_type": "stream",
     "text": [
      "R squared error :  0.8799451660493711\n"
     ]
    }
   ],
   "source": [
    "# R squared Error\n",
    "error_score=metrics.r2_score(Y_train,train_data_prediction)\n",
    "print(\"R squared error : \",error_score)"
   ]
  },
  {
   "cell_type": "markdown",
   "id": "4b947332",
   "metadata": {
    "papermill": {
     "duration": 0.020891,
     "end_time": "2024-03-28T10:51:17.264721",
     "exception": false,
     "start_time": "2024-03-28T10:51:17.243830",
     "status": "completed"
    },
    "tags": []
   },
   "source": [
    "**Visualize the actual prices and Predicted prices**"
   ]
  },
  {
   "cell_type": "code",
   "execution_count": 18,
   "id": "04aaa62a",
   "metadata": {
    "execution": {
     "iopub.execute_input": "2024-03-28T10:51:17.298052Z",
     "iopub.status.busy": "2024-03-28T10:51:17.297583Z",
     "iopub.status.idle": "2024-03-28T10:51:17.679374Z",
     "shell.execute_reply": "2024-03-28T10:51:17.677918Z"
    },
    "papermill": {
     "duration": 0.402008,
     "end_time": "2024-03-28T10:51:17.682454",
     "exception": false,
     "start_time": "2024-03-28T10:51:17.280446",
     "status": "completed"
    },
    "tags": []
   },
   "outputs": [
    {
     "data": {
      "image/png": "[encoded data removed]",
      "text/plain": [
       "<Figure size 640x480 with 1 Axes>"
      ]
     },
     "metadata": {},
     "output_type": "display_data"
    }
   ],
   "source": [
    "plt.scatter(Y_train,train_data_prediction)\n",
    "plt.xlabel(\"Actual prices\")\n",
    "plt.ylabel(\"Predicted price\")\n",
    "plt.title(\"Actual prices Vs Predicted Prices\")\n",
    "plt.show()"
   ]
  },
  {
   "cell_type": "code",
   "execution_count": 19,
   "id": "33c2ddaa",
   "metadata": {
    "execution": {
     "iopub.execute_input": "2024-03-28T10:51:17.717697Z",
     "iopub.status.busy": "2024-03-28T10:51:17.717048Z",
     "iopub.status.idle": "2024-03-28T10:51:17.725223Z",
     "shell.execute_reply": "2024-03-28T10:51:17.724135Z"
    },
    "papermill": {
     "duration": 0.028802,
     "end_time": "2024-03-28T10:51:17.727691",
     "exception": false,
     "start_time": "2024-03-28T10:51:17.698889",
     "status": "completed"
    },
    "tags": []
   },
   "outputs": [],
   "source": [
    "# prediction on Testing data\n",
    "test_data_prediction=lin_reg_model.predict(X_test)"
   ]
  },
  {
   "cell_type": "code",
   "execution_count": 20,
   "id": "3894f4c3",
   "metadata": {
    "execution": {
     "iopub.execute_input": "2024-03-28T10:51:17.766629Z",
     "iopub.status.busy": "2024-03-28T10:51:17.765082Z",
     "iopub.status.idle": "2024-03-28T10:51:17.773442Z",
     "shell.execute_reply": "2024-03-28T10:51:17.772252Z"
    },
    "papermill": {
     "duration": 0.035244,
     "end_time": "2024-03-28T10:51:17.781306",
     "exception": false,
     "start_time": "2024-03-28T10:51:17.746062",
     "status": "completed"
    },
    "tags": []
   },
   "outputs": [
    {
     "name": "stdout",
     "output_type": "stream",
     "text": [
      "R squared error :  0.8365766715027051\n"
     ]
    }
   ],
   "source": [
    "# R squared Error\n",
    "error_score=metrics.r2_score(Y_test,test_data_prediction)\n",
    "print(\"R squared error : \",error_score)"
   ]
  },
  {
   "cell_type": "code",
   "execution_count": 21,
   "id": "7c79f074",
   "metadata": {
    "execution": {
     "iopub.execute_input": "2024-03-28T10:51:17.817341Z",
     "iopub.status.busy": "2024-03-28T10:51:17.816534Z",
     "iopub.status.idle": "2024-03-28T10:51:18.124831Z",
     "shell.execute_reply": "2024-03-28T10:51:18.123505Z"
    },
    "papermill": {
     "duration": 0.329493,
     "end_time": "2024-03-28T10:51:18.128193",
     "exception": false,
     "start_time": "2024-03-28T10:51:17.798700",
     "status": "completed"
    },
    "tags": []
   },
   "outputs": [
    {
     "data": {
      "image/png": "[encoded data removed]",
      "text/plain": [
       "<Figure size 640x480 with 1 Axes>"
      ]
     },
     "metadata": {},
     "output_type": "display_data"
    }
   ],
   "source": [
    "plt.scatter(Y_test,test_data_prediction)\n",
    "plt.xlabel(\"Actual prices\")\n",
    "plt.ylabel(\"Predicted price\")\n",
    "plt.title(\"Actual prices Vs Predicted Prices\")\n",
    "plt.show()"
   ]
  },
  {
   "cell_type": "markdown",
   "id": "744ac30d",
   "metadata": {
    "papermill": {
     "duration": 0.016558,
     "end_time": "2024-03-28T10:51:18.162267",
     "exception": false,
     "start_time": "2024-03-28T10:51:18.145709",
     "status": "completed"
    },
    "tags": []
   },
   "source": [
    "**2. Lasso Regression**"
   ]
  },
  {
   "cell_type": "markdown",
   "id": "df1068c0",
   "metadata": {
    "papermill": {
     "duration": 0.016239,
     "end_time": "2024-03-28T10:51:18.196248",
     "exception": false,
     "start_time": "2024-03-28T10:51:18.180009",
     "status": "completed"
    },
    "tags": []
   },
   "source": []
  },
  {
   "cell_type": "code",
   "execution_count": 22,
   "id": "8a598613",
   "metadata": {
    "execution": {
     "iopub.execute_input": "2024-03-28T10:51:18.331048Z",
     "iopub.status.busy": "2024-03-28T10:51:18.330576Z",
     "iopub.status.idle": "2024-03-28T10:51:18.336351Z",
     "shell.execute_reply": "2024-03-28T10:51:18.334902Z"
    },
    "papermill": {
     "duration": 0.028496,
     "end_time": "2024-03-28T10:51:18.339375",
     "exception": false,
     "start_time": "2024-03-28T10:51:18.310879",
     "status": "completed"
    },
    "tags": []
   },
   "outputs": [],
   "source": [
    "# loading the linear regression model\n",
    "lass_reg_model=Lasso()"
   ]
  },
  {
   "cell_type": "code",
   "execution_count": 23,
   "id": "46c01929",
   "metadata": {
    "execution": {
     "iopub.execute_input": "2024-03-28T10:51:18.379792Z",
     "iopub.status.busy": "2024-03-28T10:51:18.379318Z",
     "iopub.status.idle": "2024-03-28T10:51:18.398179Z",
     "shell.execute_reply": "2024-03-28T10:51:18.396949Z"
    },
    "papermill": {
     "duration": 0.042656,
     "end_time": "2024-03-28T10:51:18.401193",
     "exception": false,
     "start_time": "2024-03-28T10:51:18.358537",
     "status": "completed"
    },
    "tags": []
   },
   "outputs": [
    {
     "data": {
      "text/html": [
       "<style>#sk-container-id-2 {color: black;background-color: white;}#sk-container-id-2 pre{padding: 0;}#sk-container-id-2 div.sk-toggleable {background-color: white;}#sk-container-id-2 label.sk-toggleable__label {cursor: pointer;display: block;width: 100%;margin-bottom: 0;padding: 0.3em;box-sizing: border-box;text-align: center;}#sk-container-id-2 label.sk-toggleable__label-arrow:before {content: \"▸\";float: left;margin-right: 0.25em;color: #696969;}#sk-container-id-2 label.sk-toggleable__label-arrow:hover:before {color: black;}#sk-container-id-2 div.sk-estimator:hover label.sk-toggleable__label-arrow:before {color: black;}#sk-container-id-2 div.sk-toggleable__content {max-height: 0;max-width: 0;overflow: hidden;text-align: left;background-color: #f0f8ff;}#sk-container-id-2 div.sk-toggleable__content pre {margin: 0.2em;color: black;border-radius: 0.25em;background-color: #f0f8ff;}#sk-container-id-2 input.sk-toggleable__control:checked~div.sk-toggleable__content {max-height: 200px;max-width: 100%;overflow: auto;}#sk-container-id-2 input.sk-toggleable__control:checked~label.sk-toggleable__label-arrow:before {content: \"▾\";}#sk-container-id-2 div.sk-estimator input.sk-toggleable__control:checked~label.sk-toggleable__label {background-color: #d4ebff;}#sk-container-id-2 div.sk-label input.sk-toggleable__control:checked~label.sk-toggleable__label {background-color: #d4ebff;}#sk-container-id-2 input.sk-hidden--visually {border: 0;clip: rect(1px 1px 1px 1px);clip: rect(1px, 1px, 1px, 1px);height: 1px;margin: -1px;overflow: hidden;padding: 0;position: absolute;width: 1px;}#sk-container-id-2 div.sk-estimator {font-family: monospace;background-color: #f0f8ff;border: 1px dotted black;border-radius: 0.25em;box-sizing: border-box;margin-bottom: 0.5em;}#sk-container-id-2 div.sk-estimator:hover {background-color: #d4ebff;}#sk-container-id-2 div.sk-parallel-item::after {content: \"\";width: 100%;border-bottom: 1px solid gray;flex-grow: 1;}#sk-container-id-2 div.sk-label:hover label.sk-toggleable__label {background-color: #d4ebff;}#sk-container-id-2 div.sk-serial::before {content: \"\";position: absolute;border-left: 1px solid gray;box-sizing: border-box;top: 0;bottom: 0;left: 50%;z-index: 0;}#sk-container-id-2 div.sk-serial {display: flex;flex-direction: column;align-items: center;background-color: white;padding-right: 0.2em;padding-left: 0.2em;position: relative;}#sk-container-id-2 div.sk-item {position: relative;z-index: 1;}#sk-container-id-2 div.sk-parallel {display: flex;align-items: stretch;justify-content: center;background-color: white;position: relative;}#sk-container-id-2 div.sk-item::before, #sk-container-id-2 div.sk-parallel-item::before {content: \"\";position: absolute;border-left: 1px solid gray;box-sizing: border-box;top: 0;bottom: 0;left: 50%;z-index: -1;}#sk-container-id-2 div.sk-parallel-item {display: flex;flex-direction: column;z-index: 1;position: relative;background-color: white;}#sk-container-id-2 div.sk-parallel-item:first-child::after {align-self: flex-end;width: 50%;}#sk-container-id-2 div.sk-parallel-item:last-child::after {align-self: flex-start;width: 50%;}#sk-container-id-2 div.sk-parallel-item:only-child::after {width: 0;}#sk-container-id-2 div.sk-dashed-wrapped {border: 1px dashed gray;margin: 0 0.4em 0.5em 0.4em;box-sizing: border-box;padding-bottom: 0.4em;background-color: white;}#sk-container-id-2 div.sk-label label {font-family: monospace;font-weight: bold;display: inline-block;line-height: 1.2em;}#sk-container-id-2 div.sk-label-container {text-align: center;}#sk-container-id-2 div.sk-container {/* jupyter's `normalize.less` sets `[hidden] { display: none; }` but bootstrap.min.css set `[hidden] { display: none !important; }` so we also need the `!important` here to be able to override the default hidden behavior on the sphinx rendered scikit-learn.org. See: https://github.com/scikit-learn/scikit-learn/issues/21755 */display: inline-block !important;position: relative;}#sk-container-id-2 div.sk-text-repr-fallback {display: none;}</style><div id=\"sk-container-id-2\" class=\"sk-top-container\"><div class=\"sk-text-repr-fallback\"><pre>Lasso()</pre><b>In a Jupyter environment, please rerun this cell to show the HTML representation or trust the notebook. <br />On GitHub, the HTML representation is unable to render, please try loading this page with nbviewer.org.</b></div><div class=\"sk-container\" hidden><div class=\"sk-item\"><div class=\"sk-estimator sk-toggleable\"><input class=\"sk-toggleable__control sk-hidden--visually\" id=\"sk-estimator-id-2\" type=\"checkbox\" checked><label for=\"sk-estimator-id-2\" class=\"sk-toggleable__label sk-toggleable__label-arrow\">Lasso</label><div class=\"sk-toggleable__content\"><pre>Lasso()</pre></div></div></div></div></div>"
      ],
      "text/plain": [
       "Lasso()"
      ]
     },
     "execution_count": 23,
     "metadata": {},
     "output_type": "execute_result"
    }
   ],
   "source": [
    "lass_reg_model.fit(X_train,Y_train)"
   ]
  },
  {
   "cell_type": "markdown",
   "id": "caa4734c",
   "metadata": {
    "papermill": {
     "duration": 0.017313,
     "end_time": "2024-03-28T10:51:18.436622",
     "exception": false,
     "start_time": "2024-03-28T10:51:18.419309",
     "status": "completed"
    },
    "tags": []
   },
   "source": [
    "**Model Evaluation**"
   ]
  },
  {
   "cell_type": "markdown",
   "id": "5394ba86",
   "metadata": {
    "papermill": {
     "duration": 0.016787,
     "end_time": "2024-03-28T10:51:18.470862",
     "exception": false,
     "start_time": "2024-03-28T10:51:18.454075",
     "status": "completed"
    },
    "tags": []
   },
   "source": []
  },
  {
   "cell_type": "code",
   "execution_count": 24,
   "id": "b1c4c273",
   "metadata": {
    "execution": {
     "iopub.execute_input": "2024-03-28T10:51:18.508253Z",
     "iopub.status.busy": "2024-03-28T10:51:18.507785Z",
     "iopub.status.idle": "2024-03-28T10:51:18.516428Z",
     "shell.execute_reply": "2024-03-28T10:51:18.515087Z"
    },
    "papermill": {
     "duration": 0.03054,
     "end_time": "2024-03-28T10:51:18.519056",
     "exception": false,
     "start_time": "2024-03-28T10:51:18.488516",
     "status": "completed"
    },
    "tags": []
   },
   "outputs": [],
   "source": [
    "# prediction on Training data\n",
    "train_data_prediction=lass_reg_model.predict(X_train)"
   ]
  },
  {
   "cell_type": "code",
   "execution_count": 25,
   "id": "b75a2dff",
   "metadata": {
    "execution": {
     "iopub.execute_input": "2024-03-28T10:51:18.556476Z",
     "iopub.status.busy": "2024-03-28T10:51:18.554657Z",
     "iopub.status.idle": "2024-03-28T10:51:18.565118Z",
     "shell.execute_reply": "2024-03-28T10:51:18.563083Z"
    },
    "papermill": {
     "duration": 0.031893,
     "end_time": "2024-03-28T10:51:18.567964",
     "exception": false,
     "start_time": "2024-03-28T10:51:18.536071",
     "status": "completed"
    },
    "tags": []
   },
   "outputs": [
    {
     "name": "stdout",
     "output_type": "stream",
     "text": [
      "R squared error :  0.8427856123435794\n"
     ]
    }
   ],
   "source": [
    "# R squared Error\n",
    "error_score=metrics.r2_score(Y_train,train_data_prediction)\n",
    "print(\"R squared error : \",error_score)"
   ]
  },
  {
   "cell_type": "markdown",
   "id": "b4537798",
   "metadata": {
    "papermill": {
     "duration": 0.017929,
     "end_time": "2024-03-28T10:51:18.603078",
     "exception": false,
     "start_time": "2024-03-28T10:51:18.585149",
     "status": "completed"
    },
    "tags": []
   },
   "source": [
    "**Visualize the actual prices and Predicted prices**"
   ]
  },
  {
   "cell_type": "code",
   "execution_count": 26,
   "id": "5bce2e30",
   "metadata": {
    "execution": {
     "iopub.execute_input": "2024-03-28T10:51:18.640299Z",
     "iopub.status.busy": "2024-03-28T10:51:18.639479Z",
     "iopub.status.idle": "2024-03-28T10:51:18.944473Z",
     "shell.execute_reply": "2024-03-28T10:51:18.942838Z"
    },
    "papermill": {
     "duration": 0.327514,
     "end_time": "2024-03-28T10:51:18.947563",
     "exception": false,
     "start_time": "2024-03-28T10:51:18.620049",
     "status": "completed"
    },
    "tags": []
   },
   "outputs": [
    {
     "data": {
      "image/png": "[encoded data removed]",
      "text/plain": [
       "<Figure size 640x480 with 1 Axes>"
      ]
     },
     "metadata": {},
     "output_type": "display_data"
    }
   ],
   "source": [
    "plt.scatter(Y_train,train_data_prediction)\n",
    "plt.xlabel(\"Actual prices\")\n",
    "plt.ylabel(\"Predicted price\")\n",
    "plt.title(\"Actual prices Vs Predicted Prices\")\n",
    "plt.show()"
   ]
  },
  {
   "cell_type": "code",
   "execution_count": 27,
   "id": "873b53ae",
   "metadata": {
    "execution": {
     "iopub.execute_input": "2024-03-28T10:51:18.985019Z",
     "iopub.status.busy": "2024-03-28T10:51:18.984473Z",
     "iopub.status.idle": "2024-03-28T10:51:18.992602Z",
     "shell.execute_reply": "2024-03-28T10:51:18.991267Z"
    },
    "papermill": {
     "duration": 0.030319,
     "end_time": "2024-03-28T10:51:18.995421",
     "exception": false,
     "start_time": "2024-03-28T10:51:18.965102",
     "status": "completed"
    },
    "tags": []
   },
   "outputs": [],
   "source": [
    "# prediction on Testing data\n",
    "test_data_prediction=lass_reg_model.predict(X_test)"
   ]
  },
  {
   "cell_type": "code",
   "execution_count": 28,
   "id": "1efd547b",
   "metadata": {
    "execution": {
     "iopub.execute_input": "2024-03-28T10:51:19.036492Z",
     "iopub.status.busy": "2024-03-28T10:51:19.034590Z",
     "iopub.status.idle": "2024-03-28T10:51:19.042548Z",
     "shell.execute_reply": "2024-03-28T10:51:19.041627Z"
    },
    "papermill": {
     "duration": 0.030589,
     "end_time": "2024-03-28T10:51:19.045006",
     "exception": false,
     "start_time": "2024-03-28T10:51:19.014417",
     "status": "completed"
    },
    "tags": []
   },
   "outputs": [
    {
     "name": "stdout",
     "output_type": "stream",
     "text": [
      "R squared error :  0.8709167941173195\n"
     ]
    }
   ],
   "source": [
    "# R squared Error\n",
    "error_score=metrics.r2_score(Y_test,test_data_prediction)\n",
    "print(\"R squared error : \",error_score)"
   ]
  },
  {
   "cell_type": "code",
   "execution_count": 29,
   "id": "e062d5c6",
   "metadata": {
    "execution": {
     "iopub.execute_input": "2024-03-28T10:51:19.083816Z",
     "iopub.status.busy": "2024-03-28T10:51:19.082233Z",
     "iopub.status.idle": "2024-03-28T10:51:19.397794Z",
     "shell.execute_reply": "2024-03-28T10:51:19.396471Z"
    },
    "papermill": {
     "duration": 0.337631,
     "end_time": "2024-03-28T10:51:19.400636",
     "exception": false,
     "start_time": "2024-03-28T10:51:19.063005",
     "status": "completed"
    },
    "tags": []
   },
   "outputs": [
    {
     "data": {
      "image/png": "[encoded data removed]",
      "text/plain": [
       "<Figure size 640x480 with 1 Axes>"
      ]
     },
     "metadata": {},
     "output_type": "display_data"
    }
   ],
   "source": [
    "plt.scatter(Y_test,test_data_prediction)\n",
    "plt.xlabel(\"Actual prices\")\n",
    "plt.ylabel(\"Predicted price\")\n",
    "plt.title(\"Actual prices Vs Predicted Prices\")\n",
    "plt.show()"
   ]
  },
  {
   "cell_type": "code",
   "execution_count": null,
   "id": "dd7fe7db",
   "metadata": {
    "papermill": {
     "duration": 0.018829,
     "end_time": "2024-03-28T10:51:19.437691",
     "exception": false,
     "start_time": "2024-03-28T10:51:19.418862",
     "status": "completed"
    },
    "tags": []
   },
   "outputs": [],
   "source": []
  }
 ],
 "metadata": {
  "kaggle": {
   "accelerator": "none",
   "dataSources": [
    {
     "datasetId": 33080,
     "sourceId": 4852390,
     "sourceType": "datasetVersion"
    }
   ],
   "dockerImageVersionId": 30673,
   "isGpuEnabled": false,
   "isInternetEnabled": false,
   "language": "python",
   "sourceType": "notebook"
  },
  "kernelspec": {
   "display_name": "Python 3",
   "language": "python",
   "name": "python3"
  },
  "language_info": {
   "codemirror_mode": {
    "name": "ipython",
    "version": 3
   },
   "file_extension": ".py",
   "mimetype": "text/x-python",
   "name": "python",
   "nbconvert_exporter": "python",
   "pygments_lexer": "ipython3",
   "version": "3.10.13"
  },
  "papermill": {
   "default_parameters": {},
   "duration": 10.99321,
   "end_time": "2024-03-28T10:51:20.284562",
   "environment_variables": {},
   "exception": null,
   "input_path": "__notebook__.ipynb",
   "output_path": "__notebook__.ipynb",
   "parameters": {},
   "start_time": "2024-03-28T10:51:09.291352",
   "version": "2.5.0"
  }
 },
 "nbformat": 4,
 "nbformat_minor": 5
}
