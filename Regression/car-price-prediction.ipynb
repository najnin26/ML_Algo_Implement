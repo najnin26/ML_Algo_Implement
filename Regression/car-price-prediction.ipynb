{
 "cells": [
  {
   "cell_type": "code",
   "execution_count": 1,
   "id": "c16d4be4",
   "metadata": {
    "_cell_guid": "b1076dfc-b9ad-4769-8c92-a6c4dae69d19",
    "_uuid": "8f2839f25d086af736a60e9eeb907d3b93b6e0e5",
    "execution": {
     "iopub.execute_input": "2024-03-27T15:39:09.419091Z",
     "iopub.status.busy": "2024-03-27T15:39:09.417897Z",
     "iopub.status.idle": "2024-03-27T15:39:12.653110Z",
     "shell.execute_reply": "2024-03-27T15:39:12.651941Z"
    },
    "papermill": {
     "duration": 3.245055,
     "end_time": "2024-03-27T15:39:12.656302",
     "exception": false,
     "start_time": "2024-03-27T15:39:09.411247",
     "status": "completed"
    },
    "tags": []
   },
   "outputs": [],
   "source": [
    "import pandas as pd\n",
    "import matplotlib.pyplot as plt\n",
    "import seaborn as sns\n",
    "from sklearn.model_selection  import  train_test_split\n",
    "from sklearn.linear_model import LinearRegression\n",
    "from sklearn.linear_model import Lasso\n",
    "from sklearn import metrics"
   ]
  },
  {
   "cell_type": "markdown",
   "id": "2e237738",
   "metadata": {
    "papermill": {
     "duration": 0.004116,
     "end_time": "2024-03-27T15:39:12.665254",
     "exception": false,
     "start_time": "2024-03-27T15:39:12.661138",
     "status": "completed"
    },
    "tags": []
   },
   "source": [
    "# Data Collection and Processing"
   ]
  },
  {
   "cell_type": "code",
   "execution_count": 2,
   "id": "3121d40c",
   "metadata": {
    "execution": {
     "iopub.execute_input": "2024-03-27T15:39:12.676198Z",
     "iopub.status.busy": "2024-03-27T15:39:12.675372Z",
     "iopub.status.idle": "2024-03-27T15:39:12.702740Z",
     "shell.execute_reply": "2024-03-27T15:39:12.701322Z"
    },
    "papermill": {
     "duration": 0.035989,
     "end_time": "2024-03-27T15:39:12.705538",
     "exception": false,
     "start_time": "2024-03-27T15:39:12.669549",
     "status": "completed"
    },
    "tags": []
   },
   "outputs": [],
   "source": [
    "# loading the data from csv file to pandas dataframe\n",
    "car_dataset=pd.read_csv('/kaggle/input/vehicle-dataset-from-cardekho/car data.csv')"
   ]
  },
  {
   "cell_type": "markdown",
   "id": "09df5ef2",
   "metadata": {
    "papermill": {
     "duration": 0.003959,
     "end_time": "2024-03-27T15:39:12.714029",
     "exception": false,
     "start_time": "2024-03-27T15:39:12.710070",
     "status": "completed"
    },
    "tags": []
   },
   "source": []
  },
  {
   "cell_type": "code",
   "execution_count": 3,
   "id": "24ad1402",
   "metadata": {
    "execution": {
     "iopub.execute_input": "2024-03-27T15:39:12.725033Z",
     "iopub.status.busy": "2024-03-27T15:39:12.724572Z",
     "iopub.status.idle": "2024-03-27T15:39:12.751644Z",
     "shell.execute_reply": "2024-03-27T15:39:12.750464Z"
    },
    "papermill": {
     "duration": 0.03534,
     "end_time": "2024-03-27T15:39:12.754078",
     "exception": false,
     "start_time": "2024-03-27T15:39:12.718738",
     "status": "completed"
    },
    "tags": []
   },
   "outputs": [
    {
     "data": {
      "text/html": [
       "<div>\n",
       "<style scoped>\n",
       "    .dataframe tbody tr th:only-of-type {\n",
       "        vertical-align: middle;\n",
       "    }\n",
       "\n",
       "    .dataframe tbody tr th {\n",
       "        vertical-align: top;\n",
       "    }\n",
       "\n",
       "    .dataframe thead th {\n",
       "        text-align: right;\n",
       "    }\n",
       "</style>\n",
       "<table border=\"1\" class=\"dataframe\">\n",
       "  <thead>\n",
       "    <tr style=\"text-align: right;\">\n",
       "      <th></th>\n",
       "      <th>Car_Name</th>\n",
       "      <th>Year</th>\n",
       "      <th>Selling_Price</th>\n",
       "      <th>Present_Price</th>\n",
       "      <th>Kms_Driven</th>\n",
       "      <th>Fuel_Type</th>\n",
       "      <th>Seller_Type</th>\n",
       "      <th>Transmission</th>\n",
       "      <th>Owner</th>\n",
       "    </tr>\n",
       "  </thead>\n",
       "  <tbody>\n",
       "    <tr>\n",
       "      <th>0</th>\n",
       "      <td>ritz</td>\n",
       "      <td>2014</td>\n",
       "      <td>3.35</td>\n",
       "      <td>5.59</td>\n",
       "      <td>27000</td>\n",
       "      <td>Petrol</td>\n",
       "      <td>Dealer</td>\n",
       "      <td>Manual</td>\n",
       "      <td>0</td>\n",
       "    </tr>\n",
       "    <tr>\n",
       "      <th>1</th>\n",
       "      <td>sx4</td>\n",
       "      <td>2013</td>\n",
       "      <td>4.75</td>\n",
       "      <td>9.54</td>\n",
       "      <td>43000</td>\n",
       "      <td>Diesel</td>\n",
       "      <td>Dealer</td>\n",
       "      <td>Manual</td>\n",
       "      <td>0</td>\n",
       "    </tr>\n",
       "    <tr>\n",
       "      <th>2</th>\n",
       "      <td>ciaz</td>\n",
       "      <td>2017</td>\n",
       "      <td>7.25</td>\n",
       "      <td>9.85</td>\n",
       "      <td>6900</td>\n",
       "      <td>Petrol</td>\n",
       "      <td>Dealer</td>\n",
       "      <td>Manual</td>\n",
       "      <td>0</td>\n",
       "    </tr>\n",
       "    <tr>\n",
       "      <th>3</th>\n",
       "      <td>wagon r</td>\n",
       "      <td>2011</td>\n",
       "      <td>2.85</td>\n",
       "      <td>4.15</td>\n",
       "      <td>5200</td>\n",
       "      <td>Petrol</td>\n",
       "      <td>Dealer</td>\n",
       "      <td>Manual</td>\n",
       "      <td>0</td>\n",
       "    </tr>\n",
       "    <tr>\n",
       "      <th>4</th>\n",
       "      <td>swift</td>\n",
       "      <td>2014</td>\n",
       "      <td>4.60</td>\n",
       "      <td>6.87</td>\n",
       "      <td>42450</td>\n",
       "      <td>Diesel</td>\n",
       "      <td>Dealer</td>\n",
       "      <td>Manual</td>\n",
       "      <td>0</td>\n",
       "    </tr>\n",
       "  </tbody>\n",
       "</table>\n",
       "</div>"
      ],
      "text/plain": [
       "  Car_Name  Year  Selling_Price  Present_Price  Kms_Driven Fuel_Type  \\\n",
       "0     ritz  2014           3.35           5.59       27000    Petrol   \n",
       "1      sx4  2013           4.75           9.54       43000    Diesel   \n",
       "2     ciaz  2017           7.25           9.85        6900    Petrol   \n",
       "3  wagon r  2011           2.85           4.15        5200    Petrol   \n",
       "4    swift  2014           4.60           6.87       42450    Diesel   \n",
       "\n",
       "  Seller_Type Transmission  Owner  \n",
       "0      Dealer       Manual      0  \n",
       "1      Dealer       Manual      0  \n",
       "2      Dealer       Manual      0  \n",
       "3      Dealer       Manual      0  \n",
       "4      Dealer       Manual      0  "
      ]
     },
     "execution_count": 3,
     "metadata": {},
     "output_type": "execute_result"
    }
   ],
   "source": [
    "# inspecting the first 5 rows of the dataframe\n",
    "car_dataset.head()"
   ]
  },
  {
   "cell_type": "code",
   "execution_count": 4,
   "id": "d5b49718",
   "metadata": {
    "execution": {
     "iopub.execute_input": "2024-03-27T15:39:12.766276Z",
     "iopub.status.busy": "2024-03-27T15:39:12.765501Z",
     "iopub.status.idle": "2024-03-27T15:39:12.772947Z",
     "shell.execute_reply": "2024-03-27T15:39:12.771734Z"
    },
    "papermill": {
     "duration": 0.016806,
     "end_time": "2024-03-27T15:39:12.775528",
     "exception": false,
     "start_time": "2024-03-27T15:39:12.758722",
     "status": "completed"
    },
    "tags": []
   },
   "outputs": [
    {
     "data": {
      "text/plain": [
       "(301, 9)"
      ]
     },
     "execution_count": 4,
     "metadata": {},
     "output_type": "execute_result"
    }
   ],
   "source": [
    "# checking the number of rows and columns\n",
    "car_dataset.shape"
   ]
  },
  {
   "cell_type": "code",
   "execution_count": 5,
   "id": "853a378b",
   "metadata": {
    "execution": {
     "iopub.execute_input": "2024-03-27T15:39:12.787307Z",
     "iopub.status.busy": "2024-03-27T15:39:12.786681Z",
     "iopub.status.idle": "2024-03-27T15:39:12.814972Z",
     "shell.execute_reply": "2024-03-27T15:39:12.813795Z"
    },
    "papermill": {
     "duration": 0.03729,
     "end_time": "2024-03-27T15:39:12.817577",
     "exception": false,
     "start_time": "2024-03-27T15:39:12.780287",
     "status": "completed"
    },
    "tags": []
   },
   "outputs": [
    {
     "name": "stdout",
     "output_type": "stream",
     "text": [
      "<class 'pandas.core.frame.DataFrame'>\n",
      "RangeIndex: 301 entries, 0 to 300\n",
      "Data columns (total 9 columns):\n",
      " #   Column         Non-Null Count  Dtype  \n",
      "---  ------         --------------  -----  \n",
      " 0   Car_Name       301 non-null    object \n",
      " 1   Year           301 non-null    int64  \n",
      " 2   Selling_Price  301 non-null    float64\n",
      " 3   Present_Price  301 non-null    float64\n",
      " 4   Kms_Driven     301 non-null    int64  \n",
      " 5   Fuel_Type      301 non-null    object \n",
      " 6   Seller_Type    301 non-null    object \n",
      " 7   Transmission   301 non-null    object \n",
      " 8   Owner          301 non-null    int64  \n",
      "dtypes: float64(2), int64(3), object(4)\n",
      "memory usage: 21.3+ KB\n"
     ]
    }
   ],
   "source": [
    "# getting some information about the dataset\n",
    "car_dataset.info()"
   ]
  },
  {
   "cell_type": "code",
   "execution_count": 6,
   "id": "8f9e8113",
   "metadata": {
    "execution": {
     "iopub.execute_input": "2024-03-27T15:39:12.830036Z",
     "iopub.status.busy": "2024-03-27T15:39:12.829364Z",
     "iopub.status.idle": "2024-03-27T15:39:12.838449Z",
     "shell.execute_reply": "2024-03-27T15:39:12.837262Z"
    },
    "papermill": {
     "duration": 0.018256,
     "end_time": "2024-03-27T15:39:12.840911",
     "exception": false,
     "start_time": "2024-03-27T15:39:12.822655",
     "status": "completed"
    },
    "tags": []
   },
   "outputs": [
    {
     "data": {
      "text/plain": [
       "Car_Name         0\n",
       "Year             0\n",
       "Selling_Price    0\n",
       "Present_Price    0\n",
       "Kms_Driven       0\n",
       "Fuel_Type        0\n",
       "Seller_Type      0\n",
       "Transmission     0\n",
       "Owner            0\n",
       "dtype: int64"
      ]
     },
     "execution_count": 6,
     "metadata": {},
     "output_type": "execute_result"
    }
   ],
   "source": [
    "# checking the number of missing values\n",
    "car_dataset.isnull().sum()"
   ]
  },
  {
   "cell_type": "code",
   "execution_count": 7,
   "id": "12235454",
   "metadata": {
    "execution": {
     "iopub.execute_input": "2024-03-27T15:39:12.853307Z",
     "iopub.status.busy": "2024-03-27T15:39:12.852686Z",
     "iopub.status.idle": "2024-03-27T15:39:12.862129Z",
     "shell.execute_reply": "2024-03-27T15:39:12.860913Z"
    },
    "papermill": {
     "duration": 0.019234,
     "end_time": "2024-03-27T15:39:12.865347",
     "exception": false,
     "start_time": "2024-03-27T15:39:12.846113",
     "status": "completed"
    },
    "tags": []
   },
   "outputs": [
    {
     "name": "stdout",
     "output_type": "stream",
     "text": [
      "Fuel_Type\n",
      "Petrol    239\n",
      "Diesel     60\n",
      "CNG         2\n",
      "Name: count, dtype: int64\n",
      "Seller_Type\n",
      "Dealer        195\n",
      "Individual    106\n",
      "Name: count, dtype: int64\n",
      "Transmission\n",
      "Manual       261\n",
      "Automatic     40\n",
      "Name: count, dtype: int64\n"
     ]
    }
   ],
   "source": [
    "# checking the distribution of categorical data\n",
    "print(car_dataset.Fuel_Type.value_counts())\n",
    "print(car_dataset.Seller_Type.value_counts())\n",
    "print(car_dataset.Transmission.value_counts())"
   ]
  },
  {
   "cell_type": "markdown",
   "id": "66819a85",
   "metadata": {
    "papermill": {
     "duration": 0.005011,
     "end_time": "2024-03-27T15:39:12.875998",
     "exception": false,
     "start_time": "2024-03-27T15:39:12.870987",
     "status": "completed"
    },
    "tags": []
   },
   "source": [
    "# Encoding the Categorical Data"
   ]
  },
  {
   "cell_type": "code",
   "execution_count": 8,
   "id": "b062b818",
   "metadata": {
    "execution": {
     "iopub.execute_input": "2024-03-27T15:39:12.888880Z",
     "iopub.status.busy": "2024-03-27T15:39:12.887940Z",
     "iopub.status.idle": "2024-03-27T15:39:12.893900Z",
     "shell.execute_reply": "2024-03-27T15:39:12.892562Z"
    },
    "papermill": {
     "duration": 0.015141,
     "end_time": "2024-03-27T15:39:12.896444",
     "exception": false,
     "start_time": "2024-03-27T15:39:12.881303",
     "status": "completed"
    },
    "tags": []
   },
   "outputs": [],
   "source": [
    "# encoding \"Fuel_Type\" Column\n",
    "\n",
    "# encoding \"Seller_Type\" Column\n",
    "\n",
    "# encoding \"Transmission\" Column\n"
   ]
  }
 ],
 "metadata": {
  "kaggle": {
   "accelerator": "none",
   "dataSources": [
    {
     "datasetId": 33080,
     "sourceId": 4852390,
     "sourceType": "datasetVersion"
    }
   ],
   "dockerImageVersionId": 30673,
   "isGpuEnabled": false,
   "isInternetEnabled": false,
   "language": "python",
   "sourceType": "notebook"
  },
  "kernelspec": {
   "display_name": "Python 3",
   "language": "python",
   "name": "python3"
  },
  "language_info": {
   "codemirror_mode": {
    "name": "ipython",
    "version": 3
   },
   "file_extension": ".py",
   "mimetype": "text/x-python",
   "name": "python",
   "nbconvert_exporter": "python",
   "pygments_lexer": "ipython3",
   "version": "3.10.13"
  },
  "papermill": {
   "default_parameters": {},
   "duration": 10.255309,
   "end_time": "2024-03-27T15:39:16.305720",
   "environment_variables": {},
   "exception": null,
   "input_path": "__notebook__.ipynb",
   "output_path": "__notebook__.ipynb",
   "parameters": {},
   "start_time": "2024-03-27T15:39:06.050411",
   "version": "2.5.0"
  }
 },
 "nbformat": 4,
 "nbformat_minor": 5
}
