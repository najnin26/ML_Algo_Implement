{
 "cells": [
  {
   "cell_type": "code",
   "execution_count": 1,
   "id": "c5941e7c",
   "metadata": {
    "_cell_guid": "b1076dfc-b9ad-4769-8c92-a6c4dae69d19",
    "_uuid": "8f2839f25d086af736a60e9eeb907d3b93b6e0e5",
    "execution": {
     "iopub.execute_input": "2024-07-13T06:43:59.503589Z",
     "iopub.status.busy": "2024-07-13T06:43:59.503177Z",
     "iopub.status.idle": "2024-07-13T06:44:00.638591Z",
     "shell.execute_reply": "2024-07-13T06:44:00.637418Z"
    },
    "papermill": {
     "duration": 1.157528,
     "end_time": "2024-07-13T06:44:00.641775",
     "exception": false,
     "start_time": "2024-07-13T06:43:59.484247",
     "status": "completed"
    },
    "tags": []
   },
   "outputs": [],
   "source": [
    "import numpy as np\n",
    "import pandas as pd"
   ]
  },
  {
   "cell_type": "code",
   "execution_count": 2,
   "id": "ccd5a78f",
   "metadata": {
    "execution": {
     "iopub.execute_input": "2024-07-13T06:44:00.679258Z",
     "iopub.status.busy": "2024-07-13T06:44:00.678662Z",
     "iopub.status.idle": "2024-07-13T06:44:02.254482Z",
     "shell.execute_reply": "2024-07-13T06:44:02.253285Z"
    },
    "papermill": {
     "duration": 1.598109,
     "end_time": "2024-07-13T06:44:02.257933",
     "exception": false,
     "start_time": "2024-07-13T06:44:00.659824",
     "status": "completed"
    },
    "tags": []
   },
   "outputs": [],
   "source": [
    "df=pd.read_csv('/kaggle/input/imdb-dataset-of-50k-movie-reviews/IMDB Dataset.csv')"
   ]
  },
  {
   "cell_type": "code",
   "execution_count": 3,
   "id": "85db5214",
   "metadata": {
    "execution": {
     "iopub.execute_input": "2024-07-13T06:44:02.306044Z",
     "iopub.status.busy": "2024-07-13T06:44:02.304591Z",
     "iopub.status.idle": "2024-07-13T06:44:02.338534Z",
     "shell.execute_reply": "2024-07-13T06:44:02.336619Z"
    },
    "papermill": {
     "duration": 0.061816,
     "end_time": "2024-07-13T06:44:02.342973",
     "exception": false,
     "start_time": "2024-07-13T06:44:02.281157",
     "status": "completed"
    },
    "tags": []
   },
   "outputs": [
    {
     "data": {
      "text/html": [
       "<div>\n",
       "<style scoped>\n",
       "    .dataframe tbody tr th:only-of-type {\n",
       "        vertical-align: middle;\n",
       "    }\n",
       "\n",
       "    .dataframe tbody tr th {\n",
       "        vertical-align: top;\n",
       "    }\n",
       "\n",
       "    .dataframe thead th {\n",
       "        text-align: right;\n",
       "    }\n",
       "</style>\n",
       "<table border=\"1\" class=\"dataframe\">\n",
       "  <thead>\n",
       "    <tr style=\"text-align: right;\">\n",
       "      <th></th>\n",
       "      <th>review</th>\n",
       "      <th>sentiment</th>\n",
       "    </tr>\n",
       "  </thead>\n",
       "  <tbody>\n",
       "    <tr>\n",
       "      <th>0</th>\n",
       "      <td>One of the other reviewers has mentioned that ...</td>\n",
       "      <td>positive</td>\n",
       "    </tr>\n",
       "    <tr>\n",
       "      <th>1</th>\n",
       "      <td>A wonderful little production. &lt;br /&gt;&lt;br /&gt;The...</td>\n",
       "      <td>positive</td>\n",
       "    </tr>\n",
       "    <tr>\n",
       "      <th>2</th>\n",
       "      <td>I thought this was a wonderful way to spend ti...</td>\n",
       "      <td>positive</td>\n",
       "    </tr>\n",
       "    <tr>\n",
       "      <th>3</th>\n",
       "      <td>Basically there's a family where a little boy ...</td>\n",
       "      <td>negative</td>\n",
       "    </tr>\n",
       "    <tr>\n",
       "      <th>4</th>\n",
       "      <td>Petter Mattei's \"Love in the Time of Money\" is...</td>\n",
       "      <td>positive</td>\n",
       "    </tr>\n",
       "  </tbody>\n",
       "</table>\n",
       "</div>"
      ],
      "text/plain": [
       "                                              review sentiment\n",
       "0  One of the other reviewers has mentioned that ...  positive\n",
       "1  A wonderful little production. <br /><br />The...  positive\n",
       "2  I thought this was a wonderful way to spend ti...  positive\n",
       "3  Basically there's a family where a little boy ...  negative\n",
       "4  Petter Mattei's \"Love in the Time of Money\" is...  positive"
      ]
     },
     "execution_count": 3,
     "metadata": {},
     "output_type": "execute_result"
    }
   ],
   "source": [
    "df.head()"
   ]
  },
  {
   "cell_type": "code",
   "execution_count": 4,
   "id": "17c4b73b",
   "metadata": {
    "execution": {
     "iopub.execute_input": "2024-07-13T06:44:02.382056Z",
     "iopub.status.busy": "2024-07-13T06:44:02.381610Z",
     "iopub.status.idle": "2024-07-13T06:44:02.389907Z",
     "shell.execute_reply": "2024-07-13T06:44:02.388667Z"
    },
    "papermill": {
     "duration": 0.031482,
     "end_time": "2024-07-13T06:44:02.393221",
     "exception": false,
     "start_time": "2024-07-13T06:44:02.361739",
     "status": "completed"
    },
    "tags": []
   },
   "outputs": [
    {
     "data": {
      "text/plain": [
       "\"One of the other reviewers has mentioned that after watching just 1 Oz episode you'll be hooked. They are right, as this is exactly what happened with me.<br /><br />The first thing that struck me about Oz was its brutality and unflinching scenes of violence, which set in right from the word GO. Trust me, this is not a show for the faint hearted or timid. This show pulls no punches with regards to drugs, sex or violence. Its is hardcore, in the classic use of the word.<br /><br />It is called OZ as that is the nickname given to the Oswald Maximum Security State Penitentary. It focuses mainly on Emerald City, an experimental section of the prison where all the cells have glass fronts and face inwards, so privacy is not high on the agenda. Em City is home to many..Aryans, Muslims, gangstas, Latinos, Christians, Italians, Irish and more....so scuffles, death stares, dodgy dealings and shady agreements are never far away.<br /><br />I would say the main appeal of the show is due to the fact that it goes where other shows wouldn't dare. Forget pretty pictures painted for mainstream audiences, forget charm, forget romance...OZ doesn't mess around. The first episode I ever saw struck me as so nasty it was surreal, I couldn't say I was ready for it, but as I watched more, I developed a taste for Oz, and got accustomed to the high levels of graphic violence. Not just violence, but injustice (crooked guards who'll be sold out for a nickel, inmates who'll kill on order and get away with it, well mannered, middle class inmates being turned into prison bitches due to their lack of street skills or prison experience) Watching Oz, you may become comfortable with what is uncomfortable viewing....thats if you can get in touch with your darker side.\""
      ]
     },
     "execution_count": 4,
     "metadata": {},
     "output_type": "execute_result"
    }
   ],
   "source": [
    "df['review'][0]"
   ]
  },
  {
   "cell_type": "code",
   "execution_count": 5,
   "id": "8f6e060d",
   "metadata": {
    "execution": {
     "iopub.execute_input": "2024-07-13T06:44:02.431898Z",
     "iopub.status.busy": "2024-07-13T06:44:02.431472Z",
     "iopub.status.idle": "2024-07-13T06:44:02.479650Z",
     "shell.execute_reply": "2024-07-13T06:44:02.477234Z"
    },
    "papermill": {
     "duration": 0.071599,
     "end_time": "2024-07-13T06:44:02.483205",
     "exception": false,
     "start_time": "2024-07-13T06:44:02.411606",
     "status": "completed"
    },
    "tags": []
   },
   "outputs": [
    {
     "name": "stdout",
     "output_type": "stream",
     "text": [
      "<class 'pandas.core.frame.DataFrame'>\n",
      "RangeIndex: 50000 entries, 0 to 49999\n",
      "Data columns (total 2 columns):\n",
      " #   Column     Non-Null Count  Dtype \n",
      "---  ------     --------------  ----- \n",
      " 0   review     50000 non-null  object\n",
      " 1   sentiment  50000 non-null  object\n",
      "dtypes: object(2)\n",
      "memory usage: 781.4+ KB\n"
     ]
    }
   ],
   "source": [
    "df.info()"
   ]
  },
  {
   "cell_type": "code",
   "execution_count": 6,
   "id": "1246318d",
   "metadata": {
    "execution": {
     "iopub.execute_input": "2024-07-13T06:44:02.525724Z",
     "iopub.status.busy": "2024-07-13T06:44:02.524925Z",
     "iopub.status.idle": "2024-07-13T06:44:02.580046Z",
     "shell.execute_reply": "2024-07-13T06:44:02.578231Z"
    },
    "papermill": {
     "duration": 0.078704,
     "end_time": "2024-07-13T06:44:02.583608",
     "exception": false,
     "start_time": "2024-07-13T06:44:02.504904",
     "status": "completed"
    },
    "tags": []
   },
   "outputs": [
    {
     "name": "stderr",
     "output_type": "stream",
     "text": [
      "/tmp/ipykernel_18/3690547864.py:1: FutureWarning: A value is trying to be set on a copy of a DataFrame or Series through chained assignment using an inplace method.\n",
      "The behavior will change in pandas 3.0. This inplace method will never work because the intermediate object on which we are setting values always behaves as a copy.\n",
      "\n",
      "For example, when doing 'df[col].method(value, inplace=True)', try using 'df.method({col: value}, inplace=True)' or df[col] = df[col].method(value) instead, to perform the operation inplace on the original object.\n",
      "\n",
      "\n",
      "  df['sentiment'].replace({\"positive\":1,'negative':0},inplace=True)\n",
      "/tmp/ipykernel_18/3690547864.py:1: FutureWarning: Downcasting behavior in `replace` is deprecated and will be removed in a future version. To retain the old behavior, explicitly call `result.infer_objects(copy=False)`. To opt-in to the future behavior, set `pd.set_option('future.no_silent_downcasting', True)`\n",
      "  df['sentiment'].replace({\"positive\":1,'negative':0},inplace=True)\n"
     ]
    }
   ],
   "source": [
    "df['sentiment'].replace({\"positive\":1,'negative':0},inplace=True)"
   ]
  },
  {
   "cell_type": "code",
   "execution_count": 7,
   "id": "3cb5f516",
   "metadata": {
    "execution": {
     "iopub.execute_input": "2024-07-13T06:44:02.621866Z",
     "iopub.status.busy": "2024-07-13T06:44:02.620773Z",
     "iopub.status.idle": "2024-07-13T06:44:02.632022Z",
     "shell.execute_reply": "2024-07-13T06:44:02.630733Z"
    },
    "papermill": {
     "duration": 0.032965,
     "end_time": "2024-07-13T06:44:02.634543",
     "exception": false,
     "start_time": "2024-07-13T06:44:02.601578",
     "status": "completed"
    },
    "tags": []
   },
   "outputs": [
    {
     "data": {
      "text/html": [
       "<div>\n",
       "<style scoped>\n",
       "    .dataframe tbody tr th:only-of-type {\n",
       "        vertical-align: middle;\n",
       "    }\n",
       "\n",
       "    .dataframe tbody tr th {\n",
       "        vertical-align: top;\n",
       "    }\n",
       "\n",
       "    .dataframe thead th {\n",
       "        text-align: right;\n",
       "    }\n",
       "</style>\n",
       "<table border=\"1\" class=\"dataframe\">\n",
       "  <thead>\n",
       "    <tr style=\"text-align: right;\">\n",
       "      <th></th>\n",
       "      <th>review</th>\n",
       "      <th>sentiment</th>\n",
       "    </tr>\n",
       "  </thead>\n",
       "  <tbody>\n",
       "    <tr>\n",
       "      <th>0</th>\n",
       "      <td>One of the other reviewers has mentioned that ...</td>\n",
       "      <td>1</td>\n",
       "    </tr>\n",
       "    <tr>\n",
       "      <th>1</th>\n",
       "      <td>A wonderful little production. &lt;br /&gt;&lt;br /&gt;The...</td>\n",
       "      <td>1</td>\n",
       "    </tr>\n",
       "    <tr>\n",
       "      <th>2</th>\n",
       "      <td>I thought this was a wonderful way to spend ti...</td>\n",
       "      <td>1</td>\n",
       "    </tr>\n",
       "    <tr>\n",
       "      <th>3</th>\n",
       "      <td>Basically there's a family where a little boy ...</td>\n",
       "      <td>0</td>\n",
       "    </tr>\n",
       "    <tr>\n",
       "      <th>4</th>\n",
       "      <td>Petter Mattei's \"Love in the Time of Money\" is...</td>\n",
       "      <td>1</td>\n",
       "    </tr>\n",
       "  </tbody>\n",
       "</table>\n",
       "</div>"
      ],
      "text/plain": [
       "                                              review  sentiment\n",
       "0  One of the other reviewers has mentioned that ...          1\n",
       "1  A wonderful little production. <br /><br />The...          1\n",
       "2  I thought this was a wonderful way to spend ti...          1\n",
       "3  Basically there's a family where a little boy ...          0\n",
       "4  Petter Mattei's \"Love in the Time of Money\" is...          1"
      ]
     },
     "execution_count": 7,
     "metadata": {},
     "output_type": "execute_result"
    }
   ],
   "source": [
    "df.head()"
   ]
  },
  {
   "cell_type": "markdown",
   "id": "28a2516b",
   "metadata": {
    "papermill": {
     "duration": 0.017406,
     "end_time": "2024-07-13T06:44:02.670178",
     "exception": false,
     "start_time": "2024-07-13T06:44:02.652772",
     "status": "completed"
    },
    "tags": []
   },
   "source": [
    "# ***Remove html tags***"
   ]
  },
  {
   "cell_type": "code",
   "execution_count": 8,
   "id": "1bd01787",
   "metadata": {
    "execution": {
     "iopub.execute_input": "2024-07-13T06:44:02.708567Z",
     "iopub.status.busy": "2024-07-13T06:44:02.708177Z",
     "iopub.status.idle": "2024-07-13T06:44:02.717675Z",
     "shell.execute_reply": "2024-07-13T06:44:02.716388Z"
    },
    "papermill": {
     "duration": 0.03249,
     "end_time": "2024-07-13T06:44:02.720710",
     "exception": false,
     "start_time": "2024-07-13T06:44:02.688220",
     "status": "completed"
    },
    "tags": []
   },
   "outputs": [
    {
     "data": {
      "text/plain": [
       "'I thought this was a wonderful way to spend time on a too hot summer weekend, sitting in the air conditioned theater and watching a light-hearted comedy. The plot is simplistic, but the dialogue is witty and the characters are likable (even the well bread suspected serial killer). While some may be disappointed when they realize this is not Match Point 2: Risk Addiction, I thought it was proof that Woody Allen is still fully in control of the style many of us have grown to love.This was the most I\\'d laughed at one of Woody\\'s comedies in years (dare I say a decade?). While I\\'ve never been impressed with Scarlet Johanson, in this she managed to tone down her \"sexy\" image and jumped right into a average, but spirited young woman.This may not be the crown jewel of his career, but it was wittier than \"Devil Wears Prada\" and more interesting than \"Superman\" a great comedy to go see with friends.'"
      ]
     },
     "execution_count": 8,
     "metadata": {},
     "output_type": "execute_result"
    }
   ],
   "source": [
    "import re\n",
    "clean=re.compile('<.*?>')\n",
    "re.sub(clean,'',df.iloc[2].review)"
   ]
  },
  {
   "cell_type": "code",
   "execution_count": 9,
   "id": "be1bddb8",
   "metadata": {
    "execution": {
     "iopub.execute_input": "2024-07-13T06:44:02.760726Z",
     "iopub.status.busy": "2024-07-13T06:44:02.760261Z",
     "iopub.status.idle": "2024-07-13T06:44:02.766659Z",
     "shell.execute_reply": "2024-07-13T06:44:02.765128Z"
    },
    "papermill": {
     "duration": 0.029555,
     "end_time": "2024-07-13T06:44:02.769423",
     "exception": false,
     "start_time": "2024-07-13T06:44:02.739868",
     "status": "completed"
    },
    "tags": []
   },
   "outputs": [],
   "source": [
    "def clean_html(text):\n",
    "    clean=re.compile('<.*?>')\n",
    "    return re.sub(clean,'',text)"
   ]
  },
  {
   "cell_type": "code",
   "execution_count": 10,
   "id": "123c23e4",
   "metadata": {
    "execution": {
     "iopub.execute_input": "2024-07-13T06:44:02.813804Z",
     "iopub.status.busy": "2024-07-13T06:44:02.813333Z",
     "iopub.status.idle": "2024-07-13T06:44:03.182498Z",
     "shell.execute_reply": "2024-07-13T06:44:03.180704Z"
    },
    "papermill": {
     "duration": 0.397715,
     "end_time": "2024-07-13T06:44:03.185643",
     "exception": false,
     "start_time": "2024-07-13T06:44:02.787928",
     "status": "completed"
    },
    "tags": []
   },
   "outputs": [],
   "source": [
    "df['review']=df['review'].apply(clean_html)"
   ]
  },
  {
   "cell_type": "code",
   "execution_count": 11,
   "id": "d1a05db0",
   "metadata": {
    "execution": {
     "iopub.execute_input": "2024-07-13T06:44:03.224389Z",
     "iopub.status.busy": "2024-07-13T06:44:03.223989Z",
     "iopub.status.idle": "2024-07-13T06:44:03.235901Z",
     "shell.execute_reply": "2024-07-13T06:44:03.234565Z"
    },
    "papermill": {
     "duration": 0.034159,
     "end_time": "2024-07-13T06:44:03.238911",
     "exception": false,
     "start_time": "2024-07-13T06:44:03.204752",
     "status": "completed"
    },
    "tags": []
   },
   "outputs": [
    {
     "data": {
      "text/html": [
       "<div>\n",
       "<style scoped>\n",
       "    .dataframe tbody tr th:only-of-type {\n",
       "        vertical-align: middle;\n",
       "    }\n",
       "\n",
       "    .dataframe tbody tr th {\n",
       "        vertical-align: top;\n",
       "    }\n",
       "\n",
       "    .dataframe thead th {\n",
       "        text-align: right;\n",
       "    }\n",
       "</style>\n",
       "<table border=\"1\" class=\"dataframe\">\n",
       "  <thead>\n",
       "    <tr style=\"text-align: right;\">\n",
       "      <th></th>\n",
       "      <th>review</th>\n",
       "      <th>sentiment</th>\n",
       "    </tr>\n",
       "  </thead>\n",
       "  <tbody>\n",
       "    <tr>\n",
       "      <th>0</th>\n",
       "      <td>One of the other reviewers has mentioned that ...</td>\n",
       "      <td>1</td>\n",
       "    </tr>\n",
       "    <tr>\n",
       "      <th>1</th>\n",
       "      <td>A wonderful little production. The filming tec...</td>\n",
       "      <td>1</td>\n",
       "    </tr>\n",
       "    <tr>\n",
       "      <th>2</th>\n",
       "      <td>I thought this was a wonderful way to spend ti...</td>\n",
       "      <td>1</td>\n",
       "    </tr>\n",
       "    <tr>\n",
       "      <th>3</th>\n",
       "      <td>Basically there's a family where a little boy ...</td>\n",
       "      <td>0</td>\n",
       "    </tr>\n",
       "    <tr>\n",
       "      <th>4</th>\n",
       "      <td>Petter Mattei's \"Love in the Time of Money\" is...</td>\n",
       "      <td>1</td>\n",
       "    </tr>\n",
       "  </tbody>\n",
       "</table>\n",
       "</div>"
      ],
      "text/plain": [
       "                                              review  sentiment\n",
       "0  One of the other reviewers has mentioned that ...          1\n",
       "1  A wonderful little production. The filming tec...          1\n",
       "2  I thought this was a wonderful way to spend ti...          1\n",
       "3  Basically there's a family where a little boy ...          0\n",
       "4  Petter Mattei's \"Love in the Time of Money\" is...          1"
      ]
     },
     "execution_count": 11,
     "metadata": {},
     "output_type": "execute_result"
    }
   ],
   "source": [
    "df.head()"
   ]
  },
  {
   "cell_type": "markdown",
   "id": "34dfe20a",
   "metadata": {
    "papermill": {
     "duration": 0.018677,
     "end_time": "2024-07-13T06:44:03.276661",
     "exception": false,
     "start_time": "2024-07-13T06:44:03.257984",
     "status": "completed"
    },
    "tags": []
   },
   "source": [
    "# ***Convert Everything to lower case***"
   ]
  },
  {
   "cell_type": "code",
   "execution_count": 12,
   "id": "38dcd69d",
   "metadata": {
    "execution": {
     "iopub.execute_input": "2024-07-13T06:44:03.319226Z",
     "iopub.status.busy": "2024-07-13T06:44:03.318755Z",
     "iopub.status.idle": "2024-07-13T06:44:03.325277Z",
     "shell.execute_reply": "2024-07-13T06:44:03.323354Z"
    },
    "papermill": {
     "duration": 0.031049,
     "end_time": "2024-07-13T06:44:03.328220",
     "exception": false,
     "start_time": "2024-07-13T06:44:03.297171",
     "status": "completed"
    },
    "tags": []
   },
   "outputs": [],
   "source": [
    "def convert_lower(text):\n",
    "    return text.lower()"
   ]
  },
  {
   "cell_type": "code",
   "execution_count": 13,
   "id": "0d04931e",
   "metadata": {
    "execution": {
     "iopub.execute_input": "2024-07-13T06:44:03.368020Z",
     "iopub.status.busy": "2024-07-13T06:44:03.367569Z",
     "iopub.status.idle": "2024-07-13T06:44:03.594146Z",
     "shell.execute_reply": "2024-07-13T06:44:03.592848Z"
    },
    "papermill": {
     "duration": 0.250042,
     "end_time": "2024-07-13T06:44:03.597415",
     "exception": false,
     "start_time": "2024-07-13T06:44:03.347373",
     "status": "completed"
    },
    "tags": []
   },
   "outputs": [],
   "source": [
    "df['review']=df['review'].apply(convert_lower)"
   ]
  },
  {
   "cell_type": "markdown",
   "id": "832367b5",
   "metadata": {
    "papermill": {
     "duration": 0.018242,
     "end_time": "2024-07-13T06:44:03.634378",
     "exception": false,
     "start_time": "2024-07-13T06:44:03.616136",
     "status": "completed"
    },
    "tags": []
   },
   "source": [
    "# ***Remove Special Character***"
   ]
  },
  {
   "cell_type": "code",
   "execution_count": 14,
   "id": "2ea52aa6",
   "metadata": {
    "execution": {
     "iopub.execute_input": "2024-07-13T06:44:03.673538Z",
     "iopub.status.busy": "2024-07-13T06:44:03.673150Z",
     "iopub.status.idle": "2024-07-13T06:44:03.680244Z",
     "shell.execute_reply": "2024-07-13T06:44:03.678755Z"
    },
    "papermill": {
     "duration": 0.029502,
     "end_time": "2024-07-13T06:44:03.683315",
     "exception": false,
     "start_time": "2024-07-13T06:44:03.653813",
     "status": "completed"
    },
    "tags": []
   },
   "outputs": [],
   "source": [
    "def remove_special(text):\n",
    "    x=''\n",
    "    for i in text:\n",
    "        if i.isalnum():\n",
    "            x=x+i\n",
    "        else:\n",
    "            x=x+''\n",
    "    return x"
   ]
  },
  {
   "cell_type": "code",
   "execution_count": 15,
   "id": "105300d3",
   "metadata": {
    "execution": {
     "iopub.execute_input": "2024-07-13T06:44:03.723027Z",
     "iopub.status.busy": "2024-07-13T06:44:03.722607Z",
     "iopub.status.idle": "2024-07-13T06:44:17.447564Z",
     "shell.execute_reply": "2024-07-13T06:44:17.446198Z"
    },
    "papermill": {
     "duration": 13.748135,
     "end_time": "2024-07-13T06:44:17.450820",
     "exception": false,
     "start_time": "2024-07-13T06:44:03.702685",
     "status": "completed"
    },
    "tags": []
   },
   "outputs": [],
   "source": [
    "df['review']=df['review'].apply(remove_special)"
   ]
  },
  {
   "cell_type": "markdown",
   "id": "52e9a376",
   "metadata": {
    "papermill": {
     "duration": 0.017817,
     "end_time": "2024-07-13T06:44:17.488814",
     "exception": false,
     "start_time": "2024-07-13T06:44:17.470997",
     "status": "completed"
    },
    "tags": []
   },
   "source": [
    "# ***Remove stop words***"
   ]
  },
  {
   "cell_type": "code",
   "execution_count": 16,
   "id": "8fdfca58",
   "metadata": {
    "execution": {
     "iopub.execute_input": "2024-07-13T06:44:17.529830Z",
     "iopub.status.busy": "2024-07-13T06:44:17.529407Z",
     "iopub.status.idle": "2024-07-13T06:44:19.979309Z",
     "shell.execute_reply": "2024-07-13T06:44:19.978025Z"
    },
    "papermill": {
     "duration": 2.473403,
     "end_time": "2024-07-13T06:44:19.982135",
     "exception": false,
     "start_time": "2024-07-13T06:44:17.508732",
     "status": "completed"
    },
    "tags": []
   },
   "outputs": [],
   "source": [
    "import nltk"
   ]
  },
  {
   "cell_type": "code",
   "execution_count": 17,
   "id": "1c085360",
   "metadata": {
    "execution": {
     "iopub.execute_input": "2024-07-13T06:44:20.020113Z",
     "iopub.status.busy": "2024-07-13T06:44:20.019695Z",
     "iopub.status.idle": "2024-07-13T06:44:20.025445Z",
     "shell.execute_reply": "2024-07-13T06:44:20.024259Z"
    },
    "papermill": {
     "duration": 0.027779,
     "end_time": "2024-07-13T06:44:20.027877",
     "exception": false,
     "start_time": "2024-07-13T06:44:20.000098",
     "status": "completed"
    },
    "tags": []
   },
   "outputs": [],
   "source": [
    "from nltk.corpus import stopwords"
   ]
  },
  {
   "cell_type": "code",
   "execution_count": 18,
   "id": "1f92db13",
   "metadata": {
    "execution": {
     "iopub.execute_input": "2024-07-13T06:44:20.065240Z",
     "iopub.status.busy": "2024-07-13T06:44:20.064855Z",
     "iopub.status.idle": "2024-07-13T06:44:20.084911Z",
     "shell.execute_reply": "2024-07-13T06:44:20.083732Z"
    },
    "papermill": {
     "duration": 0.042082,
     "end_time": "2024-07-13T06:44:20.087668",
     "exception": false,
     "start_time": "2024-07-13T06:44:20.045586",
     "status": "completed"
    },
    "tags": []
   },
   "outputs": [
    {
     "data": {
      "text/plain": [
       "['i',\n",
       " 'me',\n",
       " 'my',\n",
       " 'myself',\n",
       " 'we',\n",
       " 'our',\n",
       " 'ours',\n",
       " 'ourselves',\n",
       " 'you',\n",
       " \"you're\",\n",
       " \"you've\",\n",
       " \"you'll\",\n",
       " \"you'd\",\n",
       " 'your',\n",
       " 'yours',\n",
       " 'yourself',\n",
       " 'yourselves',\n",
       " 'he',\n",
       " 'him',\n",
       " 'his',\n",
       " 'himself',\n",
       " 'she',\n",
       " \"she's\",\n",
       " 'her',\n",
       " 'hers',\n",
       " 'herself',\n",
       " 'it',\n",
       " \"it's\",\n",
       " 'its',\n",
       " 'itself',\n",
       " 'they',\n",
       " 'them',\n",
       " 'their',\n",
       " 'theirs',\n",
       " 'themselves',\n",
       " 'what',\n",
       " 'which',\n",
       " 'who',\n",
       " 'whom',\n",
       " 'this',\n",
       " 'that',\n",
       " \"that'll\",\n",
       " 'these',\n",
       " 'those',\n",
       " 'am',\n",
       " 'is',\n",
       " 'are',\n",
       " 'was',\n",
       " 'were',\n",
       " 'be',\n",
       " 'been',\n",
       " 'being',\n",
       " 'have',\n",
       " 'has',\n",
       " 'had',\n",
       " 'having',\n",
       " 'do',\n",
       " 'does',\n",
       " 'did',\n",
       " 'doing',\n",
       " 'a',\n",
       " 'an',\n",
       " 'the',\n",
       " 'and',\n",
       " 'but',\n",
       " 'if',\n",
       " 'or',\n",
       " 'because',\n",
       " 'as',\n",
       " 'until',\n",
       " 'while',\n",
       " 'of',\n",
       " 'at',\n",
       " 'by',\n",
       " 'for',\n",
       " 'with',\n",
       " 'about',\n",
       " 'against',\n",
       " 'between',\n",
       " 'into',\n",
       " 'through',\n",
       " 'during',\n",
       " 'before',\n",
       " 'after',\n",
       " 'above',\n",
       " 'below',\n",
       " 'to',\n",
       " 'from',\n",
       " 'up',\n",
       " 'down',\n",
       " 'in',\n",
       " 'out',\n",
       " 'on',\n",
       " 'off',\n",
       " 'over',\n",
       " 'under',\n",
       " 'again',\n",
       " 'further',\n",
       " 'then',\n",
       " 'once',\n",
       " 'here',\n",
       " 'there',\n",
       " 'when',\n",
       " 'where',\n",
       " 'why',\n",
       " 'how',\n",
       " 'all',\n",
       " 'any',\n",
       " 'both',\n",
       " 'each',\n",
       " 'few',\n",
       " 'more',\n",
       " 'most',\n",
       " 'other',\n",
       " 'some',\n",
       " 'such',\n",
       " 'no',\n",
       " 'nor',\n",
       " 'not',\n",
       " 'only',\n",
       " 'own',\n",
       " 'same',\n",
       " 'so',\n",
       " 'than',\n",
       " 'too',\n",
       " 'very',\n",
       " 's',\n",
       " 't',\n",
       " 'can',\n",
       " 'will',\n",
       " 'just',\n",
       " 'don',\n",
       " \"don't\",\n",
       " 'should',\n",
       " \"should've\",\n",
       " 'now',\n",
       " 'd',\n",
       " 'll',\n",
       " 'm',\n",
       " 'o',\n",
       " 're',\n",
       " 've',\n",
       " 'y',\n",
       " 'ain',\n",
       " 'aren',\n",
       " \"aren't\",\n",
       " 'couldn',\n",
       " \"couldn't\",\n",
       " 'didn',\n",
       " \"didn't\",\n",
       " 'doesn',\n",
       " \"doesn't\",\n",
       " 'hadn',\n",
       " \"hadn't\",\n",
       " 'hasn',\n",
       " \"hasn't\",\n",
       " 'haven',\n",
       " \"haven't\",\n",
       " 'isn',\n",
       " \"isn't\",\n",
       " 'ma',\n",
       " 'mightn',\n",
       " \"mightn't\",\n",
       " 'mustn',\n",
       " \"mustn't\",\n",
       " 'needn',\n",
       " \"needn't\",\n",
       " 'shan',\n",
       " \"shan't\",\n",
       " 'shouldn',\n",
       " \"shouldn't\",\n",
       " 'wasn',\n",
       " \"wasn't\",\n",
       " 'weren',\n",
       " \"weren't\",\n",
       " 'won',\n",
       " \"won't\",\n",
       " 'wouldn',\n",
       " \"wouldn't\"]"
      ]
     },
     "execution_count": 18,
     "metadata": {},
     "output_type": "execute_result"
    }
   ],
   "source": [
    "stopwords.words('english')"
   ]
  },
  {
   "cell_type": "code",
   "execution_count": 19,
   "id": "19ada86e",
   "metadata": {
    "execution": {
     "iopub.execute_input": "2024-07-13T06:44:20.195316Z",
     "iopub.status.busy": "2024-07-13T06:44:20.194866Z",
     "iopub.status.idle": "2024-07-13T06:44:20.202240Z",
     "shell.execute_reply": "2024-07-13T06:44:20.200781Z"
    },
    "papermill": {
     "duration": 0.031263,
     "end_time": "2024-07-13T06:44:20.204783",
     "exception": false,
     "start_time": "2024-07-13T06:44:20.173520",
     "status": "completed"
    },
    "tags": []
   },
   "outputs": [],
   "source": [
    "def remove_stopwords(text):\n",
    "    x=[]\n",
    "    for i in text.split():\n",
    "        if i not in stopwords.words('english'):\n",
    "            x.append(i)\n",
    "            \n",
    "    y=x[:]\n",
    "    x.clear()\n",
    "    return y"
   ]
  },
  {
   "cell_type": "code",
   "execution_count": 20,
   "id": "7ebd0569",
   "metadata": {
    "execution": {
     "iopub.execute_input": "2024-07-13T06:44:20.245763Z",
     "iopub.status.busy": "2024-07-13T06:44:20.245370Z",
     "iopub.status.idle": "2024-07-13T06:44:27.785177Z",
     "shell.execute_reply": "2024-07-13T06:44:27.784119Z"
    },
    "papermill": {
     "duration": 7.563785,
     "end_time": "2024-07-13T06:44:27.788533",
     "exception": false,
     "start_time": "2024-07-13T06:44:20.224748",
     "status": "completed"
    },
    "tags": []
   },
   "outputs": [],
   "source": [
    "df['review']=df['review'].apply(remove_stopwords)"
   ]
  },
  {
   "cell_type": "code",
   "execution_count": 21,
   "id": "356c2d68",
   "metadata": {
    "execution": {
     "iopub.execute_input": "2024-07-13T06:44:27.827816Z",
     "iopub.status.busy": "2024-07-13T06:44:27.827434Z",
     "iopub.status.idle": "2024-07-13T06:44:27.839072Z",
     "shell.execute_reply": "2024-07-13T06:44:27.838010Z"
    },
    "papermill": {
     "duration": 0.034229,
     "end_time": "2024-07-13T06:44:27.841404",
     "exception": false,
     "start_time": "2024-07-13T06:44:27.807175",
     "status": "completed"
    },
    "tags": []
   },
   "outputs": [
    {
     "data": {
      "text/plain": [
       "0        [oneoftheotherreviewershasmentionedthatafterwa...\n",
       "1        [awonderfullittleproductionthefilmingtechnique...\n",
       "2        [ithoughtthiswasawonderfulwaytospendtimeonatoo...\n",
       "3        [basicallytheresafamilywherealittleboyjakethin...\n",
       "4        [pettermatteisloveinthetimeofmoneyisavisuallys...\n",
       "                               ...                        \n",
       "49995    [ithoughtthismoviedidadownrightgoodjobitwasnta...\n",
       "49996    [badplotbaddialoguebadactingidioticdirectingth...\n",
       "49997    [iamacatholictaughtinparochialelementaryschool...\n",
       "49998    [imgoingtohavetodisagreewiththepreviouscomment...\n",
       "49999    [nooneexpectsthestartrekmoviestobehighartbutth...\n",
       "Name: review, Length: 50000, dtype: object"
      ]
     },
     "execution_count": 21,
     "metadata": {},
     "output_type": "execute_result"
    }
   ],
   "source": [
    "df['review']"
   ]
  },
  {
   "cell_type": "code",
   "execution_count": 22,
   "id": "9e294de9",
   "metadata": {
    "execution": {
     "iopub.execute_input": "2024-07-13T06:44:27.879830Z",
     "iopub.status.busy": "2024-07-13T06:44:27.879448Z",
     "iopub.status.idle": "2024-07-13T06:44:27.899001Z",
     "shell.execute_reply": "2024-07-13T06:44:27.897932Z"
    },
    "papermill": {
     "duration": 0.042289,
     "end_time": "2024-07-13T06:44:27.901966",
     "exception": false,
     "start_time": "2024-07-13T06:44:27.859677",
     "status": "completed"
    },
    "tags": []
   },
   "outputs": [
    {
     "data": {
      "text/html": [
       "<div>\n",
       "<style scoped>\n",
       "    .dataframe tbody tr th:only-of-type {\n",
       "        vertical-align: middle;\n",
       "    }\n",
       "\n",
       "    .dataframe tbody tr th {\n",
       "        vertical-align: top;\n",
       "    }\n",
       "\n",
       "    .dataframe thead th {\n",
       "        text-align: right;\n",
       "    }\n",
       "</style>\n",
       "<table border=\"1\" class=\"dataframe\">\n",
       "  <thead>\n",
       "    <tr style=\"text-align: right;\">\n",
       "      <th></th>\n",
       "      <th>review</th>\n",
       "      <th>sentiment</th>\n",
       "    </tr>\n",
       "  </thead>\n",
       "  <tbody>\n",
       "    <tr>\n",
       "      <th>0</th>\n",
       "      <td>[oneoftheotherreviewershasmentionedthatafterwa...</td>\n",
       "      <td>1</td>\n",
       "    </tr>\n",
       "    <tr>\n",
       "      <th>1</th>\n",
       "      <td>[awonderfullittleproductionthefilmingtechnique...</td>\n",
       "      <td>1</td>\n",
       "    </tr>\n",
       "    <tr>\n",
       "      <th>2</th>\n",
       "      <td>[ithoughtthiswasawonderfulwaytospendtimeonatoo...</td>\n",
       "      <td>1</td>\n",
       "    </tr>\n",
       "    <tr>\n",
       "      <th>3</th>\n",
       "      <td>[basicallytheresafamilywherealittleboyjakethin...</td>\n",
       "      <td>0</td>\n",
       "    </tr>\n",
       "    <tr>\n",
       "      <th>4</th>\n",
       "      <td>[pettermatteisloveinthetimeofmoneyisavisuallys...</td>\n",
       "      <td>1</td>\n",
       "    </tr>\n",
       "    <tr>\n",
       "      <th>...</th>\n",
       "      <td>...</td>\n",
       "      <td>...</td>\n",
       "    </tr>\n",
       "    <tr>\n",
       "      <th>49995</th>\n",
       "      <td>[ithoughtthismoviedidadownrightgoodjobitwasnta...</td>\n",
       "      <td>1</td>\n",
       "    </tr>\n",
       "    <tr>\n",
       "      <th>49996</th>\n",
       "      <td>[badplotbaddialoguebadactingidioticdirectingth...</td>\n",
       "      <td>0</td>\n",
       "    </tr>\n",
       "    <tr>\n",
       "      <th>49997</th>\n",
       "      <td>[iamacatholictaughtinparochialelementaryschool...</td>\n",
       "      <td>0</td>\n",
       "    </tr>\n",
       "    <tr>\n",
       "      <th>49998</th>\n",
       "      <td>[imgoingtohavetodisagreewiththepreviouscomment...</td>\n",
       "      <td>0</td>\n",
       "    </tr>\n",
       "    <tr>\n",
       "      <th>49999</th>\n",
       "      <td>[nooneexpectsthestartrekmoviestobehighartbutth...</td>\n",
       "      <td>0</td>\n",
       "    </tr>\n",
       "  </tbody>\n",
       "</table>\n",
       "<p>50000 rows × 2 columns</p>\n",
       "</div>"
      ],
      "text/plain": [
       "                                                  review  sentiment\n",
       "0      [oneoftheotherreviewershasmentionedthatafterwa...          1\n",
       "1      [awonderfullittleproductionthefilmingtechnique...          1\n",
       "2      [ithoughtthiswasawonderfulwaytospendtimeonatoo...          1\n",
       "3      [basicallytheresafamilywherealittleboyjakethin...          0\n",
       "4      [pettermatteisloveinthetimeofmoneyisavisuallys...          1\n",
       "...                                                  ...        ...\n",
       "49995  [ithoughtthismoviedidadownrightgoodjobitwasnta...          1\n",
       "49996  [badplotbaddialoguebadactingidioticdirectingth...          0\n",
       "49997  [iamacatholictaughtinparochialelementaryschool...          0\n",
       "49998  [imgoingtohavetodisagreewiththepreviouscomment...          0\n",
       "49999  [nooneexpectsthestartrekmoviestobehighartbutth...          0\n",
       "\n",
       "[50000 rows x 2 columns]"
      ]
     },
     "execution_count": 22,
     "metadata": {},
     "output_type": "execute_result"
    }
   ],
   "source": [
    "df"
   ]
  },
  {
   "cell_type": "markdown",
   "id": "f0c316de",
   "metadata": {
    "papermill": {
     "duration": 0.018405,
     "end_time": "2024-07-13T06:44:27.939295",
     "exception": false,
     "start_time": "2024-07-13T06:44:27.920890",
     "status": "completed"
    },
    "tags": []
   },
   "source": [
    "# ***Steming***"
   ]
  },
  {
   "cell_type": "code",
   "execution_count": 23,
   "id": "9711e6b1",
   "metadata": {
    "execution": {
     "iopub.execute_input": "2024-07-13T06:44:27.979597Z",
     "iopub.status.busy": "2024-07-13T06:44:27.978604Z",
     "iopub.status.idle": "2024-07-13T06:44:27.984558Z",
     "shell.execute_reply": "2024-07-13T06:44:27.983223Z"
    },
    "papermill": {
     "duration": 0.029188,
     "end_time": "2024-07-13T06:44:27.987183",
     "exception": false,
     "start_time": "2024-07-13T06:44:27.957995",
     "status": "completed"
    },
    "tags": []
   },
   "outputs": [],
   "source": [
    "from nltk.stem.porter import PorterStemmer"
   ]
  },
  {
   "cell_type": "code",
   "execution_count": 24,
   "id": "f2202429",
   "metadata": {
    "execution": {
     "iopub.execute_input": "2024-07-13T06:44:28.027085Z",
     "iopub.status.busy": "2024-07-13T06:44:28.026625Z",
     "iopub.status.idle": "2024-07-13T06:44:28.032038Z",
     "shell.execute_reply": "2024-07-13T06:44:28.030851Z"
    },
    "papermill": {
     "duration": 0.028366,
     "end_time": "2024-07-13T06:44:28.034512",
     "exception": false,
     "start_time": "2024-07-13T06:44:28.006146",
     "status": "completed"
    },
    "tags": []
   },
   "outputs": [],
   "source": [
    "ps=PorterStemmer()"
   ]
  },
  {
   "cell_type": "code",
   "execution_count": 25,
   "id": "59206a38",
   "metadata": {
    "execution": {
     "iopub.execute_input": "2024-07-13T06:44:28.074373Z",
     "iopub.status.busy": "2024-07-13T06:44:28.073663Z",
     "iopub.status.idle": "2024-07-13T06:44:28.079483Z",
     "shell.execute_reply": "2024-07-13T06:44:28.078398Z"
    },
    "papermill": {
     "duration": 0.028646,
     "end_time": "2024-07-13T06:44:28.081903",
     "exception": false,
     "start_time": "2024-07-13T06:44:28.053257",
     "status": "completed"
    },
    "tags": []
   },
   "outputs": [],
   "source": [
    "y=[]\n",
    "def stem_words(text):\n",
    "    for i in text:\n",
    "        y.append(ps.stem(i))\n",
    "    z=y[:]\n",
    "    y.clear()\n",
    "    return z"
   ]
  },
  {
   "cell_type": "code",
   "execution_count": 26,
   "id": "487de983",
   "metadata": {
    "execution": {
     "iopub.execute_input": "2024-07-13T06:44:28.120907Z",
     "iopub.status.busy": "2024-07-13T06:44:28.120455Z",
     "iopub.status.idle": "2024-07-13T06:44:43.858052Z",
     "shell.execute_reply": "2024-07-13T06:44:43.856724Z"
    },
    "papermill": {
     "duration": 15.760839,
     "end_time": "2024-07-13T06:44:43.861272",
     "exception": false,
     "start_time": "2024-07-13T06:44:28.100433",
     "status": "completed"
    },
    "tags": []
   },
   "outputs": [],
   "source": [
    "df['review']=df['review'].apply(stem_words)"
   ]
  },
  {
   "cell_type": "code",
   "execution_count": 27,
   "id": "288e9e74",
   "metadata": {
    "execution": {
     "iopub.execute_input": "2024-07-13T06:44:43.901315Z",
     "iopub.status.busy": "2024-07-13T06:44:43.900898Z",
     "iopub.status.idle": "2024-07-13T06:44:43.919291Z",
     "shell.execute_reply": "2024-07-13T06:44:43.918059Z"
    },
    "papermill": {
     "duration": 0.041312,
     "end_time": "2024-07-13T06:44:43.922057",
     "exception": false,
     "start_time": "2024-07-13T06:44:43.880745",
     "status": "completed"
    },
    "tags": []
   },
   "outputs": [
    {
     "data": {
      "text/html": [
       "<div>\n",
       "<style scoped>\n",
       "    .dataframe tbody tr th:only-of-type {\n",
       "        vertical-align: middle;\n",
       "    }\n",
       "\n",
       "    .dataframe tbody tr th {\n",
       "        vertical-align: top;\n",
       "    }\n",
       "\n",
       "    .dataframe thead th {\n",
       "        text-align: right;\n",
       "    }\n",
       "</style>\n",
       "<table border=\"1\" class=\"dataframe\">\n",
       "  <thead>\n",
       "    <tr style=\"text-align: right;\">\n",
       "      <th></th>\n",
       "      <th>review</th>\n",
       "      <th>sentiment</th>\n",
       "    </tr>\n",
       "  </thead>\n",
       "  <tbody>\n",
       "    <tr>\n",
       "      <th>0</th>\n",
       "      <td>[oneoftheotherreviewershasmentionedthatafterwa...</td>\n",
       "      <td>1</td>\n",
       "    </tr>\n",
       "    <tr>\n",
       "      <th>1</th>\n",
       "      <td>[awonderfullittleproductionthefilmingtechnique...</td>\n",
       "      <td>1</td>\n",
       "    </tr>\n",
       "    <tr>\n",
       "      <th>2</th>\n",
       "      <td>[ithoughtthiswasawonderfulwaytospendtimeonatoo...</td>\n",
       "      <td>1</td>\n",
       "    </tr>\n",
       "    <tr>\n",
       "      <th>3</th>\n",
       "      <td>[basicallytheresafamilywherealittleboyjakethin...</td>\n",
       "      <td>0</td>\n",
       "    </tr>\n",
       "    <tr>\n",
       "      <th>4</th>\n",
       "      <td>[pettermatteisloveinthetimeofmoneyisavisuallys...</td>\n",
       "      <td>1</td>\n",
       "    </tr>\n",
       "    <tr>\n",
       "      <th>...</th>\n",
       "      <td>...</td>\n",
       "      <td>...</td>\n",
       "    </tr>\n",
       "    <tr>\n",
       "      <th>49995</th>\n",
       "      <td>[ithoughtthismoviedidadownrightgoodjobitwasnta...</td>\n",
       "      <td>1</td>\n",
       "    </tr>\n",
       "    <tr>\n",
       "      <th>49996</th>\n",
       "      <td>[badplotbaddialoguebadactingidioticdirectingth...</td>\n",
       "      <td>0</td>\n",
       "    </tr>\n",
       "    <tr>\n",
       "      <th>49997</th>\n",
       "      <td>[iamacatholictaughtinparochialelementaryschool...</td>\n",
       "      <td>0</td>\n",
       "    </tr>\n",
       "    <tr>\n",
       "      <th>49998</th>\n",
       "      <td>[imgoingtohavetodisagreewiththepreviouscomment...</td>\n",
       "      <td>0</td>\n",
       "    </tr>\n",
       "    <tr>\n",
       "      <th>49999</th>\n",
       "      <td>[nooneexpectsthestartrekmoviestobehighartbutth...</td>\n",
       "      <td>0</td>\n",
       "    </tr>\n",
       "  </tbody>\n",
       "</table>\n",
       "<p>50000 rows × 2 columns</p>\n",
       "</div>"
      ],
      "text/plain": [
       "                                                  review  sentiment\n",
       "0      [oneoftheotherreviewershasmentionedthatafterwa...          1\n",
       "1      [awonderfullittleproductionthefilmingtechnique...          1\n",
       "2      [ithoughtthiswasawonderfulwaytospendtimeonatoo...          1\n",
       "3      [basicallytheresafamilywherealittleboyjakethin...          0\n",
       "4      [pettermatteisloveinthetimeofmoneyisavisuallys...          1\n",
       "...                                                  ...        ...\n",
       "49995  [ithoughtthismoviedidadownrightgoodjobitwasnta...          1\n",
       "49996  [badplotbaddialoguebadactingidioticdirectingth...          0\n",
       "49997  [iamacatholictaughtinparochialelementaryschool...          0\n",
       "49998  [imgoingtohavetodisagreewiththepreviouscomment...          0\n",
       "49999  [nooneexpectsthestartrekmoviestobehighartbutth...          0\n",
       "\n",
       "[50000 rows x 2 columns]"
      ]
     },
     "execution_count": 27,
     "metadata": {},
     "output_type": "execute_result"
    }
   ],
   "source": [
    "df"
   ]
  },
  {
   "cell_type": "code",
   "execution_count": 28,
   "id": "ac7cde43",
   "metadata": {
    "execution": {
     "iopub.execute_input": "2024-07-13T06:44:43.965088Z",
     "iopub.status.busy": "2024-07-13T06:44:43.964657Z",
     "iopub.status.idle": "2024-07-13T06:44:43.970430Z",
     "shell.execute_reply": "2024-07-13T06:44:43.969226Z"
    },
    "papermill": {
     "duration": 0.03178,
     "end_time": "2024-07-13T06:44:43.974017",
     "exception": false,
     "start_time": "2024-07-13T06:44:43.942237",
     "status": "completed"
    },
    "tags": []
   },
   "outputs": [],
   "source": [
    "#join back\n",
    "\n",
    "def join_back(list_input):\n",
    "    return \" \".join(list_input)"
   ]
  },
  {
   "cell_type": "code",
   "execution_count": 29,
   "id": "42c24544",
   "metadata": {
    "execution": {
     "iopub.execute_input": "2024-07-13T06:44:44.015634Z",
     "iopub.status.busy": "2024-07-13T06:44:44.014683Z",
     "iopub.status.idle": "2024-07-13T06:44:44.052273Z",
     "shell.execute_reply": "2024-07-13T06:44:44.050994Z"
    },
    "papermill": {
     "duration": 0.06186,
     "end_time": "2024-07-13T06:44:44.055234",
     "exception": false,
     "start_time": "2024-07-13T06:44:43.993374",
     "status": "completed"
    },
    "tags": []
   },
   "outputs": [],
   "source": [
    "df['review']=df['review'].apply(join_back)"
   ]
  },
  {
   "cell_type": "code",
   "execution_count": 30,
   "id": "8c7ce494",
   "metadata": {
    "execution": {
     "iopub.execute_input": "2024-07-13T06:44:44.095493Z",
     "iopub.status.busy": "2024-07-13T06:44:44.095066Z",
     "iopub.status.idle": "2024-07-13T06:44:44.104783Z",
     "shell.execute_reply": "2024-07-13T06:44:44.103651Z"
    },
    "papermill": {
     "duration": 0.032932,
     "end_time": "2024-07-13T06:44:44.107311",
     "exception": false,
     "start_time": "2024-07-13T06:44:44.074379",
     "status": "completed"
    },
    "tags": []
   },
   "outputs": [
    {
     "data": {
      "text/plain": [
       "0        oneoftheotherreviewershasmentionedthatafterwat...\n",
       "1        awonderfullittleproductionthefilmingtechniquei...\n",
       "2        ithoughtthiswasawonderfulwaytospendtimeonatooh...\n",
       "3        basicallytheresafamilywherealittleboyjakethink...\n",
       "4        pettermatteisloveinthetimeofmoneyisavisuallyst...\n",
       "                               ...                        \n",
       "49995    ithoughtthismoviedidadownrightgoodjobitwasntas...\n",
       "49996    badplotbaddialoguebadactingidioticdirectingthe...\n",
       "49997    iamacatholictaughtinparochialelementaryschools...\n",
       "49998    imgoingtohavetodisagreewiththepreviouscommenta...\n",
       "49999    nooneexpectsthestartrekmoviestobehighartbutthe...\n",
       "Name: review, Length: 50000, dtype: object"
      ]
     },
     "execution_count": 30,
     "metadata": {},
     "output_type": "execute_result"
    }
   ],
   "source": [
    "df['review']"
   ]
  },
  {
   "cell_type": "code",
   "execution_count": 31,
   "id": "b2502328",
   "metadata": {
    "execution": {
     "iopub.execute_input": "2024-07-13T06:44:44.148829Z",
     "iopub.status.busy": "2024-07-13T06:44:44.148392Z",
     "iopub.status.idle": "2024-07-13T06:44:44.158973Z",
     "shell.execute_reply": "2024-07-13T06:44:44.157503Z"
    },
    "papermill": {
     "duration": 0.034943,
     "end_time": "2024-07-13T06:44:44.161826",
     "exception": false,
     "start_time": "2024-07-13T06:44:44.126883",
     "status": "completed"
    },
    "tags": []
   },
   "outputs": [],
   "source": [
    "X=df.iloc[:,0:1].values"
   ]
  },
  {
   "cell_type": "code",
   "execution_count": 32,
   "id": "6305b863",
   "metadata": {
    "execution": {
     "iopub.execute_input": "2024-07-13T06:44:44.202778Z",
     "iopub.status.busy": "2024-07-13T06:44:44.202387Z",
     "iopub.status.idle": "2024-07-13T06:44:44.209457Z",
     "shell.execute_reply": "2024-07-13T06:44:44.208234Z"
    },
    "papermill": {
     "duration": 0.030734,
     "end_time": "2024-07-13T06:44:44.212292",
     "exception": false,
     "start_time": "2024-07-13T06:44:44.181558",
     "status": "completed"
    },
    "tags": []
   },
   "outputs": [
    {
     "data": {
      "text/plain": [
       "(50000, 1)"
      ]
     },
     "execution_count": 32,
     "metadata": {},
     "output_type": "execute_result"
    }
   ],
   "source": [
    "X.shape"
   ]
  },
  {
   "cell_type": "code",
   "execution_count": 33,
   "id": "8d63f90f",
   "metadata": {
    "execution": {
     "iopub.execute_input": "2024-07-13T06:44:44.253991Z",
     "iopub.status.busy": "2024-07-13T06:44:44.253555Z",
     "iopub.status.idle": "2024-07-13T06:44:44.258886Z",
     "shell.execute_reply": "2024-07-13T06:44:44.257497Z"
    },
    "papermill": {
     "duration": 0.02942,
     "end_time": "2024-07-13T06:44:44.261752",
     "exception": false,
     "start_time": "2024-07-13T06:44:44.232332",
     "status": "completed"
    },
    "tags": []
   },
   "outputs": [],
   "source": [
    "from sklearn.feature_extraction.text import CountVectorizer"
   ]
  },
  {
   "cell_type": "code",
   "execution_count": 34,
   "id": "db4cb48d",
   "metadata": {
    "execution": {
     "iopub.execute_input": "2024-07-13T06:44:44.303391Z",
     "iopub.status.busy": "2024-07-13T06:44:44.302850Z",
     "iopub.status.idle": "2024-07-13T06:44:44.308662Z",
     "shell.execute_reply": "2024-07-13T06:44:44.307285Z"
    },
    "papermill": {
     "duration": 0.03031,
     "end_time": "2024-07-13T06:44:44.311973",
     "exception": false,
     "start_time": "2024-07-13T06:44:44.281663",
     "status": "completed"
    },
    "tags": []
   },
   "outputs": [],
   "source": [
    "cv=CountVectorizer(max_features=500)"
   ]
  },
  {
   "cell_type": "code",
   "execution_count": 35,
   "id": "a9136649",
   "metadata": {
    "execution": {
     "iopub.execute_input": "2024-07-13T06:44:44.354665Z",
     "iopub.status.busy": "2024-07-13T06:44:44.353672Z",
     "iopub.status.idle": "2024-07-13T06:44:45.301866Z",
     "shell.execute_reply": "2024-07-13T06:44:45.300617Z"
    },
    "papermill": {
     "duration": 0.973457,
     "end_time": "2024-07-13T06:44:45.304924",
     "exception": false,
     "start_time": "2024-07-13T06:44:44.331467",
     "status": "completed"
    },
    "tags": []
   },
   "outputs": [],
   "source": [
    "X=cv.fit_transform(df['review']).toarray()"
   ]
  },
  {
   "cell_type": "code",
   "execution_count": 36,
   "id": "c4dd05c7",
   "metadata": {
    "execution": {
     "iopub.execute_input": "2024-07-13T06:44:45.345693Z",
     "iopub.status.busy": "2024-07-13T06:44:45.345255Z",
     "iopub.status.idle": "2024-07-13T06:44:45.352386Z",
     "shell.execute_reply": "2024-07-13T06:44:45.351285Z"
    },
    "papermill": {
     "duration": 0.031103,
     "end_time": "2024-07-13T06:44:45.355491",
     "exception": false,
     "start_time": "2024-07-13T06:44:45.324388",
     "status": "completed"
    },
    "tags": []
   },
   "outputs": [
    {
     "data": {
      "text/plain": [
       "(50000, 500)"
      ]
     },
     "execution_count": 36,
     "metadata": {},
     "output_type": "execute_result"
    }
   ],
   "source": [
    "X.shape"
   ]
  },
  {
   "cell_type": "code",
   "execution_count": 37,
   "id": "36f88c65",
   "metadata": {
    "execution": {
     "iopub.execute_input": "2024-07-13T06:44:45.397977Z",
     "iopub.status.busy": "2024-07-13T06:44:45.397532Z",
     "iopub.status.idle": "2024-07-13T06:44:45.405433Z",
     "shell.execute_reply": "2024-07-13T06:44:45.404230Z"
    },
    "papermill": {
     "duration": 0.032078,
     "end_time": "2024-07-13T06:44:45.408044",
     "exception": false,
     "start_time": "2024-07-13T06:44:45.375966",
     "status": "completed"
    },
    "tags": []
   },
   "outputs": [
    {
     "data": {
      "text/plain": [
       "0"
      ]
     },
     "execution_count": 37,
     "metadata": {},
     "output_type": "execute_result"
    }
   ],
   "source": [
    "X[0].max()"
   ]
  },
  {
   "cell_type": "code",
   "execution_count": 38,
   "id": "6c45eac8",
   "metadata": {
    "execution": {
     "iopub.execute_input": "2024-07-13T06:44:45.450655Z",
     "iopub.status.busy": "2024-07-13T06:44:45.450173Z",
     "iopub.status.idle": "2024-07-13T06:44:45.456007Z",
     "shell.execute_reply": "2024-07-13T06:44:45.454811Z"
    },
    "papermill": {
     "duration": 0.029864,
     "end_time": "2024-07-13T06:44:45.458553",
     "exception": false,
     "start_time": "2024-07-13T06:44:45.428689",
     "status": "completed"
    },
    "tags": []
   },
   "outputs": [],
   "source": [
    "y=df.iloc[:,-1].values"
   ]
  },
  {
   "cell_type": "code",
   "execution_count": 39,
   "id": "c8af1a7c",
   "metadata": {
    "execution": {
     "iopub.execute_input": "2024-07-13T06:44:45.501593Z",
     "iopub.status.busy": "2024-07-13T06:44:45.501179Z",
     "iopub.status.idle": "2024-07-13T06:44:45.508271Z",
     "shell.execute_reply": "2024-07-13T06:44:45.507270Z"
    },
    "papermill": {
     "duration": 0.031423,
     "end_time": "2024-07-13T06:44:45.510946",
     "exception": false,
     "start_time": "2024-07-13T06:44:45.479523",
     "status": "completed"
    },
    "tags": []
   },
   "outputs": [
    {
     "data": {
      "text/plain": [
       "(50000,)"
      ]
     },
     "execution_count": 39,
     "metadata": {},
     "output_type": "execute_result"
    }
   ],
   "source": [
    "y.shape"
   ]
  },
  {
   "cell_type": "code",
   "execution_count": 40,
   "id": "240d62e7",
   "metadata": {
    "execution": {
     "iopub.execute_input": "2024-07-13T06:44:45.555212Z",
     "iopub.status.busy": "2024-07-13T06:44:45.554746Z",
     "iopub.status.idle": "2024-07-13T06:44:45.691580Z",
     "shell.execute_reply": "2024-07-13T06:44:45.690384Z"
    },
    "papermill": {
     "duration": 0.162949,
     "end_time": "2024-07-13T06:44:45.694528",
     "exception": false,
     "start_time": "2024-07-13T06:44:45.531579",
     "status": "completed"
    },
    "tags": []
   },
   "outputs": [],
   "source": [
    "from sklearn.model_selection import train_test_split\n",
    "\n",
    "X_train,X_test,y_train,y_test=train_test_split(X,y,test_size=0.2)"
   ]
  },
  {
   "cell_type": "code",
   "execution_count": 41,
   "id": "9a6da6f1",
   "metadata": {
    "execution": {
     "iopub.execute_input": "2024-07-13T06:44:45.736235Z",
     "iopub.status.busy": "2024-07-13T06:44:45.735805Z",
     "iopub.status.idle": "2024-07-13T06:44:45.743076Z",
     "shell.execute_reply": "2024-07-13T06:44:45.741758Z"
    },
    "papermill": {
     "duration": 0.031416,
     "end_time": "2024-07-13T06:44:45.745949",
     "exception": false,
     "start_time": "2024-07-13T06:44:45.714533",
     "status": "completed"
    },
    "tags": []
   },
   "outputs": [
    {
     "data": {
      "text/plain": [
       "(40000, 500)"
      ]
     },
     "execution_count": 41,
     "metadata": {},
     "output_type": "execute_result"
    }
   ],
   "source": [
    "X_train.shape"
   ]
  },
  {
   "cell_type": "code",
   "execution_count": 42,
   "id": "3c769ae2",
   "metadata": {
    "execution": {
     "iopub.execute_input": "2024-07-13T06:44:45.789767Z",
     "iopub.status.busy": "2024-07-13T06:44:45.788973Z",
     "iopub.status.idle": "2024-07-13T06:44:45.796776Z",
     "shell.execute_reply": "2024-07-13T06:44:45.795507Z"
    },
    "papermill": {
     "duration": 0.032032,
     "end_time": "2024-07-13T06:44:45.799231",
     "exception": false,
     "start_time": "2024-07-13T06:44:45.767199",
     "status": "completed"
    },
    "tags": []
   },
   "outputs": [
    {
     "data": {
      "text/plain": [
       "(10000, 500)"
      ]
     },
     "execution_count": 42,
     "metadata": {},
     "output_type": "execute_result"
    }
   ],
   "source": [
    "X_test.shape"
   ]
  },
  {
   "cell_type": "code",
   "execution_count": 43,
   "id": "9e1b3fc4",
   "metadata": {
    "execution": {
     "iopub.execute_input": "2024-07-13T06:44:45.843485Z",
     "iopub.status.busy": "2024-07-13T06:44:45.842671Z",
     "iopub.status.idle": "2024-07-13T06:44:45.849879Z",
     "shell.execute_reply": "2024-07-13T06:44:45.848735Z"
    },
    "papermill": {
     "duration": 0.032071,
     "end_time": "2024-07-13T06:44:45.852548",
     "exception": false,
     "start_time": "2024-07-13T06:44:45.820477",
     "status": "completed"
    },
    "tags": []
   },
   "outputs": [
    {
     "data": {
      "text/plain": [
       "(40000,)"
      ]
     },
     "execution_count": 43,
     "metadata": {},
     "output_type": "execute_result"
    }
   ],
   "source": [
    "y_train.shape"
   ]
  },
  {
   "cell_type": "code",
   "execution_count": 44,
   "id": "a826bdc4",
   "metadata": {
    "execution": {
     "iopub.execute_input": "2024-07-13T06:44:45.895684Z",
     "iopub.status.busy": "2024-07-13T06:44:45.895277Z",
     "iopub.status.idle": "2024-07-13T06:44:45.902432Z",
     "shell.execute_reply": "2024-07-13T06:44:45.901019Z"
    },
    "papermill": {
     "duration": 0.031799,
     "end_time": "2024-07-13T06:44:45.905164",
     "exception": false,
     "start_time": "2024-07-13T06:44:45.873365",
     "status": "completed"
    },
    "tags": []
   },
   "outputs": [
    {
     "data": {
      "text/plain": [
       "(10000,)"
      ]
     },
     "execution_count": 44,
     "metadata": {},
     "output_type": "execute_result"
    }
   ],
   "source": [
    "y_test.shape"
   ]
  },
  {
   "cell_type": "code",
   "execution_count": 45,
   "id": "8a588523",
   "metadata": {
    "execution": {
     "iopub.execute_input": "2024-07-13T06:44:45.948617Z",
     "iopub.status.busy": "2024-07-13T06:44:45.947651Z",
     "iopub.status.idle": "2024-07-13T06:44:45.956325Z",
     "shell.execute_reply": "2024-07-13T06:44:45.955151Z"
    },
    "papermill": {
     "duration": 0.033508,
     "end_time": "2024-07-13T06:44:45.959096",
     "exception": false,
     "start_time": "2024-07-13T06:44:45.925588",
     "status": "completed"
    },
    "tags": []
   },
   "outputs": [],
   "source": [
    "from sklearn.naive_bayes import GaussianNB,MultinomialNB,BernoulliNB"
   ]
  },
  {
   "cell_type": "code",
   "execution_count": 46,
   "id": "79331bc5",
   "metadata": {
    "execution": {
     "iopub.execute_input": "2024-07-13T06:44:46.004902Z",
     "iopub.status.busy": "2024-07-13T06:44:46.003120Z",
     "iopub.status.idle": "2024-07-13T06:44:46.009927Z",
     "shell.execute_reply": "2024-07-13T06:44:46.008451Z"
    },
    "papermill": {
     "duration": 0.032539,
     "end_time": "2024-07-13T06:44:46.012869",
     "exception": false,
     "start_time": "2024-07-13T06:44:45.980330",
     "status": "completed"
    },
    "tags": []
   },
   "outputs": [],
   "source": [
    "clf1=GaussianNB()\n",
    "clf2=MultinomialNB()\n",
    "clf3=BernoulliNB()"
   ]
  },
  {
   "cell_type": "code",
   "execution_count": 47,
   "id": "a5a574e0",
   "metadata": {
    "execution": {
     "iopub.execute_input": "2024-07-13T06:44:46.057101Z",
     "iopub.status.busy": "2024-07-13T06:44:46.056536Z",
     "iopub.status.idle": "2024-07-13T06:44:47.111965Z",
     "shell.execute_reply": "2024-07-13T06:44:47.110471Z"
    },
    "papermill": {
     "duration": 1.080961,
     "end_time": "2024-07-13T06:44:47.114721",
     "exception": false,
     "start_time": "2024-07-13T06:44:46.033760",
     "status": "completed"
    },
    "tags": []
   },
   "outputs": [
    {
     "data": {
      "text/html": [
       "<style>#sk-container-id-1 {color: black;background-color: white;}#sk-container-id-1 pre{padding: 0;}#sk-container-id-1 div.sk-toggleable {background-color: white;}#sk-container-id-1 label.sk-toggleable__label {cursor: pointer;display: block;width: 100%;margin-bottom: 0;padding: 0.3em;box-sizing: border-box;text-align: center;}#sk-container-id-1 label.sk-toggleable__label-arrow:before {content: \"▸\";float: left;margin-right: 0.25em;color: #696969;}#sk-container-id-1 label.sk-toggleable__label-arrow:hover:before {color: black;}#sk-container-id-1 div.sk-estimator:hover label.sk-toggleable__label-arrow:before {color: black;}#sk-container-id-1 div.sk-toggleable__content {max-height: 0;max-width: 0;overflow: hidden;text-align: left;background-color: #f0f8ff;}#sk-container-id-1 div.sk-toggleable__content pre {margin: 0.2em;color: black;border-radius: 0.25em;background-color: #f0f8ff;}#sk-container-id-1 input.sk-toggleable__control:checked~div.sk-toggleable__content {max-height: 200px;max-width: 100%;overflow: auto;}#sk-container-id-1 input.sk-toggleable__control:checked~label.sk-toggleable__label-arrow:before {content: \"▾\";}#sk-container-id-1 div.sk-estimator input.sk-toggleable__control:checked~label.sk-toggleable__label {background-color: #d4ebff;}#sk-container-id-1 div.sk-label input.sk-toggleable__control:checked~label.sk-toggleable__label {background-color: #d4ebff;}#sk-container-id-1 input.sk-hidden--visually {border: 0;clip: rect(1px 1px 1px 1px);clip: rect(1px, 1px, 1px, 1px);height: 1px;margin: -1px;overflow: hidden;padding: 0;position: absolute;width: 1px;}#sk-container-id-1 div.sk-estimator {font-family: monospace;background-color: #f0f8ff;border: 1px dotted black;border-radius: 0.25em;box-sizing: border-box;margin-bottom: 0.5em;}#sk-container-id-1 div.sk-estimator:hover {background-color: #d4ebff;}#sk-container-id-1 div.sk-parallel-item::after {content: \"\";width: 100%;border-bottom: 1px solid gray;flex-grow: 1;}#sk-container-id-1 div.sk-label:hover label.sk-toggleable__label {background-color: #d4ebff;}#sk-container-id-1 div.sk-serial::before {content: \"\";position: absolute;border-left: 1px solid gray;box-sizing: border-box;top: 0;bottom: 0;left: 50%;z-index: 0;}#sk-container-id-1 div.sk-serial {display: flex;flex-direction: column;align-items: center;background-color: white;padding-right: 0.2em;padding-left: 0.2em;position: relative;}#sk-container-id-1 div.sk-item {position: relative;z-index: 1;}#sk-container-id-1 div.sk-parallel {display: flex;align-items: stretch;justify-content: center;background-color: white;position: relative;}#sk-container-id-1 div.sk-item::before, #sk-container-id-1 div.sk-parallel-item::before {content: \"\";position: absolute;border-left: 1px solid gray;box-sizing: border-box;top: 0;bottom: 0;left: 50%;z-index: -1;}#sk-container-id-1 div.sk-parallel-item {display: flex;flex-direction: column;z-index: 1;position: relative;background-color: white;}#sk-container-id-1 div.sk-parallel-item:first-child::after {align-self: flex-end;width: 50%;}#sk-container-id-1 div.sk-parallel-item:last-child::after {align-self: flex-start;width: 50%;}#sk-container-id-1 div.sk-parallel-item:only-child::after {width: 0;}#sk-container-id-1 div.sk-dashed-wrapped {border: 1px dashed gray;margin: 0 0.4em 0.5em 0.4em;box-sizing: border-box;padding-bottom: 0.4em;background-color: white;}#sk-container-id-1 div.sk-label label {font-family: monospace;font-weight: bold;display: inline-block;line-height: 1.2em;}#sk-container-id-1 div.sk-label-container {text-align: center;}#sk-container-id-1 div.sk-container {/* jupyter's `normalize.less` sets `[hidden] { display: none; }` but bootstrap.min.css set `[hidden] { display: none !important; }` so we also need the `!important` here to be able to override the default hidden behavior on the sphinx rendered scikit-learn.org. See: https://github.com/scikit-learn/scikit-learn/issues/21755 */display: inline-block !important;position: relative;}#sk-container-id-1 div.sk-text-repr-fallback {display: none;}</style><div id=\"sk-container-id-1\" class=\"sk-top-container\"><div class=\"sk-text-repr-fallback\"><pre>BernoulliNB()</pre><b>In a Jupyter environment, please rerun this cell to show the HTML representation or trust the notebook. <br />On GitHub, the HTML representation is unable to render, please try loading this page with nbviewer.org.</b></div><div class=\"sk-container\" hidden><div class=\"sk-item\"><div class=\"sk-estimator sk-toggleable\"><input class=\"sk-toggleable__control sk-hidden--visually\" id=\"sk-estimator-id-1\" type=\"checkbox\" checked><label for=\"sk-estimator-id-1\" class=\"sk-toggleable__label sk-toggleable__label-arrow\">BernoulliNB</label><div class=\"sk-toggleable__content\"><pre>BernoulliNB()</pre></div></div></div></div></div>"
      ],
      "text/plain": [
       "BernoulliNB()"
      ]
     },
     "execution_count": 47,
     "metadata": {},
     "output_type": "execute_result"
    }
   ],
   "source": [
    "clf1.fit(X_train,y_train)\n",
    "clf2.fit(X_train,y_train)\n",
    "clf3.fit(X_train,y_train)"
   ]
  },
  {
   "cell_type": "code",
   "execution_count": 48,
   "id": "eb0ac200",
   "metadata": {
    "execution": {
     "iopub.execute_input": "2024-07-13T06:44:47.158989Z",
     "iopub.status.busy": "2024-07-13T06:44:47.158547Z",
     "iopub.status.idle": "2024-07-13T06:44:47.376074Z",
     "shell.execute_reply": "2024-07-13T06:44:47.371818Z"
    },
    "papermill": {
     "duration": 0.244574,
     "end_time": "2024-07-13T06:44:47.380504",
     "exception": false,
     "start_time": "2024-07-13T06:44:47.135930",
     "status": "completed"
    },
    "tags": []
   },
   "outputs": [],
   "source": [
    "y_pred1=clf1.predict(X_test)\n",
    "y_pred2=clf2.predict(X_test)\n",
    "y_pred3=clf3.predict(X_test)"
   ]
  },
  {
   "cell_type": "code",
   "execution_count": 49,
   "id": "cd151803",
   "metadata": {
    "execution": {
     "iopub.execute_input": "2024-07-13T06:44:47.477690Z",
     "iopub.status.busy": "2024-07-13T06:44:47.476973Z",
     "iopub.status.idle": "2024-07-13T06:44:47.484027Z",
     "shell.execute_reply": "2024-07-13T06:44:47.482767Z"
    },
    "papermill": {
     "duration": 0.060093,
     "end_time": "2024-07-13T06:44:47.488638",
     "exception": false,
     "start_time": "2024-07-13T06:44:47.428545",
     "status": "completed"
    },
    "tags": []
   },
   "outputs": [],
   "source": [
    "from sklearn.metrics import accuracy_score"
   ]
  },
  {
   "cell_type": "code",
   "execution_count": 50,
   "id": "e0d26329",
   "metadata": {
    "execution": {
     "iopub.execute_input": "2024-07-13T06:44:47.535004Z",
     "iopub.status.busy": "2024-07-13T06:44:47.534508Z",
     "iopub.status.idle": "2024-07-13T06:44:47.548272Z",
     "shell.execute_reply": "2024-07-13T06:44:47.546769Z"
    },
    "papermill": {
     "duration": 0.040426,
     "end_time": "2024-07-13T06:44:47.551006",
     "exception": false,
     "start_time": "2024-07-13T06:44:47.510580",
     "status": "completed"
    },
    "tags": []
   },
   "outputs": [
    {
     "name": "stdout",
     "output_type": "stream",
     "text": [
      "Gaussian :  0.5024\n",
      "MultinomialNB :  0.5024\n",
      "BernoulliNB :  0.5024\n"
     ]
    }
   ],
   "source": [
    "print(\"Gaussian : \",accuracy_score(y_test,y_pred1))\n",
    "print(\"MultinomialNB : \",accuracy_score(y_test,y_pred2))\n",
    "print(\"BernoulliNB : \",accuracy_score(y_test,y_pred3))"
   ]
  },
  {
   "cell_type": "code",
   "execution_count": null,
   "id": "efe1d476",
   "metadata": {
    "papermill": {
     "duration": 0.020705,
     "end_time": "2024-07-13T06:44:47.593873",
     "exception": false,
     "start_time": "2024-07-13T06:44:47.573168",
     "status": "completed"
    },
    "tags": []
   },
   "outputs": [],
   "source": []
  }
 ],
 "metadata": {
  "kaggle": {
   "accelerator": "none",
   "dataSources": [
    {
     "datasetId": 134715,
     "sourceId": 320111,
     "sourceType": "datasetVersion"
    }
   ],
   "dockerImageVersionId": 30746,
   "isGpuEnabled": false,
   "isInternetEnabled": false,
   "language": "python",
   "sourceType": "notebook"
  },
  "kernelspec": {
   "display_name": "Python 3",
   "language": "python",
   "name": "python3"
  },
  "language_info": {
   "codemirror_mode": {
    "name": "ipython",
    "version": 3
   },
   "file_extension": ".py",
   "mimetype": "text/x-python",
   "name": "python",
   "nbconvert_exporter": "python",
   "pygments_lexer": "ipython3",
   "version": "3.10.13"
  },
  "papermill": {
   "default_parameters": {},
   "duration": 52.898372,
   "end_time": "2024-07-13T06:44:48.438108",
   "environment_variables": {},
   "exception": null,
   "input_path": "__notebook__.ipynb",
   "output_path": "__notebook__.ipynb",
   "parameters": {},
   "start_time": "2024-07-13T06:43:55.539736",
   "version": "2.5.0"
  }
 },
 "nbformat": 4,
 "nbformat_minor": 5
}
