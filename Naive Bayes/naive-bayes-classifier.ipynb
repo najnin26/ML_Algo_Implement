{
 "cells": [
  {
   "cell_type": "code",
   "execution_count": 1,
   "id": "43335f55",
   "metadata": {
    "_cell_guid": "b1076dfc-b9ad-4769-8c92-a6c4dae69d19",
    "_uuid": "8f2839f25d086af736a60e9eeb907d3b93b6e0e5",
    "execution": {
     "iopub.execute_input": "2024-07-13T05:03:06.860691Z",
     "iopub.status.busy": "2024-07-13T05:03:06.860272Z",
     "iopub.status.idle": "2024-07-13T05:03:07.863248Z",
     "shell.execute_reply": "2024-07-13T05:03:07.861933Z"
    },
    "papermill": {
     "duration": 1.015944,
     "end_time": "2024-07-13T05:03:07.866368",
     "exception": false,
     "start_time": "2024-07-13T05:03:06.850424",
     "status": "completed"
    },
    "tags": []
   },
   "outputs": [],
   "source": [
    "import numpy as np\n",
    "import pandas as pd"
   ]
  },
  {
   "cell_type": "code",
   "execution_count": 2,
   "id": "791f5727",
   "metadata": {
    "execution": {
     "iopub.execute_input": "2024-07-13T05:03:07.883090Z",
     "iopub.status.busy": "2024-07-13T05:03:07.882521Z",
     "iopub.status.idle": "2024-07-13T05:03:07.906045Z",
     "shell.execute_reply": "2024-07-13T05:03:07.904857Z"
    },
    "papermill": {
     "duration": 0.034754,
     "end_time": "2024-07-13T05:03:07.908769",
     "exception": false,
     "start_time": "2024-07-13T05:03:07.874015",
     "status": "completed"
    },
    "tags": []
   },
   "outputs": [],
   "source": [
    "data=pd.read_csv('/kaggle/input/play-tennis/play_tennis.csv')"
   ]
  },
  {
   "cell_type": "code",
   "execution_count": 3,
   "id": "beb2905a",
   "metadata": {
    "execution": {
     "iopub.execute_input": "2024-07-13T05:03:07.924791Z",
     "iopub.status.busy": "2024-07-13T05:03:07.924315Z",
     "iopub.status.idle": "2024-07-13T05:03:07.948663Z",
     "shell.execute_reply": "2024-07-13T05:03:07.947570Z"
    },
    "papermill": {
     "duration": 0.035311,
     "end_time": "2024-07-13T05:03:07.951248",
     "exception": false,
     "start_time": "2024-07-13T05:03:07.915937",
     "status": "completed"
    },
    "tags": []
   },
   "outputs": [
    {
     "data": {
      "text/html": [
       "<div>\n",
       "<style scoped>\n",
       "    .dataframe tbody tr th:only-of-type {\n",
       "        vertical-align: middle;\n",
       "    }\n",
       "\n",
       "    .dataframe tbody tr th {\n",
       "        vertical-align: top;\n",
       "    }\n",
       "\n",
       "    .dataframe thead th {\n",
       "        text-align: right;\n",
       "    }\n",
       "</style>\n",
       "<table border=\"1\" class=\"dataframe\">\n",
       "  <thead>\n",
       "    <tr style=\"text-align: right;\">\n",
       "      <th></th>\n",
       "      <th>day</th>\n",
       "      <th>outlook</th>\n",
       "      <th>temp</th>\n",
       "      <th>humidity</th>\n",
       "      <th>wind</th>\n",
       "      <th>play</th>\n",
       "    </tr>\n",
       "  </thead>\n",
       "  <tbody>\n",
       "    <tr>\n",
       "      <th>0</th>\n",
       "      <td>D1</td>\n",
       "      <td>Sunny</td>\n",
       "      <td>Hot</td>\n",
       "      <td>High</td>\n",
       "      <td>Weak</td>\n",
       "      <td>No</td>\n",
       "    </tr>\n",
       "    <tr>\n",
       "      <th>1</th>\n",
       "      <td>D2</td>\n",
       "      <td>Sunny</td>\n",
       "      <td>Hot</td>\n",
       "      <td>High</td>\n",
       "      <td>Strong</td>\n",
       "      <td>No</td>\n",
       "    </tr>\n",
       "    <tr>\n",
       "      <th>2</th>\n",
       "      <td>D3</td>\n",
       "      <td>Overcast</td>\n",
       "      <td>Hot</td>\n",
       "      <td>High</td>\n",
       "      <td>Weak</td>\n",
       "      <td>Yes</td>\n",
       "    </tr>\n",
       "    <tr>\n",
       "      <th>3</th>\n",
       "      <td>D4</td>\n",
       "      <td>Rain</td>\n",
       "      <td>Mild</td>\n",
       "      <td>High</td>\n",
       "      <td>Weak</td>\n",
       "      <td>Yes</td>\n",
       "    </tr>\n",
       "    <tr>\n",
       "      <th>4</th>\n",
       "      <td>D5</td>\n",
       "      <td>Rain</td>\n",
       "      <td>Cool</td>\n",
       "      <td>Normal</td>\n",
       "      <td>Weak</td>\n",
       "      <td>Yes</td>\n",
       "    </tr>\n",
       "  </tbody>\n",
       "</table>\n",
       "</div>"
      ],
      "text/plain": [
       "  day   outlook  temp humidity    wind play\n",
       "0  D1     Sunny   Hot     High    Weak   No\n",
       "1  D2     Sunny   Hot     High  Strong   No\n",
       "2  D3  Overcast   Hot     High    Weak  Yes\n",
       "3  D4      Rain  Mild     High    Weak  Yes\n",
       "4  D5      Rain  Cool   Normal    Weak  Yes"
      ]
     },
     "execution_count": 3,
     "metadata": {},
     "output_type": "execute_result"
    }
   ],
   "source": [
    "data.head()"
   ]
  },
  {
   "cell_type": "code",
   "execution_count": 4,
   "id": "4f7a62e2",
   "metadata": {
    "execution": {
     "iopub.execute_input": "2024-07-13T05:03:07.968085Z",
     "iopub.status.busy": "2024-07-13T05:03:07.967677Z",
     "iopub.status.idle": "2024-07-13T05:03:07.977846Z",
     "shell.execute_reply": "2024-07-13T05:03:07.976689Z"
    },
    "papermill": {
     "duration": 0.021627,
     "end_time": "2024-07-13T05:03:07.980323",
     "exception": false,
     "start_time": "2024-07-13T05:03:07.958696",
     "status": "completed"
    },
    "tags": []
   },
   "outputs": [],
   "source": [
    "data.drop(columns=['day'],inplace=True)"
   ]
  },
  {
   "cell_type": "code",
   "execution_count": 5,
   "id": "1bf87f6f",
   "metadata": {
    "execution": {
     "iopub.execute_input": "2024-07-13T05:03:07.997241Z",
     "iopub.status.busy": "2024-07-13T05:03:07.996416Z",
     "iopub.status.idle": "2024-07-13T05:03:08.012245Z",
     "shell.execute_reply": "2024-07-13T05:03:08.011070Z"
    },
    "papermill": {
     "duration": 0.026866,
     "end_time": "2024-07-13T05:03:08.014649",
     "exception": false,
     "start_time": "2024-07-13T05:03:07.987783",
     "status": "completed"
    },
    "tags": []
   },
   "outputs": [
    {
     "data": {
      "text/html": [
       "<div>\n",
       "<style scoped>\n",
       "    .dataframe tbody tr th:only-of-type {\n",
       "        vertical-align: middle;\n",
       "    }\n",
       "\n",
       "    .dataframe tbody tr th {\n",
       "        vertical-align: top;\n",
       "    }\n",
       "\n",
       "    .dataframe thead th {\n",
       "        text-align: right;\n",
       "    }\n",
       "</style>\n",
       "<table border=\"1\" class=\"dataframe\">\n",
       "  <thead>\n",
       "    <tr style=\"text-align: right;\">\n",
       "      <th></th>\n",
       "      <th>outlook</th>\n",
       "      <th>temp</th>\n",
       "      <th>humidity</th>\n",
       "      <th>wind</th>\n",
       "      <th>play</th>\n",
       "    </tr>\n",
       "  </thead>\n",
       "  <tbody>\n",
       "    <tr>\n",
       "      <th>0</th>\n",
       "      <td>Sunny</td>\n",
       "      <td>Hot</td>\n",
       "      <td>High</td>\n",
       "      <td>Weak</td>\n",
       "      <td>No</td>\n",
       "    </tr>\n",
       "    <tr>\n",
       "      <th>1</th>\n",
       "      <td>Sunny</td>\n",
       "      <td>Hot</td>\n",
       "      <td>High</td>\n",
       "      <td>Strong</td>\n",
       "      <td>No</td>\n",
       "    </tr>\n",
       "    <tr>\n",
       "      <th>2</th>\n",
       "      <td>Overcast</td>\n",
       "      <td>Hot</td>\n",
       "      <td>High</td>\n",
       "      <td>Weak</td>\n",
       "      <td>Yes</td>\n",
       "    </tr>\n",
       "    <tr>\n",
       "      <th>3</th>\n",
       "      <td>Rain</td>\n",
       "      <td>Mild</td>\n",
       "      <td>High</td>\n",
       "      <td>Weak</td>\n",
       "      <td>Yes</td>\n",
       "    </tr>\n",
       "    <tr>\n",
       "      <th>4</th>\n",
       "      <td>Rain</td>\n",
       "      <td>Cool</td>\n",
       "      <td>Normal</td>\n",
       "      <td>Weak</td>\n",
       "      <td>Yes</td>\n",
       "    </tr>\n",
       "    <tr>\n",
       "      <th>5</th>\n",
       "      <td>Rain</td>\n",
       "      <td>Cool</td>\n",
       "      <td>Normal</td>\n",
       "      <td>Strong</td>\n",
       "      <td>No</td>\n",
       "    </tr>\n",
       "    <tr>\n",
       "      <th>6</th>\n",
       "      <td>Overcast</td>\n",
       "      <td>Cool</td>\n",
       "      <td>Normal</td>\n",
       "      <td>Strong</td>\n",
       "      <td>Yes</td>\n",
       "    </tr>\n",
       "    <tr>\n",
       "      <th>7</th>\n",
       "      <td>Sunny</td>\n",
       "      <td>Mild</td>\n",
       "      <td>High</td>\n",
       "      <td>Weak</td>\n",
       "      <td>No</td>\n",
       "    </tr>\n",
       "    <tr>\n",
       "      <th>8</th>\n",
       "      <td>Sunny</td>\n",
       "      <td>Cool</td>\n",
       "      <td>Normal</td>\n",
       "      <td>Weak</td>\n",
       "      <td>Yes</td>\n",
       "    </tr>\n",
       "    <tr>\n",
       "      <th>9</th>\n",
       "      <td>Rain</td>\n",
       "      <td>Mild</td>\n",
       "      <td>Normal</td>\n",
       "      <td>Weak</td>\n",
       "      <td>Yes</td>\n",
       "    </tr>\n",
       "    <tr>\n",
       "      <th>10</th>\n",
       "      <td>Sunny</td>\n",
       "      <td>Mild</td>\n",
       "      <td>Normal</td>\n",
       "      <td>Strong</td>\n",
       "      <td>Yes</td>\n",
       "    </tr>\n",
       "    <tr>\n",
       "      <th>11</th>\n",
       "      <td>Overcast</td>\n",
       "      <td>Mild</td>\n",
       "      <td>High</td>\n",
       "      <td>Strong</td>\n",
       "      <td>Yes</td>\n",
       "    </tr>\n",
       "    <tr>\n",
       "      <th>12</th>\n",
       "      <td>Overcast</td>\n",
       "      <td>Hot</td>\n",
       "      <td>Normal</td>\n",
       "      <td>Weak</td>\n",
       "      <td>Yes</td>\n",
       "    </tr>\n",
       "    <tr>\n",
       "      <th>13</th>\n",
       "      <td>Rain</td>\n",
       "      <td>Mild</td>\n",
       "      <td>High</td>\n",
       "      <td>Strong</td>\n",
       "      <td>No</td>\n",
       "    </tr>\n",
       "  </tbody>\n",
       "</table>\n",
       "</div>"
      ],
      "text/plain": [
       "     outlook  temp humidity    wind play\n",
       "0      Sunny   Hot     High    Weak   No\n",
       "1      Sunny   Hot     High  Strong   No\n",
       "2   Overcast   Hot     High    Weak  Yes\n",
       "3       Rain  Mild     High    Weak  Yes\n",
       "4       Rain  Cool   Normal    Weak  Yes\n",
       "5       Rain  Cool   Normal  Strong   No\n",
       "6   Overcast  Cool   Normal  Strong  Yes\n",
       "7      Sunny  Mild     High    Weak   No\n",
       "8      Sunny  Cool   Normal    Weak  Yes\n",
       "9       Rain  Mild   Normal    Weak  Yes\n",
       "10     Sunny  Mild   Normal  Strong  Yes\n",
       "11  Overcast  Mild     High  Strong  Yes\n",
       "12  Overcast   Hot   Normal    Weak  Yes\n",
       "13      Rain  Mild     High  Strong   No"
      ]
     },
     "execution_count": 5,
     "metadata": {},
     "output_type": "execute_result"
    }
   ],
   "source": [
    "data"
   ]
  },
  {
   "cell_type": "code",
   "execution_count": 6,
   "id": "07d323b4",
   "metadata": {
    "execution": {
     "iopub.execute_input": "2024-07-13T05:03:08.031726Z",
     "iopub.status.busy": "2024-07-13T05:03:08.031299Z",
     "iopub.status.idle": "2024-07-13T05:03:08.045693Z",
     "shell.execute_reply": "2024-07-13T05:03:08.044565Z"
    },
    "papermill": {
     "duration": 0.025814,
     "end_time": "2024-07-13T05:03:08.048069",
     "exception": false,
     "start_time": "2024-07-13T05:03:08.022255",
     "status": "completed"
    },
    "tags": []
   },
   "outputs": [
    {
     "data": {
      "text/plain": [
       "play\n",
       "Yes    9\n",
       "No     5\n",
       "Name: count, dtype: int64"
      ]
     },
     "execution_count": 6,
     "metadata": {},
     "output_type": "execute_result"
    }
   ],
   "source": [
    "data['play'].value_counts()"
   ]
  },
  {
   "cell_type": "code",
   "execution_count": 7,
   "id": "d58ec65a",
   "metadata": {
    "execution": {
     "iopub.execute_input": "2024-07-13T05:03:08.065550Z",
     "iopub.status.busy": "2024-07-13T05:03:08.065139Z",
     "iopub.status.idle": "2024-07-13T05:03:08.071578Z",
     "shell.execute_reply": "2024-07-13T05:03:08.070454Z"
    },
    "papermill": {
     "duration": 0.018354,
     "end_time": "2024-07-13T05:03:08.074315",
     "exception": false,
     "start_time": "2024-07-13T05:03:08.055961",
     "status": "completed"
    },
    "tags": []
   },
   "outputs": [
    {
     "name": "stdout",
     "output_type": "stream",
     "text": [
      "0.6428571428571429\n",
      "0.35714285714285715\n"
     ]
    }
   ],
   "source": [
    "py = 9/14\n",
    "pn = 5/14\n",
    "print(py)\n",
    "print(pn) "
   ]
  },
  {
   "cell_type": "code",
   "execution_count": 8,
   "id": "0e05bf7d",
   "metadata": {
    "execution": {
     "iopub.execute_input": "2024-07-13T05:03:08.092201Z",
     "iopub.status.busy": "2024-07-13T05:03:08.091793Z",
     "iopub.status.idle": "2024-07-13T05:03:08.125159Z",
     "shell.execute_reply": "2024-07-13T05:03:08.124009Z"
    },
    "papermill": {
     "duration": 0.045511,
     "end_time": "2024-07-13T05:03:08.127984",
     "exception": false,
     "start_time": "2024-07-13T05:03:08.082473",
     "status": "completed"
    },
    "tags": []
   },
   "outputs": [
    {
     "data": {
      "text/html": [
       "<div>\n",
       "<style scoped>\n",
       "    .dataframe tbody tr th:only-of-type {\n",
       "        vertical-align: middle;\n",
       "    }\n",
       "\n",
       "    .dataframe tbody tr th {\n",
       "        vertical-align: top;\n",
       "    }\n",
       "\n",
       "    .dataframe thead th {\n",
       "        text-align: right;\n",
       "    }\n",
       "</style>\n",
       "<table border=\"1\" class=\"dataframe\">\n",
       "  <thead>\n",
       "    <tr style=\"text-align: right;\">\n",
       "      <th>play</th>\n",
       "      <th>No</th>\n",
       "      <th>Yes</th>\n",
       "    </tr>\n",
       "    <tr>\n",
       "      <th>outlook</th>\n",
       "      <th></th>\n",
       "      <th></th>\n",
       "    </tr>\n",
       "  </thead>\n",
       "  <tbody>\n",
       "    <tr>\n",
       "      <th>Overcast</th>\n",
       "      <td>0</td>\n",
       "      <td>4</td>\n",
       "    </tr>\n",
       "    <tr>\n",
       "      <th>Rain</th>\n",
       "      <td>2</td>\n",
       "      <td>3</td>\n",
       "    </tr>\n",
       "    <tr>\n",
       "      <th>Sunny</th>\n",
       "      <td>3</td>\n",
       "      <td>2</td>\n",
       "    </tr>\n",
       "  </tbody>\n",
       "</table>\n",
       "</div>"
      ],
      "text/plain": [
       "play      No  Yes\n",
       "outlook          \n",
       "Overcast   0    4\n",
       "Rain       2    3\n",
       "Sunny      3    2"
      ]
     },
     "execution_count": 8,
     "metadata": {},
     "output_type": "execute_result"
    }
   ],
   "source": [
    "pd.crosstab(data['outlook'], data['play'])"
   ]
  },
  {
   "cell_type": "code",
   "execution_count": 9,
   "id": "63864486",
   "metadata": {
    "execution": {
     "iopub.execute_input": "2024-07-13T05:03:08.146119Z",
     "iopub.status.busy": "2024-07-13T05:03:08.145741Z",
     "iopub.status.idle": "2024-07-13T05:03:08.151599Z",
     "shell.execute_reply": "2024-07-13T05:03:08.150348Z"
    },
    "papermill": {
     "duration": 0.017917,
     "end_time": "2024-07-13T05:03:08.154171",
     "exception": false,
     "start_time": "2024-07-13T05:03:08.136254",
     "status": "completed"
    },
    "tags": []
   },
   "outputs": [],
   "source": [
    "# p is probabaility\n",
    "pon = 0\n",
    "prn = 2/5\n",
    "psn = 3/5\n",
    "\n",
    "poy = 4/9\n",
    "pry= 3/9\n",
    "psy = 2/9"
   ]
  },
  {
   "cell_type": "code",
   "execution_count": 10,
   "id": "69ab7003",
   "metadata": {
    "execution": {
     "iopub.execute_input": "2024-07-13T05:03:08.173012Z",
     "iopub.status.busy": "2024-07-13T05:03:08.172209Z",
     "iopub.status.idle": "2024-07-13T05:03:08.190159Z",
     "shell.execute_reply": "2024-07-13T05:03:08.188992Z"
    },
    "papermill": {
     "duration": 0.030039,
     "end_time": "2024-07-13T05:03:08.192620",
     "exception": false,
     "start_time": "2024-07-13T05:03:08.162581",
     "status": "completed"
    },
    "tags": []
   },
   "outputs": [
    {
     "data": {
      "text/html": [
       "<div>\n",
       "<style scoped>\n",
       "    .dataframe tbody tr th:only-of-type {\n",
       "        vertical-align: middle;\n",
       "    }\n",
       "\n",
       "    .dataframe tbody tr th {\n",
       "        vertical-align: top;\n",
       "    }\n",
       "\n",
       "    .dataframe thead th {\n",
       "        text-align: right;\n",
       "    }\n",
       "</style>\n",
       "<table border=\"1\" class=\"dataframe\">\n",
       "  <thead>\n",
       "    <tr style=\"text-align: right;\">\n",
       "      <th>play</th>\n",
       "      <th>No</th>\n",
       "      <th>Yes</th>\n",
       "    </tr>\n",
       "    <tr>\n",
       "      <th>temp</th>\n",
       "      <th></th>\n",
       "      <th></th>\n",
       "    </tr>\n",
       "  </thead>\n",
       "  <tbody>\n",
       "    <tr>\n",
       "      <th>Cool</th>\n",
       "      <td>1</td>\n",
       "      <td>3</td>\n",
       "    </tr>\n",
       "    <tr>\n",
       "      <th>Hot</th>\n",
       "      <td>2</td>\n",
       "      <td>2</td>\n",
       "    </tr>\n",
       "    <tr>\n",
       "      <th>Mild</th>\n",
       "      <td>2</td>\n",
       "      <td>4</td>\n",
       "    </tr>\n",
       "  </tbody>\n",
       "</table>\n",
       "</div>"
      ],
      "text/plain": [
       "play  No  Yes\n",
       "temp         \n",
       "Cool   1    3\n",
       "Hot    2    2\n",
       "Mild   2    4"
      ]
     },
     "execution_count": 10,
     "metadata": {},
     "output_type": "execute_result"
    }
   ],
   "source": [
    "pd.crosstab(data['temp'], data['play'])"
   ]
  },
  {
   "cell_type": "code",
   "execution_count": 11,
   "id": "eb6f7edc",
   "metadata": {
    "execution": {
     "iopub.execute_input": "2024-07-13T05:03:08.211115Z",
     "iopub.status.busy": "2024-07-13T05:03:08.210715Z",
     "iopub.status.idle": "2024-07-13T05:03:08.216446Z",
     "shell.execute_reply": "2024-07-13T05:03:08.215381Z"
    },
    "papermill": {
     "duration": 0.017983,
     "end_time": "2024-07-13T05:03:08.219104",
     "exception": false,
     "start_time": "2024-07-13T05:03:08.201121",
     "status": "completed"
    },
    "tags": []
   },
   "outputs": [],
   "source": [
    "pcoolno = 1/5\n",
    "photno = 2/5\n",
    "pmildno = 2/5\n",
    "\n",
    "pcoolyes = 3/9\n",
    "photyes= 2/9\n",
    "pmildyes= 4/9"
   ]
  },
  {
   "cell_type": "code",
   "execution_count": 12,
   "id": "8075045c",
   "metadata": {
    "execution": {
     "iopub.execute_input": "2024-07-13T05:03:08.239028Z",
     "iopub.status.busy": "2024-07-13T05:03:08.237854Z",
     "iopub.status.idle": "2024-07-13T05:03:08.257290Z",
     "shell.execute_reply": "2024-07-13T05:03:08.256022Z"
    },
    "papermill": {
     "duration": 0.03197,
     "end_time": "2024-07-13T05:03:08.259865",
     "exception": false,
     "start_time": "2024-07-13T05:03:08.227895",
     "status": "completed"
    },
    "tags": []
   },
   "outputs": [
    {
     "data": {
      "text/html": [
       "<div>\n",
       "<style scoped>\n",
       "    .dataframe tbody tr th:only-of-type {\n",
       "        vertical-align: middle;\n",
       "    }\n",
       "\n",
       "    .dataframe tbody tr th {\n",
       "        vertical-align: top;\n",
       "    }\n",
       "\n",
       "    .dataframe thead th {\n",
       "        text-align: right;\n",
       "    }\n",
       "</style>\n",
       "<table border=\"1\" class=\"dataframe\">\n",
       "  <thead>\n",
       "    <tr style=\"text-align: right;\">\n",
       "      <th>play</th>\n",
       "      <th>No</th>\n",
       "      <th>Yes</th>\n",
       "    </tr>\n",
       "    <tr>\n",
       "      <th>humidity</th>\n",
       "      <th></th>\n",
       "      <th></th>\n",
       "    </tr>\n",
       "  </thead>\n",
       "  <tbody>\n",
       "    <tr>\n",
       "      <th>High</th>\n",
       "      <td>4</td>\n",
       "      <td>3</td>\n",
       "    </tr>\n",
       "    <tr>\n",
       "      <th>Normal</th>\n",
       "      <td>1</td>\n",
       "      <td>6</td>\n",
       "    </tr>\n",
       "  </tbody>\n",
       "</table>\n",
       "</div>"
      ],
      "text/plain": [
       "play      No  Yes\n",
       "humidity         \n",
       "High       4    3\n",
       "Normal     1    6"
      ]
     },
     "execution_count": 12,
     "metadata": {},
     "output_type": "execute_result"
    }
   ],
   "source": [
    "pd.crosstab(data['humidity'], data['play'])"
   ]
  },
  {
   "cell_type": "code",
   "execution_count": 13,
   "id": "7c90496f",
   "metadata": {
    "execution": {
     "iopub.execute_input": "2024-07-13T05:03:08.279646Z",
     "iopub.status.busy": "2024-07-13T05:03:08.278577Z",
     "iopub.status.idle": "2024-07-13T05:03:08.284494Z",
     "shell.execute_reply": "2024-07-13T05:03:08.283361Z"
    },
    "papermill": {
     "duration": 0.018343,
     "end_time": "2024-07-13T05:03:08.286895",
     "exception": false,
     "start_time": "2024-07-13T05:03:08.268552",
     "status": "completed"
    },
    "tags": []
   },
   "outputs": [],
   "source": [
    "phighno= 4/5\n",
    "pnormalno = 1/5\n",
    "\n",
    "phighyes = 3/9\n",
    "pnormalyes = 6/9"
   ]
  },
  {
   "cell_type": "code",
   "execution_count": 14,
   "id": "a1cd2530",
   "metadata": {
    "execution": {
     "iopub.execute_input": "2024-07-13T05:03:08.306099Z",
     "iopub.status.busy": "2024-07-13T05:03:08.305731Z",
     "iopub.status.idle": "2024-07-13T05:03:08.323449Z",
     "shell.execute_reply": "2024-07-13T05:03:08.322179Z"
    },
    "papermill": {
     "duration": 0.030524,
     "end_time": "2024-07-13T05:03:08.326075",
     "exception": false,
     "start_time": "2024-07-13T05:03:08.295551",
     "status": "completed"
    },
    "tags": []
   },
   "outputs": [
    {
     "data": {
      "text/html": [
       "<div>\n",
       "<style scoped>\n",
       "    .dataframe tbody tr th:only-of-type {\n",
       "        vertical-align: middle;\n",
       "    }\n",
       "\n",
       "    .dataframe tbody tr th {\n",
       "        vertical-align: top;\n",
       "    }\n",
       "\n",
       "    .dataframe thead th {\n",
       "        text-align: right;\n",
       "    }\n",
       "</style>\n",
       "<table border=\"1\" class=\"dataframe\">\n",
       "  <thead>\n",
       "    <tr style=\"text-align: right;\">\n",
       "      <th>play</th>\n",
       "      <th>No</th>\n",
       "      <th>Yes</th>\n",
       "    </tr>\n",
       "    <tr>\n",
       "      <th>wind</th>\n",
       "      <th></th>\n",
       "      <th></th>\n",
       "    </tr>\n",
       "  </thead>\n",
       "  <tbody>\n",
       "    <tr>\n",
       "      <th>Strong</th>\n",
       "      <td>3</td>\n",
       "      <td>3</td>\n",
       "    </tr>\n",
       "    <tr>\n",
       "      <th>Weak</th>\n",
       "      <td>2</td>\n",
       "      <td>6</td>\n",
       "    </tr>\n",
       "  </tbody>\n",
       "</table>\n",
       "</div>"
      ],
      "text/plain": [
       "play    No  Yes\n",
       "wind           \n",
       "Strong   3    3\n",
       "Weak     2    6"
      ]
     },
     "execution_count": 14,
     "metadata": {},
     "output_type": "execute_result"
    }
   ],
   "source": [
    "pd.crosstab(data['wind'], data['play'])"
   ]
  },
  {
   "cell_type": "code",
   "execution_count": 15,
   "id": "3a56e83c",
   "metadata": {
    "execution": {
     "iopub.execute_input": "2024-07-13T05:03:08.346865Z",
     "iopub.status.busy": "2024-07-13T05:03:08.345917Z",
     "iopub.status.idle": "2024-07-13T05:03:08.351795Z",
     "shell.execute_reply": "2024-07-13T05:03:08.350677Z"
    },
    "papermill": {
     "duration": 0.01857,
     "end_time": "2024-07-13T05:03:08.354242",
     "exception": false,
     "start_time": "2024-07-13T05:03:08.335672",
     "status": "completed"
    },
    "tags": []
   },
   "outputs": [],
   "source": [
    "pstrongno = 3/5\n",
    "pweakno = 2/5\n",
    "\n",
    "pstrongyes = 3/9\n",
    "pweakyes = 6/9"
   ]
  },
  {
   "cell_type": "code",
   "execution_count": 16,
   "id": "5f06d9b3",
   "metadata": {
    "execution": {
     "iopub.execute_input": "2024-07-13T05:03:08.373500Z",
     "iopub.status.busy": "2024-07-13T05:03:08.373141Z",
     "iopub.status.idle": "2024-07-13T05:03:08.378790Z",
     "shell.execute_reply": "2024-07-13T05:03:08.377674Z"
    },
    "papermill": {
     "duration": 0.018168,
     "end_time": "2024-07-13T05:03:08.381199",
     "exception": false,
     "start_time": "2024-07-13T05:03:08.363031",
     "status": "completed"
    },
    "tags": []
   },
   "outputs": [],
   "source": [
    "# From Problem 1\n",
    "#Outlook-Sunny, temp-Hot, humidity-High, wind-Weak, play-No,P(Yes)\n",
    "\n",
    "#Solution\n",
    "# P(yes/sunny,hot,high,weak) = P(SunnyYes) * P(Hot/Yes) * P(Humidity/Yes) * P(Weak/Yes) * P(Yes)\n",
    "# P(No/sunny, hot, high, weak) = P(Sunny/No) * P(Hot/No) * P(Humidty/No) * P(Weak/No) * P(No)\n",
    "\n",
    "Pyes = psy * photyes * phighyes * pweakyes * py\n",
    "Pno = psn * photno * phighno * pweakno * pn"
   ]
  },
  {
   "cell_type": "code",
   "execution_count": 17,
   "id": "a2505b63",
   "metadata": {
    "execution": {
     "iopub.execute_input": "2024-07-13T05:03:08.400501Z",
     "iopub.status.busy": "2024-07-13T05:03:08.400147Z",
     "iopub.status.idle": "2024-07-13T05:03:08.405762Z",
     "shell.execute_reply": "2024-07-13T05:03:08.404577Z"
    },
    "papermill": {
     "duration": 0.018787,
     "end_time": "2024-07-13T05:03:08.408780",
     "exception": false,
     "start_time": "2024-07-13T05:03:08.389993",
     "status": "completed"
    },
    "tags": []
   },
   "outputs": [
    {
     "name": "stdout",
     "output_type": "stream",
     "text": [
      "Probability of yes 0.007054673721340387\n",
      "Probability of no 0.02742857142857143\n"
     ]
    }
   ],
   "source": [
    "print(\"Probability of yes\",Pyes)\n",
    "print(\"Probability of no\",Pno)"
   ]
  },
  {
   "cell_type": "code",
   "execution_count": 18,
   "id": "960772dc",
   "metadata": {
    "execution": {
     "iopub.execute_input": "2024-07-13T05:03:08.428456Z",
     "iopub.status.busy": "2024-07-13T05:03:08.428083Z",
     "iopub.status.idle": "2024-07-13T05:03:08.434155Z",
     "shell.execute_reply": "2024-07-13T05:03:08.432955Z"
    },
    "papermill": {
     "duration": 0.018934,
     "end_time": "2024-07-13T05:03:08.436706",
     "exception": false,
     "start_time": "2024-07-13T05:03:08.417772",
     "status": "completed"
    },
    "tags": []
   },
   "outputs": [],
   "source": [
    "# Problem 2\n",
    "\n",
    "#Outlook=Overcast , Temp-Mild, Humidity-Normal, wind= Strong\n",
    "# Play or no play \n",
    "\n",
    "# Solution\n",
    "# P(Yes/ Overcast, Mild, Normal,Strong) = P(Overcast/Yes) * P(Mild/Yes) * P(Normal/Yes) * P(Strong/Yes) *P(yes)\n",
    "# P(No/Overcast, Mild, Normal,Strong) = P(Overcast/No) * P(Mild/No) * P(Normal/No) * P(Strong/No) * P(no)\n",
    "\n",
    "pyes = py * poy * pmildyes * pnormalyes * pstrongyes\n",
    "pno = pn * pon * pmildno * pnormalno * pstrongno"
   ]
  },
  {
   "cell_type": "code",
   "execution_count": 19,
   "id": "828c92c8",
   "metadata": {
    "execution": {
     "iopub.execute_input": "2024-07-13T05:03:08.456450Z",
     "iopub.status.busy": "2024-07-13T05:03:08.456072Z",
     "iopub.status.idle": "2024-07-13T05:03:08.462205Z",
     "shell.execute_reply": "2024-07-13T05:03:08.460966Z"
    },
    "papermill": {
     "duration": 0.019162,
     "end_time": "2024-07-13T05:03:08.464810",
     "exception": false,
     "start_time": "2024-07-13T05:03:08.445648",
     "status": "completed"
    },
    "tags": []
   },
   "outputs": [
    {
     "name": "stdout",
     "output_type": "stream",
     "text": [
      "Probability of yes 0.02821869488536155\n",
      "Probability of no  0.0\n"
     ]
    }
   ],
   "source": [
    "print(\"Probability of yes\", pyes)\n",
    "print(\"Probability of no \", pno)"
   ]
  },
  {
   "cell_type": "code",
   "execution_count": null,
   "id": "91517927",
   "metadata": {
    "papermill": {
     "duration": 0.008668,
     "end_time": "2024-07-13T05:03:08.482585",
     "exception": false,
     "start_time": "2024-07-13T05:03:08.473917",
     "status": "completed"
    },
    "tags": []
   },
   "outputs": [],
   "source": []
  }
 ],
 "metadata": {
  "kaggle": {
   "accelerator": "none",
   "dataSources": [
    {
     "datasetId": 89775,
     "sourceId": 207354,
     "sourceType": "datasetVersion"
    }
   ],
   "dockerImageVersionId": 30746,
   "isGpuEnabled": false,
   "isInternetEnabled": false,
   "language": "python",
   "sourceType": "notebook"
  },
  "kernelspec": {
   "display_name": "Python 3",
   "language": "python",
   "name": "python3"
  },
  "language_info": {
   "codemirror_mode": {
    "name": "ipython",
    "version": 3
   },
   "file_extension": ".py",
   "mimetype": "text/x-python",
   "name": "python",
   "nbconvert_exporter": "python",
   "pygments_lexer": "ipython3",
   "version": "3.10.13"
  },
  "papermill": {
   "default_parameters": {},
   "duration": 5.324816,
   "end_time": "2024-07-13T05:03:09.013532",
   "environment_variables": {},
   "exception": null,
   "input_path": "__notebook__.ipynb",
   "output_path": "__notebook__.ipynb",
   "parameters": {},
   "start_time": "2024-07-13T05:03:03.688716",
   "version": "2.5.0"
  }
 },
 "nbformat": 4,
 "nbformat_minor": 5
}
