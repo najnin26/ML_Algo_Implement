{
 "cells": [
  {
   "cell_type": "code",
   "execution_count": 1,
   "id": "66865ea5",
   "metadata": {
    "_cell_guid": "b1076dfc-b9ad-4769-8c92-a6c4dae69d19",
    "_uuid": "8f2839f25d086af736a60e9eeb907d3b93b6e0e5",
    "execution": {
     "iopub.execute_input": "2024-07-12T04:31:57.904412Z",
     "iopub.status.busy": "2024-07-12T04:31:57.903385Z",
     "iopub.status.idle": "2024-07-12T04:32:00.503189Z",
     "shell.execute_reply": "2024-07-12T04:32:00.501999Z"
    },
    "papermill": {
     "duration": 2.609393,
     "end_time": "2024-07-12T04:32:00.506072",
     "exception": false,
     "start_time": "2024-07-12T04:31:57.896679",
     "status": "completed"
    },
    "tags": []
   },
   "outputs": [],
   "source": [
    "import pandas as pd\n",
    "import seaborn as sns"
   ]
  },
  {
   "cell_type": "code",
   "execution_count": 2,
   "id": "edc1fc34",
   "metadata": {
    "execution": {
     "iopub.execute_input": "2024-07-12T04:32:00.516767Z",
     "iopub.status.busy": "2024-07-12T04:32:00.516203Z",
     "iopub.status.idle": "2024-07-12T04:32:04.723498Z",
     "shell.execute_reply": "2024-07-12T04:32:04.721983Z"
    },
    "papermill": {
     "duration": 4.215863,
     "end_time": "2024-07-12T04:32:04.726353",
     "exception": false,
     "start_time": "2024-07-12T04:32:00.510490",
     "status": "completed"
    },
    "tags": []
   },
   "outputs": [],
   "source": [
    "df = pd.read_csv('/kaggle/input/train-data/train.csv')"
   ]
  },
  {
   "cell_type": "code",
   "execution_count": 3,
   "id": "e2fe419d",
   "metadata": {
    "execution": {
     "iopub.execute_input": "2024-07-12T04:32:04.736222Z",
     "iopub.status.busy": "2024-07-12T04:32:04.735849Z",
     "iopub.status.idle": "2024-07-12T04:32:04.768069Z",
     "shell.execute_reply": "2024-07-12T04:32:04.766779Z"
    },
    "papermill": {
     "duration": 0.040359,
     "end_time": "2024-07-12T04:32:04.770897",
     "exception": false,
     "start_time": "2024-07-12T04:32:04.730538",
     "status": "completed"
    },
    "tags": []
   },
   "outputs": [
    {
     "data": {
      "text/html": [
       "<div>\n",
       "<style scoped>\n",
       "    .dataframe tbody tr th:only-of-type {\n",
       "        vertical-align: middle;\n",
       "    }\n",
       "\n",
       "    .dataframe tbody tr th {\n",
       "        vertical-align: top;\n",
       "    }\n",
       "\n",
       "    .dataframe thead th {\n",
       "        text-align: right;\n",
       "    }\n",
       "</style>\n",
       "<table border=\"1\" class=\"dataframe\">\n",
       "  <thead>\n",
       "    <tr style=\"text-align: right;\">\n",
       "      <th></th>\n",
       "      <th>label</th>\n",
       "      <th>pixel0</th>\n",
       "      <th>pixel1</th>\n",
       "      <th>pixel2</th>\n",
       "      <th>pixel3</th>\n",
       "      <th>pixel4</th>\n",
       "      <th>pixel5</th>\n",
       "      <th>pixel6</th>\n",
       "      <th>pixel7</th>\n",
       "      <th>pixel8</th>\n",
       "      <th>...</th>\n",
       "      <th>pixel774</th>\n",
       "      <th>pixel775</th>\n",
       "      <th>pixel776</th>\n",
       "      <th>pixel777</th>\n",
       "      <th>pixel778</th>\n",
       "      <th>pixel779</th>\n",
       "      <th>pixel780</th>\n",
       "      <th>pixel781</th>\n",
       "      <th>pixel782</th>\n",
       "      <th>pixel783</th>\n",
       "    </tr>\n",
       "  </thead>\n",
       "  <tbody>\n",
       "    <tr>\n",
       "      <th>0</th>\n",
       "      <td>1</td>\n",
       "      <td>0</td>\n",
       "      <td>0</td>\n",
       "      <td>0</td>\n",
       "      <td>0</td>\n",
       "      <td>0</td>\n",
       "      <td>0</td>\n",
       "      <td>0</td>\n",
       "      <td>0</td>\n",
       "      <td>0</td>\n",
       "      <td>...</td>\n",
       "      <td>0</td>\n",
       "      <td>0</td>\n",
       "      <td>0</td>\n",
       "      <td>0</td>\n",
       "      <td>0</td>\n",
       "      <td>0</td>\n",
       "      <td>0</td>\n",
       "      <td>0</td>\n",
       "      <td>0</td>\n",
       "      <td>0</td>\n",
       "    </tr>\n",
       "    <tr>\n",
       "      <th>1</th>\n",
       "      <td>0</td>\n",
       "      <td>0</td>\n",
       "      <td>0</td>\n",
       "      <td>0</td>\n",
       "      <td>0</td>\n",
       "      <td>0</td>\n",
       "      <td>0</td>\n",
       "      <td>0</td>\n",
       "      <td>0</td>\n",
       "      <td>0</td>\n",
       "      <td>...</td>\n",
       "      <td>0</td>\n",
       "      <td>0</td>\n",
       "      <td>0</td>\n",
       "      <td>0</td>\n",
       "      <td>0</td>\n",
       "      <td>0</td>\n",
       "      <td>0</td>\n",
       "      <td>0</td>\n",
       "      <td>0</td>\n",
       "      <td>0</td>\n",
       "    </tr>\n",
       "    <tr>\n",
       "      <th>2</th>\n",
       "      <td>1</td>\n",
       "      <td>0</td>\n",
       "      <td>0</td>\n",
       "      <td>0</td>\n",
       "      <td>0</td>\n",
       "      <td>0</td>\n",
       "      <td>0</td>\n",
       "      <td>0</td>\n",
       "      <td>0</td>\n",
       "      <td>0</td>\n",
       "      <td>...</td>\n",
       "      <td>0</td>\n",
       "      <td>0</td>\n",
       "      <td>0</td>\n",
       "      <td>0</td>\n",
       "      <td>0</td>\n",
       "      <td>0</td>\n",
       "      <td>0</td>\n",
       "      <td>0</td>\n",
       "      <td>0</td>\n",
       "      <td>0</td>\n",
       "    </tr>\n",
       "    <tr>\n",
       "      <th>3</th>\n",
       "      <td>4</td>\n",
       "      <td>0</td>\n",
       "      <td>0</td>\n",
       "      <td>0</td>\n",
       "      <td>0</td>\n",
       "      <td>0</td>\n",
       "      <td>0</td>\n",
       "      <td>0</td>\n",
       "      <td>0</td>\n",
       "      <td>0</td>\n",
       "      <td>...</td>\n",
       "      <td>0</td>\n",
       "      <td>0</td>\n",
       "      <td>0</td>\n",
       "      <td>0</td>\n",
       "      <td>0</td>\n",
       "      <td>0</td>\n",
       "      <td>0</td>\n",
       "      <td>0</td>\n",
       "      <td>0</td>\n",
       "      <td>0</td>\n",
       "    </tr>\n",
       "    <tr>\n",
       "      <th>4</th>\n",
       "      <td>0</td>\n",
       "      <td>0</td>\n",
       "      <td>0</td>\n",
       "      <td>0</td>\n",
       "      <td>0</td>\n",
       "      <td>0</td>\n",
       "      <td>0</td>\n",
       "      <td>0</td>\n",
       "      <td>0</td>\n",
       "      <td>0</td>\n",
       "      <td>...</td>\n",
       "      <td>0</td>\n",
       "      <td>0</td>\n",
       "      <td>0</td>\n",
       "      <td>0</td>\n",
       "      <td>0</td>\n",
       "      <td>0</td>\n",
       "      <td>0</td>\n",
       "      <td>0</td>\n",
       "      <td>0</td>\n",
       "      <td>0</td>\n",
       "    </tr>\n",
       "  </tbody>\n",
       "</table>\n",
       "<p>5 rows × 785 columns</p>\n",
       "</div>"
      ],
      "text/plain": [
       "   label  pixel0  pixel1  pixel2  pixel3  pixel4  pixel5  pixel6  pixel7  \\\n",
       "0      1       0       0       0       0       0       0       0       0   \n",
       "1      0       0       0       0       0       0       0       0       0   \n",
       "2      1       0       0       0       0       0       0       0       0   \n",
       "3      4       0       0       0       0       0       0       0       0   \n",
       "4      0       0       0       0       0       0       0       0       0   \n",
       "\n",
       "   pixel8  ...  pixel774  pixel775  pixel776  pixel777  pixel778  pixel779  \\\n",
       "0       0  ...         0         0         0         0         0         0   \n",
       "1       0  ...         0         0         0         0         0         0   \n",
       "2       0  ...         0         0         0         0         0         0   \n",
       "3       0  ...         0         0         0         0         0         0   \n",
       "4       0  ...         0         0         0         0         0         0   \n",
       "\n",
       "   pixel780  pixel781  pixel782  pixel783  \n",
       "0         0         0         0         0  \n",
       "1         0         0         0         0  \n",
       "2         0         0         0         0  \n",
       "3         0         0         0         0  \n",
       "4         0         0         0         0  \n",
       "\n",
       "[5 rows x 785 columns]"
      ]
     },
     "execution_count": 3,
     "metadata": {},
     "output_type": "execute_result"
    }
   ],
   "source": [
    "df.head()"
   ]
  },
  {
   "cell_type": "code",
   "execution_count": 4,
   "id": "ddab28c0",
   "metadata": {
    "execution": {
     "iopub.execute_input": "2024-07-12T04:32:04.781648Z",
     "iopub.status.busy": "2024-07-12T04:32:04.781221Z",
     "iopub.status.idle": "2024-07-12T04:32:04.787261Z",
     "shell.execute_reply": "2024-07-12T04:32:04.786037Z"
    },
    "papermill": {
     "duration": 0.014715,
     "end_time": "2024-07-12T04:32:04.790141",
     "exception": false,
     "start_time": "2024-07-12T04:32:04.775426",
     "status": "completed"
    },
    "tags": []
   },
   "outputs": [],
   "source": [
    "X = df.iloc[:,1:]\n",
    "y = df.iloc[:,0]"
   ]
  },
  {
   "cell_type": "code",
   "execution_count": 5,
   "id": "47f57ea3",
   "metadata": {
    "execution": {
     "iopub.execute_input": "2024-07-12T04:32:04.801666Z",
     "iopub.status.busy": "2024-07-12T04:32:04.801212Z",
     "iopub.status.idle": "2024-07-12T04:32:05.433524Z",
     "shell.execute_reply": "2024-07-12T04:32:05.432398Z"
    },
    "papermill": {
     "duration": 0.640978,
     "end_time": "2024-07-12T04:32:05.436236",
     "exception": false,
     "start_time": "2024-07-12T04:32:04.795258",
     "status": "completed"
    },
    "tags": []
   },
   "outputs": [
    {
     "data": {
      "text/plain": [
       "<Axes: >"
      ]
     },
     "execution_count": 5,
     "metadata": {},
     "output_type": "execute_result"
    },
    {
     "data": {
      "image/png": "[encoded data removed]",
      "text/plain": [
       "<Figure size 640x480 with 2 Axes>"
      ]
     },
     "metadata": {},
     "output_type": "display_data"
    }
   ],
   "source": [
    "sns.heatmap(X.iloc[5].values.reshape(28,28))"
   ]
  },
  {
   "cell_type": "code",
   "execution_count": 6,
   "id": "a99591ea",
   "metadata": {
    "execution": {
     "iopub.execute_input": "2024-07-12T04:32:05.448505Z",
     "iopub.status.busy": "2024-07-12T04:32:05.448015Z",
     "iopub.status.idle": "2024-07-12T04:32:43.092031Z",
     "shell.execute_reply": "2024-07-12T04:32:43.090906Z"
    },
    "papermill": {
     "duration": 37.657424,
     "end_time": "2024-07-12T04:32:43.098826",
     "exception": false,
     "start_time": "2024-07-12T04:32:05.441402",
     "status": "completed"
    },
    "tags": []
   },
   "outputs": [
    {
     "data": {
      "text/html": [
       "<style>#sk-container-id-1 {color: black;background-color: white;}#sk-container-id-1 pre{padding: 0;}#sk-container-id-1 div.sk-toggleable {background-color: white;}#sk-container-id-1 label.sk-toggleable__label {cursor: pointer;display: block;width: 100%;margin-bottom: 0;padding: 0.3em;box-sizing: border-box;text-align: center;}#sk-container-id-1 label.sk-toggleable__label-arrow:before {content: \"▸\";float: left;margin-right: 0.25em;color: #696969;}#sk-container-id-1 label.sk-toggleable__label-arrow:hover:before {color: black;}#sk-container-id-1 div.sk-estimator:hover label.sk-toggleable__label-arrow:before {color: black;}#sk-container-id-1 div.sk-toggleable__content {max-height: 0;max-width: 0;overflow: hidden;text-align: left;background-color: #f0f8ff;}#sk-container-id-1 div.sk-toggleable__content pre {margin: 0.2em;color: black;border-radius: 0.25em;background-color: #f0f8ff;}#sk-container-id-1 input.sk-toggleable__control:checked~div.sk-toggleable__content {max-height: 200px;max-width: 100%;overflow: auto;}#sk-container-id-1 input.sk-toggleable__control:checked~label.sk-toggleable__label-arrow:before {content: \"▾\";}#sk-container-id-1 div.sk-estimator input.sk-toggleable__control:checked~label.sk-toggleable__label {background-color: #d4ebff;}#sk-container-id-1 div.sk-label input.sk-toggleable__control:checked~label.sk-toggleable__label {background-color: #d4ebff;}#sk-container-id-1 input.sk-hidden--visually {border: 0;clip: rect(1px 1px 1px 1px);clip: rect(1px, 1px, 1px, 1px);height: 1px;margin: -1px;overflow: hidden;padding: 0;position: absolute;width: 1px;}#sk-container-id-1 div.sk-estimator {font-family: monospace;background-color: #f0f8ff;border: 1px dotted black;border-radius: 0.25em;box-sizing: border-box;margin-bottom: 0.5em;}#sk-container-id-1 div.sk-estimator:hover {background-color: #d4ebff;}#sk-container-id-1 div.sk-parallel-item::after {content: \"\";width: 100%;border-bottom: 1px solid gray;flex-grow: 1;}#sk-container-id-1 div.sk-label:hover label.sk-toggleable__label {background-color: #d4ebff;}#sk-container-id-1 div.sk-serial::before {content: \"\";position: absolute;border-left: 1px solid gray;box-sizing: border-box;top: 0;bottom: 0;left: 50%;z-index: 0;}#sk-container-id-1 div.sk-serial {display: flex;flex-direction: column;align-items: center;background-color: white;padding-right: 0.2em;padding-left: 0.2em;position: relative;}#sk-container-id-1 div.sk-item {position: relative;z-index: 1;}#sk-container-id-1 div.sk-parallel {display: flex;align-items: stretch;justify-content: center;background-color: white;position: relative;}#sk-container-id-1 div.sk-item::before, #sk-container-id-1 div.sk-parallel-item::before {content: \"\";position: absolute;border-left: 1px solid gray;box-sizing: border-box;top: 0;bottom: 0;left: 50%;z-index: -1;}#sk-container-id-1 div.sk-parallel-item {display: flex;flex-direction: column;z-index: 1;position: relative;background-color: white;}#sk-container-id-1 div.sk-parallel-item:first-child::after {align-self: flex-end;width: 50%;}#sk-container-id-1 div.sk-parallel-item:last-child::after {align-self: flex-start;width: 50%;}#sk-container-id-1 div.sk-parallel-item:only-child::after {width: 0;}#sk-container-id-1 div.sk-dashed-wrapped {border: 1px dashed gray;margin: 0 0.4em 0.5em 0.4em;box-sizing: border-box;padding-bottom: 0.4em;background-color: white;}#sk-container-id-1 div.sk-label label {font-family: monospace;font-weight: bold;display: inline-block;line-height: 1.2em;}#sk-container-id-1 div.sk-label-container {text-align: center;}#sk-container-id-1 div.sk-container {/* jupyter's `normalize.less` sets `[hidden] { display: none; }` but bootstrap.min.css set `[hidden] { display: none !important; }` so we also need the `!important` here to be able to override the default hidden behavior on the sphinx rendered scikit-learn.org. See: https://github.com/scikit-learn/scikit-learn/issues/21755 */display: inline-block !important;position: relative;}#sk-container-id-1 div.sk-text-repr-fallback {display: none;}</style><div id=\"sk-container-id-1\" class=\"sk-top-container\"><div class=\"sk-text-repr-fallback\"><pre>RandomForestClassifier()</pre><b>In a Jupyter environment, please rerun this cell to show the HTML representation or trust the notebook. <br />On GitHub, the HTML representation is unable to render, please try loading this page with nbviewer.org.</b></div><div class=\"sk-container\" hidden><div class=\"sk-item\"><div class=\"sk-estimator sk-toggleable\"><input class=\"sk-toggleable__control sk-hidden--visually\" id=\"sk-estimator-id-1\" type=\"checkbox\" checked><label for=\"sk-estimator-id-1\" class=\"sk-toggleable__label sk-toggleable__label-arrow\">RandomForestClassifier</label><div class=\"sk-toggleable__content\"><pre>RandomForestClassifier()</pre></div></div></div></div></div>"
      ],
      "text/plain": [
       "RandomForestClassifier()"
      ]
     },
     "execution_count": 6,
     "metadata": {},
     "output_type": "execute_result"
    }
   ],
   "source": [
    "from sklearn.ensemble import RandomForestClassifier\n",
    "\n",
    "rf = RandomForestClassifier()\n",
    "\n",
    "rf.fit(X,y)"
   ]
  },
  {
   "cell_type": "code",
   "execution_count": 7,
   "id": "768d9ff1",
   "metadata": {
    "execution": {
     "iopub.execute_input": "2024-07-12T04:32:43.111504Z",
     "iopub.status.busy": "2024-07-12T04:32:43.110734Z",
     "iopub.status.idle": "2024-07-12T04:32:43.146222Z",
     "shell.execute_reply": "2024-07-12T04:32:43.145082Z"
    },
    "papermill": {
     "duration": 0.04483,
     "end_time": "2024-07-12T04:32:43.148968",
     "exception": false,
     "start_time": "2024-07-12T04:32:43.104138",
     "status": "completed"
    },
    "tags": []
   },
   "outputs": [
    {
     "data": {
      "text/plain": [
       "array([0.00000000e+00, 0.00000000e+00, 0.00000000e+00, 0.00000000e+00,\n",
       "       0.00000000e+00, 0.00000000e+00, 0.00000000e+00, 0.00000000e+00,\n",
       "       0.00000000e+00, 0.00000000e+00, 0.00000000e+00, 0.00000000e+00,\n",
       "       0.00000000e+00, 0.00000000e+00, 0.00000000e+00, 1.01527634e-06,\n",
       "       0.00000000e+00, 0.00000000e+00, 0.00000000e+00, 0.00000000e+00,\n",
       "       0.00000000e+00, 0.00000000e+00, 0.00000000e+00, 0.00000000e+00,\n",
       "       0.00000000e+00, 0.00000000e+00, 0.00000000e+00, 0.00000000e+00,\n",
       "       0.00000000e+00, 0.00000000e+00, 0.00000000e+00, 0.00000000e+00,\n",
       "       0.00000000e+00, 0.00000000e+00, 5.22931291e-07, 0.00000000e+00,\n",
       "       6.66882146e-06, 3.57959340e-06, 4.96736590e-07, 3.74219949e-06,\n",
       "       1.98658312e-06, 1.35458140e-06, 2.41966327e-06, 3.95615804e-06,\n",
       "       2.62654371e-06, 4.29326632e-07, 1.03501439e-06, 1.51880342e-06,\n",
       "       1.01922767e-06, 0.00000000e+00, 3.52887470e-07, 0.00000000e+00,\n",
       "       0.00000000e+00, 0.00000000e+00, 0.00000000e+00, 0.00000000e+00,\n",
       "       0.00000000e+00, 0.00000000e+00, 0.00000000e+00, 0.00000000e+00,\n",
       "       7.93924862e-07, 0.00000000e+00, 1.55187007e-06, 1.09935026e-05,\n",
       "       1.28689463e-05, 1.38099697e-05, 6.70358739e-05, 9.63646565e-05,\n",
       "       1.37804245e-04, 2.06937644e-04, 1.58505567e-04, 1.27433171e-04,\n",
       "       2.09059049e-04, 2.11672584e-04, 6.55326064e-05, 7.91819955e-05,\n",
       "       1.74272046e-05, 1.72844735e-05, 4.96553544e-06, 1.47563573e-06,\n",
       "       5.09108322e-07, 0.00000000e+00, 0.00000000e+00, 0.00000000e+00,\n",
       "       0.00000000e+00, 0.00000000e+00, 0.00000000e+00, 4.76309663e-07,\n",
       "       1.00349689e-06, 3.76509627e-06, 1.10701962e-05, 2.79296391e-05,\n",
       "       5.42941227e-05, 1.74202925e-04, 2.38816100e-04, 6.04495270e-04,\n",
       "       6.38956426e-04, 7.35929253e-04, 1.07156019e-03, 2.08837171e-03,\n",
       "       1.62145080e-03, 3.08656593e-03, 1.00855516e-03, 6.19755434e-04,\n",
       "       3.98407146e-04, 1.38355195e-04, 7.33555876e-05, 2.80336298e-05,\n",
       "       8.13171400e-06, 6.49560301e-06, 0.00000000e+00, 0.00000000e+00,\n",
       "       0.00000000e+00, 0.00000000e+00, 0.00000000e+00, 0.00000000e+00,\n",
       "       2.53699499e-06, 8.48219100e-06, 3.78359501e-05, 8.15700519e-05,\n",
       "       1.89925781e-04, 4.08066826e-04, 5.93623589e-04, 1.24778736e-03,\n",
       "       1.26499142e-03, 1.49523335e-03, 2.06902744e-03, 2.34557624e-03,\n",
       "       1.48953105e-03, 1.20301584e-03, 7.28175056e-04, 7.15316162e-04,\n",
       "       3.34720265e-04, 2.06056920e-04, 1.34619299e-04, 8.86505163e-05,\n",
       "       2.64781757e-05, 1.17071355e-05, 0.00000000e+00, 0.00000000e+00,\n",
       "       0.00000000e+00, 0.00000000e+00, 0.00000000e+00, 1.52287311e-06,\n",
       "       1.51325939e-05, 4.42546339e-05, 1.09243584e-04, 2.63002920e-04,\n",
       "       4.30596060e-04, 9.55720123e-04, 2.47064412e-03, 2.48181246e-03,\n",
       "       3.03741995e-03, 4.88581062e-03, 6.25286410e-03, 7.63597685e-03,\n",
       "       4.08000100e-03, 3.60005763e-03, 2.13607646e-03, 1.38838005e-03,\n",
       "       7.03999566e-04, 8.91591829e-04, 4.21588838e-04, 3.64102643e-04,\n",
       "       1.34677794e-04, 1.87632085e-05, 8.63910672e-07, 0.00000000e+00,\n",
       "       0.00000000e+00, 0.00000000e+00, 0.00000000e+00, 6.76614886e-06,\n",
       "       3.51281183e-05, 9.03676574e-05, 2.68537010e-04, 6.01377902e-04,\n",
       "       9.25057114e-04, 1.53395594e-03, 2.56962914e-03, 2.72819598e-03,\n",
       "       2.32496011e-03, 3.46902277e-03, 3.44471150e-03, 4.29384774e-03,\n",
       "       3.31832994e-03, 2.88018859e-03, 1.84777412e-03, 2.06168283e-03,\n",
       "       1.58590339e-03, 1.33535298e-03, 1.34261791e-03, 1.12756791e-03,\n",
       "       2.94876328e-04, 3.51196830e-05, 9.20089641e-06, 1.39681186e-06,\n",
       "       0.00000000e+00, 0.00000000e+00, 3.35570843e-06, 1.73147922e-05,\n",
       "       5.69120423e-05, 1.70716554e-04, 3.08555595e-04, 6.26763902e-04,\n",
       "       1.01370525e-03, 2.20951948e-03, 2.07562600e-03, 2.32981212e-03,\n",
       "       2.63705114e-03, 4.06296113e-03, 5.85169336e-03, 7.40284950e-03,\n",
       "       4.43311555e-03, 2.82147202e-03, 2.13011114e-03, 2.05529672e-03,\n",
       "       1.72895075e-03, 1.50942444e-03, 1.38571075e-03, 9.75176448e-04,\n",
       "       7.73176973e-04, 1.00643408e-04, 6.42397605e-06, 3.67205682e-06,\n",
       "       1.44530676e-06, 0.00000000e+00, 4.79796701e-06, 2.86976361e-05,\n",
       "       1.00963035e-04, 1.75778971e-04, 3.84079256e-04, 1.03256762e-03,\n",
       "       1.04996603e-03, 1.71230201e-03, 2.83314391e-03, 3.24332503e-03,\n",
       "       3.45337184e-03, 4.39540999e-03, 4.69627453e-03, 5.80399391e-03,\n",
       "       3.93754910e-03, 3.01374015e-03, 3.56781338e-03, 2.80336663e-03,\n",
       "       1.76890559e-03, 1.71406623e-03, 1.31005553e-03, 9.85025025e-04,\n",
       "       6.93778477e-04, 1.40337761e-04, 2.03442920e-05, 1.69294080e-06,\n",
       "       3.96962431e-07, 1.00093127e-06, 6.07132626e-06, 2.09998315e-05,\n",
       "       1.01211772e-04, 2.73356654e-04, 3.51501032e-04, 1.02056665e-03,\n",
       "       1.40711804e-03, 1.71357257e-03, 3.75193520e-03, 5.86608740e-03,\n",
       "       3.49362790e-03, 3.24278226e-03, 3.64189642e-03, 4.57982967e-03,\n",
       "       3.70115214e-03, 3.19687131e-03, 3.67616475e-03, 3.16937474e-03,\n",
       "       2.61500088e-03, 1.72461394e-03, 9.87097968e-04, 7.04159864e-04,\n",
       "       3.45716052e-04, 8.27679821e-05, 1.71399004e-05, 2.04188661e-06,\n",
       "       2.64667867e-07, 1.96804247e-06, 8.44258701e-06, 3.54499785e-05,\n",
       "       1.45101163e-04, 1.94156860e-04, 4.14403065e-04, 1.05201818e-03,\n",
       "       1.27222902e-03, 3.67838730e-03, 4.45812540e-03, 5.51862672e-03,\n",
       "       3.41220250e-03, 2.83271925e-03, 2.79988975e-03, 3.51802727e-03,\n",
       "       3.81182267e-03, 3.96236272e-03, 4.62266989e-03, 2.47008015e-03,\n",
       "       3.04651698e-03, 2.30747597e-03, 1.02903327e-03, 6.73577959e-04,\n",
       "       3.01799694e-04, 7.04096882e-05, 9.39743554e-06, 9.83550292e-07,\n",
       "       0.00000000e+00, 0.00000000e+00, 4.57285421e-06, 3.08761707e-05,\n",
       "       6.80956553e-05, 2.40771990e-04, 6.93429783e-04, 1.57847261e-03,\n",
       "       2.41696145e-03, 4.23399944e-03, 5.34050324e-03, 4.67036421e-03,\n",
       "       4.00513585e-03, 3.34546234e-03, 4.16646539e-03, 4.36302004e-03,\n",
       "       3.60123690e-03, 3.25313294e-03, 4.58592752e-03, 3.74028640e-03,\n",
       "       2.18983920e-03, 2.50971399e-03, 1.10886051e-03, 6.04056204e-04,\n",
       "       1.32770259e-04, 3.05054131e-05, 1.31904093e-05, 5.18743013e-07,\n",
       "       0.00000000e+00, 0.00000000e+00, 3.00703199e-06, 1.64796904e-05,\n",
       "       1.15360881e-04, 3.52699119e-04, 6.53302713e-04, 1.53572572e-03,\n",
       "       1.79665919e-03, 5.04098406e-03, 7.32807141e-03, 6.25552030e-03,\n",
       "       4.59457253e-03, 4.46937460e-03, 5.56906139e-03, 5.06409921e-03,\n",
       "       3.75046135e-03, 4.23883167e-03, 3.52086232e-03, 2.33419883e-03,\n",
       "       1.71181692e-03, 2.18735594e-03, 1.51677253e-03, 1.16703817e-03,\n",
       "       1.30227774e-04, 2.73507127e-05, 8.52782636e-06, 1.81427018e-06,\n",
       "       0.00000000e+00, 0.00000000e+00, 4.03985100e-06, 1.89136760e-05,\n",
       "       7.62163730e-05, 3.99921120e-04, 1.09236656e-03, 1.87098566e-03,\n",
       "       2.33966716e-03, 4.71726138e-03, 7.11929800e-03, 5.00356665e-03,\n",
       "       5.04736413e-03, 7.68114401e-03, 1.12741697e-02, 4.77675763e-03,\n",
       "       4.30235454e-03, 5.09368124e-03, 4.28357546e-03, 1.69178686e-03,\n",
       "       1.15339971e-03, 2.06735793e-03, 2.74962933e-03, 6.72360746e-04,\n",
       "       1.52854593e-04, 3.77065639e-05, 7.49589669e-06, 0.00000000e+00,\n",
       "       0.00000000e+00, 0.00000000e+00, 4.96471828e-07, 1.09756852e-05,\n",
       "       6.69515339e-05, 4.68332690e-04, 8.37053070e-04, 2.65887076e-03,\n",
       "       3.58837918e-03, 4.57280026e-03, 4.13060303e-03, 4.25327910e-03,\n",
       "       5.18468129e-03, 7.61633468e-03, 8.25992946e-03, 3.40974591e-03,\n",
       "       3.88655068e-03, 7.94325225e-03, 3.65949552e-03, 1.33293057e-03,\n",
       "       1.29538976e-03, 2.28171362e-03, 8.20517115e-04, 5.71075568e-04,\n",
       "       1.44017279e-04, 3.21567386e-05, 7.52614024e-06, 0.00000000e+00,\n",
       "       0.00000000e+00, 0.00000000e+00, 1.98179055e-06, 1.54599335e-05,\n",
       "       7.44977657e-05, 3.92497734e-04, 1.10665114e-03, 3.19983260e-03,\n",
       "       6.26149856e-03, 4.98116964e-03, 4.77049320e-03, 3.80819730e-03,\n",
       "       4.92199649e-03, 5.76320637e-03, 8.16905929e-03, 3.40160499e-03,\n",
       "       4.11066393e-03, 6.83362730e-03, 3.38290352e-03, 1.81220787e-03,\n",
       "       1.82815241e-03, 1.83176492e-03, 1.16068258e-03, 3.78260041e-04,\n",
       "       1.45480727e-04, 3.58054108e-05, 1.26200070e-05, 8.77475679e-07,\n",
       "       0.00000000e+00, 0.00000000e+00, 4.87998293e-06, 2.66284083e-05,\n",
       "       7.88723403e-05, 3.82795791e-04, 1.60158234e-03, 3.01839432e-03,\n",
       "       3.62099917e-03, 4.43780583e-03, 5.25825320e-03, 3.48142230e-03,\n",
       "       5.83517792e-03, 7.32408732e-03, 4.86717357e-03, 3.14154042e-03,\n",
       "       3.19874566e-03, 5.07193005e-03, 2.79618743e-03, 1.80858931e-03,\n",
       "       1.22655766e-03, 1.22661484e-03, 1.22805966e-03, 4.04819196e-04,\n",
       "       1.78260666e-04, 4.80506096e-05, 2.04736619e-05, 5.21659404e-06,\n",
       "       0.00000000e+00, 0.00000000e+00, 4.65772378e-06, 4.09484879e-05,\n",
       "       1.21542244e-04, 4.93109611e-04, 1.17356334e-03, 2.00919211e-03,\n",
       "       3.37853439e-03, 4.42690611e-03, 5.29962787e-03, 5.86353735e-03,\n",
       "       6.74379142e-03, 6.95516808e-03, 3.47417788e-03, 2.01248493e-03,\n",
       "       1.99982995e-03, 2.64946663e-03, 2.55812656e-03, 2.21844464e-03,\n",
       "       1.51814881e-03, 8.53477251e-04, 6.39591484e-04, 2.88271993e-04,\n",
       "       1.63014395e-04, 7.64624871e-05, 2.20325096e-05, 7.40389635e-06,\n",
       "       0.00000000e+00, 1.54124161e-06, 1.25147455e-05, 5.30262570e-05,\n",
       "       1.53395634e-04, 5.00667659e-04, 1.55213364e-03, 1.96442655e-03,\n",
       "       2.80165688e-03, 3.21019917e-03, 5.80528096e-03, 6.19991731e-03,\n",
       "       4.08112967e-03, 3.67996545e-03, 3.18457664e-03, 1.77724122e-03,\n",
       "       1.40428180e-03, 1.74562597e-03, 2.93299279e-03, 1.58315830e-03,\n",
       "       1.52884787e-03, 8.51785568e-04, 7.19678192e-04, 4.14093203e-04,\n",
       "       1.64696215e-04, 4.48769654e-05, 5.27469076e-06, 2.91993571e-06,\n",
       "       0.00000000e+00, 9.98456290e-07, 6.30398712e-06, 5.38461510e-05,\n",
       "       2.28223365e-04, 7.57721107e-04, 1.30780096e-03, 2.35366165e-03,\n",
       "       4.71723409e-03, 4.41019167e-03, 4.78392062e-03, 5.48951520e-03,\n",
       "       3.19118742e-03, 2.40100917e-03, 1.96204623e-03, 1.28464984e-03,\n",
       "       1.59800164e-03, 3.23520037e-03, 2.28210166e-03, 2.34455336e-03,\n",
       "       1.21486859e-03, 8.49288860e-04, 6.50846775e-04, 4.79323697e-04,\n",
       "       1.73615033e-04, 3.44987648e-05, 8.36297498e-06, 0.00000000e+00,\n",
       "       0.00000000e+00, 0.00000000e+00, 8.87852557e-06, 7.41437021e-05,\n",
       "       2.76719692e-04, 5.33331638e-04, 1.37426717e-03, 3.32002807e-03,\n",
       "       5.01437470e-03, 6.33351645e-03, 4.79096478e-03, 3.43602519e-03,\n",
       "       3.63588986e-03, 2.11426560e-03, 2.16841973e-03, 1.55237353e-03,\n",
       "       1.41453519e-03, 2.20885548e-03, 2.39973670e-03, 1.91111954e-03,\n",
       "       1.74719625e-03, 9.64129274e-04, 5.84529999e-04, 3.27625248e-04,\n",
       "       9.98036053e-05, 1.82283145e-05, 1.81984800e-06, 0.00000000e+00,\n",
       "       0.00000000e+00, 0.00000000e+00, 5.77503467e-06, 6.39589591e-05,\n",
       "       1.67821744e-04, 5.39220380e-04, 1.08126891e-03, 2.94428704e-03,\n",
       "       4.87820587e-03, 4.84754373e-03, 2.49101741e-03, 1.51503160e-03,\n",
       "       1.75916884e-03, 1.26426503e-03, 1.40764268e-03, 1.23227887e-03,\n",
       "       1.47232563e-03, 1.36216451e-03, 1.27755270e-03, 1.17178424e-03,\n",
       "       1.12897220e-03, 5.82776925e-04, 3.86618948e-04, 1.45042132e-04,\n",
       "       5.15512593e-05, 5.54834640e-06, 2.55001057e-06, 0.00000000e+00,\n",
       "       0.00000000e+00, 0.00000000e+00, 3.94950545e-06, 2.33791260e-05,\n",
       "       8.06471460e-05, 3.18707064e-04, 6.12009476e-04, 1.69972958e-03,\n",
       "       2.28492476e-03, 2.53869448e-03, 3.30021069e-03, 2.11996925e-03,\n",
       "       1.41183128e-03, 1.51207933e-03, 1.88049878e-03, 1.58717866e-03,\n",
       "       1.10709012e-03, 9.37034575e-04, 8.93409437e-04, 6.04518142e-04,\n",
       "       6.24355200e-04, 2.93262609e-04, 1.36394728e-04, 5.14396588e-05,\n",
       "       1.83539206e-05, 6.93814202e-06, 1.40486714e-06, 0.00000000e+00,\n",
       "       0.00000000e+00, 0.00000000e+00, 3.02303184e-06, 1.84212421e-05,\n",
       "       6.33019688e-05, 1.36502805e-04, 3.92128657e-04, 7.20397803e-04,\n",
       "       1.32434304e-03, 1.94166697e-03, 3.42125491e-03, 4.30334645e-03,\n",
       "       5.64197429e-03, 4.35347788e-03, 3.70479453e-03, 2.65084734e-03,\n",
       "       1.49856348e-03, 8.17116481e-04, 5.74667432e-04, 4.18580066e-04,\n",
       "       3.15327392e-04, 1.25414310e-04, 7.37683717e-05, 3.54697401e-05,\n",
       "       1.56948552e-05, 8.23969624e-06, 9.24750385e-07, 0.00000000e+00,\n",
       "       0.00000000e+00, 0.00000000e+00, 2.89530897e-06, 8.93305730e-06,\n",
       "       3.86764324e-05, 1.28366789e-04, 2.11139345e-04, 3.50963052e-04,\n",
       "       6.36189155e-04, 7.30799691e-04, 1.07448417e-03, 1.29741264e-03,\n",
       "       1.79704683e-03, 1.46647472e-03, 1.34044602e-03, 7.07884677e-04,\n",
       "       6.85043455e-04, 5.43867329e-04, 2.98041901e-04, 2.32792309e-04,\n",
       "       1.48937374e-04, 8.87663080e-05, 6.47342066e-05, 2.24509068e-05,\n",
       "       3.43941821e-06, 1.97186467e-06, 1.17616468e-06, 0.00000000e+00,\n",
       "       0.00000000e+00, 0.00000000e+00, 0.00000000e+00, 0.00000000e+00,\n",
       "       1.72602491e-05, 4.68636484e-05, 8.38560037e-05, 3.60570575e-04,\n",
       "       4.30584787e-04, 8.71913204e-04, 9.41584285e-04, 1.05099168e-03,\n",
       "       1.30366301e-03, 4.44173639e-04, 6.68752589e-04, 7.04015041e-04,\n",
       "       4.90996352e-04, 4.57104474e-04, 3.65166530e-04, 1.97919910e-04,\n",
       "       7.79814050e-05, 6.47041127e-05, 1.88045322e-05, 1.01204026e-05,\n",
       "       3.17711166e-06, 0.00000000e+00, 4.39652743e-07, 0.00000000e+00,\n",
       "       0.00000000e+00, 0.00000000e+00, 0.00000000e+00, 0.00000000e+00,\n",
       "       1.07274194e-05, 1.10677793e-05, 1.40187795e-05, 1.56910008e-05,\n",
       "       8.32346985e-05, 1.43914661e-04, 9.34664526e-05, 1.51404436e-04,\n",
       "       2.18438347e-04, 3.02515226e-04, 1.58013668e-04, 1.70151795e-04,\n",
       "       1.43082585e-04, 9.91975242e-05, 5.20712448e-05, 2.68739347e-05,\n",
       "       1.81157511e-05, 1.37759938e-05, 8.88330486e-06, 3.83061172e-06,\n",
       "       1.00653114e-06, 0.00000000e+00, 0.00000000e+00, 0.00000000e+00,\n",
       "       0.00000000e+00, 0.00000000e+00, 0.00000000e+00, 0.00000000e+00,\n",
       "       0.00000000e+00, 0.00000000e+00, 4.71012845e-07, 1.42312549e-06,\n",
       "       1.51758165e-06, 1.91435156e-06, 2.07296064e-06, 3.95522205e-06,\n",
       "       1.44817536e-06, 2.96105272e-06, 4.66749674e-06, 2.39987051e-06,\n",
       "       1.39371671e-06, 2.74456185e-06, 1.99251124e-06, 4.39347493e-06,\n",
       "       2.35110393e-06, 3.77270220e-06, 1.56605752e-06, 0.00000000e+00,\n",
       "       0.00000000e+00, 0.00000000e+00, 0.00000000e+00, 0.00000000e+00])"
      ]
     },
     "execution_count": 7,
     "metadata": {},
     "output_type": "execute_result"
    }
   ],
   "source": [
    "rf.feature_importances_"
   ]
  },
  {
   "cell_type": "code",
   "execution_count": 8,
   "id": "48073d4d",
   "metadata": {
    "execution": {
     "iopub.execute_input": "2024-07-12T04:32:43.162181Z",
     "iopub.status.busy": "2024-07-12T04:32:43.161776Z",
     "iopub.status.idle": "2024-07-12T04:32:43.186309Z",
     "shell.execute_reply": "2024-07-12T04:32:43.185190Z"
    },
    "papermill": {
     "duration": 0.033981,
     "end_time": "2024-07-12T04:32:43.188729",
     "exception": false,
     "start_time": "2024-07-12T04:32:43.154748",
     "status": "completed"
    },
    "tags": []
   },
   "outputs": [
    {
     "data": {
      "text/plain": [
       "(784,)"
      ]
     },
     "execution_count": 8,
     "metadata": {},
     "output_type": "execute_result"
    }
   ],
   "source": [
    "rf.feature_importances_.shape"
   ]
  },
  {
   "cell_type": "code",
   "execution_count": 9,
   "id": "e766ad86",
   "metadata": {
    "execution": {
     "iopub.execute_input": "2024-07-12T04:32:43.202649Z",
     "iopub.status.busy": "2024-07-12T04:32:43.202207Z",
     "iopub.status.idle": "2024-07-12T04:32:43.737211Z",
     "shell.execute_reply": "2024-07-12T04:32:43.736032Z"
    },
    "papermill": {
     "duration": 0.545045,
     "end_time": "2024-07-12T04:32:43.739897",
     "exception": false,
     "start_time": "2024-07-12T04:32:43.194852",
     "status": "completed"
    },
    "tags": []
   },
   "outputs": [
    {
     "data": {
      "text/plain": [
       "<Axes: >"
      ]
     },
     "execution_count": 9,
     "metadata": {},
     "output_type": "execute_result"
    },
    {
     "data": {
      "image/png": "[encoded data removed]",
      "text/plain": [
       "<Figure size 640x480 with 2 Axes>"
      ]
     },
     "metadata": {},
     "output_type": "display_data"
    }
   ],
   "source": [
    "sns.heatmap(rf.feature_importances_.reshape(28,28))"
   ]
  },
  {
   "cell_type": "code",
   "execution_count": null,
   "id": "1fe28cf3",
   "metadata": {
    "papermill": {
     "duration": 0.008172,
     "end_time": "2024-07-12T04:32:43.755059",
     "exception": false,
     "start_time": "2024-07-12T04:32:43.746887",
     "status": "completed"
    },
    "tags": []
   },
   "outputs": [],
   "source": []
  }
 ],
 "metadata": {
  "kaggle": {
   "accelerator": "none",
   "dataSources": [
    {
     "datasetId": 5373506,
     "sourceId": 8932177,
     "sourceType": "datasetVersion"
    }
   ],
   "dockerImageVersionId": 30746,
   "isGpuEnabled": false,
   "isInternetEnabled": false,
   "language": "python",
   "sourceType": "notebook"
  },
  "kernelspec": {
   "display_name": "Python 3",
   "language": "python",
   "name": "python3"
  },
  "language_info": {
   "codemirror_mode": {
    "name": "ipython",
    "version": 3
   },
   "file_extension": ".py",
   "mimetype": "text/x-python",
   "name": "python",
   "nbconvert_exporter": "python",
   "pygments_lexer": "ipython3",
   "version": "3.10.13"
  },
  "papermill": {
   "default_parameters": {},
   "duration": 49.806807,
   "end_time": "2024-07-12T04:32:44.484510",
   "environment_variables": {},
   "exception": null,
   "input_path": "__notebook__.ipynb",
   "output_path": "__notebook__.ipynb",
   "parameters": {},
   "start_time": "2024-07-12T04:31:54.677703",
   "version": "2.5.0"
  }
 },
 "nbformat": 4,
 "nbformat_minor": 5
}
