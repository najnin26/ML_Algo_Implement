{
 "cells": [
  {
   "cell_type": "code",
   "execution_count": 1,
   "id": "306f7493",
   "metadata": {
    "_cell_guid": "b1076dfc-b9ad-4769-8c92-a6c4dae69d19",
    "_uuid": "8f2839f25d086af736a60e9eeb907d3b93b6e0e5",
    "execution": {
     "iopub.execute_input": "2024-07-11T12:41:41.429002Z",
     "iopub.status.busy": "2024-07-11T12:41:41.428645Z",
     "iopub.status.idle": "2024-07-11T12:41:43.465568Z",
     "shell.execute_reply": "2024-07-11T12:41:43.464465Z"
    },
    "id": "hNx2y6ZIuP6-",
    "papermill": {
     "duration": 2.050809,
     "end_time": "2024-07-11T12:41:43.468202",
     "exception": false,
     "start_time": "2024-07-11T12:41:41.417393",
     "status": "completed"
    },
    "tags": []
   },
   "outputs": [],
   "source": [
    "import numpy as np\n",
    "import pandas as pd\n",
    "from sklearn.model_selection import train_test_split\n",
    "from sklearn.datasets import make_classification\n",
    "import matplotlib.pyplot as plt"
   ]
  },
  {
   "cell_type": "code",
   "execution_count": 2,
   "id": "b9a314e8",
   "metadata": {
    "execution": {
     "iopub.execute_input": "2024-07-11T12:41:43.489461Z",
     "iopub.status.busy": "2024-07-11T12:41:43.488953Z",
     "iopub.status.idle": "2024-07-11T12:41:43.501301Z",
     "shell.execute_reply": "2024-07-11T12:41:43.500244Z"
    },
    "id": "vyqvImn6uP7A",
    "papermill": {
     "duration": 0.025544,
     "end_time": "2024-07-11T12:41:43.503711",
     "exception": false,
     "start_time": "2024-07-11T12:41:43.478167",
     "status": "completed"
    },
    "tags": []
   },
   "outputs": [],
   "source": [
    "X,y = make_classification(n_features=5, n_redundant=0, n_informative=5,n_clusters_per_class=1)"
   ]
  },
  {
   "cell_type": "code",
   "execution_count": 3,
   "id": "a0b4fc17",
   "metadata": {
    "execution": {
     "iopub.execute_input": "2024-07-11T12:41:43.524504Z",
     "iopub.status.busy": "2024-07-11T12:41:43.523496Z",
     "iopub.status.idle": "2024-07-11T12:41:43.550832Z",
     "shell.execute_reply": "2024-07-11T12:41:43.549777Z"
    },
    "id": "mLWaRn-tuP7A",
    "outputId": "5e0b394f-b163-4a43-d3c8-0ed55d4abbf1",
    "papermill": {
     "duration": 0.040487,
     "end_time": "2024-07-11T12:41:43.553497",
     "exception": false,
     "start_time": "2024-07-11T12:41:43.513010",
     "status": "completed"
    },
    "tags": []
   },
   "outputs": [
    {
     "name": "stdout",
     "output_type": "stream",
     "text": [
      "(100, 6)\n"
     ]
    },
    {
     "data": {
      "text/html": [
       "<div>\n",
       "<style scoped>\n",
       "    .dataframe tbody tr th:only-of-type {\n",
       "        vertical-align: middle;\n",
       "    }\n",
       "\n",
       "    .dataframe tbody tr th {\n",
       "        vertical-align: top;\n",
       "    }\n",
       "\n",
       "    .dataframe thead th {\n",
       "        text-align: right;\n",
       "    }\n",
       "</style>\n",
       "<table border=\"1\" class=\"dataframe\">\n",
       "  <thead>\n",
       "    <tr style=\"text-align: right;\">\n",
       "      <th></th>\n",
       "      <th>col1</th>\n",
       "      <th>col2</th>\n",
       "      <th>col3</th>\n",
       "      <th>col4</th>\n",
       "      <th>col5</th>\n",
       "      <th>target</th>\n",
       "    </tr>\n",
       "  </thead>\n",
       "  <tbody>\n",
       "    <tr>\n",
       "      <th>0</th>\n",
       "      <td>0.871353</td>\n",
       "      <td>1.904729</td>\n",
       "      <td>2.217291</td>\n",
       "      <td>-1.730404</td>\n",
       "      <td>-0.231441</td>\n",
       "      <td>0</td>\n",
       "    </tr>\n",
       "    <tr>\n",
       "      <th>1</th>\n",
       "      <td>-1.207635</td>\n",
       "      <td>0.371519</td>\n",
       "      <td>1.103829</td>\n",
       "      <td>-0.387434</td>\n",
       "      <td>-2.192691</td>\n",
       "      <td>1</td>\n",
       "    </tr>\n",
       "    <tr>\n",
       "      <th>2</th>\n",
       "      <td>0.157910</td>\n",
       "      <td>0.029294</td>\n",
       "      <td>-0.998658</td>\n",
       "      <td>2.411126</td>\n",
       "      <td>-1.006053</td>\n",
       "      <td>0</td>\n",
       "    </tr>\n",
       "    <tr>\n",
       "      <th>3</th>\n",
       "      <td>-0.860596</td>\n",
       "      <td>0.870193</td>\n",
       "      <td>2.694891</td>\n",
       "      <td>-0.183239</td>\n",
       "      <td>-1.216032</td>\n",
       "      <td>0</td>\n",
       "    </tr>\n",
       "    <tr>\n",
       "      <th>4</th>\n",
       "      <td>-1.024306</td>\n",
       "      <td>2.146138</td>\n",
       "      <td>2.050364</td>\n",
       "      <td>-0.799700</td>\n",
       "      <td>-0.941307</td>\n",
       "      <td>0</td>\n",
       "    </tr>\n",
       "  </tbody>\n",
       "</table>\n",
       "</div>"
      ],
      "text/plain": [
       "       col1      col2      col3      col4      col5  target\n",
       "0  0.871353  1.904729  2.217291 -1.730404 -0.231441       0\n",
       "1 -1.207635  0.371519  1.103829 -0.387434 -2.192691       1\n",
       "2  0.157910  0.029294 -0.998658  2.411126 -1.006053       0\n",
       "3 -0.860596  0.870193  2.694891 -0.183239 -1.216032       0\n",
       "4 -1.024306  2.146138  2.050364 -0.799700 -0.941307       0"
      ]
     },
     "execution_count": 3,
     "metadata": {},
     "output_type": "execute_result"
    }
   ],
   "source": [
    "df = pd.DataFrame(X,columns=['col1','col2','col3','col4','col5'])\n",
    "df['target'] = y\n",
    "print(df.shape)\n",
    "df.head()"
   ]
  },
  {
   "cell_type": "code",
   "execution_count": 4,
   "id": "0eb277f1",
   "metadata": {
    "execution": {
     "iopub.execute_input": "2024-07-11T12:41:43.575217Z",
     "iopub.status.busy": "2024-07-11T12:41:43.574480Z",
     "iopub.status.idle": "2024-07-11T12:41:43.579636Z",
     "shell.execute_reply": "2024-07-11T12:41:43.578597Z"
    },
    "id": "IvCxOCI3uP7B",
    "papermill": {
     "duration": 0.018273,
     "end_time": "2024-07-11T12:41:43.581861",
     "exception": false,
     "start_time": "2024-07-11T12:41:43.563588",
     "status": "completed"
    },
    "tags": []
   },
   "outputs": [],
   "source": [
    "# function for row sampling\n",
    "\n",
    "def sample_rows(df,percent):\n",
    "  return df.sample(int(percent*df.shape[0]),replace=True)"
   ]
  },
  {
   "cell_type": "code",
   "execution_count": 5,
   "id": "db6c2ab7",
   "metadata": {
    "execution": {
     "iopub.execute_input": "2024-07-11T12:41:43.603859Z",
     "iopub.status.busy": "2024-07-11T12:41:43.603194Z",
     "iopub.status.idle": "2024-07-11T12:41:43.609010Z",
     "shell.execute_reply": "2024-07-11T12:41:43.607928Z"
    },
    "id": "pOPUuc6yuP7B",
    "papermill": {
     "duration": 0.019737,
     "end_time": "2024-07-11T12:41:43.611334",
     "exception": false,
     "start_time": "2024-07-11T12:41:43.591597",
     "status": "completed"
    },
    "tags": []
   },
   "outputs": [],
   "source": [
    "# function for feature sampling\n",
    "import random\n",
    "def sample_features(df,percent):\n",
    "  cols = random.sample(df.columns.tolist()[:-1],int(percent*(df.shape[1]-1)))\n",
    "  new_df = df[cols]\n",
    "  new_df['target'] = df['target']\n",
    "  return new_df"
   ]
  },
  {
   "cell_type": "code",
   "execution_count": 6,
   "id": "95cb3ec3",
   "metadata": {
    "execution": {
     "iopub.execute_input": "2024-07-11T12:41:43.633531Z",
     "iopub.status.busy": "2024-07-11T12:41:43.632850Z",
     "iopub.status.idle": "2024-07-11T12:41:43.637801Z",
     "shell.execute_reply": "2024-07-11T12:41:43.636827Z"
    },
    "id": "IeTV2vnFuP7B",
    "papermill": {
     "duration": 0.018279,
     "end_time": "2024-07-11T12:41:43.639885",
     "exception": false,
     "start_time": "2024-07-11T12:41:43.621606",
     "status": "completed"
    },
    "tags": []
   },
   "outputs": [],
   "source": [
    "# function for combined sampling\n",
    "\n",
    "def combined_sampling(df,row_percent,col_percent):\n",
    "  new_df = sample_rows(df,row_percent)\n",
    "  return sample_features(new_df,col_percent)\n"
   ]
  },
  {
   "cell_type": "code",
   "execution_count": 7,
   "id": "e492ff15",
   "metadata": {
    "execution": {
     "iopub.execute_input": "2024-07-11T12:41:43.661291Z",
     "iopub.status.busy": "2024-07-11T12:41:43.660393Z",
     "iopub.status.idle": "2024-07-11T12:41:43.669929Z",
     "shell.execute_reply": "2024-07-11T12:41:43.668895Z"
    },
    "id": "DVWihEE1uP7B",
    "papermill": {
     "duration": 0.022674,
     "end_time": "2024-07-11T12:41:43.672171",
     "exception": false,
     "start_time": "2024-07-11T12:41:43.649497",
     "status": "completed"
    },
    "tags": []
   },
   "outputs": [],
   "source": [
    "df1 = sample_rows(df,0.2)"
   ]
  },
  {
   "cell_type": "code",
   "execution_count": 8,
   "id": "3413c090",
   "metadata": {
    "execution": {
     "iopub.execute_input": "2024-07-11T12:41:43.693727Z",
     "iopub.status.busy": "2024-07-11T12:41:43.692768Z",
     "iopub.status.idle": "2024-07-11T12:41:43.708285Z",
     "shell.execute_reply": "2024-07-11T12:41:43.707294Z"
    },
    "id": "PnIMgdXouP7C",
    "outputId": "716da373-a90e-4301-bc13-1630d43faa48",
    "papermill": {
     "duration": 0.028874,
     "end_time": "2024-07-11T12:41:43.710755",
     "exception": false,
     "start_time": "2024-07-11T12:41:43.681881",
     "status": "completed"
    },
    "tags": []
   },
   "outputs": [
    {
     "data": {
      "text/html": [
       "<div>\n",
       "<style scoped>\n",
       "    .dataframe tbody tr th:only-of-type {\n",
       "        vertical-align: middle;\n",
       "    }\n",
       "\n",
       "    .dataframe tbody tr th {\n",
       "        vertical-align: top;\n",
       "    }\n",
       "\n",
       "    .dataframe thead th {\n",
       "        text-align: right;\n",
       "    }\n",
       "</style>\n",
       "<table border=\"1\" class=\"dataframe\">\n",
       "  <thead>\n",
       "    <tr style=\"text-align: right;\">\n",
       "      <th></th>\n",
       "      <th>col1</th>\n",
       "      <th>col2</th>\n",
       "      <th>col3</th>\n",
       "      <th>col4</th>\n",
       "      <th>col5</th>\n",
       "      <th>target</th>\n",
       "    </tr>\n",
       "  </thead>\n",
       "  <tbody>\n",
       "    <tr>\n",
       "      <th>91</th>\n",
       "      <td>-0.908908</td>\n",
       "      <td>0.778036</td>\n",
       "      <td>2.205600</td>\n",
       "      <td>0.062870</td>\n",
       "      <td>-1.219099</td>\n",
       "      <td>0</td>\n",
       "    </tr>\n",
       "    <tr>\n",
       "      <th>80</th>\n",
       "      <td>-1.080769</td>\n",
       "      <td>1.413853</td>\n",
       "      <td>0.144625</td>\n",
       "      <td>2.251066</td>\n",
       "      <td>-0.712427</td>\n",
       "      <td>0</td>\n",
       "    </tr>\n",
       "    <tr>\n",
       "      <th>85</th>\n",
       "      <td>-2.039107</td>\n",
       "      <td>2.014217</td>\n",
       "      <td>2.258751</td>\n",
       "      <td>-0.019911</td>\n",
       "      <td>-2.238604</td>\n",
       "      <td>0</td>\n",
       "    </tr>\n",
       "    <tr>\n",
       "      <th>74</th>\n",
       "      <td>-1.002242</td>\n",
       "      <td>0.679850</td>\n",
       "      <td>-0.003473</td>\n",
       "      <td>0.817885</td>\n",
       "      <td>-2.319536</td>\n",
       "      <td>0</td>\n",
       "    </tr>\n",
       "    <tr>\n",
       "      <th>50</th>\n",
       "      <td>-3.360975</td>\n",
       "      <td>0.812804</td>\n",
       "      <td>0.511800</td>\n",
       "      <td>3.138715</td>\n",
       "      <td>-1.289978</td>\n",
       "      <td>0</td>\n",
       "    </tr>\n",
       "    <tr>\n",
       "      <th>18</th>\n",
       "      <td>-0.962434</td>\n",
       "      <td>1.651242</td>\n",
       "      <td>0.805798</td>\n",
       "      <td>0.162697</td>\n",
       "      <td>-0.598872</td>\n",
       "      <td>0</td>\n",
       "    </tr>\n",
       "    <tr>\n",
       "      <th>62</th>\n",
       "      <td>1.850029</td>\n",
       "      <td>1.391406</td>\n",
       "      <td>0.388799</td>\n",
       "      <td>-2.372810</td>\n",
       "      <td>-3.169319</td>\n",
       "      <td>1</td>\n",
       "    </tr>\n",
       "    <tr>\n",
       "      <th>89</th>\n",
       "      <td>-0.107886</td>\n",
       "      <td>0.416630</td>\n",
       "      <td>-0.542034</td>\n",
       "      <td>1.966008</td>\n",
       "      <td>-0.729855</td>\n",
       "      <td>0</td>\n",
       "    </tr>\n",
       "    <tr>\n",
       "      <th>94</th>\n",
       "      <td>2.586710</td>\n",
       "      <td>2.009676</td>\n",
       "      <td>3.288349</td>\n",
       "      <td>1.524195</td>\n",
       "      <td>0.955437</td>\n",
       "      <td>1</td>\n",
       "    </tr>\n",
       "    <tr>\n",
       "      <th>86</th>\n",
       "      <td>1.240256</td>\n",
       "      <td>1.898934</td>\n",
       "      <td>1.408338</td>\n",
       "      <td>1.523640</td>\n",
       "      <td>-0.158077</td>\n",
       "      <td>1</td>\n",
       "    </tr>\n",
       "    <tr>\n",
       "      <th>61</th>\n",
       "      <td>-1.016661</td>\n",
       "      <td>0.656725</td>\n",
       "      <td>0.370078</td>\n",
       "      <td>1.825568</td>\n",
       "      <td>-1.357068</td>\n",
       "      <td>0</td>\n",
       "    </tr>\n",
       "    <tr>\n",
       "      <th>61</th>\n",
       "      <td>-1.016661</td>\n",
       "      <td>0.656725</td>\n",
       "      <td>0.370078</td>\n",
       "      <td>1.825568</td>\n",
       "      <td>-1.357068</td>\n",
       "      <td>0</td>\n",
       "    </tr>\n",
       "    <tr>\n",
       "      <th>74</th>\n",
       "      <td>-1.002242</td>\n",
       "      <td>0.679850</td>\n",
       "      <td>-0.003473</td>\n",
       "      <td>0.817885</td>\n",
       "      <td>-2.319536</td>\n",
       "      <td>0</td>\n",
       "    </tr>\n",
       "    <tr>\n",
       "      <th>8</th>\n",
       "      <td>-1.214352</td>\n",
       "      <td>3.090760</td>\n",
       "      <td>3.224230</td>\n",
       "      <td>1.944475</td>\n",
       "      <td>0.238997</td>\n",
       "      <td>1</td>\n",
       "    </tr>\n",
       "    <tr>\n",
       "      <th>80</th>\n",
       "      <td>-1.080769</td>\n",
       "      <td>1.413853</td>\n",
       "      <td>0.144625</td>\n",
       "      <td>2.251066</td>\n",
       "      <td>-0.712427</td>\n",
       "      <td>0</td>\n",
       "    </tr>\n",
       "    <tr>\n",
       "      <th>20</th>\n",
       "      <td>0.085481</td>\n",
       "      <td>2.205485</td>\n",
       "      <td>-0.519708</td>\n",
       "      <td>-1.122056</td>\n",
       "      <td>-1.299721</td>\n",
       "      <td>1</td>\n",
       "    </tr>\n",
       "    <tr>\n",
       "      <th>84</th>\n",
       "      <td>-2.182993</td>\n",
       "      <td>3.138628</td>\n",
       "      <td>0.242120</td>\n",
       "      <td>-0.451438</td>\n",
       "      <td>-2.087057</td>\n",
       "      <td>1</td>\n",
       "    </tr>\n",
       "    <tr>\n",
       "      <th>86</th>\n",
       "      <td>1.240256</td>\n",
       "      <td>1.898934</td>\n",
       "      <td>1.408338</td>\n",
       "      <td>1.523640</td>\n",
       "      <td>-0.158077</td>\n",
       "      <td>1</td>\n",
       "    </tr>\n",
       "    <tr>\n",
       "      <th>60</th>\n",
       "      <td>-1.526850</td>\n",
       "      <td>1.571625</td>\n",
       "      <td>1.202265</td>\n",
       "      <td>0.380671</td>\n",
       "      <td>-1.637314</td>\n",
       "      <td>0</td>\n",
       "    </tr>\n",
       "    <tr>\n",
       "      <th>13</th>\n",
       "      <td>1.602270</td>\n",
       "      <td>2.245211</td>\n",
       "      <td>0.977185</td>\n",
       "      <td>0.881114</td>\n",
       "      <td>-0.927721</td>\n",
       "      <td>1</td>\n",
       "    </tr>\n",
       "  </tbody>\n",
       "</table>\n",
       "</div>"
      ],
      "text/plain": [
       "        col1      col2      col3      col4      col5  target\n",
       "91 -0.908908  0.778036  2.205600  0.062870 -1.219099       0\n",
       "80 -1.080769  1.413853  0.144625  2.251066 -0.712427       0\n",
       "85 -2.039107  2.014217  2.258751 -0.019911 -2.238604       0\n",
       "74 -1.002242  0.679850 -0.003473  0.817885 -2.319536       0\n",
       "50 -3.360975  0.812804  0.511800  3.138715 -1.289978       0\n",
       "18 -0.962434  1.651242  0.805798  0.162697 -0.598872       0\n",
       "62  1.850029  1.391406  0.388799 -2.372810 -3.169319       1\n",
       "89 -0.107886  0.416630 -0.542034  1.966008 -0.729855       0\n",
       "94  2.586710  2.009676  3.288349  1.524195  0.955437       1\n",
       "86  1.240256  1.898934  1.408338  1.523640 -0.158077       1\n",
       "61 -1.016661  0.656725  0.370078  1.825568 -1.357068       0\n",
       "61 -1.016661  0.656725  0.370078  1.825568 -1.357068       0\n",
       "74 -1.002242  0.679850 -0.003473  0.817885 -2.319536       0\n",
       "8  -1.214352  3.090760  3.224230  1.944475  0.238997       1\n",
       "80 -1.080769  1.413853  0.144625  2.251066 -0.712427       0\n",
       "20  0.085481  2.205485 -0.519708 -1.122056 -1.299721       1\n",
       "84 -2.182993  3.138628  0.242120 -0.451438 -2.087057       1\n",
       "86  1.240256  1.898934  1.408338  1.523640 -0.158077       1\n",
       "60 -1.526850  1.571625  1.202265  0.380671 -1.637314       0\n",
       "13  1.602270  2.245211  0.977185  0.881114 -0.927721       1"
      ]
     },
     "execution_count": 8,
     "metadata": {},
     "output_type": "execute_result"
    }
   ],
   "source": [
    "df1"
   ]
  },
  {
   "cell_type": "code",
   "execution_count": 9,
   "id": "19dc084d",
   "metadata": {
    "execution": {
     "iopub.execute_input": "2024-07-11T12:41:43.733035Z",
     "iopub.status.busy": "2024-07-11T12:41:43.732328Z",
     "iopub.status.idle": "2024-07-11T12:41:43.737833Z",
     "shell.execute_reply": "2024-07-11T12:41:43.736708Z"
    },
    "id": "JsHXtZFKuP7C",
    "papermill": {
     "duration": 0.018974,
     "end_time": "2024-07-11T12:41:43.739877",
     "exception": false,
     "start_time": "2024-07-11T12:41:43.720903",
     "status": "completed"
    },
    "tags": []
   },
   "outputs": [],
   "source": [
    "df2 = sample_rows(df,0.2)"
   ]
  },
  {
   "cell_type": "code",
   "execution_count": 10,
   "id": "1bb5bf31",
   "metadata": {
    "execution": {
     "iopub.execute_input": "2024-07-11T12:41:43.762504Z",
     "iopub.status.busy": "2024-07-11T12:41:43.761536Z",
     "iopub.status.idle": "2024-07-11T12:41:43.767101Z",
     "shell.execute_reply": "2024-07-11T12:41:43.766030Z"
    },
    "id": "tU1EDvqfuP7C",
    "papermill": {
     "duration": 0.019401,
     "end_time": "2024-07-11T12:41:43.769252",
     "exception": false,
     "start_time": "2024-07-11T12:41:43.749851",
     "status": "completed"
    },
    "tags": []
   },
   "outputs": [],
   "source": [
    "df3 = sample_rows(df,0.2)"
   ]
  },
  {
   "cell_type": "code",
   "execution_count": 11,
   "id": "690f9bff",
   "metadata": {
    "execution": {
     "iopub.execute_input": "2024-07-11T12:41:43.791503Z",
     "iopub.status.busy": "2024-07-11T12:41:43.790775Z",
     "iopub.status.idle": "2024-07-11T12:41:43.796580Z",
     "shell.execute_reply": "2024-07-11T12:41:43.795465Z"
    },
    "id": "DubuPSnSuP7C",
    "outputId": "6ac0b43d-714e-4fa6-ff13-b29ac05ec84d",
    "papermill": {
     "duration": 0.019549,
     "end_time": "2024-07-11T12:41:43.798831",
     "exception": false,
     "start_time": "2024-07-11T12:41:43.779282",
     "status": "completed"
    },
    "tags": []
   },
   "outputs": [
    {
     "name": "stdout",
     "output_type": "stream",
     "text": [
      "(20, 6)\n",
      "(20, 6)\n",
      "(20, 6)\n"
     ]
    }
   ],
   "source": [
    "print(df1.shape)\n",
    "print(df2.shape)\n",
    "print(df3.shape)"
   ]
  },
  {
   "cell_type": "code",
   "execution_count": 12,
   "id": "3a53520f",
   "metadata": {
    "execution": {
     "iopub.execute_input": "2024-07-11T12:41:43.821116Z",
     "iopub.status.busy": "2024-07-11T12:41:43.820056Z",
     "iopub.status.idle": "2024-07-11T12:41:44.074118Z",
     "shell.execute_reply": "2024-07-11T12:41:44.073007Z"
    },
    "id": "tEYcuLHIuP7C",
    "papermill": {
     "duration": 0.267882,
     "end_time": "2024-07-11T12:41:44.076703",
     "exception": false,
     "start_time": "2024-07-11T12:41:43.808821",
     "status": "completed"
    },
    "tags": []
   },
   "outputs": [],
   "source": [
    "from sklearn.tree import DecisionTreeClassifier\n",
    "clf1 = DecisionTreeClassifier()\n",
    "clf2 = DecisionTreeClassifier()\n",
    "clf3 = DecisionTreeClassifier()"
   ]
  },
  {
   "cell_type": "code",
   "execution_count": 13,
   "id": "73e37380",
   "metadata": {
    "execution": {
     "iopub.execute_input": "2024-07-11T12:41:44.099142Z",
     "iopub.status.busy": "2024-07-11T12:41:44.098212Z",
     "iopub.status.idle": "2024-07-11T12:41:44.120678Z",
     "shell.execute_reply": "2024-07-11T12:41:44.119572Z"
    },
    "id": "MwxSMf9PuP7D",
    "outputId": "e722bb5a-a159-4361-d2cd-d26ff3c80e66",
    "papermill": {
     "duration": 0.036193,
     "end_time": "2024-07-11T12:41:44.123009",
     "exception": false,
     "start_time": "2024-07-11T12:41:44.086816",
     "status": "completed"
    },
    "tags": []
   },
   "outputs": [
    {
     "data": {
      "text/html": [
       "<style>#sk-container-id-1 {color: black;background-color: white;}#sk-container-id-1 pre{padding: 0;}#sk-container-id-1 div.sk-toggleable {background-color: white;}#sk-container-id-1 label.sk-toggleable__label {cursor: pointer;display: block;width: 100%;margin-bottom: 0;padding: 0.3em;box-sizing: border-box;text-align: center;}#sk-container-id-1 label.sk-toggleable__label-arrow:before {content: \"▸\";float: left;margin-right: 0.25em;color: #696969;}#sk-container-id-1 label.sk-toggleable__label-arrow:hover:before {color: black;}#sk-container-id-1 div.sk-estimator:hover label.sk-toggleable__label-arrow:before {color: black;}#sk-container-id-1 div.sk-toggleable__content {max-height: 0;max-width: 0;overflow: hidden;text-align: left;background-color: #f0f8ff;}#sk-container-id-1 div.sk-toggleable__content pre {margin: 0.2em;color: black;border-radius: 0.25em;background-color: #f0f8ff;}#sk-container-id-1 input.sk-toggleable__control:checked~div.sk-toggleable__content {max-height: 200px;max-width: 100%;overflow: auto;}#sk-container-id-1 input.sk-toggleable__control:checked~label.sk-toggleable__label-arrow:before {content: \"▾\";}#sk-container-id-1 div.sk-estimator input.sk-toggleable__control:checked~label.sk-toggleable__label {background-color: #d4ebff;}#sk-container-id-1 div.sk-label input.sk-toggleable__control:checked~label.sk-toggleable__label {background-color: #d4ebff;}#sk-container-id-1 input.sk-hidden--visually {border: 0;clip: rect(1px 1px 1px 1px);clip: rect(1px, 1px, 1px, 1px);height: 1px;margin: -1px;overflow: hidden;padding: 0;position: absolute;width: 1px;}#sk-container-id-1 div.sk-estimator {font-family: monospace;background-color: #f0f8ff;border: 1px dotted black;border-radius: 0.25em;box-sizing: border-box;margin-bottom: 0.5em;}#sk-container-id-1 div.sk-estimator:hover {background-color: #d4ebff;}#sk-container-id-1 div.sk-parallel-item::after {content: \"\";width: 100%;border-bottom: 1px solid gray;flex-grow: 1;}#sk-container-id-1 div.sk-label:hover label.sk-toggleable__label {background-color: #d4ebff;}#sk-container-id-1 div.sk-serial::before {content: \"\";position: absolute;border-left: 1px solid gray;box-sizing: border-box;top: 0;bottom: 0;left: 50%;z-index: 0;}#sk-container-id-1 div.sk-serial {display: flex;flex-direction: column;align-items: center;background-color: white;padding-right: 0.2em;padding-left: 0.2em;position: relative;}#sk-container-id-1 div.sk-item {position: relative;z-index: 1;}#sk-container-id-1 div.sk-parallel {display: flex;align-items: stretch;justify-content: center;background-color: white;position: relative;}#sk-container-id-1 div.sk-item::before, #sk-container-id-1 div.sk-parallel-item::before {content: \"\";position: absolute;border-left: 1px solid gray;box-sizing: border-box;top: 0;bottom: 0;left: 50%;z-index: -1;}#sk-container-id-1 div.sk-parallel-item {display: flex;flex-direction: column;z-index: 1;position: relative;background-color: white;}#sk-container-id-1 div.sk-parallel-item:first-child::after {align-self: flex-end;width: 50%;}#sk-container-id-1 div.sk-parallel-item:last-child::after {align-self: flex-start;width: 50%;}#sk-container-id-1 div.sk-parallel-item:only-child::after {width: 0;}#sk-container-id-1 div.sk-dashed-wrapped {border: 1px dashed gray;margin: 0 0.4em 0.5em 0.4em;box-sizing: border-box;padding-bottom: 0.4em;background-color: white;}#sk-container-id-1 div.sk-label label {font-family: monospace;font-weight: bold;display: inline-block;line-height: 1.2em;}#sk-container-id-1 div.sk-label-container {text-align: center;}#sk-container-id-1 div.sk-container {/* jupyter's `normalize.less` sets `[hidden] { display: none; }` but bootstrap.min.css set `[hidden] { display: none !important; }` so we also need the `!important` here to be able to override the default hidden behavior on the sphinx rendered scikit-learn.org. See: https://github.com/scikit-learn/scikit-learn/issues/21755 */display: inline-block !important;position: relative;}#sk-container-id-1 div.sk-text-repr-fallback {display: none;}</style><div id=\"sk-container-id-1\" class=\"sk-top-container\"><div class=\"sk-text-repr-fallback\"><pre>DecisionTreeClassifier()</pre><b>In a Jupyter environment, please rerun this cell to show the HTML representation or trust the notebook. <br />On GitHub, the HTML representation is unable to render, please try loading this page with nbviewer.org.</b></div><div class=\"sk-container\" hidden><div class=\"sk-item\"><div class=\"sk-estimator sk-toggleable\"><input class=\"sk-toggleable__control sk-hidden--visually\" id=\"sk-estimator-id-1\" type=\"checkbox\" checked><label for=\"sk-estimator-id-1\" class=\"sk-toggleable__label sk-toggleable__label-arrow\">DecisionTreeClassifier</label><div class=\"sk-toggleable__content\"><pre>DecisionTreeClassifier()</pre></div></div></div></div></div>"
      ],
      "text/plain": [
       "DecisionTreeClassifier()"
      ]
     },
     "execution_count": 13,
     "metadata": {},
     "output_type": "execute_result"
    }
   ],
   "source": [
    "clf1.fit(df1.iloc[:,0:5],df1.iloc[:,-1])\n",
    "clf2.fit(df2.iloc[:,0:5],df2.iloc[:,-1])\n",
    "clf3.fit(df3.iloc[:,0:5],df3.iloc[:,-1])"
   ]
  },
  {
   "cell_type": "code",
   "execution_count": 14,
   "id": "a5376271",
   "metadata": {
    "execution": {
     "iopub.execute_input": "2024-07-11T12:41:44.145344Z",
     "iopub.status.busy": "2024-07-11T12:41:44.144956Z",
     "iopub.status.idle": "2024-07-11T12:41:44.149662Z",
     "shell.execute_reply": "2024-07-11T12:41:44.148594Z"
    },
    "id": "qytznWl5uP7D",
    "papermill": {
     "duration": 0.018649,
     "end_time": "2024-07-11T12:41:44.151916",
     "exception": false,
     "start_time": "2024-07-11T12:41:44.133267",
     "status": "completed"
    },
    "tags": []
   },
   "outputs": [],
   "source": [
    "from sklearn.tree import plot_tree"
   ]
  },
  {
   "cell_type": "code",
   "execution_count": 15,
   "id": "f297f141",
   "metadata": {
    "execution": {
     "iopub.execute_input": "2024-07-11T12:41:44.174807Z",
     "iopub.status.busy": "2024-07-11T12:41:44.173860Z",
     "iopub.status.idle": "2024-07-11T12:41:44.514113Z",
     "shell.execute_reply": "2024-07-11T12:41:44.512592Z"
    },
    "id": "kelgwamcuP7D",
    "outputId": "1c5ddde7-eb24-4427-c372-c4386ee47a75",
    "papermill": {
     "duration": 0.355363,
     "end_time": "2024-07-11T12:41:44.517566",
     "exception": false,
     "start_time": "2024-07-11T12:41:44.162203",
     "status": "completed"
    },
    "tags": []
   },
   "outputs": [
    {
     "data": {
      "text/plain": [
       "[Text(0.6, 0.8333333333333334, 'x[0] <= -0.011\\ngini = 0.48\\nsamples = 20\\nvalue = [12, 8]'),\n",
       " Text(0.4, 0.5, 'x[1] <= 2.552\\ngini = 0.245\\nsamples = 14\\nvalue = [12, 2]'),\n",
       " Text(0.2, 0.16666666666666666, 'gini = 0.0\\nsamples = 12\\nvalue = [12, 0]'),\n",
       " Text(0.6, 0.16666666666666666, 'gini = 0.0\\nsamples = 2\\nvalue = [0, 2]'),\n",
       " Text(0.8, 0.5, 'gini = 0.0\\nsamples = 6\\nvalue = [0, 6]')]"
      ]
     },
     "execution_count": 15,
     "metadata": {},
     "output_type": "execute_result"
    },
    {
     "data": {
      "image/png": "[encoded data removed]",
      "text/plain": [
       "<Figure size 640x480 with 1 Axes>"
      ]
     },
     "metadata": {},
     "output_type": "display_data"
    }
   ],
   "source": [
    "plot_tree(clf1)"
   ]
  },
  {
   "cell_type": "code",
   "execution_count": 16,
   "id": "accd0bb7",
   "metadata": {
    "execution": {
     "iopub.execute_input": "2024-07-11T12:41:44.543388Z",
     "iopub.status.busy": "2024-07-11T12:41:44.542979Z",
     "iopub.status.idle": "2024-07-11T12:41:44.762055Z",
     "shell.execute_reply": "2024-07-11T12:41:44.760621Z"
    },
    "id": "2BIbkmwquP7D",
    "outputId": "df4a019b-3693-45b0-9d44-3afd70821550",
    "papermill": {
     "duration": 0.235899,
     "end_time": "2024-07-11T12:41:44.766352",
     "exception": false,
     "start_time": "2024-07-11T12:41:44.530453",
     "status": "completed"
    },
    "tags": []
   },
   "outputs": [
    {
     "data": {
      "text/plain": [
       "[Text(0.5, 0.75, 'x[0] <= -0.433\\ngini = 0.48\\nsamples = 20\\nvalue = [12, 8]'),\n",
       " Text(0.25, 0.25, 'gini = 0.0\\nsamples = 12\\nvalue = [12, 0]'),\n",
       " Text(0.75, 0.25, 'gini = 0.0\\nsamples = 8\\nvalue = [0, 8]')]"
      ]
     },
     "execution_count": 16,
     "metadata": {},
     "output_type": "execute_result"
    },
    {
     "data": {
      "image/png": "[encoded data removed]",
      "text/plain": [
       "<Figure size 640x480 with 1 Axes>"
      ]
     },
     "metadata": {},
     "output_type": "display_data"
    }
   ],
   "source": [
    "plot_tree(clf2)"
   ]
  },
  {
   "cell_type": "code",
   "execution_count": 17,
   "id": "7ca8eb54",
   "metadata": {
    "execution": {
     "iopub.execute_input": "2024-07-11T12:41:44.809710Z",
     "iopub.status.busy": "2024-07-11T12:41:44.808620Z",
     "iopub.status.idle": "2024-07-11T12:41:45.196330Z",
     "shell.execute_reply": "2024-07-11T12:41:45.195230Z"
    },
    "id": "uVM8ec6huP7D",
    "outputId": "e052ea6b-0d6c-45ce-b358-3abd46737939",
    "papermill": {
     "duration": 0.412309,
     "end_time": "2024-07-11T12:41:45.198779",
     "exception": false,
     "start_time": "2024-07-11T12:41:44.786470",
     "status": "completed"
    },
    "tags": []
   },
   "outputs": [
    {
     "data": {
      "text/plain": [
       "[Text(0.6, 0.875, 'x[0] <= 0.547\\ngini = 0.455\\nsamples = 20\\nvalue = [7, 13]'),\n",
       " Text(0.4, 0.625, 'x[3] <= -0.138\\ngini = 0.42\\nsamples = 10\\nvalue = [7, 3]'),\n",
       " Text(0.2, 0.375, 'gini = 0.0\\nsamples = 2\\nvalue = [0, 2]'),\n",
       " Text(0.6, 0.375, 'x[1] <= 0.441\\ngini = 0.219\\nsamples = 8\\nvalue = [7, 1]'),\n",
       " Text(0.4, 0.125, 'gini = 0.0\\nsamples = 1\\nvalue = [0, 1]'),\n",
       " Text(0.8, 0.125, 'gini = 0.0\\nsamples = 7\\nvalue = [7, 0]'),\n",
       " Text(0.8, 0.625, 'gini = 0.0\\nsamples = 10\\nvalue = [0, 10]')]"
      ]
     },
     "execution_count": 17,
     "metadata": {},
     "output_type": "execute_result"
    },
    {
     "data": {
      "image/png": "[encoded data removed]",
      "text/plain": [
       "<Figure size 640x480 with 1 Axes>"
      ]
     },
     "metadata": {},
     "output_type": "display_data"
    }
   ],
   "source": [
    "plot_tree(clf3)"
   ]
  },
  {
   "cell_type": "code",
   "execution_count": 18,
   "id": "744dae43",
   "metadata": {
    "execution": {
     "iopub.execute_input": "2024-07-11T12:41:45.226395Z",
     "iopub.status.busy": "2024-07-11T12:41:45.225969Z",
     "iopub.status.idle": "2024-07-11T12:41:45.237783Z",
     "shell.execute_reply": "2024-07-11T12:41:45.236212Z"
    },
    "id": "QLx_73q1uP7D",
    "outputId": "58d7e1e3-0cf0-49c0-dffd-ef708d88ee64",
    "papermill": {
     "duration": 0.028503,
     "end_time": "2024-07-11T12:41:45.240080",
     "exception": false,
     "start_time": "2024-07-11T12:41:45.211577",
     "status": "completed"
    },
    "tags": []
   },
   "outputs": [
    {
     "name": "stderr",
     "output_type": "stream",
     "text": [
      "/opt/conda/lib/python3.10/site-packages/sklearn/base.py:439: UserWarning: X does not have valid feature names, but DecisionTreeClassifier was fitted with feature names\n",
      "  warnings.warn(\n"
     ]
    },
    {
     "data": {
      "text/plain": [
       "array([1])"
      ]
     },
     "execution_count": 18,
     "metadata": {},
     "output_type": "execute_result"
    }
   ],
   "source": [
    "clf1.predict(np.array([0.551388,-1.876815,-1.807618,-1.557932,-0.039809]).reshape(1,5))"
   ]
  },
  {
   "cell_type": "code",
   "execution_count": 19,
   "id": "1a290056",
   "metadata": {
    "execution": {
     "iopub.execute_input": "2024-07-11T12:41:45.267965Z",
     "iopub.status.busy": "2024-07-11T12:41:45.267557Z",
     "iopub.status.idle": "2024-07-11T12:41:45.276342Z",
     "shell.execute_reply": "2024-07-11T12:41:45.275062Z"
    },
    "id": "vBeOVnAyuP7D",
    "outputId": "d264d1ae-4df2-4976-dd8f-fa7b027ccd2d",
    "papermill": {
     "duration": 0.025687,
     "end_time": "2024-07-11T12:41:45.278841",
     "exception": false,
     "start_time": "2024-07-11T12:41:45.253154",
     "status": "completed"
    },
    "tags": []
   },
   "outputs": [
    {
     "name": "stderr",
     "output_type": "stream",
     "text": [
      "/opt/conda/lib/python3.10/site-packages/sklearn/base.py:439: UserWarning: X does not have valid feature names, but DecisionTreeClassifier was fitted with feature names\n",
      "  warnings.warn(\n"
     ]
    },
    {
     "data": {
      "text/plain": [
       "array([1])"
      ]
     },
     "execution_count": 19,
     "metadata": {},
     "output_type": "execute_result"
    }
   ],
   "source": [
    "clf2.predict(np.array([0.551388,-1.876815,-1.807618,-1.557932,-0.039809]).reshape(1,5))"
   ]
  },
  {
   "cell_type": "code",
   "execution_count": 20,
   "id": "c764b0f6",
   "metadata": {
    "execution": {
     "iopub.execute_input": "2024-07-11T12:41:45.308049Z",
     "iopub.status.busy": "2024-07-11T12:41:45.307657Z",
     "iopub.status.idle": "2024-07-11T12:41:45.316154Z",
     "shell.execute_reply": "2024-07-11T12:41:45.315036Z"
    },
    "id": "JgKbyX_nuP7D",
    "outputId": "306e4029-bb88-4ae1-ccf0-66c5e91c63a5",
    "papermill": {
     "duration": 0.02627,
     "end_time": "2024-07-11T12:41:45.318199",
     "exception": false,
     "start_time": "2024-07-11T12:41:45.291929",
     "status": "completed"
    },
    "tags": []
   },
   "outputs": [
    {
     "name": "stderr",
     "output_type": "stream",
     "text": [
      "/opt/conda/lib/python3.10/site-packages/sklearn/base.py:439: UserWarning: X does not have valid feature names, but DecisionTreeClassifier was fitted with feature names\n",
      "  warnings.warn(\n"
     ]
    },
    {
     "data": {
      "text/plain": [
       "array([1])"
      ]
     },
     "execution_count": 20,
     "metadata": {},
     "output_type": "execute_result"
    }
   ],
   "source": [
    "clf3.predict(np.array([0.551388,-1.876815,-1.807618,-1.557932,-0.039809]).reshape(1,5))"
   ]
  },
  {
   "cell_type": "code",
   "execution_count": 21,
   "id": "a70694a3",
   "metadata": {
    "execution": {
     "iopub.execute_input": "2024-07-11T12:41:45.346307Z",
     "iopub.status.busy": "2024-07-11T12:41:45.345906Z",
     "iopub.status.idle": "2024-07-11T12:41:45.353421Z",
     "shell.execute_reply": "2024-07-11T12:41:45.352432Z"
    },
    "id": "HjAzFknWuP7D",
    "outputId": "b5ecdec1-d3f1-4e45-fac0-05445886c80f",
    "papermill": {
     "duration": 0.024124,
     "end_time": "2024-07-11T12:41:45.355551",
     "exception": false,
     "start_time": "2024-07-11T12:41:45.331427",
     "status": "completed"
    },
    "tags": []
   },
   "outputs": [
    {
     "name": "stderr",
     "output_type": "stream",
     "text": [
      "/tmp/ipykernel_18/516260379.py:6: SettingWithCopyWarning: \n",
      "A value is trying to be set on a copy of a slice from a DataFrame.\n",
      "Try using .loc[row_indexer,col_indexer] = value instead\n",
      "\n",
      "See the caveats in the documentation: https://pandas.pydata.org/pandas-docs/stable/user_guide/indexing.html#returning-a-view-versus-a-copy\n",
      "  new_df['target'] = df['target']\n"
     ]
    }
   ],
   "source": [
    "df1=sample_features(df,0.8)"
   ]
  },
  {
   "cell_type": "code",
   "execution_count": 22,
   "id": "af9d3439",
   "metadata": {
    "execution": {
     "iopub.execute_input": "2024-07-11T12:41:45.384158Z",
     "iopub.status.busy": "2024-07-11T12:41:45.383758Z",
     "iopub.status.idle": "2024-07-11T12:41:45.391061Z",
     "shell.execute_reply": "2024-07-11T12:41:45.389908Z"
    },
    "id": "ekwBAUuVuP7D",
    "outputId": "8806b756-752d-4f9e-c7fa-a0ea85034732",
    "papermill": {
     "duration": 0.024527,
     "end_time": "2024-07-11T12:41:45.393443",
     "exception": false,
     "start_time": "2024-07-11T12:41:45.368916",
     "status": "completed"
    },
    "tags": []
   },
   "outputs": [
    {
     "name": "stderr",
     "output_type": "stream",
     "text": [
      "/tmp/ipykernel_18/516260379.py:6: SettingWithCopyWarning: \n",
      "A value is trying to be set on a copy of a slice from a DataFrame.\n",
      "Try using .loc[row_indexer,col_indexer] = value instead\n",
      "\n",
      "See the caveats in the documentation: https://pandas.pydata.org/pandas-docs/stable/user_guide/indexing.html#returning-a-view-versus-a-copy\n",
      "  new_df['target'] = df['target']\n"
     ]
    }
   ],
   "source": [
    "df2=sample_features(df,0.8)"
   ]
  },
  {
   "cell_type": "code",
   "execution_count": 23,
   "id": "0dd9bd4a",
   "metadata": {
    "execution": {
     "iopub.execute_input": "2024-07-11T12:41:45.422644Z",
     "iopub.status.busy": "2024-07-11T12:41:45.422228Z",
     "iopub.status.idle": "2024-07-11T12:41:45.429411Z",
     "shell.execute_reply": "2024-07-11T12:41:45.428383Z"
    },
    "id": "4YfOaCM4vpRc",
    "outputId": "e5161a07-da11-42de-edd2-ca179682ed35",
    "papermill": {
     "duration": 0.024537,
     "end_time": "2024-07-11T12:41:45.431837",
     "exception": false,
     "start_time": "2024-07-11T12:41:45.407300",
     "status": "completed"
    },
    "tags": []
   },
   "outputs": [
    {
     "name": "stderr",
     "output_type": "stream",
     "text": [
      "/tmp/ipykernel_18/516260379.py:6: SettingWithCopyWarning: \n",
      "A value is trying to be set on a copy of a slice from a DataFrame.\n",
      "Try using .loc[row_indexer,col_indexer] = value instead\n",
      "\n",
      "See the caveats in the documentation: https://pandas.pydata.org/pandas-docs/stable/user_guide/indexing.html#returning-a-view-versus-a-copy\n",
      "  new_df['target'] = df['target']\n"
     ]
    }
   ],
   "source": [
    "df3=sample_features(df,0.8)"
   ]
  },
  {
   "cell_type": "code",
   "execution_count": 24,
   "id": "0f1b11bf",
   "metadata": {
    "execution": {
     "iopub.execute_input": "2024-07-11T12:41:45.461128Z",
     "iopub.status.busy": "2024-07-11T12:41:45.460412Z",
     "iopub.status.idle": "2024-07-11T12:41:45.465926Z",
     "shell.execute_reply": "2024-07-11T12:41:45.464813Z"
    },
    "id": "EA97f_1dvx8D",
    "papermill": {
     "duration": 0.022505,
     "end_time": "2024-07-11T12:41:45.468079",
     "exception": false,
     "start_time": "2024-07-11T12:41:45.445574",
     "status": "completed"
    },
    "tags": []
   },
   "outputs": [],
   "source": [
    "from sklearn.tree import DecisionTreeClassifier\n",
    "clf1 = DecisionTreeClassifier()\n",
    "clf2 = DecisionTreeClassifier()\n",
    "clf3 = DecisionTreeClassifier()"
   ]
  },
  {
   "cell_type": "code",
   "execution_count": 25,
   "id": "48e51a2f",
   "metadata": {
    "execution": {
     "iopub.execute_input": "2024-07-11T12:41:45.497464Z",
     "iopub.status.busy": "2024-07-11T12:41:45.496448Z",
     "iopub.status.idle": "2024-07-11T12:41:45.513260Z",
     "shell.execute_reply": "2024-07-11T12:41:45.512091Z"
    },
    "id": "wkZCbH0rv2TA",
    "outputId": "521113f5-695f-465e-ac69-db6fb669d79a",
    "papermill": {
     "duration": 0.033778,
     "end_time": "2024-07-11T12:41:45.515536",
     "exception": false,
     "start_time": "2024-07-11T12:41:45.481758",
     "status": "completed"
    },
    "tags": []
   },
   "outputs": [
    {
     "data": {
      "text/html": [
       "<style>#sk-container-id-2 {color: black;background-color: white;}#sk-container-id-2 pre{padding: 0;}#sk-container-id-2 div.sk-toggleable {background-color: white;}#sk-container-id-2 label.sk-toggleable__label {cursor: pointer;display: block;width: 100%;margin-bottom: 0;padding: 0.3em;box-sizing: border-box;text-align: center;}#sk-container-id-2 label.sk-toggleable__label-arrow:before {content: \"▸\";float: left;margin-right: 0.25em;color: #696969;}#sk-container-id-2 label.sk-toggleable__label-arrow:hover:before {color: black;}#sk-container-id-2 div.sk-estimator:hover label.sk-toggleable__label-arrow:before {color: black;}#sk-container-id-2 div.sk-toggleable__content {max-height: 0;max-width: 0;overflow: hidden;text-align: left;background-color: #f0f8ff;}#sk-container-id-2 div.sk-toggleable__content pre {margin: 0.2em;color: black;border-radius: 0.25em;background-color: #f0f8ff;}#sk-container-id-2 input.sk-toggleable__control:checked~div.sk-toggleable__content {max-height: 200px;max-width: 100%;overflow: auto;}#sk-container-id-2 input.sk-toggleable__control:checked~label.sk-toggleable__label-arrow:before {content: \"▾\";}#sk-container-id-2 div.sk-estimator input.sk-toggleable__control:checked~label.sk-toggleable__label {background-color: #d4ebff;}#sk-container-id-2 div.sk-label input.sk-toggleable__control:checked~label.sk-toggleable__label {background-color: #d4ebff;}#sk-container-id-2 input.sk-hidden--visually {border: 0;clip: rect(1px 1px 1px 1px);clip: rect(1px, 1px, 1px, 1px);height: 1px;margin: -1px;overflow: hidden;padding: 0;position: absolute;width: 1px;}#sk-container-id-2 div.sk-estimator {font-family: monospace;background-color: #f0f8ff;border: 1px dotted black;border-radius: 0.25em;box-sizing: border-box;margin-bottom: 0.5em;}#sk-container-id-2 div.sk-estimator:hover {background-color: #d4ebff;}#sk-container-id-2 div.sk-parallel-item::after {content: \"\";width: 100%;border-bottom: 1px solid gray;flex-grow: 1;}#sk-container-id-2 div.sk-label:hover label.sk-toggleable__label {background-color: #d4ebff;}#sk-container-id-2 div.sk-serial::before {content: \"\";position: absolute;border-left: 1px solid gray;box-sizing: border-box;top: 0;bottom: 0;left: 50%;z-index: 0;}#sk-container-id-2 div.sk-serial {display: flex;flex-direction: column;align-items: center;background-color: white;padding-right: 0.2em;padding-left: 0.2em;position: relative;}#sk-container-id-2 div.sk-item {position: relative;z-index: 1;}#sk-container-id-2 div.sk-parallel {display: flex;align-items: stretch;justify-content: center;background-color: white;position: relative;}#sk-container-id-2 div.sk-item::before, #sk-container-id-2 div.sk-parallel-item::before {content: \"\";position: absolute;border-left: 1px solid gray;box-sizing: border-box;top: 0;bottom: 0;left: 50%;z-index: -1;}#sk-container-id-2 div.sk-parallel-item {display: flex;flex-direction: column;z-index: 1;position: relative;background-color: white;}#sk-container-id-2 div.sk-parallel-item:first-child::after {align-self: flex-end;width: 50%;}#sk-container-id-2 div.sk-parallel-item:last-child::after {align-self: flex-start;width: 50%;}#sk-container-id-2 div.sk-parallel-item:only-child::after {width: 0;}#sk-container-id-2 div.sk-dashed-wrapped {border: 1px dashed gray;margin: 0 0.4em 0.5em 0.4em;box-sizing: border-box;padding-bottom: 0.4em;background-color: white;}#sk-container-id-2 div.sk-label label {font-family: monospace;font-weight: bold;display: inline-block;line-height: 1.2em;}#sk-container-id-2 div.sk-label-container {text-align: center;}#sk-container-id-2 div.sk-container {/* jupyter's `normalize.less` sets `[hidden] { display: none; }` but bootstrap.min.css set `[hidden] { display: none !important; }` so we also need the `!important` here to be able to override the default hidden behavior on the sphinx rendered scikit-learn.org. See: https://github.com/scikit-learn/scikit-learn/issues/21755 */display: inline-block !important;position: relative;}#sk-container-id-2 div.sk-text-repr-fallback {display: none;}</style><div id=\"sk-container-id-2\" class=\"sk-top-container\"><div class=\"sk-text-repr-fallback\"><pre>DecisionTreeClassifier()</pre><b>In a Jupyter environment, please rerun this cell to show the HTML representation or trust the notebook. <br />On GitHub, the HTML representation is unable to render, please try loading this page with nbviewer.org.</b></div><div class=\"sk-container\" hidden><div class=\"sk-item\"><div class=\"sk-estimator sk-toggleable\"><input class=\"sk-toggleable__control sk-hidden--visually\" id=\"sk-estimator-id-2\" type=\"checkbox\" checked><label for=\"sk-estimator-id-2\" class=\"sk-toggleable__label sk-toggleable__label-arrow\">DecisionTreeClassifier</label><div class=\"sk-toggleable__content\"><pre>DecisionTreeClassifier()</pre></div></div></div></div></div>"
      ],
      "text/plain": [
       "DecisionTreeClassifier()"
      ]
     },
     "execution_count": 25,
     "metadata": {},
     "output_type": "execute_result"
    }
   ],
   "source": [
    "clf1.fit(df1.iloc[:,0:3],df1.iloc[:,-1])\n",
    "clf2.fit(df2.iloc[:,0:3],df2.iloc[:,-1])\n",
    "clf3.fit(df3.iloc[:,0:3],df3.iloc[:,-1])"
   ]
  },
  {
   "cell_type": "code",
   "execution_count": 26,
   "id": "b9f34ddf",
   "metadata": {
    "execution": {
     "iopub.execute_input": "2024-07-11T12:41:45.545650Z",
     "iopub.status.busy": "2024-07-11T12:41:45.544671Z",
     "iopub.status.idle": "2024-07-11T12:41:45.550906Z",
     "shell.execute_reply": "2024-07-11T12:41:45.549900Z"
    },
    "id": "46assb4avtws",
    "outputId": "7066f321-5b18-43a9-b563-94c5c782440c",
    "papermill": {
     "duration": 0.023712,
     "end_time": "2024-07-11T12:41:45.553122",
     "exception": false,
     "start_time": "2024-07-11T12:41:45.529410",
     "status": "completed"
    },
    "tags": []
   },
   "outputs": [
    {
     "name": "stdout",
     "output_type": "stream",
     "text": [
      "Index(['col4', 'col1', 'col5', 'col2', 'target'], dtype='object')\n",
      "Index(['col5', 'col3', 'col1', 'col4', 'target'], dtype='object')\n",
      "Index(['col3', 'col1', 'col4', 'col5', 'target'], dtype='object')\n"
     ]
    }
   ],
   "source": [
    "print(df1.columns)\n",
    "print(df2.columns)\n",
    "print(df3.columns)"
   ]
  },
  {
   "cell_type": "code",
   "execution_count": 27,
   "id": "ad3ca9f7",
   "metadata": {
    "execution": {
     "iopub.execute_input": "2024-07-11T12:41:45.583444Z",
     "iopub.status.busy": "2024-07-11T12:41:45.582420Z",
     "iopub.status.idle": "2024-07-11T12:41:45.597122Z",
     "shell.execute_reply": "2024-07-11T12:41:45.595999Z"
    },
    "id": "R8ghhRnlwvMr",
    "outputId": "f1e50125-5bc4-4cd7-a6ab-84ffcb568a5f",
    "papermill": {
     "duration": 0.032089,
     "end_time": "2024-07-11T12:41:45.599287",
     "exception": false,
     "start_time": "2024-07-11T12:41:45.567198",
     "status": "completed"
    },
    "tags": []
   },
   "outputs": [
    {
     "data": {
      "text/html": [
       "<div>\n",
       "<style scoped>\n",
       "    .dataframe tbody tr th:only-of-type {\n",
       "        vertical-align: middle;\n",
       "    }\n",
       "\n",
       "    .dataframe tbody tr th {\n",
       "        vertical-align: top;\n",
       "    }\n",
       "\n",
       "    .dataframe thead th {\n",
       "        text-align: right;\n",
       "    }\n",
       "</style>\n",
       "<table border=\"1\" class=\"dataframe\">\n",
       "  <thead>\n",
       "    <tr style=\"text-align: right;\">\n",
       "      <th></th>\n",
       "      <th>col3</th>\n",
       "      <th>col1</th>\n",
       "      <th>col4</th>\n",
       "      <th>col5</th>\n",
       "      <th>target</th>\n",
       "    </tr>\n",
       "  </thead>\n",
       "  <tbody>\n",
       "    <tr>\n",
       "      <th>0</th>\n",
       "      <td>2.217291</td>\n",
       "      <td>0.871353</td>\n",
       "      <td>-1.730404</td>\n",
       "      <td>-0.231441</td>\n",
       "      <td>0</td>\n",
       "    </tr>\n",
       "    <tr>\n",
       "      <th>1</th>\n",
       "      <td>1.103829</td>\n",
       "      <td>-1.207635</td>\n",
       "      <td>-0.387434</td>\n",
       "      <td>-2.192691</td>\n",
       "      <td>1</td>\n",
       "    </tr>\n",
       "    <tr>\n",
       "      <th>2</th>\n",
       "      <td>-0.998658</td>\n",
       "      <td>0.157910</td>\n",
       "      <td>2.411126</td>\n",
       "      <td>-1.006053</td>\n",
       "      <td>0</td>\n",
       "    </tr>\n",
       "    <tr>\n",
       "      <th>3</th>\n",
       "      <td>2.694891</td>\n",
       "      <td>-0.860596</td>\n",
       "      <td>-0.183239</td>\n",
       "      <td>-1.216032</td>\n",
       "      <td>0</td>\n",
       "    </tr>\n",
       "    <tr>\n",
       "      <th>4</th>\n",
       "      <td>2.050364</td>\n",
       "      <td>-1.024306</td>\n",
       "      <td>-0.799700</td>\n",
       "      <td>-0.941307</td>\n",
       "      <td>0</td>\n",
       "    </tr>\n",
       "    <tr>\n",
       "      <th>...</th>\n",
       "      <td>...</td>\n",
       "      <td>...</td>\n",
       "      <td>...</td>\n",
       "      <td>...</td>\n",
       "      <td>...</td>\n",
       "    </tr>\n",
       "    <tr>\n",
       "      <th>95</th>\n",
       "      <td>-1.365444</td>\n",
       "      <td>1.293019</td>\n",
       "      <td>1.036633</td>\n",
       "      <td>-0.682694</td>\n",
       "      <td>1</td>\n",
       "    </tr>\n",
       "    <tr>\n",
       "      <th>96</th>\n",
       "      <td>1.261081</td>\n",
       "      <td>2.351598</td>\n",
       "      <td>2.074269</td>\n",
       "      <td>1.098936</td>\n",
       "      <td>1</td>\n",
       "    </tr>\n",
       "    <tr>\n",
       "      <th>97</th>\n",
       "      <td>1.313770</td>\n",
       "      <td>1.137728</td>\n",
       "      <td>-0.615384</td>\n",
       "      <td>-0.907785</td>\n",
       "      <td>1</td>\n",
       "    </tr>\n",
       "    <tr>\n",
       "      <th>98</th>\n",
       "      <td>1.184683</td>\n",
       "      <td>-2.609590</td>\n",
       "      <td>-1.126148</td>\n",
       "      <td>-2.941742</td>\n",
       "      <td>1</td>\n",
       "    </tr>\n",
       "    <tr>\n",
       "      <th>99</th>\n",
       "      <td>4.322003</td>\n",
       "      <td>0.378205</td>\n",
       "      <td>0.827547</td>\n",
       "      <td>0.351873</td>\n",
       "      <td>1</td>\n",
       "    </tr>\n",
       "  </tbody>\n",
       "</table>\n",
       "<p>100 rows × 5 columns</p>\n",
       "</div>"
      ],
      "text/plain": [
       "        col3      col1      col4      col5  target\n",
       "0   2.217291  0.871353 -1.730404 -0.231441       0\n",
       "1   1.103829 -1.207635 -0.387434 -2.192691       1\n",
       "2  -0.998658  0.157910  2.411126 -1.006053       0\n",
       "3   2.694891 -0.860596 -0.183239 -1.216032       0\n",
       "4   2.050364 -1.024306 -0.799700 -0.941307       0\n",
       "..       ...       ...       ...       ...     ...\n",
       "95 -1.365444  1.293019  1.036633 -0.682694       1\n",
       "96  1.261081  2.351598  2.074269  1.098936       1\n",
       "97  1.313770  1.137728 -0.615384 -0.907785       1\n",
       "98  1.184683 -2.609590 -1.126148 -2.941742       1\n",
       "99  4.322003  0.378205  0.827547  0.351873       1\n",
       "\n",
       "[100 rows x 5 columns]"
      ]
     },
     "execution_count": 27,
     "metadata": {},
     "output_type": "execute_result"
    }
   ],
   "source": [
    "df3"
   ]
  },
  {
   "cell_type": "code",
   "execution_count": 28,
   "id": "64e41df2",
   "metadata": {
    "execution": {
     "iopub.execute_input": "2024-07-11T12:41:45.690031Z",
     "iopub.status.busy": "2024-07-11T12:41:45.689630Z",
     "iopub.status.idle": "2024-07-11T12:41:47.260643Z",
     "shell.execute_reply": "2024-07-11T12:41:47.259465Z"
    },
    "id": "AIOeprGYv9F-",
    "outputId": "f8e30c38-9173-4029-9dbf-da3ce2a80fea",
    "papermill": {
     "duration": 1.649741,
     "end_time": "2024-07-11T12:41:47.263140",
     "exception": false,
     "start_time": "2024-07-11T12:41:45.613399",
     "status": "completed"
    },
    "tags": []
   },
   "outputs": [
    {
     "data": {
      "text/plain": [
       "[Text(0.7017045454545454, 0.95, 'x[1] <= 0.307\\ngini = 0.5\\nsamples = 100\\nvalue = [50, 50]'),\n",
       " Text(0.4943181818181818, 0.85, 'x[2] <= -2.71\\ngini = 0.339\\nsamples = 60\\nvalue = [47, 13]'),\n",
       " Text(0.44886363636363635, 0.75, 'gini = 0.0\\nsamples = 2\\nvalue = [0, 2]'),\n",
       " Text(0.5397727272727273, 0.75, 'x[2] <= -0.135\\ngini = 0.307\\nsamples = 58\\nvalue = [47, 11]'),\n",
       " Text(0.3522727272727273, 0.65, 'x[1] <= 0.056\\ngini = 0.256\\nsamples = 53\\nvalue = [45, 8]'),\n",
       " Text(0.20454545454545456, 0.55, 'x[2] <= -2.084\\ngini = 0.19\\nsamples = 47\\nvalue = [42, 5]'),\n",
       " Text(0.09090909090909091, 0.45, 'x[2] <= -2.216\\ngini = 0.48\\nsamples = 5\\nvalue = [3, 2]'),\n",
       " Text(0.045454545454545456, 0.35, 'gini = 0.0\\nsamples = 3\\nvalue = [3, 0]'),\n",
       " Text(0.13636363636363635, 0.35, 'gini = 0.0\\nsamples = 2\\nvalue = [0, 2]'),\n",
       " Text(0.3181818181818182, 0.45, 'x[2] <= -0.571\\ngini = 0.133\\nsamples = 42\\nvalue = [39, 3]'),\n",
       " Text(0.22727272727272727, 0.35, 'x[1] <= -1.595\\ngini = 0.059\\nsamples = 33\\nvalue = [32, 1]'),\n",
       " Text(0.18181818181818182, 0.25, 'x[1] <= -1.673\\ngini = 0.219\\nsamples = 8\\nvalue = [7, 1]'),\n",
       " Text(0.13636363636363635, 0.15, 'gini = 0.0\\nsamples = 7\\nvalue = [7, 0]'),\n",
       " Text(0.22727272727272727, 0.15, 'gini = 0.0\\nsamples = 1\\nvalue = [0, 1]'),\n",
       " Text(0.2727272727272727, 0.25, 'gini = 0.0\\nsamples = 25\\nvalue = [25, 0]'),\n",
       " Text(0.4090909090909091, 0.35, 'x[2] <= -0.545\\ngini = 0.346\\nsamples = 9\\nvalue = [7, 2]'),\n",
       " Text(0.36363636363636365, 0.25, 'gini = 0.0\\nsamples = 1\\nvalue = [0, 1]'),\n",
       " Text(0.45454545454545453, 0.25, 'x[2] <= -0.315\\ngini = 0.219\\nsamples = 8\\nvalue = [7, 1]'),\n",
       " Text(0.4090909090909091, 0.15, 'gini = 0.0\\nsamples = 5\\nvalue = [5, 0]'),\n",
       " Text(0.5, 0.15, 'x[1] <= -0.602\\ngini = 0.444\\nsamples = 3\\nvalue = [2, 1]'),\n",
       " Text(0.45454545454545453, 0.05, 'gini = 0.0\\nsamples = 2\\nvalue = [2, 0]'),\n",
       " Text(0.5454545454545454, 0.05, 'gini = 0.0\\nsamples = 1\\nvalue = [0, 1]'),\n",
       " Text(0.5, 0.55, 'x[1] <= 0.137\\ngini = 0.5\\nsamples = 6\\nvalue = [3, 3]'),\n",
       " Text(0.45454545454545453, 0.45, 'gini = 0.0\\nsamples = 2\\nvalue = [0, 2]'),\n",
       " Text(0.5454545454545454, 0.45, 'x[1] <= 0.207\\ngini = 0.375\\nsamples = 4\\nvalue = [3, 1]'),\n",
       " Text(0.5, 0.35, 'gini = 0.0\\nsamples = 2\\nvalue = [2, 0]'),\n",
       " Text(0.5909090909090909, 0.35, 'x[1] <= 0.24\\ngini = 0.5\\nsamples = 2\\nvalue = [1, 1]'),\n",
       " Text(0.5454545454545454, 0.25, 'gini = 0.0\\nsamples = 1\\nvalue = [0, 1]'),\n",
       " Text(0.6363636363636364, 0.25, 'gini = 0.0\\nsamples = 1\\nvalue = [1, 0]'),\n",
       " Text(0.7272727272727273, 0.65, 'x[1] <= -0.999\\ngini = 0.48\\nsamples = 5\\nvalue = [2, 3]'),\n",
       " Text(0.6818181818181818, 0.55, 'x[1] <= -2.088\\ngini = 0.444\\nsamples = 3\\nvalue = [2, 1]'),\n",
       " Text(0.6363636363636364, 0.45, 'gini = 0.0\\nsamples = 1\\nvalue = [1, 0]'),\n",
       " Text(0.7272727272727273, 0.45, 'x[2] <= 0.097\\ngini = 0.5\\nsamples = 2\\nvalue = [1, 1]'),\n",
       " Text(0.6818181818181818, 0.35, 'gini = 0.0\\nsamples = 1\\nvalue = [1, 0]'),\n",
       " Text(0.7727272727272727, 0.35, 'gini = 0.0\\nsamples = 1\\nvalue = [0, 1]'),\n",
       " Text(0.7727272727272727, 0.55, 'gini = 0.0\\nsamples = 2\\nvalue = [0, 2]'),\n",
       " Text(0.9090909090909091, 0.85, 'x[1] <= 0.947\\ngini = 0.139\\nsamples = 40\\nvalue = [3, 37]'),\n",
       " Text(0.8636363636363636, 0.75, 'x[0] <= 0.191\\ngini = 0.444\\nsamples = 9\\nvalue = [3, 6]'),\n",
       " Text(0.8181818181818182, 0.65, 'gini = 0.0\\nsamples = 3\\nvalue = [3, 0]'),\n",
       " Text(0.9090909090909091, 0.65, 'gini = 0.0\\nsamples = 6\\nvalue = [0, 6]'),\n",
       " Text(0.9545454545454546, 0.75, 'gini = 0.0\\nsamples = 31\\nvalue = [0, 31]')]"
      ]
     },
     "execution_count": 28,
     "metadata": {},
     "output_type": "execute_result"
    },
    {
     "data": {
      "image/png": "[encoded data removed]",
      "text/plain": [
       "<Figure size 640x480 with 1 Axes>"
      ]
     },
     "metadata": {},
     "output_type": "display_data"
    }
   ],
   "source": [
    "plot_tree(clf1)"
   ]
  },
  {
   "cell_type": "code",
   "execution_count": 29,
   "id": "9bb8bf42",
   "metadata": {
    "execution": {
     "iopub.execute_input": "2024-07-11T12:41:47.304468Z",
     "iopub.status.busy": "2024-07-11T12:41:47.303822Z",
     "iopub.status.idle": "2024-07-11T12:41:48.623271Z",
     "shell.execute_reply": "2024-07-11T12:41:48.622210Z"
    },
    "id": "dhoOAu1uv-11",
    "outputId": "ea979fdd-97a5-4e4d-b491-17939031263f",
    "papermill": {
     "duration": 1.344812,
     "end_time": "2024-07-11T12:41:48.625675",
     "exception": false,
     "start_time": "2024-07-11T12:41:47.280863",
     "status": "completed"
    },
    "tags": []
   },
   "outputs": [
    {
     "data": {
      "text/plain": [
       "[Text(0.5972222222222222, 0.9444444444444444, 'x[2] <= 0.307\\ngini = 0.5\\nsamples = 100\\nvalue = [50, 50]'),\n",
       " Text(0.3055555555555556, 0.8333333333333334, 'x[1] <= -1.473\\ngini = 0.339\\nsamples = 60\\nvalue = [47, 13]'),\n",
       " Text(0.25, 0.7222222222222222, 'gini = 0.0\\nsamples = 3\\nvalue = [0, 3]'),\n",
       " Text(0.3611111111111111, 0.7222222222222222, 'x[0] <= -2.71\\ngini = 0.289\\nsamples = 57\\nvalue = [47, 10]'),\n",
       " Text(0.3055555555555556, 0.6111111111111112, 'gini = 0.0\\nsamples = 2\\nvalue = [0, 2]'),\n",
       " Text(0.4166666666666667, 0.6111111111111112, 'x[0] <= -0.315\\ngini = 0.249\\nsamples = 55\\nvalue = [47, 8]'),\n",
       " Text(0.2222222222222222, 0.5, 'x[0] <= -1.785\\ngini = 0.156\\nsamples = 47\\nvalue = [43, 4]'),\n",
       " Text(0.1111111111111111, 0.3888888888888889, 'x[0] <= -2.216\\ngini = 0.469\\nsamples = 8\\nvalue = [5, 3]'),\n",
       " Text(0.05555555555555555, 0.2777777777777778, 'gini = 0.0\\nsamples = 3\\nvalue = [3, 0]'),\n",
       " Text(0.16666666666666666, 0.2777777777777778, 'x[1] <= 0.471\\ngini = 0.48\\nsamples = 5\\nvalue = [2, 3]'),\n",
       " Text(0.1111111111111111, 0.16666666666666666, 'gini = 0.0\\nsamples = 2\\nvalue = [0, 2]'),\n",
       " Text(0.2222222222222222, 0.16666666666666666, 'x[0] <= -2.19\\ngini = 0.444\\nsamples = 3\\nvalue = [2, 1]'),\n",
       " Text(0.16666666666666666, 0.05555555555555555, 'gini = 0.0\\nsamples = 1\\nvalue = [0, 1]'),\n",
       " Text(0.2777777777777778, 0.05555555555555555, 'gini = 0.0\\nsamples = 2\\nvalue = [2, 0]'),\n",
       " Text(0.3333333333333333, 0.3888888888888889, 'x[2] <= 0.056\\ngini = 0.05\\nsamples = 39\\nvalue = [38, 1]'),\n",
       " Text(0.2777777777777778, 0.2777777777777778, 'gini = 0.0\\nsamples = 36\\nvalue = [36, 0]'),\n",
       " Text(0.3888888888888889, 0.2777777777777778, 'x[2] <= 0.122\\ngini = 0.444\\nsamples = 3\\nvalue = [2, 1]'),\n",
       " Text(0.3333333333333333, 0.16666666666666666, 'gini = 0.0\\nsamples = 1\\nvalue = [0, 1]'),\n",
       " Text(0.4444444444444444, 0.16666666666666666, 'gini = 0.0\\nsamples = 2\\nvalue = [2, 0]'),\n",
       " Text(0.6111111111111112, 0.5, 'x[2] <= -0.911\\ngini = 0.5\\nsamples = 8\\nvalue = [4, 4]'),\n",
       " Text(0.5555555555555556, 0.3888888888888889, 'x[1] <= 2.858\\ngini = 0.32\\nsamples = 5\\nvalue = [4, 1]'),\n",
       " Text(0.5, 0.2777777777777778, 'gini = 0.0\\nsamples = 4\\nvalue = [4, 0]'),\n",
       " Text(0.6111111111111112, 0.2777777777777778, 'gini = 0.0\\nsamples = 1\\nvalue = [0, 1]'),\n",
       " Text(0.6666666666666666, 0.3888888888888889, 'gini = 0.0\\nsamples = 3\\nvalue = [0, 3]'),\n",
       " Text(0.8888888888888888, 0.8333333333333334, 'x[2] <= 0.947\\ngini = 0.139\\nsamples = 40\\nvalue = [3, 37]'),\n",
       " Text(0.8333333333333334, 0.7222222222222222, 'x[2] <= 0.508\\ngini = 0.444\\nsamples = 9\\nvalue = [3, 6]'),\n",
       " Text(0.7777777777777778, 0.6111111111111112, 'gini = 0.0\\nsamples = 4\\nvalue = [0, 4]'),\n",
       " Text(0.8888888888888888, 0.6111111111111112, 'x[1] <= 1.633\\ngini = 0.48\\nsamples = 5\\nvalue = [3, 2]'),\n",
       " Text(0.8333333333333334, 0.5, 'x[2] <= 0.547\\ngini = 0.444\\nsamples = 3\\nvalue = [1, 2]'),\n",
       " Text(0.7777777777777778, 0.3888888888888889, 'gini = 0.0\\nsamples = 1\\nvalue = [1, 0]'),\n",
       " Text(0.8888888888888888, 0.3888888888888889, 'gini = 0.0\\nsamples = 2\\nvalue = [0, 2]'),\n",
       " Text(0.9444444444444444, 0.5, 'gini = 0.0\\nsamples = 2\\nvalue = [2, 0]'),\n",
       " Text(0.9444444444444444, 0.7222222222222222, 'gini = 0.0\\nsamples = 31\\nvalue = [0, 31]')]"
      ]
     },
     "execution_count": 29,
     "metadata": {},
     "output_type": "execute_result"
    },
    {
     "data": {
      "image/png": "[encoded data removed]",
      "text/plain": [
       "<Figure size 640x480 with 1 Axes>"
      ]
     },
     "metadata": {},
     "output_type": "display_data"
    }
   ],
   "source": [
    "plot_tree(clf2)"
   ]
  },
  {
   "cell_type": "code",
   "execution_count": 30,
   "id": "704d988f",
   "metadata": {
    "execution": {
     "iopub.execute_input": "2024-07-11T12:41:48.660547Z",
     "iopub.status.busy": "2024-07-11T12:41:48.659556Z",
     "iopub.status.idle": "2024-07-11T12:41:49.957336Z",
     "shell.execute_reply": "2024-07-11T12:41:49.956161Z"
    },
    "id": "GCWfeClzwEAj",
    "outputId": "43c75540-777c-4175-a061-83da9cd1f4b8",
    "papermill": {
     "duration": 1.317841,
     "end_time": "2024-07-11T12:41:49.959857",
     "exception": false,
     "start_time": "2024-07-11T12:41:48.642016",
     "status": "completed"
    },
    "tags": []
   },
   "outputs": [
    {
     "data": {
      "text/plain": [
       "[Text(0.5, 0.9545454545454546, 'x[1] <= 0.307\\ngini = 0.5\\nsamples = 100\\nvalue = [50, 50]'),\n",
       " Text(0.2692307692307692, 0.8636363636363636, 'x[0] <= -1.473\\ngini = 0.339\\nsamples = 60\\nvalue = [47, 13]'),\n",
       " Text(0.19230769230769232, 0.7727272727272727, 'gini = 0.0\\nsamples = 3\\nvalue = [0, 3]'),\n",
       " Text(0.34615384615384615, 0.7727272727272727, 'x[2] <= -1.115\\ngini = 0.289\\nsamples = 57\\nvalue = [47, 10]'),\n",
       " Text(0.2692307692307692, 0.6818181818181818, 'gini = 0.0\\nsamples = 2\\nvalue = [0, 2]'),\n",
       " Text(0.4230769230769231, 0.6818181818181818, 'x[0] <= 3.197\\ngini = 0.249\\nsamples = 55\\nvalue = [47, 8]'),\n",
       " Text(0.34615384615384615, 0.5909090909090909, 'x[1] <= -2.115\\ngini = 0.226\\nsamples = 54\\nvalue = [47, 7]'),\n",
       " Text(0.15384615384615385, 0.5, 'x[2] <= 0.917\\ngini = 0.48\\nsamples = 5\\nvalue = [3, 2]'),\n",
       " Text(0.07692307692307693, 0.4090909090909091, 'gini = 0.0\\nsamples = 2\\nvalue = [0, 2]'),\n",
       " Text(0.23076923076923078, 0.4090909090909091, 'gini = 0.0\\nsamples = 3\\nvalue = [3, 0]'),\n",
       " Text(0.5384615384615384, 0.5, 'x[1] <= -0.323\\ngini = 0.183\\nsamples = 49\\nvalue = [44, 5]'),\n",
       " Text(0.38461538461538464, 0.4090909090909091, 'x[0] <= 1.08\\ngini = 0.108\\nsamples = 35\\nvalue = [33, 2]'),\n",
       " Text(0.3076923076923077, 0.3181818181818182, 'gini = 0.0\\nsamples = 16\\nvalue = [16, 0]'),\n",
       " Text(0.46153846153846156, 0.3181818181818182, 'x[0] <= 1.153\\ngini = 0.188\\nsamples = 19\\nvalue = [17, 2]'),\n",
       " Text(0.38461538461538464, 0.22727272727272727, 'gini = 0.0\\nsamples = 1\\nvalue = [0, 1]'),\n",
       " Text(0.5384615384615384, 0.22727272727272727, 'x[2] <= 1.314\\ngini = 0.105\\nsamples = 18\\nvalue = [17, 1]'),\n",
       " Text(0.46153846153846156, 0.13636363636363635, 'gini = 0.0\\nsamples = 14\\nvalue = [14, 0]'),\n",
       " Text(0.6153846153846154, 0.13636363636363635, 'x[2] <= 1.446\\ngini = 0.375\\nsamples = 4\\nvalue = [3, 1]'),\n",
       " Text(0.5384615384615384, 0.045454545454545456, 'gini = 0.0\\nsamples = 1\\nvalue = [0, 1]'),\n",
       " Text(0.6923076923076923, 0.045454545454545456, 'gini = 0.0\\nsamples = 3\\nvalue = [3, 0]'),\n",
       " Text(0.6923076923076923, 0.4090909090909091, 'x[1] <= -0.261\\ngini = 0.337\\nsamples = 14\\nvalue = [11, 3]'),\n",
       " Text(0.6153846153846154, 0.3181818181818182, 'gini = 0.0\\nsamples = 1\\nvalue = [0, 1]'),\n",
       " Text(0.7692307692307693, 0.3181818181818182, 'x[2] <= 0.536\\ngini = 0.26\\nsamples = 13\\nvalue = [11, 2]'),\n",
       " Text(0.6923076923076923, 0.22727272727272727, 'gini = 0.0\\nsamples = 7\\nvalue = [7, 0]'),\n",
       " Text(0.8461538461538461, 0.22727272727272727, 'x[2] <= 0.871\\ngini = 0.444\\nsamples = 6\\nvalue = [4, 2]'),\n",
       " Text(0.7692307692307693, 0.13636363636363635, 'gini = 0.0\\nsamples = 2\\nvalue = [0, 2]'),\n",
       " Text(0.9230769230769231, 0.13636363636363635, 'gini = 0.0\\nsamples = 4\\nvalue = [4, 0]'),\n",
       " Text(0.5, 0.5909090909090909, 'gini = 0.0\\nsamples = 1\\nvalue = [0, 1]'),\n",
       " Text(0.7307692307692307, 0.8636363636363636, 'x[1] <= 0.947\\ngini = 0.139\\nsamples = 40\\nvalue = [3, 37]'),\n",
       " Text(0.6538461538461539, 0.7727272727272727, 'x[2] <= 0.191\\ngini = 0.444\\nsamples = 9\\nvalue = [3, 6]'),\n",
       " Text(0.5769230769230769, 0.6818181818181818, 'gini = 0.0\\nsamples = 3\\nvalue = [3, 0]'),\n",
       " Text(0.7307692307692307, 0.6818181818181818, 'gini = 0.0\\nsamples = 6\\nvalue = [0, 6]'),\n",
       " Text(0.8076923076923077, 0.7727272727272727, 'gini = 0.0\\nsamples = 31\\nvalue = [0, 31]')]"
      ]
     },
     "execution_count": 30,
     "metadata": {},
     "output_type": "execute_result"
    },
    {
     "data": {
      "image/png": "[encoded data removed]",
      "text/plain": [
       "<Figure size 640x480 with 1 Axes>"
      ]
     },
     "metadata": {},
     "output_type": "display_data"
    }
   ],
   "source": [
    "plot_tree(clf3)"
   ]
  },
  {
   "cell_type": "code",
   "execution_count": 31,
   "id": "1c4c4d12",
   "metadata": {
    "execution": {
     "iopub.execute_input": "2024-07-11T12:41:49.996470Z",
     "iopub.status.busy": "2024-07-11T12:41:49.995423Z",
     "iopub.status.idle": "2024-07-11T12:41:50.003774Z",
     "shell.execute_reply": "2024-07-11T12:41:50.002640Z"
    },
    "id": "_1e-_j_1wAOP",
    "outputId": "520b9d71-979b-45ac-c7f0-0100f7cbf3d5",
    "papermill": {
     "duration": 0.029185,
     "end_time": "2024-07-11T12:41:50.006116",
     "exception": false,
     "start_time": "2024-07-11T12:41:49.976931",
     "status": "completed"
    },
    "tags": []
   },
   "outputs": [
    {
     "name": "stderr",
     "output_type": "stream",
     "text": [
      "/opt/conda/lib/python3.10/site-packages/sklearn/base.py:439: UserWarning: X does not have valid feature names, but DecisionTreeClassifier was fitted with feature names\n",
      "  warnings.warn(\n"
     ]
    },
    {
     "data": {
      "text/plain": [
       "array([1])"
      ]
     },
     "execution_count": 31,
     "metadata": {},
     "output_type": "execute_result"
    }
   ],
   "source": [
    "clf1.predict(np.array([0.021498\t,1.192081,\t1.187788]).reshape(1,3))"
   ]
  },
  {
   "cell_type": "code",
   "execution_count": 32,
   "id": "c785d17b",
   "metadata": {
    "execution": {
     "iopub.execute_input": "2024-07-11T12:41:50.042776Z",
     "iopub.status.busy": "2024-07-11T12:41:50.042257Z",
     "iopub.status.idle": "2024-07-11T12:41:50.050681Z",
     "shell.execute_reply": "2024-07-11T12:41:50.049418Z"
    },
    "id": "aBwAxchJxDl9",
    "outputId": "e961dd9a-7fec-4ccf-8ae9-19b00e0abd02",
    "papermill": {
     "duration": 0.029446,
     "end_time": "2024-07-11T12:41:50.053060",
     "exception": false,
     "start_time": "2024-07-11T12:41:50.023614",
     "status": "completed"
    },
    "tags": []
   },
   "outputs": [
    {
     "name": "stderr",
     "output_type": "stream",
     "text": [
      "/opt/conda/lib/python3.10/site-packages/sklearn/base.py:439: UserWarning: X does not have valid feature names, but DecisionTreeClassifier was fitted with feature names\n",
      "  warnings.warn(\n"
     ]
    },
    {
     "data": {
      "text/plain": [
       "array([1])"
      ]
     },
     "execution_count": 32,
     "metadata": {},
     "output_type": "execute_result"
    }
   ],
   "source": [
    "clf2.predict(np.array([0.021498\t,1.192081,\t1.187788]).reshape(1,3))"
   ]
  },
  {
   "cell_type": "code",
   "execution_count": 33,
   "id": "08c44bee",
   "metadata": {
    "execution": {
     "iopub.execute_input": "2024-07-11T12:41:50.090291Z",
     "iopub.status.busy": "2024-07-11T12:41:50.089539Z",
     "iopub.status.idle": "2024-07-11T12:41:50.098156Z",
     "shell.execute_reply": "2024-07-11T12:41:50.096862Z"
    },
    "id": "Ihp_rc44xe9Y",
    "outputId": "305f9850-cbd1-4d87-debd-d29d92929af3",
    "papermill": {
     "duration": 0.029875,
     "end_time": "2024-07-11T12:41:50.100443",
     "exception": false,
     "start_time": "2024-07-11T12:41:50.070568",
     "status": "completed"
    },
    "tags": []
   },
   "outputs": [
    {
     "name": "stderr",
     "output_type": "stream",
     "text": [
      "/opt/conda/lib/python3.10/site-packages/sklearn/base.py:439: UserWarning: X does not have valid feature names, but DecisionTreeClassifier was fitted with feature names\n",
      "  warnings.warn(\n"
     ]
    },
    {
     "data": {
      "text/plain": [
       "array([1])"
      ]
     },
     "execution_count": 33,
     "metadata": {},
     "output_type": "execute_result"
    }
   ],
   "source": [
    "clf3.predict(np.array([0.021498\t,1.192081,\t1.187788]).reshape(1,3))"
   ]
  },
  {
   "cell_type": "code",
   "execution_count": 34,
   "id": "d5237d53",
   "metadata": {
    "execution": {
     "iopub.execute_input": "2024-07-11T12:41:50.138564Z",
     "iopub.status.busy": "2024-07-11T12:41:50.137692Z",
     "iopub.status.idle": "2024-07-11T12:41:50.145343Z",
     "shell.execute_reply": "2024-07-11T12:41:50.144301Z"
    },
    "id": "KuBeh36TxgUp",
    "outputId": "8f28abdf-f61d-40e8-92cc-5a9ae3a75c4d",
    "papermill": {
     "duration": 0.029475,
     "end_time": "2024-07-11T12:41:50.147809",
     "exception": false,
     "start_time": "2024-07-11T12:41:50.118334",
     "status": "completed"
    },
    "tags": []
   },
   "outputs": [
    {
     "name": "stderr",
     "output_type": "stream",
     "text": [
      "/tmp/ipykernel_18/516260379.py:6: SettingWithCopyWarning: \n",
      "A value is trying to be set on a copy of a slice from a DataFrame.\n",
      "Try using .loc[row_indexer,col_indexer] = value instead\n",
      "\n",
      "See the caveats in the documentation: https://pandas.pydata.org/pandas-docs/stable/user_guide/indexing.html#returning-a-view-versus-a-copy\n",
      "  new_df['target'] = df['target']\n"
     ]
    }
   ],
   "source": [
    "df1 = combined_sampling(df,0.5,0.5)"
   ]
  },
  {
   "cell_type": "code",
   "execution_count": 35,
   "id": "55211f2a",
   "metadata": {
    "execution": {
     "iopub.execute_input": "2024-07-11T12:41:50.185924Z",
     "iopub.status.busy": "2024-07-11T12:41:50.185195Z",
     "iopub.status.idle": "2024-07-11T12:41:50.192584Z",
     "shell.execute_reply": "2024-07-11T12:41:50.191567Z"
    },
    "id": "aTcIA66BxpJu",
    "outputId": "dde928ae-f132-455c-8e00-621b84a0ac62",
    "papermill": {
     "duration": 0.029014,
     "end_time": "2024-07-11T12:41:50.194865",
     "exception": false,
     "start_time": "2024-07-11T12:41:50.165851",
     "status": "completed"
    },
    "tags": []
   },
   "outputs": [
    {
     "name": "stderr",
     "output_type": "stream",
     "text": [
      "/tmp/ipykernel_18/516260379.py:6: SettingWithCopyWarning: \n",
      "A value is trying to be set on a copy of a slice from a DataFrame.\n",
      "Try using .loc[row_indexer,col_indexer] = value instead\n",
      "\n",
      "See the caveats in the documentation: https://pandas.pydata.org/pandas-docs/stable/user_guide/indexing.html#returning-a-view-versus-a-copy\n",
      "  new_df['target'] = df['target']\n"
     ]
    }
   ],
   "source": [
    "df2= combined_sampling(df,0.5,0.5)\n"
   ]
  },
  {
   "cell_type": "code",
   "execution_count": 36,
   "id": "1e197bdb",
   "metadata": {
    "execution": {
     "iopub.execute_input": "2024-07-11T12:41:50.233556Z",
     "iopub.status.busy": "2024-07-11T12:41:50.232433Z",
     "iopub.status.idle": "2024-07-11T12:41:50.239800Z",
     "shell.execute_reply": "2024-07-11T12:41:50.238798Z"
    },
    "id": "aUWewm2Txqr1",
    "outputId": "57242a80-cf1c-40c4-94fc-f9e54a0ce235",
    "papermill": {
     "duration": 0.028986,
     "end_time": "2024-07-11T12:41:50.242021",
     "exception": false,
     "start_time": "2024-07-11T12:41:50.213035",
     "status": "completed"
    },
    "tags": []
   },
   "outputs": [
    {
     "name": "stderr",
     "output_type": "stream",
     "text": [
      "/tmp/ipykernel_18/516260379.py:6: SettingWithCopyWarning: \n",
      "A value is trying to be set on a copy of a slice from a DataFrame.\n",
      "Try using .loc[row_indexer,col_indexer] = value instead\n",
      "\n",
      "See the caveats in the documentation: https://pandas.pydata.org/pandas-docs/stable/user_guide/indexing.html#returning-a-view-versus-a-copy\n",
      "  new_df['target'] = df['target']\n"
     ]
    }
   ],
   "source": [
    "df3 = combined_sampling(df,0.5,0.5)\n"
   ]
  },
  {
   "cell_type": "code",
   "execution_count": 37,
   "id": "9dc68a6a",
   "metadata": {
    "execution": {
     "iopub.execute_input": "2024-07-11T12:41:50.280462Z",
     "iopub.status.busy": "2024-07-11T12:41:50.279462Z",
     "iopub.status.idle": "2024-07-11T12:41:50.285688Z",
     "shell.execute_reply": "2024-07-11T12:41:50.284734Z"
    },
    "id": "f3mkfOegxstx",
    "outputId": "9faf0212-76c0-40ff-f512-8afc63aa6c36",
    "papermill": {
     "duration": 0.027562,
     "end_time": "2024-07-11T12:41:50.287697",
     "exception": false,
     "start_time": "2024-07-11T12:41:50.260135",
     "status": "completed"
    },
    "tags": []
   },
   "outputs": [
    {
     "name": "stdout",
     "output_type": "stream",
     "text": [
      "Index(['col5', 'col1', 'target'], dtype='object')\n",
      "Index(['col4', 'col2', 'target'], dtype='object')\n",
      "Index(['col1', 'col5', 'target'], dtype='object')\n"
     ]
    }
   ],
   "source": [
    "print(df1.columns)\n",
    "print(df2.columns)\n",
    "print(df3.columns)\n"
   ]
  },
  {
   "cell_type": "code",
   "execution_count": 38,
   "id": "2dcb1152",
   "metadata": {
    "execution": {
     "iopub.execute_input": "2024-07-11T12:41:50.327582Z",
     "iopub.status.busy": "2024-07-11T12:41:50.326640Z",
     "iopub.status.idle": "2024-07-11T12:41:50.341598Z",
     "shell.execute_reply": "2024-07-11T12:41:50.340535Z"
    },
    "id": "qHoCtsiHxzb1",
    "outputId": "5eb5ab45-3d20-4520-df93-0121bf7793bc",
    "papermill": {
     "duration": 0.038126,
     "end_time": "2024-07-11T12:41:50.343990",
     "exception": false,
     "start_time": "2024-07-11T12:41:50.305864",
     "status": "completed"
    },
    "tags": []
   },
   "outputs": [
    {
     "data": {
      "text/html": [
       "<div>\n",
       "<style scoped>\n",
       "    .dataframe tbody tr th:only-of-type {\n",
       "        vertical-align: middle;\n",
       "    }\n",
       "\n",
       "    .dataframe tbody tr th {\n",
       "        vertical-align: top;\n",
       "    }\n",
       "\n",
       "    .dataframe thead th {\n",
       "        text-align: right;\n",
       "    }\n",
       "</style>\n",
       "<table border=\"1\" class=\"dataframe\">\n",
       "  <thead>\n",
       "    <tr style=\"text-align: right;\">\n",
       "      <th></th>\n",
       "      <th>col1</th>\n",
       "      <th>col5</th>\n",
       "      <th>target</th>\n",
       "    </tr>\n",
       "  </thead>\n",
       "  <tbody>\n",
       "    <tr>\n",
       "      <th>53</th>\n",
       "      <td>1.263543</td>\n",
       "      <td>-1.001116</td>\n",
       "      <td>1</td>\n",
       "    </tr>\n",
       "    <tr>\n",
       "      <th>92</th>\n",
       "      <td>-1.765307</td>\n",
       "      <td>-1.532919</td>\n",
       "      <td>0</td>\n",
       "    </tr>\n",
       "    <tr>\n",
       "      <th>24</th>\n",
       "      <td>2.158515</td>\n",
       "      <td>-1.312483</td>\n",
       "      <td>1</td>\n",
       "    </tr>\n",
       "    <tr>\n",
       "      <th>66</th>\n",
       "      <td>-0.880692</td>\n",
       "      <td>-0.017024</td>\n",
       "      <td>1</td>\n",
       "    </tr>\n",
       "    <tr>\n",
       "      <th>66</th>\n",
       "      <td>-0.880692</td>\n",
       "      <td>-0.017024</td>\n",
       "      <td>1</td>\n",
       "    </tr>\n",
       "    <tr>\n",
       "      <th>63</th>\n",
       "      <td>-0.164194</td>\n",
       "      <td>-1.375707</td>\n",
       "      <td>0</td>\n",
       "    </tr>\n",
       "    <tr>\n",
       "      <th>30</th>\n",
       "      <td>-0.382585</td>\n",
       "      <td>-1.620554</td>\n",
       "      <td>0</td>\n",
       "    </tr>\n",
       "    <tr>\n",
       "      <th>69</th>\n",
       "      <td>1.564356</td>\n",
       "      <td>-0.885829</td>\n",
       "      <td>1</td>\n",
       "    </tr>\n",
       "    <tr>\n",
       "      <th>92</th>\n",
       "      <td>-1.765307</td>\n",
       "      <td>-1.532919</td>\n",
       "      <td>0</td>\n",
       "    </tr>\n",
       "    <tr>\n",
       "      <th>65</th>\n",
       "      <td>0.508794</td>\n",
       "      <td>-1.189023</td>\n",
       "      <td>0</td>\n",
       "    </tr>\n",
       "    <tr>\n",
       "      <th>78</th>\n",
       "      <td>0.692990</td>\n",
       "      <td>-2.405280</td>\n",
       "      <td>1</td>\n",
       "    </tr>\n",
       "    <tr>\n",
       "      <th>6</th>\n",
       "      <td>-2.429963</td>\n",
       "      <td>-0.150218</td>\n",
       "      <td>0</td>\n",
       "    </tr>\n",
       "    <tr>\n",
       "      <th>27</th>\n",
       "      <td>-0.259243</td>\n",
       "      <td>-0.415632</td>\n",
       "      <td>0</td>\n",
       "    </tr>\n",
       "    <tr>\n",
       "      <th>82</th>\n",
       "      <td>1.976878</td>\n",
       "      <td>-0.762582</td>\n",
       "      <td>1</td>\n",
       "    </tr>\n",
       "    <tr>\n",
       "      <th>7</th>\n",
       "      <td>-1.800308</td>\n",
       "      <td>-1.244865</td>\n",
       "      <td>0</td>\n",
       "    </tr>\n",
       "    <tr>\n",
       "      <th>40</th>\n",
       "      <td>-2.753274</td>\n",
       "      <td>-3.184448</td>\n",
       "      <td>1</td>\n",
       "    </tr>\n",
       "    <tr>\n",
       "      <th>66</th>\n",
       "      <td>-0.880692</td>\n",
       "      <td>-0.017024</td>\n",
       "      <td>1</td>\n",
       "    </tr>\n",
       "    <tr>\n",
       "      <th>82</th>\n",
       "      <td>1.976878</td>\n",
       "      <td>-0.762582</td>\n",
       "      <td>1</td>\n",
       "    </tr>\n",
       "    <tr>\n",
       "      <th>50</th>\n",
       "      <td>-3.360975</td>\n",
       "      <td>-1.289978</td>\n",
       "      <td>0</td>\n",
       "    </tr>\n",
       "    <tr>\n",
       "      <th>8</th>\n",
       "      <td>-1.214352</td>\n",
       "      <td>0.238997</td>\n",
       "      <td>1</td>\n",
       "    </tr>\n",
       "    <tr>\n",
       "      <th>72</th>\n",
       "      <td>1.052652</td>\n",
       "      <td>-0.908028</td>\n",
       "      <td>1</td>\n",
       "    </tr>\n",
       "    <tr>\n",
       "      <th>65</th>\n",
       "      <td>0.508794</td>\n",
       "      <td>-1.189023</td>\n",
       "      <td>0</td>\n",
       "    </tr>\n",
       "    <tr>\n",
       "      <th>75</th>\n",
       "      <td>1.645336</td>\n",
       "      <td>1.086951</td>\n",
       "      <td>1</td>\n",
       "    </tr>\n",
       "    <tr>\n",
       "      <th>1</th>\n",
       "      <td>-1.207635</td>\n",
       "      <td>-2.192691</td>\n",
       "      <td>1</td>\n",
       "    </tr>\n",
       "    <tr>\n",
       "      <th>63</th>\n",
       "      <td>-0.164194</td>\n",
       "      <td>-1.375707</td>\n",
       "      <td>0</td>\n",
       "    </tr>\n",
       "    <tr>\n",
       "      <th>96</th>\n",
       "      <td>2.351598</td>\n",
       "      <td>1.098936</td>\n",
       "      <td>1</td>\n",
       "    </tr>\n",
       "    <tr>\n",
       "      <th>57</th>\n",
       "      <td>0.240964</td>\n",
       "      <td>-1.599708</td>\n",
       "      <td>0</td>\n",
       "    </tr>\n",
       "    <tr>\n",
       "      <th>72</th>\n",
       "      <td>1.052652</td>\n",
       "      <td>-0.908028</td>\n",
       "      <td>1</td>\n",
       "    </tr>\n",
       "    <tr>\n",
       "      <th>5</th>\n",
       "      <td>4.190891</td>\n",
       "      <td>-3.543415</td>\n",
       "      <td>1</td>\n",
       "    </tr>\n",
       "    <tr>\n",
       "      <th>99</th>\n",
       "      <td>0.378205</td>\n",
       "      <td>0.351873</td>\n",
       "      <td>1</td>\n",
       "    </tr>\n",
       "    <tr>\n",
       "      <th>4</th>\n",
       "      <td>-1.024306</td>\n",
       "      <td>-0.941307</td>\n",
       "      <td>0</td>\n",
       "    </tr>\n",
       "    <tr>\n",
       "      <th>35</th>\n",
       "      <td>-0.213420</td>\n",
       "      <td>-1.380351</td>\n",
       "      <td>0</td>\n",
       "    </tr>\n",
       "    <tr>\n",
       "      <th>33</th>\n",
       "      <td>1.789600</td>\n",
       "      <td>-0.617733</td>\n",
       "      <td>1</td>\n",
       "    </tr>\n",
       "    <tr>\n",
       "      <th>54</th>\n",
       "      <td>-0.175714</td>\n",
       "      <td>-1.379318</td>\n",
       "      <td>0</td>\n",
       "    </tr>\n",
       "    <tr>\n",
       "      <th>27</th>\n",
       "      <td>-0.259243</td>\n",
       "      <td>-0.415632</td>\n",
       "      <td>0</td>\n",
       "    </tr>\n",
       "    <tr>\n",
       "      <th>95</th>\n",
       "      <td>1.293019</td>\n",
       "      <td>-0.682694</td>\n",
       "      <td>1</td>\n",
       "    </tr>\n",
       "    <tr>\n",
       "      <th>48</th>\n",
       "      <td>-1.746779</td>\n",
       "      <td>-0.631174</td>\n",
       "      <td>0</td>\n",
       "    </tr>\n",
       "    <tr>\n",
       "      <th>84</th>\n",
       "      <td>-2.182993</td>\n",
       "      <td>-2.087057</td>\n",
       "      <td>1</td>\n",
       "    </tr>\n",
       "    <tr>\n",
       "      <th>86</th>\n",
       "      <td>1.240256</td>\n",
       "      <td>-0.158077</td>\n",
       "      <td>1</td>\n",
       "    </tr>\n",
       "    <tr>\n",
       "      <th>4</th>\n",
       "      <td>-1.024306</td>\n",
       "      <td>-0.941307</td>\n",
       "      <td>0</td>\n",
       "    </tr>\n",
       "    <tr>\n",
       "      <th>83</th>\n",
       "      <td>1.597828</td>\n",
       "      <td>-3.511014</td>\n",
       "      <td>1</td>\n",
       "    </tr>\n",
       "    <tr>\n",
       "      <th>85</th>\n",
       "      <td>-2.039107</td>\n",
       "      <td>-2.238604</td>\n",
       "      <td>0</td>\n",
       "    </tr>\n",
       "    <tr>\n",
       "      <th>79</th>\n",
       "      <td>-0.970767</td>\n",
       "      <td>-1.106486</td>\n",
       "      <td>0</td>\n",
       "    </tr>\n",
       "    <tr>\n",
       "      <th>30</th>\n",
       "      <td>-0.382585</td>\n",
       "      <td>-1.620554</td>\n",
       "      <td>0</td>\n",
       "    </tr>\n",
       "    <tr>\n",
       "      <th>3</th>\n",
       "      <td>-0.860596</td>\n",
       "      <td>-1.216032</td>\n",
       "      <td>0</td>\n",
       "    </tr>\n",
       "    <tr>\n",
       "      <th>25</th>\n",
       "      <td>-1.330710</td>\n",
       "      <td>-0.377862</td>\n",
       "      <td>0</td>\n",
       "    </tr>\n",
       "    <tr>\n",
       "      <th>38</th>\n",
       "      <td>-0.603816</td>\n",
       "      <td>-1.276429</td>\n",
       "      <td>0</td>\n",
       "    </tr>\n",
       "    <tr>\n",
       "      <th>86</th>\n",
       "      <td>1.240256</td>\n",
       "      <td>-0.158077</td>\n",
       "      <td>1</td>\n",
       "    </tr>\n",
       "    <tr>\n",
       "      <th>39</th>\n",
       "      <td>-0.213920</td>\n",
       "      <td>-1.146470</td>\n",
       "      <td>0</td>\n",
       "    </tr>\n",
       "    <tr>\n",
       "      <th>74</th>\n",
       "      <td>-1.002242</td>\n",
       "      <td>-2.319536</td>\n",
       "      <td>0</td>\n",
       "    </tr>\n",
       "  </tbody>\n",
       "</table>\n",
       "</div>"
      ],
      "text/plain": [
       "        col1      col5  target\n",
       "53  1.263543 -1.001116       1\n",
       "92 -1.765307 -1.532919       0\n",
       "24  2.158515 -1.312483       1\n",
       "66 -0.880692 -0.017024       1\n",
       "66 -0.880692 -0.017024       1\n",
       "63 -0.164194 -1.375707       0\n",
       "30 -0.382585 -1.620554       0\n",
       "69  1.564356 -0.885829       1\n",
       "92 -1.765307 -1.532919       0\n",
       "65  0.508794 -1.189023       0\n",
       "78  0.692990 -2.405280       1\n",
       "6  -2.429963 -0.150218       0\n",
       "27 -0.259243 -0.415632       0\n",
       "82  1.976878 -0.762582       1\n",
       "7  -1.800308 -1.244865       0\n",
       "40 -2.753274 -3.184448       1\n",
       "66 -0.880692 -0.017024       1\n",
       "82  1.976878 -0.762582       1\n",
       "50 -3.360975 -1.289978       0\n",
       "8  -1.214352  0.238997       1\n",
       "72  1.052652 -0.908028       1\n",
       "65  0.508794 -1.189023       0\n",
       "75  1.645336  1.086951       1\n",
       "1  -1.207635 -2.192691       1\n",
       "63 -0.164194 -1.375707       0\n",
       "96  2.351598  1.098936       1\n",
       "57  0.240964 -1.599708       0\n",
       "72  1.052652 -0.908028       1\n",
       "5   4.190891 -3.543415       1\n",
       "99  0.378205  0.351873       1\n",
       "4  -1.024306 -0.941307       0\n",
       "35 -0.213420 -1.380351       0\n",
       "33  1.789600 -0.617733       1\n",
       "54 -0.175714 -1.379318       0\n",
       "27 -0.259243 -0.415632       0\n",
       "95  1.293019 -0.682694       1\n",
       "48 -1.746779 -0.631174       0\n",
       "84 -2.182993 -2.087057       1\n",
       "86  1.240256 -0.158077       1\n",
       "4  -1.024306 -0.941307       0\n",
       "83  1.597828 -3.511014       1\n",
       "85 -2.039107 -2.238604       0\n",
       "79 -0.970767 -1.106486       0\n",
       "30 -0.382585 -1.620554       0\n",
       "3  -0.860596 -1.216032       0\n",
       "25 -1.330710 -0.377862       0\n",
       "38 -0.603816 -1.276429       0\n",
       "86  1.240256 -0.158077       1\n",
       "39 -0.213920 -1.146470       0\n",
       "74 -1.002242 -2.319536       0"
      ]
     },
     "execution_count": 38,
     "metadata": {},
     "output_type": "execute_result"
    }
   ],
   "source": [
    "df3"
   ]
  },
  {
   "cell_type": "code",
   "execution_count": 39,
   "id": "c4292529",
   "metadata": {
    "execution": {
     "iopub.execute_input": "2024-07-11T12:41:50.383437Z",
     "iopub.status.busy": "2024-07-11T12:41:50.382599Z",
     "iopub.status.idle": "2024-07-11T12:41:50.387709Z",
     "shell.execute_reply": "2024-07-11T12:41:50.386587Z"
    },
    "id": "1PZLlqY6x1oN",
    "papermill": {
     "duration": 0.027257,
     "end_time": "2024-07-11T12:41:50.389896",
     "exception": false,
     "start_time": "2024-07-11T12:41:50.362639",
     "status": "completed"
    },
    "tags": []
   },
   "outputs": [],
   "source": [
    "from sklearn.tree import DecisionTreeClassifier\n",
    "clf1 = DecisionTreeClassifier()\n",
    "clf2 = DecisionTreeClassifier()\n",
    "clf3 = DecisionTreeClassifier()"
   ]
  },
  {
   "cell_type": "code",
   "execution_count": 40,
   "id": "15d53625",
   "metadata": {
    "execution": {
     "iopub.execute_input": "2024-07-11T12:41:50.430055Z",
     "iopub.status.busy": "2024-07-11T12:41:50.429083Z",
     "iopub.status.idle": "2024-07-11T12:41:50.445814Z",
     "shell.execute_reply": "2024-07-11T12:41:50.444839Z"
    },
    "id": "CUVbX_zEx5DE",
    "outputId": "26577ca0-be33-429d-9873-16c6dbe10e89",
    "papermill": {
     "duration": 0.038977,
     "end_time": "2024-07-11T12:41:50.447945",
     "exception": false,
     "start_time": "2024-07-11T12:41:50.408968",
     "status": "completed"
    },
    "tags": []
   },
   "outputs": [
    {
     "data": {
      "text/html": [
       "<style>#sk-container-id-3 {color: black;background-color: white;}#sk-container-id-3 pre{padding: 0;}#sk-container-id-3 div.sk-toggleable {background-color: white;}#sk-container-id-3 label.sk-toggleable__label {cursor: pointer;display: block;width: 100%;margin-bottom: 0;padding: 0.3em;box-sizing: border-box;text-align: center;}#sk-container-id-3 label.sk-toggleable__label-arrow:before {content: \"▸\";float: left;margin-right: 0.25em;color: #696969;}#sk-container-id-3 label.sk-toggleable__label-arrow:hover:before {color: black;}#sk-container-id-3 div.sk-estimator:hover label.sk-toggleable__label-arrow:before {color: black;}#sk-container-id-3 div.sk-toggleable__content {max-height: 0;max-width: 0;overflow: hidden;text-align: left;background-color: #f0f8ff;}#sk-container-id-3 div.sk-toggleable__content pre {margin: 0.2em;color: black;border-radius: 0.25em;background-color: #f0f8ff;}#sk-container-id-3 input.sk-toggleable__control:checked~div.sk-toggleable__content {max-height: 200px;max-width: 100%;overflow: auto;}#sk-container-id-3 input.sk-toggleable__control:checked~label.sk-toggleable__label-arrow:before {content: \"▾\";}#sk-container-id-3 div.sk-estimator input.sk-toggleable__control:checked~label.sk-toggleable__label {background-color: #d4ebff;}#sk-container-id-3 div.sk-label input.sk-toggleable__control:checked~label.sk-toggleable__label {background-color: #d4ebff;}#sk-container-id-3 input.sk-hidden--visually {border: 0;clip: rect(1px 1px 1px 1px);clip: rect(1px, 1px, 1px, 1px);height: 1px;margin: -1px;overflow: hidden;padding: 0;position: absolute;width: 1px;}#sk-container-id-3 div.sk-estimator {font-family: monospace;background-color: #f0f8ff;border: 1px dotted black;border-radius: 0.25em;box-sizing: border-box;margin-bottom: 0.5em;}#sk-container-id-3 div.sk-estimator:hover {background-color: #d4ebff;}#sk-container-id-3 div.sk-parallel-item::after {content: \"\";width: 100%;border-bottom: 1px solid gray;flex-grow: 1;}#sk-container-id-3 div.sk-label:hover label.sk-toggleable__label {background-color: #d4ebff;}#sk-container-id-3 div.sk-serial::before {content: \"\";position: absolute;border-left: 1px solid gray;box-sizing: border-box;top: 0;bottom: 0;left: 50%;z-index: 0;}#sk-container-id-3 div.sk-serial {display: flex;flex-direction: column;align-items: center;background-color: white;padding-right: 0.2em;padding-left: 0.2em;position: relative;}#sk-container-id-3 div.sk-item {position: relative;z-index: 1;}#sk-container-id-3 div.sk-parallel {display: flex;align-items: stretch;justify-content: center;background-color: white;position: relative;}#sk-container-id-3 div.sk-item::before, #sk-container-id-3 div.sk-parallel-item::before {content: \"\";position: absolute;border-left: 1px solid gray;box-sizing: border-box;top: 0;bottom: 0;left: 50%;z-index: -1;}#sk-container-id-3 div.sk-parallel-item {display: flex;flex-direction: column;z-index: 1;position: relative;background-color: white;}#sk-container-id-3 div.sk-parallel-item:first-child::after {align-self: flex-end;width: 50%;}#sk-container-id-3 div.sk-parallel-item:last-child::after {align-self: flex-start;width: 50%;}#sk-container-id-3 div.sk-parallel-item:only-child::after {width: 0;}#sk-container-id-3 div.sk-dashed-wrapped {border: 1px dashed gray;margin: 0 0.4em 0.5em 0.4em;box-sizing: border-box;padding-bottom: 0.4em;background-color: white;}#sk-container-id-3 div.sk-label label {font-family: monospace;font-weight: bold;display: inline-block;line-height: 1.2em;}#sk-container-id-3 div.sk-label-container {text-align: center;}#sk-container-id-3 div.sk-container {/* jupyter's `normalize.less` sets `[hidden] { display: none; }` but bootstrap.min.css set `[hidden] { display: none !important; }` so we also need the `!important` here to be able to override the default hidden behavior on the sphinx rendered scikit-learn.org. See: https://github.com/scikit-learn/scikit-learn/issues/21755 */display: inline-block !important;position: relative;}#sk-container-id-3 div.sk-text-repr-fallback {display: none;}</style><div id=\"sk-container-id-3\" class=\"sk-top-container\"><div class=\"sk-text-repr-fallback\"><pre>DecisionTreeClassifier()</pre><b>In a Jupyter environment, please rerun this cell to show the HTML representation or trust the notebook. <br />On GitHub, the HTML representation is unable to render, please try loading this page with nbviewer.org.</b></div><div class=\"sk-container\" hidden><div class=\"sk-item\"><div class=\"sk-estimator sk-toggleable\"><input class=\"sk-toggleable__control sk-hidden--visually\" id=\"sk-estimator-id-3\" type=\"checkbox\" checked><label for=\"sk-estimator-id-3\" class=\"sk-toggleable__label sk-toggleable__label-arrow\">DecisionTreeClassifier</label><div class=\"sk-toggleable__content\"><pre>DecisionTreeClassifier()</pre></div></div></div></div></div>"
      ],
      "text/plain": [
       "DecisionTreeClassifier()"
      ]
     },
     "execution_count": 40,
     "metadata": {},
     "output_type": "execute_result"
    }
   ],
   "source": [
    "clf1.fit(df1.iloc[:,0:2],df1.iloc[:,-1])\n",
    "clf2.fit(df2.iloc[:,0:2],df2.iloc[:,-1])\n",
    "clf3.fit(df3.iloc[:,0:2],df3.iloc[:,-1])"
   ]
  },
  {
   "cell_type": "code",
   "execution_count": 41,
   "id": "0c95ae2f",
   "metadata": {
    "execution": {
     "iopub.execute_input": "2024-07-11T12:41:50.487803Z",
     "iopub.status.busy": "2024-07-11T12:41:50.487056Z",
     "iopub.status.idle": "2024-07-11T12:41:51.015652Z",
     "shell.execute_reply": "2024-07-11T12:41:51.014503Z"
    },
    "id": "5CKL9Zoqx7ka",
    "outputId": "c5085cea-bc1a-41c4-ddcc-d73889a7cc87",
    "papermill": {
     "duration": 0.551389,
     "end_time": "2024-07-11T12:41:51.018245",
     "exception": false,
     "start_time": "2024-07-11T12:41:50.466856",
     "status": "completed"
    },
    "tags": []
   },
   "outputs": [
    {
     "data": {
      "text/plain": [
       "[Text(0.5, 0.9, 'x[1] <= -0.188\\ngini = 0.497\\nsamples = 50\\nvalue = [27, 23]'),\n",
       " Text(0.25, 0.7, 'x[0] <= -2.712\\ngini = 0.08\\nsamples = 24\\nvalue = [23, 1]'),\n",
       " Text(0.125, 0.5, 'gini = 0.0\\nsamples = 1\\nvalue = [0, 1]'),\n",
       " Text(0.375, 0.5, 'gini = 0.0\\nsamples = 23\\nvalue = [23, 0]'),\n",
       " Text(0.75, 0.7, 'x[1] <= 0.658\\ngini = 0.26\\nsamples = 26\\nvalue = [4, 22]'),\n",
       " Text(0.625, 0.5, 'x[0] <= -0.654\\ngini = 0.48\\nsamples = 10\\nvalue = [4, 6]'),\n",
       " Text(0.5, 0.3, 'gini = 0.0\\nsamples = 3\\nvalue = [3, 0]'),\n",
       " Text(0.75, 0.3, 'x[1] <= 0.604\\ngini = 0.245\\nsamples = 7\\nvalue = [1, 6]'),\n",
       " Text(0.625, 0.1, 'gini = 0.0\\nsamples = 6\\nvalue = [0, 6]'),\n",
       " Text(0.875, 0.1, 'gini = 0.0\\nsamples = 1\\nvalue = [1, 0]'),\n",
       " Text(0.875, 0.5, 'gini = 0.0\\nsamples = 16\\nvalue = [0, 16]')]"
      ]
     },
     "execution_count": 41,
     "metadata": {},
     "output_type": "execute_result"
    },
    {
     "data": {
      "image/png": "[encoded data removed]",
      "text/plain": [
       "<Figure size 640x480 with 1 Axes>"
      ]
     },
     "metadata": {},
     "output_type": "display_data"
    }
   ],
   "source": [
    "plot_tree(clf1)"
   ]
  },
  {
   "cell_type": "code",
   "execution_count": 42,
   "id": "d5ddc25a",
   "metadata": {
    "execution": {
     "iopub.execute_input": "2024-07-11T12:41:51.059886Z",
     "iopub.status.busy": "2024-07-11T12:41:51.059465Z",
     "iopub.status.idle": "2024-07-11T12:41:52.064546Z",
     "shell.execute_reply": "2024-07-11T12:41:52.063444Z"
    },
    "id": "RhZtkMpWx-0l",
    "outputId": "9c828b12-451e-4078-ce96-6692d0f9c62b",
    "papermill": {
     "duration": 1.02911,
     "end_time": "2024-07-11T12:41:52.067162",
     "exception": false,
     "start_time": "2024-07-11T12:41:51.038052",
     "status": "completed"
    },
    "tags": []
   },
   "outputs": [
    {
     "data": {
      "text/plain": [
       "[Text(0.5454545454545454, 0.95, 'x[0] <= 0.484\\ngini = 0.497\\nsamples = 50\\nvalue = [23, 27]'),\n",
       " Text(0.2727272727272727, 0.85, 'x[1] <= 2.45\\ngini = 0.432\\nsamples = 19\\nvalue = [13, 6]'),\n",
       " Text(0.18181818181818182, 0.75, 'x[1] <= 0.575\\ngini = 0.305\\nsamples = 16\\nvalue = [13, 3]'),\n",
       " Text(0.09090909090909091, 0.65, 'gini = 0.0\\nsamples = 2\\nvalue = [0, 2]'),\n",
       " Text(0.2727272727272727, 0.65, 'x[0] <= -0.934\\ngini = 0.133\\nsamples = 14\\nvalue = [13, 1]'),\n",
       " Text(0.18181818181818182, 0.55, 'gini = 0.0\\nsamples = 1\\nvalue = [0, 1]'),\n",
       " Text(0.36363636363636365, 0.55, 'gini = 0.0\\nsamples = 13\\nvalue = [13, 0]'),\n",
       " Text(0.36363636363636365, 0.75, 'gini = 0.0\\nsamples = 3\\nvalue = [0, 3]'),\n",
       " Text(0.8181818181818182, 0.85, 'x[1] <= 1.243\\ngini = 0.437\\nsamples = 31\\nvalue = [10, 21]'),\n",
       " Text(0.7272727272727273, 0.75, 'x[1] <= 0.677\\ngini = 0.486\\nsamples = 24\\nvalue = [10, 14]'),\n",
       " Text(0.6363636363636364, 0.65, 'x[0] <= 3.909\\ngini = 0.42\\nsamples = 20\\nvalue = [6, 14]'),\n",
       " Text(0.5454545454545454, 0.55, 'x[0] <= 2.487\\ngini = 0.388\\nsamples = 19\\nvalue = [5, 14]'),\n",
       " Text(0.45454545454545453, 0.45, 'x[0] <= 2.078\\ngini = 0.473\\nsamples = 13\\nvalue = [5, 8]'),\n",
       " Text(0.36363636363636365, 0.35, 'x[1] <= 0.564\\ngini = 0.397\\nsamples = 11\\nvalue = [3, 8]'),\n",
       " Text(0.2727272727272727, 0.25, 'x[0] <= 1.291\\ngini = 0.49\\nsamples = 7\\nvalue = [3, 4]'),\n",
       " Text(0.18181818181818182, 0.15, 'gini = 0.0\\nsamples = 3\\nvalue = [0, 3]'),\n",
       " Text(0.36363636363636365, 0.15, 'x[0] <= 1.815\\ngini = 0.375\\nsamples = 4\\nvalue = [3, 1]'),\n",
       " Text(0.2727272727272727, 0.05, 'gini = 0.0\\nsamples = 3\\nvalue = [3, 0]'),\n",
       " Text(0.45454545454545453, 0.05, 'gini = 0.0\\nsamples = 1\\nvalue = [0, 1]'),\n",
       " Text(0.45454545454545453, 0.25, 'gini = 0.0\\nsamples = 4\\nvalue = [0, 4]'),\n",
       " Text(0.5454545454545454, 0.35, 'gini = 0.0\\nsamples = 2\\nvalue = [2, 0]'),\n",
       " Text(0.6363636363636364, 0.45, 'gini = 0.0\\nsamples = 6\\nvalue = [0, 6]'),\n",
       " Text(0.7272727272727273, 0.55, 'gini = 0.0\\nsamples = 1\\nvalue = [1, 0]'),\n",
       " Text(0.8181818181818182, 0.65, 'gini = 0.0\\nsamples = 4\\nvalue = [4, 0]'),\n",
       " Text(0.9090909090909091, 0.75, 'gini = 0.0\\nsamples = 7\\nvalue = [0, 7]')]"
      ]
     },
     "execution_count": 42,
     "metadata": {},
     "output_type": "execute_result"
    },
    {
     "data": {
      "image/png": "[encoded data removed]",
      "text/plain": [
       "<Figure size 640x480 with 1 Axes>"
      ]
     },
     "metadata": {},
     "output_type": "display_data"
    }
   ],
   "source": [
    "plot_tree(clf2)\n"
   ]
  },
  {
   "cell_type": "code",
   "execution_count": 43,
   "id": "ab31f43e",
   "metadata": {
    "execution": {
     "iopub.execute_input": "2024-07-11T12:41:52.111297Z",
     "iopub.status.busy": "2024-07-11T12:41:52.110600Z",
     "iopub.status.idle": "2024-07-11T12:41:52.637730Z",
     "shell.execute_reply": "2024-07-11T12:41:52.636563Z"
    },
    "id": "JyMT-VkVyAeF",
    "outputId": "13bccc9f-dbb3-4484-9a28-25f658fa86b2",
    "papermill": {
     "duration": 0.552086,
     "end_time": "2024-07-11T12:41:52.640197",
     "exception": false,
     "start_time": "2024-07-11T12:41:52.088111",
     "status": "completed"
    },
    "tags": []
   },
   "outputs": [
    {
     "data": {
      "text/plain": [
       "[Text(0.7142857142857143, 0.9166666666666666, 'x[0] <= 0.601\\ngini = 0.499\\nsamples = 50\\nvalue = [26, 24]'),\n",
       " Text(0.5714285714285714, 0.75, 'x[1] <= -0.084\\ngini = 0.36\\nsamples = 34\\nvalue = [26, 8]'),\n",
       " Text(0.42857142857142855, 0.5833333333333334, 'x[1] <= -1.854\\ngini = 0.185\\nsamples = 29\\nvalue = [26, 3]'),\n",
       " Text(0.2857142857142857, 0.4166666666666667, 'x[0] <= -2.111\\ngini = 0.48\\nsamples = 5\\nvalue = [2, 3]'),\n",
       " Text(0.14285714285714285, 0.25, 'gini = 0.0\\nsamples = 2\\nvalue = [0, 2]'),\n",
       " Text(0.42857142857142855, 0.25, 'x[1] <= -2.216\\ngini = 0.444\\nsamples = 3\\nvalue = [2, 1]'),\n",
       " Text(0.2857142857142857, 0.08333333333333333, 'gini = 0.0\\nsamples = 2\\nvalue = [2, 0]'),\n",
       " Text(0.5714285714285714, 0.08333333333333333, 'gini = 0.0\\nsamples = 1\\nvalue = [0, 1]'),\n",
       " Text(0.5714285714285714, 0.4166666666666667, 'gini = 0.0\\nsamples = 24\\nvalue = [24, 0]'),\n",
       " Text(0.7142857142857143, 0.5833333333333334, 'gini = 0.0\\nsamples = 5\\nvalue = [0, 5]'),\n",
       " Text(0.8571428571428571, 0.75, 'gini = 0.0\\nsamples = 16\\nvalue = [0, 16]')]"
      ]
     },
     "execution_count": 43,
     "metadata": {},
     "output_type": "execute_result"
    },
    {
     "data": {
      "image/png": "[encoded data removed]",
      "text/plain": [
       "<Figure size 640x480 with 1 Axes>"
      ]
     },
     "metadata": {},
     "output_type": "display_data"
    }
   ],
   "source": [
    "plot_tree(clf3)\n"
   ]
  },
  {
   "cell_type": "code",
   "execution_count": 44,
   "id": "3a8546f0",
   "metadata": {
    "execution": {
     "iopub.execute_input": "2024-07-11T12:41:52.686038Z",
     "iopub.status.busy": "2024-07-11T12:41:52.685321Z",
     "iopub.status.idle": "2024-07-11T12:41:52.693736Z",
     "shell.execute_reply": "2024-07-11T12:41:52.692497Z"
    },
    "id": "e3VjXZmmyCdv",
    "outputId": "ae6129ed-329d-499c-cdf1-ef6a2b49c344",
    "papermill": {
     "duration": 0.033877,
     "end_time": "2024-07-11T12:41:52.696112",
     "exception": false,
     "start_time": "2024-07-11T12:41:52.662235",
     "status": "completed"
    },
    "tags": []
   },
   "outputs": [
    {
     "name": "stderr",
     "output_type": "stream",
     "text": [
      "/opt/conda/lib/python3.10/site-packages/sklearn/base.py:439: UserWarning: X does not have valid feature names, but DecisionTreeClassifier was fitted with feature names\n",
      "  warnings.warn(\n"
     ]
    },
    {
     "data": {
      "text/plain": [
       "array([0])"
      ]
     },
     "execution_count": 44,
     "metadata": {},
     "output_type": "execute_result"
    }
   ],
   "source": [
    "clf1.predict(np.array([-1.042498,\t-0.064323]).reshape(1,2))\n"
   ]
  },
  {
   "cell_type": "code",
   "execution_count": 45,
   "id": "173c8687",
   "metadata": {
    "execution": {
     "iopub.execute_input": "2024-07-11T12:41:52.741569Z",
     "iopub.status.busy": "2024-07-11T12:41:52.740790Z",
     "iopub.status.idle": "2024-07-11T12:41:52.749356Z",
     "shell.execute_reply": "2024-07-11T12:41:52.747946Z"
    },
    "id": "0paZ7tdIyGEE",
    "outputId": "7c9b7dea-1b78-4322-f3a0-f4cb87951c03",
    "papermill": {
     "duration": 0.0337,
     "end_time": "2024-07-11T12:41:52.751529",
     "exception": false,
     "start_time": "2024-07-11T12:41:52.717829",
     "status": "completed"
    },
    "tags": []
   },
   "outputs": [
    {
     "name": "stderr",
     "output_type": "stream",
     "text": [
      "/opt/conda/lib/python3.10/site-packages/sklearn/base.py:439: UserWarning: X does not have valid feature names, but DecisionTreeClassifier was fitted with feature names\n",
      "  warnings.warn(\n"
     ]
    },
    {
     "data": {
      "text/plain": [
       "array([1])"
      ]
     },
     "execution_count": 45,
     "metadata": {},
     "output_type": "execute_result"
    }
   ],
   "source": [
    "clf2.predict(np.array([-1.042498,\t-0.064323]).reshape(1,2))\n"
   ]
  },
  {
   "cell_type": "code",
   "execution_count": 46,
   "id": "dc35b75c",
   "metadata": {
    "execution": {
     "iopub.execute_input": "2024-07-11T12:41:52.799603Z",
     "iopub.status.busy": "2024-07-11T12:41:52.798551Z",
     "iopub.status.idle": "2024-07-11T12:41:52.806793Z",
     "shell.execute_reply": "2024-07-11T12:41:52.805672Z"
    },
    "id": "2rG2vcccyH5R",
    "outputId": "866786c3-ba11-4be6-8110-2e46e342e05f",
    "papermill": {
     "duration": 0.034666,
     "end_time": "2024-07-11T12:41:52.809164",
     "exception": false,
     "start_time": "2024-07-11T12:41:52.774498",
     "status": "completed"
    },
    "tags": []
   },
   "outputs": [
    {
     "name": "stderr",
     "output_type": "stream",
     "text": [
      "/opt/conda/lib/python3.10/site-packages/sklearn/base.py:439: UserWarning: X does not have valid feature names, but DecisionTreeClassifier was fitted with feature names\n",
      "  warnings.warn(\n"
     ]
    },
    {
     "data": {
      "text/plain": [
       "array([1])"
      ]
     },
     "execution_count": 46,
     "metadata": {},
     "output_type": "execute_result"
    }
   ],
   "source": [
    "clf3.predict(np.array([-1.042498,\t-0.064323]).reshape(1,2))\n"
   ]
  },
  {
   "cell_type": "code",
   "execution_count": null,
   "id": "8aac1a8d",
   "metadata": {
    "id": "5uIq5pL2yJoo",
    "papermill": {
     "duration": 0.022233,
     "end_time": "2024-07-11T12:41:52.853975",
     "exception": false,
     "start_time": "2024-07-11T12:41:52.831742",
     "status": "completed"
    },
    "tags": []
   },
   "outputs": [],
   "source": []
  }
 ],
 "metadata": {
  "colab": {
   "name": "random_forest_demo",
   "provenance": []
  },
  "kaggle": {
   "accelerator": "none",
   "dataSources": [],
   "isGpuEnabled": false,
   "isInternetEnabled": false,
   "language": "python",
   "sourceType": "notebook"
  },
  "kernelspec": {
   "display_name": "Python 3",
   "language": "python",
   "name": "python3"
  },
  "language_info": {
   "codemirror_mode": {
    "name": "ipython",
    "version": 3
   },
   "file_extension": ".py",
   "mimetype": "text/x-python",
   "name": "python",
   "nbconvert_exporter": "python",
   "pygments_lexer": "ipython3",
   "version": "3.10.13"
  },
  "papermill": {
   "default_parameters": {},
   "duration": 15.01143,
   "end_time": "2024-07-11T12:41:53.497948",
   "environment_variables": {},
   "exception": null,
   "input_path": "__notebook__.ipynb",
   "output_path": "__notebook__.ipynb",
   "parameters": {},
   "start_time": "2024-07-11T12:41:38.486518",
   "version": "2.5.0"
  }
 },
 "nbformat": 4,
 "nbformat_minor": 5
}
