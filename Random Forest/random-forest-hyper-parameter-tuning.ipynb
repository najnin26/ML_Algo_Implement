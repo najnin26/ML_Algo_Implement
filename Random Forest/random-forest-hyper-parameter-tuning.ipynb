{
 "cells": [
  {
   "cell_type": "code",
   "execution_count": 1,
   "id": "ef9ab834",
   "metadata": {
    "_cell_guid": "b1076dfc-b9ad-4769-8c92-a6c4dae69d19",
    "_uuid": "8f2839f25d086af736a60e9eeb907d3b93b6e0e5",
    "execution": {
     "iopub.execute_input": "2024-07-12T04:27:37.302440Z",
     "iopub.status.busy": "2024-07-12T04:27:37.302019Z",
     "iopub.status.idle": "2024-07-12T04:27:40.130316Z",
     "shell.execute_reply": "2024-07-12T04:27:40.128778Z"
    },
    "papermill": {
     "duration": 2.839623,
     "end_time": "2024-07-12T04:27:40.132915",
     "exception": false,
     "start_time": "2024-07-12T04:27:37.293292",
     "status": "completed"
    },
    "tags": []
   },
   "outputs": [],
   "source": [
    "import numpy as np\n",
    "import pandas as pd\n",
    "\n",
    "import matplotlib.pyplot as plt\n",
    "import seaborn as sns\n",
    "\n",
    "from sklearn.model_selection import train_test_split\n",
    "from sklearn.ensemble import RandomForestClassifier,GradientBoostingClassifier\n",
    "from sklearn.svm import SVC\n",
    "from sklearn.linear_model import LogisticRegression\n",
    "\n",
    "from sklearn.metrics import accuracy_score"
   ]
  },
  {
   "cell_type": "code",
   "execution_count": 2,
   "id": "84cad7e8",
   "metadata": {
    "execution": {
     "iopub.execute_input": "2024-07-12T04:27:40.148810Z",
     "iopub.status.busy": "2024-07-12T04:27:40.148147Z",
     "iopub.status.idle": "2024-07-12T04:27:40.178637Z",
     "shell.execute_reply": "2024-07-12T04:27:40.177364Z"
    },
    "papermill": {
     "duration": 0.042351,
     "end_time": "2024-07-12T04:27:40.182298",
     "exception": false,
     "start_time": "2024-07-12T04:27:40.139947",
     "status": "completed"
    },
    "tags": []
   },
   "outputs": [],
   "source": [
    "df = pd.read_csv('/kaggle/input/heart-disease/heart.csv')"
   ]
  },
  {
   "cell_type": "code",
   "execution_count": 3,
   "id": "fd7837f5",
   "metadata": {
    "execution": {
     "iopub.execute_input": "2024-07-12T04:27:40.198176Z",
     "iopub.status.busy": "2024-07-12T04:27:40.197813Z",
     "iopub.status.idle": "2024-07-12T04:27:40.225326Z",
     "shell.execute_reply": "2024-07-12T04:27:40.224052Z"
    },
    "papermill": {
     "duration": 0.038663,
     "end_time": "2024-07-12T04:27:40.228147",
     "exception": false,
     "start_time": "2024-07-12T04:27:40.189484",
     "status": "completed"
    },
    "tags": []
   },
   "outputs": [
    {
     "data": {
      "text/html": [
       "<div>\n",
       "<style scoped>\n",
       "    .dataframe tbody tr th:only-of-type {\n",
       "        vertical-align: middle;\n",
       "    }\n",
       "\n",
       "    .dataframe tbody tr th {\n",
       "        vertical-align: top;\n",
       "    }\n",
       "\n",
       "    .dataframe thead th {\n",
       "        text-align: right;\n",
       "    }\n",
       "</style>\n",
       "<table border=\"1\" class=\"dataframe\">\n",
       "  <thead>\n",
       "    <tr style=\"text-align: right;\">\n",
       "      <th></th>\n",
       "      <th>age</th>\n",
       "      <th>sex</th>\n",
       "      <th>cp</th>\n",
       "      <th>trestbps</th>\n",
       "      <th>chol</th>\n",
       "      <th>fbs</th>\n",
       "      <th>restecg</th>\n",
       "      <th>thalach</th>\n",
       "      <th>exang</th>\n",
       "      <th>oldpeak</th>\n",
       "      <th>slope</th>\n",
       "      <th>ca</th>\n",
       "      <th>thal</th>\n",
       "      <th>target</th>\n",
       "    </tr>\n",
       "  </thead>\n",
       "  <tbody>\n",
       "    <tr>\n",
       "      <th>0</th>\n",
       "      <td>63</td>\n",
       "      <td>1</td>\n",
       "      <td>3</td>\n",
       "      <td>145</td>\n",
       "      <td>233</td>\n",
       "      <td>1</td>\n",
       "      <td>0</td>\n",
       "      <td>150</td>\n",
       "      <td>0</td>\n",
       "      <td>2.3</td>\n",
       "      <td>0</td>\n",
       "      <td>0</td>\n",
       "      <td>1</td>\n",
       "      <td>1</td>\n",
       "    </tr>\n",
       "    <tr>\n",
       "      <th>1</th>\n",
       "      <td>37</td>\n",
       "      <td>1</td>\n",
       "      <td>2</td>\n",
       "      <td>130</td>\n",
       "      <td>250</td>\n",
       "      <td>0</td>\n",
       "      <td>1</td>\n",
       "      <td>187</td>\n",
       "      <td>0</td>\n",
       "      <td>3.5</td>\n",
       "      <td>0</td>\n",
       "      <td>0</td>\n",
       "      <td>2</td>\n",
       "      <td>1</td>\n",
       "    </tr>\n",
       "    <tr>\n",
       "      <th>2</th>\n",
       "      <td>41</td>\n",
       "      <td>0</td>\n",
       "      <td>1</td>\n",
       "      <td>130</td>\n",
       "      <td>204</td>\n",
       "      <td>0</td>\n",
       "      <td>0</td>\n",
       "      <td>172</td>\n",
       "      <td>0</td>\n",
       "      <td>1.4</td>\n",
       "      <td>2</td>\n",
       "      <td>0</td>\n",
       "      <td>2</td>\n",
       "      <td>1</td>\n",
       "    </tr>\n",
       "    <tr>\n",
       "      <th>3</th>\n",
       "      <td>56</td>\n",
       "      <td>1</td>\n",
       "      <td>1</td>\n",
       "      <td>120</td>\n",
       "      <td>236</td>\n",
       "      <td>0</td>\n",
       "      <td>1</td>\n",
       "      <td>178</td>\n",
       "      <td>0</td>\n",
       "      <td>0.8</td>\n",
       "      <td>2</td>\n",
       "      <td>0</td>\n",
       "      <td>2</td>\n",
       "      <td>1</td>\n",
       "    </tr>\n",
       "    <tr>\n",
       "      <th>4</th>\n",
       "      <td>57</td>\n",
       "      <td>0</td>\n",
       "      <td>0</td>\n",
       "      <td>120</td>\n",
       "      <td>354</td>\n",
       "      <td>0</td>\n",
       "      <td>1</td>\n",
       "      <td>163</td>\n",
       "      <td>1</td>\n",
       "      <td>0.6</td>\n",
       "      <td>2</td>\n",
       "      <td>0</td>\n",
       "      <td>2</td>\n",
       "      <td>1</td>\n",
       "    </tr>\n",
       "  </tbody>\n",
       "</table>\n",
       "</div>"
      ],
      "text/plain": [
       "   age  sex  cp  trestbps  chol  fbs  restecg  thalach  exang  oldpeak  slope  \\\n",
       "0   63    1   3       145   233    1        0      150      0      2.3      0   \n",
       "1   37    1   2       130   250    0        1      187      0      3.5      0   \n",
       "2   41    0   1       130   204    0        0      172      0      1.4      2   \n",
       "3   56    1   1       120   236    0        1      178      0      0.8      2   \n",
       "4   57    0   0       120   354    0        1      163      1      0.6      2   \n",
       "\n",
       "   ca  thal  target  \n",
       "0   0     1       1  \n",
       "1   0     2       1  \n",
       "2   0     2       1  \n",
       "3   0     2       1  \n",
       "4   0     2       1  "
      ]
     },
     "execution_count": 3,
     "metadata": {},
     "output_type": "execute_result"
    }
   ],
   "source": [
    "df.head()"
   ]
  },
  {
   "cell_type": "code",
   "execution_count": 4,
   "id": "db70bc08",
   "metadata": {
    "execution": {
     "iopub.execute_input": "2024-07-12T04:27:40.244421Z",
     "iopub.status.busy": "2024-07-12T04:27:40.244007Z",
     "iopub.status.idle": "2024-07-12T04:27:40.250962Z",
     "shell.execute_reply": "2024-07-12T04:27:40.249827Z"
    },
    "papermill": {
     "duration": 0.017814,
     "end_time": "2024-07-12T04:27:40.253298",
     "exception": false,
     "start_time": "2024-07-12T04:27:40.235484",
     "status": "completed"
    },
    "tags": []
   },
   "outputs": [
    {
     "data": {
      "text/plain": [
       "(303, 14)"
      ]
     },
     "execution_count": 4,
     "metadata": {},
     "output_type": "execute_result"
    }
   ],
   "source": [
    "df.shape"
   ]
  },
  {
   "cell_type": "code",
   "execution_count": 5,
   "id": "21036a18",
   "metadata": {
    "execution": {
     "iopub.execute_input": "2024-07-12T04:27:40.269990Z",
     "iopub.status.busy": "2024-07-12T04:27:40.269609Z",
     "iopub.status.idle": "2024-07-12T04:27:40.279409Z",
     "shell.execute_reply": "2024-07-12T04:27:40.278119Z"
    },
    "papermill": {
     "duration": 0.0214,
     "end_time": "2024-07-12T04:27:40.282211",
     "exception": false,
     "start_time": "2024-07-12T04:27:40.260811",
     "status": "completed"
    },
    "tags": []
   },
   "outputs": [],
   "source": [
    "X = df.iloc[:,0:-1]\n",
    "y = df.iloc[:,-1]"
   ]
  },
  {
   "cell_type": "code",
   "execution_count": 6,
   "id": "2a851781",
   "metadata": {
    "execution": {
     "iopub.execute_input": "2024-07-12T04:27:40.298483Z",
     "iopub.status.busy": "2024-07-12T04:27:40.298091Z",
     "iopub.status.idle": "2024-07-12T04:27:40.308794Z",
     "shell.execute_reply": "2024-07-12T04:27:40.307734Z"
    },
    "papermill": {
     "duration": 0.021702,
     "end_time": "2024-07-12T04:27:40.311295",
     "exception": false,
     "start_time": "2024-07-12T04:27:40.289593",
     "status": "completed"
    },
    "tags": []
   },
   "outputs": [],
   "source": [
    "X_train,X_test,y_train,y_test = train_test_split(X,y,test_size=0.2,random_state=42)"
   ]
  },
  {
   "cell_type": "code",
   "execution_count": 7,
   "id": "d1fb9ebf",
   "metadata": {
    "execution": {
     "iopub.execute_input": "2024-07-12T04:27:40.328087Z",
     "iopub.status.busy": "2024-07-12T04:27:40.327720Z",
     "iopub.status.idle": "2024-07-12T04:27:40.333584Z",
     "shell.execute_reply": "2024-07-12T04:27:40.332382Z"
    },
    "papermill": {
     "duration": 0.017202,
     "end_time": "2024-07-12T04:27:40.335973",
     "exception": false,
     "start_time": "2024-07-12T04:27:40.318771",
     "status": "completed"
    },
    "tags": []
   },
   "outputs": [
    {
     "name": "stdout",
     "output_type": "stream",
     "text": [
      "(242, 13)\n",
      "(61, 13)\n"
     ]
    }
   ],
   "source": [
    "print(X_train.shape)\n",
    "print(X_test.shape)"
   ]
  },
  {
   "cell_type": "code",
   "execution_count": 8,
   "id": "46e7adca",
   "metadata": {
    "execution": {
     "iopub.execute_input": "2024-07-12T04:27:40.352984Z",
     "iopub.status.busy": "2024-07-12T04:27:40.352595Z",
     "iopub.status.idle": "2024-07-12T04:27:40.357876Z",
     "shell.execute_reply": "2024-07-12T04:27:40.356815Z"
    },
    "papermill": {
     "duration": 0.016789,
     "end_time": "2024-07-12T04:27:40.360182",
     "exception": false,
     "start_time": "2024-07-12T04:27:40.343393",
     "status": "completed"
    },
    "tags": []
   },
   "outputs": [],
   "source": [
    "rf = RandomForestClassifier()\n",
    "gb = GradientBoostingClassifier()\n",
    "svc = SVC()\n",
    "lr = LogisticRegression()"
   ]
  },
  {
   "cell_type": "code",
   "execution_count": 9,
   "id": "5f207f9c",
   "metadata": {
    "execution": {
     "iopub.execute_input": "2024-07-12T04:27:40.376404Z",
     "iopub.status.busy": "2024-07-12T04:27:40.376011Z",
     "iopub.status.idle": "2024-07-12T04:27:40.580316Z",
     "shell.execute_reply": "2024-07-12T04:27:40.579172Z"
    },
    "papermill": {
     "duration": 0.215486,
     "end_time": "2024-07-12T04:27:40.583058",
     "exception": false,
     "start_time": "2024-07-12T04:27:40.367572",
     "status": "completed"
    },
    "tags": []
   },
   "outputs": [
    {
     "data": {
      "text/plain": [
       "0.819672131147541"
      ]
     },
     "execution_count": 9,
     "metadata": {},
     "output_type": "execute_result"
    }
   ],
   "source": [
    "rf.fit(X_train,y_train)\n",
    "y_pred = rf.predict(X_test)\n",
    "accuracy_score(y_test,y_pred)"
   ]
  },
  {
   "cell_type": "code",
   "execution_count": 10,
   "id": "ba3a7e0b",
   "metadata": {
    "execution": {
     "iopub.execute_input": "2024-07-12T04:27:40.600128Z",
     "iopub.status.busy": "2024-07-12T04:27:40.599740Z",
     "iopub.status.idle": "2024-07-12T04:27:40.725780Z",
     "shell.execute_reply": "2024-07-12T04:27:40.724628Z"
    },
    "papermill": {
     "duration": 0.13892,
     "end_time": "2024-07-12T04:27:40.729891",
     "exception": false,
     "start_time": "2024-07-12T04:27:40.590971",
     "status": "completed"
    },
    "tags": []
   },
   "outputs": [
    {
     "data": {
      "text/plain": [
       "0.7704918032786885"
      ]
     },
     "execution_count": 10,
     "metadata": {},
     "output_type": "execute_result"
    }
   ],
   "source": [
    "gb.fit(X_train,y_train)\n",
    "y_pred = gb.predict(X_test)\n",
    "accuracy_score(y_test,y_pred)"
   ]
  },
  {
   "cell_type": "code",
   "execution_count": 11,
   "id": "c829d4d7",
   "metadata": {
    "execution": {
     "iopub.execute_input": "2024-07-12T04:27:40.748576Z",
     "iopub.status.busy": "2024-07-12T04:27:40.747828Z",
     "iopub.status.idle": "2024-07-12T04:27:40.767219Z",
     "shell.execute_reply": "2024-07-12T04:27:40.765542Z"
    },
    "papermill": {
     "duration": 0.031837,
     "end_time": "2024-07-12T04:27:40.770135",
     "exception": false,
     "start_time": "2024-07-12T04:27:40.738298",
     "status": "completed"
    },
    "tags": []
   },
   "outputs": [
    {
     "data": {
      "text/plain": [
       "0.7049180327868853"
      ]
     },
     "execution_count": 11,
     "metadata": {},
     "output_type": "execute_result"
    }
   ],
   "source": [
    "svc.fit(X_train,y_train)\n",
    "y_pred = svc.predict(X_test)\n",
    "accuracy_score(y_test,y_pred)"
   ]
  },
  {
   "cell_type": "code",
   "execution_count": 12,
   "id": "a7475b07",
   "metadata": {
    "execution": {
     "iopub.execute_input": "2024-07-12T04:27:40.788369Z",
     "iopub.status.busy": "2024-07-12T04:27:40.787846Z",
     "iopub.status.idle": "2024-07-12T04:27:40.827681Z",
     "shell.execute_reply": "2024-07-12T04:27:40.826167Z"
    },
    "papermill": {
     "duration": 0.052107,
     "end_time": "2024-07-12T04:27:40.830707",
     "exception": false,
     "start_time": "2024-07-12T04:27:40.778600",
     "status": "completed"
    },
    "tags": []
   },
   "outputs": [
    {
     "name": "stderr",
     "output_type": "stream",
     "text": [
      "/opt/conda/lib/python3.10/site-packages/sklearn/linear_model/_logistic.py:458: ConvergenceWarning: lbfgs failed to converge (status=1):\n",
      "STOP: TOTAL NO. of ITERATIONS REACHED LIMIT.\n",
      "\n",
      "Increase the number of iterations (max_iter) or scale the data as shown in:\n",
      "    https://scikit-learn.org/stable/modules/preprocessing.html\n",
      "Please also refer to the documentation for alternative solver options:\n",
      "    https://scikit-learn.org/stable/modules/linear_model.html#logistic-regression\n",
      "  n_iter_i = _check_optimize_result(\n"
     ]
    },
    {
     "data": {
      "text/plain": [
       "0.8852459016393442"
      ]
     },
     "execution_count": 12,
     "metadata": {},
     "output_type": "execute_result"
    }
   ],
   "source": [
    "lr.fit(X_train,y_train)\n",
    "y_pred = lr.predict(X_test)\n",
    "accuracy_score(y_test,y_pred)"
   ]
  },
  {
   "cell_type": "code",
   "execution_count": 13,
   "id": "ccae2728",
   "metadata": {
    "execution": {
     "iopub.execute_input": "2024-07-12T04:27:40.850064Z",
     "iopub.status.busy": "2024-07-12T04:27:40.849465Z",
     "iopub.status.idle": "2024-07-12T04:27:41.042291Z",
     "shell.execute_reply": "2024-07-12T04:27:41.041172Z"
    },
    "papermill": {
     "duration": 0.205548,
     "end_time": "2024-07-12T04:27:41.044983",
     "exception": false,
     "start_time": "2024-07-12T04:27:40.839435",
     "status": "completed"
    },
    "tags": []
   },
   "outputs": [
    {
     "data": {
      "text/plain": [
       "0.9016393442622951"
      ]
     },
     "execution_count": 13,
     "metadata": {},
     "output_type": "execute_result"
    }
   ],
   "source": [
    "rf = RandomForestClassifier(max_samples=0.75,random_state=42)\n",
    "rf.fit(X_train,y_train)\n",
    "y_pred = rf.predict(X_test)\n",
    "accuracy_score(y_test,y_pred)\n"
   ]
  },
  {
   "cell_type": "code",
   "execution_count": 14,
   "id": "d3deff1c",
   "metadata": {
    "execution": {
     "iopub.execute_input": "2024-07-12T04:27:41.063244Z",
     "iopub.status.busy": "2024-07-12T04:27:41.062263Z",
     "iopub.status.idle": "2024-07-12T04:27:42.981223Z",
     "shell.execute_reply": "2024-07-12T04:27:42.980239Z"
    },
    "papermill": {
     "duration": 1.930634,
     "end_time": "2024-07-12T04:27:42.983593",
     "exception": false,
     "start_time": "2024-07-12T04:27:41.052959",
     "status": "completed"
    },
    "tags": []
   },
   "outputs": [
    {
     "data": {
      "text/plain": [
       "0.8281720430107526"
      ]
     },
     "execution_count": 14,
     "metadata": {},
     "output_type": "execute_result"
    }
   ],
   "source": [
    "from sklearn.model_selection import cross_val_score\n",
    "np.mean(cross_val_score(RandomForestClassifier(max_samples=0.75),X,y,cv=10,scoring='accuracy'))"
   ]
  },
  {
   "cell_type": "markdown",
   "id": "b98a995f",
   "metadata": {
    "papermill": {
     "duration": 0.0087,
     "end_time": "2024-07-12T04:27:43.000536",
     "exception": false,
     "start_time": "2024-07-12T04:27:42.991836",
     "status": "completed"
    },
    "tags": []
   },
   "source": [
    "# ***GridSearchCV***"
   ]
  },
  {
   "cell_type": "code",
   "execution_count": 15,
   "id": "25a416e2",
   "metadata": {
    "execution": {
     "iopub.execute_input": "2024-07-12T04:27:43.018417Z",
     "iopub.status.busy": "2024-07-12T04:27:43.017696Z",
     "iopub.status.idle": "2024-07-12T04:27:43.023190Z",
     "shell.execute_reply": "2024-07-12T04:27:43.022152Z"
    },
    "papermill": {
     "duration": 0.016911,
     "end_time": "2024-07-12T04:27:43.025458",
     "exception": false,
     "start_time": "2024-07-12T04:27:43.008547",
     "status": "completed"
    },
    "tags": []
   },
   "outputs": [],
   "source": [
    "# Number of trees in random forest\n",
    "n_estimators = [20,60,100,120]\n",
    "\n",
    "# Number of features to consider at every split\n",
    "max_features = [0.2,0.6,1.0]\n",
    "\n",
    "# Maximum number of levels in tree\n",
    "max_depth = [2,8,None]\n",
    "\n",
    "# Number of samples\n",
    "max_samples = [0.5,0.75,1.0]\n",
    "\n",
    "# 108 diff random forest train"
   ]
  },
  {
   "cell_type": "code",
   "execution_count": 16,
   "id": "04758a32",
   "metadata": {
    "execution": {
     "iopub.execute_input": "2024-07-12T04:27:43.043239Z",
     "iopub.status.busy": "2024-07-12T04:27:43.042886Z",
     "iopub.status.idle": "2024-07-12T04:27:43.048367Z",
     "shell.execute_reply": "2024-07-12T04:27:43.047286Z"
    },
    "papermill": {
     "duration": 0.017493,
     "end_time": "2024-07-12T04:27:43.051018",
     "exception": false,
     "start_time": "2024-07-12T04:27:43.033525",
     "status": "completed"
    },
    "tags": []
   },
   "outputs": [
    {
     "name": "stdout",
     "output_type": "stream",
     "text": [
      "{'n_estimators': [20, 60, 100, 120], 'max_features': [0.2, 0.6, 1.0], 'max_depth': [2, 8, None], 'max_samples': [0.5, 0.75, 1.0]}\n"
     ]
    }
   ],
   "source": [
    "param_grid = {'n_estimators': n_estimators,\n",
    "               'max_features': max_features,\n",
    "               'max_depth': max_depth,\n",
    "              'max_samples':max_samples\n",
    "             }\n",
    "print(param_grid)"
   ]
  },
  {
   "cell_type": "code",
   "execution_count": 17,
   "id": "3213c2ce",
   "metadata": {
    "execution": {
     "iopub.execute_input": "2024-07-12T04:27:43.068835Z",
     "iopub.status.busy": "2024-07-12T04:27:43.068483Z",
     "iopub.status.idle": "2024-07-12T04:27:43.073650Z",
     "shell.execute_reply": "2024-07-12T04:27:43.072522Z"
    },
    "papermill": {
     "duration": 0.016985,
     "end_time": "2024-07-12T04:27:43.076087",
     "exception": false,
     "start_time": "2024-07-12T04:27:43.059102",
     "status": "completed"
    },
    "tags": []
   },
   "outputs": [],
   "source": [
    "rf = RandomForestClassifier()"
   ]
  },
  {
   "cell_type": "code",
   "execution_count": 18,
   "id": "2a530781",
   "metadata": {
    "execution": {
     "iopub.execute_input": "2024-07-12T04:27:43.094008Z",
     "iopub.status.busy": "2024-07-12T04:27:43.093636Z",
     "iopub.status.idle": "2024-07-12T04:27:43.098838Z",
     "shell.execute_reply": "2024-07-12T04:27:43.097789Z"
    },
    "papermill": {
     "duration": 0.016819,
     "end_time": "2024-07-12T04:27:43.101175",
     "exception": false,
     "start_time": "2024-07-12T04:27:43.084356",
     "status": "completed"
    },
    "tags": []
   },
   "outputs": [],
   "source": [
    "from sklearn.model_selection import GridSearchCV\n",
    "\n",
    "rf_grid = GridSearchCV(estimator = rf, \n",
    "                       param_grid = param_grid, \n",
    "                       cv = 5, \n",
    "                       verbose=2, \n",
    "                       n_jobs = -1)"
   ]
  },
  {
   "cell_type": "code",
   "execution_count": 19,
   "id": "3ca8461c",
   "metadata": {
    "execution": {
     "iopub.execute_input": "2024-07-12T04:27:43.120321Z",
     "iopub.status.busy": "2024-07-12T04:27:43.119372Z",
     "iopub.status.idle": "2024-07-12T04:28:17.185971Z",
     "shell.execute_reply": "2024-07-12T04:28:17.184695Z"
    },
    "papermill": {
     "duration": 34.087541,
     "end_time": "2024-07-12T04:28:17.196966",
     "exception": false,
     "start_time": "2024-07-12T04:27:43.109425",
     "status": "completed"
    },
    "tags": []
   },
   "outputs": [
    {
     "name": "stdout",
     "output_type": "stream",
     "text": [
      "Fitting 5 folds for each of 108 candidates, totalling 540 fits\n",
      "[CV] END max_depth=2, max_features=0.2, max_samples=0.5, n_estimators=20; total time=   0.1s\n",
      "[CV] END max_depth=2, max_features=0.2, max_samples=0.5, n_estimators=20; total time=   0.1s\n",
      "[CV] END max_depth=2, max_features=0.2, max_samples=0.5, n_estimators=60; total time=   0.2s\n",
      "[CV] END max_depth=2, max_features=0.2, max_samples=0.5, n_estimators=100; total time=   0.3s\n",
      "[CV] END max_depth=2, max_features=0.2, max_samples=0.5, n_estimators=120; total time=   0.3s\n",
      "[CV] END max_depth=2, max_features=0.2, max_samples=0.5, n_estimators=120; total time=   0.3s\n",
      "[CV] END max_depth=2, max_features=0.2, max_samples=0.75, n_estimators=60; total time=   0.2s\n",
      "[CV] END max_depth=2, max_features=0.2, max_samples=0.75, n_estimators=100; total time=   0.3s\n",
      "[CV] END max_depth=2, max_features=0.2, max_samples=0.75, n_estimators=120; total time=   0.3s\n",
      "[CV] END max_depth=2, max_features=0.2, max_samples=1.0, n_estimators=20; total time=   0.1s\n",
      "[CV] END max_depth=2, max_features=0.2, max_samples=1.0, n_estimators=20; total time=   0.1s\n",
      "[CV] END max_depth=2, max_features=0.2, max_samples=1.0, n_estimators=20; total time=   0.1s\n",
      "[CV] END max_depth=2, max_features=0.2, max_samples=1.0, n_estimators=60; total time=   0.2s\n",
      "[CV] END max_depth=2, max_features=0.2, max_samples=1.0, n_estimators=100; total time=   0.3s\n",
      "[CV] END max_depth=2, max_features=0.2, max_samples=1.0, n_estimators=120; total time=   0.3s\n",
      "[CV] END max_depth=2, max_features=0.2, max_samples=1.0, n_estimators=120; total time=   0.3s\n",
      "[CV] END max_depth=2, max_features=0.6, max_samples=0.5, n_estimators=60; total time=   0.2s\n",
      "[CV] END max_depth=2, max_features=0.6, max_samples=0.5, n_estimators=100; total time=   0.3s\n",
      "[CV] END max_depth=2, max_features=0.6, max_samples=0.5, n_estimators=120; total time=   0.3s\n",
      "[CV] END max_depth=2, max_features=0.6, max_samples=0.75, n_estimators=20; total time=   0.1s\n",
      "[CV] END max_depth=2, max_features=0.6, max_samples=0.75, n_estimators=20; total time=   0.1s\n",
      "[CV] END max_depth=2, max_features=0.6, max_samples=0.75, n_estimators=20; total time=   0.1s\n",
      "[CV] END max_depth=2, max_features=0.6, max_samples=0.75, n_estimators=60; total time=   0.2s\n",
      "[CV] END max_depth=2, max_features=0.6, max_samples=0.75, n_estimators=60; total time=   0.2s\n",
      "[CV] END max_depth=2, max_features=0.6, max_samples=0.75, n_estimators=100; total time=   0.3s\n",
      "[CV] END max_depth=2, max_features=0.6, max_samples=0.75, n_estimators=120; total time=   0.3s\n",
      "[CV] END max_depth=2, max_features=0.6, max_samples=1.0, n_estimators=20; total time=   0.1s\n",
      "[CV] END max_depth=2, max_features=0.6, max_samples=1.0, n_estimators=20; total time=   0.1s\n",
      "[CV] END max_depth=2, max_features=0.6, max_samples=1.0, n_estimators=60; total time=   0.2s\n",
      "[CV] END max_depth=2, max_features=0.6, max_samples=1.0, n_estimators=100; total time=   0.3s\n",
      "[CV] END max_depth=2, max_features=0.6, max_samples=1.0, n_estimators=120; total time=   0.3s\n",
      "[CV] END max_depth=2, max_features=0.6, max_samples=1.0, n_estimators=120; total time=   0.3s\n",
      "[CV] END max_depth=2, max_features=1.0, max_samples=0.5, n_estimators=60; total time=   0.2s\n",
      "[CV] END max_depth=2, max_features=1.0, max_samples=0.5, n_estimators=100; total time=   0.3s\n",
      "[CV] END max_depth=2, max_features=1.0, max_samples=0.5, n_estimators=120; total time=   0.4s\n",
      "[CV] END max_depth=2, max_features=1.0, max_samples=0.75, n_estimators=20; total time=   0.1s\n",
      "[CV] END max_depth=2, max_features=1.0, max_samples=0.75, n_estimators=20; total time=   0.1s\n",
      "[CV] END max_depth=2, max_features=1.0, max_samples=0.75, n_estimators=20; total time=   0.1s\n",
      "[CV] END max_depth=2, max_features=1.0, max_samples=0.75, n_estimators=60; total time=   0.2s\n",
      "[CV] END max_depth=2, max_features=1.0, max_samples=0.75, n_estimators=60; total time=   0.2s\n",
      "[CV] END max_depth=2, max_features=1.0, max_samples=0.75, n_estimators=100; total time=   0.3s\n",
      "[CV] END max_depth=2, max_features=1.0, max_samples=0.75, n_estimators=120; total time=   0.4s\n",
      "[CV] END max_depth=2, max_features=1.0, max_samples=1.0, n_estimators=20; total time=   0.1s\n",
      "[CV] END max_depth=2, max_features=1.0, max_samples=1.0, n_estimators=20; total time=   0.1s\n",
      "[CV] END max_depth=2, max_features=1.0, max_samples=1.0, n_estimators=60; total time=   0.2s\n",
      "[CV] END max_depth=2, max_features=1.0, max_samples=1.0, n_estimators=100; total time=   0.3s\n",
      "[CV] END max_depth=2, max_features=1.0, max_samples=1.0, n_estimators=100; total time=   0.3s\n",
      "[CV] END max_depth=2, max_features=1.0, max_samples=1.0, n_estimators=120; total time=   0.4s\n",
      "[CV] END max_depth=8, max_features=0.2, max_samples=0.5, n_estimators=60; total time=   0.2s\n",
      "[CV] END max_depth=8, max_features=0.2, max_samples=0.5, n_estimators=100; total time=   0.3s\n",
      "[CV] END max_depth=8, max_features=0.2, max_samples=0.5, n_estimators=100; total time=   0.3s\n",
      "[CV] END max_depth=8, max_features=0.2, max_samples=0.5, n_estimators=120; total time=   0.3s\n",
      "[CV] END max_depth=8, max_features=0.2, max_samples=0.75, n_estimators=60; total time=   0.2s\n",
      "[CV] END max_depth=8, max_features=0.2, max_samples=0.75, n_estimators=60; total time=   0.2s\n",
      "[CV] END max_depth=8, max_features=0.2, max_samples=0.75, n_estimators=100; total time=   0.3s\n",
      "[CV] END max_depth=8, max_features=0.2, max_samples=0.75, n_estimators=120; total time=   0.3s\n",
      "[CV] END max_depth=8, max_features=0.2, max_samples=1.0, n_estimators=20; total time=   0.1s\n",
      "[CV] END max_depth=8, max_features=0.2, max_samples=1.0, n_estimators=20; total time=   0.1s\n",
      "[CV] END max_depth=8, max_features=0.2, max_samples=1.0, n_estimators=60; total time=   0.2s\n",
      "[CV] END max_depth=8, max_features=0.2, max_samples=1.0, n_estimators=100; total time=   0.3s\n",
      "[CV] END max_depth=8, max_features=0.2, max_samples=1.0, n_estimators=100; total time=   0.3s\n",
      "[CV] END max_depth=8, max_features=0.2, max_samples=1.0, n_estimators=120; total time=   0.4s\n",
      "[CV] END max_depth=8, max_features=0.6, max_samples=0.5, n_estimators=60; total time=   0.2s\n",
      "[CV] END max_depth=8, max_features=0.6, max_samples=0.5, n_estimators=60; total time=   0.2s\n",
      "[CV] END max_depth=8, max_features=0.6, max_samples=0.5, n_estimators=100; total time=   0.3s\n",
      "[CV] END max_depth=8, max_features=0.6, max_samples=0.5, n_estimators=120; total time=   0.3s\n",
      "[CV] END max_depth=8, max_features=0.6, max_samples=0.75, n_estimators=20; total time=   0.1s\n",
      "[CV] END max_depth=8, max_features=0.6, max_samples=0.75, n_estimators=20; total time=   0.1s\n",
      "[CV] END max_depth=8, max_features=0.6, max_samples=0.75, n_estimators=60; total time=   0.2s\n",
      "[CV] END max_depth=8, max_features=0.6, max_samples=0.75, n_estimators=60; total time=   0.2s\n",
      "[CV] END max_depth=8, max_features=0.6, max_samples=0.75, n_estimators=100; total time=   0.3s\n",
      "[CV] END max_depth=8, max_features=0.6, max_samples=0.75, n_estimators=120; total time=   0.4s\n",
      "[CV] END max_depth=8, max_features=0.6, max_samples=1.0, n_estimators=20; total time=   0.1s\n",
      "[CV] END max_depth=8, max_features=0.6, max_samples=1.0, n_estimators=20; total time=   0.1s\n",
      "[CV] END max_depth=8, max_features=0.6, max_samples=1.0, n_estimators=60; total time=   0.2s\n",
      "[CV] END max_depth=8, max_features=0.6, max_samples=1.0, n_estimators=100; total time=   0.3s\n",
      "[CV] END max_depth=8, max_features=0.6, max_samples=1.0, n_estimators=100; total time=   0.3s\n",
      "[CV] END max_depth=8, max_features=0.6, max_samples=1.0, n_estimators=120; total time=   0.4s\n",
      "[CV] END max_depth=8, max_features=1.0, max_samples=0.5, n_estimators=60; total time=   0.2s\n",
      "[CV] END max_depth=8, max_features=1.0, max_samples=0.5, n_estimators=60; total time=   0.2s\n",
      "[CV] END max_depth=8, max_features=1.0, max_samples=0.5, n_estimators=100; total time=   0.3s\n",
      "[CV] END max_depth=8, max_features=1.0, max_samples=0.5, n_estimators=120; total time=   0.4s\n",
      "[CV] END max_depth=8, max_features=1.0, max_samples=0.75, n_estimators=20; total time=   0.1s\n",
      "[CV] END max_depth=8, max_features=1.0, max_samples=0.75, n_estimators=20; total time=   0.1s\n",
      "[CV] END max_depth=8, max_features=1.0, max_samples=0.75, n_estimators=60; total time=   0.2s\n",
      "[CV] END max_depth=8, max_features=1.0, max_samples=0.75, n_estimators=60; total time=   0.2s\n",
      "[CV] END max_depth=8, max_features=1.0, max_samples=0.75, n_estimators=100; total time=   0.3s\n",
      "[CV] END max_depth=2, max_features=0.2, max_samples=0.5, n_estimators=20; total time=   0.1s\n",
      "[CV] END max_depth=2, max_features=0.2, max_samples=0.5, n_estimators=60; total time=   0.2s\n",
      "[CV] END max_depth=2, max_features=0.2, max_samples=0.5, n_estimators=100; total time=   0.3s\n",
      "[CV] END max_depth=2, max_features=0.2, max_samples=0.5, n_estimators=100; total time=   0.3s\n",
      "[CV] END max_depth=2, max_features=0.2, max_samples=0.5, n_estimators=120; total time=   0.3s\n",
      "[CV] END max_depth=2, max_features=0.2, max_samples=0.75, n_estimators=60; total time=   0.2s\n",
      "[CV] END max_depth=2, max_features=0.2, max_samples=0.75, n_estimators=100; total time=   0.3s\n",
      "[CV] END max_depth=2, max_features=0.2, max_samples=0.75, n_estimators=100; total time=   0.3s\n",
      "[CV] END max_depth=2, max_features=0.2, max_samples=0.75, n_estimators=120; total time=   0.3s\n",
      "[CV] END max_depth=2, max_features=0.2, max_samples=1.0, n_estimators=60; total time=   0.2s\n",
      "[CV] END max_depth=2, max_features=0.2, max_samples=1.0, n_estimators=60; total time=   0.2s\n",
      "[CV] END max_depth=2, max_features=0.2, max_samples=1.0, n_estimators=100; total time=   0.3s\n",
      "[CV] END max_depth=2, max_features=0.2, max_samples=1.0, n_estimators=120; total time=   0.3s\n",
      "[CV] END max_depth=2, max_features=0.6, max_samples=0.5, n_estimators=20; total time=   0.1s\n",
      "[CV] END max_depth=2, max_features=0.6, max_samples=0.5, n_estimators=20; total time=   0.1s\n",
      "[CV] END max_depth=2, max_features=0.6, max_samples=0.5, n_estimators=60; total time=   0.2s\n",
      "[CV] END max_depth=2, max_features=0.6, max_samples=0.5, n_estimators=100; total time=   0.3s\n",
      "[CV] END max_depth=2, max_features=0.6, max_samples=0.5, n_estimators=100; total time=   0.3s\n",
      "[CV] END max_depth=2, max_features=0.6, max_samples=0.5, n_estimators=120; total time=   0.3s\n",
      "[CV] END max_depth=2, max_features=0.6, max_samples=0.75, n_estimators=60; total time=   0.2s\n",
      "[CV] END max_depth=2, max_features=0.6, max_samples=0.75, n_estimators=100; total time=   0.3s\n",
      "[CV] END max_depth=2, max_features=0.6, max_samples=0.75, n_estimators=100; total time=   0.3s\n",
      "[CV] END max_depth=2, max_features=0.6, max_samples=0.75, n_estimators=120; total time=   0.3s\n",
      "[CV] END max_depth=2, max_features=0.6, max_samples=1.0, n_estimators=60; total time=   0.2s\n",
      "[CV] END max_depth=2, max_features=0.6, max_samples=1.0, n_estimators=100; total time=   0.3s\n",
      "[CV] END max_depth=2, max_features=0.6, max_samples=1.0, n_estimators=100; total time=   0.3s\n",
      "[CV] END max_depth=2, max_features=0.6, max_samples=1.0, n_estimators=120; total time=   0.3s\n",
      "[CV] END max_depth=2, max_features=1.0, max_samples=0.5, n_estimators=60; total time=   0.2s\n",
      "[CV] END max_depth=2, max_features=1.0, max_samples=0.5, n_estimators=60; total time=   0.2s\n",
      "[CV] END max_depth=2, max_features=1.0, max_samples=0.5, n_estimators=100; total time=   0.3s\n",
      "[CV] END max_depth=2, max_features=1.0, max_samples=0.5, n_estimators=120; total time=   0.4s\n",
      "[CV] END max_depth=2, max_features=1.0, max_samples=0.75, n_estimators=20; total time=   0.1s\n",
      "[CV] END max_depth=2, max_features=1.0, max_samples=0.75, n_estimators=20; total time=   0.1s\n",
      "[CV] END max_depth=2, max_features=1.0, max_samples=0.75, n_estimators=60; total time=   0.2s\n",
      "[CV] END max_depth=2, max_features=1.0, max_samples=0.75, n_estimators=100; total time=   0.3s\n",
      "[CV] END max_depth=2, max_features=1.0, max_samples=0.75, n_estimators=120; total time=   0.4s\n",
      "[CV] END max_depth=2, max_features=1.0, max_samples=1.0, n_estimators=20; total time=   0.1s\n",
      "[CV] END max_depth=2, max_features=1.0, max_samples=1.0, n_estimators=20; total time=   0.1s\n",
      "[CV] END max_depth=2, max_features=1.0, max_samples=1.0, n_estimators=20; total time=   0.1s\n",
      "[CV] END max_depth=2, max_features=1.0, max_samples=1.0, n_estimators=60; total time=   0.2s\n",
      "[CV] END max_depth=2, max_features=1.0, max_samples=1.0, n_estimators=60; total time=   0.2s\n",
      "[CV] END max_depth=2, max_features=1.0, max_samples=1.0, n_estimators=100; total time=   0.3s\n",
      "[CV] END max_depth=2, max_features=1.0, max_samples=1.0, n_estimators=120; total time=   0.4s\n",
      "[CV] END max_depth=8, max_features=0.2, max_samples=0.5, n_estimators=20; total time=   0.1s\n",
      "[CV] END max_depth=8, max_features=0.2, max_samples=0.5, n_estimators=20; total time=   0.1s\n",
      "[CV] END max_depth=8, max_features=0.2, max_samples=0.5, n_estimators=20; total time=   0.1s\n",
      "[CV] END max_depth=8, max_features=0.2, max_samples=0.5, n_estimators=60; total time=   0.2s\n",
      "[CV] END max_depth=8, max_features=0.2, max_samples=0.5, n_estimators=100; total time=   0.3s\n",
      "[CV] END max_depth=8, max_features=0.2, max_samples=0.5, n_estimators=120; total time=   0.4s\n",
      "[CV] END max_depth=8, max_features=0.2, max_samples=0.5, n_estimators=120; total time=   0.3s\n",
      "[CV] END max_depth=8, max_features=0.2, max_samples=0.75, n_estimators=60; total time=   0.2s\n",
      "[CV] END max_depth=8, max_features=0.2, max_samples=0.75, n_estimators=100; total time=   0.3s\n",
      "[CV] END max_depth=8, max_features=0.2, max_samples=0.75, n_estimators=120; total time=   0.4s\n",
      "[CV] END max_depth=8, max_features=0.2, max_samples=1.0, n_estimators=20; total time=   0.1s\n",
      "[CV] END max_depth=8, max_features=0.2, max_samples=1.0, n_estimators=20; total time=   0.1s\n",
      "[CV] END max_depth=8, max_features=0.2, max_samples=1.0, n_estimators=20; total time=   0.1s\n",
      "[CV] END max_depth=8, max_features=0.2, max_samples=1.0, n_estimators=60; total time=   0.2s\n",
      "[CV] END max_depth=8, max_features=0.2, max_samples=1.0, n_estimators=100; total time=   0.3s\n",
      "[CV] END max_depth=8, max_features=0.2, max_samples=1.0, n_estimators=120; total time=   0.3s\n",
      "[CV] END max_depth=8, max_features=0.2, max_samples=1.0, n_estimators=120; total time=   0.4s\n",
      "[CV] END max_depth=8, max_features=0.6, max_samples=0.5, n_estimators=60; total time=   0.2s\n",
      "[CV] END max_depth=8, max_features=0.6, max_samples=0.5, n_estimators=100; total time=   0.3s\n",
      "[CV] END max_depth=8, max_features=0.6, max_samples=0.5, n_estimators=120; total time=   0.3s\n",
      "[CV] END max_depth=8, max_features=0.6, max_samples=0.75, n_estimators=20; total time=   0.1s\n",
      "[CV] END max_depth=8, max_features=0.6, max_samples=0.75, n_estimators=20; total time=   0.1s\n",
      "[CV] END max_depth=8, max_features=0.6, max_samples=0.75, n_estimators=20; total time=   0.1s\n",
      "[CV] END max_depth=8, max_features=0.6, max_samples=0.75, n_estimators=60; total time=   0.2s\n",
      "[CV] END max_depth=8, max_features=0.6, max_samples=0.75, n_estimators=100; total time=   0.3s\n",
      "[CV] END max_depth=8, max_features=0.6, max_samples=0.75, n_estimators=120; total time=   0.4s\n",
      "[CV] END max_depth=8, max_features=0.6, max_samples=0.75, n_estimators=120; total time=   0.4s\n",
      "[CV] END max_depth=8, max_features=0.6, max_samples=1.0, n_estimators=60; total time=   0.2s\n",
      "[CV] END max_depth=8, max_features=0.6, max_samples=1.0, n_estimators=100; total time=   0.3s\n",
      "[CV] END max_depth=8, max_features=0.6, max_samples=1.0, n_estimators=120; total time=   0.4s\n",
      "[CV] END max_depth=8, max_features=1.0, max_samples=0.5, n_estimators=20; total time=   0.1s\n",
      "[CV] END max_depth=8, max_features=1.0, max_samples=0.5, n_estimators=20; total time=   0.1s\n",
      "[CV] END max_depth=8, max_features=1.0, max_samples=0.5, n_estimators=20; total time=   0.1s\n",
      "[CV] END max_depth=8, max_features=1.0, max_samples=0.5, n_estimators=60; total time=   0.2s\n",
      "[CV] END max_depth=8, max_features=1.0, max_samples=0.5, n_estimators=100; total time=   0.3s\n",
      "[CV] END max_depth=8, max_features=1.0, max_samples=0.5, n_estimators=120; total time=   0.4s\n",
      "[CV] END max_depth=8, max_features=1.0, max_samples=0.5, n_estimators=120; total time=   0.4s\n",
      "[CV] END max_depth=8, max_features=1.0, max_samples=0.75, n_estimators=60; total time=   0.2s\n",
      "[CV] END max_depth=8, max_features=1.0, max_samples=0.75, n_estimators=100; total time=   0.3s\n",
      "[CV] END max_depth=8, max_features=1.0, max_samples=0.75, n_estimators=120; total time=   0.4s\n",
      "[CV] END max_depth=8, max_features=1.0, max_samples=1.0, n_estimators=20; total time=   0.1s\n",
      "[CV] END max_depth=8, max_features=1.0, max_samples=1.0, n_estimators=20; total time=   0.1s\n",
      "[CV] END max_depth=8, max_features=1.0, max_samples=1.0, n_estimators=20; total time=   0.1s\n",
      "[CV] END max_depth=8, max_features=1.0, max_samples=1.0, n_estimators=60; total time=   0.2s\n",
      "[CV] END max_depth=2, max_features=0.2, max_samples=0.5, n_estimators=20; total time=   0.1s\n",
      "[CV] END max_depth=2, max_features=0.2, max_samples=0.5, n_estimators=60; total time=   0.2s\n",
      "[CV] END max_depth=2, max_features=0.2, max_samples=0.5, n_estimators=60; total time=   0.2s\n",
      "[CV] END max_depth=2, max_features=0.2, max_samples=0.5, n_estimators=100; total time=   0.3s\n",
      "[CV] END max_depth=2, max_features=0.2, max_samples=0.5, n_estimators=120; total time=   0.3s\n",
      "[CV] END max_depth=2, max_features=0.2, max_samples=0.75, n_estimators=20; total time=   0.1s\n",
      "[CV] END max_depth=2, max_features=0.2, max_samples=0.75, n_estimators=20; total time=   0.1s\n",
      "[CV] END max_depth=2, max_features=0.2, max_samples=0.75, n_estimators=60; total time=   0.2s\n",
      "[CV] END max_depth=2, max_features=0.2, max_samples=0.75, n_estimators=100; total time=   0.3s\n",
      "[CV] END max_depth=2, max_features=0.2, max_samples=0.75, n_estimators=120; total time=   0.3s\n",
      "[CV] END max_depth=2, max_features=0.2, max_samples=0.75, n_estimators=120; total time=   0.3s\n",
      "[CV] END max_depth=2, max_features=0.2, max_samples=1.0, n_estimators=60; total time=   0.2s\n",
      "[CV] END max_depth=2, max_features=0.2, max_samples=1.0, n_estimators=100; total time=   0.3s\n",
      "[CV] END max_depth=2, max_features=0.2, max_samples=1.0, n_estimators=120; total time=   0.3s\n",
      "[CV] END max_depth=2, max_features=0.6, max_samples=0.5, n_estimators=20; total time=   0.1s\n",
      "[CV] END max_depth=2, max_features=0.6, max_samples=0.5, n_estimators=20; total time=   0.1s\n",
      "[CV] END max_depth=2, max_features=0.6, max_samples=0.5, n_estimators=20; total time=   0.1s\n",
      "[CV] END max_depth=2, max_features=0.6, max_samples=0.5, n_estimators=60; total time=   0.2s\n",
      "[CV] END max_depth=2, max_features=0.6, max_samples=0.5, n_estimators=60; total time=   0.2s\n",
      "[CV] END max_depth=2, max_features=0.6, max_samples=0.5, n_estimators=100; total time=   0.3s\n",
      "[CV] END max_depth=2, max_features=0.6, max_samples=0.5, n_estimators=120; total time=   0.3s\n",
      "[CV] END max_depth=2, max_features=0.6, max_samples=0.75, n_estimators=20; total time=   0.1s\n",
      "[CV] END max_depth=2, max_features=0.6, max_samples=0.75, n_estimators=20; total time=   0.1s\n",
      "[CV] END max_depth=2, max_features=0.6, max_samples=0.75, n_estimators=60; total time=   0.2s\n",
      "[CV] END max_depth=2, max_features=0.6, max_samples=0.75, n_estimators=100; total time=   0.3s\n",
      "[CV] END max_depth=2, max_features=0.6, max_samples=0.75, n_estimators=120; total time=   0.4s\n",
      "[CV] END max_depth=2, max_features=0.6, max_samples=0.75, n_estimators=120; total time=   0.3s\n",
      "[CV] END max_depth=2, max_features=0.6, max_samples=1.0, n_estimators=60; total time=   0.2s\n",
      "[CV] END max_depth=2, max_features=0.6, max_samples=1.0, n_estimators=100; total time=   0.3s\n",
      "[CV] END max_depth=2, max_features=0.6, max_samples=1.0, n_estimators=120; total time=   0.3s\n",
      "[CV] END max_depth=2, max_features=1.0, max_samples=0.5, n_estimators=20; total time=   0.1s\n",
      "[CV] END max_depth=2, max_features=1.0, max_samples=0.5, n_estimators=20; total time=   0.1s\n",
      "[CV] END max_depth=2, max_features=1.0, max_samples=0.5, n_estimators=20; total time=   0.1s\n",
      "[CV] END max_depth=2, max_features=1.0, max_samples=0.5, n_estimators=60; total time=   0.2s\n",
      "[CV] END max_depth=2, max_features=1.0, max_samples=0.5, n_estimators=100; total time=   0.3s\n",
      "[CV] END max_depth=2, max_features=1.0, max_samples=0.5, n_estimators=100; total time=   0.3s\n",
      "[CV] END max_depth=2, max_features=1.0, max_samples=0.5, n_estimators=120; total time=   0.4s\n",
      "[CV] END max_depth=2, max_features=1.0, max_samples=0.75, n_estimators=60; total time=   0.2s\n",
      "[CV] END max_depth=2, max_features=1.0, max_samples=0.75, n_estimators=100; total time=   0.3s\n",
      "[CV] END max_depth=2, max_features=1.0, max_samples=0.75, n_estimators=100; total time=   0.3s\n",
      "[CV] END max_depth=2, max_features=1.0, max_samples=0.75, n_estimators=120; total time=   0.4s\n",
      "[CV] END max_depth=2, max_features=1.0, max_samples=1.0, n_estimators=60; total time=   0.2s\n",
      "[CV] END max_depth=2, max_features=1.0, max_samples=1.0, n_estimators=100; total time=   0.3s\n",
      "[CV] END max_depth=2, max_features=1.0, max_samples=1.0, n_estimators=120; total time=   0.4s\n",
      "[CV] END max_depth=2, max_features=1.0, max_samples=1.0, n_estimators=120; total time=   0.4s\n",
      "[CV] END max_depth=8, max_features=0.2, max_samples=0.5, n_estimators=60; total time=   0.2s\n",
      "[CV] END max_depth=8, max_features=0.2, max_samples=0.5, n_estimators=100; total time=   0.3s\n",
      "[CV] END max_depth=8, max_features=0.2, max_samples=0.5, n_estimators=120; total time=   0.4s\n",
      "[CV] END max_depth=8, max_features=0.2, max_samples=0.75, n_estimators=20; total time=   0.1s\n",
      "[CV] END max_depth=8, max_features=0.2, max_samples=0.75, n_estimators=20; total time=   0.1s\n",
      "[CV] END max_depth=8, max_features=0.2, max_samples=0.75, n_estimators=20; total time=   0.1s\n",
      "[CV] END max_depth=8, max_features=0.2, max_samples=0.75, n_estimators=60; total time=   0.2s\n",
      "[CV] END max_depth=8, max_features=0.2, max_samples=0.75, n_estimators=100; total time=   0.3s\n",
      "[CV] END max_depth=8, max_features=0.2, max_samples=0.75, n_estimators=120; total time=   0.4s\n",
      "[CV] END max_depth=8, max_features=0.2, max_samples=0.75, n_estimators=120; total time=   0.3s\n",
      "[CV] END max_depth=8, max_features=0.2, max_samples=1.0, n_estimators=60; total time=   0.2s\n",
      "[CV] END max_depth=8, max_features=0.2, max_samples=1.0, n_estimators=100; total time=   0.3s\n",
      "[CV] END max_depth=8, max_features=0.2, max_samples=1.0, n_estimators=120; total time=   0.3s\n",
      "[CV] END max_depth=8, max_features=0.6, max_samples=0.5, n_estimators=20; total time=   0.1s\n",
      "[CV] END max_depth=8, max_features=0.6, max_samples=0.5, n_estimators=20; total time=   0.1s\n",
      "[CV] END max_depth=8, max_features=0.6, max_samples=0.5, n_estimators=20; total time=   0.1s\n",
      "[CV] END max_depth=8, max_features=0.6, max_samples=0.5, n_estimators=60; total time=   0.2s\n",
      "[CV] END max_depth=8, max_features=0.6, max_samples=0.5, n_estimators=100; total time=   0.3s\n",
      "[CV] END max_depth=8, max_features=0.6, max_samples=0.5, n_estimators=120; total time=   0.4s\n",
      "[CV] END max_depth=8, max_features=0.6, max_samples=0.5, n_estimators=120; total time=   0.3s\n",
      "[CV] END max_depth=8, max_features=0.6, max_samples=0.75, n_estimators=60; total time=   0.2s\n",
      "[CV] END max_depth=8, max_features=0.6, max_samples=0.75, n_estimators=100; total time=   0.3s\n",
      "[CV] END max_depth=8, max_features=0.6, max_samples=0.75, n_estimators=120; total time=   0.4s\n",
      "[CV] END max_depth=8, max_features=0.6, max_samples=1.0, n_estimators=20; total time=   0.1s\n",
      "[CV] END max_depth=8, max_features=0.6, max_samples=1.0, n_estimators=20; total time=   0.1s\n",
      "[CV] END max_depth=8, max_features=0.6, max_samples=1.0, n_estimators=20; total time=   0.1s\n",
      "[CV] END max_depth=8, max_features=0.6, max_samples=1.0, n_estimators=60; total time=   0.2s\n",
      "[CV] END max_depth=8, max_features=0.6, max_samples=1.0, n_estimators=100; total time=   0.3s\n",
      "[CV] END max_depth=8, max_features=0.6, max_samples=1.0, n_estimators=120; total time=   0.4s\n",
      "[CV] END max_depth=8, max_features=0.6, max_samples=1.0, n_estimators=120; total time=   0.4s\n",
      "[CV] END max_depth=8, max_features=1.0, max_samples=0.5, n_estimators=60; total time=   0.2s\n",
      "[CV] END max_depth=8, max_features=1.0, max_samples=0.5, n_estimators=100; total time=   0.3s\n",
      "[CV] END max_depth=8, max_features=1.0, max_samples=0.5, n_estimators=120; total time=   0.4s\n",
      "[CV] END max_depth=8, max_features=1.0, max_samples=0.75, n_estimators=20; total time=   0.1s\n",
      "[CV] END max_depth=8, max_features=1.0, max_samples=0.75, n_estimators=20; total time=   0.1s\n",
      "[CV] END max_depth=8, max_features=1.0, max_samples=0.75, n_estimators=20; total time=   0.1s\n",
      "[CV] END max_depth=8, max_features=1.0, max_samples=0.75, n_estimators=60; total time=   0.2s\n",
      "[CV] END max_depth=8, max_features=1.0, max_samples=0.75, n_estimators=100; total time=   0.3s\n",
      "[CV] END max_depth=8, max_features=1.0, max_samples=0.75, n_estimators=120; total time=   0.4s\n",
      "[CV] END max_depth=8, max_features=1.0, max_samples=0.75, n_estimators=120; total time=   0.4s\n",
      "[CV] END max_depth=8, max_features=1.0, max_samples=1.0, n_estimators=60; total time=   0.2s\n",
      "[CV] END max_depth=8, max_features=1.0, max_samples=1.0, n_estimators=100; total time=   0.3s\n",
      "[CV] END max_depth=2, max_features=0.2, max_samples=0.5, n_estimators=20; total time=   0.1s\n",
      "[CV] END max_depth=2, max_features=0.2, max_samples=0.5, n_estimators=60; total time=   0.2s\n",
      "[CV] END max_depth=2, max_features=0.2, max_samples=0.5, n_estimators=100; total time=   0.3s\n",
      "[CV] END max_depth=2, max_features=0.2, max_samples=0.5, n_estimators=120; total time=   0.3s\n",
      "[CV] END max_depth=2, max_features=0.2, max_samples=0.75, n_estimators=20; total time=   0.1s\n",
      "[CV] END max_depth=2, max_features=0.2, max_samples=0.75, n_estimators=20; total time=   0.1s\n",
      "[CV] END max_depth=2, max_features=0.2, max_samples=0.75, n_estimators=20; total time=   0.1s\n",
      "[CV] END max_depth=2, max_features=0.2, max_samples=0.75, n_estimators=60; total time=   0.2s\n",
      "[CV] END max_depth=2, max_features=0.2, max_samples=0.75, n_estimators=60; total time=   0.2s\n",
      "[CV] END max_depth=2, max_features=0.2, max_samples=0.75, n_estimators=100; total time=   0.3s\n",
      "[CV] END max_depth=2, max_features=0.2, max_samples=0.75, n_estimators=120; total time=   0.3s\n",
      "[CV] END max_depth=2, max_features=0.2, max_samples=1.0, n_estimators=20; total time=   0.1s\n",
      "[CV] END max_depth=2, max_features=0.2, max_samples=1.0, n_estimators=20; total time=   0.1s\n",
      "[CV] END max_depth=2, max_features=0.2, max_samples=1.0, n_estimators=60; total time=   0.2s\n",
      "[CV] END max_depth=2, max_features=0.2, max_samples=1.0, n_estimators=100; total time=   0.3s\n",
      "[CV] END max_depth=2, max_features=0.2, max_samples=1.0, n_estimators=100; total time=   0.3s\n",
      "[CV] END max_depth=2, max_features=0.2, max_samples=1.0, n_estimators=120; total time=   0.3s\n",
      "[CV] END max_depth=2, max_features=0.6, max_samples=0.5, n_estimators=60; total time=   0.2s\n",
      "[CV] END max_depth=2, max_features=0.6, max_samples=0.5, n_estimators=100; total time=   0.3s\n",
      "[CV] END max_depth=2, max_features=0.6, max_samples=0.5, n_estimators=120; total time=   0.3s\n",
      "[CV] END max_depth=2, max_features=0.6, max_samples=0.5, n_estimators=120; total time=   0.3s\n",
      "[CV] END max_depth=2, max_features=0.6, max_samples=0.75, n_estimators=60; total time=   0.2s\n",
      "[CV] END max_depth=2, max_features=0.6, max_samples=0.75, n_estimators=100; total time=   0.3s\n",
      "[CV] END max_depth=2, max_features=0.6, max_samples=0.75, n_estimators=120; total time=   0.3s\n",
      "[CV] END max_depth=2, max_features=0.6, max_samples=1.0, n_estimators=20; total time=   0.1s\n",
      "[CV] END max_depth=2, max_features=0.6, max_samples=1.0, n_estimators=20; total time=   0.1s\n",
      "[CV] END max_depth=2, max_features=0.6, max_samples=1.0, n_estimators=20; total time=   0.1s\n",
      "[CV] END max_depth=2, max_features=0.6, max_samples=1.0, n_estimators=60; total time=   0.2s\n",
      "[CV] END max_depth=2, max_features=0.6, max_samples=1.0, n_estimators=60; total time=   0.2s\n",
      "[CV] END max_depth=2, max_features=0.6, max_samples=1.0, n_estimators=100; total time=   0.3s\n",
      "[CV] END max_depth=2, max_features=0.6, max_samples=1.0, n_estimators=120; total time=   0.3s\n",
      "[CV] END max_depth=2, max_features=1.0, max_samples=0.5, n_estimators=20; total time=   0.1s\n",
      "[CV] END max_depth=2, max_features=1.0, max_samples=0.5, n_estimators=20; total time=   0.1s\n",
      "[CV] END max_depth=2, max_features=1.0, max_samples=0.5, n_estimators=60; total time=   0.2s\n",
      "[CV] END max_depth=2, max_features=1.0, max_samples=0.5, n_estimators=100; total time=   0.3s\n",
      "[CV] END max_depth=2, max_features=1.0, max_samples=0.5, n_estimators=120; total time=   0.4s\n",
      "[CV] END max_depth=2, max_features=1.0, max_samples=0.5, n_estimators=120; total time=   0.4s\n",
      "[CV] END max_depth=2, max_features=1.0, max_samples=0.75, n_estimators=60; total time=   0.2s\n",
      "[CV] END max_depth=2, max_features=1.0, max_samples=0.75, n_estimators=100; total time=   0.4s\n",
      "[CV] END max_depth=2, max_features=1.0, max_samples=0.75, n_estimators=120; total time=   0.4s\n",
      "[CV] END max_depth=2, max_features=1.0, max_samples=0.75, n_estimators=120; total time=   0.4s\n",
      "[CV] END max_depth=2, max_features=1.0, max_samples=1.0, n_estimators=60; total time=   0.2s\n",
      "[CV] END max_depth=2, max_features=1.0, max_samples=1.0, n_estimators=100; total time=   0.3s\n",
      "[CV] END max_depth=2, max_features=1.0, max_samples=1.0, n_estimators=120; total time=   0.4s\n",
      "[CV] END max_depth=8, max_features=0.2, max_samples=0.5, n_estimators=20; total time=   0.1s\n",
      "[CV] END max_depth=8, max_features=0.2, max_samples=0.5, n_estimators=20; total time=   0.1s\n",
      "[CV] END max_depth=8, max_features=0.2, max_samples=0.5, n_estimators=60; total time=   0.2s\n",
      "[CV] END max_depth=8, max_features=0.2, max_samples=0.5, n_estimators=60; total time=   0.2s\n",
      "[CV] END max_depth=8, max_features=0.2, max_samples=0.5, n_estimators=100; total time=   0.3s\n",
      "[CV] END max_depth=8, max_features=0.2, max_samples=0.5, n_estimators=120; total time=   0.3s\n",
      "[CV] END max_depth=8, max_features=0.2, max_samples=0.75, n_estimators=20; total time=   0.1s\n",
      "[CV] END max_depth=8, max_features=0.2, max_samples=0.75, n_estimators=20; total time=   0.1s\n",
      "[CV] END max_depth=8, max_features=0.2, max_samples=0.75, n_estimators=60; total time=   0.2s\n",
      "[CV] END max_depth=8, max_features=0.2, max_samples=0.75, n_estimators=100; total time=   0.3s\n",
      "[CV] END max_depth=8, max_features=0.2, max_samples=0.75, n_estimators=100; total time=   0.3s\n",
      "[CV] END max_depth=8, max_features=0.2, max_samples=0.75, n_estimators=120; total time=   0.3s\n",
      "[CV] END max_depth=8, max_features=0.2, max_samples=1.0, n_estimators=60; total time=   0.2s\n",
      "[CV] END max_depth=8, max_features=0.2, max_samples=1.0, n_estimators=60; total time=   0.2s\n",
      "[CV] END max_depth=8, max_features=0.2, max_samples=1.0, n_estimators=100; total time=   0.3s\n",
      "[CV] END max_depth=8, max_features=0.2, max_samples=1.0, n_estimators=120; total time=   0.3s\n",
      "[CV] END max_depth=8, max_features=0.6, max_samples=0.5, n_estimators=20; total time=   0.1s\n",
      "[CV] END max_depth=8, max_features=0.6, max_samples=0.5, n_estimators=20; total time=   0.1s\n",
      "[CV] END max_depth=8, max_features=0.6, max_samples=0.5, n_estimators=60; total time=   0.2s\n",
      "[CV] END max_depth=8, max_features=0.6, max_samples=0.5, n_estimators=100; total time=   0.3s\n",
      "[CV] END max_depth=8, max_features=0.6, max_samples=0.5, n_estimators=100; total time=   0.3s\n",
      "[CV] END max_depth=8, max_features=0.6, max_samples=0.5, n_estimators=120; total time=   0.3s\n",
      "[CV] END max_depth=8, max_features=0.6, max_samples=0.75, n_estimators=60; total time=   0.2s\n",
      "[CV] END max_depth=8, max_features=0.6, max_samples=0.75, n_estimators=100; total time=   0.3s\n",
      "[CV] END max_depth=8, max_features=0.6, max_samples=0.75, n_estimators=100; total time=   0.3s\n",
      "[CV] END max_depth=8, max_features=0.6, max_samples=0.75, n_estimators=120; total time=   0.4s\n",
      "[CV] END max_depth=8, max_features=0.6, max_samples=1.0, n_estimators=60; total time=   0.2s\n",
      "[CV] END max_depth=8, max_features=0.6, max_samples=1.0, n_estimators=60; total time=   0.2s\n",
      "[CV] END max_depth=8, max_features=0.6, max_samples=1.0, n_estimators=100; total time=   0.3s\n",
      "[CV] END max_depth=8, max_features=0.6, max_samples=1.0, n_estimators=120; total time=   0.4s\n",
      "[CV] END max_depth=8, max_features=1.0, max_samples=0.5, n_estimators=20; total time=   0.1s\n",
      "[CV] END max_depth=8, max_features=1.0, max_samples=0.5, n_estimators=20; total time=   0.1s\n",
      "[CV] END max_depth=8, max_features=1.0, max_samples=0.5, n_estimators=60; total time=   0.2s\n",
      "[CV] END max_depth=8, max_features=1.0, max_samples=0.5, n_estimators=100; total time=   0.3s\n",
      "[CV] END max_depth=8, max_features=1.0, max_samples=0.5, n_estimators=100; total time=   0.3s\n",
      "[CV] END max_depth=8, max_features=1.0, max_samples=0.5, n_estimators=120; total time=   0.4s\n",
      "[CV] END max_depth=8, max_features=1.0, max_samples=0.75, n_estimators=60; total time=   0.2s\n",
      "[CV] END max_depth=8, max_features=1.0, max_samples=0.75, n_estimators=100; total time=   0.3s\n",
      "[CV] END max_depth=8, max_features=1.0, max_samples=0.75, n_estimators=100; total time=   0.3s\n",
      "[CV] END max_depth=8, max_features=1.0, max_samples=0.75, n_estimators=120; total time=   0.4s\n",
      "[CV] END max_depth=8, max_features=1.0, max_samples=1.0, n_estimators=60; total time=   0.2s\n",
      "[CV] END max_depth=8, max_features=1.0, max_samples=1.0, n_estimators=60; total time=   0.2s\n",
      "[CV] END max_depth=8, max_features=1.0, max_samples=1.0, n_estimators=100; total time=   0.3s\n"
     ]
    },
    {
     "data": {
      "text/html": [
       "<style>#sk-container-id-1 {color: black;background-color: white;}#sk-container-id-1 pre{padding: 0;}#sk-container-id-1 div.sk-toggleable {background-color: white;}#sk-container-id-1 label.sk-toggleable__label {cursor: pointer;display: block;width: 100%;margin-bottom: 0;padding: 0.3em;box-sizing: border-box;text-align: center;}#sk-container-id-1 label.sk-toggleable__label-arrow:before {content: \"▸\";float: left;margin-right: 0.25em;color: #696969;}#sk-container-id-1 label.sk-toggleable__label-arrow:hover:before {color: black;}#sk-container-id-1 div.sk-estimator:hover label.sk-toggleable__label-arrow:before {color: black;}#sk-container-id-1 div.sk-toggleable__content {max-height: 0;max-width: 0;overflow: hidden;text-align: left;background-color: #f0f8ff;}#sk-container-id-1 div.sk-toggleable__content pre {margin: 0.2em;color: black;border-radius: 0.25em;background-color: #f0f8ff;}#sk-container-id-1 input.sk-toggleable__control:checked~div.sk-toggleable__content {max-height: 200px;max-width: 100%;overflow: auto;}#sk-container-id-1 input.sk-toggleable__control:checked~label.sk-toggleable__label-arrow:before {content: \"▾\";}#sk-container-id-1 div.sk-estimator input.sk-toggleable__control:checked~label.sk-toggleable__label {background-color: #d4ebff;}#sk-container-id-1 div.sk-label input.sk-toggleable__control:checked~label.sk-toggleable__label {background-color: #d4ebff;}#sk-container-id-1 input.sk-hidden--visually {border: 0;clip: rect(1px 1px 1px 1px);clip: rect(1px, 1px, 1px, 1px);height: 1px;margin: -1px;overflow: hidden;padding: 0;position: absolute;width: 1px;}#sk-container-id-1 div.sk-estimator {font-family: monospace;background-color: #f0f8ff;border: 1px dotted black;border-radius: 0.25em;box-sizing: border-box;margin-bottom: 0.5em;}#sk-container-id-1 div.sk-estimator:hover {background-color: #d4ebff;}#sk-container-id-1 div.sk-parallel-item::after {content: \"\";width: 100%;border-bottom: 1px solid gray;flex-grow: 1;}#sk-container-id-1 div.sk-label:hover label.sk-toggleable__label {background-color: #d4ebff;}#sk-container-id-1 div.sk-serial::before {content: \"\";position: absolute;border-left: 1px solid gray;box-sizing: border-box;top: 0;bottom: 0;left: 50%;z-index: 0;}#sk-container-id-1 div.sk-serial {display: flex;flex-direction: column;align-items: center;background-color: white;padding-right: 0.2em;padding-left: 0.2em;position: relative;}#sk-container-id-1 div.sk-item {position: relative;z-index: 1;}#sk-container-id-1 div.sk-parallel {display: flex;align-items: stretch;justify-content: center;background-color: white;position: relative;}#sk-container-id-1 div.sk-item::before, #sk-container-id-1 div.sk-parallel-item::before {content: \"\";position: absolute;border-left: 1px solid gray;box-sizing: border-box;top: 0;bottom: 0;left: 50%;z-index: -1;}#sk-container-id-1 div.sk-parallel-item {display: flex;flex-direction: column;z-index: 1;position: relative;background-color: white;}#sk-container-id-1 div.sk-parallel-item:first-child::after {align-self: flex-end;width: 50%;}#sk-container-id-1 div.sk-parallel-item:last-child::after {align-self: flex-start;width: 50%;}#sk-container-id-1 div.sk-parallel-item:only-child::after {width: 0;}#sk-container-id-1 div.sk-dashed-wrapped {border: 1px dashed gray;margin: 0 0.4em 0.5em 0.4em;box-sizing: border-box;padding-bottom: 0.4em;background-color: white;}#sk-container-id-1 div.sk-label label {font-family: monospace;font-weight: bold;display: inline-block;line-height: 1.2em;}#sk-container-id-1 div.sk-label-container {text-align: center;}#sk-container-id-1 div.sk-container {/* jupyter's `normalize.less` sets `[hidden] { display: none; }` but bootstrap.min.css set `[hidden] { display: none !important; }` so we also need the `!important` here to be able to override the default hidden behavior on the sphinx rendered scikit-learn.org. See: https://github.com/scikit-learn/scikit-learn/issues/21755 */display: inline-block !important;position: relative;}#sk-container-id-1 div.sk-text-repr-fallback {display: none;}</style><div id=\"sk-container-id-1\" class=\"sk-top-container\"><div class=\"sk-text-repr-fallback\"><pre>GridSearchCV(cv=5, estimator=RandomForestClassifier(), n_jobs=-1,\n",
       "             param_grid={&#x27;max_depth&#x27;: [2, 8, None],\n",
       "                         &#x27;max_features&#x27;: [0.2, 0.6, 1.0],\n",
       "                         &#x27;max_samples&#x27;: [0.5, 0.75, 1.0],\n",
       "                         &#x27;n_estimators&#x27;: [20, 60, 100, 120]},\n",
       "             verbose=2)</pre><b>In a Jupyter environment, please rerun this cell to show the HTML representation or trust the notebook. <br />On GitHub, the HTML representation is unable to render, please try loading this page with nbviewer.org.</b></div><div class=\"sk-container\" hidden><div class=\"sk-item sk-dashed-wrapped\"><div class=\"sk-label-container\"><div class=\"sk-label sk-toggleable\"><input class=\"sk-toggleable__control sk-hidden--visually\" id=\"sk-estimator-id-1\" type=\"checkbox\" ><label for=\"sk-estimator-id-1\" class=\"sk-toggleable__label sk-toggleable__label-arrow\">GridSearchCV</label><div class=\"sk-toggleable__content\"><pre>GridSearchCV(cv=5, estimator=RandomForestClassifier(), n_jobs=-1,\n",
       "             param_grid={&#x27;max_depth&#x27;: [2, 8, None],\n",
       "                         &#x27;max_features&#x27;: [0.2, 0.6, 1.0],\n",
       "                         &#x27;max_samples&#x27;: [0.5, 0.75, 1.0],\n",
       "                         &#x27;n_estimators&#x27;: [20, 60, 100, 120]},\n",
       "             verbose=2)</pre></div></div></div><div class=\"sk-parallel\"><div class=\"sk-parallel-item\"><div class=\"sk-item\"><div class=\"sk-label-container\"><div class=\"sk-label sk-toggleable\"><input class=\"sk-toggleable__control sk-hidden--visually\" id=\"sk-estimator-id-2\" type=\"checkbox\" ><label for=\"sk-estimator-id-2\" class=\"sk-toggleable__label sk-toggleable__label-arrow\">estimator: RandomForestClassifier</label><div class=\"sk-toggleable__content\"><pre>RandomForestClassifier()</pre></div></div></div><div class=\"sk-serial\"><div class=\"sk-item\"><div class=\"sk-estimator sk-toggleable\"><input class=\"sk-toggleable__control sk-hidden--visually\" id=\"sk-estimator-id-3\" type=\"checkbox\" ><label for=\"sk-estimator-id-3\" class=\"sk-toggleable__label sk-toggleable__label-arrow\">RandomForestClassifier</label><div class=\"sk-toggleable__content\"><pre>RandomForestClassifier()</pre></div></div></div></div></div></div></div></div></div></div>"
      ],
      "text/plain": [
       "GridSearchCV(cv=5, estimator=RandomForestClassifier(), n_jobs=-1,\n",
       "             param_grid={'max_depth': [2, 8, None],\n",
       "                         'max_features': [0.2, 0.6, 1.0],\n",
       "                         'max_samples': [0.5, 0.75, 1.0],\n",
       "                         'n_estimators': [20, 60, 100, 120]},\n",
       "             verbose=2)"
      ]
     },
     "execution_count": 19,
     "metadata": {},
     "output_type": "execute_result"
    }
   ],
   "source": [
    "rf_grid.fit(X_train,y_train)"
   ]
  },
  {
   "cell_type": "code",
   "execution_count": 20,
   "id": "d6ccdc8f",
   "metadata": {
    "execution": {
     "iopub.execute_input": "2024-07-12T04:28:17.216966Z",
     "iopub.status.busy": "2024-07-12T04:28:17.216575Z",
     "iopub.status.idle": "2024-07-12T04:28:17.223528Z",
     "shell.execute_reply": "2024-07-12T04:28:17.222581Z"
    },
    "papermill": {
     "duration": 0.019613,
     "end_time": "2024-07-12T04:28:17.225669",
     "exception": false,
     "start_time": "2024-07-12T04:28:17.206056",
     "status": "completed"
    },
    "tags": []
   },
   "outputs": [
    {
     "data": {
      "text/plain": [
       "{'max_depth': 2, 'max_features': 0.2, 'max_samples': 1.0, 'n_estimators': 60}"
      ]
     },
     "execution_count": 20,
     "metadata": {},
     "output_type": "execute_result"
    }
   ],
   "source": [
    "rf_grid.best_params_"
   ]
  },
  {
   "cell_type": "code",
   "execution_count": 21,
   "id": "a785c75e",
   "metadata": {
    "execution": {
     "iopub.execute_input": "2024-07-12T04:28:17.245937Z",
     "iopub.status.busy": "2024-07-12T04:28:17.245568Z",
     "iopub.status.idle": "2024-07-12T04:28:17.252011Z",
     "shell.execute_reply": "2024-07-12T04:28:17.251057Z"
    },
    "papermill": {
     "duration": 0.019209,
     "end_time": "2024-07-12T04:28:17.254297",
     "exception": false,
     "start_time": "2024-07-12T04:28:17.235088",
     "status": "completed"
    },
    "tags": []
   },
   "outputs": [
    {
     "data": {
      "text/plain": [
       "0.8511904761904763"
      ]
     },
     "execution_count": 21,
     "metadata": {},
     "output_type": "execute_result"
    }
   ],
   "source": [
    "rf_grid.best_score_"
   ]
  },
  {
   "cell_type": "markdown",
   "id": "27d22f7d",
   "metadata": {
    "papermill": {
     "duration": 0.009198,
     "end_time": "2024-07-12T04:28:17.273053",
     "exception": false,
     "start_time": "2024-07-12T04:28:17.263855",
     "status": "completed"
    },
    "tags": []
   },
   "source": [
    "# ***RandomSearchCV***"
   ]
  },
  {
   "cell_type": "code",
   "execution_count": 22,
   "id": "ee5be8d0",
   "metadata": {
    "execution": {
     "iopub.execute_input": "2024-07-12T04:28:17.293519Z",
     "iopub.status.busy": "2024-07-12T04:28:17.293124Z",
     "iopub.status.idle": "2024-07-12T04:28:17.299432Z",
     "shell.execute_reply": "2024-07-12T04:28:17.298386Z"
    },
    "papermill": {
     "duration": 0.019225,
     "end_time": "2024-07-12T04:28:17.301681",
     "exception": false,
     "start_time": "2024-07-12T04:28:17.282456",
     "status": "completed"
    },
    "tags": []
   },
   "outputs": [],
   "source": [
    "# Number of trees in random forest\n",
    "n_estimators = [20,60,100,120]\n",
    "\n",
    "# Number of features to consider at every split\n",
    "max_features = [0.2,0.6,1.0]\n",
    "\n",
    "# Maximum number of levels in tree\n",
    "max_depth = [2,8,None]\n",
    "\n",
    "# Number of samples\n",
    "max_samples = [0.5,0.75,1.0]\n",
    "\n",
    "# Bootstrap samples\n",
    "bootstrap = [True,False]\n",
    "\n",
    "# Minimum number of samples required to split a node\n",
    "min_samples_split = [2, 5]\n",
    "\n",
    "# Minimum number of samples required at each leaf node\n",
    "min_samples_leaf = [1, 2]"
   ]
  },
  {
   "cell_type": "code",
   "execution_count": 23,
   "id": "56624b01",
   "metadata": {
    "execution": {
     "iopub.execute_input": "2024-07-12T04:28:17.322859Z",
     "iopub.status.busy": "2024-07-12T04:28:17.321938Z",
     "iopub.status.idle": "2024-07-12T04:28:17.328418Z",
     "shell.execute_reply": "2024-07-12T04:28:17.327222Z"
    },
    "papermill": {
     "duration": 0.019573,
     "end_time": "2024-07-12T04:28:17.330888",
     "exception": false,
     "start_time": "2024-07-12T04:28:17.311315",
     "status": "completed"
    },
    "tags": []
   },
   "outputs": [
    {
     "name": "stdout",
     "output_type": "stream",
     "text": [
      "{'n_estimators': [20, 60, 100, 120], 'max_features': [0.2, 0.6, 1.0], 'max_depth': [2, 8, None], 'max_samples': [0.5, 0.75, 1.0], 'bootstrap': [True, False], 'min_samples_split': [2, 5], 'min_samples_leaf': [1, 2]}\n"
     ]
    }
   ],
   "source": [
    "param_grid = {'n_estimators': n_estimators,\n",
    "               'max_features': max_features,\n",
    "               'max_depth': max_depth,\n",
    "              'max_samples':max_samples,\n",
    "              'bootstrap':bootstrap,\n",
    "              'min_samples_split':min_samples_split,\n",
    "              'min_samples_leaf':min_samples_leaf\n",
    "             }\n",
    "print(param_grid)"
   ]
  },
  {
   "cell_type": "code",
   "execution_count": 24,
   "id": "4cb48e66",
   "metadata": {
    "execution": {
     "iopub.execute_input": "2024-07-12T04:28:17.352259Z",
     "iopub.status.busy": "2024-07-12T04:28:17.351197Z",
     "iopub.status.idle": "2024-07-12T04:28:17.357317Z",
     "shell.execute_reply": "2024-07-12T04:28:17.356241Z"
    },
    "papermill": {
     "duration": 0.0192,
     "end_time": "2024-07-12T04:28:17.359607",
     "exception": false,
     "start_time": "2024-07-12T04:28:17.340407",
     "status": "completed"
    },
    "tags": []
   },
   "outputs": [],
   "source": [
    "from sklearn.model_selection import RandomizedSearchCV\n",
    "\n",
    "rf_grid = RandomizedSearchCV(estimator = rf, \n",
    "                       param_distributions = param_grid, \n",
    "                       cv = 5, \n",
    "                       verbose=2, \n",
    "                       n_jobs = -1)"
   ]
  },
  {
   "cell_type": "code",
   "execution_count": 25,
   "id": "592d52d9",
   "metadata": {
    "execution": {
     "iopub.execute_input": "2024-07-12T04:28:17.381105Z",
     "iopub.status.busy": "2024-07-12T04:28:17.379995Z",
     "iopub.status.idle": "2024-07-12T04:28:18.505910Z",
     "shell.execute_reply": "2024-07-12T04:28:18.504900Z"
    },
    "papermill": {
     "duration": 1.140613,
     "end_time": "2024-07-12T04:28:18.509846",
     "exception": false,
     "start_time": "2024-07-12T04:28:17.369233",
     "status": "completed"
    },
    "tags": []
   },
   "outputs": [
    {
     "name": "stdout",
     "output_type": "stream",
     "text": [
      "Fitting 5 folds for each of 10 candidates, totalling 50 fits\n"
     ]
    },
    {
     "name": "stderr",
     "output_type": "stream",
     "text": [
      "/opt/conda/lib/python3.10/site-packages/sklearn/model_selection/_validation.py:378: FitFailedWarning: \n",
      "40 fits failed out of a total of 50.\n",
      "The score on these train-test partitions for these parameters will be set to nan.\n",
      "If these failures are not expected, you can try to debug them by setting error_score='raise'.\n",
      "\n",
      "Below are more details about the failures:\n",
      "--------------------------------------------------------------------------------\n",
      "40 fits failed with the following error:\n",
      "Traceback (most recent call last):\n",
      "  File \"/opt/conda/lib/python3.10/site-packages/sklearn/model_selection/_validation.py\", line 686, in _fit_and_score\n",
      "    estimator.fit(X_train, y_train, **fit_params)\n",
      "  File \"/opt/conda/lib/python3.10/site-packages/sklearn/ensemble/_forest.py\", line 397, in fit\n",
      "    raise ValueError(\n",
      "ValueError: `max_sample` cannot be set if `bootstrap=False`. Either switch to `bootstrap=True` or set `max_sample=None`.\n",
      "\n",
      "  warnings.warn(some_fits_failed_message, FitFailedWarning)\n",
      "/opt/conda/lib/python3.10/site-packages/sklearn/model_selection/_search.py:952: UserWarning: One or more of the test scores are non-finite: [0.78103741        nan        nan        nan        nan 0.78920068\n",
      "        nan        nan        nan        nan]\n",
      "  warnings.warn(\n"
     ]
    },
    {
     "data": {
      "text/html": [
       "<style>#sk-container-id-2 {color: black;background-color: white;}#sk-container-id-2 pre{padding: 0;}#sk-container-id-2 div.sk-toggleable {background-color: white;}#sk-container-id-2 label.sk-toggleable__label {cursor: pointer;display: block;width: 100%;margin-bottom: 0;padding: 0.3em;box-sizing: border-box;text-align: center;}#sk-container-id-2 label.sk-toggleable__label-arrow:before {content: \"▸\";float: left;margin-right: 0.25em;color: #696969;}#sk-container-id-2 label.sk-toggleable__label-arrow:hover:before {color: black;}#sk-container-id-2 div.sk-estimator:hover label.sk-toggleable__label-arrow:before {color: black;}#sk-container-id-2 div.sk-toggleable__content {max-height: 0;max-width: 0;overflow: hidden;text-align: left;background-color: #f0f8ff;}#sk-container-id-2 div.sk-toggleable__content pre {margin: 0.2em;color: black;border-radius: 0.25em;background-color: #f0f8ff;}#sk-container-id-2 input.sk-toggleable__control:checked~div.sk-toggleable__content {max-height: 200px;max-width: 100%;overflow: auto;}#sk-container-id-2 input.sk-toggleable__control:checked~label.sk-toggleable__label-arrow:before {content: \"▾\";}#sk-container-id-2 div.sk-estimator input.sk-toggleable__control:checked~label.sk-toggleable__label {background-color: #d4ebff;}#sk-container-id-2 div.sk-label input.sk-toggleable__control:checked~label.sk-toggleable__label {background-color: #d4ebff;}#sk-container-id-2 input.sk-hidden--visually {border: 0;clip: rect(1px 1px 1px 1px);clip: rect(1px, 1px, 1px, 1px);height: 1px;margin: -1px;overflow: hidden;padding: 0;position: absolute;width: 1px;}#sk-container-id-2 div.sk-estimator {font-family: monospace;background-color: #f0f8ff;border: 1px dotted black;border-radius: 0.25em;box-sizing: border-box;margin-bottom: 0.5em;}#sk-container-id-2 div.sk-estimator:hover {background-color: #d4ebff;}#sk-container-id-2 div.sk-parallel-item::after {content: \"\";width: 100%;border-bottom: 1px solid gray;flex-grow: 1;}#sk-container-id-2 div.sk-label:hover label.sk-toggleable__label {background-color: #d4ebff;}#sk-container-id-2 div.sk-serial::before {content: \"\";position: absolute;border-left: 1px solid gray;box-sizing: border-box;top: 0;bottom: 0;left: 50%;z-index: 0;}#sk-container-id-2 div.sk-serial {display: flex;flex-direction: column;align-items: center;background-color: white;padding-right: 0.2em;padding-left: 0.2em;position: relative;}#sk-container-id-2 div.sk-item {position: relative;z-index: 1;}#sk-container-id-2 div.sk-parallel {display: flex;align-items: stretch;justify-content: center;background-color: white;position: relative;}#sk-container-id-2 div.sk-item::before, #sk-container-id-2 div.sk-parallel-item::before {content: \"\";position: absolute;border-left: 1px solid gray;box-sizing: border-box;top: 0;bottom: 0;left: 50%;z-index: -1;}#sk-container-id-2 div.sk-parallel-item {display: flex;flex-direction: column;z-index: 1;position: relative;background-color: white;}#sk-container-id-2 div.sk-parallel-item:first-child::after {align-self: flex-end;width: 50%;}#sk-container-id-2 div.sk-parallel-item:last-child::after {align-self: flex-start;width: 50%;}#sk-container-id-2 div.sk-parallel-item:only-child::after {width: 0;}#sk-container-id-2 div.sk-dashed-wrapped {border: 1px dashed gray;margin: 0 0.4em 0.5em 0.4em;box-sizing: border-box;padding-bottom: 0.4em;background-color: white;}#sk-container-id-2 div.sk-label label {font-family: monospace;font-weight: bold;display: inline-block;line-height: 1.2em;}#sk-container-id-2 div.sk-label-container {text-align: center;}#sk-container-id-2 div.sk-container {/* jupyter's `normalize.less` sets `[hidden] { display: none; }` but bootstrap.min.css set `[hidden] { display: none !important; }` so we also need the `!important` here to be able to override the default hidden behavior on the sphinx rendered scikit-learn.org. See: https://github.com/scikit-learn/scikit-learn/issues/21755 */display: inline-block !important;position: relative;}#sk-container-id-2 div.sk-text-repr-fallback {display: none;}</style><div id=\"sk-container-id-2\" class=\"sk-top-container\"><div class=\"sk-text-repr-fallback\"><pre>RandomizedSearchCV(cv=5, estimator=RandomForestClassifier(), n_jobs=-1,\n",
       "                   param_distributions={&#x27;bootstrap&#x27;: [True, False],\n",
       "                                        &#x27;max_depth&#x27;: [2, 8, None],\n",
       "                                        &#x27;max_features&#x27;: [0.2, 0.6, 1.0],\n",
       "                                        &#x27;max_samples&#x27;: [0.5, 0.75, 1.0],\n",
       "                                        &#x27;min_samples_leaf&#x27;: [1, 2],\n",
       "                                        &#x27;min_samples_split&#x27;: [2, 5],\n",
       "                                        &#x27;n_estimators&#x27;: [20, 60, 100, 120]},\n",
       "                   verbose=2)</pre><b>In a Jupyter environment, please rerun this cell to show the HTML representation or trust the notebook. <br />On GitHub, the HTML representation is unable to render, please try loading this page with nbviewer.org.</b></div><div class=\"sk-container\" hidden><div class=\"sk-item sk-dashed-wrapped\"><div class=\"sk-label-container\"><div class=\"sk-label sk-toggleable\"><input class=\"sk-toggleable__control sk-hidden--visually\" id=\"sk-estimator-id-4\" type=\"checkbox\" ><label for=\"sk-estimator-id-4\" class=\"sk-toggleable__label sk-toggleable__label-arrow\">RandomizedSearchCV</label><div class=\"sk-toggleable__content\"><pre>RandomizedSearchCV(cv=5, estimator=RandomForestClassifier(), n_jobs=-1,\n",
       "                   param_distributions={&#x27;bootstrap&#x27;: [True, False],\n",
       "                                        &#x27;max_depth&#x27;: [2, 8, None],\n",
       "                                        &#x27;max_features&#x27;: [0.2, 0.6, 1.0],\n",
       "                                        &#x27;max_samples&#x27;: [0.5, 0.75, 1.0],\n",
       "                                        &#x27;min_samples_leaf&#x27;: [1, 2],\n",
       "                                        &#x27;min_samples_split&#x27;: [2, 5],\n",
       "                                        &#x27;n_estimators&#x27;: [20, 60, 100, 120]},\n",
       "                   verbose=2)</pre></div></div></div><div class=\"sk-parallel\"><div class=\"sk-parallel-item\"><div class=\"sk-item\"><div class=\"sk-label-container\"><div class=\"sk-label sk-toggleable\"><input class=\"sk-toggleable__control sk-hidden--visually\" id=\"sk-estimator-id-5\" type=\"checkbox\" ><label for=\"sk-estimator-id-5\" class=\"sk-toggleable__label sk-toggleable__label-arrow\">estimator: RandomForestClassifier</label><div class=\"sk-toggleable__content\"><pre>RandomForestClassifier()</pre></div></div></div><div class=\"sk-serial\"><div class=\"sk-item\"><div class=\"sk-estimator sk-toggleable\"><input class=\"sk-toggleable__control sk-hidden--visually\" id=\"sk-estimator-id-6\" type=\"checkbox\" ><label for=\"sk-estimator-id-6\" class=\"sk-toggleable__label sk-toggleable__label-arrow\">RandomForestClassifier</label><div class=\"sk-toggleable__content\"><pre>RandomForestClassifier()</pre></div></div></div></div></div></div></div></div></div></div>"
      ],
      "text/plain": [
       "RandomizedSearchCV(cv=5, estimator=RandomForestClassifier(), n_jobs=-1,\n",
       "                   param_distributions={'bootstrap': [True, False],\n",
       "                                        'max_depth': [2, 8, None],\n",
       "                                        'max_features': [0.2, 0.6, 1.0],\n",
       "                                        'max_samples': [0.5, 0.75, 1.0],\n",
       "                                        'min_samples_leaf': [1, 2],\n",
       "                                        'min_samples_split': [2, 5],\n",
       "                                        'n_estimators': [20, 60, 100, 120]},\n",
       "                   verbose=2)"
      ]
     },
     "execution_count": 25,
     "metadata": {},
     "output_type": "execute_result"
    }
   ],
   "source": [
    "rf_grid.fit(X_train,y_train)"
   ]
  },
  {
   "cell_type": "code",
   "execution_count": 26,
   "id": "42befbf3",
   "metadata": {
    "execution": {
     "iopub.execute_input": "2024-07-12T04:28:18.531452Z",
     "iopub.status.busy": "2024-07-12T04:28:18.531046Z",
     "iopub.status.idle": "2024-07-12T04:28:18.537659Z",
     "shell.execute_reply": "2024-07-12T04:28:18.536734Z"
    },
    "papermill": {
     "duration": 0.019948,
     "end_time": "2024-07-12T04:28:18.539778",
     "exception": false,
     "start_time": "2024-07-12T04:28:18.519830",
     "status": "completed"
    },
    "tags": []
   },
   "outputs": [
    {
     "data": {
      "text/plain": [
       "{'n_estimators': 100,\n",
       " 'min_samples_split': 5,\n",
       " 'min_samples_leaf': 2,\n",
       " 'max_samples': 1.0,\n",
       " 'max_features': 0.6,\n",
       " 'max_depth': None,\n",
       " 'bootstrap': True}"
      ]
     },
     "execution_count": 26,
     "metadata": {},
     "output_type": "execute_result"
    }
   ],
   "source": [
    "rf_grid.best_params_"
   ]
  },
  {
   "cell_type": "code",
   "execution_count": 27,
   "id": "32338082",
   "metadata": {
    "execution": {
     "iopub.execute_input": "2024-07-12T04:28:18.561907Z",
     "iopub.status.busy": "2024-07-12T04:28:18.561539Z",
     "iopub.status.idle": "2024-07-12T04:28:18.568132Z",
     "shell.execute_reply": "2024-07-12T04:28:18.566987Z"
    },
    "papermill": {
     "duration": 0.020155,
     "end_time": "2024-07-12T04:28:18.570431",
     "exception": false,
     "start_time": "2024-07-12T04:28:18.550276",
     "status": "completed"
    },
    "tags": []
   },
   "outputs": [
    {
     "data": {
      "text/plain": [
       "0.7892006802721088"
      ]
     },
     "execution_count": 27,
     "metadata": {},
     "output_type": "execute_result"
    }
   ],
   "source": [
    "rf_grid.best_score_"
   ]
  },
  {
   "cell_type": "code",
   "execution_count": null,
   "id": "14af0c11",
   "metadata": {
    "papermill": {
     "duration": 0.009667,
     "end_time": "2024-07-12T04:28:18.590324",
     "exception": false,
     "start_time": "2024-07-12T04:28:18.580657",
     "status": "completed"
    },
    "tags": []
   },
   "outputs": [],
   "source": []
  }
 ],
 "metadata": {
  "kaggle": {
   "accelerator": "none",
   "dataSources": [
    {
     "datasetId": 1999259,
     "sourceId": 3305270,
     "sourceType": "datasetVersion"
    }
   ],
   "dockerImageVersionId": 30732,
   "isGpuEnabled": false,
   "isInternetEnabled": false,
   "language": "python",
   "sourceType": "notebook"
  },
  "kernelspec": {
   "display_name": "Python 3",
   "language": "python",
   "name": "python3"
  },
  "language_info": {
   "codemirror_mode": {
    "name": "ipython",
    "version": 3
   },
   "file_extension": ".py",
   "mimetype": "text/x-python",
   "name": "python",
   "nbconvert_exporter": "python",
   "pygments_lexer": "ipython3",
   "version": "3.10.13"
  },
  "papermill": {
   "default_parameters": {},
   "duration": 46.806505,
   "end_time": "2024-07-12T04:28:21.221437",
   "environment_variables": {},
   "exception": null,
   "input_path": "__notebook__.ipynb",
   "output_path": "__notebook__.ipynb",
   "parameters": {},
   "start_time": "2024-07-12T04:27:34.414932",
   "version": "2.5.0"
  }
 },
 "nbformat": 4,
 "nbformat_minor": 5
}
