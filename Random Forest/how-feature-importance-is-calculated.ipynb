{
 "cells": [
  {
   "cell_type": "code",
   "execution_count": 1,
   "id": "e7675409",
   "metadata": {
    "execution": {
     "iopub.execute_input": "2024-07-12T04:34:35.074857Z",
     "iopub.status.busy": "2024-07-12T04:34:35.074457Z",
     "iopub.status.idle": "2024-07-12T04:34:36.311670Z",
     "shell.execute_reply": "2024-07-12T04:34:36.310608Z"
    },
    "papermill": {
     "duration": 1.246268,
     "end_time": "2024-07-12T04:34:36.314112",
     "exception": false,
     "start_time": "2024-07-12T04:34:35.067844",
     "status": "completed"
    },
    "tags": []
   },
   "outputs": [],
   "source": [
    "from sklearn.datasets import make_classification"
   ]
  },
  {
   "cell_type": "code",
   "execution_count": 2,
   "id": "61fe99c5",
   "metadata": {
    "execution": {
     "iopub.execute_input": "2024-07-12T04:34:36.326163Z",
     "iopub.status.busy": "2024-07-12T04:34:36.325741Z",
     "iopub.status.idle": "2024-07-12T04:34:36.589344Z",
     "shell.execute_reply": "2024-07-12T04:34:36.588343Z"
    },
    "papermill": {
     "duration": 0.272358,
     "end_time": "2024-07-12T04:34:36.591948",
     "exception": false,
     "start_time": "2024-07-12T04:34:36.319590",
     "status": "completed"
    },
    "tags": []
   },
   "outputs": [],
   "source": [
    "from sklearn.tree import DecisionTreeClassifier\n"
   ]
  },
  {
   "cell_type": "code",
   "execution_count": 3,
   "id": "9855e505",
   "metadata": {
    "execution": {
     "iopub.execute_input": "2024-07-12T04:34:36.602561Z",
     "iopub.status.busy": "2024-07-12T04:34:36.602186Z",
     "iopub.status.idle": "2024-07-12T04:34:36.613022Z",
     "shell.execute_reply": "2024-07-12T04:34:36.612096Z"
    },
    "papermill": {
     "duration": 0.018839,
     "end_time": "2024-07-12T04:34:36.615381",
     "exception": false,
     "start_time": "2024-07-12T04:34:36.596542",
     "status": "completed"
    },
    "tags": []
   },
   "outputs": [],
   "source": [
    "X,y = make_classification(n_samples=5, n_classes=2,\n",
    "                               n_features=2, n_informative=2, n_redundant=0,\n",
    "                               random_state=0)\n"
   ]
  },
  {
   "cell_type": "code",
   "execution_count": 4,
   "id": "ae10337a",
   "metadata": {
    "execution": {
     "iopub.execute_input": "2024-07-12T04:34:36.626445Z",
     "iopub.status.busy": "2024-07-12T04:34:36.625781Z",
     "iopub.status.idle": "2024-07-12T04:34:36.630668Z",
     "shell.execute_reply": "2024-07-12T04:34:36.629614Z"
    },
    "papermill": {
     "duration": 0.012742,
     "end_time": "2024-07-12T04:34:36.632720",
     "exception": false,
     "start_time": "2024-07-12T04:34:36.619978",
     "status": "completed"
    },
    "tags": []
   },
   "outputs": [],
   "source": [
    "clf = DecisionTreeClassifier()"
   ]
  },
  {
   "cell_type": "code",
   "execution_count": 5,
   "id": "92e54489",
   "metadata": {
    "execution": {
     "iopub.execute_input": "2024-07-12T04:34:36.643547Z",
     "iopub.status.busy": "2024-07-12T04:34:36.643118Z",
     "iopub.status.idle": "2024-07-12T04:34:36.657381Z",
     "shell.execute_reply": "2024-07-12T04:34:36.656261Z"
    },
    "papermill": {
     "duration": 0.022509,
     "end_time": "2024-07-12T04:34:36.659753",
     "exception": false,
     "start_time": "2024-07-12T04:34:36.637244",
     "status": "completed"
    },
    "tags": []
   },
   "outputs": [
    {
     "data": {
      "text/html": [
       "<style>#sk-container-id-1 {color: black;background-color: white;}#sk-container-id-1 pre{padding: 0;}#sk-container-id-1 div.sk-toggleable {background-color: white;}#sk-container-id-1 label.sk-toggleable__label {cursor: pointer;display: block;width: 100%;margin-bottom: 0;padding: 0.3em;box-sizing: border-box;text-align: center;}#sk-container-id-1 label.sk-toggleable__label-arrow:before {content: \"▸\";float: left;margin-right: 0.25em;color: #696969;}#sk-container-id-1 label.sk-toggleable__label-arrow:hover:before {color: black;}#sk-container-id-1 div.sk-estimator:hover label.sk-toggleable__label-arrow:before {color: black;}#sk-container-id-1 div.sk-toggleable__content {max-height: 0;max-width: 0;overflow: hidden;text-align: left;background-color: #f0f8ff;}#sk-container-id-1 div.sk-toggleable__content pre {margin: 0.2em;color: black;border-radius: 0.25em;background-color: #f0f8ff;}#sk-container-id-1 input.sk-toggleable__control:checked~div.sk-toggleable__content {max-height: 200px;max-width: 100%;overflow: auto;}#sk-container-id-1 input.sk-toggleable__control:checked~label.sk-toggleable__label-arrow:before {content: \"▾\";}#sk-container-id-1 div.sk-estimator input.sk-toggleable__control:checked~label.sk-toggleable__label {background-color: #d4ebff;}#sk-container-id-1 div.sk-label input.sk-toggleable__control:checked~label.sk-toggleable__label {background-color: #d4ebff;}#sk-container-id-1 input.sk-hidden--visually {border: 0;clip: rect(1px 1px 1px 1px);clip: rect(1px, 1px, 1px, 1px);height: 1px;margin: -1px;overflow: hidden;padding: 0;position: absolute;width: 1px;}#sk-container-id-1 div.sk-estimator {font-family: monospace;background-color: #f0f8ff;border: 1px dotted black;border-radius: 0.25em;box-sizing: border-box;margin-bottom: 0.5em;}#sk-container-id-1 div.sk-estimator:hover {background-color: #d4ebff;}#sk-container-id-1 div.sk-parallel-item::after {content: \"\";width: 100%;border-bottom: 1px solid gray;flex-grow: 1;}#sk-container-id-1 div.sk-label:hover label.sk-toggleable__label {background-color: #d4ebff;}#sk-container-id-1 div.sk-serial::before {content: \"\";position: absolute;border-left: 1px solid gray;box-sizing: border-box;top: 0;bottom: 0;left: 50%;z-index: 0;}#sk-container-id-1 div.sk-serial {display: flex;flex-direction: column;align-items: center;background-color: white;padding-right: 0.2em;padding-left: 0.2em;position: relative;}#sk-container-id-1 div.sk-item {position: relative;z-index: 1;}#sk-container-id-1 div.sk-parallel {display: flex;align-items: stretch;justify-content: center;background-color: white;position: relative;}#sk-container-id-1 div.sk-item::before, #sk-container-id-1 div.sk-parallel-item::before {content: \"\";position: absolute;border-left: 1px solid gray;box-sizing: border-box;top: 0;bottom: 0;left: 50%;z-index: -1;}#sk-container-id-1 div.sk-parallel-item {display: flex;flex-direction: column;z-index: 1;position: relative;background-color: white;}#sk-container-id-1 div.sk-parallel-item:first-child::after {align-self: flex-end;width: 50%;}#sk-container-id-1 div.sk-parallel-item:last-child::after {align-self: flex-start;width: 50%;}#sk-container-id-1 div.sk-parallel-item:only-child::after {width: 0;}#sk-container-id-1 div.sk-dashed-wrapped {border: 1px dashed gray;margin: 0 0.4em 0.5em 0.4em;box-sizing: border-box;padding-bottom: 0.4em;background-color: white;}#sk-container-id-1 div.sk-label label {font-family: monospace;font-weight: bold;display: inline-block;line-height: 1.2em;}#sk-container-id-1 div.sk-label-container {text-align: center;}#sk-container-id-1 div.sk-container {/* jupyter's `normalize.less` sets `[hidden] { display: none; }` but bootstrap.min.css set `[hidden] { display: none !important; }` so we also need the `!important` here to be able to override the default hidden behavior on the sphinx rendered scikit-learn.org. See: https://github.com/scikit-learn/scikit-learn/issues/21755 */display: inline-block !important;position: relative;}#sk-container-id-1 div.sk-text-repr-fallback {display: none;}</style><div id=\"sk-container-id-1\" class=\"sk-top-container\"><div class=\"sk-text-repr-fallback\"><pre>DecisionTreeClassifier()</pre><b>In a Jupyter environment, please rerun this cell to show the HTML representation or trust the notebook. <br />On GitHub, the HTML representation is unable to render, please try loading this page with nbviewer.org.</b></div><div class=\"sk-container\" hidden><div class=\"sk-item\"><div class=\"sk-estimator sk-toggleable\"><input class=\"sk-toggleable__control sk-hidden--visually\" id=\"sk-estimator-id-1\" type=\"checkbox\" checked><label for=\"sk-estimator-id-1\" class=\"sk-toggleable__label sk-toggleable__label-arrow\">DecisionTreeClassifier</label><div class=\"sk-toggleable__content\"><pre>DecisionTreeClassifier()</pre></div></div></div></div></div>"
      ],
      "text/plain": [
       "DecisionTreeClassifier()"
      ]
     },
     "execution_count": 5,
     "metadata": {},
     "output_type": "execute_result"
    }
   ],
   "source": [
    "clf.fit(X,y)"
   ]
  },
  {
   "cell_type": "code",
   "execution_count": 6,
   "id": "998247c1",
   "metadata": {
    "execution": {
     "iopub.execute_input": "2024-07-12T04:34:36.671918Z",
     "iopub.status.busy": "2024-07-12T04:34:36.670944Z",
     "iopub.status.idle": "2024-07-12T04:34:36.964730Z",
     "shell.execute_reply": "2024-07-12T04:34:36.963566Z"
    },
    "papermill": {
     "duration": 0.302469,
     "end_time": "2024-07-12T04:34:36.967246",
     "exception": false,
     "start_time": "2024-07-12T04:34:36.664777",
     "status": "completed"
    },
    "tags": []
   },
   "outputs": [
    {
     "data": {
      "text/plain": [
       "[Text(0.4, 0.8333333333333334, 'x[1] <= -0.894\\ngini = 0.48\\nsamples = 5\\nvalue = [3, 2]'),\n",
       " Text(0.2, 0.5, 'gini = 0.0\\nsamples = 1\\nvalue = [0, 1]'),\n",
       " Text(0.6, 0.5, 'x[0] <= 1.01\\ngini = 0.375\\nsamples = 4\\nvalue = [3, 1]'),\n",
       " Text(0.4, 0.16666666666666666, 'gini = 0.0\\nsamples = 3\\nvalue = [3, 0]'),\n",
       " Text(0.8, 0.16666666666666666, 'gini = 0.0\\nsamples = 1\\nvalue = [0, 1]')]"
      ]
     },
     "execution_count": 6,
     "metadata": {},
     "output_type": "execute_result"
    },
    {
     "data": {
      "image/png": "[encoded data removed]",
      "text/plain": [
       "<Figure size 640x480 with 1 Axes>"
      ]
     },
     "metadata": {},
     "output_type": "display_data"
    }
   ],
   "source": [
    "from sklearn.tree import plot_tree\n",
    "plot_tree(clf)"
   ]
  },
  {
   "cell_type": "code",
   "execution_count": 7,
   "id": "d9ba1072",
   "metadata": {
    "execution": {
     "iopub.execute_input": "2024-07-12T04:34:36.980289Z",
     "iopub.status.busy": "2024-07-12T04:34:36.979904Z",
     "iopub.status.idle": "2024-07-12T04:34:36.986872Z",
     "shell.execute_reply": "2024-07-12T04:34:36.985790Z"
    },
    "papermill": {
     "duration": 0.016198,
     "end_time": "2024-07-12T04:34:36.989084",
     "exception": false,
     "start_time": "2024-07-12T04:34:36.972886",
     "status": "completed"
    },
    "tags": []
   },
   "outputs": [
    {
     "data": {
      "text/plain": [
       "array([0.625, 0.375])"
      ]
     },
     "execution_count": 7,
     "metadata": {},
     "output_type": "execute_result"
    }
   ],
   "source": [
    "clf.feature_importances_"
   ]
  },
  {
   "cell_type": "code",
   "execution_count": 8,
   "id": "dba906b1",
   "metadata": {
    "execution": {
     "iopub.execute_input": "2024-07-12T04:34:37.003634Z",
     "iopub.status.busy": "2024-07-12T04:34:37.002722Z",
     "iopub.status.idle": "2024-07-12T04:34:37.076579Z",
     "shell.execute_reply": "2024-07-12T04:34:37.075444Z"
    },
    "papermill": {
     "duration": 0.083305,
     "end_time": "2024-07-12T04:34:37.078923",
     "exception": false,
     "start_time": "2024-07-12T04:34:36.995618",
     "status": "completed"
    },
    "tags": []
   },
   "outputs": [
    {
     "data": {
      "text/html": [
       "<style>#sk-container-id-2 {color: black;background-color: white;}#sk-container-id-2 pre{padding: 0;}#sk-container-id-2 div.sk-toggleable {background-color: white;}#sk-container-id-2 label.sk-toggleable__label {cursor: pointer;display: block;width: 100%;margin-bottom: 0;padding: 0.3em;box-sizing: border-box;text-align: center;}#sk-container-id-2 label.sk-toggleable__label-arrow:before {content: \"▸\";float: left;margin-right: 0.25em;color: #696969;}#sk-container-id-2 label.sk-toggleable__label-arrow:hover:before {color: black;}#sk-container-id-2 div.sk-estimator:hover label.sk-toggleable__label-arrow:before {color: black;}#sk-container-id-2 div.sk-toggleable__content {max-height: 0;max-width: 0;overflow: hidden;text-align: left;background-color: #f0f8ff;}#sk-container-id-2 div.sk-toggleable__content pre {margin: 0.2em;color: black;border-radius: 0.25em;background-color: #f0f8ff;}#sk-container-id-2 input.sk-toggleable__control:checked~div.sk-toggleable__content {max-height: 200px;max-width: 100%;overflow: auto;}#sk-container-id-2 input.sk-toggleable__control:checked~label.sk-toggleable__label-arrow:before {content: \"▾\";}#sk-container-id-2 div.sk-estimator input.sk-toggleable__control:checked~label.sk-toggleable__label {background-color: #d4ebff;}#sk-container-id-2 div.sk-label input.sk-toggleable__control:checked~label.sk-toggleable__label {background-color: #d4ebff;}#sk-container-id-2 input.sk-hidden--visually {border: 0;clip: rect(1px 1px 1px 1px);clip: rect(1px, 1px, 1px, 1px);height: 1px;margin: -1px;overflow: hidden;padding: 0;position: absolute;width: 1px;}#sk-container-id-2 div.sk-estimator {font-family: monospace;background-color: #f0f8ff;border: 1px dotted black;border-radius: 0.25em;box-sizing: border-box;margin-bottom: 0.5em;}#sk-container-id-2 div.sk-estimator:hover {background-color: #d4ebff;}#sk-container-id-2 div.sk-parallel-item::after {content: \"\";width: 100%;border-bottom: 1px solid gray;flex-grow: 1;}#sk-container-id-2 div.sk-label:hover label.sk-toggleable__label {background-color: #d4ebff;}#sk-container-id-2 div.sk-serial::before {content: \"\";position: absolute;border-left: 1px solid gray;box-sizing: border-box;top: 0;bottom: 0;left: 50%;z-index: 0;}#sk-container-id-2 div.sk-serial {display: flex;flex-direction: column;align-items: center;background-color: white;padding-right: 0.2em;padding-left: 0.2em;position: relative;}#sk-container-id-2 div.sk-item {position: relative;z-index: 1;}#sk-container-id-2 div.sk-parallel {display: flex;align-items: stretch;justify-content: center;background-color: white;position: relative;}#sk-container-id-2 div.sk-item::before, #sk-container-id-2 div.sk-parallel-item::before {content: \"\";position: absolute;border-left: 1px solid gray;box-sizing: border-box;top: 0;bottom: 0;left: 50%;z-index: -1;}#sk-container-id-2 div.sk-parallel-item {display: flex;flex-direction: column;z-index: 1;position: relative;background-color: white;}#sk-container-id-2 div.sk-parallel-item:first-child::after {align-self: flex-end;width: 50%;}#sk-container-id-2 div.sk-parallel-item:last-child::after {align-self: flex-start;width: 50%;}#sk-container-id-2 div.sk-parallel-item:only-child::after {width: 0;}#sk-container-id-2 div.sk-dashed-wrapped {border: 1px dashed gray;margin: 0 0.4em 0.5em 0.4em;box-sizing: border-box;padding-bottom: 0.4em;background-color: white;}#sk-container-id-2 div.sk-label label {font-family: monospace;font-weight: bold;display: inline-block;line-height: 1.2em;}#sk-container-id-2 div.sk-label-container {text-align: center;}#sk-container-id-2 div.sk-container {/* jupyter's `normalize.less` sets `[hidden] { display: none; }` but bootstrap.min.css set `[hidden] { display: none !important; }` so we also need the `!important` here to be able to override the default hidden behavior on the sphinx rendered scikit-learn.org. See: https://github.com/scikit-learn/scikit-learn/issues/21755 */display: inline-block !important;position: relative;}#sk-container-id-2 div.sk-text-repr-fallback {display: none;}</style><div id=\"sk-container-id-2\" class=\"sk-top-container\"><div class=\"sk-text-repr-fallback\"><pre>RandomForestClassifier(n_estimators=2)</pre><b>In a Jupyter environment, please rerun this cell to show the HTML representation or trust the notebook. <br />On GitHub, the HTML representation is unable to render, please try loading this page with nbviewer.org.</b></div><div class=\"sk-container\" hidden><div class=\"sk-item\"><div class=\"sk-estimator sk-toggleable\"><input class=\"sk-toggleable__control sk-hidden--visually\" id=\"sk-estimator-id-2\" type=\"checkbox\" checked><label for=\"sk-estimator-id-2\" class=\"sk-toggleable__label sk-toggleable__label-arrow\">RandomForestClassifier</label><div class=\"sk-toggleable__content\"><pre>RandomForestClassifier(n_estimators=2)</pre></div></div></div></div></div>"
      ],
      "text/plain": [
       "RandomForestClassifier(n_estimators=2)"
      ]
     },
     "execution_count": 8,
     "metadata": {},
     "output_type": "execute_result"
    }
   ],
   "source": [
    "from sklearn.ensemble import RandomForestClassifier\n",
    "rf = RandomForestClassifier(n_estimators=2)\n",
    "rf.fit(X,y)"
   ]
  },
  {
   "cell_type": "code",
   "execution_count": 9,
   "id": "158fd120",
   "metadata": {
    "execution": {
     "iopub.execute_input": "2024-07-12T04:34:37.093184Z",
     "iopub.status.busy": "2024-07-12T04:34:37.092238Z",
     "iopub.status.idle": "2024-07-12T04:34:37.099724Z",
     "shell.execute_reply": "2024-07-12T04:34:37.098695Z"
    },
    "papermill": {
     "duration": 0.016657,
     "end_time": "2024-07-12T04:34:37.101730",
     "exception": false,
     "start_time": "2024-07-12T04:34:37.085073",
     "status": "completed"
    },
    "tags": []
   },
   "outputs": [
    {
     "data": {
      "text/plain": [
       "array([0.1875, 0.8125])"
      ]
     },
     "execution_count": 9,
     "metadata": {},
     "output_type": "execute_result"
    }
   ],
   "source": [
    "rf.feature_importances_"
   ]
  },
  {
   "cell_type": "code",
   "execution_count": 10,
   "id": "a6b0b56b",
   "metadata": {
    "execution": {
     "iopub.execute_input": "2024-07-12T04:34:37.115428Z",
     "iopub.status.busy": "2024-07-12T04:34:37.115026Z",
     "iopub.status.idle": "2024-07-12T04:34:37.122152Z",
     "shell.execute_reply": "2024-07-12T04:34:37.121127Z"
    },
    "papermill": {
     "duration": 0.016462,
     "end_time": "2024-07-12T04:34:37.124269",
     "exception": false,
     "start_time": "2024-07-12T04:34:37.107807",
     "status": "completed"
    },
    "tags": []
   },
   "outputs": [
    {
     "data": {
      "text/plain": [
       "[DecisionTreeClassifier(max_features='sqrt', random_state=121535621),\n",
       " DecisionTreeClassifier(max_features='sqrt', random_state=228928062)]"
      ]
     },
     "execution_count": 10,
     "metadata": {},
     "output_type": "execute_result"
    }
   ],
   "source": [
    "rf.estimators_"
   ]
  },
  {
   "cell_type": "code",
   "execution_count": 11,
   "id": "5a9f469a",
   "metadata": {
    "execution": {
     "iopub.execute_input": "2024-07-12T04:34:37.138204Z",
     "iopub.status.busy": "2024-07-12T04:34:37.137803Z",
     "iopub.status.idle": "2024-07-12T04:34:37.144465Z",
     "shell.execute_reply": "2024-07-12T04:34:37.143221Z"
    },
    "papermill": {
     "duration": 0.016576,
     "end_time": "2024-07-12T04:34:37.147050",
     "exception": false,
     "start_time": "2024-07-12T04:34:37.130474",
     "status": "completed"
    },
    "tags": []
   },
   "outputs": [
    {
     "name": "stdout",
     "output_type": "stream",
     "text": [
      "[0. 1.]\n",
      "[0.375 0.625]\n"
     ]
    }
   ],
   "source": [
    "print(rf.estimators_[0].feature_importances_)\n",
    "print(rf.estimators_[1].feature_importances_)\n"
   ]
  },
  {
   "cell_type": "code",
   "execution_count": 12,
   "id": "e74e0b92",
   "metadata": {
    "execution": {
     "iopub.execute_input": "2024-07-12T04:34:37.161124Z",
     "iopub.status.busy": "2024-07-12T04:34:37.160733Z",
     "iopub.status.idle": "2024-07-12T04:34:37.167254Z",
     "shell.execute_reply": "2024-07-12T04:34:37.166197Z"
    },
    "papermill": {
     "duration": 0.016287,
     "end_time": "2024-07-12T04:34:37.169634",
     "exception": false,
     "start_time": "2024-07-12T04:34:37.153347",
     "status": "completed"
    },
    "tags": []
   },
   "outputs": [],
   "source": [
    "X,y = make_classification(n_samples=15, n_classes=2,\n",
    "                               n_features=2, n_informative=2, n_redundant=0,\n",
    "                               random_state=0)"
   ]
  },
  {
   "cell_type": "code",
   "execution_count": 13,
   "id": "063355d9",
   "metadata": {
    "execution": {
     "iopub.execute_input": "2024-07-12T04:34:37.184396Z",
     "iopub.status.busy": "2024-07-12T04:34:37.183421Z",
     "iopub.status.idle": "2024-07-12T04:34:37.188364Z",
     "shell.execute_reply": "2024-07-12T04:34:37.187271Z"
    },
    "papermill": {
     "duration": 0.014546,
     "end_time": "2024-07-12T04:34:37.190418",
     "exception": false,
     "start_time": "2024-07-12T04:34:37.175872",
     "status": "completed"
    },
    "tags": []
   },
   "outputs": [],
   "source": [
    "from sklearn.tree import DecisionTreeClassifier"
   ]
  },
  {
   "cell_type": "code",
   "execution_count": 14,
   "id": "3c52c631",
   "metadata": {
    "execution": {
     "iopub.execute_input": "2024-07-12T04:34:37.205282Z",
     "iopub.status.busy": "2024-07-12T04:34:37.204322Z",
     "iopub.status.idle": "2024-07-12T04:34:37.209229Z",
     "shell.execute_reply": "2024-07-12T04:34:37.208201Z"
    },
    "papermill": {
     "duration": 0.014562,
     "end_time": "2024-07-12T04:34:37.211409",
     "exception": false,
     "start_time": "2024-07-12T04:34:37.196847",
     "status": "completed"
    },
    "tags": []
   },
   "outputs": [],
   "source": [
    "clf = DecisionTreeClassifier()"
   ]
  },
  {
   "cell_type": "code",
   "execution_count": 15,
   "id": "d98157c6",
   "metadata": {
    "execution": {
     "iopub.execute_input": "2024-07-12T04:34:37.226150Z",
     "iopub.status.busy": "2024-07-12T04:34:37.225242Z",
     "iopub.status.idle": "2024-07-12T04:34:37.234451Z",
     "shell.execute_reply": "2024-07-12T04:34:37.233342Z"
    },
    "papermill": {
     "duration": 0.018849,
     "end_time": "2024-07-12T04:34:37.236666",
     "exception": false,
     "start_time": "2024-07-12T04:34:37.217817",
     "status": "completed"
    },
    "tags": []
   },
   "outputs": [
    {
     "data": {
      "text/html": [
       "<style>#sk-container-id-3 {color: black;background-color: white;}#sk-container-id-3 pre{padding: 0;}#sk-container-id-3 div.sk-toggleable {background-color: white;}#sk-container-id-3 label.sk-toggleable__label {cursor: pointer;display: block;width: 100%;margin-bottom: 0;padding: 0.3em;box-sizing: border-box;text-align: center;}#sk-container-id-3 label.sk-toggleable__label-arrow:before {content: \"▸\";float: left;margin-right: 0.25em;color: #696969;}#sk-container-id-3 label.sk-toggleable__label-arrow:hover:before {color: black;}#sk-container-id-3 div.sk-estimator:hover label.sk-toggleable__label-arrow:before {color: black;}#sk-container-id-3 div.sk-toggleable__content {max-height: 0;max-width: 0;overflow: hidden;text-align: left;background-color: #f0f8ff;}#sk-container-id-3 div.sk-toggleable__content pre {margin: 0.2em;color: black;border-radius: 0.25em;background-color: #f0f8ff;}#sk-container-id-3 input.sk-toggleable__control:checked~div.sk-toggleable__content {max-height: 200px;max-width: 100%;overflow: auto;}#sk-container-id-3 input.sk-toggleable__control:checked~label.sk-toggleable__label-arrow:before {content: \"▾\";}#sk-container-id-3 div.sk-estimator input.sk-toggleable__control:checked~label.sk-toggleable__label {background-color: #d4ebff;}#sk-container-id-3 div.sk-label input.sk-toggleable__control:checked~label.sk-toggleable__label {background-color: #d4ebff;}#sk-container-id-3 input.sk-hidden--visually {border: 0;clip: rect(1px 1px 1px 1px);clip: rect(1px, 1px, 1px, 1px);height: 1px;margin: -1px;overflow: hidden;padding: 0;position: absolute;width: 1px;}#sk-container-id-3 div.sk-estimator {font-family: monospace;background-color: #f0f8ff;border: 1px dotted black;border-radius: 0.25em;box-sizing: border-box;margin-bottom: 0.5em;}#sk-container-id-3 div.sk-estimator:hover {background-color: #d4ebff;}#sk-container-id-3 div.sk-parallel-item::after {content: \"\";width: 100%;border-bottom: 1px solid gray;flex-grow: 1;}#sk-container-id-3 div.sk-label:hover label.sk-toggleable__label {background-color: #d4ebff;}#sk-container-id-3 div.sk-serial::before {content: \"\";position: absolute;border-left: 1px solid gray;box-sizing: border-box;top: 0;bottom: 0;left: 50%;z-index: 0;}#sk-container-id-3 div.sk-serial {display: flex;flex-direction: column;align-items: center;background-color: white;padding-right: 0.2em;padding-left: 0.2em;position: relative;}#sk-container-id-3 div.sk-item {position: relative;z-index: 1;}#sk-container-id-3 div.sk-parallel {display: flex;align-items: stretch;justify-content: center;background-color: white;position: relative;}#sk-container-id-3 div.sk-item::before, #sk-container-id-3 div.sk-parallel-item::before {content: \"\";position: absolute;border-left: 1px solid gray;box-sizing: border-box;top: 0;bottom: 0;left: 50%;z-index: -1;}#sk-container-id-3 div.sk-parallel-item {display: flex;flex-direction: column;z-index: 1;position: relative;background-color: white;}#sk-container-id-3 div.sk-parallel-item:first-child::after {align-self: flex-end;width: 50%;}#sk-container-id-3 div.sk-parallel-item:last-child::after {align-self: flex-start;width: 50%;}#sk-container-id-3 div.sk-parallel-item:only-child::after {width: 0;}#sk-container-id-3 div.sk-dashed-wrapped {border: 1px dashed gray;margin: 0 0.4em 0.5em 0.4em;box-sizing: border-box;padding-bottom: 0.4em;background-color: white;}#sk-container-id-3 div.sk-label label {font-family: monospace;font-weight: bold;display: inline-block;line-height: 1.2em;}#sk-container-id-3 div.sk-label-container {text-align: center;}#sk-container-id-3 div.sk-container {/* jupyter's `normalize.less` sets `[hidden] { display: none; }` but bootstrap.min.css set `[hidden] { display: none !important; }` so we also need the `!important` here to be able to override the default hidden behavior on the sphinx rendered scikit-learn.org. See: https://github.com/scikit-learn/scikit-learn/issues/21755 */display: inline-block !important;position: relative;}#sk-container-id-3 div.sk-text-repr-fallback {display: none;}</style><div id=\"sk-container-id-3\" class=\"sk-top-container\"><div class=\"sk-text-repr-fallback\"><pre>DecisionTreeClassifier()</pre><b>In a Jupyter environment, please rerun this cell to show the HTML representation or trust the notebook. <br />On GitHub, the HTML representation is unable to render, please try loading this page with nbviewer.org.</b></div><div class=\"sk-container\" hidden><div class=\"sk-item\"><div class=\"sk-estimator sk-toggleable\"><input class=\"sk-toggleable__control sk-hidden--visually\" id=\"sk-estimator-id-3\" type=\"checkbox\" checked><label for=\"sk-estimator-id-3\" class=\"sk-toggleable__label sk-toggleable__label-arrow\">DecisionTreeClassifier</label><div class=\"sk-toggleable__content\"><pre>DecisionTreeClassifier()</pre></div></div></div></div></div>"
      ],
      "text/plain": [
       "DecisionTreeClassifier()"
      ]
     },
     "execution_count": 15,
     "metadata": {},
     "output_type": "execute_result"
    }
   ],
   "source": [
    "clf.fit(X,y)\n"
   ]
  },
  {
   "cell_type": "code",
   "execution_count": 16,
   "id": "97204b6d",
   "metadata": {
    "execution": {
     "iopub.execute_input": "2024-07-12T04:34:37.251238Z",
     "iopub.status.busy": "2024-07-12T04:34:37.250862Z",
     "iopub.status.idle": "2024-07-12T04:34:37.638635Z",
     "shell.execute_reply": "2024-07-12T04:34:37.637437Z"
    },
    "papermill": {
     "duration": 0.397866,
     "end_time": "2024-07-12T04:34:37.641079",
     "exception": false,
     "start_time": "2024-07-12T04:34:37.243213",
     "status": "completed"
    },
    "tags": []
   },
   "outputs": [
    {
     "data": {
      "text/plain": [
       "[Text(0.3333333333333333, 0.875, 'x[1] <= -0.383\\ngini = 0.498\\nsamples = 15\\nvalue = [8, 7]'),\n",
       " Text(0.16666666666666666, 0.625, 'gini = 0.0\\nsamples = 6\\nvalue = [6, 0]'),\n",
       " Text(0.5, 0.625, 'x[0] <= 0.878\\ngini = 0.346\\nsamples = 9\\nvalue = [2, 7]'),\n",
       " Text(0.3333333333333333, 0.375, 'gini = 0.0\\nsamples = 6\\nvalue = [0, 6]'),\n",
       " Text(0.6666666666666666, 0.375, 'x[0] <= 2.444\\ngini = 0.444\\nsamples = 3\\nvalue = [2, 1]'),\n",
       " Text(0.5, 0.125, 'gini = 0.0\\nsamples = 2\\nvalue = [2, 0]'),\n",
       " Text(0.8333333333333334, 0.125, 'gini = 0.0\\nsamples = 1\\nvalue = [0, 1]')]"
      ]
     },
     "execution_count": 16,
     "metadata": {},
     "output_type": "execute_result"
    },
    {
     "data": {
      "image/png": "[encoded data removed]",
      "text/plain": [
       "<Figure size 640x480 with 1 Axes>"
      ]
     },
     "metadata": {},
     "output_type": "display_data"
    }
   ],
   "source": [
    "from sklearn.tree import plot_tree\n",
    "plot_tree(clf)"
   ]
  },
  {
   "cell_type": "code",
   "execution_count": 17,
   "id": "d5d13d45",
   "metadata": {
    "execution": {
     "iopub.execute_input": "2024-07-12T04:34:37.659375Z",
     "iopub.status.busy": "2024-07-12T04:34:37.658447Z",
     "iopub.status.idle": "2024-07-12T04:34:37.665784Z",
     "shell.execute_reply": "2024-07-12T04:34:37.664573Z"
    },
    "papermill": {
     "duration": 0.019468,
     "end_time": "2024-07-12T04:34:37.667893",
     "exception": false,
     "start_time": "2024-07-12T04:34:37.648425",
     "status": "completed"
    },
    "tags": []
   },
   "outputs": [
    {
     "data": {
      "text/plain": [
       "array([0.41666667, 0.58333333])"
      ]
     },
     "execution_count": 17,
     "metadata": {},
     "output_type": "execute_result"
    }
   ],
   "source": [
    "clf.feature_importances_"
   ]
  },
  {
   "cell_type": "code",
   "execution_count": null,
   "id": "dd3752f7",
   "metadata": {
    "papermill": {
     "duration": 0.00703,
     "end_time": "2024-07-12T04:34:37.682547",
     "exception": false,
     "start_time": "2024-07-12T04:34:37.675517",
     "status": "completed"
    },
    "tags": []
   },
   "outputs": [],
   "source": []
  }
 ],
 "metadata": {
  "kaggle": {
   "accelerator": "none",
   "dataSources": [],
   "dockerImageVersionId": 30746,
   "isGpuEnabled": false,
   "isInternetEnabled": false,
   "language": "python",
   "sourceType": "notebook"
  },
  "kernelspec": {
   "display_name": "Python 3",
   "language": "python",
   "name": "python3"
  },
  "language_info": {
   "codemirror_mode": {
    "name": "ipython",
    "version": 3
   },
   "file_extension": ".py",
   "mimetype": "text/x-python",
   "name": "python",
   "nbconvert_exporter": "python",
   "pygments_lexer": "ipython3",
   "version": "3.10.13"
  },
  "papermill": {
   "default_parameters": {},
   "duration": 5.793322,
   "end_time": "2024-07-12T04:34:38.209932",
   "environment_variables": {},
   "exception": null,
   "input_path": "__notebook__.ipynb",
   "output_path": "__notebook__.ipynb",
   "parameters": {},
   "start_time": "2024-07-12T04:34:32.416610",
   "version": "2.5.0"
  }
 },
 "nbformat": 4,
 "nbformat_minor": 5
}
