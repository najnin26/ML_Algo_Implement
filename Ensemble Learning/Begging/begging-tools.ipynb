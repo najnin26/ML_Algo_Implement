{
 "cells": [
  {
   "cell_type": "code",
   "execution_count": 1,
   "id": "fb7d426e",
   "metadata": {
    "_cell_guid": "b1076dfc-b9ad-4769-8c92-a6c4dae69d19",
    "_uuid": "8f2839f25d086af736a60e9eeb907d3b93b6e0e5",
    "execution": {
     "iopub.execute_input": "2024-07-11T05:03:14.327080Z",
     "iopub.status.busy": "2024-07-11T05:03:14.326639Z",
     "iopub.status.idle": "2024-07-11T05:03:15.420373Z",
     "shell.execute_reply": "2024-07-11T05:03:15.418976Z"
    },
    "papermill": {
     "duration": 1.112514,
     "end_time": "2024-07-11T05:03:15.423650",
     "exception": false,
     "start_time": "2024-07-11T05:03:14.311136",
     "status": "completed"
    },
    "tags": []
   },
   "outputs": [],
   "source": [
    "import numpy as np\n",
    "import pandas as pd"
   ]
  },
  {
   "cell_type": "code",
   "execution_count": 2,
   "id": "112ccc63",
   "metadata": {
    "execution": {
     "iopub.execute_input": "2024-07-11T05:03:15.454042Z",
     "iopub.status.busy": "2024-07-11T05:03:15.453294Z",
     "iopub.status.idle": "2024-07-11T05:03:15.479302Z",
     "shell.execute_reply": "2024-07-11T05:03:15.477975Z"
    },
    "papermill": {
     "duration": 0.04434,
     "end_time": "2024-07-11T05:03:15.482544",
     "exception": false,
     "start_time": "2024-07-11T05:03:15.438204",
     "status": "completed"
    },
    "tags": []
   },
   "outputs": [],
   "source": [
    "df=pd.read_csv('/kaggle/input/iris-dataset/iris.csv')"
   ]
  },
  {
   "cell_type": "code",
   "execution_count": 3,
   "id": "35416bf6",
   "metadata": {
    "execution": {
     "iopub.execute_input": "2024-07-11T05:03:15.512054Z",
     "iopub.status.busy": "2024-07-11T05:03:15.511598Z",
     "iopub.status.idle": "2024-07-11T05:03:15.541078Z",
     "shell.execute_reply": "2024-07-11T05:03:15.539744Z"
    },
    "papermill": {
     "duration": 0.047699,
     "end_time": "2024-07-11T05:03:15.543841",
     "exception": false,
     "start_time": "2024-07-11T05:03:15.496142",
     "status": "completed"
    },
    "tags": []
   },
   "outputs": [
    {
     "data": {
      "text/html": [
       "<div>\n",
       "<style scoped>\n",
       "    .dataframe tbody tr th:only-of-type {\n",
       "        vertical-align: middle;\n",
       "    }\n",
       "\n",
       "    .dataframe tbody tr th {\n",
       "        vertical-align: top;\n",
       "    }\n",
       "\n",
       "    .dataframe thead th {\n",
       "        text-align: right;\n",
       "    }\n",
       "</style>\n",
       "<table border=\"1\" class=\"dataframe\">\n",
       "  <thead>\n",
       "    <tr style=\"text-align: right;\">\n",
       "      <th></th>\n",
       "      <th>sepal_length</th>\n",
       "      <th>sepal_width</th>\n",
       "      <th>petal_length</th>\n",
       "      <th>petal_width</th>\n",
       "      <th>species</th>\n",
       "    </tr>\n",
       "  </thead>\n",
       "  <tbody>\n",
       "    <tr>\n",
       "      <th>0</th>\n",
       "      <td>5.1</td>\n",
       "      <td>3.5</td>\n",
       "      <td>1.4</td>\n",
       "      <td>0.2</td>\n",
       "      <td>setosa</td>\n",
       "    </tr>\n",
       "    <tr>\n",
       "      <th>1</th>\n",
       "      <td>4.9</td>\n",
       "      <td>3.0</td>\n",
       "      <td>1.4</td>\n",
       "      <td>0.2</td>\n",
       "      <td>setosa</td>\n",
       "    </tr>\n",
       "    <tr>\n",
       "      <th>2</th>\n",
       "      <td>4.7</td>\n",
       "      <td>3.2</td>\n",
       "      <td>1.3</td>\n",
       "      <td>0.2</td>\n",
       "      <td>setosa</td>\n",
       "    </tr>\n",
       "    <tr>\n",
       "      <th>3</th>\n",
       "      <td>4.6</td>\n",
       "      <td>3.1</td>\n",
       "      <td>1.5</td>\n",
       "      <td>0.2</td>\n",
       "      <td>setosa</td>\n",
       "    </tr>\n",
       "    <tr>\n",
       "      <th>4</th>\n",
       "      <td>5.0</td>\n",
       "      <td>3.6</td>\n",
       "      <td>1.4</td>\n",
       "      <td>0.2</td>\n",
       "      <td>setosa</td>\n",
       "    </tr>\n",
       "  </tbody>\n",
       "</table>\n",
       "</div>"
      ],
      "text/plain": [
       "   sepal_length  sepal_width  petal_length  petal_width species\n",
       "0           5.1          3.5           1.4          0.2  setosa\n",
       "1           4.9          3.0           1.4          0.2  setosa\n",
       "2           4.7          3.2           1.3          0.2  setosa\n",
       "3           4.6          3.1           1.5          0.2  setosa\n",
       "4           5.0          3.6           1.4          0.2  setosa"
      ]
     },
     "execution_count": 3,
     "metadata": {},
     "output_type": "execute_result"
    }
   ],
   "source": [
    "df.head()"
   ]
  },
  {
   "cell_type": "code",
   "execution_count": 4,
   "id": "8e6466ab",
   "metadata": {
    "execution": {
     "iopub.execute_input": "2024-07-11T05:03:15.572893Z",
     "iopub.status.busy": "2024-07-11T05:03:15.572466Z",
     "iopub.status.idle": "2024-07-11T05:03:17.058423Z",
     "shell.execute_reply": "2024-07-11T05:03:17.056972Z"
    },
    "papermill": {
     "duration": 1.504473,
     "end_time": "2024-07-11T05:03:17.061969",
     "exception": false,
     "start_time": "2024-07-11T05:03:15.557496",
     "status": "completed"
    },
    "tags": []
   },
   "outputs": [],
   "source": [
    "from sklearn.preprocessing import LabelEncoder"
   ]
  },
  {
   "cell_type": "code",
   "execution_count": 5,
   "id": "dff11dd2",
   "metadata": {
    "execution": {
     "iopub.execute_input": "2024-07-11T05:03:17.095498Z",
     "iopub.status.busy": "2024-07-11T05:03:17.095084Z",
     "iopub.status.idle": "2024-07-11T05:03:17.100627Z",
     "shell.execute_reply": "2024-07-11T05:03:17.099347Z"
    },
    "papermill": {
     "duration": 0.025889,
     "end_time": "2024-07-11T05:03:17.103381",
     "exception": false,
     "start_time": "2024-07-11T05:03:17.077492",
     "status": "completed"
    },
    "tags": []
   },
   "outputs": [],
   "source": [
    "encoder = LabelEncoder()"
   ]
  },
  {
   "cell_type": "code",
   "execution_count": 6,
   "id": "0fd274c6",
   "metadata": {
    "execution": {
     "iopub.execute_input": "2024-07-11T05:03:17.133809Z",
     "iopub.status.busy": "2024-07-11T05:03:17.133389Z",
     "iopub.status.idle": "2024-07-11T05:03:17.140464Z",
     "shell.execute_reply": "2024-07-11T05:03:17.139230Z"
    },
    "papermill": {
     "duration": 0.026004,
     "end_time": "2024-07-11T05:03:17.143550",
     "exception": false,
     "start_time": "2024-07-11T05:03:17.117546",
     "status": "completed"
    },
    "tags": []
   },
   "outputs": [],
   "source": [
    "df['species'] = encoder.fit_transform(df['species'])"
   ]
  },
  {
   "cell_type": "code",
   "execution_count": 7,
   "id": "1beaf033",
   "metadata": {
    "execution": {
     "iopub.execute_input": "2024-07-11T05:03:17.177777Z",
     "iopub.status.busy": "2024-07-11T05:03:17.176945Z",
     "iopub.status.idle": "2024-07-11T05:03:17.194773Z",
     "shell.execute_reply": "2024-07-11T05:03:17.193386Z"
    },
    "papermill": {
     "duration": 0.038717,
     "end_time": "2024-07-11T05:03:17.197594",
     "exception": false,
     "start_time": "2024-07-11T05:03:17.158877",
     "status": "completed"
    },
    "tags": []
   },
   "outputs": [
    {
     "data": {
      "text/html": [
       "<div>\n",
       "<style scoped>\n",
       "    .dataframe tbody tr th:only-of-type {\n",
       "        vertical-align: middle;\n",
       "    }\n",
       "\n",
       "    .dataframe tbody tr th {\n",
       "        vertical-align: top;\n",
       "    }\n",
       "\n",
       "    .dataframe thead th {\n",
       "        text-align: right;\n",
       "    }\n",
       "</style>\n",
       "<table border=\"1\" class=\"dataframe\">\n",
       "  <thead>\n",
       "    <tr style=\"text-align: right;\">\n",
       "      <th></th>\n",
       "      <th>sepal_length</th>\n",
       "      <th>sepal_width</th>\n",
       "      <th>petal_length</th>\n",
       "      <th>petal_width</th>\n",
       "      <th>species</th>\n",
       "    </tr>\n",
       "  </thead>\n",
       "  <tbody>\n",
       "    <tr>\n",
       "      <th>0</th>\n",
       "      <td>5.1</td>\n",
       "      <td>3.5</td>\n",
       "      <td>1.4</td>\n",
       "      <td>0.2</td>\n",
       "      <td>0</td>\n",
       "    </tr>\n",
       "    <tr>\n",
       "      <th>1</th>\n",
       "      <td>4.9</td>\n",
       "      <td>3.0</td>\n",
       "      <td>1.4</td>\n",
       "      <td>0.2</td>\n",
       "      <td>0</td>\n",
       "    </tr>\n",
       "    <tr>\n",
       "      <th>2</th>\n",
       "      <td>4.7</td>\n",
       "      <td>3.2</td>\n",
       "      <td>1.3</td>\n",
       "      <td>0.2</td>\n",
       "      <td>0</td>\n",
       "    </tr>\n",
       "    <tr>\n",
       "      <th>3</th>\n",
       "      <td>4.6</td>\n",
       "      <td>3.1</td>\n",
       "      <td>1.5</td>\n",
       "      <td>0.2</td>\n",
       "      <td>0</td>\n",
       "    </tr>\n",
       "    <tr>\n",
       "      <th>4</th>\n",
       "      <td>5.0</td>\n",
       "      <td>3.6</td>\n",
       "      <td>1.4</td>\n",
       "      <td>0.2</td>\n",
       "      <td>0</td>\n",
       "    </tr>\n",
       "  </tbody>\n",
       "</table>\n",
       "</div>"
      ],
      "text/plain": [
       "   sepal_length  sepal_width  petal_length  petal_width  species\n",
       "0           5.1          3.5           1.4          0.2        0\n",
       "1           4.9          3.0           1.4          0.2        0\n",
       "2           4.7          3.2           1.3          0.2        0\n",
       "3           4.6          3.1           1.5          0.2        0\n",
       "4           5.0          3.6           1.4          0.2        0"
      ]
     },
     "execution_count": 7,
     "metadata": {},
     "output_type": "execute_result"
    }
   ],
   "source": [
    "df.head()"
   ]
  },
  {
   "cell_type": "code",
   "execution_count": 8,
   "id": "3e704003",
   "metadata": {
    "execution": {
     "iopub.execute_input": "2024-07-11T05:03:17.229230Z",
     "iopub.status.busy": "2024-07-11T05:03:17.228762Z",
     "iopub.status.idle": "2024-07-11T05:03:17.694593Z",
     "shell.execute_reply": "2024-07-11T05:03:17.693463Z"
    },
    "papermill": {
     "duration": 0.48603,
     "end_time": "2024-07-11T05:03:17.697352",
     "exception": false,
     "start_time": "2024-07-11T05:03:17.211322",
     "status": "completed"
    },
    "tags": []
   },
   "outputs": [],
   "source": [
    "import seaborn as sns\n",
    "import matplotlib.pyplot as plt"
   ]
  },
  {
   "cell_type": "code",
   "execution_count": 9,
   "id": "faebb19e",
   "metadata": {
    "execution": {
     "iopub.execute_input": "2024-07-11T05:03:17.726763Z",
     "iopub.status.busy": "2024-07-11T05:03:17.726355Z",
     "iopub.status.idle": "2024-07-11T05:03:17.741717Z",
     "shell.execute_reply": "2024-07-11T05:03:17.740543Z"
    },
    "papermill": {
     "duration": 0.033406,
     "end_time": "2024-07-11T05:03:17.744476",
     "exception": false,
     "start_time": "2024-07-11T05:03:17.711070",
     "status": "completed"
    },
    "tags": []
   },
   "outputs": [],
   "source": [
    "df = df[df['species'] != 0][['sepal_width','petal_length','species']]"
   ]
  },
  {
   "cell_type": "code",
   "execution_count": 10,
   "id": "9d708756",
   "metadata": {
    "execution": {
     "iopub.execute_input": "2024-07-11T05:03:17.775106Z",
     "iopub.status.busy": "2024-07-11T05:03:17.774678Z",
     "iopub.status.idle": "2024-07-11T05:03:17.789114Z",
     "shell.execute_reply": "2024-07-11T05:03:17.787749Z"
    },
    "papermill": {
     "duration": 0.033003,
     "end_time": "2024-07-11T05:03:17.792010",
     "exception": false,
     "start_time": "2024-07-11T05:03:17.759007",
     "status": "completed"
    },
    "tags": []
   },
   "outputs": [
    {
     "data": {
      "text/html": [
       "<div>\n",
       "<style scoped>\n",
       "    .dataframe tbody tr th:only-of-type {\n",
       "        vertical-align: middle;\n",
       "    }\n",
       "\n",
       "    .dataframe tbody tr th {\n",
       "        vertical-align: top;\n",
       "    }\n",
       "\n",
       "    .dataframe thead th {\n",
       "        text-align: right;\n",
       "    }\n",
       "</style>\n",
       "<table border=\"1\" class=\"dataframe\">\n",
       "  <thead>\n",
       "    <tr style=\"text-align: right;\">\n",
       "      <th></th>\n",
       "      <th>sepal_width</th>\n",
       "      <th>petal_length</th>\n",
       "      <th>species</th>\n",
       "    </tr>\n",
       "  </thead>\n",
       "  <tbody>\n",
       "    <tr>\n",
       "      <th>50</th>\n",
       "      <td>3.2</td>\n",
       "      <td>4.7</td>\n",
       "      <td>1</td>\n",
       "    </tr>\n",
       "    <tr>\n",
       "      <th>51</th>\n",
       "      <td>3.2</td>\n",
       "      <td>4.5</td>\n",
       "      <td>1</td>\n",
       "    </tr>\n",
       "    <tr>\n",
       "      <th>52</th>\n",
       "      <td>3.1</td>\n",
       "      <td>4.9</td>\n",
       "      <td>1</td>\n",
       "    </tr>\n",
       "    <tr>\n",
       "      <th>53</th>\n",
       "      <td>2.3</td>\n",
       "      <td>4.0</td>\n",
       "      <td>1</td>\n",
       "    </tr>\n",
       "    <tr>\n",
       "      <th>54</th>\n",
       "      <td>2.8</td>\n",
       "      <td>4.6</td>\n",
       "      <td>1</td>\n",
       "    </tr>\n",
       "  </tbody>\n",
       "</table>\n",
       "</div>"
      ],
      "text/plain": [
       "    sepal_width  petal_length  species\n",
       "50          3.2           4.7        1\n",
       "51          3.2           4.5        1\n",
       "52          3.1           4.9        1\n",
       "53          2.3           4.0        1\n",
       "54          2.8           4.6        1"
      ]
     },
     "execution_count": 10,
     "metadata": {},
     "output_type": "execute_result"
    }
   ],
   "source": [
    "df.head()"
   ]
  },
  {
   "cell_type": "code",
   "execution_count": 11,
   "id": "764f9ad2",
   "metadata": {
    "execution": {
     "iopub.execute_input": "2024-07-11T05:03:17.821736Z",
     "iopub.status.busy": "2024-07-11T05:03:17.821337Z",
     "iopub.status.idle": "2024-07-11T05:03:18.189004Z",
     "shell.execute_reply": "2024-07-11T05:03:18.187719Z"
    },
    "papermill": {
     "duration": 0.385911,
     "end_time": "2024-07-11T05:03:18.191900",
     "exception": false,
     "start_time": "2024-07-11T05:03:17.805989",
     "status": "completed"
    },
    "tags": []
   },
   "outputs": [
    {
     "data": {
      "text/plain": [
       "<matplotlib.collections.PathCollection at 0x7baca2027010>"
      ]
     },
     "execution_count": 11,
     "metadata": {},
     "output_type": "execute_result"
    },
    {
     "data": {
      "image/png": "[encoded data removed]",
      "text/plain": [
       "<Figure size 640x480 with 1 Axes>"
      ]
     },
     "metadata": {},
     "output_type": "display_data"
    }
   ],
   "source": [
    "plt.scatter(df['sepal_width'],df['petal_length'],c=df['species'],cmap='winter')"
   ]
  },
  {
   "cell_type": "code",
   "execution_count": 12,
   "id": "3785593f",
   "metadata": {
    "execution": {
     "iopub.execute_input": "2024-07-11T05:03:18.223496Z",
     "iopub.status.busy": "2024-07-11T05:03:18.222998Z",
     "iopub.status.idle": "2024-07-11T05:03:18.233666Z",
     "shell.execute_reply": "2024-07-11T05:03:18.232419Z"
    },
    "papermill": {
     "duration": 0.029571,
     "end_time": "2024-07-11T05:03:18.236245",
     "exception": false,
     "start_time": "2024-07-11T05:03:18.206674",
     "status": "completed"
    },
    "tags": []
   },
   "outputs": [],
   "source": [
    "# Taking only 10 rows for training\n",
    "df = df.sample(100)\n",
    "df_train = df.iloc[:60,:].sample(10)\n",
    "df_val = df.iloc[60:80,:].sample(5)\n",
    "df_test = df.iloc[80:,:].sample(5)"
   ]
  },
  {
   "cell_type": "code",
   "execution_count": 13,
   "id": "97fbd00d",
   "metadata": {
    "execution": {
     "iopub.execute_input": "2024-07-11T05:03:18.267831Z",
     "iopub.status.busy": "2024-07-11T05:03:18.267370Z",
     "iopub.status.idle": "2024-07-11T05:03:18.283622Z",
     "shell.execute_reply": "2024-07-11T05:03:18.281956Z"
    },
    "papermill": {
     "duration": 0.035896,
     "end_time": "2024-07-11T05:03:18.286665",
     "exception": false,
     "start_time": "2024-07-11T05:03:18.250769",
     "status": "completed"
    },
    "tags": []
   },
   "outputs": [
    {
     "data": {
      "text/html": [
       "<div>\n",
       "<style scoped>\n",
       "    .dataframe tbody tr th:only-of-type {\n",
       "        vertical-align: middle;\n",
       "    }\n",
       "\n",
       "    .dataframe tbody tr th {\n",
       "        vertical-align: top;\n",
       "    }\n",
       "\n",
       "    .dataframe thead th {\n",
       "        text-align: right;\n",
       "    }\n",
       "</style>\n",
       "<table border=\"1\" class=\"dataframe\">\n",
       "  <thead>\n",
       "    <tr style=\"text-align: right;\">\n",
       "      <th></th>\n",
       "      <th>sepal_width</th>\n",
       "      <th>petal_length</th>\n",
       "      <th>species</th>\n",
       "    </tr>\n",
       "  </thead>\n",
       "  <tbody>\n",
       "    <tr>\n",
       "      <th>108</th>\n",
       "      <td>2.5</td>\n",
       "      <td>5.8</td>\n",
       "      <td>2</td>\n",
       "    </tr>\n",
       "    <tr>\n",
       "      <th>140</th>\n",
       "      <td>3.1</td>\n",
       "      <td>5.6</td>\n",
       "      <td>2</td>\n",
       "    </tr>\n",
       "    <tr>\n",
       "      <th>91</th>\n",
       "      <td>3.0</td>\n",
       "      <td>4.6</td>\n",
       "      <td>1</td>\n",
       "    </tr>\n",
       "    <tr>\n",
       "      <th>127</th>\n",
       "      <td>3.0</td>\n",
       "      <td>4.9</td>\n",
       "      <td>2</td>\n",
       "    </tr>\n",
       "    <tr>\n",
       "      <th>100</th>\n",
       "      <td>3.3</td>\n",
       "      <td>6.0</td>\n",
       "      <td>2</td>\n",
       "    </tr>\n",
       "    <tr>\n",
       "      <th>121</th>\n",
       "      <td>2.8</td>\n",
       "      <td>4.9</td>\n",
       "      <td>2</td>\n",
       "    </tr>\n",
       "    <tr>\n",
       "      <th>103</th>\n",
       "      <td>2.9</td>\n",
       "      <td>5.6</td>\n",
       "      <td>2</td>\n",
       "    </tr>\n",
       "    <tr>\n",
       "      <th>76</th>\n",
       "      <td>2.8</td>\n",
       "      <td>4.8</td>\n",
       "      <td>1</td>\n",
       "    </tr>\n",
       "    <tr>\n",
       "      <th>96</th>\n",
       "      <td>2.9</td>\n",
       "      <td>4.2</td>\n",
       "      <td>1</td>\n",
       "    </tr>\n",
       "    <tr>\n",
       "      <th>131</th>\n",
       "      <td>3.8</td>\n",
       "      <td>6.4</td>\n",
       "      <td>2</td>\n",
       "    </tr>\n",
       "  </tbody>\n",
       "</table>\n",
       "</div>"
      ],
      "text/plain": [
       "     sepal_width  petal_length  species\n",
       "108          2.5           5.8        2\n",
       "140          3.1           5.6        2\n",
       "91           3.0           4.6        1\n",
       "127          3.0           4.9        2\n",
       "100          3.3           6.0        2\n",
       "121          2.8           4.9        2\n",
       "103          2.9           5.6        2\n",
       "76           2.8           4.8        1\n",
       "96           2.9           4.2        1\n",
       "131          3.8           6.4        2"
      ]
     },
     "execution_count": 13,
     "metadata": {},
     "output_type": "execute_result"
    }
   ],
   "source": [
    "df_train"
   ]
  },
  {
   "cell_type": "code",
   "execution_count": 14,
   "id": "0b1e4c37",
   "metadata": {
    "execution": {
     "iopub.execute_input": "2024-07-11T05:03:18.320839Z",
     "iopub.status.busy": "2024-07-11T05:03:18.320392Z",
     "iopub.status.idle": "2024-07-11T05:03:18.333982Z",
     "shell.execute_reply": "2024-07-11T05:03:18.332689Z"
    },
    "papermill": {
     "duration": 0.033165,
     "end_time": "2024-07-11T05:03:18.336617",
     "exception": false,
     "start_time": "2024-07-11T05:03:18.303452",
     "status": "completed"
    },
    "tags": []
   },
   "outputs": [
    {
     "data": {
      "text/html": [
       "<div>\n",
       "<style scoped>\n",
       "    .dataframe tbody tr th:only-of-type {\n",
       "        vertical-align: middle;\n",
       "    }\n",
       "\n",
       "    .dataframe tbody tr th {\n",
       "        vertical-align: top;\n",
       "    }\n",
       "\n",
       "    .dataframe thead th {\n",
       "        text-align: right;\n",
       "    }\n",
       "</style>\n",
       "<table border=\"1\" class=\"dataframe\">\n",
       "  <thead>\n",
       "    <tr style=\"text-align: right;\">\n",
       "      <th></th>\n",
       "      <th>sepal_width</th>\n",
       "      <th>petal_length</th>\n",
       "      <th>species</th>\n",
       "    </tr>\n",
       "  </thead>\n",
       "  <tbody>\n",
       "    <tr>\n",
       "      <th>120</th>\n",
       "      <td>3.2</td>\n",
       "      <td>5.7</td>\n",
       "      <td>2</td>\n",
       "    </tr>\n",
       "    <tr>\n",
       "      <th>99</th>\n",
       "      <td>2.8</td>\n",
       "      <td>4.1</td>\n",
       "      <td>1</td>\n",
       "    </tr>\n",
       "    <tr>\n",
       "      <th>132</th>\n",
       "      <td>2.8</td>\n",
       "      <td>5.6</td>\n",
       "      <td>2</td>\n",
       "    </tr>\n",
       "    <tr>\n",
       "      <th>135</th>\n",
       "      <td>3.0</td>\n",
       "      <td>6.1</td>\n",
       "      <td>2</td>\n",
       "    </tr>\n",
       "    <tr>\n",
       "      <th>129</th>\n",
       "      <td>3.0</td>\n",
       "      <td>5.8</td>\n",
       "      <td>2</td>\n",
       "    </tr>\n",
       "  </tbody>\n",
       "</table>\n",
       "</div>"
      ],
      "text/plain": [
       "     sepal_width  petal_length  species\n",
       "120          3.2           5.7        2\n",
       "99           2.8           4.1        1\n",
       "132          2.8           5.6        2\n",
       "135          3.0           6.1        2\n",
       "129          3.0           5.8        2"
      ]
     },
     "execution_count": 14,
     "metadata": {},
     "output_type": "execute_result"
    }
   ],
   "source": [
    "df_val"
   ]
  },
  {
   "cell_type": "code",
   "execution_count": 15,
   "id": "b90a6807",
   "metadata": {
    "execution": {
     "iopub.execute_input": "2024-07-11T05:03:18.369064Z",
     "iopub.status.busy": "2024-07-11T05:03:18.368642Z",
     "iopub.status.idle": "2024-07-11T05:03:18.382075Z",
     "shell.execute_reply": "2024-07-11T05:03:18.380941Z"
    },
    "papermill": {
     "duration": 0.032876,
     "end_time": "2024-07-11T05:03:18.384661",
     "exception": false,
     "start_time": "2024-07-11T05:03:18.351785",
     "status": "completed"
    },
    "tags": []
   },
   "outputs": [
    {
     "data": {
      "text/html": [
       "<div>\n",
       "<style scoped>\n",
       "    .dataframe tbody tr th:only-of-type {\n",
       "        vertical-align: middle;\n",
       "    }\n",
       "\n",
       "    .dataframe tbody tr th {\n",
       "        vertical-align: top;\n",
       "    }\n",
       "\n",
       "    .dataframe thead th {\n",
       "        text-align: right;\n",
       "    }\n",
       "</style>\n",
       "<table border=\"1\" class=\"dataframe\">\n",
       "  <thead>\n",
       "    <tr style=\"text-align: right;\">\n",
       "      <th></th>\n",
       "      <th>sepal_width</th>\n",
       "      <th>petal_length</th>\n",
       "      <th>species</th>\n",
       "    </tr>\n",
       "  </thead>\n",
       "  <tbody>\n",
       "    <tr>\n",
       "      <th>58</th>\n",
       "      <td>2.9</td>\n",
       "      <td>4.6</td>\n",
       "      <td>1</td>\n",
       "    </tr>\n",
       "    <tr>\n",
       "      <th>67</th>\n",
       "      <td>2.7</td>\n",
       "      <td>4.1</td>\n",
       "      <td>1</td>\n",
       "    </tr>\n",
       "    <tr>\n",
       "      <th>148</th>\n",
       "      <td>3.4</td>\n",
       "      <td>5.4</td>\n",
       "      <td>2</td>\n",
       "    </tr>\n",
       "    <tr>\n",
       "      <th>63</th>\n",
       "      <td>2.9</td>\n",
       "      <td>4.7</td>\n",
       "      <td>1</td>\n",
       "    </tr>\n",
       "    <tr>\n",
       "      <th>90</th>\n",
       "      <td>2.6</td>\n",
       "      <td>4.4</td>\n",
       "      <td>1</td>\n",
       "    </tr>\n",
       "  </tbody>\n",
       "</table>\n",
       "</div>"
      ],
      "text/plain": [
       "     sepal_width  petal_length  species\n",
       "58           2.9           4.6        1\n",
       "67           2.7           4.1        1\n",
       "148          3.4           5.4        2\n",
       "63           2.9           4.7        1\n",
       "90           2.6           4.4        1"
      ]
     },
     "execution_count": 15,
     "metadata": {},
     "output_type": "execute_result"
    }
   ],
   "source": [
    "df_test"
   ]
  },
  {
   "cell_type": "code",
   "execution_count": 16,
   "id": "a08d1df1",
   "metadata": {
    "execution": {
     "iopub.execute_input": "2024-07-11T05:03:18.417585Z",
     "iopub.status.busy": "2024-07-11T05:03:18.417136Z",
     "iopub.status.idle": "2024-07-11T05:03:18.423669Z",
     "shell.execute_reply": "2024-07-11T05:03:18.422513Z"
    },
    "papermill": {
     "duration": 0.026365,
     "end_time": "2024-07-11T05:03:18.426495",
     "exception": false,
     "start_time": "2024-07-11T05:03:18.400130",
     "status": "completed"
    },
    "tags": []
   },
   "outputs": [],
   "source": [
    "X_test = df_val.iloc[:,0:2].values\n",
    "y_test = df_val.iloc[:,-1].values"
   ]
  },
  {
   "cell_type": "code",
   "execution_count": 17,
   "id": "6c0103e7",
   "metadata": {
    "execution": {
     "iopub.execute_input": "2024-07-11T05:03:18.459637Z",
     "iopub.status.busy": "2024-07-11T05:03:18.459209Z",
     "iopub.status.idle": "2024-07-11T05:03:18.467196Z",
     "shell.execute_reply": "2024-07-11T05:03:18.465942Z"
    },
    "papermill": {
     "duration": 0.029174,
     "end_time": "2024-07-11T05:03:18.471204",
     "exception": false,
     "start_time": "2024-07-11T05:03:18.442030",
     "status": "completed"
    },
    "tags": []
   },
   "outputs": [
    {
     "data": {
      "text/plain": [
       "array([[3.2, 5.7],\n",
       "       [2.8, 4.1],\n",
       "       [2.8, 5.6],\n",
       "       [3. , 6.1],\n",
       "       [3. , 5.8]])"
      ]
     },
     "execution_count": 17,
     "metadata": {},
     "output_type": "execute_result"
    }
   ],
   "source": [
    "X_test"
   ]
  },
  {
   "cell_type": "code",
   "execution_count": 18,
   "id": "852fcc3d",
   "metadata": {
    "execution": {
     "iopub.execute_input": "2024-07-11T05:03:18.504552Z",
     "iopub.status.busy": "2024-07-11T05:03:18.504104Z",
     "iopub.status.idle": "2024-07-11T05:03:18.511536Z",
     "shell.execute_reply": "2024-07-11T05:03:18.510326Z"
    },
    "papermill": {
     "duration": 0.027329,
     "end_time": "2024-07-11T05:03:18.514370",
     "exception": false,
     "start_time": "2024-07-11T05:03:18.487041",
     "status": "completed"
    },
    "tags": []
   },
   "outputs": [
    {
     "data": {
      "text/plain": [
       "array([2, 1, 2, 2, 2])"
      ]
     },
     "execution_count": 18,
     "metadata": {},
     "output_type": "execute_result"
    }
   ],
   "source": [
    "y_test"
   ]
  },
  {
   "cell_type": "markdown",
   "id": "0d089e5f",
   "metadata": {
    "papermill": {
     "duration": 0.016254,
     "end_time": "2024-07-11T05:03:18.546374",
     "exception": false,
     "start_time": "2024-07-11T05:03:18.530120",
     "status": "completed"
    },
    "tags": []
   },
   "source": [
    "# ***Case 1 - Bagging***"
   ]
  },
  {
   "cell_type": "code",
   "execution_count": 19,
   "id": "c8d9599b",
   "metadata": {
    "execution": {
     "iopub.execute_input": "2024-07-11T05:03:18.579583Z",
     "iopub.status.busy": "2024-07-11T05:03:18.579166Z",
     "iopub.status.idle": "2024-07-11T05:03:18.595395Z",
     "shell.execute_reply": "2024-07-11T05:03:18.594143Z"
    },
    "papermill": {
     "duration": 0.035783,
     "end_time": "2024-07-11T05:03:18.597821",
     "exception": false,
     "start_time": "2024-07-11T05:03:18.562038",
     "status": "completed"
    },
    "tags": []
   },
   "outputs": [
    {
     "data": {
      "text/html": [
       "<div>\n",
       "<style scoped>\n",
       "    .dataframe tbody tr th:only-of-type {\n",
       "        vertical-align: middle;\n",
       "    }\n",
       "\n",
       "    .dataframe tbody tr th {\n",
       "        vertical-align: top;\n",
       "    }\n",
       "\n",
       "    .dataframe thead th {\n",
       "        text-align: right;\n",
       "    }\n",
       "</style>\n",
       "<table border=\"1\" class=\"dataframe\">\n",
       "  <thead>\n",
       "    <tr style=\"text-align: right;\">\n",
       "      <th></th>\n",
       "      <th>sepal_width</th>\n",
       "      <th>petal_length</th>\n",
       "      <th>species</th>\n",
       "    </tr>\n",
       "  </thead>\n",
       "  <tbody>\n",
       "    <tr>\n",
       "      <th>103</th>\n",
       "      <td>2.9</td>\n",
       "      <td>5.6</td>\n",
       "      <td>2</td>\n",
       "    </tr>\n",
       "    <tr>\n",
       "      <th>121</th>\n",
       "      <td>2.8</td>\n",
       "      <td>4.9</td>\n",
       "      <td>2</td>\n",
       "    </tr>\n",
       "    <tr>\n",
       "      <th>91</th>\n",
       "      <td>3.0</td>\n",
       "      <td>4.6</td>\n",
       "      <td>1</td>\n",
       "    </tr>\n",
       "    <tr>\n",
       "      <th>100</th>\n",
       "      <td>3.3</td>\n",
       "      <td>6.0</td>\n",
       "      <td>2</td>\n",
       "    </tr>\n",
       "    <tr>\n",
       "      <th>131</th>\n",
       "      <td>3.8</td>\n",
       "      <td>6.4</td>\n",
       "      <td>2</td>\n",
       "    </tr>\n",
       "    <tr>\n",
       "      <th>91</th>\n",
       "      <td>3.0</td>\n",
       "      <td>4.6</td>\n",
       "      <td>1</td>\n",
       "    </tr>\n",
       "    <tr>\n",
       "      <th>121</th>\n",
       "      <td>2.8</td>\n",
       "      <td>4.9</td>\n",
       "      <td>2</td>\n",
       "    </tr>\n",
       "    <tr>\n",
       "      <th>103</th>\n",
       "      <td>2.9</td>\n",
       "      <td>5.6</td>\n",
       "      <td>2</td>\n",
       "    </tr>\n",
       "  </tbody>\n",
       "</table>\n",
       "</div>"
      ],
      "text/plain": [
       "     sepal_width  petal_length  species\n",
       "103          2.9           5.6        2\n",
       "121          2.8           4.9        2\n",
       "91           3.0           4.6        1\n",
       "100          3.3           6.0        2\n",
       "131          3.8           6.4        2\n",
       "91           3.0           4.6        1\n",
       "121          2.8           4.9        2\n",
       "103          2.9           5.6        2"
      ]
     },
     "execution_count": 19,
     "metadata": {},
     "output_type": "execute_result"
    }
   ],
   "source": [
    "# Data for Tree 1\n",
    "df_bag = df_train.sample(8,replace=True)\n",
    "\n",
    "X = df_bag.iloc[:,0:2]\n",
    "y = df_bag.iloc[:,-1]\n",
    "\n",
    "df_bag"
   ]
  },
  {
   "cell_type": "code",
   "execution_count": 20,
   "id": "b1634b05",
   "metadata": {
    "execution": {
     "iopub.execute_input": "2024-07-11T05:03:18.632054Z",
     "iopub.status.busy": "2024-07-11T05:03:18.631610Z",
     "iopub.status.idle": "2024-07-11T05:03:19.036088Z",
     "shell.execute_reply": "2024-07-11T05:03:19.034865Z"
    },
    "papermill": {
     "duration": 0.426273,
     "end_time": "2024-07-11T05:03:19.040091",
     "exception": false,
     "start_time": "2024-07-11T05:03:18.613818",
     "status": "completed"
    },
    "tags": []
   },
   "outputs": [],
   "source": [
    "from sklearn.tree import DecisionTreeClassifier\n",
    "from sklearn.tree import plot_tree\n",
    "from mlxtend.plotting import plot_decision_regions\n",
    "from sklearn.metrics import accuracy_score"
   ]
  },
  {
   "cell_type": "code",
   "execution_count": 21,
   "id": "2d8df5a5",
   "metadata": {
    "execution": {
     "iopub.execute_input": "2024-07-11T05:03:19.081620Z",
     "iopub.status.busy": "2024-07-11T05:03:19.081224Z",
     "iopub.status.idle": "2024-07-11T05:03:19.086941Z",
     "shell.execute_reply": "2024-07-11T05:03:19.085379Z"
    },
    "papermill": {
     "duration": 0.02642,
     "end_time": "2024-07-11T05:03:19.089579",
     "exception": false,
     "start_time": "2024-07-11T05:03:19.063159",
     "status": "completed"
    },
    "tags": []
   },
   "outputs": [],
   "source": [
    "dt_bag1 = DecisionTreeClassifier()"
   ]
  },
  {
   "cell_type": "code",
   "execution_count": 22,
   "id": "430e87d2",
   "metadata": {
    "execution": {
     "iopub.execute_input": "2024-07-11T05:03:19.123968Z",
     "iopub.status.busy": "2024-07-11T05:03:19.123513Z",
     "iopub.status.idle": "2024-07-11T05:03:19.130576Z",
     "shell.execute_reply": "2024-07-11T05:03:19.129095Z"
    },
    "papermill": {
     "duration": 0.028816,
     "end_time": "2024-07-11T05:03:19.134598",
     "exception": false,
     "start_time": "2024-07-11T05:03:19.105782",
     "status": "completed"
    },
    "tags": []
   },
   "outputs": [],
   "source": [
    "def evaluate(clf,X,y):\n",
    "    clf.fit(X,y)\n",
    "    plot_tree(clf)\n",
    "    plt.show()\n",
    "    plot_decision_regions(X.values, y.values, clf=clf, legend=2)\n",
    "    y_pred = clf.predict(X_test)\n",
    "    print(accuracy_score(y_test,y_pred))"
   ]
  },
  {
   "cell_type": "code",
   "execution_count": 23,
   "id": "0c4bb74c",
   "metadata": {
    "execution": {
     "iopub.execute_input": "2024-07-11T05:03:19.183640Z",
     "iopub.status.busy": "2024-07-11T05:03:19.182919Z",
     "iopub.status.idle": "2024-07-11T05:03:19.934127Z",
     "shell.execute_reply": "2024-07-11T05:03:19.932510Z"
    },
    "papermill": {
     "duration": 0.778465,
     "end_time": "2024-07-11T05:03:19.937235",
     "exception": false,
     "start_time": "2024-07-11T05:03:19.158770",
     "status": "completed"
    },
    "tags": []
   },
   "outputs": [
    {
     "data": {
      "image/png": "[encoded data removed]",
      "text/plain": [
       "<Figure size 640x480 with 1 Axes>"
      ]
     },
     "metadata": {},
     "output_type": "display_data"
    },
    {
     "name": "stderr",
     "output_type": "stream",
     "text": [
      "/opt/conda/lib/python3.10/site-packages/sklearn/base.py:439: UserWarning: X does not have valid feature names, but DecisionTreeClassifier was fitted with feature names\n",
      "  warnings.warn(\n",
      "/opt/conda/lib/python3.10/site-packages/sklearn/base.py:439: UserWarning: X does not have valid feature names, but DecisionTreeClassifier was fitted with feature names\n",
      "  warnings.warn(\n"
     ]
    },
    {
     "name": "stdout",
     "output_type": "stream",
     "text": [
      "1.0\n"
     ]
    },
    {
     "data": {
      "image/png": "[encoded data removed]",
      "text/plain": [
       "<Figure size 640x480 with 1 Axes>"
      ]
     },
     "metadata": {},
     "output_type": "display_data"
    }
   ],
   "source": [
    "evaluate(dt_bag1,X,y)"
   ]
  },
  {
   "cell_type": "code",
   "execution_count": 24,
   "id": "a21ab97b",
   "metadata": {
    "execution": {
     "iopub.execute_input": "2024-07-11T05:03:19.975028Z",
     "iopub.status.busy": "2024-07-11T05:03:19.974575Z",
     "iopub.status.idle": "2024-07-11T05:03:19.991305Z",
     "shell.execute_reply": "2024-07-11T05:03:19.989828Z"
    },
    "papermill": {
     "duration": 0.038556,
     "end_time": "2024-07-11T05:03:19.994154",
     "exception": false,
     "start_time": "2024-07-11T05:03:19.955598",
     "status": "completed"
    },
    "tags": []
   },
   "outputs": [
    {
     "data": {
      "text/html": [
       "<div>\n",
       "<style scoped>\n",
       "    .dataframe tbody tr th:only-of-type {\n",
       "        vertical-align: middle;\n",
       "    }\n",
       "\n",
       "    .dataframe tbody tr th {\n",
       "        vertical-align: top;\n",
       "    }\n",
       "\n",
       "    .dataframe thead th {\n",
       "        text-align: right;\n",
       "    }\n",
       "</style>\n",
       "<table border=\"1\" class=\"dataframe\">\n",
       "  <thead>\n",
       "    <tr style=\"text-align: right;\">\n",
       "      <th></th>\n",
       "      <th>sepal_width</th>\n",
       "      <th>petal_length</th>\n",
       "      <th>species</th>\n",
       "    </tr>\n",
       "  </thead>\n",
       "  <tbody>\n",
       "    <tr>\n",
       "      <th>96</th>\n",
       "      <td>2.9</td>\n",
       "      <td>4.2</td>\n",
       "      <td>1</td>\n",
       "    </tr>\n",
       "    <tr>\n",
       "      <th>103</th>\n",
       "      <td>2.9</td>\n",
       "      <td>5.6</td>\n",
       "      <td>2</td>\n",
       "    </tr>\n",
       "    <tr>\n",
       "      <th>108</th>\n",
       "      <td>2.5</td>\n",
       "      <td>5.8</td>\n",
       "      <td>2</td>\n",
       "    </tr>\n",
       "    <tr>\n",
       "      <th>91</th>\n",
       "      <td>3.0</td>\n",
       "      <td>4.6</td>\n",
       "      <td>1</td>\n",
       "    </tr>\n",
       "    <tr>\n",
       "      <th>121</th>\n",
       "      <td>2.8</td>\n",
       "      <td>4.9</td>\n",
       "      <td>2</td>\n",
       "    </tr>\n",
       "    <tr>\n",
       "      <th>103</th>\n",
       "      <td>2.9</td>\n",
       "      <td>5.6</td>\n",
       "      <td>2</td>\n",
       "    </tr>\n",
       "    <tr>\n",
       "      <th>100</th>\n",
       "      <td>3.3</td>\n",
       "      <td>6.0</td>\n",
       "      <td>2</td>\n",
       "    </tr>\n",
       "    <tr>\n",
       "      <th>76</th>\n",
       "      <td>2.8</td>\n",
       "      <td>4.8</td>\n",
       "      <td>1</td>\n",
       "    </tr>\n",
       "  </tbody>\n",
       "</table>\n",
       "</div>"
      ],
      "text/plain": [
       "     sepal_width  petal_length  species\n",
       "96           2.9           4.2        1\n",
       "103          2.9           5.6        2\n",
       "108          2.5           5.8        2\n",
       "91           3.0           4.6        1\n",
       "121          2.8           4.9        2\n",
       "103          2.9           5.6        2\n",
       "100          3.3           6.0        2\n",
       "76           2.8           4.8        1"
      ]
     },
     "execution_count": 24,
     "metadata": {},
     "output_type": "execute_result"
    }
   ],
   "source": [
    "# Data for Tree 2\n",
    "df_bag = df_train.sample(8,replace=True)\n",
    "\n",
    "# Fetch X and y\n",
    "X = df_bag.iloc[:,0:2]\n",
    "y = df_bag.iloc[:,-1]\n",
    "\n",
    "# print df_bag\n",
    "df_bag"
   ]
  },
  {
   "cell_type": "code",
   "execution_count": 25,
   "id": "a3ae65d8",
   "metadata": {
    "execution": {
     "iopub.execute_input": "2024-07-11T05:03:20.033708Z",
     "iopub.status.busy": "2024-07-11T05:03:20.033127Z",
     "iopub.status.idle": "2024-07-11T05:03:20.613184Z",
     "shell.execute_reply": "2024-07-11T05:03:20.611947Z"
    },
    "papermill": {
     "duration": 0.602484,
     "end_time": "2024-07-11T05:03:20.615962",
     "exception": false,
     "start_time": "2024-07-11T05:03:20.013478",
     "status": "completed"
    },
    "tags": []
   },
   "outputs": [
    {
     "data": {
      "image/png": "[encoded data removed]",
      "text/plain": [
       "<Figure size 640x480 with 1 Axes>"
      ]
     },
     "metadata": {},
     "output_type": "display_data"
    },
    {
     "name": "stderr",
     "output_type": "stream",
     "text": [
      "/opt/conda/lib/python3.10/site-packages/sklearn/base.py:439: UserWarning: X does not have valid feature names, but DecisionTreeClassifier was fitted with feature names\n",
      "  warnings.warn(\n",
      "/opt/conda/lib/python3.10/site-packages/sklearn/base.py:439: UserWarning: X does not have valid feature names, but DecisionTreeClassifier was fitted with feature names\n",
      "  warnings.warn(\n"
     ]
    },
    {
     "name": "stdout",
     "output_type": "stream",
     "text": [
      "1.0\n"
     ]
    },
    {
     "data": {
      "image/png": "[encoded data removed]",
      "text/plain": [
       "<Figure size 640x480 with 1 Axes>"
      ]
     },
     "metadata": {},
     "output_type": "display_data"
    }
   ],
   "source": [
    "dt_bag2 = DecisionTreeClassifier()\n",
    "evaluate(dt_bag2,X,y)"
   ]
  },
  {
   "cell_type": "code",
   "execution_count": 26,
   "id": "58d53ad9",
   "metadata": {
    "execution": {
     "iopub.execute_input": "2024-07-11T05:03:20.656249Z",
     "iopub.status.busy": "2024-07-11T05:03:20.655797Z",
     "iopub.status.idle": "2024-07-11T05:03:20.673059Z",
     "shell.execute_reply": "2024-07-11T05:03:20.671698Z"
    },
    "papermill": {
     "duration": 0.041831,
     "end_time": "2024-07-11T05:03:20.676330",
     "exception": false,
     "start_time": "2024-07-11T05:03:20.634499",
     "status": "completed"
    },
    "tags": []
   },
   "outputs": [
    {
     "data": {
      "text/html": [
       "<div>\n",
       "<style scoped>\n",
       "    .dataframe tbody tr th:only-of-type {\n",
       "        vertical-align: middle;\n",
       "    }\n",
       "\n",
       "    .dataframe tbody tr th {\n",
       "        vertical-align: top;\n",
       "    }\n",
       "\n",
       "    .dataframe thead th {\n",
       "        text-align: right;\n",
       "    }\n",
       "</style>\n",
       "<table border=\"1\" class=\"dataframe\">\n",
       "  <thead>\n",
       "    <tr style=\"text-align: right;\">\n",
       "      <th></th>\n",
       "      <th>sepal_width</th>\n",
       "      <th>petal_length</th>\n",
       "      <th>species</th>\n",
       "    </tr>\n",
       "  </thead>\n",
       "  <tbody>\n",
       "    <tr>\n",
       "      <th>127</th>\n",
       "      <td>3.0</td>\n",
       "      <td>4.9</td>\n",
       "      <td>2</td>\n",
       "    </tr>\n",
       "    <tr>\n",
       "      <th>96</th>\n",
       "      <td>2.9</td>\n",
       "      <td>4.2</td>\n",
       "      <td>1</td>\n",
       "    </tr>\n",
       "    <tr>\n",
       "      <th>131</th>\n",
       "      <td>3.8</td>\n",
       "      <td>6.4</td>\n",
       "      <td>2</td>\n",
       "    </tr>\n",
       "    <tr>\n",
       "      <th>91</th>\n",
       "      <td>3.0</td>\n",
       "      <td>4.6</td>\n",
       "      <td>1</td>\n",
       "    </tr>\n",
       "    <tr>\n",
       "      <th>96</th>\n",
       "      <td>2.9</td>\n",
       "      <td>4.2</td>\n",
       "      <td>1</td>\n",
       "    </tr>\n",
       "    <tr>\n",
       "      <th>100</th>\n",
       "      <td>3.3</td>\n",
       "      <td>6.0</td>\n",
       "      <td>2</td>\n",
       "    </tr>\n",
       "    <tr>\n",
       "      <th>100</th>\n",
       "      <td>3.3</td>\n",
       "      <td>6.0</td>\n",
       "      <td>2</td>\n",
       "    </tr>\n",
       "    <tr>\n",
       "      <th>121</th>\n",
       "      <td>2.8</td>\n",
       "      <td>4.9</td>\n",
       "      <td>2</td>\n",
       "    </tr>\n",
       "  </tbody>\n",
       "</table>\n",
       "</div>"
      ],
      "text/plain": [
       "     sepal_width  petal_length  species\n",
       "127          3.0           4.9        2\n",
       "96           2.9           4.2        1\n",
       "131          3.8           6.4        2\n",
       "91           3.0           4.6        1\n",
       "96           2.9           4.2        1\n",
       "100          3.3           6.0        2\n",
       "100          3.3           6.0        2\n",
       "121          2.8           4.9        2"
      ]
     },
     "execution_count": 26,
     "metadata": {},
     "output_type": "execute_result"
    }
   ],
   "source": [
    "# Data for Tree 3\n",
    "df_bag = df_train.sample(8,replace=True)\n",
    "\n",
    "# Fetch X and y\n",
    "X = df_bag.iloc[:,0:2]\n",
    "y = df_bag.iloc[:,-1]\n",
    "\n",
    "# print df_bag\n",
    "df_bag"
   ]
  },
  {
   "cell_type": "code",
   "execution_count": 27,
   "id": "1bfcde2c",
   "metadata": {
    "execution": {
     "iopub.execute_input": "2024-07-11T05:03:20.717024Z",
     "iopub.status.busy": "2024-07-11T05:03:20.716554Z",
     "iopub.status.idle": "2024-07-11T05:03:21.339274Z",
     "shell.execute_reply": "2024-07-11T05:03:21.337265Z"
    },
    "papermill": {
     "duration": 0.646578,
     "end_time": "2024-07-11T05:03:21.342151",
     "exception": false,
     "start_time": "2024-07-11T05:03:20.695573",
     "status": "completed"
    },
    "tags": []
   },
   "outputs": [
    {
     "data": {
      "image/png": "[encoded data removed]",
      "text/plain": [
       "<Figure size 640x480 with 1 Axes>"
      ]
     },
     "metadata": {},
     "output_type": "display_data"
    },
    {
     "name": "stderr",
     "output_type": "stream",
     "text": [
      "/opt/conda/lib/python3.10/site-packages/sklearn/base.py:439: UserWarning: X does not have valid feature names, but DecisionTreeClassifier was fitted with feature names\n",
      "  warnings.warn(\n",
      "/opt/conda/lib/python3.10/site-packages/sklearn/base.py:439: UserWarning: X does not have valid feature names, but DecisionTreeClassifier was fitted with feature names\n",
      "  warnings.warn(\n"
     ]
    },
    {
     "name": "stdout",
     "output_type": "stream",
     "text": [
      "1.0\n"
     ]
    },
    {
     "data": {
      "image/png": "[encoded data removed]",
      "text/plain": [
       "<Figure size 640x480 with 1 Axes>"
      ]
     },
     "metadata": {},
     "output_type": "display_data"
    }
   ],
   "source": [
    "dt_bag3 = DecisionTreeClassifier()\n",
    "evaluate(dt_bag3,X,y)"
   ]
  },
  {
   "cell_type": "markdown",
   "id": "78073e37",
   "metadata": {
    "papermill": {
     "duration": 0.085936,
     "end_time": "2024-07-11T05:03:21.448631",
     "exception": false,
     "start_time": "2024-07-11T05:03:21.362695",
     "status": "completed"
    },
    "tags": []
   },
   "source": [
    "# ***Predict***"
   ]
  },
  {
   "cell_type": "code",
   "execution_count": 28,
   "id": "97f5b593",
   "metadata": {
    "execution": {
     "iopub.execute_input": "2024-07-11T05:03:21.490913Z",
     "iopub.status.busy": "2024-07-11T05:03:21.490463Z",
     "iopub.status.idle": "2024-07-11T05:03:21.503383Z",
     "shell.execute_reply": "2024-07-11T05:03:21.502255Z"
    },
    "papermill": {
     "duration": 0.036892,
     "end_time": "2024-07-11T05:03:21.505823",
     "exception": false,
     "start_time": "2024-07-11T05:03:21.468931",
     "status": "completed"
    },
    "tags": []
   },
   "outputs": [
    {
     "data": {
      "text/html": [
       "<div>\n",
       "<style scoped>\n",
       "    .dataframe tbody tr th:only-of-type {\n",
       "        vertical-align: middle;\n",
       "    }\n",
       "\n",
       "    .dataframe tbody tr th {\n",
       "        vertical-align: top;\n",
       "    }\n",
       "\n",
       "    .dataframe thead th {\n",
       "        text-align: right;\n",
       "    }\n",
       "</style>\n",
       "<table border=\"1\" class=\"dataframe\">\n",
       "  <thead>\n",
       "    <tr style=\"text-align: right;\">\n",
       "      <th></th>\n",
       "      <th>sepal_width</th>\n",
       "      <th>petal_length</th>\n",
       "      <th>species</th>\n",
       "    </tr>\n",
       "  </thead>\n",
       "  <tbody>\n",
       "    <tr>\n",
       "      <th>58</th>\n",
       "      <td>2.9</td>\n",
       "      <td>4.6</td>\n",
       "      <td>1</td>\n",
       "    </tr>\n",
       "    <tr>\n",
       "      <th>67</th>\n",
       "      <td>2.7</td>\n",
       "      <td>4.1</td>\n",
       "      <td>1</td>\n",
       "    </tr>\n",
       "    <tr>\n",
       "      <th>148</th>\n",
       "      <td>3.4</td>\n",
       "      <td>5.4</td>\n",
       "      <td>2</td>\n",
       "    </tr>\n",
       "    <tr>\n",
       "      <th>63</th>\n",
       "      <td>2.9</td>\n",
       "      <td>4.7</td>\n",
       "      <td>1</td>\n",
       "    </tr>\n",
       "    <tr>\n",
       "      <th>90</th>\n",
       "      <td>2.6</td>\n",
       "      <td>4.4</td>\n",
       "      <td>1</td>\n",
       "    </tr>\n",
       "  </tbody>\n",
       "</table>\n",
       "</div>"
      ],
      "text/plain": [
       "     sepal_width  petal_length  species\n",
       "58           2.9           4.6        1\n",
       "67           2.7           4.1        1\n",
       "148          3.4           5.4        2\n",
       "63           2.9           4.7        1\n",
       "90           2.6           4.4        1"
      ]
     },
     "execution_count": 28,
     "metadata": {},
     "output_type": "execute_result"
    }
   ],
   "source": [
    "df_test"
   ]
  },
  {
   "cell_type": "code",
   "execution_count": 29,
   "id": "db3878ff",
   "metadata": {
    "execution": {
     "iopub.execute_input": "2024-07-11T05:03:21.549047Z",
     "iopub.status.busy": "2024-07-11T05:03:21.547820Z",
     "iopub.status.idle": "2024-07-11T05:03:21.557357Z",
     "shell.execute_reply": "2024-07-11T05:03:21.556221Z"
    },
    "papermill": {
     "duration": 0.03538,
     "end_time": "2024-07-11T05:03:21.561439",
     "exception": false,
     "start_time": "2024-07-11T05:03:21.526059",
     "status": "completed"
    },
    "tags": []
   },
   "outputs": [
    {
     "name": "stdout",
     "output_type": "stream",
     "text": [
      "Predictor 1 [2]\n",
      "Predictor 2 [2]\n",
      "Predictor 3 [2]\n"
     ]
    },
    {
     "name": "stderr",
     "output_type": "stream",
     "text": [
      "/opt/conda/lib/python3.10/site-packages/sklearn/base.py:439: UserWarning: X does not have valid feature names, but DecisionTreeClassifier was fitted with feature names\n",
      "  warnings.warn(\n",
      "/opt/conda/lib/python3.10/site-packages/sklearn/base.py:439: UserWarning: X does not have valid feature names, but DecisionTreeClassifier was fitted with feature names\n",
      "  warnings.warn(\n",
      "/opt/conda/lib/python3.10/site-packages/sklearn/base.py:439: UserWarning: X does not have valid feature names, but DecisionTreeClassifier was fitted with feature names\n",
      "  warnings.warn(\n"
     ]
    }
   ],
   "source": [
    "print(\"Predictor 1\",dt_bag1.predict(np.array([2.6,5.6]).reshape(1,2)))\n",
    "print(\"Predictor 2\",dt_bag2.predict(np.array([2.6,5.6]).reshape(1,2)))\n",
    "print(\"Predictor 3\",dt_bag3.predict(np.array([2.6,5.6]).reshape(1,2)))"
   ]
  },
  {
   "cell_type": "markdown",
   "id": "d2a585dc",
   "metadata": {
    "papermill": {
     "duration": 0.021192,
     "end_time": "2024-07-11T05:03:21.603552",
     "exception": false,
     "start_time": "2024-07-11T05:03:21.582360",
     "status": "completed"
    },
    "tags": []
   },
   "source": [
    "# ***Pasting***"
   ]
  },
  {
   "cell_type": "code",
   "execution_count": 30,
   "id": "154718d7",
   "metadata": {
    "execution": {
     "iopub.execute_input": "2024-07-11T05:03:21.651042Z",
     "iopub.status.busy": "2024-07-11T05:03:21.650028Z",
     "iopub.status.idle": "2024-07-11T05:03:21.664579Z",
     "shell.execute_reply": "2024-07-11T05:03:21.663370Z"
    },
    "papermill": {
     "duration": 0.040305,
     "end_time": "2024-07-11T05:03:21.667016",
     "exception": false,
     "start_time": "2024-07-11T05:03:21.626711",
     "status": "completed"
    },
    "tags": []
   },
   "outputs": [
    {
     "data": {
      "text/html": [
       "<div>\n",
       "<style scoped>\n",
       "    .dataframe tbody tr th:only-of-type {\n",
       "        vertical-align: middle;\n",
       "    }\n",
       "\n",
       "    .dataframe tbody tr th {\n",
       "        vertical-align: top;\n",
       "    }\n",
       "\n",
       "    .dataframe thead th {\n",
       "        text-align: right;\n",
       "    }\n",
       "</style>\n",
       "<table border=\"1\" class=\"dataframe\">\n",
       "  <thead>\n",
       "    <tr style=\"text-align: right;\">\n",
       "      <th></th>\n",
       "      <th>sepal_width</th>\n",
       "      <th>petal_length</th>\n",
       "      <th>species</th>\n",
       "    </tr>\n",
       "  </thead>\n",
       "  <tbody>\n",
       "    <tr>\n",
       "      <th>108</th>\n",
       "      <td>2.5</td>\n",
       "      <td>5.8</td>\n",
       "      <td>2</td>\n",
       "    </tr>\n",
       "    <tr>\n",
       "      <th>140</th>\n",
       "      <td>3.1</td>\n",
       "      <td>5.6</td>\n",
       "      <td>2</td>\n",
       "    </tr>\n",
       "    <tr>\n",
       "      <th>91</th>\n",
       "      <td>3.0</td>\n",
       "      <td>4.6</td>\n",
       "      <td>1</td>\n",
       "    </tr>\n",
       "    <tr>\n",
       "      <th>127</th>\n",
       "      <td>3.0</td>\n",
       "      <td>4.9</td>\n",
       "      <td>2</td>\n",
       "    </tr>\n",
       "    <tr>\n",
       "      <th>100</th>\n",
       "      <td>3.3</td>\n",
       "      <td>6.0</td>\n",
       "      <td>2</td>\n",
       "    </tr>\n",
       "    <tr>\n",
       "      <th>121</th>\n",
       "      <td>2.8</td>\n",
       "      <td>4.9</td>\n",
       "      <td>2</td>\n",
       "    </tr>\n",
       "    <tr>\n",
       "      <th>103</th>\n",
       "      <td>2.9</td>\n",
       "      <td>5.6</td>\n",
       "      <td>2</td>\n",
       "    </tr>\n",
       "    <tr>\n",
       "      <th>76</th>\n",
       "      <td>2.8</td>\n",
       "      <td>4.8</td>\n",
       "      <td>1</td>\n",
       "    </tr>\n",
       "    <tr>\n",
       "      <th>96</th>\n",
       "      <td>2.9</td>\n",
       "      <td>4.2</td>\n",
       "      <td>1</td>\n",
       "    </tr>\n",
       "    <tr>\n",
       "      <th>131</th>\n",
       "      <td>3.8</td>\n",
       "      <td>6.4</td>\n",
       "      <td>2</td>\n",
       "    </tr>\n",
       "  </tbody>\n",
       "</table>\n",
       "</div>"
      ],
      "text/plain": [
       "     sepal_width  petal_length  species\n",
       "108          2.5           5.8        2\n",
       "140          3.1           5.6        2\n",
       "91           3.0           4.6        1\n",
       "127          3.0           4.9        2\n",
       "100          3.3           6.0        2\n",
       "121          2.8           4.9        2\n",
       "103          2.9           5.6        2\n",
       "76           2.8           4.8        1\n",
       "96           2.9           4.2        1\n",
       "131          3.8           6.4        2"
      ]
     },
     "execution_count": 30,
     "metadata": {},
     "output_type": "execute_result"
    }
   ],
   "source": [
    "# Row sampling without replacement\n",
    "df_train"
   ]
  },
  {
   "cell_type": "code",
   "execution_count": 31,
   "id": "9c06f740",
   "metadata": {
    "execution": {
     "iopub.execute_input": "2024-07-11T05:03:21.711621Z",
     "iopub.status.busy": "2024-07-11T05:03:21.711157Z",
     "iopub.status.idle": "2024-07-11T05:03:21.725767Z",
     "shell.execute_reply": "2024-07-11T05:03:21.724600Z"
    },
    "papermill": {
     "duration": 0.040323,
     "end_time": "2024-07-11T05:03:21.728607",
     "exception": false,
     "start_time": "2024-07-11T05:03:21.688284",
     "status": "completed"
    },
    "tags": []
   },
   "outputs": [
    {
     "data": {
      "text/html": [
       "<div>\n",
       "<style scoped>\n",
       "    .dataframe tbody tr th:only-of-type {\n",
       "        vertical-align: middle;\n",
       "    }\n",
       "\n",
       "    .dataframe tbody tr th {\n",
       "        vertical-align: top;\n",
       "    }\n",
       "\n",
       "    .dataframe thead th {\n",
       "        text-align: right;\n",
       "    }\n",
       "</style>\n",
       "<table border=\"1\" class=\"dataframe\">\n",
       "  <thead>\n",
       "    <tr style=\"text-align: right;\">\n",
       "      <th></th>\n",
       "      <th>sepal_width</th>\n",
       "      <th>petal_length</th>\n",
       "      <th>species</th>\n",
       "    </tr>\n",
       "  </thead>\n",
       "  <tbody>\n",
       "    <tr>\n",
       "      <th>121</th>\n",
       "      <td>2.8</td>\n",
       "      <td>4.9</td>\n",
       "      <td>2</td>\n",
       "    </tr>\n",
       "    <tr>\n",
       "      <th>76</th>\n",
       "      <td>2.8</td>\n",
       "      <td>4.8</td>\n",
       "      <td>1</td>\n",
       "    </tr>\n",
       "    <tr>\n",
       "      <th>108</th>\n",
       "      <td>2.5</td>\n",
       "      <td>5.8</td>\n",
       "      <td>2</td>\n",
       "    </tr>\n",
       "    <tr>\n",
       "      <th>100</th>\n",
       "      <td>3.3</td>\n",
       "      <td>6.0</td>\n",
       "      <td>2</td>\n",
       "    </tr>\n",
       "    <tr>\n",
       "      <th>96</th>\n",
       "      <td>2.9</td>\n",
       "      <td>4.2</td>\n",
       "      <td>1</td>\n",
       "    </tr>\n",
       "    <tr>\n",
       "      <th>131</th>\n",
       "      <td>3.8</td>\n",
       "      <td>6.4</td>\n",
       "      <td>2</td>\n",
       "    </tr>\n",
       "    <tr>\n",
       "      <th>103</th>\n",
       "      <td>2.9</td>\n",
       "      <td>5.6</td>\n",
       "      <td>2</td>\n",
       "    </tr>\n",
       "    <tr>\n",
       "      <th>91</th>\n",
       "      <td>3.0</td>\n",
       "      <td>4.6</td>\n",
       "      <td>1</td>\n",
       "    </tr>\n",
       "  </tbody>\n",
       "</table>\n",
       "</div>"
      ],
      "text/plain": [
       "     sepal_width  petal_length  species\n",
       "121          2.8           4.9        2\n",
       "76           2.8           4.8        1\n",
       "108          2.5           5.8        2\n",
       "100          3.3           6.0        2\n",
       "96           2.9           4.2        1\n",
       "131          3.8           6.4        2\n",
       "103          2.9           5.6        2\n",
       "91           3.0           4.6        1"
      ]
     },
     "execution_count": 31,
     "metadata": {},
     "output_type": "execute_result"
    }
   ],
   "source": [
    "df_train.sample(8)"
   ]
  },
  {
   "cell_type": "markdown",
   "id": "49bfa898",
   "metadata": {
    "papermill": {
     "duration": 0.021109,
     "end_time": "2024-07-11T05:03:21.771313",
     "exception": false,
     "start_time": "2024-07-11T05:03:21.750204",
     "status": "completed"
    },
    "tags": []
   },
   "source": [
    "# ***Random Subspaces - Column Sampling***"
   ]
  },
  {
   "cell_type": "code",
   "execution_count": 32,
   "id": "0ada5da0",
   "metadata": {
    "execution": {
     "iopub.execute_input": "2024-07-11T05:03:21.816435Z",
     "iopub.status.busy": "2024-07-11T05:03:21.816022Z",
     "iopub.status.idle": "2024-07-11T05:03:21.824982Z",
     "shell.execute_reply": "2024-07-11T05:03:21.824028Z"
    },
    "papermill": {
     "duration": 0.034889,
     "end_time": "2024-07-11T05:03:21.827763",
     "exception": false,
     "start_time": "2024-07-11T05:03:21.792874",
     "status": "completed"
    },
    "tags": []
   },
   "outputs": [],
   "source": [
    "df1=pd.read_csv('/kaggle/input/iris-dataset/iris.csv')"
   ]
  },
  {
   "cell_type": "code",
   "execution_count": 33,
   "id": "5ceea71c",
   "metadata": {
    "execution": {
     "iopub.execute_input": "2024-07-11T05:03:21.872642Z",
     "iopub.status.busy": "2024-07-11T05:03:21.872221Z",
     "iopub.status.idle": "2024-07-11T05:03:21.880134Z",
     "shell.execute_reply": "2024-07-11T05:03:21.878805Z"
    },
    "papermill": {
     "duration": 0.033336,
     "end_time": "2024-07-11T05:03:21.882750",
     "exception": false,
     "start_time": "2024-07-11T05:03:21.849414",
     "status": "completed"
    },
    "tags": []
   },
   "outputs": [],
   "source": [
    "df1 = df1.sample(10)"
   ]
  },
  {
   "cell_type": "code",
   "execution_count": 34,
   "id": "10e26cf9",
   "metadata": {
    "execution": {
     "iopub.execute_input": "2024-07-11T05:03:21.927298Z",
     "iopub.status.busy": "2024-07-11T05:03:21.926873Z",
     "iopub.status.idle": "2024-07-11T05:03:21.946185Z",
     "shell.execute_reply": "2024-07-11T05:03:21.944714Z"
    },
    "papermill": {
     "duration": 0.045278,
     "end_time": "2024-07-11T05:03:21.949422",
     "exception": false,
     "start_time": "2024-07-11T05:03:21.904144",
     "status": "completed"
    },
    "tags": []
   },
   "outputs": [
    {
     "data": {
      "text/html": [
       "<div>\n",
       "<style scoped>\n",
       "    .dataframe tbody tr th:only-of-type {\n",
       "        vertical-align: middle;\n",
       "    }\n",
       "\n",
       "    .dataframe tbody tr th {\n",
       "        vertical-align: top;\n",
       "    }\n",
       "\n",
       "    .dataframe thead th {\n",
       "        text-align: right;\n",
       "    }\n",
       "</style>\n",
       "<table border=\"1\" class=\"dataframe\">\n",
       "  <thead>\n",
       "    <tr style=\"text-align: right;\">\n",
       "      <th></th>\n",
       "      <th>sepal_length</th>\n",
       "      <th>sepal_width</th>\n",
       "      <th>petal_length</th>\n",
       "      <th>petal_width</th>\n",
       "      <th>species</th>\n",
       "    </tr>\n",
       "  </thead>\n",
       "  <tbody>\n",
       "    <tr>\n",
       "      <th>51</th>\n",
       "      <td>6.4</td>\n",
       "      <td>3.2</td>\n",
       "      <td>4.5</td>\n",
       "      <td>1.5</td>\n",
       "      <td>versicolor</td>\n",
       "    </tr>\n",
       "    <tr>\n",
       "      <th>31</th>\n",
       "      <td>5.4</td>\n",
       "      <td>3.4</td>\n",
       "      <td>1.5</td>\n",
       "      <td>0.4</td>\n",
       "      <td>setosa</td>\n",
       "    </tr>\n",
       "    <tr>\n",
       "      <th>123</th>\n",
       "      <td>6.3</td>\n",
       "      <td>2.7</td>\n",
       "      <td>4.9</td>\n",
       "      <td>1.8</td>\n",
       "      <td>virginica</td>\n",
       "    </tr>\n",
       "    <tr>\n",
       "      <th>129</th>\n",
       "      <td>7.2</td>\n",
       "      <td>3.0</td>\n",
       "      <td>5.8</td>\n",
       "      <td>1.6</td>\n",
       "      <td>virginica</td>\n",
       "    </tr>\n",
       "    <tr>\n",
       "      <th>136</th>\n",
       "      <td>6.3</td>\n",
       "      <td>3.4</td>\n",
       "      <td>5.6</td>\n",
       "      <td>2.4</td>\n",
       "      <td>virginica</td>\n",
       "    </tr>\n",
       "    <tr>\n",
       "      <th>133</th>\n",
       "      <td>6.3</td>\n",
       "      <td>2.8</td>\n",
       "      <td>5.1</td>\n",
       "      <td>1.5</td>\n",
       "      <td>virginica</td>\n",
       "    </tr>\n",
       "    <tr>\n",
       "      <th>148</th>\n",
       "      <td>6.2</td>\n",
       "      <td>3.4</td>\n",
       "      <td>5.4</td>\n",
       "      <td>2.3</td>\n",
       "      <td>virginica</td>\n",
       "    </tr>\n",
       "    <tr>\n",
       "      <th>75</th>\n",
       "      <td>6.6</td>\n",
       "      <td>3.0</td>\n",
       "      <td>4.4</td>\n",
       "      <td>1.4</td>\n",
       "      <td>versicolor</td>\n",
       "    </tr>\n",
       "    <tr>\n",
       "      <th>76</th>\n",
       "      <td>6.8</td>\n",
       "      <td>2.8</td>\n",
       "      <td>4.8</td>\n",
       "      <td>1.4</td>\n",
       "      <td>versicolor</td>\n",
       "    </tr>\n",
       "    <tr>\n",
       "      <th>87</th>\n",
       "      <td>6.3</td>\n",
       "      <td>2.3</td>\n",
       "      <td>4.4</td>\n",
       "      <td>1.3</td>\n",
       "      <td>versicolor</td>\n",
       "    </tr>\n",
       "  </tbody>\n",
       "</table>\n",
       "</div>"
      ],
      "text/plain": [
       "     sepal_length  sepal_width  petal_length  petal_width     species\n",
       "51            6.4          3.2           4.5          1.5  versicolor\n",
       "31            5.4          3.4           1.5          0.4      setosa\n",
       "123           6.3          2.7           4.9          1.8   virginica\n",
       "129           7.2          3.0           5.8          1.6   virginica\n",
       "136           6.3          3.4           5.6          2.4   virginica\n",
       "133           6.3          2.8           5.1          1.5   virginica\n",
       "148           6.2          3.4           5.4          2.3   virginica\n",
       "75            6.6          3.0           4.4          1.4  versicolor\n",
       "76            6.8          2.8           4.8          1.4  versicolor\n",
       "87            6.3          2.3           4.4          1.3  versicolor"
      ]
     },
     "execution_count": 34,
     "metadata": {},
     "output_type": "execute_result"
    }
   ],
   "source": [
    "df1"
   ]
  },
  {
   "cell_type": "code",
   "execution_count": 35,
   "id": "b38434b9",
   "metadata": {
    "execution": {
     "iopub.execute_input": "2024-07-11T05:03:21.994671Z",
     "iopub.status.busy": "2024-07-11T05:03:21.994264Z",
     "iopub.status.idle": "2024-07-11T05:03:22.008010Z",
     "shell.execute_reply": "2024-07-11T05:03:22.006904Z"
    },
    "papermill": {
     "duration": 0.039667,
     "end_time": "2024-07-11T05:03:22.010748",
     "exception": false,
     "start_time": "2024-07-11T05:03:21.971081",
     "status": "completed"
    },
    "tags": []
   },
   "outputs": [
    {
     "data": {
      "text/html": [
       "<div>\n",
       "<style scoped>\n",
       "    .dataframe tbody tr th:only-of-type {\n",
       "        vertical-align: middle;\n",
       "    }\n",
       "\n",
       "    .dataframe tbody tr th {\n",
       "        vertical-align: top;\n",
       "    }\n",
       "\n",
       "    .dataframe thead th {\n",
       "        text-align: right;\n",
       "    }\n",
       "</style>\n",
       "<table border=\"1\" class=\"dataframe\">\n",
       "  <thead>\n",
       "    <tr style=\"text-align: right;\">\n",
       "      <th></th>\n",
       "      <th>species</th>\n",
       "      <th>sepal_width</th>\n",
       "    </tr>\n",
       "  </thead>\n",
       "  <tbody>\n",
       "    <tr>\n",
       "      <th>51</th>\n",
       "      <td>versicolor</td>\n",
       "      <td>3.2</td>\n",
       "    </tr>\n",
       "    <tr>\n",
       "      <th>31</th>\n",
       "      <td>setosa</td>\n",
       "      <td>3.4</td>\n",
       "    </tr>\n",
       "    <tr>\n",
       "      <th>123</th>\n",
       "      <td>virginica</td>\n",
       "      <td>2.7</td>\n",
       "    </tr>\n",
       "    <tr>\n",
       "      <th>129</th>\n",
       "      <td>virginica</td>\n",
       "      <td>3.0</td>\n",
       "    </tr>\n",
       "    <tr>\n",
       "      <th>136</th>\n",
       "      <td>virginica</td>\n",
       "      <td>3.4</td>\n",
       "    </tr>\n",
       "    <tr>\n",
       "      <th>133</th>\n",
       "      <td>virginica</td>\n",
       "      <td>2.8</td>\n",
       "    </tr>\n",
       "    <tr>\n",
       "      <th>148</th>\n",
       "      <td>virginica</td>\n",
       "      <td>3.4</td>\n",
       "    </tr>\n",
       "    <tr>\n",
       "      <th>75</th>\n",
       "      <td>versicolor</td>\n",
       "      <td>3.0</td>\n",
       "    </tr>\n",
       "    <tr>\n",
       "      <th>76</th>\n",
       "      <td>versicolor</td>\n",
       "      <td>2.8</td>\n",
       "    </tr>\n",
       "    <tr>\n",
       "      <th>87</th>\n",
       "      <td>versicolor</td>\n",
       "      <td>2.3</td>\n",
       "    </tr>\n",
       "  </tbody>\n",
       "</table>\n",
       "</div>"
      ],
      "text/plain": [
       "        species  sepal_width\n",
       "51   versicolor          3.2\n",
       "31       setosa          3.4\n",
       "123   virginica          2.7\n",
       "129   virginica          3.0\n",
       "136   virginica          3.4\n",
       "133   virginica          2.8\n",
       "148   virginica          3.4\n",
       "75   versicolor          3.0\n",
       "76   versicolor          2.8\n",
       "87   versicolor          2.3"
      ]
     },
     "execution_count": 35,
     "metadata": {},
     "output_type": "execute_result"
    }
   ],
   "source": [
    "df1.sample(2,replace=True,axis=1)"
   ]
  },
  {
   "cell_type": "markdown",
   "id": "b59c84b5",
   "metadata": {
    "papermill": {
     "duration": 0.02182,
     "end_time": "2024-07-11T05:03:22.054919",
     "exception": false,
     "start_time": "2024-07-11T05:03:22.033099",
     "status": "completed"
    },
    "tags": []
   },
   "source": [
    "# ***Random Patches-Row Column Both Sampling***"
   ]
  },
  {
   "cell_type": "code",
   "execution_count": 36,
   "id": "9c4acb7a",
   "metadata": {
    "execution": {
     "iopub.execute_input": "2024-07-11T05:03:22.104978Z",
     "iopub.status.busy": "2024-07-11T05:03:22.103986Z",
     "iopub.status.idle": "2024-07-11T05:03:22.122364Z",
     "shell.execute_reply": "2024-07-11T05:03:22.121145Z"
    },
    "papermill": {
     "duration": 0.044928,
     "end_time": "2024-07-11T05:03:22.125050",
     "exception": false,
     "start_time": "2024-07-11T05:03:22.080122",
     "status": "completed"
    },
    "tags": []
   },
   "outputs": [
    {
     "data": {
      "text/html": [
       "<div>\n",
       "<style scoped>\n",
       "    .dataframe tbody tr th:only-of-type {\n",
       "        vertical-align: middle;\n",
       "    }\n",
       "\n",
       "    .dataframe tbody tr th {\n",
       "        vertical-align: top;\n",
       "    }\n",
       "\n",
       "    .dataframe thead th {\n",
       "        text-align: right;\n",
       "    }\n",
       "</style>\n",
       "<table border=\"1\" class=\"dataframe\">\n",
       "  <thead>\n",
       "    <tr style=\"text-align: right;\">\n",
       "      <th></th>\n",
       "      <th>sepal_length</th>\n",
       "      <th>sepal_width</th>\n",
       "      <th>petal_length</th>\n",
       "      <th>petal_width</th>\n",
       "      <th>species</th>\n",
       "    </tr>\n",
       "  </thead>\n",
       "  <tbody>\n",
       "    <tr>\n",
       "      <th>51</th>\n",
       "      <td>6.4</td>\n",
       "      <td>3.2</td>\n",
       "      <td>4.5</td>\n",
       "      <td>1.5</td>\n",
       "      <td>versicolor</td>\n",
       "    </tr>\n",
       "    <tr>\n",
       "      <th>31</th>\n",
       "      <td>5.4</td>\n",
       "      <td>3.4</td>\n",
       "      <td>1.5</td>\n",
       "      <td>0.4</td>\n",
       "      <td>setosa</td>\n",
       "    </tr>\n",
       "    <tr>\n",
       "      <th>123</th>\n",
       "      <td>6.3</td>\n",
       "      <td>2.7</td>\n",
       "      <td>4.9</td>\n",
       "      <td>1.8</td>\n",
       "      <td>virginica</td>\n",
       "    </tr>\n",
       "    <tr>\n",
       "      <th>129</th>\n",
       "      <td>7.2</td>\n",
       "      <td>3.0</td>\n",
       "      <td>5.8</td>\n",
       "      <td>1.6</td>\n",
       "      <td>virginica</td>\n",
       "    </tr>\n",
       "    <tr>\n",
       "      <th>136</th>\n",
       "      <td>6.3</td>\n",
       "      <td>3.4</td>\n",
       "      <td>5.6</td>\n",
       "      <td>2.4</td>\n",
       "      <td>virginica</td>\n",
       "    </tr>\n",
       "    <tr>\n",
       "      <th>133</th>\n",
       "      <td>6.3</td>\n",
       "      <td>2.8</td>\n",
       "      <td>5.1</td>\n",
       "      <td>1.5</td>\n",
       "      <td>virginica</td>\n",
       "    </tr>\n",
       "    <tr>\n",
       "      <th>148</th>\n",
       "      <td>6.2</td>\n",
       "      <td>3.4</td>\n",
       "      <td>5.4</td>\n",
       "      <td>2.3</td>\n",
       "      <td>virginica</td>\n",
       "    </tr>\n",
       "    <tr>\n",
       "      <th>75</th>\n",
       "      <td>6.6</td>\n",
       "      <td>3.0</td>\n",
       "      <td>4.4</td>\n",
       "      <td>1.4</td>\n",
       "      <td>versicolor</td>\n",
       "    </tr>\n",
       "    <tr>\n",
       "      <th>76</th>\n",
       "      <td>6.8</td>\n",
       "      <td>2.8</td>\n",
       "      <td>4.8</td>\n",
       "      <td>1.4</td>\n",
       "      <td>versicolor</td>\n",
       "    </tr>\n",
       "    <tr>\n",
       "      <th>87</th>\n",
       "      <td>6.3</td>\n",
       "      <td>2.3</td>\n",
       "      <td>4.4</td>\n",
       "      <td>1.3</td>\n",
       "      <td>versicolor</td>\n",
       "    </tr>\n",
       "  </tbody>\n",
       "</table>\n",
       "</div>"
      ],
      "text/plain": [
       "     sepal_length  sepal_width  petal_length  petal_width     species\n",
       "51            6.4          3.2           4.5          1.5  versicolor\n",
       "31            5.4          3.4           1.5          0.4      setosa\n",
       "123           6.3          2.7           4.9          1.8   virginica\n",
       "129           7.2          3.0           5.8          1.6   virginica\n",
       "136           6.3          3.4           5.6          2.4   virginica\n",
       "133           6.3          2.8           5.1          1.5   virginica\n",
       "148           6.2          3.4           5.4          2.3   virginica\n",
       "75            6.6          3.0           4.4          1.4  versicolor\n",
       "76            6.8          2.8           4.8          1.4  versicolor\n",
       "87            6.3          2.3           4.4          1.3  versicolor"
      ]
     },
     "execution_count": 36,
     "metadata": {},
     "output_type": "execute_result"
    }
   ],
   "source": [
    "df1"
   ]
  },
  {
   "cell_type": "code",
   "execution_count": 37,
   "id": "f96e1a6d",
   "metadata": {
    "execution": {
     "iopub.execute_input": "2024-07-11T05:03:22.172768Z",
     "iopub.status.busy": "2024-07-11T05:03:22.172363Z",
     "iopub.status.idle": "2024-07-11T05:03:22.190074Z",
     "shell.execute_reply": "2024-07-11T05:03:22.189007Z"
    },
    "papermill": {
     "duration": 0.045224,
     "end_time": "2024-07-11T05:03:22.192894",
     "exception": false,
     "start_time": "2024-07-11T05:03:22.147670",
     "status": "completed"
    },
    "tags": []
   },
   "outputs": [
    {
     "data": {
      "text/html": [
       "<div>\n",
       "<style scoped>\n",
       "    .dataframe tbody tr th:only-of-type {\n",
       "        vertical-align: middle;\n",
       "    }\n",
       "\n",
       "    .dataframe tbody tr th {\n",
       "        vertical-align: top;\n",
       "    }\n",
       "\n",
       "    .dataframe thead th {\n",
       "        text-align: right;\n",
       "    }\n",
       "</style>\n",
       "<table border=\"1\" class=\"dataframe\">\n",
       "  <thead>\n",
       "    <tr style=\"text-align: right;\">\n",
       "      <th></th>\n",
       "      <th>petal_length</th>\n",
       "      <th>petal_length</th>\n",
       "    </tr>\n",
       "  </thead>\n",
       "  <tbody>\n",
       "    <tr>\n",
       "      <th>31</th>\n",
       "      <td>1.5</td>\n",
       "      <td>1.5</td>\n",
       "    </tr>\n",
       "    <tr>\n",
       "      <th>76</th>\n",
       "      <td>4.8</td>\n",
       "      <td>4.8</td>\n",
       "    </tr>\n",
       "    <tr>\n",
       "      <th>136</th>\n",
       "      <td>5.6</td>\n",
       "      <td>5.6</td>\n",
       "    </tr>\n",
       "    <tr>\n",
       "      <th>123</th>\n",
       "      <td>4.9</td>\n",
       "      <td>4.9</td>\n",
       "    </tr>\n",
       "    <tr>\n",
       "      <th>136</th>\n",
       "      <td>5.6</td>\n",
       "      <td>5.6</td>\n",
       "    </tr>\n",
       "    <tr>\n",
       "      <th>136</th>\n",
       "      <td>5.6</td>\n",
       "      <td>5.6</td>\n",
       "    </tr>\n",
       "    <tr>\n",
       "      <th>136</th>\n",
       "      <td>5.6</td>\n",
       "      <td>5.6</td>\n",
       "    </tr>\n",
       "    <tr>\n",
       "      <th>76</th>\n",
       "      <td>4.8</td>\n",
       "      <td>4.8</td>\n",
       "    </tr>\n",
       "  </tbody>\n",
       "</table>\n",
       "</div>"
      ],
      "text/plain": [
       "     petal_length  petal_length\n",
       "31            1.5           1.5\n",
       "76            4.8           4.8\n",
       "136           5.6           5.6\n",
       "123           4.9           4.9\n",
       "136           5.6           5.6\n",
       "136           5.6           5.6\n",
       "136           5.6           5.6\n",
       "76            4.8           4.8"
      ]
     },
     "execution_count": 37,
     "metadata": {},
     "output_type": "execute_result"
    }
   ],
   "source": [
    "df1.sample(8,replace=True).sample(2,replace=True,axis=1)"
   ]
  },
  {
   "cell_type": "code",
   "execution_count": null,
   "id": "c8069381",
   "metadata": {
    "papermill": {
     "duration": 0.021892,
     "end_time": "2024-07-11T05:03:22.237941",
     "exception": false,
     "start_time": "2024-07-11T05:03:22.216049",
     "status": "completed"
    },
    "tags": []
   },
   "outputs": [],
   "source": []
  }
 ],
 "metadata": {
  "kaggle": {
   "accelerator": "none",
   "dataSources": [
    {
     "datasetId": 2354152,
     "sourceId": 3966491,
     "sourceType": "datasetVersion"
    }
   ],
   "dockerImageVersionId": 30732,
   "isGpuEnabled": false,
   "isInternetEnabled": false,
   "language": "python",
   "sourceType": "notebook"
  },
  "kernelspec": {
   "display_name": "Python 3",
   "language": "python",
   "name": "python3"
  },
  "language_info": {
   "codemirror_mode": {
    "name": "ipython",
    "version": 3
   },
   "file_extension": ".py",
   "mimetype": "text/x-python",
   "name": "python",
   "nbconvert_exporter": "python",
   "pygments_lexer": "ipython3",
   "version": "3.10.13"
  },
  "papermill": {
   "default_parameters": {},
   "duration": 12.119541,
   "end_time": "2024-07-11T05:03:22.984439",
   "environment_variables": {},
   "exception": null,
   "input_path": "__notebook__.ipynb",
   "output_path": "__notebook__.ipynb",
   "parameters": {},
   "start_time": "2024-07-11T05:03:10.864898",
   "version": "2.5.0"
  }
 },
 "nbformat": 4,
 "nbformat_minor": 5
}
