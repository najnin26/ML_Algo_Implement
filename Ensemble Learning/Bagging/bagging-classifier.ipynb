{
 "cells": [
  {
   "cell_type": "code",
   "execution_count": 1,
   "id": "f85a5114",
   "metadata": {
    "_cell_guid": "b1076dfc-b9ad-4769-8c92-a6c4dae69d19",
    "_uuid": "8f2839f25d086af736a60e9eeb907d3b93b6e0e5",
    "execution": {
     "iopub.execute_input": "2024-07-11T05:33:58.702328Z",
     "iopub.status.busy": "2024-07-11T05:33:58.701914Z",
     "iopub.status.idle": "2024-07-11T05:34:00.487581Z",
     "shell.execute_reply": "2024-07-11T05:34:00.486079Z"
    },
    "papermill": {
     "duration": 1.800982,
     "end_time": "2024-07-11T05:34:00.490737",
     "exception": false,
     "start_time": "2024-07-11T05:33:58.689755",
     "status": "completed"
    },
    "tags": []
   },
   "outputs": [],
   "source": [
    "from sklearn.datasets import make_classification\n",
    "from sklearn.metrics import accuracy_score\n",
    "from sklearn.ensemble import BaggingClassifier\n",
    "from sklearn.tree import DecisionTreeClassifier\n",
    "from sklearn.svm import SVC\n",
    "from sklearn.model_selection import train_test_split"
   ]
  },
  {
   "cell_type": "code",
   "execution_count": 2,
   "id": "a715b4ed",
   "metadata": {
    "execution": {
     "iopub.execute_input": "2024-07-11T05:34:00.513677Z",
     "iopub.status.busy": "2024-07-11T05:34:00.512561Z",
     "iopub.status.idle": "2024-07-11T05:34:00.536423Z",
     "shell.execute_reply": "2024-07-11T05:34:00.535104Z"
    },
    "papermill": {
     "duration": 0.038576,
     "end_time": "2024-07-11T05:34:00.539743",
     "exception": false,
     "start_time": "2024-07-11T05:34:00.501167",
     "status": "completed"
    },
    "tags": []
   },
   "outputs": [],
   "source": [
    "X,y = make_classification(n_samples=10000, n_features=10,n_informative=3)"
   ]
  },
  {
   "cell_type": "code",
   "execution_count": 3,
   "id": "47a34d32",
   "metadata": {
    "execution": {
     "iopub.execute_input": "2024-07-11T05:34:00.561661Z",
     "iopub.status.busy": "2024-07-11T05:34:00.561178Z",
     "iopub.status.idle": "2024-07-11T05:34:00.569954Z",
     "shell.execute_reply": "2024-07-11T05:34:00.568752Z"
    },
    "papermill": {
     "duration": 0.02304,
     "end_time": "2024-07-11T05:34:00.572670",
     "exception": false,
     "start_time": "2024-07-11T05:34:00.549630",
     "status": "completed"
    },
    "tags": []
   },
   "outputs": [],
   "source": [
    "X_train,X_test,y_train,y_test = train_test_split(X,y,test_size=0.2,random_state=42)"
   ]
  },
  {
   "cell_type": "code",
   "execution_count": 4,
   "id": "edd78407",
   "metadata": {
    "execution": {
     "iopub.execute_input": "2024-07-11T05:34:00.595394Z",
     "iopub.status.busy": "2024-07-11T05:34:00.594346Z",
     "iopub.status.idle": "2024-07-11T05:34:00.717311Z",
     "shell.execute_reply": "2024-07-11T05:34:00.716040Z"
    },
    "papermill": {
     "duration": 0.137435,
     "end_time": "2024-07-11T05:34:00.720300",
     "exception": false,
     "start_time": "2024-07-11T05:34:00.582865",
     "status": "completed"
    },
    "tags": []
   },
   "outputs": [
    {
     "name": "stdout",
     "output_type": "stream",
     "text": [
      "Decision Tree accuracy 0.9245\n"
     ]
    }
   ],
   "source": [
    "dt = DecisionTreeClassifier(random_state=42)\n",
    "dt.fit(X_train,y_train)\n",
    "y_pred = dt.predict(X_test)\n",
    "\n",
    "print(\"Decision Tree accuracy\",accuracy_score(y_test,y_pred))"
   ]
  },
  {
   "cell_type": "markdown",
   "id": "40e99a20",
   "metadata": {
    "papermill": {
     "duration": 0.00986,
     "end_time": "2024-07-11T05:34:00.740637",
     "exception": false,
     "start_time": "2024-07-11T05:34:00.730777",
     "status": "completed"
    },
    "tags": []
   },
   "source": [
    "# ***Bagging***"
   ]
  },
  {
   "cell_type": "code",
   "execution_count": 5,
   "id": "11fe5100",
   "metadata": {
    "execution": {
     "iopub.execute_input": "2024-07-11T05:34:00.763178Z",
     "iopub.status.busy": "2024-07-11T05:34:00.762166Z",
     "iopub.status.idle": "2024-07-11T05:34:00.768719Z",
     "shell.execute_reply": "2024-07-11T05:34:00.767372Z"
    },
    "papermill": {
     "duration": 0.020609,
     "end_time": "2024-07-11T05:34:00.771269",
     "exception": false,
     "start_time": "2024-07-11T05:34:00.750660",
     "status": "completed"
    },
    "tags": []
   },
   "outputs": [],
   "source": [
    "bag = BaggingClassifier(\n",
    "    base_estimator=DecisionTreeClassifier(),\n",
    "    n_estimators=500,\n",
    "    max_samples=0.5,\n",
    "    bootstrap=True,\n",
    "    random_state=42\n",
    ")"
   ]
  },
  {
   "cell_type": "code",
   "execution_count": 6,
   "id": "45744a3f",
   "metadata": {
    "execution": {
     "iopub.execute_input": "2024-07-11T05:34:00.793397Z",
     "iopub.status.busy": "2024-07-11T05:34:00.792937Z",
     "iopub.status.idle": "2024-07-11T05:34:20.625491Z",
     "shell.execute_reply": "2024-07-11T05:34:20.624224Z"
    },
    "papermill": {
     "duration": 19.846836,
     "end_time": "2024-07-11T05:34:20.628182",
     "exception": false,
     "start_time": "2024-07-11T05:34:00.781346",
     "status": "completed"
    },
    "tags": []
   },
   "outputs": [
    {
     "name": "stderr",
     "output_type": "stream",
     "text": [
      "/opt/conda/lib/python3.10/site-packages/sklearn/ensemble/_base.py:166: FutureWarning: `base_estimator` was renamed to `estimator` in version 1.2 and will be removed in 1.4.\n",
      "  warnings.warn(\n"
     ]
    },
    {
     "data": {
      "text/html": [
       "<style>#sk-container-id-1 {color: black;background-color: white;}#sk-container-id-1 pre{padding: 0;}#sk-container-id-1 div.sk-toggleable {background-color: white;}#sk-container-id-1 label.sk-toggleable__label {cursor: pointer;display: block;width: 100%;margin-bottom: 0;padding: 0.3em;box-sizing: border-box;text-align: center;}#sk-container-id-1 label.sk-toggleable__label-arrow:before {content: \"▸\";float: left;margin-right: 0.25em;color: #696969;}#sk-container-id-1 label.sk-toggleable__label-arrow:hover:before {color: black;}#sk-container-id-1 div.sk-estimator:hover label.sk-toggleable__label-arrow:before {color: black;}#sk-container-id-1 div.sk-toggleable__content {max-height: 0;max-width: 0;overflow: hidden;text-align: left;background-color: #f0f8ff;}#sk-container-id-1 div.sk-toggleable__content pre {margin: 0.2em;color: black;border-radius: 0.25em;background-color: #f0f8ff;}#sk-container-id-1 input.sk-toggleable__control:checked~div.sk-toggleable__content {max-height: 200px;max-width: 100%;overflow: auto;}#sk-container-id-1 input.sk-toggleable__control:checked~label.sk-toggleable__label-arrow:before {content: \"▾\";}#sk-container-id-1 div.sk-estimator input.sk-toggleable__control:checked~label.sk-toggleable__label {background-color: #d4ebff;}#sk-container-id-1 div.sk-label input.sk-toggleable__control:checked~label.sk-toggleable__label {background-color: #d4ebff;}#sk-container-id-1 input.sk-hidden--visually {border: 0;clip: rect(1px 1px 1px 1px);clip: rect(1px, 1px, 1px, 1px);height: 1px;margin: -1px;overflow: hidden;padding: 0;position: absolute;width: 1px;}#sk-container-id-1 div.sk-estimator {font-family: monospace;background-color: #f0f8ff;border: 1px dotted black;border-radius: 0.25em;box-sizing: border-box;margin-bottom: 0.5em;}#sk-container-id-1 div.sk-estimator:hover {background-color: #d4ebff;}#sk-container-id-1 div.sk-parallel-item::after {content: \"\";width: 100%;border-bottom: 1px solid gray;flex-grow: 1;}#sk-container-id-1 div.sk-label:hover label.sk-toggleable__label {background-color: #d4ebff;}#sk-container-id-1 div.sk-serial::before {content: \"\";position: absolute;border-left: 1px solid gray;box-sizing: border-box;top: 0;bottom: 0;left: 50%;z-index: 0;}#sk-container-id-1 div.sk-serial {display: flex;flex-direction: column;align-items: center;background-color: white;padding-right: 0.2em;padding-left: 0.2em;position: relative;}#sk-container-id-1 div.sk-item {position: relative;z-index: 1;}#sk-container-id-1 div.sk-parallel {display: flex;align-items: stretch;justify-content: center;background-color: white;position: relative;}#sk-container-id-1 div.sk-item::before, #sk-container-id-1 div.sk-parallel-item::before {content: \"\";position: absolute;border-left: 1px solid gray;box-sizing: border-box;top: 0;bottom: 0;left: 50%;z-index: -1;}#sk-container-id-1 div.sk-parallel-item {display: flex;flex-direction: column;z-index: 1;position: relative;background-color: white;}#sk-container-id-1 div.sk-parallel-item:first-child::after {align-self: flex-end;width: 50%;}#sk-container-id-1 div.sk-parallel-item:last-child::after {align-self: flex-start;width: 50%;}#sk-container-id-1 div.sk-parallel-item:only-child::after {width: 0;}#sk-container-id-1 div.sk-dashed-wrapped {border: 1px dashed gray;margin: 0 0.4em 0.5em 0.4em;box-sizing: border-box;padding-bottom: 0.4em;background-color: white;}#sk-container-id-1 div.sk-label label {font-family: monospace;font-weight: bold;display: inline-block;line-height: 1.2em;}#sk-container-id-1 div.sk-label-container {text-align: center;}#sk-container-id-1 div.sk-container {/* jupyter's `normalize.less` sets `[hidden] { display: none; }` but bootstrap.min.css set `[hidden] { display: none !important; }` so we also need the `!important` here to be able to override the default hidden behavior on the sphinx rendered scikit-learn.org. See: https://github.com/scikit-learn/scikit-learn/issues/21755 */display: inline-block !important;position: relative;}#sk-container-id-1 div.sk-text-repr-fallback {display: none;}</style><div id=\"sk-container-id-1\" class=\"sk-top-container\"><div class=\"sk-text-repr-fallback\"><pre>BaggingClassifier(base_estimator=DecisionTreeClassifier(), max_samples=0.5,\n",
       "                  n_estimators=500, random_state=42)</pre><b>In a Jupyter environment, please rerun this cell to show the HTML representation or trust the notebook. <br />On GitHub, the HTML representation is unable to render, please try loading this page with nbviewer.org.</b></div><div class=\"sk-container\" hidden><div class=\"sk-item sk-dashed-wrapped\"><div class=\"sk-label-container\"><div class=\"sk-label sk-toggleable\"><input class=\"sk-toggleable__control sk-hidden--visually\" id=\"sk-estimator-id-1\" type=\"checkbox\" ><label for=\"sk-estimator-id-1\" class=\"sk-toggleable__label sk-toggleable__label-arrow\">BaggingClassifier</label><div class=\"sk-toggleable__content\"><pre>BaggingClassifier(base_estimator=DecisionTreeClassifier(), max_samples=0.5,\n",
       "                  n_estimators=500, random_state=42)</pre></div></div></div><div class=\"sk-parallel\"><div class=\"sk-parallel-item\"><div class=\"sk-item\"><div class=\"sk-label-container\"><div class=\"sk-label sk-toggleable\"><input class=\"sk-toggleable__control sk-hidden--visually\" id=\"sk-estimator-id-2\" type=\"checkbox\" ><label for=\"sk-estimator-id-2\" class=\"sk-toggleable__label sk-toggleable__label-arrow\">base_estimator: DecisionTreeClassifier</label><div class=\"sk-toggleable__content\"><pre>DecisionTreeClassifier()</pre></div></div></div><div class=\"sk-serial\"><div class=\"sk-item\"><div class=\"sk-estimator sk-toggleable\"><input class=\"sk-toggleable__control sk-hidden--visually\" id=\"sk-estimator-id-3\" type=\"checkbox\" ><label for=\"sk-estimator-id-3\" class=\"sk-toggleable__label sk-toggleable__label-arrow\">DecisionTreeClassifier</label><div class=\"sk-toggleable__content\"><pre>DecisionTreeClassifier()</pre></div></div></div></div></div></div></div></div></div></div>"
      ],
      "text/plain": [
       "BaggingClassifier(base_estimator=DecisionTreeClassifier(), max_samples=0.5,\n",
       "                  n_estimators=500, random_state=42)"
      ]
     },
     "execution_count": 6,
     "metadata": {},
     "output_type": "execute_result"
    }
   ],
   "source": [
    "bag.fit(X_train,y_train)"
   ]
  },
  {
   "cell_type": "code",
   "execution_count": 7,
   "id": "b6370dd3",
   "metadata": {
    "execution": {
     "iopub.execute_input": "2024-07-11T05:34:20.651184Z",
     "iopub.status.busy": "2024-07-11T05:34:20.649922Z",
     "iopub.status.idle": "2024-07-11T05:34:20.865481Z",
     "shell.execute_reply": "2024-07-11T05:34:20.864199Z"
    },
    "papermill": {
     "duration": 0.230362,
     "end_time": "2024-07-11T05:34:20.868569",
     "exception": false,
     "start_time": "2024-07-11T05:34:20.638207",
     "status": "completed"
    },
    "tags": []
   },
   "outputs": [],
   "source": [
    "y_pred = bag.predict(X_test)"
   ]
  },
  {
   "cell_type": "code",
   "execution_count": 8,
   "id": "00bfc9b5",
   "metadata": {
    "execution": {
     "iopub.execute_input": "2024-07-11T05:34:20.890628Z",
     "iopub.status.busy": "2024-07-11T05:34:20.890130Z",
     "iopub.status.idle": "2024-07-11T05:34:20.899893Z",
     "shell.execute_reply": "2024-07-11T05:34:20.898712Z"
    },
    "papermill": {
     "duration": 0.024094,
     "end_time": "2024-07-11T05:34:20.902714",
     "exception": false,
     "start_time": "2024-07-11T05:34:20.878620",
     "status": "completed"
    },
    "tags": []
   },
   "outputs": [
    {
     "data": {
      "text/plain": [
       "0.952"
      ]
     },
     "execution_count": 8,
     "metadata": {},
     "output_type": "execute_result"
    }
   ],
   "source": [
    "accuracy_score(y_test,y_pred)"
   ]
  },
  {
   "cell_type": "code",
   "execution_count": 9,
   "id": "78a235b6",
   "metadata": {
    "execution": {
     "iopub.execute_input": "2024-07-11T05:34:20.926076Z",
     "iopub.status.busy": "2024-07-11T05:34:20.925652Z",
     "iopub.status.idle": "2024-07-11T05:34:21.189083Z",
     "shell.execute_reply": "2024-07-11T05:34:21.187803Z"
    },
    "papermill": {
     "duration": 0.278431,
     "end_time": "2024-07-11T05:34:21.191896",
     "exception": false,
     "start_time": "2024-07-11T05:34:20.913465",
     "status": "completed"
    },
    "tags": []
   },
   "outputs": [
    {
     "data": {
      "text/plain": [
       "(4000,)"
      ]
     },
     "execution_count": 9,
     "metadata": {},
     "output_type": "execute_result"
    }
   ],
   "source": [
    "bag.estimators_samples_[0].shape"
   ]
  },
  {
   "cell_type": "code",
   "execution_count": 10,
   "id": "9b980d7a",
   "metadata": {
    "execution": {
     "iopub.execute_input": "2024-07-11T05:34:21.215201Z",
     "iopub.status.busy": "2024-07-11T05:34:21.214793Z",
     "iopub.status.idle": "2024-07-11T05:34:21.223241Z",
     "shell.execute_reply": "2024-07-11T05:34:21.221770Z"
    },
    "papermill": {
     "duration": 0.023749,
     "end_time": "2024-07-11T05:34:21.226141",
     "exception": false,
     "start_time": "2024-07-11T05:34:21.202392",
     "status": "completed"
    },
    "tags": []
   },
   "outputs": [
    {
     "data": {
      "text/plain": [
       "(10,)"
      ]
     },
     "execution_count": 10,
     "metadata": {},
     "output_type": "execute_result"
    }
   ],
   "source": [
    "bag.estimators_features_[0].shape"
   ]
  },
  {
   "cell_type": "markdown",
   "id": "3051c240",
   "metadata": {
    "papermill": {
     "duration": 0.010505,
     "end_time": "2024-07-11T05:34:21.247551",
     "exception": false,
     "start_time": "2024-07-11T05:34:21.237046",
     "status": "completed"
    },
    "tags": []
   },
   "source": [
    "# ***Bagging using SVM***"
   ]
  },
  {
   "cell_type": "code",
   "execution_count": 11,
   "id": "eda1e47c",
   "metadata": {
    "execution": {
     "iopub.execute_input": "2024-07-11T05:34:21.271554Z",
     "iopub.status.busy": "2024-07-11T05:34:21.271067Z",
     "iopub.status.idle": "2024-07-11T05:34:21.277617Z",
     "shell.execute_reply": "2024-07-11T05:34:21.276371Z"
    },
    "papermill": {
     "duration": 0.021659,
     "end_time": "2024-07-11T05:34:21.280287",
     "exception": false,
     "start_time": "2024-07-11T05:34:21.258628",
     "status": "completed"
    },
    "tags": []
   },
   "outputs": [],
   "source": [
    "bag = BaggingClassifier(\n",
    "    base_estimator=SVC(),\n",
    "    n_estimators=500,\n",
    "    max_samples=0.25,\n",
    "    bootstrap=True,\n",
    "    random_state=42\n",
    ")"
   ]
  },
  {
   "cell_type": "code",
   "execution_count": 12,
   "id": "198acd17",
   "metadata": {
    "execution": {
     "iopub.execute_input": "2024-07-11T05:34:21.304620Z",
     "iopub.status.busy": "2024-07-11T05:34:21.303800Z",
     "iopub.status.idle": "2024-07-11T05:35:14.108246Z",
     "shell.execute_reply": "2024-07-11T05:35:14.106598Z"
    },
    "papermill": {
     "duration": 52.833842,
     "end_time": "2024-07-11T05:35:14.125139",
     "exception": false,
     "start_time": "2024-07-11T05:34:21.291297",
     "status": "completed"
    },
    "tags": []
   },
   "outputs": [
    {
     "name": "stderr",
     "output_type": "stream",
     "text": [
      "/opt/conda/lib/python3.10/site-packages/sklearn/ensemble/_base.py:166: FutureWarning: `base_estimator` was renamed to `estimator` in version 1.2 and will be removed in 1.4.\n",
      "  warnings.warn(\n"
     ]
    },
    {
     "name": "stdout",
     "output_type": "stream",
     "text": [
      "Bagging using SVM 0.9465\n"
     ]
    }
   ],
   "source": [
    "bag.fit(X_train,y_train)\n",
    "y_pred = bag.predict(X_test)\n",
    "print(\"Bagging using SVM\",accuracy_score(y_test,y_pred))"
   ]
  },
  {
   "cell_type": "markdown",
   "id": "66655ada",
   "metadata": {
    "papermill": {
     "duration": 0.011045,
     "end_time": "2024-07-11T05:35:14.154072",
     "exception": false,
     "start_time": "2024-07-11T05:35:14.143027",
     "status": "completed"
    },
    "tags": []
   },
   "source": [
    "# ***Pasting-Bagging without bootstraping / Replacing***"
   ]
  },
  {
   "cell_type": "code",
   "execution_count": 13,
   "id": "335e6075",
   "metadata": {
    "execution": {
     "iopub.execute_input": "2024-07-11T05:35:14.178431Z",
     "iopub.status.busy": "2024-07-11T05:35:14.177977Z",
     "iopub.status.idle": "2024-07-11T05:35:14.187823Z",
     "shell.execute_reply": "2024-07-11T05:35:14.186304Z"
    },
    "papermill": {
     "duration": 0.025247,
     "end_time": "2024-07-11T05:35:14.190794",
     "exception": false,
     "start_time": "2024-07-11T05:35:14.165547",
     "status": "completed"
    },
    "tags": []
   },
   "outputs": [],
   "source": [
    "bag = BaggingClassifier(\n",
    "    base_estimator=DecisionTreeClassifier(),\n",
    "    n_estimators=500,\n",
    "    max_samples=0.25,\n",
    "    bootstrap=False,\n",
    "    random_state=42,\n",
    "    verbose = 1,\n",
    "    n_jobs=-1\n",
    ")"
   ]
  },
  {
   "cell_type": "code",
   "execution_count": 14,
   "id": "7cdf0fe1",
   "metadata": {
    "execution": {
     "iopub.execute_input": "2024-07-11T05:35:14.215543Z",
     "iopub.status.busy": "2024-07-11T05:35:14.214137Z",
     "iopub.status.idle": "2024-07-11T05:35:20.208755Z",
     "shell.execute_reply": "2024-07-11T05:35:20.207379Z"
    },
    "papermill": {
     "duration": 6.010104,
     "end_time": "2024-07-11T05:35:20.211927",
     "exception": false,
     "start_time": "2024-07-11T05:35:14.201823",
     "status": "completed"
    },
    "tags": []
   },
   "outputs": [
    {
     "name": "stderr",
     "output_type": "stream",
     "text": [
      "/opt/conda/lib/python3.10/site-packages/sklearn/ensemble/_base.py:166: FutureWarning: `base_estimator` was renamed to `estimator` in version 1.2 and will be removed in 1.4.\n",
      "  warnings.warn(\n",
      "[Parallel(n_jobs=4)]: Using backend LokyBackend with 4 concurrent workers.\n",
      "[Parallel(n_jobs=4)]: Done   2 out of   4 | elapsed:    5.6s remaining:    5.6s\n",
      "[Parallel(n_jobs=4)]: Done   4 out of   4 | elapsed:    5.7s finished\n",
      "[Parallel(n_jobs=4)]: Using backend LokyBackend with 4 concurrent workers.\n"
     ]
    },
    {
     "name": "stdout",
     "output_type": "stream",
     "text": [
      "Pasting classifier 0.95\n"
     ]
    },
    {
     "name": "stderr",
     "output_type": "stream",
     "text": [
      "[Parallel(n_jobs=4)]: Done   2 out of   4 | elapsed:    0.2s remaining:    0.2s\n",
      "[Parallel(n_jobs=4)]: Done   4 out of   4 | elapsed:    0.3s finished\n"
     ]
    }
   ],
   "source": [
    "bag.fit(X_train,y_train)\n",
    "y_pred = bag.predict(X_test)\n",
    "print(\"Pasting classifier\",accuracy_score(y_test,y_pred))\n",
    "  "
   ]
  },
  {
   "cell_type": "markdown",
   "id": "4695455e",
   "metadata": {
    "papermill": {
     "duration": 0.011293,
     "end_time": "2024-07-11T05:35:20.234508",
     "exception": false,
     "start_time": "2024-07-11T05:35:20.223215",
     "status": "completed"
    },
    "tags": []
   },
   "source": [
    "# ***Random Subspaces-Column Sampling***"
   ]
  },
  {
   "cell_type": "code",
   "execution_count": 15,
   "id": "db91142b",
   "metadata": {
    "execution": {
     "iopub.execute_input": "2024-07-11T05:35:20.259094Z",
     "iopub.status.busy": "2024-07-11T05:35:20.258689Z",
     "iopub.status.idle": "2024-07-11T05:35:20.266702Z",
     "shell.execute_reply": "2024-07-11T05:35:20.265502Z"
    },
    "papermill": {
     "duration": 0.023567,
     "end_time": "2024-07-11T05:35:20.269390",
     "exception": false,
     "start_time": "2024-07-11T05:35:20.245823",
     "status": "completed"
    },
    "tags": []
   },
   "outputs": [],
   "source": [
    "bag = BaggingClassifier(\n",
    "    base_estimator=DecisionTreeClassifier(),\n",
    "    n_estimators=500,\n",
    "    max_samples=1.0,\n",
    "    bootstrap=False,\n",
    "    max_features=0.5,\n",
    "    bootstrap_features=True,\n",
    "    random_state=42\n",
    ")"
   ]
  },
  {
   "cell_type": "code",
   "execution_count": 16,
   "id": "d514c334",
   "metadata": {
    "execution": {
     "iopub.execute_input": "2024-07-11T05:35:20.293810Z",
     "iopub.status.busy": "2024-07-11T05:35:20.293380Z",
     "iopub.status.idle": "2024-07-11T05:35:58.835288Z",
     "shell.execute_reply": "2024-07-11T05:35:58.834052Z"
    },
    "papermill": {
     "duration": 38.568483,
     "end_time": "2024-07-11T05:35:58.849211",
     "exception": false,
     "start_time": "2024-07-11T05:35:20.280728",
     "status": "completed"
    },
    "tags": []
   },
   "outputs": [
    {
     "name": "stderr",
     "output_type": "stream",
     "text": [
      "/opt/conda/lib/python3.10/site-packages/sklearn/ensemble/_base.py:166: FutureWarning: `base_estimator` was renamed to `estimator` in version 1.2 and will be removed in 1.4.\n",
      "  warnings.warn(\n"
     ]
    },
    {
     "name": "stdout",
     "output_type": "stream",
     "text": [
      "Random Subspaces classifier 0.937\n"
     ]
    }
   ],
   "source": [
    "bag.fit(X_train,y_train)\n",
    "y_pred = bag.predict(X_test)\n",
    "print(\"Random Subspaces classifier\",accuracy_score(y_test,y_pred))"
   ]
  },
  {
   "cell_type": "code",
   "execution_count": 17,
   "id": "7c238897",
   "metadata": {
    "execution": {
     "iopub.execute_input": "2024-07-11T05:35:58.874768Z",
     "iopub.status.busy": "2024-07-11T05:35:58.874351Z",
     "iopub.status.idle": "2024-07-11T05:35:59.156912Z",
     "shell.execute_reply": "2024-07-11T05:35:59.155416Z"
    },
    "papermill": {
     "duration": 0.298956,
     "end_time": "2024-07-11T05:35:59.160044",
     "exception": false,
     "start_time": "2024-07-11T05:35:58.861088",
     "status": "completed"
    },
    "tags": []
   },
   "outputs": [
    {
     "data": {
      "text/plain": [
       "(8000,)"
      ]
     },
     "execution_count": 17,
     "metadata": {},
     "output_type": "execute_result"
    }
   ],
   "source": [
    "bag.estimators_samples_[0].shape"
   ]
  },
  {
   "cell_type": "code",
   "execution_count": 18,
   "id": "8accd139",
   "metadata": {
    "execution": {
     "iopub.execute_input": "2024-07-11T05:35:59.187292Z",
     "iopub.status.busy": "2024-07-11T05:35:59.186787Z",
     "iopub.status.idle": "2024-07-11T05:35:59.195716Z",
     "shell.execute_reply": "2024-07-11T05:35:59.194253Z"
    },
    "papermill": {
     "duration": 0.02637,
     "end_time": "2024-07-11T05:35:59.198522",
     "exception": false,
     "start_time": "2024-07-11T05:35:59.172152",
     "status": "completed"
    },
    "tags": []
   },
   "outputs": [
    {
     "data": {
      "text/plain": [
       "(5,)"
      ]
     },
     "execution_count": 18,
     "metadata": {},
     "output_type": "execute_result"
    }
   ],
   "source": [
    "bag.estimators_features_[0].shape"
   ]
  },
  {
   "cell_type": "markdown",
   "id": "85ec08f6",
   "metadata": {
    "papermill": {
     "duration": 0.011357,
     "end_time": "2024-07-11T05:35:59.221636",
     "exception": false,
     "start_time": "2024-07-11T05:35:59.210279",
     "status": "completed"
    },
    "tags": []
   },
   "source": [
    "# ***Random Patches-Row Column Both Sampling***"
   ]
  },
  {
   "cell_type": "code",
   "execution_count": 19,
   "id": "3ad664d0",
   "metadata": {
    "execution": {
     "iopub.execute_input": "2024-07-11T05:35:59.246975Z",
     "iopub.status.busy": "2024-07-11T05:35:59.246493Z",
     "iopub.status.idle": "2024-07-11T05:35:59.254988Z",
     "shell.execute_reply": "2024-07-11T05:35:59.253686Z"
    },
    "papermill": {
     "duration": 0.024637,
     "end_time": "2024-07-11T05:35:59.257839",
     "exception": false,
     "start_time": "2024-07-11T05:35:59.233202",
     "status": "completed"
    },
    "tags": []
   },
   "outputs": [],
   "source": [
    "bag = BaggingClassifier(\n",
    "    base_estimator=DecisionTreeClassifier(),\n",
    "    n_estimators=500,\n",
    "    max_samples=0.25,\n",
    "    bootstrap=True,\n",
    "    max_features=0.5,\n",
    "    bootstrap_features=True,\n",
    "    random_state=42\n",
    ")\n"
   ]
  },
  {
   "cell_type": "code",
   "execution_count": 20,
   "id": "02f24058",
   "metadata": {
    "execution": {
     "iopub.execute_input": "2024-07-11T05:35:59.283737Z",
     "iopub.status.busy": "2024-07-11T05:35:59.283238Z",
     "iopub.status.idle": "2024-07-11T05:36:06.854112Z",
     "shell.execute_reply": "2024-07-11T05:36:06.852673Z"
    },
    "papermill": {
     "duration": 7.586901,
     "end_time": "2024-07-11T05:36:06.856936",
     "exception": false,
     "start_time": "2024-07-11T05:35:59.270035",
     "status": "completed"
    },
    "tags": []
   },
   "outputs": [
    {
     "name": "stderr",
     "output_type": "stream",
     "text": [
      "/opt/conda/lib/python3.10/site-packages/sklearn/ensemble/_base.py:166: FutureWarning: `base_estimator` was renamed to `estimator` in version 1.2 and will be removed in 1.4.\n",
      "  warnings.warn(\n"
     ]
    },
    {
     "name": "stdout",
     "output_type": "stream",
     "text": [
      "Random Patches classifier 0.944\n"
     ]
    }
   ],
   "source": [
    "\n",
    "bag.fit(X_train,y_train)\n",
    "y_pred = bag.predict(X_test)\n",
    "print(\"Random Patches classifier\",accuracy_score(y_test,y_pred))"
   ]
  },
  {
   "cell_type": "markdown",
   "id": "31c58b9b",
   "metadata": {
    "papermill": {
     "duration": 0.012011,
     "end_time": "2024-07-11T05:36:06.880996",
     "exception": false,
     "start_time": "2024-07-11T05:36:06.868985",
     "status": "completed"
    },
    "tags": []
   },
   "source": [
    "# ***OOB Score***"
   ]
  },
  {
   "cell_type": "code",
   "execution_count": 21,
   "id": "5fa132ea",
   "metadata": {
    "execution": {
     "iopub.execute_input": "2024-07-11T05:36:06.907276Z",
     "iopub.status.busy": "2024-07-11T05:36:06.906715Z",
     "iopub.status.idle": "2024-07-11T05:36:06.915253Z",
     "shell.execute_reply": "2024-07-11T05:36:06.913985Z"
    },
    "papermill": {
     "duration": 0.025228,
     "end_time": "2024-07-11T05:36:06.918028",
     "exception": false,
     "start_time": "2024-07-11T05:36:06.892800",
     "status": "completed"
    },
    "tags": []
   },
   "outputs": [],
   "source": [
    "bag = BaggingClassifier(\n",
    "    base_estimator=DecisionTreeClassifier(),\n",
    "    n_estimators=500,\n",
    "    max_samples=0.25,\n",
    "    bootstrap=True,\n",
    "    oob_score=True,\n",
    "    random_state=42\n",
    ")"
   ]
  },
  {
   "cell_type": "code",
   "execution_count": 22,
   "id": "8f76968d",
   "metadata": {
    "execution": {
     "iopub.execute_input": "2024-07-11T05:36:06.944032Z",
     "iopub.status.busy": "2024-07-11T05:36:06.943526Z",
     "iopub.status.idle": "2024-07-11T05:36:18.177122Z",
     "shell.execute_reply": "2024-07-11T05:36:18.175867Z"
    },
    "papermill": {
     "duration": 11.249887,
     "end_time": "2024-07-11T05:36:18.179691",
     "exception": false,
     "start_time": "2024-07-11T05:36:06.929804",
     "status": "completed"
    },
    "tags": []
   },
   "outputs": [
    {
     "name": "stderr",
     "output_type": "stream",
     "text": [
      "/opt/conda/lib/python3.10/site-packages/sklearn/ensemble/_base.py:166: FutureWarning: `base_estimator` was renamed to `estimator` in version 1.2 and will be removed in 1.4.\n",
      "  warnings.warn(\n"
     ]
    },
    {
     "data": {
      "text/html": [
       "<style>#sk-container-id-2 {color: black;background-color: white;}#sk-container-id-2 pre{padding: 0;}#sk-container-id-2 div.sk-toggleable {background-color: white;}#sk-container-id-2 label.sk-toggleable__label {cursor: pointer;display: block;width: 100%;margin-bottom: 0;padding: 0.3em;box-sizing: border-box;text-align: center;}#sk-container-id-2 label.sk-toggleable__label-arrow:before {content: \"▸\";float: left;margin-right: 0.25em;color: #696969;}#sk-container-id-2 label.sk-toggleable__label-arrow:hover:before {color: black;}#sk-container-id-2 div.sk-estimator:hover label.sk-toggleable__label-arrow:before {color: black;}#sk-container-id-2 div.sk-toggleable__content {max-height: 0;max-width: 0;overflow: hidden;text-align: left;background-color: #f0f8ff;}#sk-container-id-2 div.sk-toggleable__content pre {margin: 0.2em;color: black;border-radius: 0.25em;background-color: #f0f8ff;}#sk-container-id-2 input.sk-toggleable__control:checked~div.sk-toggleable__content {max-height: 200px;max-width: 100%;overflow: auto;}#sk-container-id-2 input.sk-toggleable__control:checked~label.sk-toggleable__label-arrow:before {content: \"▾\";}#sk-container-id-2 div.sk-estimator input.sk-toggleable__control:checked~label.sk-toggleable__label {background-color: #d4ebff;}#sk-container-id-2 div.sk-label input.sk-toggleable__control:checked~label.sk-toggleable__label {background-color: #d4ebff;}#sk-container-id-2 input.sk-hidden--visually {border: 0;clip: rect(1px 1px 1px 1px);clip: rect(1px, 1px, 1px, 1px);height: 1px;margin: -1px;overflow: hidden;padding: 0;position: absolute;width: 1px;}#sk-container-id-2 div.sk-estimator {font-family: monospace;background-color: #f0f8ff;border: 1px dotted black;border-radius: 0.25em;box-sizing: border-box;margin-bottom: 0.5em;}#sk-container-id-2 div.sk-estimator:hover {background-color: #d4ebff;}#sk-container-id-2 div.sk-parallel-item::after {content: \"\";width: 100%;border-bottom: 1px solid gray;flex-grow: 1;}#sk-container-id-2 div.sk-label:hover label.sk-toggleable__label {background-color: #d4ebff;}#sk-container-id-2 div.sk-serial::before {content: \"\";position: absolute;border-left: 1px solid gray;box-sizing: border-box;top: 0;bottom: 0;left: 50%;z-index: 0;}#sk-container-id-2 div.sk-serial {display: flex;flex-direction: column;align-items: center;background-color: white;padding-right: 0.2em;padding-left: 0.2em;position: relative;}#sk-container-id-2 div.sk-item {position: relative;z-index: 1;}#sk-container-id-2 div.sk-parallel {display: flex;align-items: stretch;justify-content: center;background-color: white;position: relative;}#sk-container-id-2 div.sk-item::before, #sk-container-id-2 div.sk-parallel-item::before {content: \"\";position: absolute;border-left: 1px solid gray;box-sizing: border-box;top: 0;bottom: 0;left: 50%;z-index: -1;}#sk-container-id-2 div.sk-parallel-item {display: flex;flex-direction: column;z-index: 1;position: relative;background-color: white;}#sk-container-id-2 div.sk-parallel-item:first-child::after {align-self: flex-end;width: 50%;}#sk-container-id-2 div.sk-parallel-item:last-child::after {align-self: flex-start;width: 50%;}#sk-container-id-2 div.sk-parallel-item:only-child::after {width: 0;}#sk-container-id-2 div.sk-dashed-wrapped {border: 1px dashed gray;margin: 0 0.4em 0.5em 0.4em;box-sizing: border-box;padding-bottom: 0.4em;background-color: white;}#sk-container-id-2 div.sk-label label {font-family: monospace;font-weight: bold;display: inline-block;line-height: 1.2em;}#sk-container-id-2 div.sk-label-container {text-align: center;}#sk-container-id-2 div.sk-container {/* jupyter's `normalize.less` sets `[hidden] { display: none; }` but bootstrap.min.css set `[hidden] { display: none !important; }` so we also need the `!important` here to be able to override the default hidden behavior on the sphinx rendered scikit-learn.org. See: https://github.com/scikit-learn/scikit-learn/issues/21755 */display: inline-block !important;position: relative;}#sk-container-id-2 div.sk-text-repr-fallback {display: none;}</style><div id=\"sk-container-id-2\" class=\"sk-top-container\"><div class=\"sk-text-repr-fallback\"><pre>BaggingClassifier(base_estimator=DecisionTreeClassifier(), max_samples=0.25,\n",
       "                  n_estimators=500, oob_score=True, random_state=42)</pre><b>In a Jupyter environment, please rerun this cell to show the HTML representation or trust the notebook. <br />On GitHub, the HTML representation is unable to render, please try loading this page with nbviewer.org.</b></div><div class=\"sk-container\" hidden><div class=\"sk-item sk-dashed-wrapped\"><div class=\"sk-label-container\"><div class=\"sk-label sk-toggleable\"><input class=\"sk-toggleable__control sk-hidden--visually\" id=\"sk-estimator-id-4\" type=\"checkbox\" ><label for=\"sk-estimator-id-4\" class=\"sk-toggleable__label sk-toggleable__label-arrow\">BaggingClassifier</label><div class=\"sk-toggleable__content\"><pre>BaggingClassifier(base_estimator=DecisionTreeClassifier(), max_samples=0.25,\n",
       "                  n_estimators=500, oob_score=True, random_state=42)</pre></div></div></div><div class=\"sk-parallel\"><div class=\"sk-parallel-item\"><div class=\"sk-item\"><div class=\"sk-label-container\"><div class=\"sk-label sk-toggleable\"><input class=\"sk-toggleable__control sk-hidden--visually\" id=\"sk-estimator-id-5\" type=\"checkbox\" ><label for=\"sk-estimator-id-5\" class=\"sk-toggleable__label sk-toggleable__label-arrow\">base_estimator: DecisionTreeClassifier</label><div class=\"sk-toggleable__content\"><pre>DecisionTreeClassifier()</pre></div></div></div><div class=\"sk-serial\"><div class=\"sk-item\"><div class=\"sk-estimator sk-toggleable\"><input class=\"sk-toggleable__control sk-hidden--visually\" id=\"sk-estimator-id-6\" type=\"checkbox\" ><label for=\"sk-estimator-id-6\" class=\"sk-toggleable__label sk-toggleable__label-arrow\">DecisionTreeClassifier</label><div class=\"sk-toggleable__content\"><pre>DecisionTreeClassifier()</pre></div></div></div></div></div></div></div></div></div></div>"
      ],
      "text/plain": [
       "BaggingClassifier(base_estimator=DecisionTreeClassifier(), max_samples=0.25,\n",
       "                  n_estimators=500, oob_score=True, random_state=42)"
      ]
     },
     "execution_count": 22,
     "metadata": {},
     "output_type": "execute_result"
    }
   ],
   "source": [
    "bag.fit(X_train,y_train)"
   ]
  },
  {
   "cell_type": "code",
   "execution_count": 23,
   "id": "36e672d2",
   "metadata": {
    "execution": {
     "iopub.execute_input": "2024-07-11T05:36:18.206271Z",
     "iopub.status.busy": "2024-07-11T05:36:18.205635Z",
     "iopub.status.idle": "2024-07-11T05:36:18.214093Z",
     "shell.execute_reply": "2024-07-11T05:36:18.212959Z"
    },
    "papermill": {
     "duration": 0.024845,
     "end_time": "2024-07-11T05:36:18.216797",
     "exception": false,
     "start_time": "2024-07-11T05:36:18.191952",
     "status": "completed"
    },
    "tags": []
   },
   "outputs": [
    {
     "data": {
      "text/plain": [
       "0.949875"
      ]
     },
     "execution_count": 23,
     "metadata": {},
     "output_type": "execute_result"
    }
   ],
   "source": [
    "bag.oob_score_"
   ]
  },
  {
   "cell_type": "code",
   "execution_count": 24,
   "id": "b588b742",
   "metadata": {
    "execution": {
     "iopub.execute_input": "2024-07-11T05:36:18.244839Z",
     "iopub.status.busy": "2024-07-11T05:36:18.244417Z",
     "iopub.status.idle": "2024-07-11T05:36:18.449269Z",
     "shell.execute_reply": "2024-07-11T05:36:18.447794Z"
    },
    "papermill": {
     "duration": 0.222218,
     "end_time": "2024-07-11T05:36:18.452216",
     "exception": false,
     "start_time": "2024-07-11T05:36:18.229998",
     "status": "completed"
    },
    "tags": []
   },
   "outputs": [
    {
     "name": "stdout",
     "output_type": "stream",
     "text": [
      "Accuracy 0.9515\n"
     ]
    }
   ],
   "source": [
    "y_pred = bag.predict(X_test)\n",
    "print(\"Accuracy\",accuracy_score(y_test,y_pred))"
   ]
  },
  {
   "cell_type": "code",
   "execution_count": null,
   "id": "e42df85e",
   "metadata": {
    "papermill": {
     "duration": 0.012598,
     "end_time": "2024-07-11T05:36:18.478337",
     "exception": false,
     "start_time": "2024-07-11T05:36:18.465739",
     "status": "completed"
    },
    "tags": []
   },
   "outputs": [],
   "source": []
  }
 ],
 "metadata": {
  "kaggle": {
   "accelerator": "none",
   "dataSources": [],
   "dockerImageVersionId": 30732,
   "isGpuEnabled": false,
   "isInternetEnabled": false,
   "language": "python",
   "sourceType": "notebook"
  },
  "kernelspec": {
   "display_name": "Python 3",
   "language": "python",
   "name": "python3"
  },
  "language_info": {
   "codemirror_mode": {
    "name": "ipython",
    "version": 3
   },
   "file_extension": ".py",
   "mimetype": "text/x-python",
   "name": "python",
   "nbconvert_exporter": "python",
   "pygments_lexer": "ipython3",
   "version": "3.10.13"
  },
  "papermill": {
   "default_parameters": {},
   "duration": 145.56794,
   "end_time": "2024-07-11T05:36:21.115071",
   "environment_variables": {},
   "exception": null,
   "input_path": "__notebook__.ipynb",
   "output_path": "__notebook__.ipynb",
   "parameters": {},
   "start_time": "2024-07-11T05:33:55.547131",
   "version": "2.5.0"
  }
 },
 "nbformat": 4,
 "nbformat_minor": 5
}
