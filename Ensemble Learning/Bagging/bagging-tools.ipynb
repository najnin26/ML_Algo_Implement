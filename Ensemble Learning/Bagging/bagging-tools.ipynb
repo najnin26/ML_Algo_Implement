{
 "cells": [
  {
   "cell_type": "code",
   "execution_count": 1,
   "id": "24f890e6",
   "metadata": {
    "_cell_guid": "b1076dfc-b9ad-4769-8c92-a6c4dae69d19",
    "_uuid": "8f2839f25d086af736a60e9eeb907d3b93b6e0e5",
    "execution": {
     "iopub.execute_input": "2024-07-11T05:39:39.909757Z",
     "iopub.status.busy": "2024-07-11T05:39:39.909271Z",
     "iopub.status.idle": "2024-07-11T05:39:40.866763Z",
     "shell.execute_reply": "2024-07-11T05:39:40.865676Z"
    },
    "papermill": {
     "duration": 0.971238,
     "end_time": "2024-07-11T05:39:40.869511",
     "exception": false,
     "start_time": "2024-07-11T05:39:39.898273",
     "status": "completed"
    },
    "tags": []
   },
   "outputs": [],
   "source": [
    "import numpy as np\n",
    "import pandas as pd"
   ]
  },
  {
   "cell_type": "code",
   "execution_count": 2,
   "id": "efc2ac08",
   "metadata": {
    "execution": {
     "iopub.execute_input": "2024-07-11T05:39:40.890981Z",
     "iopub.status.busy": "2024-07-11T05:39:40.890449Z",
     "iopub.status.idle": "2024-07-11T05:39:40.913643Z",
     "shell.execute_reply": "2024-07-11T05:39:40.912499Z"
    },
    "papermill": {
     "duration": 0.037399,
     "end_time": "2024-07-11T05:39:40.916373",
     "exception": false,
     "start_time": "2024-07-11T05:39:40.878974",
     "status": "completed"
    },
    "tags": []
   },
   "outputs": [],
   "source": [
    "df=pd.read_csv('/kaggle/input/iris-dataset/iris.csv')"
   ]
  },
  {
   "cell_type": "code",
   "execution_count": 3,
   "id": "9eefeac3",
   "metadata": {
    "execution": {
     "iopub.execute_input": "2024-07-11T05:39:40.937047Z",
     "iopub.status.busy": "2024-07-11T05:39:40.935945Z",
     "iopub.status.idle": "2024-07-11T05:39:40.962212Z",
     "shell.execute_reply": "2024-07-11T05:39:40.961170Z"
    },
    "papermill": {
     "duration": 0.03928,
     "end_time": "2024-07-11T05:39:40.964791",
     "exception": false,
     "start_time": "2024-07-11T05:39:40.925511",
     "status": "completed"
    },
    "tags": []
   },
   "outputs": [
    {
     "data": {
      "text/html": [
       "<div>\n",
       "<style scoped>\n",
       "    .dataframe tbody tr th:only-of-type {\n",
       "        vertical-align: middle;\n",
       "    }\n",
       "\n",
       "    .dataframe tbody tr th {\n",
       "        vertical-align: top;\n",
       "    }\n",
       "\n",
       "    .dataframe thead th {\n",
       "        text-align: right;\n",
       "    }\n",
       "</style>\n",
       "<table border=\"1\" class=\"dataframe\">\n",
       "  <thead>\n",
       "    <tr style=\"text-align: right;\">\n",
       "      <th></th>\n",
       "      <th>sepal_length</th>\n",
       "      <th>sepal_width</th>\n",
       "      <th>petal_length</th>\n",
       "      <th>petal_width</th>\n",
       "      <th>species</th>\n",
       "    </tr>\n",
       "  </thead>\n",
       "  <tbody>\n",
       "    <tr>\n",
       "      <th>0</th>\n",
       "      <td>5.1</td>\n",
       "      <td>3.5</td>\n",
       "      <td>1.4</td>\n",
       "      <td>0.2</td>\n",
       "      <td>setosa</td>\n",
       "    </tr>\n",
       "    <tr>\n",
       "      <th>1</th>\n",
       "      <td>4.9</td>\n",
       "      <td>3.0</td>\n",
       "      <td>1.4</td>\n",
       "      <td>0.2</td>\n",
       "      <td>setosa</td>\n",
       "    </tr>\n",
       "    <tr>\n",
       "      <th>2</th>\n",
       "      <td>4.7</td>\n",
       "      <td>3.2</td>\n",
       "      <td>1.3</td>\n",
       "      <td>0.2</td>\n",
       "      <td>setosa</td>\n",
       "    </tr>\n",
       "    <tr>\n",
       "      <th>3</th>\n",
       "      <td>4.6</td>\n",
       "      <td>3.1</td>\n",
       "      <td>1.5</td>\n",
       "      <td>0.2</td>\n",
       "      <td>setosa</td>\n",
       "    </tr>\n",
       "    <tr>\n",
       "      <th>4</th>\n",
       "      <td>5.0</td>\n",
       "      <td>3.6</td>\n",
       "      <td>1.4</td>\n",
       "      <td>0.2</td>\n",
       "      <td>setosa</td>\n",
       "    </tr>\n",
       "  </tbody>\n",
       "</table>\n",
       "</div>"
      ],
      "text/plain": [
       "   sepal_length  sepal_width  petal_length  petal_width species\n",
       "0           5.1          3.5           1.4          0.2  setosa\n",
       "1           4.9          3.0           1.4          0.2  setosa\n",
       "2           4.7          3.2           1.3          0.2  setosa\n",
       "3           4.6          3.1           1.5          0.2  setosa\n",
       "4           5.0          3.6           1.4          0.2  setosa"
      ]
     },
     "execution_count": 3,
     "metadata": {},
     "output_type": "execute_result"
    }
   ],
   "source": [
    "df.head()"
   ]
  },
  {
   "cell_type": "code",
   "execution_count": 4,
   "id": "e1c5d975",
   "metadata": {
    "execution": {
     "iopub.execute_input": "2024-07-11T05:39:40.985550Z",
     "iopub.status.busy": "2024-07-11T05:39:40.985168Z",
     "iopub.status.idle": "2024-07-11T05:39:42.251366Z",
     "shell.execute_reply": "2024-07-11T05:39:42.250276Z"
    },
    "papermill": {
     "duration": 1.279859,
     "end_time": "2024-07-11T05:39:42.254176",
     "exception": false,
     "start_time": "2024-07-11T05:39:40.974317",
     "status": "completed"
    },
    "tags": []
   },
   "outputs": [],
   "source": [
    "from sklearn.preprocessing import LabelEncoder"
   ]
  },
  {
   "cell_type": "code",
   "execution_count": 5,
   "id": "ba257a92",
   "metadata": {
    "execution": {
     "iopub.execute_input": "2024-07-11T05:39:42.276310Z",
     "iopub.status.busy": "2024-07-11T05:39:42.275450Z",
     "iopub.status.idle": "2024-07-11T05:39:42.280470Z",
     "shell.execute_reply": "2024-07-11T05:39:42.279452Z"
    },
    "papermill": {
     "duration": 0.019135,
     "end_time": "2024-07-11T05:39:42.282775",
     "exception": false,
     "start_time": "2024-07-11T05:39:42.263640",
     "status": "completed"
    },
    "tags": []
   },
   "outputs": [],
   "source": [
    "encoder = LabelEncoder()"
   ]
  },
  {
   "cell_type": "code",
   "execution_count": 6,
   "id": "1acf1d29",
   "metadata": {
    "execution": {
     "iopub.execute_input": "2024-07-11T05:39:42.303353Z",
     "iopub.status.busy": "2024-07-11T05:39:42.302759Z",
     "iopub.status.idle": "2024-07-11T05:39:42.309200Z",
     "shell.execute_reply": "2024-07-11T05:39:42.308041Z"
    },
    "papermill": {
     "duration": 0.019553,
     "end_time": "2024-07-11T05:39:42.311579",
     "exception": false,
     "start_time": "2024-07-11T05:39:42.292026",
     "status": "completed"
    },
    "tags": []
   },
   "outputs": [],
   "source": [
    "df['species'] = encoder.fit_transform(df['species'])"
   ]
  },
  {
   "cell_type": "code",
   "execution_count": 7,
   "id": "21017a31",
   "metadata": {
    "execution": {
     "iopub.execute_input": "2024-07-11T05:39:42.331635Z",
     "iopub.status.busy": "2024-07-11T05:39:42.331233Z",
     "iopub.status.idle": "2024-07-11T05:39:42.344978Z",
     "shell.execute_reply": "2024-07-11T05:39:42.343869Z"
    },
    "papermill": {
     "duration": 0.026589,
     "end_time": "2024-07-11T05:39:42.347353",
     "exception": false,
     "start_time": "2024-07-11T05:39:42.320764",
     "status": "completed"
    },
    "tags": []
   },
   "outputs": [
    {
     "data": {
      "text/html": [
       "<div>\n",
       "<style scoped>\n",
       "    .dataframe tbody tr th:only-of-type {\n",
       "        vertical-align: middle;\n",
       "    }\n",
       "\n",
       "    .dataframe tbody tr th {\n",
       "        vertical-align: top;\n",
       "    }\n",
       "\n",
       "    .dataframe thead th {\n",
       "        text-align: right;\n",
       "    }\n",
       "</style>\n",
       "<table border=\"1\" class=\"dataframe\">\n",
       "  <thead>\n",
       "    <tr style=\"text-align: right;\">\n",
       "      <th></th>\n",
       "      <th>sepal_length</th>\n",
       "      <th>sepal_width</th>\n",
       "      <th>petal_length</th>\n",
       "      <th>petal_width</th>\n",
       "      <th>species</th>\n",
       "    </tr>\n",
       "  </thead>\n",
       "  <tbody>\n",
       "    <tr>\n",
       "      <th>0</th>\n",
       "      <td>5.1</td>\n",
       "      <td>3.5</td>\n",
       "      <td>1.4</td>\n",
       "      <td>0.2</td>\n",
       "      <td>0</td>\n",
       "    </tr>\n",
       "    <tr>\n",
       "      <th>1</th>\n",
       "      <td>4.9</td>\n",
       "      <td>3.0</td>\n",
       "      <td>1.4</td>\n",
       "      <td>0.2</td>\n",
       "      <td>0</td>\n",
       "    </tr>\n",
       "    <tr>\n",
       "      <th>2</th>\n",
       "      <td>4.7</td>\n",
       "      <td>3.2</td>\n",
       "      <td>1.3</td>\n",
       "      <td>0.2</td>\n",
       "      <td>0</td>\n",
       "    </tr>\n",
       "    <tr>\n",
       "      <th>3</th>\n",
       "      <td>4.6</td>\n",
       "      <td>3.1</td>\n",
       "      <td>1.5</td>\n",
       "      <td>0.2</td>\n",
       "      <td>0</td>\n",
       "    </tr>\n",
       "    <tr>\n",
       "      <th>4</th>\n",
       "      <td>5.0</td>\n",
       "      <td>3.6</td>\n",
       "      <td>1.4</td>\n",
       "      <td>0.2</td>\n",
       "      <td>0</td>\n",
       "    </tr>\n",
       "  </tbody>\n",
       "</table>\n",
       "</div>"
      ],
      "text/plain": [
       "   sepal_length  sepal_width  petal_length  petal_width  species\n",
       "0           5.1          3.5           1.4          0.2        0\n",
       "1           4.9          3.0           1.4          0.2        0\n",
       "2           4.7          3.2           1.3          0.2        0\n",
       "3           4.6          3.1           1.5          0.2        0\n",
       "4           5.0          3.6           1.4          0.2        0"
      ]
     },
     "execution_count": 7,
     "metadata": {},
     "output_type": "execute_result"
    }
   ],
   "source": [
    "df.head()"
   ]
  },
  {
   "cell_type": "code",
   "execution_count": 8,
   "id": "dd4df6d4",
   "metadata": {
    "execution": {
     "iopub.execute_input": "2024-07-11T05:39:42.368215Z",
     "iopub.status.busy": "2024-07-11T05:39:42.367591Z",
     "iopub.status.idle": "2024-07-11T05:39:42.776356Z",
     "shell.execute_reply": "2024-07-11T05:39:42.775224Z"
    },
    "papermill": {
     "duration": 0.422171,
     "end_time": "2024-07-11T05:39:42.778949",
     "exception": false,
     "start_time": "2024-07-11T05:39:42.356778",
     "status": "completed"
    },
    "tags": []
   },
   "outputs": [],
   "source": [
    "import seaborn as sns\n",
    "import matplotlib.pyplot as plt"
   ]
  },
  {
   "cell_type": "code",
   "execution_count": 9,
   "id": "2edf103c",
   "metadata": {
    "execution": {
     "iopub.execute_input": "2024-07-11T05:39:42.799685Z",
     "iopub.status.busy": "2024-07-11T05:39:42.799301Z",
     "iopub.status.idle": "2024-07-11T05:39:42.813332Z",
     "shell.execute_reply": "2024-07-11T05:39:42.812359Z"
    },
    "papermill": {
     "duration": 0.026856,
     "end_time": "2024-07-11T05:39:42.815453",
     "exception": false,
     "start_time": "2024-07-11T05:39:42.788597",
     "status": "completed"
    },
    "tags": []
   },
   "outputs": [],
   "source": [
    "df = df[df['species'] != 0][['sepal_width','petal_length','species']]"
   ]
  },
  {
   "cell_type": "code",
   "execution_count": 10,
   "id": "09cf0a92",
   "metadata": {
    "execution": {
     "iopub.execute_input": "2024-07-11T05:39:42.837670Z",
     "iopub.status.busy": "2024-07-11T05:39:42.836360Z",
     "iopub.status.idle": "2024-07-11T05:39:42.848538Z",
     "shell.execute_reply": "2024-07-11T05:39:42.847331Z"
    },
    "papermill": {
     "duration": 0.025935,
     "end_time": "2024-07-11T05:39:42.850898",
     "exception": false,
     "start_time": "2024-07-11T05:39:42.824963",
     "status": "completed"
    },
    "tags": []
   },
   "outputs": [
    {
     "data": {
      "text/html": [
       "<div>\n",
       "<style scoped>\n",
       "    .dataframe tbody tr th:only-of-type {\n",
       "        vertical-align: middle;\n",
       "    }\n",
       "\n",
       "    .dataframe tbody tr th {\n",
       "        vertical-align: top;\n",
       "    }\n",
       "\n",
       "    .dataframe thead th {\n",
       "        text-align: right;\n",
       "    }\n",
       "</style>\n",
       "<table border=\"1\" class=\"dataframe\">\n",
       "  <thead>\n",
       "    <tr style=\"text-align: right;\">\n",
       "      <th></th>\n",
       "      <th>sepal_width</th>\n",
       "      <th>petal_length</th>\n",
       "      <th>species</th>\n",
       "    </tr>\n",
       "  </thead>\n",
       "  <tbody>\n",
       "    <tr>\n",
       "      <th>50</th>\n",
       "      <td>3.2</td>\n",
       "      <td>4.7</td>\n",
       "      <td>1</td>\n",
       "    </tr>\n",
       "    <tr>\n",
       "      <th>51</th>\n",
       "      <td>3.2</td>\n",
       "      <td>4.5</td>\n",
       "      <td>1</td>\n",
       "    </tr>\n",
       "    <tr>\n",
       "      <th>52</th>\n",
       "      <td>3.1</td>\n",
       "      <td>4.9</td>\n",
       "      <td>1</td>\n",
       "    </tr>\n",
       "    <tr>\n",
       "      <th>53</th>\n",
       "      <td>2.3</td>\n",
       "      <td>4.0</td>\n",
       "      <td>1</td>\n",
       "    </tr>\n",
       "    <tr>\n",
       "      <th>54</th>\n",
       "      <td>2.8</td>\n",
       "      <td>4.6</td>\n",
       "      <td>1</td>\n",
       "    </tr>\n",
       "  </tbody>\n",
       "</table>\n",
       "</div>"
      ],
      "text/plain": [
       "    sepal_width  petal_length  species\n",
       "50          3.2           4.7        1\n",
       "51          3.2           4.5        1\n",
       "52          3.1           4.9        1\n",
       "53          2.3           4.0        1\n",
       "54          2.8           4.6        1"
      ]
     },
     "execution_count": 10,
     "metadata": {},
     "output_type": "execute_result"
    }
   ],
   "source": [
    "df.head()"
   ]
  },
  {
   "cell_type": "code",
   "execution_count": 11,
   "id": "11700c6d",
   "metadata": {
    "execution": {
     "iopub.execute_input": "2024-07-11T05:39:42.872477Z",
     "iopub.status.busy": "2024-07-11T05:39:42.872017Z",
     "iopub.status.idle": "2024-07-11T05:39:43.141189Z",
     "shell.execute_reply": "2024-07-11T05:39:43.140068Z"
    },
    "papermill": {
     "duration": 0.283045,
     "end_time": "2024-07-11T05:39:43.143954",
     "exception": false,
     "start_time": "2024-07-11T05:39:42.860909",
     "status": "completed"
    },
    "tags": []
   },
   "outputs": [
    {
     "data": {
      "text/plain": [
       "<matplotlib.collections.PathCollection at 0x7dbc8c837010>"
      ]
     },
     "execution_count": 11,
     "metadata": {},
     "output_type": "execute_result"
    },
    {
     "data": {
      "image/png": "[encoded data removed]",
      "text/plain": [
       "<Figure size 640x480 with 1 Axes>"
      ]
     },
     "metadata": {},
     "output_type": "display_data"
    }
   ],
   "source": [
    "plt.scatter(df['sepal_width'],df['petal_length'],c=df['species'],cmap='winter')"
   ]
  },
  {
   "cell_type": "code",
   "execution_count": 12,
   "id": "66b4cdc2",
   "metadata": {
    "execution": {
     "iopub.execute_input": "2024-07-11T05:39:43.166892Z",
     "iopub.status.busy": "2024-07-11T05:39:43.166477Z",
     "iopub.status.idle": "2024-07-11T05:39:43.176379Z",
     "shell.execute_reply": "2024-07-11T05:39:43.175242Z"
    },
    "papermill": {
     "duration": 0.023872,
     "end_time": "2024-07-11T05:39:43.178575",
     "exception": false,
     "start_time": "2024-07-11T05:39:43.154703",
     "status": "completed"
    },
    "tags": []
   },
   "outputs": [],
   "source": [
    "# Taking only 10 rows for training\n",
    "df = df.sample(100)\n",
    "df_train = df.iloc[:60,:].sample(10)\n",
    "df_val = df.iloc[60:80,:].sample(5)\n",
    "df_test = df.iloc[80:,:].sample(5)"
   ]
  },
  {
   "cell_type": "code",
   "execution_count": 13,
   "id": "a71d326b",
   "metadata": {
    "execution": {
     "iopub.execute_input": "2024-07-11T05:39:43.200934Z",
     "iopub.status.busy": "2024-07-11T05:39:43.200520Z",
     "iopub.status.idle": "2024-07-11T05:39:43.213581Z",
     "shell.execute_reply": "2024-07-11T05:39:43.212393Z"
    },
    "papermill": {
     "duration": 0.027078,
     "end_time": "2024-07-11T05:39:43.215918",
     "exception": false,
     "start_time": "2024-07-11T05:39:43.188840",
     "status": "completed"
    },
    "tags": []
   },
   "outputs": [
    {
     "data": {
      "text/html": [
       "<div>\n",
       "<style scoped>\n",
       "    .dataframe tbody tr th:only-of-type {\n",
       "        vertical-align: middle;\n",
       "    }\n",
       "\n",
       "    .dataframe tbody tr th {\n",
       "        vertical-align: top;\n",
       "    }\n",
       "\n",
       "    .dataframe thead th {\n",
       "        text-align: right;\n",
       "    }\n",
       "</style>\n",
       "<table border=\"1\" class=\"dataframe\">\n",
       "  <thead>\n",
       "    <tr style=\"text-align: right;\">\n",
       "      <th></th>\n",
       "      <th>sepal_width</th>\n",
       "      <th>petal_length</th>\n",
       "      <th>species</th>\n",
       "    </tr>\n",
       "  </thead>\n",
       "  <tbody>\n",
       "    <tr>\n",
       "      <th>60</th>\n",
       "      <td>2.0</td>\n",
       "      <td>3.5</td>\n",
       "      <td>1</td>\n",
       "    </tr>\n",
       "    <tr>\n",
       "      <th>144</th>\n",
       "      <td>3.3</td>\n",
       "      <td>5.7</td>\n",
       "      <td>2</td>\n",
       "    </tr>\n",
       "    <tr>\n",
       "      <th>101</th>\n",
       "      <td>2.7</td>\n",
       "      <td>5.1</td>\n",
       "      <td>2</td>\n",
       "    </tr>\n",
       "    <tr>\n",
       "      <th>134</th>\n",
       "      <td>2.6</td>\n",
       "      <td>5.6</td>\n",
       "      <td>2</td>\n",
       "    </tr>\n",
       "    <tr>\n",
       "      <th>119</th>\n",
       "      <td>2.2</td>\n",
       "      <td>5.0</td>\n",
       "      <td>2</td>\n",
       "    </tr>\n",
       "    <tr>\n",
       "      <th>114</th>\n",
       "      <td>2.8</td>\n",
       "      <td>5.1</td>\n",
       "      <td>2</td>\n",
       "    </tr>\n",
       "    <tr>\n",
       "      <th>102</th>\n",
       "      <td>3.0</td>\n",
       "      <td>5.9</td>\n",
       "      <td>2</td>\n",
       "    </tr>\n",
       "    <tr>\n",
       "      <th>120</th>\n",
       "      <td>3.2</td>\n",
       "      <td>5.7</td>\n",
       "      <td>2</td>\n",
       "    </tr>\n",
       "    <tr>\n",
       "      <th>107</th>\n",
       "      <td>2.9</td>\n",
       "      <td>6.3</td>\n",
       "      <td>2</td>\n",
       "    </tr>\n",
       "    <tr>\n",
       "      <th>50</th>\n",
       "      <td>3.2</td>\n",
       "      <td>4.7</td>\n",
       "      <td>1</td>\n",
       "    </tr>\n",
       "  </tbody>\n",
       "</table>\n",
       "</div>"
      ],
      "text/plain": [
       "     sepal_width  petal_length  species\n",
       "60           2.0           3.5        1\n",
       "144          3.3           5.7        2\n",
       "101          2.7           5.1        2\n",
       "134          2.6           5.6        2\n",
       "119          2.2           5.0        2\n",
       "114          2.8           5.1        2\n",
       "102          3.0           5.9        2\n",
       "120          3.2           5.7        2\n",
       "107          2.9           6.3        2\n",
       "50           3.2           4.7        1"
      ]
     },
     "execution_count": 13,
     "metadata": {},
     "output_type": "execute_result"
    }
   ],
   "source": [
    "df_train"
   ]
  },
  {
   "cell_type": "code",
   "execution_count": 14,
   "id": "7aa92460",
   "metadata": {
    "execution": {
     "iopub.execute_input": "2024-07-11T05:39:43.239631Z",
     "iopub.status.busy": "2024-07-11T05:39:43.238767Z",
     "iopub.status.idle": "2024-07-11T05:39:43.249922Z",
     "shell.execute_reply": "2024-07-11T05:39:43.248789Z"
    },
    "papermill": {
     "duration": 0.025801,
     "end_time": "2024-07-11T05:39:43.252222",
     "exception": false,
     "start_time": "2024-07-11T05:39:43.226421",
     "status": "completed"
    },
    "tags": []
   },
   "outputs": [
    {
     "data": {
      "text/html": [
       "<div>\n",
       "<style scoped>\n",
       "    .dataframe tbody tr th:only-of-type {\n",
       "        vertical-align: middle;\n",
       "    }\n",
       "\n",
       "    .dataframe tbody tr th {\n",
       "        vertical-align: top;\n",
       "    }\n",
       "\n",
       "    .dataframe thead th {\n",
       "        text-align: right;\n",
       "    }\n",
       "</style>\n",
       "<table border=\"1\" class=\"dataframe\">\n",
       "  <thead>\n",
       "    <tr style=\"text-align: right;\">\n",
       "      <th></th>\n",
       "      <th>sepal_width</th>\n",
       "      <th>petal_length</th>\n",
       "      <th>species</th>\n",
       "    </tr>\n",
       "  </thead>\n",
       "  <tbody>\n",
       "    <tr>\n",
       "      <th>131</th>\n",
       "      <td>3.8</td>\n",
       "      <td>6.4</td>\n",
       "      <td>2</td>\n",
       "    </tr>\n",
       "    <tr>\n",
       "      <th>55</th>\n",
       "      <td>2.8</td>\n",
       "      <td>4.5</td>\n",
       "      <td>1</td>\n",
       "    </tr>\n",
       "    <tr>\n",
       "      <th>92</th>\n",
       "      <td>2.6</td>\n",
       "      <td>4.0</td>\n",
       "      <td>1</td>\n",
       "    </tr>\n",
       "    <tr>\n",
       "      <th>54</th>\n",
       "      <td>2.8</td>\n",
       "      <td>4.6</td>\n",
       "      <td>1</td>\n",
       "    </tr>\n",
       "    <tr>\n",
       "      <th>63</th>\n",
       "      <td>2.9</td>\n",
       "      <td>4.7</td>\n",
       "      <td>1</td>\n",
       "    </tr>\n",
       "  </tbody>\n",
       "</table>\n",
       "</div>"
      ],
      "text/plain": [
       "     sepal_width  petal_length  species\n",
       "131          3.8           6.4        2\n",
       "55           2.8           4.5        1\n",
       "92           2.6           4.0        1\n",
       "54           2.8           4.6        1\n",
       "63           2.9           4.7        1"
      ]
     },
     "execution_count": 14,
     "metadata": {},
     "output_type": "execute_result"
    }
   ],
   "source": [
    "df_val"
   ]
  },
  {
   "cell_type": "code",
   "execution_count": 15,
   "id": "e0eac498",
   "metadata": {
    "execution": {
     "iopub.execute_input": "2024-07-11T05:39:43.275422Z",
     "iopub.status.busy": "2024-07-11T05:39:43.274993Z",
     "iopub.status.idle": "2024-07-11T05:39:43.287009Z",
     "shell.execute_reply": "2024-07-11T05:39:43.285908Z"
    },
    "papermill": {
     "duration": 0.026209,
     "end_time": "2024-07-11T05:39:43.289330",
     "exception": false,
     "start_time": "2024-07-11T05:39:43.263121",
     "status": "completed"
    },
    "tags": []
   },
   "outputs": [
    {
     "data": {
      "text/html": [
       "<div>\n",
       "<style scoped>\n",
       "    .dataframe tbody tr th:only-of-type {\n",
       "        vertical-align: middle;\n",
       "    }\n",
       "\n",
       "    .dataframe tbody tr th {\n",
       "        vertical-align: top;\n",
       "    }\n",
       "\n",
       "    .dataframe thead th {\n",
       "        text-align: right;\n",
       "    }\n",
       "</style>\n",
       "<table border=\"1\" class=\"dataframe\">\n",
       "  <thead>\n",
       "    <tr style=\"text-align: right;\">\n",
       "      <th></th>\n",
       "      <th>sepal_width</th>\n",
       "      <th>petal_length</th>\n",
       "      <th>species</th>\n",
       "    </tr>\n",
       "  </thead>\n",
       "  <tbody>\n",
       "    <tr>\n",
       "      <th>70</th>\n",
       "      <td>3.2</td>\n",
       "      <td>4.8</td>\n",
       "      <td>1</td>\n",
       "    </tr>\n",
       "    <tr>\n",
       "      <th>116</th>\n",
       "      <td>3.0</td>\n",
       "      <td>5.5</td>\n",
       "      <td>2</td>\n",
       "    </tr>\n",
       "    <tr>\n",
       "      <th>90</th>\n",
       "      <td>2.6</td>\n",
       "      <td>4.4</td>\n",
       "      <td>1</td>\n",
       "    </tr>\n",
       "    <tr>\n",
       "      <th>115</th>\n",
       "      <td>3.2</td>\n",
       "      <td>5.3</td>\n",
       "      <td>2</td>\n",
       "    </tr>\n",
       "    <tr>\n",
       "      <th>76</th>\n",
       "      <td>2.8</td>\n",
       "      <td>4.8</td>\n",
       "      <td>1</td>\n",
       "    </tr>\n",
       "  </tbody>\n",
       "</table>\n",
       "</div>"
      ],
      "text/plain": [
       "     sepal_width  petal_length  species\n",
       "70           3.2           4.8        1\n",
       "116          3.0           5.5        2\n",
       "90           2.6           4.4        1\n",
       "115          3.2           5.3        2\n",
       "76           2.8           4.8        1"
      ]
     },
     "execution_count": 15,
     "metadata": {},
     "output_type": "execute_result"
    }
   ],
   "source": [
    "df_test"
   ]
  },
  {
   "cell_type": "code",
   "execution_count": 16,
   "id": "de437c08",
   "metadata": {
    "execution": {
     "iopub.execute_input": "2024-07-11T05:39:43.312938Z",
     "iopub.status.busy": "2024-07-11T05:39:43.312150Z",
     "iopub.status.idle": "2024-07-11T05:39:43.318177Z",
     "shell.execute_reply": "2024-07-11T05:39:43.317065Z"
    },
    "papermill": {
     "duration": 0.020265,
     "end_time": "2024-07-11T05:39:43.320487",
     "exception": false,
     "start_time": "2024-07-11T05:39:43.300222",
     "status": "completed"
    },
    "tags": []
   },
   "outputs": [],
   "source": [
    "X_test = df_val.iloc[:,0:2].values\n",
    "y_test = df_val.iloc[:,-1].values"
   ]
  },
  {
   "cell_type": "code",
   "execution_count": 17,
   "id": "0d87ff93",
   "metadata": {
    "execution": {
     "iopub.execute_input": "2024-07-11T05:39:43.344085Z",
     "iopub.status.busy": "2024-07-11T05:39:43.343241Z",
     "iopub.status.idle": "2024-07-11T05:39:43.350490Z",
     "shell.execute_reply": "2024-07-11T05:39:43.349301Z"
    },
    "papermill": {
     "duration": 0.021449,
     "end_time": "2024-07-11T05:39:43.352808",
     "exception": false,
     "start_time": "2024-07-11T05:39:43.331359",
     "status": "completed"
    },
    "tags": []
   },
   "outputs": [
    {
     "data": {
      "text/plain": [
       "array([[3.8, 6.4],\n",
       "       [2.8, 4.5],\n",
       "       [2.6, 4. ],\n",
       "       [2.8, 4.6],\n",
       "       [2.9, 4.7]])"
      ]
     },
     "execution_count": 17,
     "metadata": {},
     "output_type": "execute_result"
    }
   ],
   "source": [
    "X_test"
   ]
  },
  {
   "cell_type": "code",
   "execution_count": 18,
   "id": "7112ee02",
   "metadata": {
    "execution": {
     "iopub.execute_input": "2024-07-11T05:39:43.377377Z",
     "iopub.status.busy": "2024-07-11T05:39:43.376359Z",
     "iopub.status.idle": "2024-07-11T05:39:43.383229Z",
     "shell.execute_reply": "2024-07-11T05:39:43.382191Z"
    },
    "papermill": {
     "duration": 0.021653,
     "end_time": "2024-07-11T05:39:43.385521",
     "exception": false,
     "start_time": "2024-07-11T05:39:43.363868",
     "status": "completed"
    },
    "tags": []
   },
   "outputs": [
    {
     "data": {
      "text/plain": [
       "array([2, 1, 1, 1, 1])"
      ]
     },
     "execution_count": 18,
     "metadata": {},
     "output_type": "execute_result"
    }
   ],
   "source": [
    "y_test"
   ]
  },
  {
   "cell_type": "markdown",
   "id": "da30c9d6",
   "metadata": {
    "papermill": {
     "duration": 0.011081,
     "end_time": "2024-07-11T05:39:43.407754",
     "exception": false,
     "start_time": "2024-07-11T05:39:43.396673",
     "status": "completed"
    },
    "tags": []
   },
   "source": [
    "# ***Case 1 - Bagging***"
   ]
  },
  {
   "cell_type": "code",
   "execution_count": 19,
   "id": "45492464",
   "metadata": {
    "execution": {
     "iopub.execute_input": "2024-07-11T05:39:43.432525Z",
     "iopub.status.busy": "2024-07-11T05:39:43.432077Z",
     "iopub.status.idle": "2024-07-11T05:39:43.446657Z",
     "shell.execute_reply": "2024-07-11T05:39:43.445374Z"
    },
    "papermill": {
     "duration": 0.030228,
     "end_time": "2024-07-11T05:39:43.449332",
     "exception": false,
     "start_time": "2024-07-11T05:39:43.419104",
     "status": "completed"
    },
    "tags": []
   },
   "outputs": [
    {
     "data": {
      "text/html": [
       "<div>\n",
       "<style scoped>\n",
       "    .dataframe tbody tr th:only-of-type {\n",
       "        vertical-align: middle;\n",
       "    }\n",
       "\n",
       "    .dataframe tbody tr th {\n",
       "        vertical-align: top;\n",
       "    }\n",
       "\n",
       "    .dataframe thead th {\n",
       "        text-align: right;\n",
       "    }\n",
       "</style>\n",
       "<table border=\"1\" class=\"dataframe\">\n",
       "  <thead>\n",
       "    <tr style=\"text-align: right;\">\n",
       "      <th></th>\n",
       "      <th>sepal_width</th>\n",
       "      <th>petal_length</th>\n",
       "      <th>species</th>\n",
       "    </tr>\n",
       "  </thead>\n",
       "  <tbody>\n",
       "    <tr>\n",
       "      <th>102</th>\n",
       "      <td>3.0</td>\n",
       "      <td>5.9</td>\n",
       "      <td>2</td>\n",
       "    </tr>\n",
       "    <tr>\n",
       "      <th>120</th>\n",
       "      <td>3.2</td>\n",
       "      <td>5.7</td>\n",
       "      <td>2</td>\n",
       "    </tr>\n",
       "    <tr>\n",
       "      <th>120</th>\n",
       "      <td>3.2</td>\n",
       "      <td>5.7</td>\n",
       "      <td>2</td>\n",
       "    </tr>\n",
       "    <tr>\n",
       "      <th>102</th>\n",
       "      <td>3.0</td>\n",
       "      <td>5.9</td>\n",
       "      <td>2</td>\n",
       "    </tr>\n",
       "    <tr>\n",
       "      <th>134</th>\n",
       "      <td>2.6</td>\n",
       "      <td>5.6</td>\n",
       "      <td>2</td>\n",
       "    </tr>\n",
       "    <tr>\n",
       "      <th>144</th>\n",
       "      <td>3.3</td>\n",
       "      <td>5.7</td>\n",
       "      <td>2</td>\n",
       "    </tr>\n",
       "    <tr>\n",
       "      <th>119</th>\n",
       "      <td>2.2</td>\n",
       "      <td>5.0</td>\n",
       "      <td>2</td>\n",
       "    </tr>\n",
       "    <tr>\n",
       "      <th>120</th>\n",
       "      <td>3.2</td>\n",
       "      <td>5.7</td>\n",
       "      <td>2</td>\n",
       "    </tr>\n",
       "  </tbody>\n",
       "</table>\n",
       "</div>"
      ],
      "text/plain": [
       "     sepal_width  petal_length  species\n",
       "102          3.0           5.9        2\n",
       "120          3.2           5.7        2\n",
       "120          3.2           5.7        2\n",
       "102          3.0           5.9        2\n",
       "134          2.6           5.6        2\n",
       "144          3.3           5.7        2\n",
       "119          2.2           5.0        2\n",
       "120          3.2           5.7        2"
      ]
     },
     "execution_count": 19,
     "metadata": {},
     "output_type": "execute_result"
    }
   ],
   "source": [
    "# Data for Tree 1\n",
    "df_bag = df_train.sample(8,replace=True)\n",
    "\n",
    "X = df_bag.iloc[:,0:2]\n",
    "y = df_bag.iloc[:,-1]\n",
    "\n",
    "df_bag"
   ]
  },
  {
   "cell_type": "code",
   "execution_count": 20,
   "id": "e13c7657",
   "metadata": {
    "execution": {
     "iopub.execute_input": "2024-07-11T05:39:43.474084Z",
     "iopub.status.busy": "2024-07-11T05:39:43.473713Z",
     "iopub.status.idle": "2024-07-11T05:39:43.829387Z",
     "shell.execute_reply": "2024-07-11T05:39:43.828294Z"
    },
    "papermill": {
     "duration": 0.371383,
     "end_time": "2024-07-11T05:39:43.832065",
     "exception": false,
     "start_time": "2024-07-11T05:39:43.460682",
     "status": "completed"
    },
    "tags": []
   },
   "outputs": [],
   "source": [
    "from sklearn.tree import DecisionTreeClassifier\n",
    "from sklearn.tree import plot_tree\n",
    "from mlxtend.plotting import plot_decision_regions\n",
    "from sklearn.metrics import accuracy_score"
   ]
  },
  {
   "cell_type": "code",
   "execution_count": 21,
   "id": "2d35995d",
   "metadata": {
    "execution": {
     "iopub.execute_input": "2024-07-11T05:39:43.856788Z",
     "iopub.status.busy": "2024-07-11T05:39:43.856387Z",
     "iopub.status.idle": "2024-07-11T05:39:43.861570Z",
     "shell.execute_reply": "2024-07-11T05:39:43.860496Z"
    },
    "papermill": {
     "duration": 0.019995,
     "end_time": "2024-07-11T05:39:43.863615",
     "exception": false,
     "start_time": "2024-07-11T05:39:43.843620",
     "status": "completed"
    },
    "tags": []
   },
   "outputs": [],
   "source": [
    "dt_bag1 = DecisionTreeClassifier()"
   ]
  },
  {
   "cell_type": "code",
   "execution_count": 22,
   "id": "7ab86d18",
   "metadata": {
    "execution": {
     "iopub.execute_input": "2024-07-11T05:39:43.888206Z",
     "iopub.status.busy": "2024-07-11T05:39:43.887759Z",
     "iopub.status.idle": "2024-07-11T05:39:43.894082Z",
     "shell.execute_reply": "2024-07-11T05:39:43.892881Z"
    },
    "papermill": {
     "duration": 0.02159,
     "end_time": "2024-07-11T05:39:43.896395",
     "exception": false,
     "start_time": "2024-07-11T05:39:43.874805",
     "status": "completed"
    },
    "tags": []
   },
   "outputs": [],
   "source": [
    "def evaluate(clf,X,y):\n",
    "    clf.fit(X,y)\n",
    "    plot_tree(clf)\n",
    "    plt.show()\n",
    "    plot_decision_regions(X.values, y.values, clf=clf, legend=2)\n",
    "    y_pred = clf.predict(X_test)\n",
    "    print(accuracy_score(y_test,y_pred))"
   ]
  },
  {
   "cell_type": "code",
   "execution_count": 23,
   "id": "28dc88da",
   "metadata": {
    "execution": {
     "iopub.execute_input": "2024-07-11T05:39:43.922120Z",
     "iopub.status.busy": "2024-07-11T05:39:43.921095Z",
     "iopub.status.idle": "2024-07-11T05:39:44.419622Z",
     "shell.execute_reply": "2024-07-11T05:39:44.418367Z"
    },
    "papermill": {
     "duration": 0.513833,
     "end_time": "2024-07-11T05:39:44.422219",
     "exception": false,
     "start_time": "2024-07-11T05:39:43.908386",
     "status": "completed"
    },
    "tags": []
   },
   "outputs": [
    {
     "data": {
      "image/png": "[encoded data removed]",
      "text/plain": [
       "<Figure size 640x480 with 1 Axes>"
      ]
     },
     "metadata": {},
     "output_type": "display_data"
    },
    {
     "name": "stderr",
     "output_type": "stream",
     "text": [
      "/opt/conda/lib/python3.10/site-packages/sklearn/base.py:439: UserWarning: X does not have valid feature names, but DecisionTreeClassifier was fitted with feature names\n",
      "  warnings.warn(\n",
      "/opt/conda/lib/python3.10/site-packages/sklearn/base.py:439: UserWarning: X does not have valid feature names, but DecisionTreeClassifier was fitted with feature names\n",
      "  warnings.warn(\n"
     ]
    },
    {
     "name": "stdout",
     "output_type": "stream",
     "text": [
      "0.2\n"
     ]
    },
    {
     "data": {
      "image/png": "[encoded data removed]",
      "text/plain": [
       "<Figure size 640x480 with 1 Axes>"
      ]
     },
     "metadata": {},
     "output_type": "display_data"
    }
   ],
   "source": [
    "evaluate(dt_bag1,X,y)"
   ]
  },
  {
   "cell_type": "code",
   "execution_count": 24,
   "id": "e13c19e4",
   "metadata": {
    "execution": {
     "iopub.execute_input": "2024-07-11T05:39:44.449082Z",
     "iopub.status.busy": "2024-07-11T05:39:44.448665Z",
     "iopub.status.idle": "2024-07-11T05:39:44.463174Z",
     "shell.execute_reply": "2024-07-11T05:39:44.461889Z"
    },
    "papermill": {
     "duration": 0.031142,
     "end_time": "2024-07-11T05:39:44.465816",
     "exception": false,
     "start_time": "2024-07-11T05:39:44.434674",
     "status": "completed"
    },
    "tags": []
   },
   "outputs": [
    {
     "data": {
      "text/html": [
       "<div>\n",
       "<style scoped>\n",
       "    .dataframe tbody tr th:only-of-type {\n",
       "        vertical-align: middle;\n",
       "    }\n",
       "\n",
       "    .dataframe tbody tr th {\n",
       "        vertical-align: top;\n",
       "    }\n",
       "\n",
       "    .dataframe thead th {\n",
       "        text-align: right;\n",
       "    }\n",
       "</style>\n",
       "<table border=\"1\" class=\"dataframe\">\n",
       "  <thead>\n",
       "    <tr style=\"text-align: right;\">\n",
       "      <th></th>\n",
       "      <th>sepal_width</th>\n",
       "      <th>petal_length</th>\n",
       "      <th>species</th>\n",
       "    </tr>\n",
       "  </thead>\n",
       "  <tbody>\n",
       "    <tr>\n",
       "      <th>114</th>\n",
       "      <td>2.8</td>\n",
       "      <td>5.1</td>\n",
       "      <td>2</td>\n",
       "    </tr>\n",
       "    <tr>\n",
       "      <th>119</th>\n",
       "      <td>2.2</td>\n",
       "      <td>5.0</td>\n",
       "      <td>2</td>\n",
       "    </tr>\n",
       "    <tr>\n",
       "      <th>144</th>\n",
       "      <td>3.3</td>\n",
       "      <td>5.7</td>\n",
       "      <td>2</td>\n",
       "    </tr>\n",
       "    <tr>\n",
       "      <th>102</th>\n",
       "      <td>3.0</td>\n",
       "      <td>5.9</td>\n",
       "      <td>2</td>\n",
       "    </tr>\n",
       "    <tr>\n",
       "      <th>60</th>\n",
       "      <td>2.0</td>\n",
       "      <td>3.5</td>\n",
       "      <td>1</td>\n",
       "    </tr>\n",
       "    <tr>\n",
       "      <th>50</th>\n",
       "      <td>3.2</td>\n",
       "      <td>4.7</td>\n",
       "      <td>1</td>\n",
       "    </tr>\n",
       "    <tr>\n",
       "      <th>119</th>\n",
       "      <td>2.2</td>\n",
       "      <td>5.0</td>\n",
       "      <td>2</td>\n",
       "    </tr>\n",
       "    <tr>\n",
       "      <th>107</th>\n",
       "      <td>2.9</td>\n",
       "      <td>6.3</td>\n",
       "      <td>2</td>\n",
       "    </tr>\n",
       "  </tbody>\n",
       "</table>\n",
       "</div>"
      ],
      "text/plain": [
       "     sepal_width  petal_length  species\n",
       "114          2.8           5.1        2\n",
       "119          2.2           5.0        2\n",
       "144          3.3           5.7        2\n",
       "102          3.0           5.9        2\n",
       "60           2.0           3.5        1\n",
       "50           3.2           4.7        1\n",
       "119          2.2           5.0        2\n",
       "107          2.9           6.3        2"
      ]
     },
     "execution_count": 24,
     "metadata": {},
     "output_type": "execute_result"
    }
   ],
   "source": [
    "# Data for Tree 2\n",
    "df_bag = df_train.sample(8,replace=True)\n",
    "\n",
    "# Fetch X and y\n",
    "X = df_bag.iloc[:,0:2]\n",
    "y = df_bag.iloc[:,-1]\n",
    "\n",
    "# print df_bag\n",
    "df_bag"
   ]
  },
  {
   "cell_type": "code",
   "execution_count": 25,
   "id": "15369dbc",
   "metadata": {
    "execution": {
     "iopub.execute_input": "2024-07-11T05:39:44.492338Z",
     "iopub.status.busy": "2024-07-11T05:39:44.491846Z",
     "iopub.status.idle": "2024-07-11T05:39:45.053502Z",
     "shell.execute_reply": "2024-07-11T05:39:45.052346Z"
    },
    "papermill": {
     "duration": 0.577589,
     "end_time": "2024-07-11T05:39:45.055805",
     "exception": false,
     "start_time": "2024-07-11T05:39:44.478216",
     "status": "completed"
    },
    "tags": []
   },
   "outputs": [
    {
     "data": {
      "image/png": "[encoded data removed]",
      "text/plain": [
       "<Figure size 640x480 with 1 Axes>"
      ]
     },
     "metadata": {},
     "output_type": "display_data"
    },
    {
     "name": "stderr",
     "output_type": "stream",
     "text": [
      "/opt/conda/lib/python3.10/site-packages/sklearn/base.py:439: UserWarning: X does not have valid feature names, but DecisionTreeClassifier was fitted with feature names\n",
      "  warnings.warn(\n",
      "/opt/conda/lib/python3.10/site-packages/sklearn/base.py:439: UserWarning: X does not have valid feature names, but DecisionTreeClassifier was fitted with feature names\n",
      "  warnings.warn(\n"
     ]
    },
    {
     "name": "stdout",
     "output_type": "stream",
     "text": [
      "1.0\n"
     ]
    },
    {
     "data": {
      "image/png": "[encoded data removed]",
      "text/plain": [
       "<Figure size 640x480 with 1 Axes>"
      ]
     },
     "metadata": {},
     "output_type": "display_data"
    }
   ],
   "source": [
    "dt_bag2 = DecisionTreeClassifier()\n",
    "evaluate(dt_bag2,X,y)"
   ]
  },
  {
   "cell_type": "code",
   "execution_count": 26,
   "id": "bc0d53a0",
   "metadata": {
    "execution": {
     "iopub.execute_input": "2024-07-11T05:39:45.085781Z",
     "iopub.status.busy": "2024-07-11T05:39:45.085366Z",
     "iopub.status.idle": "2024-07-11T05:39:45.100369Z",
     "shell.execute_reply": "2024-07-11T05:39:45.099168Z"
    },
    "papermill": {
     "duration": 0.033014,
     "end_time": "2024-07-11T05:39:45.102555",
     "exception": false,
     "start_time": "2024-07-11T05:39:45.069541",
     "status": "completed"
    },
    "tags": []
   },
   "outputs": [
    {
     "data": {
      "text/html": [
       "<div>\n",
       "<style scoped>\n",
       "    .dataframe tbody tr th:only-of-type {\n",
       "        vertical-align: middle;\n",
       "    }\n",
       "\n",
       "    .dataframe tbody tr th {\n",
       "        vertical-align: top;\n",
       "    }\n",
       "\n",
       "    .dataframe thead th {\n",
       "        text-align: right;\n",
       "    }\n",
       "</style>\n",
       "<table border=\"1\" class=\"dataframe\">\n",
       "  <thead>\n",
       "    <tr style=\"text-align: right;\">\n",
       "      <th></th>\n",
       "      <th>sepal_width</th>\n",
       "      <th>petal_length</th>\n",
       "      <th>species</th>\n",
       "    </tr>\n",
       "  </thead>\n",
       "  <tbody>\n",
       "    <tr>\n",
       "      <th>120</th>\n",
       "      <td>3.2</td>\n",
       "      <td>5.7</td>\n",
       "      <td>2</td>\n",
       "    </tr>\n",
       "    <tr>\n",
       "      <th>119</th>\n",
       "      <td>2.2</td>\n",
       "      <td>5.0</td>\n",
       "      <td>2</td>\n",
       "    </tr>\n",
       "    <tr>\n",
       "      <th>107</th>\n",
       "      <td>2.9</td>\n",
       "      <td>6.3</td>\n",
       "      <td>2</td>\n",
       "    </tr>\n",
       "    <tr>\n",
       "      <th>50</th>\n",
       "      <td>3.2</td>\n",
       "      <td>4.7</td>\n",
       "      <td>1</td>\n",
       "    </tr>\n",
       "    <tr>\n",
       "      <th>107</th>\n",
       "      <td>2.9</td>\n",
       "      <td>6.3</td>\n",
       "      <td>2</td>\n",
       "    </tr>\n",
       "    <tr>\n",
       "      <th>134</th>\n",
       "      <td>2.6</td>\n",
       "      <td>5.6</td>\n",
       "      <td>2</td>\n",
       "    </tr>\n",
       "    <tr>\n",
       "      <th>101</th>\n",
       "      <td>2.7</td>\n",
       "      <td>5.1</td>\n",
       "      <td>2</td>\n",
       "    </tr>\n",
       "    <tr>\n",
       "      <th>134</th>\n",
       "      <td>2.6</td>\n",
       "      <td>5.6</td>\n",
       "      <td>2</td>\n",
       "    </tr>\n",
       "  </tbody>\n",
       "</table>\n",
       "</div>"
      ],
      "text/plain": [
       "     sepal_width  petal_length  species\n",
       "120          3.2           5.7        2\n",
       "119          2.2           5.0        2\n",
       "107          2.9           6.3        2\n",
       "50           3.2           4.7        1\n",
       "107          2.9           6.3        2\n",
       "134          2.6           5.6        2\n",
       "101          2.7           5.1        2\n",
       "134          2.6           5.6        2"
      ]
     },
     "execution_count": 26,
     "metadata": {},
     "output_type": "execute_result"
    }
   ],
   "source": [
    "# Data for Tree 3\n",
    "df_bag = df_train.sample(8,replace=True)\n",
    "\n",
    "# Fetch X and y\n",
    "X = df_bag.iloc[:,0:2]\n",
    "y = df_bag.iloc[:,-1]\n",
    "\n",
    "# print df_bag\n",
    "df_bag"
   ]
  },
  {
   "cell_type": "code",
   "execution_count": 27,
   "id": "3b2e7a72",
   "metadata": {
    "execution": {
     "iopub.execute_input": "2024-07-11T05:39:45.132205Z",
     "iopub.status.busy": "2024-07-11T05:39:45.131050Z",
     "iopub.status.idle": "2024-07-11T05:39:45.705214Z",
     "shell.execute_reply": "2024-07-11T05:39:45.703779Z"
    },
    "papermill": {
     "duration": 0.591525,
     "end_time": "2024-07-11T05:39:45.707835",
     "exception": false,
     "start_time": "2024-07-11T05:39:45.116310",
     "status": "completed"
    },
    "tags": []
   },
   "outputs": [
    {
     "data": {
      "image/png": "[encoded data removed]",
      "text/plain": [
       "<Figure size 640x480 with 1 Axes>"
      ]
     },
     "metadata": {},
     "output_type": "display_data"
    },
    {
     "name": "stderr",
     "output_type": "stream",
     "text": [
      "/opt/conda/lib/python3.10/site-packages/sklearn/base.py:439: UserWarning: X does not have valid feature names, but DecisionTreeClassifier was fitted with feature names\n",
      "  warnings.warn(\n",
      "/opt/conda/lib/python3.10/site-packages/sklearn/base.py:439: UserWarning: X does not have valid feature names, but DecisionTreeClassifier was fitted with feature names\n",
      "  warnings.warn(\n"
     ]
    },
    {
     "name": "stdout",
     "output_type": "stream",
     "text": [
      "1.0\n"
     ]
    },
    {
     "data": {
      "image/png": "[encoded data removed]",
      "text/plain": [
       "<Figure size 640x480 with 1 Axes>"
      ]
     },
     "metadata": {},
     "output_type": "display_data"
    }
   ],
   "source": [
    "dt_bag3 = DecisionTreeClassifier()\n",
    "evaluate(dt_bag3,X,y)"
   ]
  },
  {
   "cell_type": "markdown",
   "id": "c53c874d",
   "metadata": {
    "papermill": {
     "duration": 0.090649,
     "end_time": "2024-07-11T05:39:45.816607",
     "exception": false,
     "start_time": "2024-07-11T05:39:45.725958",
     "status": "completed"
    },
    "tags": []
   },
   "source": [
    "# ***Predict***"
   ]
  },
  {
   "cell_type": "code",
   "execution_count": 28,
   "id": "575dee93",
   "metadata": {
    "execution": {
     "iopub.execute_input": "2024-07-11T05:39:45.851912Z",
     "iopub.status.busy": "2024-07-11T05:39:45.850694Z",
     "iopub.status.idle": "2024-07-11T05:39:45.864731Z",
     "shell.execute_reply": "2024-07-11T05:39:45.863644Z"
    },
    "papermill": {
     "duration": 0.032392,
     "end_time": "2024-07-11T05:39:45.866959",
     "exception": false,
     "start_time": "2024-07-11T05:39:45.834567",
     "status": "completed"
    },
    "tags": []
   },
   "outputs": [
    {
     "data": {
      "text/html": [
       "<div>\n",
       "<style scoped>\n",
       "    .dataframe tbody tr th:only-of-type {\n",
       "        vertical-align: middle;\n",
       "    }\n",
       "\n",
       "    .dataframe tbody tr th {\n",
       "        vertical-align: top;\n",
       "    }\n",
       "\n",
       "    .dataframe thead th {\n",
       "        text-align: right;\n",
       "    }\n",
       "</style>\n",
       "<table border=\"1\" class=\"dataframe\">\n",
       "  <thead>\n",
       "    <tr style=\"text-align: right;\">\n",
       "      <th></th>\n",
       "      <th>sepal_width</th>\n",
       "      <th>petal_length</th>\n",
       "      <th>species</th>\n",
       "    </tr>\n",
       "  </thead>\n",
       "  <tbody>\n",
       "    <tr>\n",
       "      <th>70</th>\n",
       "      <td>3.2</td>\n",
       "      <td>4.8</td>\n",
       "      <td>1</td>\n",
       "    </tr>\n",
       "    <tr>\n",
       "      <th>116</th>\n",
       "      <td>3.0</td>\n",
       "      <td>5.5</td>\n",
       "      <td>2</td>\n",
       "    </tr>\n",
       "    <tr>\n",
       "      <th>90</th>\n",
       "      <td>2.6</td>\n",
       "      <td>4.4</td>\n",
       "      <td>1</td>\n",
       "    </tr>\n",
       "    <tr>\n",
       "      <th>115</th>\n",
       "      <td>3.2</td>\n",
       "      <td>5.3</td>\n",
       "      <td>2</td>\n",
       "    </tr>\n",
       "    <tr>\n",
       "      <th>76</th>\n",
       "      <td>2.8</td>\n",
       "      <td>4.8</td>\n",
       "      <td>1</td>\n",
       "    </tr>\n",
       "  </tbody>\n",
       "</table>\n",
       "</div>"
      ],
      "text/plain": [
       "     sepal_width  petal_length  species\n",
       "70           3.2           4.8        1\n",
       "116          3.0           5.5        2\n",
       "90           2.6           4.4        1\n",
       "115          3.2           5.3        2\n",
       "76           2.8           4.8        1"
      ]
     },
     "execution_count": 28,
     "metadata": {},
     "output_type": "execute_result"
    }
   ],
   "source": [
    "df_test"
   ]
  },
  {
   "cell_type": "code",
   "execution_count": 29,
   "id": "e6960eb4",
   "metadata": {
    "execution": {
     "iopub.execute_input": "2024-07-11T05:39:45.899087Z",
     "iopub.status.busy": "2024-07-11T05:39:45.898195Z",
     "iopub.status.idle": "2024-07-11T05:39:45.905950Z",
     "shell.execute_reply": "2024-07-11T05:39:45.904978Z"
    },
    "papermill": {
     "duration": 0.028013,
     "end_time": "2024-07-11T05:39:45.909680",
     "exception": false,
     "start_time": "2024-07-11T05:39:45.881667",
     "status": "completed"
    },
    "tags": []
   },
   "outputs": [
    {
     "name": "stdout",
     "output_type": "stream",
     "text": [
      "Predictor 1 [2]\n",
      "Predictor 2 [2]\n",
      "Predictor 3 [2]\n"
     ]
    },
    {
     "name": "stderr",
     "output_type": "stream",
     "text": [
      "/opt/conda/lib/python3.10/site-packages/sklearn/base.py:439: UserWarning: X does not have valid feature names, but DecisionTreeClassifier was fitted with feature names\n",
      "  warnings.warn(\n",
      "/opt/conda/lib/python3.10/site-packages/sklearn/base.py:439: UserWarning: X does not have valid feature names, but DecisionTreeClassifier was fitted with feature names\n",
      "  warnings.warn(\n",
      "/opt/conda/lib/python3.10/site-packages/sklearn/base.py:439: UserWarning: X does not have valid feature names, but DecisionTreeClassifier was fitted with feature names\n",
      "  warnings.warn(\n"
     ]
    }
   ],
   "source": [
    "print(\"Predictor 1\",dt_bag1.predict(np.array([2.6,5.6]).reshape(1,2)))\n",
    "print(\"Predictor 2\",dt_bag2.predict(np.array([2.6,5.6]).reshape(1,2)))\n",
    "print(\"Predictor 3\",dt_bag3.predict(np.array([2.6,5.6]).reshape(1,2)))"
   ]
  },
  {
   "cell_type": "markdown",
   "id": "d6db98bf",
   "metadata": {
    "papermill": {
     "duration": 0.015546,
     "end_time": "2024-07-11T05:39:45.939978",
     "exception": false,
     "start_time": "2024-07-11T05:39:45.924432",
     "status": "completed"
    },
    "tags": []
   },
   "source": [
    "# ***Pasting***"
   ]
  },
  {
   "cell_type": "code",
   "execution_count": 30,
   "id": "4e9e2249",
   "metadata": {
    "execution": {
     "iopub.execute_input": "2024-07-11T05:39:45.977398Z",
     "iopub.status.busy": "2024-07-11T05:39:45.976523Z",
     "iopub.status.idle": "2024-07-11T05:39:45.989077Z",
     "shell.execute_reply": "2024-07-11T05:39:45.987699Z"
    },
    "papermill": {
     "duration": 0.034156,
     "end_time": "2024-07-11T05:39:45.991751",
     "exception": false,
     "start_time": "2024-07-11T05:39:45.957595",
     "status": "completed"
    },
    "tags": []
   },
   "outputs": [
    {
     "data": {
      "text/html": [
       "<div>\n",
       "<style scoped>\n",
       "    .dataframe tbody tr th:only-of-type {\n",
       "        vertical-align: middle;\n",
       "    }\n",
       "\n",
       "    .dataframe tbody tr th {\n",
       "        vertical-align: top;\n",
       "    }\n",
       "\n",
       "    .dataframe thead th {\n",
       "        text-align: right;\n",
       "    }\n",
       "</style>\n",
       "<table border=\"1\" class=\"dataframe\">\n",
       "  <thead>\n",
       "    <tr style=\"text-align: right;\">\n",
       "      <th></th>\n",
       "      <th>sepal_width</th>\n",
       "      <th>petal_length</th>\n",
       "      <th>species</th>\n",
       "    </tr>\n",
       "  </thead>\n",
       "  <tbody>\n",
       "    <tr>\n",
       "      <th>60</th>\n",
       "      <td>2.0</td>\n",
       "      <td>3.5</td>\n",
       "      <td>1</td>\n",
       "    </tr>\n",
       "    <tr>\n",
       "      <th>144</th>\n",
       "      <td>3.3</td>\n",
       "      <td>5.7</td>\n",
       "      <td>2</td>\n",
       "    </tr>\n",
       "    <tr>\n",
       "      <th>101</th>\n",
       "      <td>2.7</td>\n",
       "      <td>5.1</td>\n",
       "      <td>2</td>\n",
       "    </tr>\n",
       "    <tr>\n",
       "      <th>134</th>\n",
       "      <td>2.6</td>\n",
       "      <td>5.6</td>\n",
       "      <td>2</td>\n",
       "    </tr>\n",
       "    <tr>\n",
       "      <th>119</th>\n",
       "      <td>2.2</td>\n",
       "      <td>5.0</td>\n",
       "      <td>2</td>\n",
       "    </tr>\n",
       "    <tr>\n",
       "      <th>114</th>\n",
       "      <td>2.8</td>\n",
       "      <td>5.1</td>\n",
       "      <td>2</td>\n",
       "    </tr>\n",
       "    <tr>\n",
       "      <th>102</th>\n",
       "      <td>3.0</td>\n",
       "      <td>5.9</td>\n",
       "      <td>2</td>\n",
       "    </tr>\n",
       "    <tr>\n",
       "      <th>120</th>\n",
       "      <td>3.2</td>\n",
       "      <td>5.7</td>\n",
       "      <td>2</td>\n",
       "    </tr>\n",
       "    <tr>\n",
       "      <th>107</th>\n",
       "      <td>2.9</td>\n",
       "      <td>6.3</td>\n",
       "      <td>2</td>\n",
       "    </tr>\n",
       "    <tr>\n",
       "      <th>50</th>\n",
       "      <td>3.2</td>\n",
       "      <td>4.7</td>\n",
       "      <td>1</td>\n",
       "    </tr>\n",
       "  </tbody>\n",
       "</table>\n",
       "</div>"
      ],
      "text/plain": [
       "     sepal_width  petal_length  species\n",
       "60           2.0           3.5        1\n",
       "144          3.3           5.7        2\n",
       "101          2.7           5.1        2\n",
       "134          2.6           5.6        2\n",
       "119          2.2           5.0        2\n",
       "114          2.8           5.1        2\n",
       "102          3.0           5.9        2\n",
       "120          3.2           5.7        2\n",
       "107          2.9           6.3        2\n",
       "50           3.2           4.7        1"
      ]
     },
     "execution_count": 30,
     "metadata": {},
     "output_type": "execute_result"
    }
   ],
   "source": [
    "# Row sampling without replacement\n",
    "df_train"
   ]
  },
  {
   "cell_type": "code",
   "execution_count": 31,
   "id": "198b5afd",
   "metadata": {
    "execution": {
     "iopub.execute_input": "2024-07-11T05:39:46.029585Z",
     "iopub.status.busy": "2024-07-11T05:39:46.028366Z",
     "iopub.status.idle": "2024-07-11T05:39:46.042427Z",
     "shell.execute_reply": "2024-07-11T05:39:46.041304Z"
    },
    "papermill": {
     "duration": 0.034033,
     "end_time": "2024-07-11T05:39:46.045003",
     "exception": false,
     "start_time": "2024-07-11T05:39:46.010970",
     "status": "completed"
    },
    "tags": []
   },
   "outputs": [
    {
     "data": {
      "text/html": [
       "<div>\n",
       "<style scoped>\n",
       "    .dataframe tbody tr th:only-of-type {\n",
       "        vertical-align: middle;\n",
       "    }\n",
       "\n",
       "    .dataframe tbody tr th {\n",
       "        vertical-align: top;\n",
       "    }\n",
       "\n",
       "    .dataframe thead th {\n",
       "        text-align: right;\n",
       "    }\n",
       "</style>\n",
       "<table border=\"1\" class=\"dataframe\">\n",
       "  <thead>\n",
       "    <tr style=\"text-align: right;\">\n",
       "      <th></th>\n",
       "      <th>sepal_width</th>\n",
       "      <th>petal_length</th>\n",
       "      <th>species</th>\n",
       "    </tr>\n",
       "  </thead>\n",
       "  <tbody>\n",
       "    <tr>\n",
       "      <th>119</th>\n",
       "      <td>2.2</td>\n",
       "      <td>5.0</td>\n",
       "      <td>2</td>\n",
       "    </tr>\n",
       "    <tr>\n",
       "      <th>107</th>\n",
       "      <td>2.9</td>\n",
       "      <td>6.3</td>\n",
       "      <td>2</td>\n",
       "    </tr>\n",
       "    <tr>\n",
       "      <th>144</th>\n",
       "      <td>3.3</td>\n",
       "      <td>5.7</td>\n",
       "      <td>2</td>\n",
       "    </tr>\n",
       "    <tr>\n",
       "      <th>120</th>\n",
       "      <td>3.2</td>\n",
       "      <td>5.7</td>\n",
       "      <td>2</td>\n",
       "    </tr>\n",
       "    <tr>\n",
       "      <th>102</th>\n",
       "      <td>3.0</td>\n",
       "      <td>5.9</td>\n",
       "      <td>2</td>\n",
       "    </tr>\n",
       "    <tr>\n",
       "      <th>134</th>\n",
       "      <td>2.6</td>\n",
       "      <td>5.6</td>\n",
       "      <td>2</td>\n",
       "    </tr>\n",
       "    <tr>\n",
       "      <th>101</th>\n",
       "      <td>2.7</td>\n",
       "      <td>5.1</td>\n",
       "      <td>2</td>\n",
       "    </tr>\n",
       "    <tr>\n",
       "      <th>50</th>\n",
       "      <td>3.2</td>\n",
       "      <td>4.7</td>\n",
       "      <td>1</td>\n",
       "    </tr>\n",
       "  </tbody>\n",
       "</table>\n",
       "</div>"
      ],
      "text/plain": [
       "     sepal_width  petal_length  species\n",
       "119          2.2           5.0        2\n",
       "107          2.9           6.3        2\n",
       "144          3.3           5.7        2\n",
       "120          3.2           5.7        2\n",
       "102          3.0           5.9        2\n",
       "134          2.6           5.6        2\n",
       "101          2.7           5.1        2\n",
       "50           3.2           4.7        1"
      ]
     },
     "execution_count": 31,
     "metadata": {},
     "output_type": "execute_result"
    }
   ],
   "source": [
    "df_train.sample(8)"
   ]
  },
  {
   "cell_type": "markdown",
   "id": "75070b72",
   "metadata": {
    "papermill": {
     "duration": 0.0152,
     "end_time": "2024-07-11T05:39:46.075624",
     "exception": false,
     "start_time": "2024-07-11T05:39:46.060424",
     "status": "completed"
    },
    "tags": []
   },
   "source": [
    "# ***Random Subspaces - Column Sampling***"
   ]
  },
  {
   "cell_type": "code",
   "execution_count": 32,
   "id": "72a50627",
   "metadata": {
    "execution": {
     "iopub.execute_input": "2024-07-11T05:39:46.109070Z",
     "iopub.status.busy": "2024-07-11T05:39:46.108674Z",
     "iopub.status.idle": "2024-07-11T05:39:46.115794Z",
     "shell.execute_reply": "2024-07-11T05:39:46.114843Z"
    },
    "papermill": {
     "duration": 0.026807,
     "end_time": "2024-07-11T05:39:46.118348",
     "exception": false,
     "start_time": "2024-07-11T05:39:46.091541",
     "status": "completed"
    },
    "tags": []
   },
   "outputs": [],
   "source": [
    "df1=pd.read_csv('/kaggle/input/iris-dataset/iris.csv')"
   ]
  },
  {
   "cell_type": "code",
   "execution_count": 33,
   "id": "50a3128c",
   "metadata": {
    "execution": {
     "iopub.execute_input": "2024-07-11T05:39:46.151778Z",
     "iopub.status.busy": "2024-07-11T05:39:46.150914Z",
     "iopub.status.idle": "2024-07-11T05:39:46.158533Z",
     "shell.execute_reply": "2024-07-11T05:39:46.157357Z"
    },
    "papermill": {
     "duration": 0.027081,
     "end_time": "2024-07-11T05:39:46.160908",
     "exception": false,
     "start_time": "2024-07-11T05:39:46.133827",
     "status": "completed"
    },
    "tags": []
   },
   "outputs": [],
   "source": [
    "df1 = df1.sample(10)"
   ]
  },
  {
   "cell_type": "code",
   "execution_count": 34,
   "id": "f6c80fe0",
   "metadata": {
    "execution": {
     "iopub.execute_input": "2024-07-11T05:39:46.194798Z",
     "iopub.status.busy": "2024-07-11T05:39:46.193680Z",
     "iopub.status.idle": "2024-07-11T05:39:46.209203Z",
     "shell.execute_reply": "2024-07-11T05:39:46.208143Z"
    },
    "papermill": {
     "duration": 0.03526,
     "end_time": "2024-07-11T05:39:46.211594",
     "exception": false,
     "start_time": "2024-07-11T05:39:46.176334",
     "status": "completed"
    },
    "tags": []
   },
   "outputs": [
    {
     "data": {
      "text/html": [
       "<div>\n",
       "<style scoped>\n",
       "    .dataframe tbody tr th:only-of-type {\n",
       "        vertical-align: middle;\n",
       "    }\n",
       "\n",
       "    .dataframe tbody tr th {\n",
       "        vertical-align: top;\n",
       "    }\n",
       "\n",
       "    .dataframe thead th {\n",
       "        text-align: right;\n",
       "    }\n",
       "</style>\n",
       "<table border=\"1\" class=\"dataframe\">\n",
       "  <thead>\n",
       "    <tr style=\"text-align: right;\">\n",
       "      <th></th>\n",
       "      <th>sepal_length</th>\n",
       "      <th>sepal_width</th>\n",
       "      <th>petal_length</th>\n",
       "      <th>petal_width</th>\n",
       "      <th>species</th>\n",
       "    </tr>\n",
       "  </thead>\n",
       "  <tbody>\n",
       "    <tr>\n",
       "      <th>69</th>\n",
       "      <td>5.6</td>\n",
       "      <td>2.5</td>\n",
       "      <td>3.9</td>\n",
       "      <td>1.1</td>\n",
       "      <td>versicolor</td>\n",
       "    </tr>\n",
       "    <tr>\n",
       "      <th>41</th>\n",
       "      <td>4.5</td>\n",
       "      <td>2.3</td>\n",
       "      <td>1.3</td>\n",
       "      <td>0.3</td>\n",
       "      <td>setosa</td>\n",
       "    </tr>\n",
       "    <tr>\n",
       "      <th>53</th>\n",
       "      <td>5.5</td>\n",
       "      <td>2.3</td>\n",
       "      <td>4.0</td>\n",
       "      <td>1.3</td>\n",
       "      <td>versicolor</td>\n",
       "    </tr>\n",
       "    <tr>\n",
       "      <th>18</th>\n",
       "      <td>5.7</td>\n",
       "      <td>3.8</td>\n",
       "      <td>1.7</td>\n",
       "      <td>0.3</td>\n",
       "      <td>setosa</td>\n",
       "    </tr>\n",
       "    <tr>\n",
       "      <th>15</th>\n",
       "      <td>5.7</td>\n",
       "      <td>4.4</td>\n",
       "      <td>1.5</td>\n",
       "      <td>0.4</td>\n",
       "      <td>setosa</td>\n",
       "    </tr>\n",
       "    <tr>\n",
       "      <th>34</th>\n",
       "      <td>4.9</td>\n",
       "      <td>3.1</td>\n",
       "      <td>1.5</td>\n",
       "      <td>0.1</td>\n",
       "      <td>setosa</td>\n",
       "    </tr>\n",
       "    <tr>\n",
       "      <th>87</th>\n",
       "      <td>6.3</td>\n",
       "      <td>2.3</td>\n",
       "      <td>4.4</td>\n",
       "      <td>1.3</td>\n",
       "      <td>versicolor</td>\n",
       "    </tr>\n",
       "    <tr>\n",
       "      <th>144</th>\n",
       "      <td>6.7</td>\n",
       "      <td>3.3</td>\n",
       "      <td>5.7</td>\n",
       "      <td>2.5</td>\n",
       "      <td>virginica</td>\n",
       "    </tr>\n",
       "    <tr>\n",
       "      <th>117</th>\n",
       "      <td>7.7</td>\n",
       "      <td>3.8</td>\n",
       "      <td>6.7</td>\n",
       "      <td>2.2</td>\n",
       "      <td>virginica</td>\n",
       "    </tr>\n",
       "    <tr>\n",
       "      <th>19</th>\n",
       "      <td>5.1</td>\n",
       "      <td>3.8</td>\n",
       "      <td>1.5</td>\n",
       "      <td>0.3</td>\n",
       "      <td>setosa</td>\n",
       "    </tr>\n",
       "  </tbody>\n",
       "</table>\n",
       "</div>"
      ],
      "text/plain": [
       "     sepal_length  sepal_width  petal_length  petal_width     species\n",
       "69            5.6          2.5           3.9          1.1  versicolor\n",
       "41            4.5          2.3           1.3          0.3      setosa\n",
       "53            5.5          2.3           4.0          1.3  versicolor\n",
       "18            5.7          3.8           1.7          0.3      setosa\n",
       "15            5.7          4.4           1.5          0.4      setosa\n",
       "34            4.9          3.1           1.5          0.1      setosa\n",
       "87            6.3          2.3           4.4          1.3  versicolor\n",
       "144           6.7          3.3           5.7          2.5   virginica\n",
       "117           7.7          3.8           6.7          2.2   virginica\n",
       "19            5.1          3.8           1.5          0.3      setosa"
      ]
     },
     "execution_count": 34,
     "metadata": {},
     "output_type": "execute_result"
    }
   ],
   "source": [
    "df1"
   ]
  },
  {
   "cell_type": "code",
   "execution_count": 35,
   "id": "cb5b3b8c",
   "metadata": {
    "execution": {
     "iopub.execute_input": "2024-07-11T05:39:46.244846Z",
     "iopub.status.busy": "2024-07-11T05:39:46.244460Z",
     "iopub.status.idle": "2024-07-11T05:39:46.258159Z",
     "shell.execute_reply": "2024-07-11T05:39:46.256632Z"
    },
    "papermill": {
     "duration": 0.033755,
     "end_time": "2024-07-11T05:39:46.260878",
     "exception": false,
     "start_time": "2024-07-11T05:39:46.227123",
     "status": "completed"
    },
    "tags": []
   },
   "outputs": [
    {
     "data": {
      "text/html": [
       "<div>\n",
       "<style scoped>\n",
       "    .dataframe tbody tr th:only-of-type {\n",
       "        vertical-align: middle;\n",
       "    }\n",
       "\n",
       "    .dataframe tbody tr th {\n",
       "        vertical-align: top;\n",
       "    }\n",
       "\n",
       "    .dataframe thead th {\n",
       "        text-align: right;\n",
       "    }\n",
       "</style>\n",
       "<table border=\"1\" class=\"dataframe\">\n",
       "  <thead>\n",
       "    <tr style=\"text-align: right;\">\n",
       "      <th></th>\n",
       "      <th>sepal_width</th>\n",
       "      <th>species</th>\n",
       "    </tr>\n",
       "  </thead>\n",
       "  <tbody>\n",
       "    <tr>\n",
       "      <th>69</th>\n",
       "      <td>2.5</td>\n",
       "      <td>versicolor</td>\n",
       "    </tr>\n",
       "    <tr>\n",
       "      <th>41</th>\n",
       "      <td>2.3</td>\n",
       "      <td>setosa</td>\n",
       "    </tr>\n",
       "    <tr>\n",
       "      <th>53</th>\n",
       "      <td>2.3</td>\n",
       "      <td>versicolor</td>\n",
       "    </tr>\n",
       "    <tr>\n",
       "      <th>18</th>\n",
       "      <td>3.8</td>\n",
       "      <td>setosa</td>\n",
       "    </tr>\n",
       "    <tr>\n",
       "      <th>15</th>\n",
       "      <td>4.4</td>\n",
       "      <td>setosa</td>\n",
       "    </tr>\n",
       "    <tr>\n",
       "      <th>34</th>\n",
       "      <td>3.1</td>\n",
       "      <td>setosa</td>\n",
       "    </tr>\n",
       "    <tr>\n",
       "      <th>87</th>\n",
       "      <td>2.3</td>\n",
       "      <td>versicolor</td>\n",
       "    </tr>\n",
       "    <tr>\n",
       "      <th>144</th>\n",
       "      <td>3.3</td>\n",
       "      <td>virginica</td>\n",
       "    </tr>\n",
       "    <tr>\n",
       "      <th>117</th>\n",
       "      <td>3.8</td>\n",
       "      <td>virginica</td>\n",
       "    </tr>\n",
       "    <tr>\n",
       "      <th>19</th>\n",
       "      <td>3.8</td>\n",
       "      <td>setosa</td>\n",
       "    </tr>\n",
       "  </tbody>\n",
       "</table>\n",
       "</div>"
      ],
      "text/plain": [
       "     sepal_width     species\n",
       "69           2.5  versicolor\n",
       "41           2.3      setosa\n",
       "53           2.3  versicolor\n",
       "18           3.8      setosa\n",
       "15           4.4      setosa\n",
       "34           3.1      setosa\n",
       "87           2.3  versicolor\n",
       "144          3.3   virginica\n",
       "117          3.8   virginica\n",
       "19           3.8      setosa"
      ]
     },
     "execution_count": 35,
     "metadata": {},
     "output_type": "execute_result"
    }
   ],
   "source": [
    "df1.sample(2,replace=True,axis=1)"
   ]
  },
  {
   "cell_type": "markdown",
   "id": "913f5f6f",
   "metadata": {
    "papermill": {
     "duration": 0.016138,
     "end_time": "2024-07-11T05:39:46.293927",
     "exception": false,
     "start_time": "2024-07-11T05:39:46.277789",
     "status": "completed"
    },
    "tags": []
   },
   "source": [
    "# ***Random Patches-Row Column Both Sampling***"
   ]
  },
  {
   "cell_type": "code",
   "execution_count": 36,
   "id": "d18853f2",
   "metadata": {
    "execution": {
     "iopub.execute_input": "2024-07-11T05:39:46.328981Z",
     "iopub.status.busy": "2024-07-11T05:39:46.328557Z",
     "iopub.status.idle": "2024-07-11T05:39:46.343999Z",
     "shell.execute_reply": "2024-07-11T05:39:46.342838Z"
    },
    "papermill": {
     "duration": 0.035356,
     "end_time": "2024-07-11T05:39:46.346178",
     "exception": false,
     "start_time": "2024-07-11T05:39:46.310822",
     "status": "completed"
    },
    "tags": []
   },
   "outputs": [
    {
     "data": {
      "text/html": [
       "<div>\n",
       "<style scoped>\n",
       "    .dataframe tbody tr th:only-of-type {\n",
       "        vertical-align: middle;\n",
       "    }\n",
       "\n",
       "    .dataframe tbody tr th {\n",
       "        vertical-align: top;\n",
       "    }\n",
       "\n",
       "    .dataframe thead th {\n",
       "        text-align: right;\n",
       "    }\n",
       "</style>\n",
       "<table border=\"1\" class=\"dataframe\">\n",
       "  <thead>\n",
       "    <tr style=\"text-align: right;\">\n",
       "      <th></th>\n",
       "      <th>sepal_length</th>\n",
       "      <th>sepal_width</th>\n",
       "      <th>petal_length</th>\n",
       "      <th>petal_width</th>\n",
       "      <th>species</th>\n",
       "    </tr>\n",
       "  </thead>\n",
       "  <tbody>\n",
       "    <tr>\n",
       "      <th>69</th>\n",
       "      <td>5.6</td>\n",
       "      <td>2.5</td>\n",
       "      <td>3.9</td>\n",
       "      <td>1.1</td>\n",
       "      <td>versicolor</td>\n",
       "    </tr>\n",
       "    <tr>\n",
       "      <th>41</th>\n",
       "      <td>4.5</td>\n",
       "      <td>2.3</td>\n",
       "      <td>1.3</td>\n",
       "      <td>0.3</td>\n",
       "      <td>setosa</td>\n",
       "    </tr>\n",
       "    <tr>\n",
       "      <th>53</th>\n",
       "      <td>5.5</td>\n",
       "      <td>2.3</td>\n",
       "      <td>4.0</td>\n",
       "      <td>1.3</td>\n",
       "      <td>versicolor</td>\n",
       "    </tr>\n",
       "    <tr>\n",
       "      <th>18</th>\n",
       "      <td>5.7</td>\n",
       "      <td>3.8</td>\n",
       "      <td>1.7</td>\n",
       "      <td>0.3</td>\n",
       "      <td>setosa</td>\n",
       "    </tr>\n",
       "    <tr>\n",
       "      <th>15</th>\n",
       "      <td>5.7</td>\n",
       "      <td>4.4</td>\n",
       "      <td>1.5</td>\n",
       "      <td>0.4</td>\n",
       "      <td>setosa</td>\n",
       "    </tr>\n",
       "    <tr>\n",
       "      <th>34</th>\n",
       "      <td>4.9</td>\n",
       "      <td>3.1</td>\n",
       "      <td>1.5</td>\n",
       "      <td>0.1</td>\n",
       "      <td>setosa</td>\n",
       "    </tr>\n",
       "    <tr>\n",
       "      <th>87</th>\n",
       "      <td>6.3</td>\n",
       "      <td>2.3</td>\n",
       "      <td>4.4</td>\n",
       "      <td>1.3</td>\n",
       "      <td>versicolor</td>\n",
       "    </tr>\n",
       "    <tr>\n",
       "      <th>144</th>\n",
       "      <td>6.7</td>\n",
       "      <td>3.3</td>\n",
       "      <td>5.7</td>\n",
       "      <td>2.5</td>\n",
       "      <td>virginica</td>\n",
       "    </tr>\n",
       "    <tr>\n",
       "      <th>117</th>\n",
       "      <td>7.7</td>\n",
       "      <td>3.8</td>\n",
       "      <td>6.7</td>\n",
       "      <td>2.2</td>\n",
       "      <td>virginica</td>\n",
       "    </tr>\n",
       "    <tr>\n",
       "      <th>19</th>\n",
       "      <td>5.1</td>\n",
       "      <td>3.8</td>\n",
       "      <td>1.5</td>\n",
       "      <td>0.3</td>\n",
       "      <td>setosa</td>\n",
       "    </tr>\n",
       "  </tbody>\n",
       "</table>\n",
       "</div>"
      ],
      "text/plain": [
       "     sepal_length  sepal_width  petal_length  petal_width     species\n",
       "69            5.6          2.5           3.9          1.1  versicolor\n",
       "41            4.5          2.3           1.3          0.3      setosa\n",
       "53            5.5          2.3           4.0          1.3  versicolor\n",
       "18            5.7          3.8           1.7          0.3      setosa\n",
       "15            5.7          4.4           1.5          0.4      setosa\n",
       "34            4.9          3.1           1.5          0.1      setosa\n",
       "87            6.3          2.3           4.4          1.3  versicolor\n",
       "144           6.7          3.3           5.7          2.5   virginica\n",
       "117           7.7          3.8           6.7          2.2   virginica\n",
       "19            5.1          3.8           1.5          0.3      setosa"
      ]
     },
     "execution_count": 36,
     "metadata": {},
     "output_type": "execute_result"
    }
   ],
   "source": [
    "df1"
   ]
  },
  {
   "cell_type": "code",
   "execution_count": 37,
   "id": "7402f68a",
   "metadata": {
    "execution": {
     "iopub.execute_input": "2024-07-11T05:39:46.380602Z",
     "iopub.status.busy": "2024-07-11T05:39:46.379366Z",
     "iopub.status.idle": "2024-07-11T05:39:46.397243Z",
     "shell.execute_reply": "2024-07-11T05:39:46.396073Z"
    },
    "papermill": {
     "duration": 0.037475,
     "end_time": "2024-07-11T05:39:46.399542",
     "exception": false,
     "start_time": "2024-07-11T05:39:46.362067",
     "status": "completed"
    },
    "tags": []
   },
   "outputs": [
    {
     "data": {
      "text/html": [
       "<div>\n",
       "<style scoped>\n",
       "    .dataframe tbody tr th:only-of-type {\n",
       "        vertical-align: middle;\n",
       "    }\n",
       "\n",
       "    .dataframe tbody tr th {\n",
       "        vertical-align: top;\n",
       "    }\n",
       "\n",
       "    .dataframe thead th {\n",
       "        text-align: right;\n",
       "    }\n",
       "</style>\n",
       "<table border=\"1\" class=\"dataframe\">\n",
       "  <thead>\n",
       "    <tr style=\"text-align: right;\">\n",
       "      <th></th>\n",
       "      <th>petal_length</th>\n",
       "      <th>petal_length</th>\n",
       "    </tr>\n",
       "  </thead>\n",
       "  <tbody>\n",
       "    <tr>\n",
       "      <th>41</th>\n",
       "      <td>1.3</td>\n",
       "      <td>1.3</td>\n",
       "    </tr>\n",
       "    <tr>\n",
       "      <th>53</th>\n",
       "      <td>4.0</td>\n",
       "      <td>4.0</td>\n",
       "    </tr>\n",
       "    <tr>\n",
       "      <th>117</th>\n",
       "      <td>6.7</td>\n",
       "      <td>6.7</td>\n",
       "    </tr>\n",
       "    <tr>\n",
       "      <th>34</th>\n",
       "      <td>1.5</td>\n",
       "      <td>1.5</td>\n",
       "    </tr>\n",
       "    <tr>\n",
       "      <th>53</th>\n",
       "      <td>4.0</td>\n",
       "      <td>4.0</td>\n",
       "    </tr>\n",
       "    <tr>\n",
       "      <th>18</th>\n",
       "      <td>1.7</td>\n",
       "      <td>1.7</td>\n",
       "    </tr>\n",
       "    <tr>\n",
       "      <th>144</th>\n",
       "      <td>5.7</td>\n",
       "      <td>5.7</td>\n",
       "    </tr>\n",
       "    <tr>\n",
       "      <th>87</th>\n",
       "      <td>4.4</td>\n",
       "      <td>4.4</td>\n",
       "    </tr>\n",
       "  </tbody>\n",
       "</table>\n",
       "</div>"
      ],
      "text/plain": [
       "     petal_length  petal_length\n",
       "41            1.3           1.3\n",
       "53            4.0           4.0\n",
       "117           6.7           6.7\n",
       "34            1.5           1.5\n",
       "53            4.0           4.0\n",
       "18            1.7           1.7\n",
       "144           5.7           5.7\n",
       "87            4.4           4.4"
      ]
     },
     "execution_count": 37,
     "metadata": {},
     "output_type": "execute_result"
    }
   ],
   "source": [
    "df1.sample(8,replace=True).sample(2,replace=True,axis=1)"
   ]
  },
  {
   "cell_type": "code",
   "execution_count": null,
   "id": "70e3a3b7",
   "metadata": {
    "papermill": {
     "duration": 0.015963,
     "end_time": "2024-07-11T05:39:46.432239",
     "exception": false,
     "start_time": "2024-07-11T05:39:46.416276",
     "status": "completed"
    },
    "tags": []
   },
   "outputs": [],
   "source": []
  }
 ],
 "metadata": {
  "kaggle": {
   "accelerator": "none",
   "dataSources": [
    {
     "datasetId": 2354152,
     "sourceId": 3966491,
     "sourceType": "datasetVersion"
    }
   ],
   "dockerImageVersionId": 30732,
   "isGpuEnabled": false,
   "isInternetEnabled": false,
   "language": "python",
   "sourceType": "notebook"
  },
  "kernelspec": {
   "display_name": "Python 3",
   "language": "python",
   "name": "python3"
  },
  "language_info": {
   "codemirror_mode": {
    "name": "ipython",
    "version": 3
   },
   "file_extension": ".py",
   "mimetype": "text/x-python",
   "name": "python",
   "nbconvert_exporter": "python",
   "pygments_lexer": "ipython3",
   "version": "3.10.13"
  },
  "papermill": {
   "default_parameters": {},
   "duration": 10.085741,
   "end_time": "2024-07-11T05:39:47.070474",
   "environment_variables": {},
   "exception": null,
   "input_path": "__notebook__.ipynb",
   "output_path": "__notebook__.ipynb",
   "parameters": {},
   "start_time": "2024-07-11T05:39:36.984733",
   "version": "2.5.0"
  }
 },
 "nbformat": 4,
 "nbformat_minor": 5
}
