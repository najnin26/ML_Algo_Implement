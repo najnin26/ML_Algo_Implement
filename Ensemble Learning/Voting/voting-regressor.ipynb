{
 "cells": [
  {
   "cell_type": "code",
   "execution_count": 1,
   "id": "bfc9503e",
   "metadata": {
    "_cell_guid": "b1076dfc-b9ad-4769-8c92-a6c4dae69d19",
    "_uuid": "8f2839f25d086af736a60e9eeb907d3b93b6e0e5",
    "execution": {
     "iopub.execute_input": "2024-07-10T19:28:06.491568Z",
     "iopub.status.busy": "2024-07-10T19:28:06.491069Z",
     "iopub.status.idle": "2024-07-10T19:28:07.520224Z",
     "shell.execute_reply": "2024-07-10T19:28:07.518875Z"
    },
    "papermill": {
     "duration": 1.042131,
     "end_time": "2024-07-10T19:28:07.523359",
     "exception": false,
     "start_time": "2024-07-10T19:28:06.481228",
     "status": "completed"
    },
    "tags": []
   },
   "outputs": [],
   "source": [
    "import numpy as np\n",
    "import pandas as pd"
   ]
  },
  {
   "cell_type": "code",
   "execution_count": 2,
   "id": "83a8b204",
   "metadata": {
    "execution": {
     "iopub.execute_input": "2024-07-10T19:28:07.541071Z",
     "iopub.status.busy": "2024-07-10T19:28:07.540491Z",
     "iopub.status.idle": "2024-07-10T19:28:07.566293Z",
     "shell.execute_reply": "2024-07-10T19:28:07.565098Z"
    },
    "papermill": {
     "duration": 0.037627,
     "end_time": "2024-07-10T19:28:07.569122",
     "exception": false,
     "start_time": "2024-07-10T19:28:07.531495",
     "status": "completed"
    },
    "tags": []
   },
   "outputs": [],
   "source": [
    "df=pd.read_csv('/kaggle/input/bostoncsv/Boston.csv')"
   ]
  },
  {
   "cell_type": "code",
   "execution_count": 3,
   "id": "e97b0f63",
   "metadata": {
    "execution": {
     "iopub.execute_input": "2024-07-10T19:28:07.586903Z",
     "iopub.status.busy": "2024-07-10T19:28:07.585904Z",
     "iopub.status.idle": "2024-07-10T19:28:07.624845Z",
     "shell.execute_reply": "2024-07-10T19:28:07.623557Z"
    },
    "papermill": {
     "duration": 0.050947,
     "end_time": "2024-07-10T19:28:07.627655",
     "exception": false,
     "start_time": "2024-07-10T19:28:07.576708",
     "status": "completed"
    },
    "tags": []
   },
   "outputs": [
    {
     "data": {
      "text/html": [
       "<div>\n",
       "<style scoped>\n",
       "    .dataframe tbody tr th:only-of-type {\n",
       "        vertical-align: middle;\n",
       "    }\n",
       "\n",
       "    .dataframe tbody tr th {\n",
       "        vertical-align: top;\n",
       "    }\n",
       "\n",
       "    .dataframe thead th {\n",
       "        text-align: right;\n",
       "    }\n",
       "</style>\n",
       "<table border=\"1\" class=\"dataframe\">\n",
       "  <thead>\n",
       "    <tr style=\"text-align: right;\">\n",
       "      <th></th>\n",
       "      <th>Unnamed: 0</th>\n",
       "      <th>crim</th>\n",
       "      <th>zn</th>\n",
       "      <th>indus</th>\n",
       "      <th>chas</th>\n",
       "      <th>nox</th>\n",
       "      <th>rm</th>\n",
       "      <th>age</th>\n",
       "      <th>dis</th>\n",
       "      <th>rad</th>\n",
       "      <th>tax</th>\n",
       "      <th>ptratio</th>\n",
       "      <th>black</th>\n",
       "      <th>lstat</th>\n",
       "      <th>medv</th>\n",
       "    </tr>\n",
       "  </thead>\n",
       "  <tbody>\n",
       "    <tr>\n",
       "      <th>0</th>\n",
       "      <td>1</td>\n",
       "      <td>0.00632</td>\n",
       "      <td>18.0</td>\n",
       "      <td>2.31</td>\n",
       "      <td>0</td>\n",
       "      <td>0.538</td>\n",
       "      <td>6.575</td>\n",
       "      <td>65.2</td>\n",
       "      <td>4.0900</td>\n",
       "      <td>1</td>\n",
       "      <td>296</td>\n",
       "      <td>15.3</td>\n",
       "      <td>396.90</td>\n",
       "      <td>4.98</td>\n",
       "      <td>24.0</td>\n",
       "    </tr>\n",
       "    <tr>\n",
       "      <th>1</th>\n",
       "      <td>2</td>\n",
       "      <td>0.02731</td>\n",
       "      <td>0.0</td>\n",
       "      <td>7.07</td>\n",
       "      <td>0</td>\n",
       "      <td>0.469</td>\n",
       "      <td>6.421</td>\n",
       "      <td>78.9</td>\n",
       "      <td>4.9671</td>\n",
       "      <td>2</td>\n",
       "      <td>242</td>\n",
       "      <td>17.8</td>\n",
       "      <td>396.90</td>\n",
       "      <td>9.14</td>\n",
       "      <td>21.6</td>\n",
       "    </tr>\n",
       "    <tr>\n",
       "      <th>2</th>\n",
       "      <td>3</td>\n",
       "      <td>0.02729</td>\n",
       "      <td>0.0</td>\n",
       "      <td>7.07</td>\n",
       "      <td>0</td>\n",
       "      <td>0.469</td>\n",
       "      <td>7.185</td>\n",
       "      <td>61.1</td>\n",
       "      <td>4.9671</td>\n",
       "      <td>2</td>\n",
       "      <td>242</td>\n",
       "      <td>17.8</td>\n",
       "      <td>392.83</td>\n",
       "      <td>4.03</td>\n",
       "      <td>34.7</td>\n",
       "    </tr>\n",
       "    <tr>\n",
       "      <th>3</th>\n",
       "      <td>4</td>\n",
       "      <td>0.03237</td>\n",
       "      <td>0.0</td>\n",
       "      <td>2.18</td>\n",
       "      <td>0</td>\n",
       "      <td>0.458</td>\n",
       "      <td>6.998</td>\n",
       "      <td>45.8</td>\n",
       "      <td>6.0622</td>\n",
       "      <td>3</td>\n",
       "      <td>222</td>\n",
       "      <td>18.7</td>\n",
       "      <td>394.63</td>\n",
       "      <td>2.94</td>\n",
       "      <td>33.4</td>\n",
       "    </tr>\n",
       "    <tr>\n",
       "      <th>4</th>\n",
       "      <td>5</td>\n",
       "      <td>0.06905</td>\n",
       "      <td>0.0</td>\n",
       "      <td>2.18</td>\n",
       "      <td>0</td>\n",
       "      <td>0.458</td>\n",
       "      <td>7.147</td>\n",
       "      <td>54.2</td>\n",
       "      <td>6.0622</td>\n",
       "      <td>3</td>\n",
       "      <td>222</td>\n",
       "      <td>18.7</td>\n",
       "      <td>396.90</td>\n",
       "      <td>5.33</td>\n",
       "      <td>36.2</td>\n",
       "    </tr>\n",
       "  </tbody>\n",
       "</table>\n",
       "</div>"
      ],
      "text/plain": [
       "   Unnamed: 0     crim    zn  indus  chas    nox     rm   age     dis  rad  \\\n",
       "0           1  0.00632  18.0   2.31     0  0.538  6.575  65.2  4.0900    1   \n",
       "1           2  0.02731   0.0   7.07     0  0.469  6.421  78.9  4.9671    2   \n",
       "2           3  0.02729   0.0   7.07     0  0.469  7.185  61.1  4.9671    2   \n",
       "3           4  0.03237   0.0   2.18     0  0.458  6.998  45.8  6.0622    3   \n",
       "4           5  0.06905   0.0   2.18     0  0.458  7.147  54.2  6.0622    3   \n",
       "\n",
       "   tax  ptratio   black  lstat  medv  \n",
       "0  296     15.3  396.90   4.98  24.0  \n",
       "1  242     17.8  396.90   9.14  21.6  \n",
       "2  242     17.8  392.83   4.03  34.7  \n",
       "3  222     18.7  394.63   2.94  33.4  \n",
       "4  222     18.7  396.90   5.33  36.2  "
      ]
     },
     "execution_count": 3,
     "metadata": {},
     "output_type": "execute_result"
    }
   ],
   "source": [
    "df.head()"
   ]
  },
  {
   "cell_type": "code",
   "execution_count": 4,
   "id": "fe7430f7",
   "metadata": {
    "execution": {
     "iopub.execute_input": "2024-07-10T19:28:07.645403Z",
     "iopub.status.busy": "2024-07-10T19:28:07.644977Z",
     "iopub.status.idle": "2024-07-10T19:28:07.657078Z",
     "shell.execute_reply": "2024-07-10T19:28:07.656176Z"
    },
    "papermill": {
     "duration": 0.023956,
     "end_time": "2024-07-10T19:28:07.659553",
     "exception": false,
     "start_time": "2024-07-10T19:28:07.635597",
     "status": "completed"
    },
    "tags": []
   },
   "outputs": [],
   "source": [
    "df.drop(columns=['Unnamed: 0'], axis=1, inplace=True)"
   ]
  },
  {
   "cell_type": "code",
   "execution_count": 5,
   "id": "4f0c8f8d",
   "metadata": {
    "execution": {
     "iopub.execute_input": "2024-07-10T19:28:07.676956Z",
     "iopub.status.busy": "2024-07-10T19:28:07.676520Z",
     "iopub.status.idle": "2024-07-10T19:28:07.682768Z",
     "shell.execute_reply": "2024-07-10T19:28:07.681575Z"
    },
    "papermill": {
     "duration": 0.018129,
     "end_time": "2024-07-10T19:28:07.685485",
     "exception": false,
     "start_time": "2024-07-10T19:28:07.667356",
     "status": "completed"
    },
    "tags": []
   },
   "outputs": [],
   "source": [
    "X = df.iloc[:,0:13]\n",
    "y = df.iloc[:,13]"
   ]
  },
  {
   "cell_type": "code",
   "execution_count": 6,
   "id": "0c370324",
   "metadata": {
    "execution": {
     "iopub.execute_input": "2024-07-10T19:28:07.702706Z",
     "iopub.status.busy": "2024-07-10T19:28:07.702313Z",
     "iopub.status.idle": "2024-07-10T19:28:07.725347Z",
     "shell.execute_reply": "2024-07-10T19:28:07.724042Z"
    },
    "papermill": {
     "duration": 0.034735,
     "end_time": "2024-07-10T19:28:07.727950",
     "exception": false,
     "start_time": "2024-07-10T19:28:07.693215",
     "status": "completed"
    },
    "tags": []
   },
   "outputs": [
    {
     "data": {
      "text/html": [
       "<div>\n",
       "<style scoped>\n",
       "    .dataframe tbody tr th:only-of-type {\n",
       "        vertical-align: middle;\n",
       "    }\n",
       "\n",
       "    .dataframe tbody tr th {\n",
       "        vertical-align: top;\n",
       "    }\n",
       "\n",
       "    .dataframe thead th {\n",
       "        text-align: right;\n",
       "    }\n",
       "</style>\n",
       "<table border=\"1\" class=\"dataframe\">\n",
       "  <thead>\n",
       "    <tr style=\"text-align: right;\">\n",
       "      <th></th>\n",
       "      <th>crim</th>\n",
       "      <th>zn</th>\n",
       "      <th>indus</th>\n",
       "      <th>chas</th>\n",
       "      <th>nox</th>\n",
       "      <th>rm</th>\n",
       "      <th>age</th>\n",
       "      <th>dis</th>\n",
       "      <th>rad</th>\n",
       "      <th>tax</th>\n",
       "      <th>ptratio</th>\n",
       "      <th>black</th>\n",
       "      <th>lstat</th>\n",
       "    </tr>\n",
       "  </thead>\n",
       "  <tbody>\n",
       "    <tr>\n",
       "      <th>0</th>\n",
       "      <td>0.00632</td>\n",
       "      <td>18.0</td>\n",
       "      <td>2.31</td>\n",
       "      <td>0</td>\n",
       "      <td>0.538</td>\n",
       "      <td>6.575</td>\n",
       "      <td>65.2</td>\n",
       "      <td>4.0900</td>\n",
       "      <td>1</td>\n",
       "      <td>296</td>\n",
       "      <td>15.3</td>\n",
       "      <td>396.90</td>\n",
       "      <td>4.98</td>\n",
       "    </tr>\n",
       "    <tr>\n",
       "      <th>1</th>\n",
       "      <td>0.02731</td>\n",
       "      <td>0.0</td>\n",
       "      <td>7.07</td>\n",
       "      <td>0</td>\n",
       "      <td>0.469</td>\n",
       "      <td>6.421</td>\n",
       "      <td>78.9</td>\n",
       "      <td>4.9671</td>\n",
       "      <td>2</td>\n",
       "      <td>242</td>\n",
       "      <td>17.8</td>\n",
       "      <td>396.90</td>\n",
       "      <td>9.14</td>\n",
       "    </tr>\n",
       "    <tr>\n",
       "      <th>2</th>\n",
       "      <td>0.02729</td>\n",
       "      <td>0.0</td>\n",
       "      <td>7.07</td>\n",
       "      <td>0</td>\n",
       "      <td>0.469</td>\n",
       "      <td>7.185</td>\n",
       "      <td>61.1</td>\n",
       "      <td>4.9671</td>\n",
       "      <td>2</td>\n",
       "      <td>242</td>\n",
       "      <td>17.8</td>\n",
       "      <td>392.83</td>\n",
       "      <td>4.03</td>\n",
       "    </tr>\n",
       "    <tr>\n",
       "      <th>3</th>\n",
       "      <td>0.03237</td>\n",
       "      <td>0.0</td>\n",
       "      <td>2.18</td>\n",
       "      <td>0</td>\n",
       "      <td>0.458</td>\n",
       "      <td>6.998</td>\n",
       "      <td>45.8</td>\n",
       "      <td>6.0622</td>\n",
       "      <td>3</td>\n",
       "      <td>222</td>\n",
       "      <td>18.7</td>\n",
       "      <td>394.63</td>\n",
       "      <td>2.94</td>\n",
       "    </tr>\n",
       "    <tr>\n",
       "      <th>4</th>\n",
       "      <td>0.06905</td>\n",
       "      <td>0.0</td>\n",
       "      <td>2.18</td>\n",
       "      <td>0</td>\n",
       "      <td>0.458</td>\n",
       "      <td>7.147</td>\n",
       "      <td>54.2</td>\n",
       "      <td>6.0622</td>\n",
       "      <td>3</td>\n",
       "      <td>222</td>\n",
       "      <td>18.7</td>\n",
       "      <td>396.90</td>\n",
       "      <td>5.33</td>\n",
       "    </tr>\n",
       "  </tbody>\n",
       "</table>\n",
       "</div>"
      ],
      "text/plain": [
       "      crim    zn  indus  chas    nox     rm   age     dis  rad  tax  ptratio  \\\n",
       "0  0.00632  18.0   2.31     0  0.538  6.575  65.2  4.0900    1  296     15.3   \n",
       "1  0.02731   0.0   7.07     0  0.469  6.421  78.9  4.9671    2  242     17.8   \n",
       "2  0.02729   0.0   7.07     0  0.469  7.185  61.1  4.9671    2  242     17.8   \n",
       "3  0.03237   0.0   2.18     0  0.458  6.998  45.8  6.0622    3  222     18.7   \n",
       "4  0.06905   0.0   2.18     0  0.458  7.147  54.2  6.0622    3  222     18.7   \n",
       "\n",
       "    black  lstat  \n",
       "0  396.90   4.98  \n",
       "1  396.90   9.14  \n",
       "2  392.83   4.03  \n",
       "3  394.63   2.94  \n",
       "4  396.90   5.33  "
      ]
     },
     "execution_count": 6,
     "metadata": {},
     "output_type": "execute_result"
    }
   ],
   "source": [
    "X.head()"
   ]
  },
  {
   "cell_type": "code",
   "execution_count": 7,
   "id": "6cba8589",
   "metadata": {
    "execution": {
     "iopub.execute_input": "2024-07-10T19:28:07.746499Z",
     "iopub.status.busy": "2024-07-10T19:28:07.745497Z",
     "iopub.status.idle": "2024-07-10T19:28:07.754963Z",
     "shell.execute_reply": "2024-07-10T19:28:07.753810Z"
    },
    "papermill": {
     "duration": 0.021208,
     "end_time": "2024-07-10T19:28:07.757444",
     "exception": false,
     "start_time": "2024-07-10T19:28:07.736236",
     "status": "completed"
    },
    "tags": []
   },
   "outputs": [
    {
     "data": {
      "text/plain": [
       "0      24.0\n",
       "1      21.6\n",
       "2      34.7\n",
       "3      33.4\n",
       "4      36.2\n",
       "       ... \n",
       "501    22.4\n",
       "502    20.6\n",
       "503    23.9\n",
       "504    22.0\n",
       "505    11.9\n",
       "Name: medv, Length: 506, dtype: float64"
      ]
     },
     "execution_count": 7,
     "metadata": {},
     "output_type": "execute_result"
    }
   ],
   "source": [
    "y"
   ]
  },
  {
   "cell_type": "code",
   "execution_count": 8,
   "id": "a5437248",
   "metadata": {
    "execution": {
     "iopub.execute_input": "2024-07-10T19:28:07.776101Z",
     "iopub.status.busy": "2024-07-10T19:28:07.775260Z",
     "iopub.status.idle": "2024-07-10T19:28:09.416356Z",
     "shell.execute_reply": "2024-07-10T19:28:09.415193Z"
    },
    "papermill": {
     "duration": 1.653693,
     "end_time": "2024-07-10T19:28:09.419262",
     "exception": false,
     "start_time": "2024-07-10T19:28:07.765569",
     "status": "completed"
    },
    "tags": []
   },
   "outputs": [],
   "source": [
    "from sklearn.linear_model import LinearRegression\n",
    "from sklearn.tree import DecisionTreeRegressor\n",
    "from sklearn.svm import SVR\n",
    "from sklearn.model_selection import cross_val_score"
   ]
  },
  {
   "cell_type": "code",
   "execution_count": 9,
   "id": "df38f3a4",
   "metadata": {
    "execution": {
     "iopub.execute_input": "2024-07-10T19:28:09.437480Z",
     "iopub.status.busy": "2024-07-10T19:28:09.437011Z",
     "iopub.status.idle": "2024-07-10T19:28:09.442774Z",
     "shell.execute_reply": "2024-07-10T19:28:09.441571Z"
    },
    "papermill": {
     "duration": 0.017906,
     "end_time": "2024-07-10T19:28:09.445477",
     "exception": false,
     "start_time": "2024-07-10T19:28:09.427571",
     "status": "completed"
    },
    "tags": []
   },
   "outputs": [],
   "source": [
    "lr = LinearRegression()\n",
    "dt = DecisionTreeRegressor()\n",
    "svr = SVR()"
   ]
  },
  {
   "cell_type": "code",
   "execution_count": 10,
   "id": "387f1455",
   "metadata": {
    "execution": {
     "iopub.execute_input": "2024-07-10T19:28:09.464863Z",
     "iopub.status.busy": "2024-07-10T19:28:09.463788Z",
     "iopub.status.idle": "2024-07-10T19:28:09.469757Z",
     "shell.execute_reply": "2024-07-10T19:28:09.468598Z"
    },
    "papermill": {
     "duration": 0.018265,
     "end_time": "2024-07-10T19:28:09.472214",
     "exception": false,
     "start_time": "2024-07-10T19:28:09.453949",
     "status": "completed"
    },
    "tags": []
   },
   "outputs": [],
   "source": [
    "estimators = [('lr',lr),('dt',dt),('svr',svr)]"
   ]
  },
  {
   "cell_type": "code",
   "execution_count": 11,
   "id": "bea42c5a",
   "metadata": {
    "execution": {
     "iopub.execute_input": "2024-07-10T19:28:09.491010Z",
     "iopub.status.busy": "2024-07-10T19:28:09.490592Z",
     "iopub.status.idle": "2024-07-10T19:28:09.957049Z",
     "shell.execute_reply": "2024-07-10T19:28:09.955838Z"
    },
    "papermill": {
     "duration": 0.479099,
     "end_time": "2024-07-10T19:28:09.959823",
     "exception": false,
     "start_time": "2024-07-10T19:28:09.480724",
     "status": "completed"
    },
    "tags": []
   },
   "outputs": [
    {
     "name": "stdout",
     "output_type": "stream",
     "text": [
      "lr 0.2\n",
      "dt -0.01\n",
      "svr -0.41\n"
     ]
    }
   ],
   "source": [
    "for estimator in estimators:\n",
    "  scores = cross_val_score(estimator[1],X,y,scoring='r2',cv=10)\n",
    "  print(estimator[0],np.round(np.mean(scores),2))"
   ]
  },
  {
   "cell_type": "markdown",
   "id": "42f92ac7",
   "metadata": {
    "papermill": {
     "duration": 0.008105,
     "end_time": "2024-07-10T19:28:09.976333",
     "exception": false,
     "start_time": "2024-07-10T19:28:09.968228",
     "status": "completed"
    },
    "tags": []
   },
   "source": [
    "# ***Voting Regression***"
   ]
  },
  {
   "cell_type": "code",
   "execution_count": 12,
   "id": "5deff8ce",
   "metadata": {
    "execution": {
     "iopub.execute_input": "2024-07-10T19:28:09.995692Z",
     "iopub.status.busy": "2024-07-10T19:28:09.995282Z",
     "iopub.status.idle": "2024-07-10T19:28:10.081616Z",
     "shell.execute_reply": "2024-07-10T19:28:10.080280Z"
    },
    "papermill": {
     "duration": 0.099044,
     "end_time": "2024-07-10T19:28:10.084438",
     "exception": false,
     "start_time": "2024-07-10T19:28:09.985394",
     "status": "completed"
    },
    "tags": []
   },
   "outputs": [],
   "source": [
    "from sklearn.ensemble import VotingRegressor"
   ]
  },
  {
   "cell_type": "code",
   "execution_count": 13,
   "id": "ea3c3e84",
   "metadata": {
    "execution": {
     "iopub.execute_input": "2024-07-10T19:28:10.103353Z",
     "iopub.status.busy": "2024-07-10T19:28:10.102856Z",
     "iopub.status.idle": "2024-07-10T19:28:10.433824Z",
     "shell.execute_reply": "2024-07-10T19:28:10.432608Z"
    },
    "papermill": {
     "duration": 0.343235,
     "end_time": "2024-07-10T19:28:10.436329",
     "exception": false,
     "start_time": "2024-07-10T19:28:10.093094",
     "status": "completed"
    },
    "tags": []
   },
   "outputs": [
    {
     "name": "stdout",
     "output_type": "stream",
     "text": [
      "Voting Regressor 0.45\n"
     ]
    }
   ],
   "source": [
    "vr = VotingRegressor(estimators)\n",
    "scores = cross_val_score(vr,X,y,scoring='r2',cv=10)\n",
    "print(\"Voting Regressor\",np.round(np.mean(scores),2))"
   ]
  },
  {
   "cell_type": "markdown",
   "id": "4dabf630",
   "metadata": {
    "papermill": {
     "duration": 0.008265,
     "end_time": "2024-07-10T19:28:10.453285",
     "exception": false,
     "start_time": "2024-07-10T19:28:10.445020",
     "status": "completed"
    },
    "tags": []
   },
   "source": [
    "# ***Weighted Voting Regression***"
   ]
  },
  {
   "cell_type": "code",
   "execution_count": 14,
   "id": "e25504cd",
   "metadata": {
    "execution": {
     "iopub.execute_input": "2024-07-10T19:28:10.473378Z",
     "iopub.status.busy": "2024-07-10T19:28:10.472985Z",
     "iopub.status.idle": "2024-07-10T19:28:19.193765Z",
     "shell.execute_reply": "2024-07-10T19:28:19.192539Z"
    },
    "papermill": {
     "duration": 8.734355,
     "end_time": "2024-07-10T19:28:19.196303",
     "exception": false,
     "start_time": "2024-07-10T19:28:10.461948",
     "status": "completed"
    },
    "tags": []
   },
   "outputs": [
    {
     "name": "stdout",
     "output_type": "stream",
     "text": [
      "For i=1,j=1,k=1 0.45\n",
      "For i=1,j=1,k=2 0.35\n",
      "For i=1,j=1,k=3 0.27\n",
      "For i=1,j=2,k=1 0.43\n",
      "For i=1,j=2,k=2 0.36\n",
      "For i=1,j=2,k=3 0.35\n",
      "For i=1,j=3,k=1 0.34\n",
      "For i=1,j=3,k=2 0.4\n",
      "For i=1,j=3,k=3 0.3\n",
      "For i=2,j=1,k=1 0.46\n",
      "For i=2,j=1,k=2 0.41\n",
      "For i=2,j=1,k=3 0.35\n",
      "For i=2,j=2,k=1 0.39\n",
      "For i=2,j=2,k=2 0.45\n",
      "For i=2,j=2,k=3 0.41\n",
      "For i=2,j=3,k=1 0.42\n",
      "For i=2,j=3,k=2 0.46\n",
      "For i=2,j=3,k=3 0.36\n",
      "For i=3,j=1,k=1 0.44\n",
      "For i=3,j=1,k=2 0.44\n",
      "For i=3,j=1,k=3 0.39\n",
      "For i=3,j=2,k=1 0.45\n",
      "For i=3,j=2,k=2 0.46\n",
      "For i=3,j=2,k=3 0.44\n",
      "For i=3,j=3,k=1 0.36\n",
      "For i=3,j=3,k=2 0.45\n",
      "For i=3,j=3,k=3 0.44\n"
     ]
    }
   ],
   "source": [
    "for i in range(1,4):\n",
    "  for j in range(1,4):\n",
    "    for k in range(1,4):\n",
    "      vr = VotingRegressor(estimators,weights=[i,j,k])\n",
    "      scores = cross_val_score(vr,X,y,scoring='r2',cv=10)\n",
    "      print(\"For i={},j={},k={}\".format(i,j,k),np.round(np.mean(scores),2))"
   ]
  },
  {
   "cell_type": "markdown",
   "id": "445533df",
   "metadata": {
    "papermill": {
     "duration": 0.010528,
     "end_time": "2024-07-10T19:28:19.217654",
     "exception": false,
     "start_time": "2024-07-10T19:28:19.207126",
     "status": "completed"
    },
    "tags": []
   },
   "source": [
    "# ***Using the same algorithm***"
   ]
  },
  {
   "cell_type": "code",
   "execution_count": 15,
   "id": "d7c6465d",
   "metadata": {
    "execution": {
     "iopub.execute_input": "2024-07-10T19:28:19.241879Z",
     "iopub.status.busy": "2024-07-10T19:28:19.240730Z",
     "iopub.status.idle": "2024-07-10T19:28:19.247511Z",
     "shell.execute_reply": "2024-07-10T19:28:19.246442Z"
    },
    "papermill": {
     "duration": 0.021453,
     "end_time": "2024-07-10T19:28:19.250008",
     "exception": false,
     "start_time": "2024-07-10T19:28:19.228555",
     "status": "completed"
    },
    "tags": []
   },
   "outputs": [],
   "source": [
    "\n",
    "dt1 = DecisionTreeRegressor(max_depth=1)\n",
    "dt2 = DecisionTreeRegressor(max_depth=3)\n",
    "dt3 = DecisionTreeRegressor(max_depth=5)\n",
    "dt4 = DecisionTreeRegressor(max_depth=7)\n",
    "dt5 = DecisionTreeRegressor(max_depth=None)"
   ]
  },
  {
   "cell_type": "code",
   "execution_count": 16,
   "id": "ac3f1847",
   "metadata": {
    "execution": {
     "iopub.execute_input": "2024-07-10T19:28:19.273469Z",
     "iopub.status.busy": "2024-07-10T19:28:19.273025Z",
     "iopub.status.idle": "2024-07-10T19:28:19.278843Z",
     "shell.execute_reply": "2024-07-10T19:28:19.277712Z"
    },
    "papermill": {
     "duration": 0.020469,
     "end_time": "2024-07-10T19:28:19.281310",
     "exception": false,
     "start_time": "2024-07-10T19:28:19.260841",
     "status": "completed"
    },
    "tags": []
   },
   "outputs": [],
   "source": [
    "estimators = [('dt1',dt1),('dt2',dt2),('dt3',dt3),('dt4',dt4),('dt5',dt5)]"
   ]
  },
  {
   "cell_type": "code",
   "execution_count": 17,
   "id": "af3cd6c0",
   "metadata": {
    "execution": {
     "iopub.execute_input": "2024-07-10T19:28:19.305210Z",
     "iopub.status.busy": "2024-07-10T19:28:19.304795Z",
     "iopub.status.idle": "2024-07-10T19:28:19.650816Z",
     "shell.execute_reply": "2024-07-10T19:28:19.649662Z"
    },
    "papermill": {
     "duration": 0.360866,
     "end_time": "2024-07-10T19:28:19.653346",
     "exception": false,
     "start_time": "2024-07-10T19:28:19.292480",
     "status": "completed"
    },
    "tags": []
   },
   "outputs": [
    {
     "name": "stdout",
     "output_type": "stream",
     "text": [
      "dt1 -0.85\n",
      "dt2 -0.13\n",
      "dt3 0.07\n",
      "dt4 -0.11\n",
      "dt5 -0.08\n"
     ]
    }
   ],
   "source": [
    "for estimator in estimators:\n",
    "  scores = cross_val_score(estimator[1],X,y,scoring='r2',cv=10)\n",
    "  print(estimator[0],np.round(np.mean(scores),2))"
   ]
  },
  {
   "cell_type": "code",
   "execution_count": 18,
   "id": "e6c907e9",
   "metadata": {
    "execution": {
     "iopub.execute_input": "2024-07-10T19:28:19.678012Z",
     "iopub.status.busy": "2024-07-10T19:28:19.677588Z",
     "iopub.status.idle": "2024-07-10T19:28:19.981164Z",
     "shell.execute_reply": "2024-07-10T19:28:19.979639Z"
    },
    "papermill": {
     "duration": 0.319172,
     "end_time": "2024-07-10T19:28:19.983778",
     "exception": false,
     "start_time": "2024-07-10T19:28:19.664606",
     "status": "completed"
    },
    "tags": []
   },
   "outputs": [
    {
     "name": "stdout",
     "output_type": "stream",
     "text": [
      "Voting Regressor 0.16\n"
     ]
    }
   ],
   "source": [
    "vr = VotingRegressor(estimators)\n",
    "scores = cross_val_score(vr,X,y,scoring='r2',cv=10)\n",
    "print(\"Voting Regressor\",np.round(np.mean(scores),2))"
   ]
  },
  {
   "cell_type": "code",
   "execution_count": null,
   "id": "26c39d93",
   "metadata": {
    "papermill": {
     "duration": 0.010927,
     "end_time": "2024-07-10T19:28:20.006377",
     "exception": false,
     "start_time": "2024-07-10T19:28:19.995450",
     "status": "completed"
    },
    "tags": []
   },
   "outputs": [],
   "source": []
  }
 ],
 "metadata": {
  "kaggle": {
   "accelerator": "none",
   "dataSources": [
    {
     "datasetId": 3697589,
     "sourceId": 6411522,
     "sourceType": "datasetVersion"
    }
   ],
   "dockerImageVersionId": 30732,
   "isGpuEnabled": false,
   "isInternetEnabled": false,
   "language": "python",
   "sourceType": "notebook"
  },
  "kernelspec": {
   "display_name": "Python 3",
   "language": "python",
   "name": "python3"
  },
  "language_info": {
   "codemirror_mode": {
    "name": "ipython",
    "version": 3
   },
   "file_extension": ".py",
   "mimetype": "text/x-python",
   "name": "python",
   "nbconvert_exporter": "python",
   "pygments_lexer": "ipython3",
   "version": "3.10.13"
  },
  "papermill": {
   "default_parameters": {},
   "duration": 17.303765,
   "end_time": "2024-07-10T19:28:20.639623",
   "environment_variables": {},
   "exception": null,
   "input_path": "__notebook__.ipynb",
   "output_path": "__notebook__.ipynb",
   "parameters": {},
   "start_time": "2024-07-10T19:28:03.335858",
   "version": "2.5.0"
  }
 },
 "nbformat": 4,
 "nbformat_minor": 5
}
