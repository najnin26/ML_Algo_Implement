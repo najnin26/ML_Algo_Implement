{
 "cells": [
  {
   "cell_type": "code",
   "execution_count": 1,
   "id": "94b579e5",
   "metadata": {
    "_cell_guid": "b1076dfc-b9ad-4769-8c92-a6c4dae69d19",
    "_uuid": "8f2839f25d086af736a60e9eeb907d3b93b6e0e5",
    "execution": {
     "iopub.execute_input": "2024-07-12T05:21:13.316897Z",
     "iopub.status.busy": "2024-07-12T05:21:13.316474Z",
     "iopub.status.idle": "2024-07-12T05:21:15.913456Z",
     "shell.execute_reply": "2024-07-12T05:21:15.912216Z"
    },
    "papermill": {
     "duration": 2.622865,
     "end_time": "2024-07-12T05:21:15.916303",
     "exception": false,
     "start_time": "2024-07-12T05:21:13.293438",
     "status": "completed"
    },
    "tags": []
   },
   "outputs": [],
   "source": [
    "import pandas as pd\n",
    "import numpy as np\n",
    "from mlxtend.plotting import plot_decision_regions"
   ]
  },
  {
   "cell_type": "code",
   "execution_count": 2,
   "id": "57956991",
   "metadata": {
    "execution": {
     "iopub.execute_input": "2024-07-12T05:21:15.960492Z",
     "iopub.status.busy": "2024-07-12T05:21:15.959896Z",
     "iopub.status.idle": "2024-07-12T05:21:15.968073Z",
     "shell.execute_reply": "2024-07-12T05:21:15.966830Z"
    },
    "papermill": {
     "duration": 0.033085,
     "end_time": "2024-07-12T05:21:15.970976",
     "exception": false,
     "start_time": "2024-07-12T05:21:15.937891",
     "status": "completed"
    },
    "tags": []
   },
   "outputs": [],
   "source": [
    "df = pd.DataFrame()"
   ]
  },
  {
   "cell_type": "code",
   "execution_count": 3,
   "id": "23d920f3",
   "metadata": {
    "execution": {
     "iopub.execute_input": "2024-07-12T05:21:16.016764Z",
     "iopub.status.busy": "2024-07-12T05:21:16.016339Z",
     "iopub.status.idle": "2024-07-12T05:21:16.034807Z",
     "shell.execute_reply": "2024-07-12T05:21:16.033529Z"
    },
    "papermill": {
     "duration": 0.04556,
     "end_time": "2024-07-12T05:21:16.037487",
     "exception": false,
     "start_time": "2024-07-12T05:21:15.991927",
     "status": "completed"
    },
    "tags": []
   },
   "outputs": [],
   "source": [
    "df['X1'] = [1,2,3,4,5,6,6,7,9,9]\n",
    "df['X2'] = [5,3,6,8,1,9,5,8,9,2]\n",
    "df['label'] = [1,1,0,1,0,1,0,1,0,0]"
   ]
  },
  {
   "cell_type": "code",
   "execution_count": 4,
   "id": "fd9ae5a7",
   "metadata": {
    "execution": {
     "iopub.execute_input": "2024-07-12T05:21:16.082697Z",
     "iopub.status.busy": "2024-07-12T05:21:16.082285Z",
     "iopub.status.idle": "2024-07-12T05:21:16.100189Z",
     "shell.execute_reply": "2024-07-12T05:21:16.098618Z"
    },
    "papermill": {
     "duration": 0.044017,
     "end_time": "2024-07-12T05:21:16.103023",
     "exception": false,
     "start_time": "2024-07-12T05:21:16.059006",
     "status": "completed"
    },
    "tags": []
   },
   "outputs": [
    {
     "data": {
      "text/html": [
       "<div>\n",
       "<style scoped>\n",
       "    .dataframe tbody tr th:only-of-type {\n",
       "        vertical-align: middle;\n",
       "    }\n",
       "\n",
       "    .dataframe tbody tr th {\n",
       "        vertical-align: top;\n",
       "    }\n",
       "\n",
       "    .dataframe thead th {\n",
       "        text-align: right;\n",
       "    }\n",
       "</style>\n",
       "<table border=\"1\" class=\"dataframe\">\n",
       "  <thead>\n",
       "    <tr style=\"text-align: right;\">\n",
       "      <th></th>\n",
       "      <th>X1</th>\n",
       "      <th>X2</th>\n",
       "      <th>label</th>\n",
       "    </tr>\n",
       "  </thead>\n",
       "  <tbody>\n",
       "    <tr>\n",
       "      <th>0</th>\n",
       "      <td>1</td>\n",
       "      <td>5</td>\n",
       "      <td>1</td>\n",
       "    </tr>\n",
       "    <tr>\n",
       "      <th>1</th>\n",
       "      <td>2</td>\n",
       "      <td>3</td>\n",
       "      <td>1</td>\n",
       "    </tr>\n",
       "    <tr>\n",
       "      <th>2</th>\n",
       "      <td>3</td>\n",
       "      <td>6</td>\n",
       "      <td>0</td>\n",
       "    </tr>\n",
       "    <tr>\n",
       "      <th>3</th>\n",
       "      <td>4</td>\n",
       "      <td>8</td>\n",
       "      <td>1</td>\n",
       "    </tr>\n",
       "    <tr>\n",
       "      <th>4</th>\n",
       "      <td>5</td>\n",
       "      <td>1</td>\n",
       "      <td>0</td>\n",
       "    </tr>\n",
       "    <tr>\n",
       "      <th>5</th>\n",
       "      <td>6</td>\n",
       "      <td>9</td>\n",
       "      <td>1</td>\n",
       "    </tr>\n",
       "    <tr>\n",
       "      <th>6</th>\n",
       "      <td>6</td>\n",
       "      <td>5</td>\n",
       "      <td>0</td>\n",
       "    </tr>\n",
       "    <tr>\n",
       "      <th>7</th>\n",
       "      <td>7</td>\n",
       "      <td>8</td>\n",
       "      <td>1</td>\n",
       "    </tr>\n",
       "    <tr>\n",
       "      <th>8</th>\n",
       "      <td>9</td>\n",
       "      <td>9</td>\n",
       "      <td>0</td>\n",
       "    </tr>\n",
       "    <tr>\n",
       "      <th>9</th>\n",
       "      <td>9</td>\n",
       "      <td>2</td>\n",
       "      <td>0</td>\n",
       "    </tr>\n",
       "  </tbody>\n",
       "</table>\n",
       "</div>"
      ],
      "text/plain": [
       "   X1  X2  label\n",
       "0   1   5      1\n",
       "1   2   3      1\n",
       "2   3   6      0\n",
       "3   4   8      1\n",
       "4   5   1      0\n",
       "5   6   9      1\n",
       "6   6   5      0\n",
       "7   7   8      1\n",
       "8   9   9      0\n",
       "9   9   2      0"
      ]
     },
     "execution_count": 4,
     "metadata": {},
     "output_type": "execute_result"
    }
   ],
   "source": [
    "df"
   ]
  },
  {
   "cell_type": "code",
   "execution_count": 5,
   "id": "67147507",
   "metadata": {
    "execution": {
     "iopub.execute_input": "2024-07-12T05:21:16.147684Z",
     "iopub.status.busy": "2024-07-12T05:21:16.147225Z",
     "iopub.status.idle": "2024-07-12T05:21:17.045157Z",
     "shell.execute_reply": "2024-07-12T05:21:17.043890Z"
    },
    "papermill": {
     "duration": 0.923295,
     "end_time": "2024-07-12T05:21:17.047914",
     "exception": false,
     "start_time": "2024-07-12T05:21:16.124619",
     "status": "completed"
    },
    "tags": []
   },
   "outputs": [
    {
     "data": {
      "text/plain": [
       "<Axes: xlabel='X1', ylabel='X2'>"
      ]
     },
     "execution_count": 5,
     "metadata": {},
     "output_type": "execute_result"
    },
    {
     "data": {
      "image/png": "[encoded data removed]",
      "text/plain": [
       "<Figure size 640x480 with 1 Axes>"
      ]
     },
     "metadata": {},
     "output_type": "display_data"
    }
   ],
   "source": [
    "import seaborn as sns\n",
    "sns.scatterplot(x=df['X1'],y=df['X2'],hue=df['label'])"
   ]
  },
  {
   "cell_type": "code",
   "execution_count": 6,
   "id": "61ad46eb",
   "metadata": {
    "execution": {
     "iopub.execute_input": "2024-07-12T05:21:17.095091Z",
     "iopub.status.busy": "2024-07-12T05:21:17.094072Z",
     "iopub.status.idle": "2024-07-12T05:21:17.100647Z",
     "shell.execute_reply": "2024-07-12T05:21:17.099500Z"
    },
    "papermill": {
     "duration": 0.033086,
     "end_time": "2024-07-12T05:21:17.103187",
     "exception": false,
     "start_time": "2024-07-12T05:21:17.070101",
     "status": "completed"
    },
    "tags": []
   },
   "outputs": [],
   "source": [
    "df['weights'] = 1/df.shape[0]"
   ]
  },
  {
   "cell_type": "code",
   "execution_count": 7,
   "id": "024f6419",
   "metadata": {
    "execution": {
     "iopub.execute_input": "2024-07-12T05:21:17.150916Z",
     "iopub.status.busy": "2024-07-12T05:21:17.150000Z",
     "iopub.status.idle": "2024-07-12T05:21:17.164448Z",
     "shell.execute_reply": "2024-07-12T05:21:17.163215Z"
    },
    "papermill": {
     "duration": 0.041042,
     "end_time": "2024-07-12T05:21:17.167019",
     "exception": false,
     "start_time": "2024-07-12T05:21:17.125977",
     "status": "completed"
    },
    "tags": []
   },
   "outputs": [
    {
     "data": {
      "text/html": [
       "<div>\n",
       "<style scoped>\n",
       "    .dataframe tbody tr th:only-of-type {\n",
       "        vertical-align: middle;\n",
       "    }\n",
       "\n",
       "    .dataframe tbody tr th {\n",
       "        vertical-align: top;\n",
       "    }\n",
       "\n",
       "    .dataframe thead th {\n",
       "        text-align: right;\n",
       "    }\n",
       "</style>\n",
       "<table border=\"1\" class=\"dataframe\">\n",
       "  <thead>\n",
       "    <tr style=\"text-align: right;\">\n",
       "      <th></th>\n",
       "      <th>X1</th>\n",
       "      <th>X2</th>\n",
       "      <th>label</th>\n",
       "      <th>weights</th>\n",
       "    </tr>\n",
       "  </thead>\n",
       "  <tbody>\n",
       "    <tr>\n",
       "      <th>0</th>\n",
       "      <td>1</td>\n",
       "      <td>5</td>\n",
       "      <td>1</td>\n",
       "      <td>0.1</td>\n",
       "    </tr>\n",
       "    <tr>\n",
       "      <th>1</th>\n",
       "      <td>2</td>\n",
       "      <td>3</td>\n",
       "      <td>1</td>\n",
       "      <td>0.1</td>\n",
       "    </tr>\n",
       "    <tr>\n",
       "      <th>2</th>\n",
       "      <td>3</td>\n",
       "      <td>6</td>\n",
       "      <td>0</td>\n",
       "      <td>0.1</td>\n",
       "    </tr>\n",
       "    <tr>\n",
       "      <th>3</th>\n",
       "      <td>4</td>\n",
       "      <td>8</td>\n",
       "      <td>1</td>\n",
       "      <td>0.1</td>\n",
       "    </tr>\n",
       "    <tr>\n",
       "      <th>4</th>\n",
       "      <td>5</td>\n",
       "      <td>1</td>\n",
       "      <td>0</td>\n",
       "      <td>0.1</td>\n",
       "    </tr>\n",
       "    <tr>\n",
       "      <th>5</th>\n",
       "      <td>6</td>\n",
       "      <td>9</td>\n",
       "      <td>1</td>\n",
       "      <td>0.1</td>\n",
       "    </tr>\n",
       "    <tr>\n",
       "      <th>6</th>\n",
       "      <td>6</td>\n",
       "      <td>5</td>\n",
       "      <td>0</td>\n",
       "      <td>0.1</td>\n",
       "    </tr>\n",
       "    <tr>\n",
       "      <th>7</th>\n",
       "      <td>7</td>\n",
       "      <td>8</td>\n",
       "      <td>1</td>\n",
       "      <td>0.1</td>\n",
       "    </tr>\n",
       "    <tr>\n",
       "      <th>8</th>\n",
       "      <td>9</td>\n",
       "      <td>9</td>\n",
       "      <td>0</td>\n",
       "      <td>0.1</td>\n",
       "    </tr>\n",
       "    <tr>\n",
       "      <th>9</th>\n",
       "      <td>9</td>\n",
       "      <td>2</td>\n",
       "      <td>0</td>\n",
       "      <td>0.1</td>\n",
       "    </tr>\n",
       "  </tbody>\n",
       "</table>\n",
       "</div>"
      ],
      "text/plain": [
       "   X1  X2  label  weights\n",
       "0   1   5      1      0.1\n",
       "1   2   3      1      0.1\n",
       "2   3   6      0      0.1\n",
       "3   4   8      1      0.1\n",
       "4   5   1      0      0.1\n",
       "5   6   9      1      0.1\n",
       "6   6   5      0      0.1\n",
       "7   7   8      1      0.1\n",
       "8   9   9      0      0.1\n",
       "9   9   2      0      0.1"
      ]
     },
     "execution_count": 7,
     "metadata": {},
     "output_type": "execute_result"
    }
   ],
   "source": [
    "df"
   ]
  },
  {
   "cell_type": "code",
   "execution_count": 8,
   "id": "25cad394",
   "metadata": {
    "execution": {
     "iopub.execute_input": "2024-07-12T05:21:17.216785Z",
     "iopub.status.busy": "2024-07-12T05:21:17.215585Z",
     "iopub.status.idle": "2024-07-12T05:21:17.325898Z",
     "shell.execute_reply": "2024-07-12T05:21:17.324580Z"
    },
    "papermill": {
     "duration": 0.136326,
     "end_time": "2024-07-12T05:21:17.328871",
     "exception": false,
     "start_time": "2024-07-12T05:21:17.192545",
     "status": "completed"
    },
    "tags": []
   },
   "outputs": [],
   "source": [
    "from sklearn.tree import DecisionTreeClassifier"
   ]
  },
  {
   "cell_type": "code",
   "execution_count": 9,
   "id": "ea411128",
   "metadata": {
    "execution": {
     "iopub.execute_input": "2024-07-12T05:21:17.375269Z",
     "iopub.status.busy": "2024-07-12T05:21:17.374819Z",
     "iopub.status.idle": "2024-07-12T05:21:17.380342Z",
     "shell.execute_reply": "2024-07-12T05:21:17.379044Z"
    },
    "papermill": {
     "duration": 0.032113,
     "end_time": "2024-07-12T05:21:17.382893",
     "exception": false,
     "start_time": "2024-07-12T05:21:17.350780",
     "status": "completed"
    },
    "tags": []
   },
   "outputs": [],
   "source": [
    "dt1 = DecisionTreeClassifier(max_depth=1)"
   ]
  },
  {
   "cell_type": "code",
   "execution_count": 10,
   "id": "5ea3f950",
   "metadata": {
    "execution": {
     "iopub.execute_input": "2024-07-12T05:21:17.429819Z",
     "iopub.status.busy": "2024-07-12T05:21:17.428669Z",
     "iopub.status.idle": "2024-07-12T05:21:17.437584Z",
     "shell.execute_reply": "2024-07-12T05:21:17.436072Z"
    },
    "papermill": {
     "duration": 0.035458,
     "end_time": "2024-07-12T05:21:17.440252",
     "exception": false,
     "start_time": "2024-07-12T05:21:17.404794",
     "status": "completed"
    },
    "tags": []
   },
   "outputs": [],
   "source": [
    "\n",
    "X = df.iloc[:,0:2].values\n",
    "y = df.iloc[:,2].values"
   ]
  },
  {
   "cell_type": "code",
   "execution_count": 11,
   "id": "e5cf3224",
   "metadata": {
    "execution": {
     "iopub.execute_input": "2024-07-12T05:21:17.486606Z",
     "iopub.status.busy": "2024-07-12T05:21:17.485150Z",
     "iopub.status.idle": "2024-07-12T05:21:17.498655Z",
     "shell.execute_reply": "2024-07-12T05:21:17.497506Z"
    },
    "papermill": {
     "duration": 0.039378,
     "end_time": "2024-07-12T05:21:17.501432",
     "exception": false,
     "start_time": "2024-07-12T05:21:17.462054",
     "status": "completed"
    },
    "tags": []
   },
   "outputs": [
    {
     "data": {
      "text/html": [
       "<style>#sk-container-id-1 {color: black;background-color: white;}#sk-container-id-1 pre{padding: 0;}#sk-container-id-1 div.sk-toggleable {background-color: white;}#sk-container-id-1 label.sk-toggleable__label {cursor: pointer;display: block;width: 100%;margin-bottom: 0;padding: 0.3em;box-sizing: border-box;text-align: center;}#sk-container-id-1 label.sk-toggleable__label-arrow:before {content: \"▸\";float: left;margin-right: 0.25em;color: #696969;}#sk-container-id-1 label.sk-toggleable__label-arrow:hover:before {color: black;}#sk-container-id-1 div.sk-estimator:hover label.sk-toggleable__label-arrow:before {color: black;}#sk-container-id-1 div.sk-toggleable__content {max-height: 0;max-width: 0;overflow: hidden;text-align: left;background-color: #f0f8ff;}#sk-container-id-1 div.sk-toggleable__content pre {margin: 0.2em;color: black;border-radius: 0.25em;background-color: #f0f8ff;}#sk-container-id-1 input.sk-toggleable__control:checked~div.sk-toggleable__content {max-height: 200px;max-width: 100%;overflow: auto;}#sk-container-id-1 input.sk-toggleable__control:checked~label.sk-toggleable__label-arrow:before {content: \"▾\";}#sk-container-id-1 div.sk-estimator input.sk-toggleable__control:checked~label.sk-toggleable__label {background-color: #d4ebff;}#sk-container-id-1 div.sk-label input.sk-toggleable__control:checked~label.sk-toggleable__label {background-color: #d4ebff;}#sk-container-id-1 input.sk-hidden--visually {border: 0;clip: rect(1px 1px 1px 1px);clip: rect(1px, 1px, 1px, 1px);height: 1px;margin: -1px;overflow: hidden;padding: 0;position: absolute;width: 1px;}#sk-container-id-1 div.sk-estimator {font-family: monospace;background-color: #f0f8ff;border: 1px dotted black;border-radius: 0.25em;box-sizing: border-box;margin-bottom: 0.5em;}#sk-container-id-1 div.sk-estimator:hover {background-color: #d4ebff;}#sk-container-id-1 div.sk-parallel-item::after {content: \"\";width: 100%;border-bottom: 1px solid gray;flex-grow: 1;}#sk-container-id-1 div.sk-label:hover label.sk-toggleable__label {background-color: #d4ebff;}#sk-container-id-1 div.sk-serial::before {content: \"\";position: absolute;border-left: 1px solid gray;box-sizing: border-box;top: 0;bottom: 0;left: 50%;z-index: 0;}#sk-container-id-1 div.sk-serial {display: flex;flex-direction: column;align-items: center;background-color: white;padding-right: 0.2em;padding-left: 0.2em;position: relative;}#sk-container-id-1 div.sk-item {position: relative;z-index: 1;}#sk-container-id-1 div.sk-parallel {display: flex;align-items: stretch;justify-content: center;background-color: white;position: relative;}#sk-container-id-1 div.sk-item::before, #sk-container-id-1 div.sk-parallel-item::before {content: \"\";position: absolute;border-left: 1px solid gray;box-sizing: border-box;top: 0;bottom: 0;left: 50%;z-index: -1;}#sk-container-id-1 div.sk-parallel-item {display: flex;flex-direction: column;z-index: 1;position: relative;background-color: white;}#sk-container-id-1 div.sk-parallel-item:first-child::after {align-self: flex-end;width: 50%;}#sk-container-id-1 div.sk-parallel-item:last-child::after {align-self: flex-start;width: 50%;}#sk-container-id-1 div.sk-parallel-item:only-child::after {width: 0;}#sk-container-id-1 div.sk-dashed-wrapped {border: 1px dashed gray;margin: 0 0.4em 0.5em 0.4em;box-sizing: border-box;padding-bottom: 0.4em;background-color: white;}#sk-container-id-1 div.sk-label label {font-family: monospace;font-weight: bold;display: inline-block;line-height: 1.2em;}#sk-container-id-1 div.sk-label-container {text-align: center;}#sk-container-id-1 div.sk-container {/* jupyter's `normalize.less` sets `[hidden] { display: none; }` but bootstrap.min.css set `[hidden] { display: none !important; }` so we also need the `!important` here to be able to override the default hidden behavior on the sphinx rendered scikit-learn.org. See: https://github.com/scikit-learn/scikit-learn/issues/21755 */display: inline-block !important;position: relative;}#sk-container-id-1 div.sk-text-repr-fallback {display: none;}</style><div id=\"sk-container-id-1\" class=\"sk-top-container\"><div class=\"sk-text-repr-fallback\"><pre>DecisionTreeClassifier(max_depth=1)</pre><b>In a Jupyter environment, please rerun this cell to show the HTML representation or trust the notebook. <br />On GitHub, the HTML representation is unable to render, please try loading this page with nbviewer.org.</b></div><div class=\"sk-container\" hidden><div class=\"sk-item\"><div class=\"sk-estimator sk-toggleable\"><input class=\"sk-toggleable__control sk-hidden--visually\" id=\"sk-estimator-id-1\" type=\"checkbox\" checked><label for=\"sk-estimator-id-1\" class=\"sk-toggleable__label sk-toggleable__label-arrow\">DecisionTreeClassifier</label><div class=\"sk-toggleable__content\"><pre>DecisionTreeClassifier(max_depth=1)</pre></div></div></div></div></div>"
      ],
      "text/plain": [
       "DecisionTreeClassifier(max_depth=1)"
      ]
     },
     "execution_count": 11,
     "metadata": {},
     "output_type": "execute_result"
    }
   ],
   "source": [
    "# Step 2 - Train 1st model\n",
    "dt1.fit(X,y)"
   ]
  },
  {
   "cell_type": "code",
   "execution_count": 12,
   "id": "d414f96a",
   "metadata": {
    "execution": {
     "iopub.execute_input": "2024-07-12T05:21:17.548048Z",
     "iopub.status.busy": "2024-07-12T05:21:17.547615Z",
     "iopub.status.idle": "2024-07-12T05:21:17.824621Z",
     "shell.execute_reply": "2024-07-12T05:21:17.822895Z"
    },
    "papermill": {
     "duration": 0.305918,
     "end_time": "2024-07-12T05:21:17.830189",
     "exception": false,
     "start_time": "2024-07-12T05:21:17.524271",
     "status": "completed"
    },
    "tags": []
   },
   "outputs": [
    {
     "data": {
      "text/plain": [
       "[Text(0.5, 0.75, 'x[1] <= 2.5\\ngini = 0.5\\nsamples = 10\\nvalue = [5, 5]'),\n",
       " Text(0.25, 0.25, 'gini = 0.0\\nsamples = 2\\nvalue = [2, 0]'),\n",
       " Text(0.75, 0.25, 'gini = 0.469\\nsamples = 8\\nvalue = [3, 5]')]"
      ]
     },
     "execution_count": 12,
     "metadata": {},
     "output_type": "execute_result"
    },
    {
     "data": {
      "image/png": "[encoded data removed]",
      "text/plain": [
       "<Figure size 640x480 with 1 Axes>"
      ]
     },
     "metadata": {},
     "output_type": "display_data"
    }
   ],
   "source": [
    "from sklearn.tree import plot_tree\n",
    "plot_tree(dt1)"
   ]
  },
  {
   "cell_type": "code",
   "execution_count": 13,
   "id": "645130ce",
   "metadata": {
    "execution": {
     "iopub.execute_input": "2024-07-12T05:21:17.885532Z",
     "iopub.status.busy": "2024-07-12T05:21:17.885067Z",
     "iopub.status.idle": "2024-07-12T05:21:18.288061Z",
     "shell.execute_reply": "2024-07-12T05:21:18.286958Z"
    },
    "papermill": {
     "duration": 0.430327,
     "end_time": "2024-07-12T05:21:18.290610",
     "exception": false,
     "start_time": "2024-07-12T05:21:17.860283",
     "status": "completed"
    },
    "tags": []
   },
   "outputs": [
    {
     "data": {
      "text/plain": [
       "<Axes: >"
      ]
     },
     "execution_count": 13,
     "metadata": {},
     "output_type": "execute_result"
    },
    {
     "data": {
      "image/png": "[encoded data removed]",
      "text/plain": [
       "<Figure size 640x480 with 1 Axes>"
      ]
     },
     "metadata": {},
     "output_type": "display_data"
    }
   ],
   "source": [
    "plot_decision_regions(X, y, clf=dt1, legend=2)"
   ]
  },
  {
   "cell_type": "code",
   "execution_count": 14,
   "id": "2a1bb8cd",
   "metadata": {
    "execution": {
     "iopub.execute_input": "2024-07-12T05:21:18.354258Z",
     "iopub.status.busy": "2024-07-12T05:21:18.353159Z",
     "iopub.status.idle": "2024-07-12T05:21:18.360638Z",
     "shell.execute_reply": "2024-07-12T05:21:18.359189Z"
    },
    "papermill": {
     "duration": 0.045334,
     "end_time": "2024-07-12T05:21:18.364272",
     "exception": false,
     "start_time": "2024-07-12T05:21:18.318938",
     "status": "completed"
    },
    "tags": []
   },
   "outputs": [],
   "source": [
    "df['y_pred'] = dt1.predict(X)"
   ]
  },
  {
   "cell_type": "code",
   "execution_count": 15,
   "id": "7eca5904",
   "metadata": {
    "execution": {
     "iopub.execute_input": "2024-07-12T05:21:18.432077Z",
     "iopub.status.busy": "2024-07-12T05:21:18.430767Z",
     "iopub.status.idle": "2024-07-12T05:21:18.448598Z",
     "shell.execute_reply": "2024-07-12T05:21:18.447211Z"
    },
    "papermill": {
     "duration": 0.053752,
     "end_time": "2024-07-12T05:21:18.451309",
     "exception": false,
     "start_time": "2024-07-12T05:21:18.397557",
     "status": "completed"
    },
    "tags": []
   },
   "outputs": [
    {
     "data": {
      "text/html": [
       "<div>\n",
       "<style scoped>\n",
       "    .dataframe tbody tr th:only-of-type {\n",
       "        vertical-align: middle;\n",
       "    }\n",
       "\n",
       "    .dataframe tbody tr th {\n",
       "        vertical-align: top;\n",
       "    }\n",
       "\n",
       "    .dataframe thead th {\n",
       "        text-align: right;\n",
       "    }\n",
       "</style>\n",
       "<table border=\"1\" class=\"dataframe\">\n",
       "  <thead>\n",
       "    <tr style=\"text-align: right;\">\n",
       "      <th></th>\n",
       "      <th>X1</th>\n",
       "      <th>X2</th>\n",
       "      <th>label</th>\n",
       "      <th>weights</th>\n",
       "      <th>y_pred</th>\n",
       "    </tr>\n",
       "  </thead>\n",
       "  <tbody>\n",
       "    <tr>\n",
       "      <th>0</th>\n",
       "      <td>1</td>\n",
       "      <td>5</td>\n",
       "      <td>1</td>\n",
       "      <td>0.1</td>\n",
       "      <td>1</td>\n",
       "    </tr>\n",
       "    <tr>\n",
       "      <th>1</th>\n",
       "      <td>2</td>\n",
       "      <td>3</td>\n",
       "      <td>1</td>\n",
       "      <td>0.1</td>\n",
       "      <td>1</td>\n",
       "    </tr>\n",
       "    <tr>\n",
       "      <th>2</th>\n",
       "      <td>3</td>\n",
       "      <td>6</td>\n",
       "      <td>0</td>\n",
       "      <td>0.1</td>\n",
       "      <td>1</td>\n",
       "    </tr>\n",
       "    <tr>\n",
       "      <th>3</th>\n",
       "      <td>4</td>\n",
       "      <td>8</td>\n",
       "      <td>1</td>\n",
       "      <td>0.1</td>\n",
       "      <td>1</td>\n",
       "    </tr>\n",
       "    <tr>\n",
       "      <th>4</th>\n",
       "      <td>5</td>\n",
       "      <td>1</td>\n",
       "      <td>0</td>\n",
       "      <td>0.1</td>\n",
       "      <td>0</td>\n",
       "    </tr>\n",
       "    <tr>\n",
       "      <th>5</th>\n",
       "      <td>6</td>\n",
       "      <td>9</td>\n",
       "      <td>1</td>\n",
       "      <td>0.1</td>\n",
       "      <td>1</td>\n",
       "    </tr>\n",
       "    <tr>\n",
       "      <th>6</th>\n",
       "      <td>6</td>\n",
       "      <td>5</td>\n",
       "      <td>0</td>\n",
       "      <td>0.1</td>\n",
       "      <td>1</td>\n",
       "    </tr>\n",
       "    <tr>\n",
       "      <th>7</th>\n",
       "      <td>7</td>\n",
       "      <td>8</td>\n",
       "      <td>1</td>\n",
       "      <td>0.1</td>\n",
       "      <td>1</td>\n",
       "    </tr>\n",
       "    <tr>\n",
       "      <th>8</th>\n",
       "      <td>9</td>\n",
       "      <td>9</td>\n",
       "      <td>0</td>\n",
       "      <td>0.1</td>\n",
       "      <td>1</td>\n",
       "    </tr>\n",
       "    <tr>\n",
       "      <th>9</th>\n",
       "      <td>9</td>\n",
       "      <td>2</td>\n",
       "      <td>0</td>\n",
       "      <td>0.1</td>\n",
       "      <td>0</td>\n",
       "    </tr>\n",
       "  </tbody>\n",
       "</table>\n",
       "</div>"
      ],
      "text/plain": [
       "   X1  X2  label  weights  y_pred\n",
       "0   1   5      1      0.1       1\n",
       "1   2   3      1      0.1       1\n",
       "2   3   6      0      0.1       1\n",
       "3   4   8      1      0.1       1\n",
       "4   5   1      0      0.1       0\n",
       "5   6   9      1      0.1       1\n",
       "6   6   5      0      0.1       1\n",
       "7   7   8      1      0.1       1\n",
       "8   9   9      0      0.1       1\n",
       "9   9   2      0      0.1       0"
      ]
     },
     "execution_count": 15,
     "metadata": {},
     "output_type": "execute_result"
    }
   ],
   "source": [
    "df"
   ]
  },
  {
   "cell_type": "code",
   "execution_count": 16,
   "id": "3e94aada",
   "metadata": {
    "execution": {
     "iopub.execute_input": "2024-07-12T05:21:18.503717Z",
     "iopub.status.busy": "2024-07-12T05:21:18.503282Z",
     "iopub.status.idle": "2024-07-12T05:21:18.509307Z",
     "shell.execute_reply": "2024-07-12T05:21:18.507901Z"
    },
    "papermill": {
     "duration": 0.03447,
     "end_time": "2024-07-12T05:21:18.512140",
     "exception": false,
     "start_time": "2024-07-12T05:21:18.477670",
     "status": "completed"
    },
    "tags": []
   },
   "outputs": [],
   "source": [
    "def calculate_model_weight(error):\n",
    "\n",
    "  return 0.5*np.log((1-error)/(error))\n",
    "     "
   ]
  },
  {
   "cell_type": "code",
   "execution_count": 17,
   "id": "4ddf56fb",
   "metadata": {
    "execution": {
     "iopub.execute_input": "2024-07-12T05:21:18.571750Z",
     "iopub.status.busy": "2024-07-12T05:21:18.571306Z",
     "iopub.status.idle": "2024-07-12T05:21:18.580199Z",
     "shell.execute_reply": "2024-07-12T05:21:18.578966Z"
    },
    "papermill": {
     "duration": 0.046746,
     "end_time": "2024-07-12T05:21:18.582767",
     "exception": false,
     "start_time": "2024-07-12T05:21:18.536021",
     "status": "completed"
    },
    "tags": []
   },
   "outputs": [
    {
     "data": {
      "text/plain": [
       "0.42364893019360184"
      ]
     },
     "execution_count": 17,
     "metadata": {},
     "output_type": "execute_result"
    }
   ],
   "source": [
    "# Step 3 - calculate model weight\n",
    "alpha1 = calculate_model_weight(0.3)\n",
    "alpha1"
   ]
  },
  {
   "cell_type": "code",
   "execution_count": 18,
   "id": "107a447a",
   "metadata": {
    "execution": {
     "iopub.execute_input": "2024-07-12T05:21:18.635862Z",
     "iopub.status.busy": "2024-07-12T05:21:18.635417Z",
     "iopub.status.idle": "2024-07-12T05:21:18.642481Z",
     "shell.execute_reply": "2024-07-12T05:21:18.640959Z"
    },
    "papermill": {
     "duration": 0.038014,
     "end_time": "2024-07-12T05:21:18.645293",
     "exception": false,
     "start_time": "2024-07-12T05:21:18.607279",
     "status": "completed"
    },
    "tags": []
   },
   "outputs": [],
   "source": [
    "# Step 4 - Update weights\n",
    "def update_row_weights(row,alpha=0.423):\n",
    "  if row['label'] == row['y_pred']:\n",
    "    return row['weights'] * np.exp(-alpha)\n",
    "  else:\n",
    "    return row['weights'] * np.exp(alpha)"
   ]
  },
  {
   "cell_type": "code",
   "execution_count": 19,
   "id": "b00be673",
   "metadata": {
    "execution": {
     "iopub.execute_input": "2024-07-12T05:21:18.694797Z",
     "iopub.status.busy": "2024-07-12T05:21:18.694363Z",
     "iopub.status.idle": "2024-07-12T05:21:18.701722Z",
     "shell.execute_reply": "2024-07-12T05:21:18.700458Z"
    },
    "papermill": {
     "duration": 0.034898,
     "end_time": "2024-07-12T05:21:18.704218",
     "exception": false,
     "start_time": "2024-07-12T05:21:18.669320",
     "status": "completed"
    },
    "tags": []
   },
   "outputs": [],
   "source": [
    "df['updated_weights'] = df.apply(update_row_weights,axis=1)"
   ]
  },
  {
   "cell_type": "code",
   "execution_count": 20,
   "id": "fbcb0d0e",
   "metadata": {
    "execution": {
     "iopub.execute_input": "2024-07-12T05:21:18.755378Z",
     "iopub.status.busy": "2024-07-12T05:21:18.754944Z",
     "iopub.status.idle": "2024-07-12T05:21:18.769500Z",
     "shell.execute_reply": "2024-07-12T05:21:18.768360Z"
    },
    "papermill": {
     "duration": 0.044296,
     "end_time": "2024-07-12T05:21:18.772204",
     "exception": false,
     "start_time": "2024-07-12T05:21:18.727908",
     "status": "completed"
    },
    "tags": []
   },
   "outputs": [
    {
     "data": {
      "text/html": [
       "<div>\n",
       "<style scoped>\n",
       "    .dataframe tbody tr th:only-of-type {\n",
       "        vertical-align: middle;\n",
       "    }\n",
       "\n",
       "    .dataframe tbody tr th {\n",
       "        vertical-align: top;\n",
       "    }\n",
       "\n",
       "    .dataframe thead th {\n",
       "        text-align: right;\n",
       "    }\n",
       "</style>\n",
       "<table border=\"1\" class=\"dataframe\">\n",
       "  <thead>\n",
       "    <tr style=\"text-align: right;\">\n",
       "      <th></th>\n",
       "      <th>X1</th>\n",
       "      <th>X2</th>\n",
       "      <th>label</th>\n",
       "      <th>weights</th>\n",
       "      <th>y_pred</th>\n",
       "      <th>updated_weights</th>\n",
       "    </tr>\n",
       "  </thead>\n",
       "  <tbody>\n",
       "    <tr>\n",
       "      <th>0</th>\n",
       "      <td>1</td>\n",
       "      <td>5</td>\n",
       "      <td>1</td>\n",
       "      <td>0.1</td>\n",
       "      <td>1</td>\n",
       "      <td>0.065508</td>\n",
       "    </tr>\n",
       "    <tr>\n",
       "      <th>1</th>\n",
       "      <td>2</td>\n",
       "      <td>3</td>\n",
       "      <td>1</td>\n",
       "      <td>0.1</td>\n",
       "      <td>1</td>\n",
       "      <td>0.065508</td>\n",
       "    </tr>\n",
       "    <tr>\n",
       "      <th>2</th>\n",
       "      <td>3</td>\n",
       "      <td>6</td>\n",
       "      <td>0</td>\n",
       "      <td>0.1</td>\n",
       "      <td>1</td>\n",
       "      <td>0.152653</td>\n",
       "    </tr>\n",
       "    <tr>\n",
       "      <th>3</th>\n",
       "      <td>4</td>\n",
       "      <td>8</td>\n",
       "      <td>1</td>\n",
       "      <td>0.1</td>\n",
       "      <td>1</td>\n",
       "      <td>0.065508</td>\n",
       "    </tr>\n",
       "    <tr>\n",
       "      <th>4</th>\n",
       "      <td>5</td>\n",
       "      <td>1</td>\n",
       "      <td>0</td>\n",
       "      <td>0.1</td>\n",
       "      <td>0</td>\n",
       "      <td>0.065508</td>\n",
       "    </tr>\n",
       "    <tr>\n",
       "      <th>5</th>\n",
       "      <td>6</td>\n",
       "      <td>9</td>\n",
       "      <td>1</td>\n",
       "      <td>0.1</td>\n",
       "      <td>1</td>\n",
       "      <td>0.065508</td>\n",
       "    </tr>\n",
       "    <tr>\n",
       "      <th>6</th>\n",
       "      <td>6</td>\n",
       "      <td>5</td>\n",
       "      <td>0</td>\n",
       "      <td>0.1</td>\n",
       "      <td>1</td>\n",
       "      <td>0.152653</td>\n",
       "    </tr>\n",
       "    <tr>\n",
       "      <th>7</th>\n",
       "      <td>7</td>\n",
       "      <td>8</td>\n",
       "      <td>1</td>\n",
       "      <td>0.1</td>\n",
       "      <td>1</td>\n",
       "      <td>0.065508</td>\n",
       "    </tr>\n",
       "    <tr>\n",
       "      <th>8</th>\n",
       "      <td>9</td>\n",
       "      <td>9</td>\n",
       "      <td>0</td>\n",
       "      <td>0.1</td>\n",
       "      <td>1</td>\n",
       "      <td>0.152653</td>\n",
       "    </tr>\n",
       "    <tr>\n",
       "      <th>9</th>\n",
       "      <td>9</td>\n",
       "      <td>2</td>\n",
       "      <td>0</td>\n",
       "      <td>0.1</td>\n",
       "      <td>0</td>\n",
       "      <td>0.065508</td>\n",
       "    </tr>\n",
       "  </tbody>\n",
       "</table>\n",
       "</div>"
      ],
      "text/plain": [
       "   X1  X2  label  weights  y_pred  updated_weights\n",
       "0   1   5      1      0.1       1         0.065508\n",
       "1   2   3      1      0.1       1         0.065508\n",
       "2   3   6      0      0.1       1         0.152653\n",
       "3   4   8      1      0.1       1         0.065508\n",
       "4   5   1      0      0.1       0         0.065508\n",
       "5   6   9      1      0.1       1         0.065508\n",
       "6   6   5      0      0.1       1         0.152653\n",
       "7   7   8      1      0.1       1         0.065508\n",
       "8   9   9      0      0.1       1         0.152653\n",
       "9   9   2      0      0.1       0         0.065508"
      ]
     },
     "execution_count": 20,
     "metadata": {},
     "output_type": "execute_result"
    }
   ],
   "source": [
    "df"
   ]
  },
  {
   "cell_type": "code",
   "execution_count": 21,
   "id": "71900e09",
   "metadata": {
    "execution": {
     "iopub.execute_input": "2024-07-12T05:21:18.822044Z",
     "iopub.status.busy": "2024-07-12T05:21:18.821651Z",
     "iopub.status.idle": "2024-07-12T05:21:18.829597Z",
     "shell.execute_reply": "2024-07-12T05:21:18.828404Z"
    },
    "papermill": {
     "duration": 0.036271,
     "end_time": "2024-07-12T05:21:18.832650",
     "exception": false,
     "start_time": "2024-07-12T05:21:18.796379",
     "status": "completed"
    },
    "tags": []
   },
   "outputs": [
    {
     "data": {
      "text/plain": [
       "0.9165153319682015"
      ]
     },
     "execution_count": 21,
     "metadata": {},
     "output_type": "execute_result"
    }
   ],
   "source": [
    "df['updated_weights'].sum()"
   ]
  },
  {
   "cell_type": "code",
   "execution_count": 22,
   "id": "b229b22f",
   "metadata": {
    "execution": {
     "iopub.execute_input": "2024-07-12T05:21:18.946090Z",
     "iopub.status.busy": "2024-07-12T05:21:18.945052Z",
     "iopub.status.idle": "2024-07-12T05:21:18.951784Z",
     "shell.execute_reply": "2024-07-12T05:21:18.950663Z"
    },
    "papermill": {
     "duration": 0.034585,
     "end_time": "2024-07-12T05:21:18.954057",
     "exception": false,
     "start_time": "2024-07-12T05:21:18.919472",
     "status": "completed"
    },
    "tags": []
   },
   "outputs": [],
   "source": [
    "df['nomalized_weights'] = df['updated_weights']/df['updated_weights'].sum()"
   ]
  },
  {
   "cell_type": "code",
   "execution_count": 23,
   "id": "50b793fc",
   "metadata": {
    "execution": {
     "iopub.execute_input": "2024-07-12T05:21:19.004482Z",
     "iopub.status.busy": "2024-07-12T05:21:19.004062Z",
     "iopub.status.idle": "2024-07-12T05:21:19.020302Z",
     "shell.execute_reply": "2024-07-12T05:21:19.019212Z"
    },
    "papermill": {
     "duration": 0.044392,
     "end_time": "2024-07-12T05:21:19.022820",
     "exception": false,
     "start_time": "2024-07-12T05:21:18.978428",
     "status": "completed"
    },
    "tags": []
   },
   "outputs": [
    {
     "data": {
      "text/html": [
       "<div>\n",
       "<style scoped>\n",
       "    .dataframe tbody tr th:only-of-type {\n",
       "        vertical-align: middle;\n",
       "    }\n",
       "\n",
       "    .dataframe tbody tr th {\n",
       "        vertical-align: top;\n",
       "    }\n",
       "\n",
       "    .dataframe thead th {\n",
       "        text-align: right;\n",
       "    }\n",
       "</style>\n",
       "<table border=\"1\" class=\"dataframe\">\n",
       "  <thead>\n",
       "    <tr style=\"text-align: right;\">\n",
       "      <th></th>\n",
       "      <th>X1</th>\n",
       "      <th>X2</th>\n",
       "      <th>label</th>\n",
       "      <th>weights</th>\n",
       "      <th>y_pred</th>\n",
       "      <th>updated_weights</th>\n",
       "      <th>nomalized_weights</th>\n",
       "    </tr>\n",
       "  </thead>\n",
       "  <tbody>\n",
       "    <tr>\n",
       "      <th>0</th>\n",
       "      <td>1</td>\n",
       "      <td>5</td>\n",
       "      <td>1</td>\n",
       "      <td>0.1</td>\n",
       "      <td>1</td>\n",
       "      <td>0.065508</td>\n",
       "      <td>0.071475</td>\n",
       "    </tr>\n",
       "    <tr>\n",
       "      <th>1</th>\n",
       "      <td>2</td>\n",
       "      <td>3</td>\n",
       "      <td>1</td>\n",
       "      <td>0.1</td>\n",
       "      <td>1</td>\n",
       "      <td>0.065508</td>\n",
       "      <td>0.071475</td>\n",
       "    </tr>\n",
       "    <tr>\n",
       "      <th>2</th>\n",
       "      <td>3</td>\n",
       "      <td>6</td>\n",
       "      <td>0</td>\n",
       "      <td>0.1</td>\n",
       "      <td>1</td>\n",
       "      <td>0.152653</td>\n",
       "      <td>0.166559</td>\n",
       "    </tr>\n",
       "    <tr>\n",
       "      <th>3</th>\n",
       "      <td>4</td>\n",
       "      <td>8</td>\n",
       "      <td>1</td>\n",
       "      <td>0.1</td>\n",
       "      <td>1</td>\n",
       "      <td>0.065508</td>\n",
       "      <td>0.071475</td>\n",
       "    </tr>\n",
       "    <tr>\n",
       "      <th>4</th>\n",
       "      <td>5</td>\n",
       "      <td>1</td>\n",
       "      <td>0</td>\n",
       "      <td>0.1</td>\n",
       "      <td>0</td>\n",
       "      <td>0.065508</td>\n",
       "      <td>0.071475</td>\n",
       "    </tr>\n",
       "    <tr>\n",
       "      <th>5</th>\n",
       "      <td>6</td>\n",
       "      <td>9</td>\n",
       "      <td>1</td>\n",
       "      <td>0.1</td>\n",
       "      <td>1</td>\n",
       "      <td>0.065508</td>\n",
       "      <td>0.071475</td>\n",
       "    </tr>\n",
       "    <tr>\n",
       "      <th>6</th>\n",
       "      <td>6</td>\n",
       "      <td>5</td>\n",
       "      <td>0</td>\n",
       "      <td>0.1</td>\n",
       "      <td>1</td>\n",
       "      <td>0.152653</td>\n",
       "      <td>0.166559</td>\n",
       "    </tr>\n",
       "    <tr>\n",
       "      <th>7</th>\n",
       "      <td>7</td>\n",
       "      <td>8</td>\n",
       "      <td>1</td>\n",
       "      <td>0.1</td>\n",
       "      <td>1</td>\n",
       "      <td>0.065508</td>\n",
       "      <td>0.071475</td>\n",
       "    </tr>\n",
       "    <tr>\n",
       "      <th>8</th>\n",
       "      <td>9</td>\n",
       "      <td>9</td>\n",
       "      <td>0</td>\n",
       "      <td>0.1</td>\n",
       "      <td>1</td>\n",
       "      <td>0.152653</td>\n",
       "      <td>0.166559</td>\n",
       "    </tr>\n",
       "    <tr>\n",
       "      <th>9</th>\n",
       "      <td>9</td>\n",
       "      <td>2</td>\n",
       "      <td>0</td>\n",
       "      <td>0.1</td>\n",
       "      <td>0</td>\n",
       "      <td>0.065508</td>\n",
       "      <td>0.071475</td>\n",
       "    </tr>\n",
       "  </tbody>\n",
       "</table>\n",
       "</div>"
      ],
      "text/plain": [
       "   X1  X2  label  weights  y_pred  updated_weights  nomalized_weights\n",
       "0   1   5      1      0.1       1         0.065508           0.071475\n",
       "1   2   3      1      0.1       1         0.065508           0.071475\n",
       "2   3   6      0      0.1       1         0.152653           0.166559\n",
       "3   4   8      1      0.1       1         0.065508           0.071475\n",
       "4   5   1      0      0.1       0         0.065508           0.071475\n",
       "5   6   9      1      0.1       1         0.065508           0.071475\n",
       "6   6   5      0      0.1       1         0.152653           0.166559\n",
       "7   7   8      1      0.1       1         0.065508           0.071475\n",
       "8   9   9      0      0.1       1         0.152653           0.166559\n",
       "9   9   2      0      0.1       0         0.065508           0.071475"
      ]
     },
     "execution_count": 23,
     "metadata": {},
     "output_type": "execute_result"
    }
   ],
   "source": [
    "df"
   ]
  },
  {
   "cell_type": "code",
   "execution_count": 24,
   "id": "fd9649c0",
   "metadata": {
    "execution": {
     "iopub.execute_input": "2024-07-12T05:21:19.075057Z",
     "iopub.status.busy": "2024-07-12T05:21:19.074037Z",
     "iopub.status.idle": "2024-07-12T05:21:19.081898Z",
     "shell.execute_reply": "2024-07-12T05:21:19.080751Z"
    },
    "papermill": {
     "duration": 0.036638,
     "end_time": "2024-07-12T05:21:19.084412",
     "exception": false,
     "start_time": "2024-07-12T05:21:19.047774",
     "status": "completed"
    },
    "tags": []
   },
   "outputs": [
    {
     "data": {
      "text/plain": [
       "1.0"
      ]
     },
     "execution_count": 24,
     "metadata": {},
     "output_type": "execute_result"
    }
   ],
   "source": [
    "df['nomalized_weights'].sum()"
   ]
  },
  {
   "cell_type": "code",
   "execution_count": 25,
   "id": "73f11bd1",
   "metadata": {
    "execution": {
     "iopub.execute_input": "2024-07-12T05:21:19.137190Z",
     "iopub.status.busy": "2024-07-12T05:21:19.136099Z",
     "iopub.status.idle": "2024-07-12T05:21:19.143356Z",
     "shell.execute_reply": "2024-07-12T05:21:19.142188Z"
    },
    "papermill": {
     "duration": 0.036505,
     "end_time": "2024-07-12T05:21:19.146171",
     "exception": false,
     "start_time": "2024-07-12T05:21:19.109666",
     "status": "completed"
    },
    "tags": []
   },
   "outputs": [],
   "source": [
    "df['cumsum_upper'] = np.cumsum(df['nomalized_weights'])"
   ]
  },
  {
   "cell_type": "code",
   "execution_count": 26,
   "id": "12d10948",
   "metadata": {
    "execution": {
     "iopub.execute_input": "2024-07-12T05:21:19.199172Z",
     "iopub.status.busy": "2024-07-12T05:21:19.198784Z",
     "iopub.status.idle": "2024-07-12T05:21:19.205321Z",
     "shell.execute_reply": "2024-07-12T05:21:19.204156Z"
    },
    "papermill": {
     "duration": 0.036888,
     "end_time": "2024-07-12T05:21:19.207999",
     "exception": false,
     "start_time": "2024-07-12T05:21:19.171111",
     "status": "completed"
    },
    "tags": []
   },
   "outputs": [],
   "source": [
    "df['cumsum_lower'] = df['cumsum_upper'] - df['nomalized_weights']"
   ]
  },
  {
   "cell_type": "code",
   "execution_count": 27,
   "id": "6b404ade",
   "metadata": {
    "execution": {
     "iopub.execute_input": "2024-07-12T05:21:19.260772Z",
     "iopub.status.busy": "2024-07-12T05:21:19.260348Z",
     "iopub.status.idle": "2024-07-12T05:21:19.278932Z",
     "shell.execute_reply": "2024-07-12T05:21:19.277682Z"
    },
    "papermill": {
     "duration": 0.047298,
     "end_time": "2024-07-12T05:21:19.281396",
     "exception": false,
     "start_time": "2024-07-12T05:21:19.234098",
     "status": "completed"
    },
    "tags": []
   },
   "outputs": [
    {
     "data": {
      "text/html": [
       "<div>\n",
       "<style scoped>\n",
       "    .dataframe tbody tr th:only-of-type {\n",
       "        vertical-align: middle;\n",
       "    }\n",
       "\n",
       "    .dataframe tbody tr th {\n",
       "        vertical-align: top;\n",
       "    }\n",
       "\n",
       "    .dataframe thead th {\n",
       "        text-align: right;\n",
       "    }\n",
       "</style>\n",
       "<table border=\"1\" class=\"dataframe\">\n",
       "  <thead>\n",
       "    <tr style=\"text-align: right;\">\n",
       "      <th></th>\n",
       "      <th>X1</th>\n",
       "      <th>X2</th>\n",
       "      <th>label</th>\n",
       "      <th>weights</th>\n",
       "      <th>y_pred</th>\n",
       "      <th>updated_weights</th>\n",
       "      <th>cumsum_lower</th>\n",
       "      <th>cumsum_upper</th>\n",
       "    </tr>\n",
       "  </thead>\n",
       "  <tbody>\n",
       "    <tr>\n",
       "      <th>0</th>\n",
       "      <td>1</td>\n",
       "      <td>5</td>\n",
       "      <td>1</td>\n",
       "      <td>0.1</td>\n",
       "      <td>1</td>\n",
       "      <td>0.065508</td>\n",
       "      <td>0.000000</td>\n",
       "      <td>0.071475</td>\n",
       "    </tr>\n",
       "    <tr>\n",
       "      <th>1</th>\n",
       "      <td>2</td>\n",
       "      <td>3</td>\n",
       "      <td>1</td>\n",
       "      <td>0.1</td>\n",
       "      <td>1</td>\n",
       "      <td>0.065508</td>\n",
       "      <td>0.071475</td>\n",
       "      <td>0.142950</td>\n",
       "    </tr>\n",
       "    <tr>\n",
       "      <th>2</th>\n",
       "      <td>3</td>\n",
       "      <td>6</td>\n",
       "      <td>0</td>\n",
       "      <td>0.1</td>\n",
       "      <td>1</td>\n",
       "      <td>0.152653</td>\n",
       "      <td>0.142950</td>\n",
       "      <td>0.309508</td>\n",
       "    </tr>\n",
       "    <tr>\n",
       "      <th>3</th>\n",
       "      <td>4</td>\n",
       "      <td>8</td>\n",
       "      <td>1</td>\n",
       "      <td>0.1</td>\n",
       "      <td>1</td>\n",
       "      <td>0.065508</td>\n",
       "      <td>0.309508</td>\n",
       "      <td>0.380983</td>\n",
       "    </tr>\n",
       "    <tr>\n",
       "      <th>4</th>\n",
       "      <td>5</td>\n",
       "      <td>1</td>\n",
       "      <td>0</td>\n",
       "      <td>0.1</td>\n",
       "      <td>0</td>\n",
       "      <td>0.065508</td>\n",
       "      <td>0.380983</td>\n",
       "      <td>0.452458</td>\n",
       "    </tr>\n",
       "    <tr>\n",
       "      <th>5</th>\n",
       "      <td>6</td>\n",
       "      <td>9</td>\n",
       "      <td>1</td>\n",
       "      <td>0.1</td>\n",
       "      <td>1</td>\n",
       "      <td>0.065508</td>\n",
       "      <td>0.452458</td>\n",
       "      <td>0.523933</td>\n",
       "    </tr>\n",
       "    <tr>\n",
       "      <th>6</th>\n",
       "      <td>6</td>\n",
       "      <td>5</td>\n",
       "      <td>0</td>\n",
       "      <td>0.1</td>\n",
       "      <td>1</td>\n",
       "      <td>0.152653</td>\n",
       "      <td>0.523933</td>\n",
       "      <td>0.690492</td>\n",
       "    </tr>\n",
       "    <tr>\n",
       "      <th>7</th>\n",
       "      <td>7</td>\n",
       "      <td>8</td>\n",
       "      <td>1</td>\n",
       "      <td>0.1</td>\n",
       "      <td>1</td>\n",
       "      <td>0.065508</td>\n",
       "      <td>0.690492</td>\n",
       "      <td>0.761967</td>\n",
       "    </tr>\n",
       "    <tr>\n",
       "      <th>8</th>\n",
       "      <td>9</td>\n",
       "      <td>9</td>\n",
       "      <td>0</td>\n",
       "      <td>0.1</td>\n",
       "      <td>1</td>\n",
       "      <td>0.152653</td>\n",
       "      <td>0.761967</td>\n",
       "      <td>0.928525</td>\n",
       "    </tr>\n",
       "    <tr>\n",
       "      <th>9</th>\n",
       "      <td>9</td>\n",
       "      <td>2</td>\n",
       "      <td>0</td>\n",
       "      <td>0.1</td>\n",
       "      <td>0</td>\n",
       "      <td>0.065508</td>\n",
       "      <td>0.928525</td>\n",
       "      <td>1.000000</td>\n",
       "    </tr>\n",
       "  </tbody>\n",
       "</table>\n",
       "</div>"
      ],
      "text/plain": [
       "   X1  X2  label  weights  y_pred  updated_weights  cumsum_lower  cumsum_upper\n",
       "0   1   5      1      0.1       1         0.065508      0.000000      0.071475\n",
       "1   2   3      1      0.1       1         0.065508      0.071475      0.142950\n",
       "2   3   6      0      0.1       1         0.152653      0.142950      0.309508\n",
       "3   4   8      1      0.1       1         0.065508      0.309508      0.380983\n",
       "4   5   1      0      0.1       0         0.065508      0.380983      0.452458\n",
       "5   6   9      1      0.1       1         0.065508      0.452458      0.523933\n",
       "6   6   5      0      0.1       1         0.152653      0.523933      0.690492\n",
       "7   7   8      1      0.1       1         0.065508      0.690492      0.761967\n",
       "8   9   9      0      0.1       1         0.152653      0.761967      0.928525\n",
       "9   9   2      0      0.1       0         0.065508      0.928525      1.000000"
      ]
     },
     "execution_count": 27,
     "metadata": {},
     "output_type": "execute_result"
    }
   ],
   "source": [
    "df[['X1','X2','label','weights','y_pred','updated_weights','cumsum_lower','cumsum_upper']]"
   ]
  },
  {
   "cell_type": "code",
   "execution_count": 28,
   "id": "dbc62e49",
   "metadata": {
    "execution": {
     "iopub.execute_input": "2024-07-12T05:21:19.333613Z",
     "iopub.status.busy": "2024-07-12T05:21:19.333192Z",
     "iopub.status.idle": "2024-07-12T05:21:19.340179Z",
     "shell.execute_reply": "2024-07-12T05:21:19.338990Z"
    },
    "papermill": {
     "duration": 0.036121,
     "end_time": "2024-07-12T05:21:19.342650",
     "exception": false,
     "start_time": "2024-07-12T05:21:19.306529",
     "status": "completed"
    },
    "tags": []
   },
   "outputs": [],
   "source": [
    "def create_new_dataset(df):\n",
    "\n",
    "  indices = []\n",
    "\n",
    "  for i in range(df.shape[0]):\n",
    "    a = np.random.random()\n",
    "    for index,row in df.iterrows():\n",
    "      if row['cumsum_upper'] > a and a > row['cumsum_lower']:\n",
    "        indices.append(index)\n",
    "  return indices\n",
    "     "
   ]
  },
  {
   "cell_type": "code",
   "execution_count": 29,
   "id": "8adaabbb",
   "metadata": {
    "execution": {
     "iopub.execute_input": "2024-07-12T05:21:19.395189Z",
     "iopub.status.busy": "2024-07-12T05:21:19.394745Z",
     "iopub.status.idle": "2024-07-12T05:21:19.411346Z",
     "shell.execute_reply": "2024-07-12T05:21:19.410009Z"
    },
    "papermill": {
     "duration": 0.046202,
     "end_time": "2024-07-12T05:21:19.414049",
     "exception": false,
     "start_time": "2024-07-12T05:21:19.367847",
     "status": "completed"
    },
    "tags": []
   },
   "outputs": [
    {
     "data": {
      "text/plain": [
       "[9, 0, 7, 9, 8, 6, 2, 9, 5, 8]"
      ]
     },
     "execution_count": 29,
     "metadata": {},
     "output_type": "execute_result"
    }
   ],
   "source": [
    "index_values = create_new_dataset(df)\n",
    "\n",
    "index_values"
   ]
  },
  {
   "cell_type": "code",
   "execution_count": 30,
   "id": "71f150fb",
   "metadata": {
    "execution": {
     "iopub.execute_input": "2024-07-12T05:21:19.467056Z",
     "iopub.status.busy": "2024-07-12T05:21:19.466173Z",
     "iopub.status.idle": "2024-07-12T05:21:19.473158Z",
     "shell.execute_reply": "2024-07-12T05:21:19.471971Z"
    },
    "papermill": {
     "duration": 0.036029,
     "end_time": "2024-07-12T05:21:19.475567",
     "exception": false,
     "start_time": "2024-07-12T05:21:19.439538",
     "status": "completed"
    },
    "tags": []
   },
   "outputs": [],
   "source": [
    "second_df = df.iloc[index_values,[0,1,2,3]]"
   ]
  },
  {
   "cell_type": "code",
   "execution_count": 31,
   "id": "30b0f0a7",
   "metadata": {
    "execution": {
     "iopub.execute_input": "2024-07-12T05:21:19.528742Z",
     "iopub.status.busy": "2024-07-12T05:21:19.527941Z",
     "iopub.status.idle": "2024-07-12T05:21:19.542543Z",
     "shell.execute_reply": "2024-07-12T05:21:19.541379Z"
    },
    "papermill": {
     "duration": 0.044196,
     "end_time": "2024-07-12T05:21:19.545157",
     "exception": false,
     "start_time": "2024-07-12T05:21:19.500961",
     "status": "completed"
    },
    "tags": []
   },
   "outputs": [
    {
     "data": {
      "text/html": [
       "<div>\n",
       "<style scoped>\n",
       "    .dataframe tbody tr th:only-of-type {\n",
       "        vertical-align: middle;\n",
       "    }\n",
       "\n",
       "    .dataframe tbody tr th {\n",
       "        vertical-align: top;\n",
       "    }\n",
       "\n",
       "    .dataframe thead th {\n",
       "        text-align: right;\n",
       "    }\n",
       "</style>\n",
       "<table border=\"1\" class=\"dataframe\">\n",
       "  <thead>\n",
       "    <tr style=\"text-align: right;\">\n",
       "      <th></th>\n",
       "      <th>X1</th>\n",
       "      <th>X2</th>\n",
       "      <th>label</th>\n",
       "      <th>weights</th>\n",
       "    </tr>\n",
       "  </thead>\n",
       "  <tbody>\n",
       "    <tr>\n",
       "      <th>9</th>\n",
       "      <td>9</td>\n",
       "      <td>2</td>\n",
       "      <td>0</td>\n",
       "      <td>0.1</td>\n",
       "    </tr>\n",
       "    <tr>\n",
       "      <th>0</th>\n",
       "      <td>1</td>\n",
       "      <td>5</td>\n",
       "      <td>1</td>\n",
       "      <td>0.1</td>\n",
       "    </tr>\n",
       "    <tr>\n",
       "      <th>7</th>\n",
       "      <td>7</td>\n",
       "      <td>8</td>\n",
       "      <td>1</td>\n",
       "      <td>0.1</td>\n",
       "    </tr>\n",
       "    <tr>\n",
       "      <th>9</th>\n",
       "      <td>9</td>\n",
       "      <td>2</td>\n",
       "      <td>0</td>\n",
       "      <td>0.1</td>\n",
       "    </tr>\n",
       "    <tr>\n",
       "      <th>8</th>\n",
       "      <td>9</td>\n",
       "      <td>9</td>\n",
       "      <td>0</td>\n",
       "      <td>0.1</td>\n",
       "    </tr>\n",
       "    <tr>\n",
       "      <th>6</th>\n",
       "      <td>6</td>\n",
       "      <td>5</td>\n",
       "      <td>0</td>\n",
       "      <td>0.1</td>\n",
       "    </tr>\n",
       "    <tr>\n",
       "      <th>2</th>\n",
       "      <td>3</td>\n",
       "      <td>6</td>\n",
       "      <td>0</td>\n",
       "      <td>0.1</td>\n",
       "    </tr>\n",
       "    <tr>\n",
       "      <th>9</th>\n",
       "      <td>9</td>\n",
       "      <td>2</td>\n",
       "      <td>0</td>\n",
       "      <td>0.1</td>\n",
       "    </tr>\n",
       "    <tr>\n",
       "      <th>5</th>\n",
       "      <td>6</td>\n",
       "      <td>9</td>\n",
       "      <td>1</td>\n",
       "      <td>0.1</td>\n",
       "    </tr>\n",
       "    <tr>\n",
       "      <th>8</th>\n",
       "      <td>9</td>\n",
       "      <td>9</td>\n",
       "      <td>0</td>\n",
       "      <td>0.1</td>\n",
       "    </tr>\n",
       "  </tbody>\n",
       "</table>\n",
       "</div>"
      ],
      "text/plain": [
       "   X1  X2  label  weights\n",
       "9   9   2      0      0.1\n",
       "0   1   5      1      0.1\n",
       "7   7   8      1      0.1\n",
       "9   9   2      0      0.1\n",
       "8   9   9      0      0.1\n",
       "6   6   5      0      0.1\n",
       "2   3   6      0      0.1\n",
       "9   9   2      0      0.1\n",
       "5   6   9      1      0.1\n",
       "8   9   9      0      0.1"
      ]
     },
     "execution_count": 31,
     "metadata": {},
     "output_type": "execute_result"
    }
   ],
   "source": [
    "second_df"
   ]
  },
  {
   "cell_type": "code",
   "execution_count": 32,
   "id": "92391354",
   "metadata": {
    "execution": {
     "iopub.execute_input": "2024-07-12T05:21:19.600047Z",
     "iopub.status.busy": "2024-07-12T05:21:19.599673Z",
     "iopub.status.idle": "2024-07-12T05:21:19.604846Z",
     "shell.execute_reply": "2024-07-12T05:21:19.603705Z"
    },
    "papermill": {
     "duration": 0.035185,
     "end_time": "2024-07-12T05:21:19.607419",
     "exception": false,
     "start_time": "2024-07-12T05:21:19.572234",
     "status": "completed"
    },
    "tags": []
   },
   "outputs": [],
   "source": [
    "dt2 = DecisionTreeClassifier(max_depth=1)"
   ]
  },
  {
   "cell_type": "code",
   "execution_count": 33,
   "id": "13dd9886",
   "metadata": {
    "execution": {
     "iopub.execute_input": "2024-07-12T05:21:19.660759Z",
     "iopub.status.busy": "2024-07-12T05:21:19.660370Z",
     "iopub.status.idle": "2024-07-12T05:21:19.666559Z",
     "shell.execute_reply": "2024-07-12T05:21:19.665464Z"
    },
    "papermill": {
     "duration": 0.03585,
     "end_time": "2024-07-12T05:21:19.669276",
     "exception": false,
     "start_time": "2024-07-12T05:21:19.633426",
     "status": "completed"
    },
    "tags": []
   },
   "outputs": [],
   "source": [
    "X = second_df.iloc[:,0:2].values\n",
    "y = second_df.iloc[:,2].values"
   ]
  },
  {
   "cell_type": "code",
   "execution_count": 34,
   "id": "f9dcef41",
   "metadata": {
    "execution": {
     "iopub.execute_input": "2024-07-12T05:21:19.723283Z",
     "iopub.status.busy": "2024-07-12T05:21:19.722511Z",
     "iopub.status.idle": "2024-07-12T05:21:19.732483Z",
     "shell.execute_reply": "2024-07-12T05:21:19.731176Z"
    },
    "papermill": {
     "duration": 0.039318,
     "end_time": "2024-07-12T05:21:19.734831",
     "exception": false,
     "start_time": "2024-07-12T05:21:19.695513",
     "status": "completed"
    },
    "tags": []
   },
   "outputs": [
    {
     "data": {
      "text/html": [
       "<style>#sk-container-id-2 {color: black;background-color: white;}#sk-container-id-2 pre{padding: 0;}#sk-container-id-2 div.sk-toggleable {background-color: white;}#sk-container-id-2 label.sk-toggleable__label {cursor: pointer;display: block;width: 100%;margin-bottom: 0;padding: 0.3em;box-sizing: border-box;text-align: center;}#sk-container-id-2 label.sk-toggleable__label-arrow:before {content: \"▸\";float: left;margin-right: 0.25em;color: #696969;}#sk-container-id-2 label.sk-toggleable__label-arrow:hover:before {color: black;}#sk-container-id-2 div.sk-estimator:hover label.sk-toggleable__label-arrow:before {color: black;}#sk-container-id-2 div.sk-toggleable__content {max-height: 0;max-width: 0;overflow: hidden;text-align: left;background-color: #f0f8ff;}#sk-container-id-2 div.sk-toggleable__content pre {margin: 0.2em;color: black;border-radius: 0.25em;background-color: #f0f8ff;}#sk-container-id-2 input.sk-toggleable__control:checked~div.sk-toggleable__content {max-height: 200px;max-width: 100%;overflow: auto;}#sk-container-id-2 input.sk-toggleable__control:checked~label.sk-toggleable__label-arrow:before {content: \"▾\";}#sk-container-id-2 div.sk-estimator input.sk-toggleable__control:checked~label.sk-toggleable__label {background-color: #d4ebff;}#sk-container-id-2 div.sk-label input.sk-toggleable__control:checked~label.sk-toggleable__label {background-color: #d4ebff;}#sk-container-id-2 input.sk-hidden--visually {border: 0;clip: rect(1px 1px 1px 1px);clip: rect(1px, 1px, 1px, 1px);height: 1px;margin: -1px;overflow: hidden;padding: 0;position: absolute;width: 1px;}#sk-container-id-2 div.sk-estimator {font-family: monospace;background-color: #f0f8ff;border: 1px dotted black;border-radius: 0.25em;box-sizing: border-box;margin-bottom: 0.5em;}#sk-container-id-2 div.sk-estimator:hover {background-color: #d4ebff;}#sk-container-id-2 div.sk-parallel-item::after {content: \"\";width: 100%;border-bottom: 1px solid gray;flex-grow: 1;}#sk-container-id-2 div.sk-label:hover label.sk-toggleable__label {background-color: #d4ebff;}#sk-container-id-2 div.sk-serial::before {content: \"\";position: absolute;border-left: 1px solid gray;box-sizing: border-box;top: 0;bottom: 0;left: 50%;z-index: 0;}#sk-container-id-2 div.sk-serial {display: flex;flex-direction: column;align-items: center;background-color: white;padding-right: 0.2em;padding-left: 0.2em;position: relative;}#sk-container-id-2 div.sk-item {position: relative;z-index: 1;}#sk-container-id-2 div.sk-parallel {display: flex;align-items: stretch;justify-content: center;background-color: white;position: relative;}#sk-container-id-2 div.sk-item::before, #sk-container-id-2 div.sk-parallel-item::before {content: \"\";position: absolute;border-left: 1px solid gray;box-sizing: border-box;top: 0;bottom: 0;left: 50%;z-index: -1;}#sk-container-id-2 div.sk-parallel-item {display: flex;flex-direction: column;z-index: 1;position: relative;background-color: white;}#sk-container-id-2 div.sk-parallel-item:first-child::after {align-self: flex-end;width: 50%;}#sk-container-id-2 div.sk-parallel-item:last-child::after {align-self: flex-start;width: 50%;}#sk-container-id-2 div.sk-parallel-item:only-child::after {width: 0;}#sk-container-id-2 div.sk-dashed-wrapped {border: 1px dashed gray;margin: 0 0.4em 0.5em 0.4em;box-sizing: border-box;padding-bottom: 0.4em;background-color: white;}#sk-container-id-2 div.sk-label label {font-family: monospace;font-weight: bold;display: inline-block;line-height: 1.2em;}#sk-container-id-2 div.sk-label-container {text-align: center;}#sk-container-id-2 div.sk-container {/* jupyter's `normalize.less` sets `[hidden] { display: none; }` but bootstrap.min.css set `[hidden] { display: none !important; }` so we also need the `!important` here to be able to override the default hidden behavior on the sphinx rendered scikit-learn.org. See: https://github.com/scikit-learn/scikit-learn/issues/21755 */display: inline-block !important;position: relative;}#sk-container-id-2 div.sk-text-repr-fallback {display: none;}</style><div id=\"sk-container-id-2\" class=\"sk-top-container\"><div class=\"sk-text-repr-fallback\"><pre>DecisionTreeClassifier(max_depth=1)</pre><b>In a Jupyter environment, please rerun this cell to show the HTML representation or trust the notebook. <br />On GitHub, the HTML representation is unable to render, please try loading this page with nbviewer.org.</b></div><div class=\"sk-container\" hidden><div class=\"sk-item\"><div class=\"sk-estimator sk-toggleable\"><input class=\"sk-toggleable__control sk-hidden--visually\" id=\"sk-estimator-id-2\" type=\"checkbox\" checked><label for=\"sk-estimator-id-2\" class=\"sk-toggleable__label sk-toggleable__label-arrow\">DecisionTreeClassifier</label><div class=\"sk-toggleable__content\"><pre>DecisionTreeClassifier(max_depth=1)</pre></div></div></div></div></div>"
      ],
      "text/plain": [
       "DecisionTreeClassifier(max_depth=1)"
      ]
     },
     "execution_count": 34,
     "metadata": {},
     "output_type": "execute_result"
    }
   ],
   "source": [
    "dt2.fit(X,y)"
   ]
  },
  {
   "cell_type": "code",
   "execution_count": 35,
   "id": "1a38b81c",
   "metadata": {
    "execution": {
     "iopub.execute_input": "2024-07-12T05:21:19.788710Z",
     "iopub.status.busy": "2024-07-12T05:21:19.788324Z",
     "iopub.status.idle": "2024-07-12T05:21:20.052186Z",
     "shell.execute_reply": "2024-07-12T05:21:20.050188Z"
    },
    "papermill": {
     "duration": 0.299516,
     "end_time": "2024-07-12T05:21:20.060440",
     "exception": false,
     "start_time": "2024-07-12T05:21:19.760924",
     "status": "completed"
    },
    "tags": []
   },
   "outputs": [
    {
     "data": {
      "text/plain": [
       "[Text(0.5, 0.75, 'x[0] <= 8.0\\ngini = 0.42\\nsamples = 10\\nvalue = [7, 3]'),\n",
       " Text(0.25, 0.25, 'gini = 0.48\\nsamples = 5\\nvalue = [2, 3]'),\n",
       " Text(0.75, 0.25, 'gini = 0.0\\nsamples = 5\\nvalue = [5, 0]')]"
      ]
     },
     "execution_count": 35,
     "metadata": {},
     "output_type": "execute_result"
    },
    {
     "data": {
      "image/png": "[encoded data removed]",
      "text/plain": [
       "<Figure size 640x480 with 1 Axes>"
      ]
     },
     "metadata": {},
     "output_type": "display_data"
    }
   ],
   "source": [
    "plot_tree(dt2)"
   ]
  },
  {
   "cell_type": "code",
   "execution_count": 36,
   "id": "77fc71eb",
   "metadata": {
    "execution": {
     "iopub.execute_input": "2024-07-12T05:21:20.125865Z",
     "iopub.status.busy": "2024-07-12T05:21:20.125446Z",
     "iopub.status.idle": "2024-07-12T05:21:20.511651Z",
     "shell.execute_reply": "2024-07-12T05:21:20.510260Z"
    },
    "papermill": {
     "duration": 0.417961,
     "end_time": "2024-07-12T05:21:20.514253",
     "exception": false,
     "start_time": "2024-07-12T05:21:20.096292",
     "status": "completed"
    },
    "tags": []
   },
   "outputs": [
    {
     "data": {
      "text/plain": [
       "<Axes: >"
      ]
     },
     "execution_count": 36,
     "metadata": {},
     "output_type": "execute_result"
    },
    {
     "data": {
      "image/png": "[encoded data removed]",
      "text/plain": [
       "<Figure size 640x480 with 1 Axes>"
      ]
     },
     "metadata": {},
     "output_type": "display_data"
    }
   ],
   "source": [
    "plot_decision_regions(X, y, clf=dt2, legend=2)"
   ]
  },
  {
   "cell_type": "code",
   "execution_count": 37,
   "id": "87f2adcf",
   "metadata": {
    "execution": {
     "iopub.execute_input": "2024-07-12T05:21:20.575883Z",
     "iopub.status.busy": "2024-07-12T05:21:20.574711Z",
     "iopub.status.idle": "2024-07-12T05:21:20.581576Z",
     "shell.execute_reply": "2024-07-12T05:21:20.580361Z"
    },
    "papermill": {
     "duration": 0.039475,
     "end_time": "2024-07-12T05:21:20.584225",
     "exception": false,
     "start_time": "2024-07-12T05:21:20.544750",
     "status": "completed"
    },
    "tags": []
   },
   "outputs": [],
   "source": [
    "second_df['y_pred'] = dt2.predict(X)"
   ]
  },
  {
   "cell_type": "code",
   "execution_count": 38,
   "id": "6158d66d",
   "metadata": {
    "execution": {
     "iopub.execute_input": "2024-07-12T05:21:20.642719Z",
     "iopub.status.busy": "2024-07-12T05:21:20.641551Z",
     "iopub.status.idle": "2024-07-12T05:21:20.656339Z",
     "shell.execute_reply": "2024-07-12T05:21:20.655111Z"
    },
    "papermill": {
     "duration": 0.046997,
     "end_time": "2024-07-12T05:21:20.659005",
     "exception": false,
     "start_time": "2024-07-12T05:21:20.612008",
     "status": "completed"
    },
    "tags": []
   },
   "outputs": [
    {
     "data": {
      "text/html": [
       "<div>\n",
       "<style scoped>\n",
       "    .dataframe tbody tr th:only-of-type {\n",
       "        vertical-align: middle;\n",
       "    }\n",
       "\n",
       "    .dataframe tbody tr th {\n",
       "        vertical-align: top;\n",
       "    }\n",
       "\n",
       "    .dataframe thead th {\n",
       "        text-align: right;\n",
       "    }\n",
       "</style>\n",
       "<table border=\"1\" class=\"dataframe\">\n",
       "  <thead>\n",
       "    <tr style=\"text-align: right;\">\n",
       "      <th></th>\n",
       "      <th>X1</th>\n",
       "      <th>X2</th>\n",
       "      <th>label</th>\n",
       "      <th>weights</th>\n",
       "      <th>y_pred</th>\n",
       "    </tr>\n",
       "  </thead>\n",
       "  <tbody>\n",
       "    <tr>\n",
       "      <th>9</th>\n",
       "      <td>9</td>\n",
       "      <td>2</td>\n",
       "      <td>0</td>\n",
       "      <td>0.1</td>\n",
       "      <td>0</td>\n",
       "    </tr>\n",
       "    <tr>\n",
       "      <th>0</th>\n",
       "      <td>1</td>\n",
       "      <td>5</td>\n",
       "      <td>1</td>\n",
       "      <td>0.1</td>\n",
       "      <td>1</td>\n",
       "    </tr>\n",
       "    <tr>\n",
       "      <th>7</th>\n",
       "      <td>7</td>\n",
       "      <td>8</td>\n",
       "      <td>1</td>\n",
       "      <td>0.1</td>\n",
       "      <td>1</td>\n",
       "    </tr>\n",
       "    <tr>\n",
       "      <th>9</th>\n",
       "      <td>9</td>\n",
       "      <td>2</td>\n",
       "      <td>0</td>\n",
       "      <td>0.1</td>\n",
       "      <td>0</td>\n",
       "    </tr>\n",
       "    <tr>\n",
       "      <th>8</th>\n",
       "      <td>9</td>\n",
       "      <td>9</td>\n",
       "      <td>0</td>\n",
       "      <td>0.1</td>\n",
       "      <td>0</td>\n",
       "    </tr>\n",
       "    <tr>\n",
       "      <th>6</th>\n",
       "      <td>6</td>\n",
       "      <td>5</td>\n",
       "      <td>0</td>\n",
       "      <td>0.1</td>\n",
       "      <td>1</td>\n",
       "    </tr>\n",
       "    <tr>\n",
       "      <th>2</th>\n",
       "      <td>3</td>\n",
       "      <td>6</td>\n",
       "      <td>0</td>\n",
       "      <td>0.1</td>\n",
       "      <td>1</td>\n",
       "    </tr>\n",
       "    <tr>\n",
       "      <th>9</th>\n",
       "      <td>9</td>\n",
       "      <td>2</td>\n",
       "      <td>0</td>\n",
       "      <td>0.1</td>\n",
       "      <td>0</td>\n",
       "    </tr>\n",
       "    <tr>\n",
       "      <th>5</th>\n",
       "      <td>6</td>\n",
       "      <td>9</td>\n",
       "      <td>1</td>\n",
       "      <td>0.1</td>\n",
       "      <td>1</td>\n",
       "    </tr>\n",
       "    <tr>\n",
       "      <th>8</th>\n",
       "      <td>9</td>\n",
       "      <td>9</td>\n",
       "      <td>0</td>\n",
       "      <td>0.1</td>\n",
       "      <td>0</td>\n",
       "    </tr>\n",
       "  </tbody>\n",
       "</table>\n",
       "</div>"
      ],
      "text/plain": [
       "   X1  X2  label  weights  y_pred\n",
       "9   9   2      0      0.1       0\n",
       "0   1   5      1      0.1       1\n",
       "7   7   8      1      0.1       1\n",
       "9   9   2      0      0.1       0\n",
       "8   9   9      0      0.1       0\n",
       "6   6   5      0      0.1       1\n",
       "2   3   6      0      0.1       1\n",
       "9   9   2      0      0.1       0\n",
       "5   6   9      1      0.1       1\n",
       "8   9   9      0      0.1       0"
      ]
     },
     "execution_count": 38,
     "metadata": {},
     "output_type": "execute_result"
    }
   ],
   "source": [
    "second_df"
   ]
  },
  {
   "cell_type": "code",
   "execution_count": 39,
   "id": "96e2d2a5",
   "metadata": {
    "execution": {
     "iopub.execute_input": "2024-07-12T05:21:20.717642Z",
     "iopub.status.busy": "2024-07-12T05:21:20.717145Z",
     "iopub.status.idle": "2024-07-12T05:21:20.722483Z",
     "shell.execute_reply": "2024-07-12T05:21:20.721346Z"
    },
    "papermill": {
     "duration": 0.037573,
     "end_time": "2024-07-12T05:21:20.724859",
     "exception": false,
     "start_time": "2024-07-12T05:21:20.687286",
     "status": "completed"
    },
    "tags": []
   },
   "outputs": [],
   "source": [
    "alpha2 = calculate_model_weight(0.1)"
   ]
  },
  {
   "cell_type": "code",
   "execution_count": 40,
   "id": "31a1ae4e",
   "metadata": {
    "execution": {
     "iopub.execute_input": "2024-07-12T05:21:20.782739Z",
     "iopub.status.busy": "2024-07-12T05:21:20.782326Z",
     "iopub.status.idle": "2024-07-12T05:21:20.790071Z",
     "shell.execute_reply": "2024-07-12T05:21:20.788704Z"
    },
    "papermill": {
     "duration": 0.039926,
     "end_time": "2024-07-12T05:21:20.792656",
     "exception": false,
     "start_time": "2024-07-12T05:21:20.752730",
     "status": "completed"
    },
    "tags": []
   },
   "outputs": [
    {
     "data": {
      "text/plain": [
       "1.0986122886681098"
      ]
     },
     "execution_count": 40,
     "metadata": {},
     "output_type": "execute_result"
    }
   ],
   "source": [
    "alpha2"
   ]
  },
  {
   "cell_type": "code",
   "execution_count": 41,
   "id": "a7d4f5a3",
   "metadata": {
    "execution": {
     "iopub.execute_input": "2024-07-12T05:21:20.851982Z",
     "iopub.status.busy": "2024-07-12T05:21:20.851543Z",
     "iopub.status.idle": "2024-07-12T05:21:20.858388Z",
     "shell.execute_reply": "2024-07-12T05:21:20.857211Z"
    },
    "papermill": {
     "duration": 0.039299,
     "end_time": "2024-07-12T05:21:20.861165",
     "exception": false,
     "start_time": "2024-07-12T05:21:20.821866",
     "status": "completed"
    },
    "tags": []
   },
   "outputs": [],
   "source": [
    "# Step 4 - Update weights\n",
    "def update_row_weights(row,alpha=1.09):\n",
    "  if row['label'] == row['y_pred']:\n",
    "    return row['weights'] * np.exp(-alpha)\n",
    "  else:\n",
    "    return row['weights'] * np.exp(alpha)\n",
    "     "
   ]
  },
  {
   "cell_type": "code",
   "execution_count": 42,
   "id": "643cbcff",
   "metadata": {
    "execution": {
     "iopub.execute_input": "2024-07-12T05:21:20.918404Z",
     "iopub.status.busy": "2024-07-12T05:21:20.918002Z",
     "iopub.status.idle": "2024-07-12T05:21:20.925376Z",
     "shell.execute_reply": "2024-07-12T05:21:20.924324Z"
    },
    "papermill": {
     "duration": 0.039122,
     "end_time": "2024-07-12T05:21:20.928096",
     "exception": false,
     "start_time": "2024-07-12T05:21:20.888974",
     "status": "completed"
    },
    "tags": []
   },
   "outputs": [],
   "source": [
    "second_df['updated_weights'] = second_df.apply(update_row_weights,axis=1)"
   ]
  },
  {
   "cell_type": "code",
   "execution_count": 43,
   "id": "eab6fe4a",
   "metadata": {
    "execution": {
     "iopub.execute_input": "2024-07-12T05:21:20.985154Z",
     "iopub.status.busy": "2024-07-12T05:21:20.984730Z",
     "iopub.status.idle": "2024-07-12T05:21:21.000444Z",
     "shell.execute_reply": "2024-07-12T05:21:20.999239Z"
    },
    "papermill": {
     "duration": 0.047304,
     "end_time": "2024-07-12T05:21:21.003164",
     "exception": false,
     "start_time": "2024-07-12T05:21:20.955860",
     "status": "completed"
    },
    "tags": []
   },
   "outputs": [
    {
     "data": {
      "text/html": [
       "<div>\n",
       "<style scoped>\n",
       "    .dataframe tbody tr th:only-of-type {\n",
       "        vertical-align: middle;\n",
       "    }\n",
       "\n",
       "    .dataframe tbody tr th {\n",
       "        vertical-align: top;\n",
       "    }\n",
       "\n",
       "    .dataframe thead th {\n",
       "        text-align: right;\n",
       "    }\n",
       "</style>\n",
       "<table border=\"1\" class=\"dataframe\">\n",
       "  <thead>\n",
       "    <tr style=\"text-align: right;\">\n",
       "      <th></th>\n",
       "      <th>X1</th>\n",
       "      <th>X2</th>\n",
       "      <th>label</th>\n",
       "      <th>weights</th>\n",
       "      <th>y_pred</th>\n",
       "      <th>updated_weights</th>\n",
       "    </tr>\n",
       "  </thead>\n",
       "  <tbody>\n",
       "    <tr>\n",
       "      <th>9</th>\n",
       "      <td>9</td>\n",
       "      <td>2</td>\n",
       "      <td>0</td>\n",
       "      <td>0.1</td>\n",
       "      <td>0</td>\n",
       "      <td>0.033622</td>\n",
       "    </tr>\n",
       "    <tr>\n",
       "      <th>0</th>\n",
       "      <td>1</td>\n",
       "      <td>5</td>\n",
       "      <td>1</td>\n",
       "      <td>0.1</td>\n",
       "      <td>1</td>\n",
       "      <td>0.033622</td>\n",
       "    </tr>\n",
       "    <tr>\n",
       "      <th>7</th>\n",
       "      <td>7</td>\n",
       "      <td>8</td>\n",
       "      <td>1</td>\n",
       "      <td>0.1</td>\n",
       "      <td>1</td>\n",
       "      <td>0.033622</td>\n",
       "    </tr>\n",
       "    <tr>\n",
       "      <th>9</th>\n",
       "      <td>9</td>\n",
       "      <td>2</td>\n",
       "      <td>0</td>\n",
       "      <td>0.1</td>\n",
       "      <td>0</td>\n",
       "      <td>0.033622</td>\n",
       "    </tr>\n",
       "    <tr>\n",
       "      <th>8</th>\n",
       "      <td>9</td>\n",
       "      <td>9</td>\n",
       "      <td>0</td>\n",
       "      <td>0.1</td>\n",
       "      <td>0</td>\n",
       "      <td>0.033622</td>\n",
       "    </tr>\n",
       "    <tr>\n",
       "      <th>6</th>\n",
       "      <td>6</td>\n",
       "      <td>5</td>\n",
       "      <td>0</td>\n",
       "      <td>0.1</td>\n",
       "      <td>1</td>\n",
       "      <td>0.297427</td>\n",
       "    </tr>\n",
       "    <tr>\n",
       "      <th>2</th>\n",
       "      <td>3</td>\n",
       "      <td>6</td>\n",
       "      <td>0</td>\n",
       "      <td>0.1</td>\n",
       "      <td>1</td>\n",
       "      <td>0.297427</td>\n",
       "    </tr>\n",
       "    <tr>\n",
       "      <th>9</th>\n",
       "      <td>9</td>\n",
       "      <td>2</td>\n",
       "      <td>0</td>\n",
       "      <td>0.1</td>\n",
       "      <td>0</td>\n",
       "      <td>0.033622</td>\n",
       "    </tr>\n",
       "    <tr>\n",
       "      <th>5</th>\n",
       "      <td>6</td>\n",
       "      <td>9</td>\n",
       "      <td>1</td>\n",
       "      <td>0.1</td>\n",
       "      <td>1</td>\n",
       "      <td>0.033622</td>\n",
       "    </tr>\n",
       "    <tr>\n",
       "      <th>8</th>\n",
       "      <td>9</td>\n",
       "      <td>9</td>\n",
       "      <td>0</td>\n",
       "      <td>0.1</td>\n",
       "      <td>0</td>\n",
       "      <td>0.033622</td>\n",
       "    </tr>\n",
       "  </tbody>\n",
       "</table>\n",
       "</div>"
      ],
      "text/plain": [
       "   X1  X2  label  weights  y_pred  updated_weights\n",
       "9   9   2      0      0.1       0         0.033622\n",
       "0   1   5      1      0.1       1         0.033622\n",
       "7   7   8      1      0.1       1         0.033622\n",
       "9   9   2      0      0.1       0         0.033622\n",
       "8   9   9      0      0.1       0         0.033622\n",
       "6   6   5      0      0.1       1         0.297427\n",
       "2   3   6      0      0.1       1         0.297427\n",
       "9   9   2      0      0.1       0         0.033622\n",
       "5   6   9      1      0.1       1         0.033622\n",
       "8   9   9      0      0.1       0         0.033622"
      ]
     },
     "execution_count": 43,
     "metadata": {},
     "output_type": "execute_result"
    }
   ],
   "source": [
    "second_df\n"
   ]
  },
  {
   "cell_type": "code",
   "execution_count": 44,
   "id": "72de05d6",
   "metadata": {
    "execution": {
     "iopub.execute_input": "2024-07-12T05:21:21.062244Z",
     "iopub.status.busy": "2024-07-12T05:21:21.061787Z",
     "iopub.status.idle": "2024-07-12T05:21:21.068923Z",
     "shell.execute_reply": "2024-07-12T05:21:21.067794Z"
    },
    "papermill": {
     "duration": 0.039462,
     "end_time": "2024-07-12T05:21:21.071549",
     "exception": false,
     "start_time": "2024-07-12T05:21:21.032087",
     "status": "completed"
    },
    "tags": []
   },
   "outputs": [],
   "source": [
    "second_df['nomalized_weights'] = second_df['updated_weights']/second_df['updated_weights'].sum()"
   ]
  },
  {
   "cell_type": "code",
   "execution_count": 45,
   "id": "265b4cba",
   "metadata": {
    "execution": {
     "iopub.execute_input": "2024-07-12T05:21:21.131062Z",
     "iopub.status.busy": "2024-07-12T05:21:21.130194Z",
     "iopub.status.idle": "2024-07-12T05:21:21.147948Z",
     "shell.execute_reply": "2024-07-12T05:21:21.146573Z"
    },
    "papermill": {
     "duration": 0.050571,
     "end_time": "2024-07-12T05:21:21.150650",
     "exception": false,
     "start_time": "2024-07-12T05:21:21.100079",
     "status": "completed"
    },
    "tags": []
   },
   "outputs": [
    {
     "data": {
      "text/html": [
       "<div>\n",
       "<style scoped>\n",
       "    .dataframe tbody tr th:only-of-type {\n",
       "        vertical-align: middle;\n",
       "    }\n",
       "\n",
       "    .dataframe tbody tr th {\n",
       "        vertical-align: top;\n",
       "    }\n",
       "\n",
       "    .dataframe thead th {\n",
       "        text-align: right;\n",
       "    }\n",
       "</style>\n",
       "<table border=\"1\" class=\"dataframe\">\n",
       "  <thead>\n",
       "    <tr style=\"text-align: right;\">\n",
       "      <th></th>\n",
       "      <th>X1</th>\n",
       "      <th>X2</th>\n",
       "      <th>label</th>\n",
       "      <th>weights</th>\n",
       "      <th>y_pred</th>\n",
       "      <th>updated_weights</th>\n",
       "      <th>nomalized_weights</th>\n",
       "    </tr>\n",
       "  </thead>\n",
       "  <tbody>\n",
       "    <tr>\n",
       "      <th>9</th>\n",
       "      <td>9</td>\n",
       "      <td>2</td>\n",
       "      <td>0</td>\n",
       "      <td>0.1</td>\n",
       "      <td>0</td>\n",
       "      <td>0.033622</td>\n",
       "      <td>0.038922</td>\n",
       "    </tr>\n",
       "    <tr>\n",
       "      <th>0</th>\n",
       "      <td>1</td>\n",
       "      <td>5</td>\n",
       "      <td>1</td>\n",
       "      <td>0.1</td>\n",
       "      <td>1</td>\n",
       "      <td>0.033622</td>\n",
       "      <td>0.038922</td>\n",
       "    </tr>\n",
       "    <tr>\n",
       "      <th>7</th>\n",
       "      <td>7</td>\n",
       "      <td>8</td>\n",
       "      <td>1</td>\n",
       "      <td>0.1</td>\n",
       "      <td>1</td>\n",
       "      <td>0.033622</td>\n",
       "      <td>0.038922</td>\n",
       "    </tr>\n",
       "    <tr>\n",
       "      <th>9</th>\n",
       "      <td>9</td>\n",
       "      <td>2</td>\n",
       "      <td>0</td>\n",
       "      <td>0.1</td>\n",
       "      <td>0</td>\n",
       "      <td>0.033622</td>\n",
       "      <td>0.038922</td>\n",
       "    </tr>\n",
       "    <tr>\n",
       "      <th>8</th>\n",
       "      <td>9</td>\n",
       "      <td>9</td>\n",
       "      <td>0</td>\n",
       "      <td>0.1</td>\n",
       "      <td>0</td>\n",
       "      <td>0.033622</td>\n",
       "      <td>0.038922</td>\n",
       "    </tr>\n",
       "    <tr>\n",
       "      <th>6</th>\n",
       "      <td>6</td>\n",
       "      <td>5</td>\n",
       "      <td>0</td>\n",
       "      <td>0.1</td>\n",
       "      <td>1</td>\n",
       "      <td>0.297427</td>\n",
       "      <td>0.344313</td>\n",
       "    </tr>\n",
       "    <tr>\n",
       "      <th>2</th>\n",
       "      <td>3</td>\n",
       "      <td>6</td>\n",
       "      <td>0</td>\n",
       "      <td>0.1</td>\n",
       "      <td>1</td>\n",
       "      <td>0.297427</td>\n",
       "      <td>0.344313</td>\n",
       "    </tr>\n",
       "    <tr>\n",
       "      <th>9</th>\n",
       "      <td>9</td>\n",
       "      <td>2</td>\n",
       "      <td>0</td>\n",
       "      <td>0.1</td>\n",
       "      <td>0</td>\n",
       "      <td>0.033622</td>\n",
       "      <td>0.038922</td>\n",
       "    </tr>\n",
       "    <tr>\n",
       "      <th>5</th>\n",
       "      <td>6</td>\n",
       "      <td>9</td>\n",
       "      <td>1</td>\n",
       "      <td>0.1</td>\n",
       "      <td>1</td>\n",
       "      <td>0.033622</td>\n",
       "      <td>0.038922</td>\n",
       "    </tr>\n",
       "    <tr>\n",
       "      <th>8</th>\n",
       "      <td>9</td>\n",
       "      <td>9</td>\n",
       "      <td>0</td>\n",
       "      <td>0.1</td>\n",
       "      <td>0</td>\n",
       "      <td>0.033622</td>\n",
       "      <td>0.038922</td>\n",
       "    </tr>\n",
       "  </tbody>\n",
       "</table>\n",
       "</div>"
      ],
      "text/plain": [
       "   X1  X2  label  weights  y_pred  updated_weights  nomalized_weights\n",
       "9   9   2      0      0.1       0         0.033622           0.038922\n",
       "0   1   5      1      0.1       1         0.033622           0.038922\n",
       "7   7   8      1      0.1       1         0.033622           0.038922\n",
       "9   9   2      0      0.1       0         0.033622           0.038922\n",
       "8   9   9      0      0.1       0         0.033622           0.038922\n",
       "6   6   5      0      0.1       1         0.297427           0.344313\n",
       "2   3   6      0      0.1       1         0.297427           0.344313\n",
       "9   9   2      0      0.1       0         0.033622           0.038922\n",
       "5   6   9      1      0.1       1         0.033622           0.038922\n",
       "8   9   9      0      0.1       0         0.033622           0.038922"
      ]
     },
     "execution_count": 45,
     "metadata": {},
     "output_type": "execute_result"
    }
   ],
   "source": [
    "second_df"
   ]
  },
  {
   "cell_type": "code",
   "execution_count": 46,
   "id": "1da9e9b6",
   "metadata": {
    "execution": {
     "iopub.execute_input": "2024-07-12T05:21:21.211883Z",
     "iopub.status.busy": "2024-07-12T05:21:21.211503Z",
     "iopub.status.idle": "2024-07-12T05:21:21.219537Z",
     "shell.execute_reply": "2024-07-12T05:21:21.218223Z"
    },
    "papermill": {
     "duration": 0.04256,
     "end_time": "2024-07-12T05:21:21.221916",
     "exception": false,
     "start_time": "2024-07-12T05:21:21.179356",
     "status": "completed"
    },
    "tags": []
   },
   "outputs": [
    {
     "data": {
      "text/plain": [
       "0.9999999999999999"
      ]
     },
     "execution_count": 46,
     "metadata": {},
     "output_type": "execute_result"
    }
   ],
   "source": [
    "second_df['nomalized_weights'].sum()"
   ]
  },
  {
   "cell_type": "code",
   "execution_count": 47,
   "id": "781b2234",
   "metadata": {
    "execution": {
     "iopub.execute_input": "2024-07-12T05:21:21.282753Z",
     "iopub.status.busy": "2024-07-12T05:21:21.282364Z",
     "iopub.status.idle": "2024-07-12T05:21:21.289332Z",
     "shell.execute_reply": "2024-07-12T05:21:21.287750Z"
    },
    "papermill": {
     "duration": 0.040323,
     "end_time": "2024-07-12T05:21:21.291917",
     "exception": false,
     "start_time": "2024-07-12T05:21:21.251594",
     "status": "completed"
    },
    "tags": []
   },
   "outputs": [],
   "source": [
    "second_df['cumsum_upper'] = np.cumsum(second_df['nomalized_weights'])"
   ]
  },
  {
   "cell_type": "code",
   "execution_count": 48,
   "id": "0dfbb082",
   "metadata": {
    "execution": {
     "iopub.execute_input": "2024-07-12T05:21:21.353785Z",
     "iopub.status.busy": "2024-07-12T05:21:21.353337Z",
     "iopub.status.idle": "2024-07-12T05:21:21.360136Z",
     "shell.execute_reply": "2024-07-12T05:21:21.358931Z"
    },
    "papermill": {
     "duration": 0.041069,
     "end_time": "2024-07-12T05:21:21.362783",
     "exception": false,
     "start_time": "2024-07-12T05:21:21.321714",
     "status": "completed"
    },
    "tags": []
   },
   "outputs": [],
   "source": [
    "second_df['cumsum_lower'] = second_df['cumsum_upper'] - second_df['nomalized_weights']"
   ]
  },
  {
   "cell_type": "code",
   "execution_count": 49,
   "id": "b2175ef2",
   "metadata": {
    "execution": {
     "iopub.execute_input": "2024-07-12T05:21:21.421402Z",
     "iopub.status.busy": "2024-07-12T05:21:21.420857Z",
     "iopub.status.idle": "2024-07-12T05:21:21.440215Z",
     "shell.execute_reply": "2024-07-12T05:21:21.439051Z"
    },
    "papermill": {
     "duration": 0.051648,
     "end_time": "2024-07-12T05:21:21.443038",
     "exception": false,
     "start_time": "2024-07-12T05:21:21.391390",
     "status": "completed"
    },
    "tags": []
   },
   "outputs": [
    {
     "data": {
      "text/html": [
       "<div>\n",
       "<style scoped>\n",
       "    .dataframe tbody tr th:only-of-type {\n",
       "        vertical-align: middle;\n",
       "    }\n",
       "\n",
       "    .dataframe tbody tr th {\n",
       "        vertical-align: top;\n",
       "    }\n",
       "\n",
       "    .dataframe thead th {\n",
       "        text-align: right;\n",
       "    }\n",
       "</style>\n",
       "<table border=\"1\" class=\"dataframe\">\n",
       "  <thead>\n",
       "    <tr style=\"text-align: right;\">\n",
       "      <th></th>\n",
       "      <th>X1</th>\n",
       "      <th>X2</th>\n",
       "      <th>label</th>\n",
       "      <th>weights</th>\n",
       "      <th>y_pred</th>\n",
       "      <th>nomalized_weights</th>\n",
       "      <th>cumsum_lower</th>\n",
       "      <th>cumsum_upper</th>\n",
       "    </tr>\n",
       "  </thead>\n",
       "  <tbody>\n",
       "    <tr>\n",
       "      <th>9</th>\n",
       "      <td>9</td>\n",
       "      <td>2</td>\n",
       "      <td>0</td>\n",
       "      <td>0.1</td>\n",
       "      <td>0</td>\n",
       "      <td>0.038922</td>\n",
       "      <td>0.000000</td>\n",
       "      <td>0.038922</td>\n",
       "    </tr>\n",
       "    <tr>\n",
       "      <th>0</th>\n",
       "      <td>1</td>\n",
       "      <td>5</td>\n",
       "      <td>1</td>\n",
       "      <td>0.1</td>\n",
       "      <td>1</td>\n",
       "      <td>0.038922</td>\n",
       "      <td>0.038922</td>\n",
       "      <td>0.077843</td>\n",
       "    </tr>\n",
       "    <tr>\n",
       "      <th>7</th>\n",
       "      <td>7</td>\n",
       "      <td>8</td>\n",
       "      <td>1</td>\n",
       "      <td>0.1</td>\n",
       "      <td>1</td>\n",
       "      <td>0.038922</td>\n",
       "      <td>0.077843</td>\n",
       "      <td>0.116765</td>\n",
       "    </tr>\n",
       "    <tr>\n",
       "      <th>9</th>\n",
       "      <td>9</td>\n",
       "      <td>2</td>\n",
       "      <td>0</td>\n",
       "      <td>0.1</td>\n",
       "      <td>0</td>\n",
       "      <td>0.038922</td>\n",
       "      <td>0.116765</td>\n",
       "      <td>0.155687</td>\n",
       "    </tr>\n",
       "    <tr>\n",
       "      <th>8</th>\n",
       "      <td>9</td>\n",
       "      <td>9</td>\n",
       "      <td>0</td>\n",
       "      <td>0.1</td>\n",
       "      <td>0</td>\n",
       "      <td>0.038922</td>\n",
       "      <td>0.155687</td>\n",
       "      <td>0.194608</td>\n",
       "    </tr>\n",
       "    <tr>\n",
       "      <th>6</th>\n",
       "      <td>6</td>\n",
       "      <td>5</td>\n",
       "      <td>0</td>\n",
       "      <td>0.1</td>\n",
       "      <td>1</td>\n",
       "      <td>0.344313</td>\n",
       "      <td>0.194608</td>\n",
       "      <td>0.538922</td>\n",
       "    </tr>\n",
       "    <tr>\n",
       "      <th>2</th>\n",
       "      <td>3</td>\n",
       "      <td>6</td>\n",
       "      <td>0</td>\n",
       "      <td>0.1</td>\n",
       "      <td>1</td>\n",
       "      <td>0.344313</td>\n",
       "      <td>0.538922</td>\n",
       "      <td>0.883235</td>\n",
       "    </tr>\n",
       "    <tr>\n",
       "      <th>9</th>\n",
       "      <td>9</td>\n",
       "      <td>2</td>\n",
       "      <td>0</td>\n",
       "      <td>0.1</td>\n",
       "      <td>0</td>\n",
       "      <td>0.038922</td>\n",
       "      <td>0.883235</td>\n",
       "      <td>0.922157</td>\n",
       "    </tr>\n",
       "    <tr>\n",
       "      <th>5</th>\n",
       "      <td>6</td>\n",
       "      <td>9</td>\n",
       "      <td>1</td>\n",
       "      <td>0.1</td>\n",
       "      <td>1</td>\n",
       "      <td>0.038922</td>\n",
       "      <td>0.922157</td>\n",
       "      <td>0.961078</td>\n",
       "    </tr>\n",
       "    <tr>\n",
       "      <th>8</th>\n",
       "      <td>9</td>\n",
       "      <td>9</td>\n",
       "      <td>0</td>\n",
       "      <td>0.1</td>\n",
       "      <td>0</td>\n",
       "      <td>0.038922</td>\n",
       "      <td>0.961078</td>\n",
       "      <td>1.000000</td>\n",
       "    </tr>\n",
       "  </tbody>\n",
       "</table>\n",
       "</div>"
      ],
      "text/plain": [
       "   X1  X2  label  weights  y_pred  nomalized_weights  cumsum_lower  \\\n",
       "9   9   2      0      0.1       0           0.038922      0.000000   \n",
       "0   1   5      1      0.1       1           0.038922      0.038922   \n",
       "7   7   8      1      0.1       1           0.038922      0.077843   \n",
       "9   9   2      0      0.1       0           0.038922      0.116765   \n",
       "8   9   9      0      0.1       0           0.038922      0.155687   \n",
       "6   6   5      0      0.1       1           0.344313      0.194608   \n",
       "2   3   6      0      0.1       1           0.344313      0.538922   \n",
       "9   9   2      0      0.1       0           0.038922      0.883235   \n",
       "5   6   9      1      0.1       1           0.038922      0.922157   \n",
       "8   9   9      0      0.1       0           0.038922      0.961078   \n",
       "\n",
       "   cumsum_upper  \n",
       "9      0.038922  \n",
       "0      0.077843  \n",
       "7      0.116765  \n",
       "9      0.155687  \n",
       "8      0.194608  \n",
       "6      0.538922  \n",
       "2      0.883235  \n",
       "9      0.922157  \n",
       "5      0.961078  \n",
       "8      1.000000  "
      ]
     },
     "execution_count": 49,
     "metadata": {},
     "output_type": "execute_result"
    }
   ],
   "source": [
    "second_df[['X1','X2','label','weights','y_pred','nomalized_weights','cumsum_lower','cumsum_upper']]"
   ]
  },
  {
   "cell_type": "code",
   "execution_count": 50,
   "id": "da31393f",
   "metadata": {
    "execution": {
     "iopub.execute_input": "2024-07-12T05:21:21.503187Z",
     "iopub.status.busy": "2024-07-12T05:21:21.502737Z",
     "iopub.status.idle": "2024-07-12T05:21:21.516807Z",
     "shell.execute_reply": "2024-07-12T05:21:21.515522Z"
    },
    "papermill": {
     "duration": 0.047761,
     "end_time": "2024-07-12T05:21:21.519836",
     "exception": false,
     "start_time": "2024-07-12T05:21:21.472075",
     "status": "completed"
    },
    "tags": []
   },
   "outputs": [],
   "source": [
    "index_values = create_new_dataset(second_df)"
   ]
  },
  {
   "cell_type": "code",
   "execution_count": 51,
   "id": "61fb75fd",
   "metadata": {
    "execution": {
     "iopub.execute_input": "2024-07-12T05:21:21.579578Z",
     "iopub.status.busy": "2024-07-12T05:21:21.579167Z",
     "iopub.status.idle": "2024-07-12T05:21:21.585845Z",
     "shell.execute_reply": "2024-07-12T05:21:21.584817Z"
    },
    "papermill": {
     "duration": 0.039339,
     "end_time": "2024-07-12T05:21:21.588347",
     "exception": false,
     "start_time": "2024-07-12T05:21:21.549008",
     "status": "completed"
    },
    "tags": []
   },
   "outputs": [],
   "source": [
    "third_df = second_df.iloc[index_values,[0,1,2,3]]"
   ]
  },
  {
   "cell_type": "code",
   "execution_count": 52,
   "id": "2307e497",
   "metadata": {
    "execution": {
     "iopub.execute_input": "2024-07-12T05:21:21.647654Z",
     "iopub.status.busy": "2024-07-12T05:21:21.647249Z",
     "iopub.status.idle": "2024-07-12T05:21:21.661016Z",
     "shell.execute_reply": "2024-07-12T05:21:21.659887Z"
    },
    "papermill": {
     "duration": 0.046117,
     "end_time": "2024-07-12T05:21:21.663436",
     "exception": false,
     "start_time": "2024-07-12T05:21:21.617319",
     "status": "completed"
    },
    "tags": []
   },
   "outputs": [
    {
     "data": {
      "text/html": [
       "<div>\n",
       "<style scoped>\n",
       "    .dataframe tbody tr th:only-of-type {\n",
       "        vertical-align: middle;\n",
       "    }\n",
       "\n",
       "    .dataframe tbody tr th {\n",
       "        vertical-align: top;\n",
       "    }\n",
       "\n",
       "    .dataframe thead th {\n",
       "        text-align: right;\n",
       "    }\n",
       "</style>\n",
       "<table border=\"1\" class=\"dataframe\">\n",
       "  <thead>\n",
       "    <tr style=\"text-align: right;\">\n",
       "      <th></th>\n",
       "      <th>X1</th>\n",
       "      <th>X2</th>\n",
       "      <th>label</th>\n",
       "      <th>weights</th>\n",
       "    </tr>\n",
       "  </thead>\n",
       "  <tbody>\n",
       "    <tr>\n",
       "      <th>2</th>\n",
       "      <td>3</td>\n",
       "      <td>6</td>\n",
       "      <td>0</td>\n",
       "      <td>0.1</td>\n",
       "    </tr>\n",
       "    <tr>\n",
       "      <th>2</th>\n",
       "      <td>3</td>\n",
       "      <td>6</td>\n",
       "      <td>0</td>\n",
       "      <td>0.1</td>\n",
       "    </tr>\n",
       "    <tr>\n",
       "      <th>9</th>\n",
       "      <td>9</td>\n",
       "      <td>2</td>\n",
       "      <td>0</td>\n",
       "      <td>0.1</td>\n",
       "    </tr>\n",
       "    <tr>\n",
       "      <th>5</th>\n",
       "      <td>6</td>\n",
       "      <td>9</td>\n",
       "      <td>1</td>\n",
       "      <td>0.1</td>\n",
       "    </tr>\n",
       "    <tr>\n",
       "      <th>8</th>\n",
       "      <td>9</td>\n",
       "      <td>9</td>\n",
       "      <td>0</td>\n",
       "      <td>0.1</td>\n",
       "    </tr>\n",
       "    <tr>\n",
       "      <th>5</th>\n",
       "      <td>6</td>\n",
       "      <td>9</td>\n",
       "      <td>1</td>\n",
       "      <td>0.1</td>\n",
       "    </tr>\n",
       "    <tr>\n",
       "      <th>8</th>\n",
       "      <td>9</td>\n",
       "      <td>9</td>\n",
       "      <td>0</td>\n",
       "      <td>0.1</td>\n",
       "    </tr>\n",
       "    <tr>\n",
       "      <th>2</th>\n",
       "      <td>3</td>\n",
       "      <td>6</td>\n",
       "      <td>0</td>\n",
       "      <td>0.1</td>\n",
       "    </tr>\n",
       "    <tr>\n",
       "      <th>7</th>\n",
       "      <td>7</td>\n",
       "      <td>8</td>\n",
       "      <td>1</td>\n",
       "      <td>0.1</td>\n",
       "    </tr>\n",
       "    <tr>\n",
       "      <th>9</th>\n",
       "      <td>9</td>\n",
       "      <td>2</td>\n",
       "      <td>0</td>\n",
       "      <td>0.1</td>\n",
       "    </tr>\n",
       "  </tbody>\n",
       "</table>\n",
       "</div>"
      ],
      "text/plain": [
       "   X1  X2  label  weights\n",
       "2   3   6      0      0.1\n",
       "2   3   6      0      0.1\n",
       "9   9   2      0      0.1\n",
       "5   6   9      1      0.1\n",
       "8   9   9      0      0.1\n",
       "5   6   9      1      0.1\n",
       "8   9   9      0      0.1\n",
       "2   3   6      0      0.1\n",
       "7   7   8      1      0.1\n",
       "9   9   2      0      0.1"
      ]
     },
     "execution_count": 52,
     "metadata": {},
     "output_type": "execute_result"
    }
   ],
   "source": [
    "third_df"
   ]
  },
  {
   "cell_type": "code",
   "execution_count": 53,
   "id": "365a66ba",
   "metadata": {
    "execution": {
     "iopub.execute_input": "2024-07-12T05:21:21.723983Z",
     "iopub.status.busy": "2024-07-12T05:21:21.723556Z",
     "iopub.status.idle": "2024-07-12T05:21:21.736552Z",
     "shell.execute_reply": "2024-07-12T05:21:21.735425Z"
    },
    "papermill": {
     "duration": 0.046395,
     "end_time": "2024-07-12T05:21:21.739204",
     "exception": false,
     "start_time": "2024-07-12T05:21:21.692809",
     "status": "completed"
    },
    "tags": []
   },
   "outputs": [
    {
     "data": {
      "text/html": [
       "<style>#sk-container-id-3 {color: black;background-color: white;}#sk-container-id-3 pre{padding: 0;}#sk-container-id-3 div.sk-toggleable {background-color: white;}#sk-container-id-3 label.sk-toggleable__label {cursor: pointer;display: block;width: 100%;margin-bottom: 0;padding: 0.3em;box-sizing: border-box;text-align: center;}#sk-container-id-3 label.sk-toggleable__label-arrow:before {content: \"▸\";float: left;margin-right: 0.25em;color: #696969;}#sk-container-id-3 label.sk-toggleable__label-arrow:hover:before {color: black;}#sk-container-id-3 div.sk-estimator:hover label.sk-toggleable__label-arrow:before {color: black;}#sk-container-id-3 div.sk-toggleable__content {max-height: 0;max-width: 0;overflow: hidden;text-align: left;background-color: #f0f8ff;}#sk-container-id-3 div.sk-toggleable__content pre {margin: 0.2em;color: black;border-radius: 0.25em;background-color: #f0f8ff;}#sk-container-id-3 input.sk-toggleable__control:checked~div.sk-toggleable__content {max-height: 200px;max-width: 100%;overflow: auto;}#sk-container-id-3 input.sk-toggleable__control:checked~label.sk-toggleable__label-arrow:before {content: \"▾\";}#sk-container-id-3 div.sk-estimator input.sk-toggleable__control:checked~label.sk-toggleable__label {background-color: #d4ebff;}#sk-container-id-3 div.sk-label input.sk-toggleable__control:checked~label.sk-toggleable__label {background-color: #d4ebff;}#sk-container-id-3 input.sk-hidden--visually {border: 0;clip: rect(1px 1px 1px 1px);clip: rect(1px, 1px, 1px, 1px);height: 1px;margin: -1px;overflow: hidden;padding: 0;position: absolute;width: 1px;}#sk-container-id-3 div.sk-estimator {font-family: monospace;background-color: #f0f8ff;border: 1px dotted black;border-radius: 0.25em;box-sizing: border-box;margin-bottom: 0.5em;}#sk-container-id-3 div.sk-estimator:hover {background-color: #d4ebff;}#sk-container-id-3 div.sk-parallel-item::after {content: \"\";width: 100%;border-bottom: 1px solid gray;flex-grow: 1;}#sk-container-id-3 div.sk-label:hover label.sk-toggleable__label {background-color: #d4ebff;}#sk-container-id-3 div.sk-serial::before {content: \"\";position: absolute;border-left: 1px solid gray;box-sizing: border-box;top: 0;bottom: 0;left: 50%;z-index: 0;}#sk-container-id-3 div.sk-serial {display: flex;flex-direction: column;align-items: center;background-color: white;padding-right: 0.2em;padding-left: 0.2em;position: relative;}#sk-container-id-3 div.sk-item {position: relative;z-index: 1;}#sk-container-id-3 div.sk-parallel {display: flex;align-items: stretch;justify-content: center;background-color: white;position: relative;}#sk-container-id-3 div.sk-item::before, #sk-container-id-3 div.sk-parallel-item::before {content: \"\";position: absolute;border-left: 1px solid gray;box-sizing: border-box;top: 0;bottom: 0;left: 50%;z-index: -1;}#sk-container-id-3 div.sk-parallel-item {display: flex;flex-direction: column;z-index: 1;position: relative;background-color: white;}#sk-container-id-3 div.sk-parallel-item:first-child::after {align-self: flex-end;width: 50%;}#sk-container-id-3 div.sk-parallel-item:last-child::after {align-self: flex-start;width: 50%;}#sk-container-id-3 div.sk-parallel-item:only-child::after {width: 0;}#sk-container-id-3 div.sk-dashed-wrapped {border: 1px dashed gray;margin: 0 0.4em 0.5em 0.4em;box-sizing: border-box;padding-bottom: 0.4em;background-color: white;}#sk-container-id-3 div.sk-label label {font-family: monospace;font-weight: bold;display: inline-block;line-height: 1.2em;}#sk-container-id-3 div.sk-label-container {text-align: center;}#sk-container-id-3 div.sk-container {/* jupyter's `normalize.less` sets `[hidden] { display: none; }` but bootstrap.min.css set `[hidden] { display: none !important; }` so we also need the `!important` here to be able to override the default hidden behavior on the sphinx rendered scikit-learn.org. See: https://github.com/scikit-learn/scikit-learn/issues/21755 */display: inline-block !important;position: relative;}#sk-container-id-3 div.sk-text-repr-fallback {display: none;}</style><div id=\"sk-container-id-3\" class=\"sk-top-container\"><div class=\"sk-text-repr-fallback\"><pre>DecisionTreeClassifier(max_depth=1)</pre><b>In a Jupyter environment, please rerun this cell to show the HTML representation or trust the notebook. <br />On GitHub, the HTML representation is unable to render, please try loading this page with nbviewer.org.</b></div><div class=\"sk-container\" hidden><div class=\"sk-item\"><div class=\"sk-estimator sk-toggleable\"><input class=\"sk-toggleable__control sk-hidden--visually\" id=\"sk-estimator-id-3\" type=\"checkbox\" checked><label for=\"sk-estimator-id-3\" class=\"sk-toggleable__label sk-toggleable__label-arrow\">DecisionTreeClassifier</label><div class=\"sk-toggleable__content\"><pre>DecisionTreeClassifier(max_depth=1)</pre></div></div></div></div></div>"
      ],
      "text/plain": [
       "DecisionTreeClassifier(max_depth=1)"
      ]
     },
     "execution_count": 53,
     "metadata": {},
     "output_type": "execute_result"
    }
   ],
   "source": [
    "dt3 = DecisionTreeClassifier(max_depth=1)\n",
    "\n",
    "X = second_df.iloc[:,0:2].values\n",
    "y = second_df.iloc[:,2].values\n",
    "\n",
    "dt3.fit(X,y)"
   ]
  },
  {
   "cell_type": "code",
   "execution_count": 54,
   "id": "9c723a27",
   "metadata": {
    "execution": {
     "iopub.execute_input": "2024-07-12T05:21:21.803506Z",
     "iopub.status.busy": "2024-07-12T05:21:21.802410Z",
     "iopub.status.idle": "2024-07-12T05:21:22.135311Z",
     "shell.execute_reply": "2024-07-12T05:21:22.134140Z"
    },
    "papermill": {
     "duration": 0.367965,
     "end_time": "2024-07-12T05:21:22.137865",
     "exception": false,
     "start_time": "2024-07-12T05:21:21.769900",
     "status": "completed"
    },
    "tags": []
   },
   "outputs": [
    {
     "data": {
      "text/plain": [
       "<Axes: >"
      ]
     },
     "execution_count": 54,
     "metadata": {},
     "output_type": "execute_result"
    },
    {
     "data": {
      "image/png": "[encoded data removed]",
      "text/plain": [
       "<Figure size 640x480 with 1 Axes>"
      ]
     },
     "metadata": {},
     "output_type": "display_data"
    }
   ],
   "source": [
    "plot_decision_regions(X, y, clf=dt3, legend=2)"
   ]
  },
  {
   "cell_type": "code",
   "execution_count": 55,
   "id": "49b6dc96",
   "metadata": {
    "execution": {
     "iopub.execute_input": "2024-07-12T05:21:22.199212Z",
     "iopub.status.busy": "2024-07-12T05:21:22.198764Z",
     "iopub.status.idle": "2024-07-12T05:21:22.206351Z",
     "shell.execute_reply": "2024-07-12T05:21:22.205180Z"
    },
    "papermill": {
     "duration": 0.041073,
     "end_time": "2024-07-12T05:21:22.208857",
     "exception": false,
     "start_time": "2024-07-12T05:21:22.167784",
     "status": "completed"
    },
    "tags": []
   },
   "outputs": [],
   "source": [
    "third_df['y_pred'] = dt3.predict(X)"
   ]
  },
  {
   "cell_type": "code",
   "execution_count": 56,
   "id": "4195d4c5",
   "metadata": {
    "execution": {
     "iopub.execute_input": "2024-07-12T05:21:22.271539Z",
     "iopub.status.busy": "2024-07-12T05:21:22.271051Z",
     "iopub.status.idle": "2024-07-12T05:21:22.285801Z",
     "shell.execute_reply": "2024-07-12T05:21:22.284466Z"
    },
    "papermill": {
     "duration": 0.048723,
     "end_time": "2024-07-12T05:21:22.288338",
     "exception": false,
     "start_time": "2024-07-12T05:21:22.239615",
     "status": "completed"
    },
    "tags": []
   },
   "outputs": [
    {
     "data": {
      "text/html": [
       "<div>\n",
       "<style scoped>\n",
       "    .dataframe tbody tr th:only-of-type {\n",
       "        vertical-align: middle;\n",
       "    }\n",
       "\n",
       "    .dataframe tbody tr th {\n",
       "        vertical-align: top;\n",
       "    }\n",
       "\n",
       "    .dataframe thead th {\n",
       "        text-align: right;\n",
       "    }\n",
       "</style>\n",
       "<table border=\"1\" class=\"dataframe\">\n",
       "  <thead>\n",
       "    <tr style=\"text-align: right;\">\n",
       "      <th></th>\n",
       "      <th>X1</th>\n",
       "      <th>X2</th>\n",
       "      <th>label</th>\n",
       "      <th>weights</th>\n",
       "      <th>y_pred</th>\n",
       "    </tr>\n",
       "  </thead>\n",
       "  <tbody>\n",
       "    <tr>\n",
       "      <th>2</th>\n",
       "      <td>3</td>\n",
       "      <td>6</td>\n",
       "      <td>0</td>\n",
       "      <td>0.1</td>\n",
       "      <td>0</td>\n",
       "    </tr>\n",
       "    <tr>\n",
       "      <th>2</th>\n",
       "      <td>3</td>\n",
       "      <td>6</td>\n",
       "      <td>0</td>\n",
       "      <td>0.1</td>\n",
       "      <td>1</td>\n",
       "    </tr>\n",
       "    <tr>\n",
       "      <th>9</th>\n",
       "      <td>9</td>\n",
       "      <td>2</td>\n",
       "      <td>0</td>\n",
       "      <td>0.1</td>\n",
       "      <td>1</td>\n",
       "    </tr>\n",
       "    <tr>\n",
       "      <th>5</th>\n",
       "      <td>6</td>\n",
       "      <td>9</td>\n",
       "      <td>1</td>\n",
       "      <td>0.1</td>\n",
       "      <td>0</td>\n",
       "    </tr>\n",
       "    <tr>\n",
       "      <th>8</th>\n",
       "      <td>9</td>\n",
       "      <td>9</td>\n",
       "      <td>0</td>\n",
       "      <td>0.1</td>\n",
       "      <td>0</td>\n",
       "    </tr>\n",
       "    <tr>\n",
       "      <th>5</th>\n",
       "      <td>6</td>\n",
       "      <td>9</td>\n",
       "      <td>1</td>\n",
       "      <td>0.1</td>\n",
       "      <td>1</td>\n",
       "    </tr>\n",
       "    <tr>\n",
       "      <th>8</th>\n",
       "      <td>9</td>\n",
       "      <td>9</td>\n",
       "      <td>0</td>\n",
       "      <td>0.1</td>\n",
       "      <td>1</td>\n",
       "    </tr>\n",
       "    <tr>\n",
       "      <th>2</th>\n",
       "      <td>3</td>\n",
       "      <td>6</td>\n",
       "      <td>0</td>\n",
       "      <td>0.1</td>\n",
       "      <td>0</td>\n",
       "    </tr>\n",
       "    <tr>\n",
       "      <th>7</th>\n",
       "      <td>7</td>\n",
       "      <td>8</td>\n",
       "      <td>1</td>\n",
       "      <td>0.1</td>\n",
       "      <td>1</td>\n",
       "    </tr>\n",
       "    <tr>\n",
       "      <th>9</th>\n",
       "      <td>9</td>\n",
       "      <td>2</td>\n",
       "      <td>0</td>\n",
       "      <td>0.1</td>\n",
       "      <td>0</td>\n",
       "    </tr>\n",
       "  </tbody>\n",
       "</table>\n",
       "</div>"
      ],
      "text/plain": [
       "   X1  X2  label  weights  y_pred\n",
       "2   3   6      0      0.1       0\n",
       "2   3   6      0      0.1       1\n",
       "9   9   2      0      0.1       1\n",
       "5   6   9      1      0.1       0\n",
       "8   9   9      0      0.1       0\n",
       "5   6   9      1      0.1       1\n",
       "8   9   9      0      0.1       1\n",
       "2   3   6      0      0.1       0\n",
       "7   7   8      1      0.1       1\n",
       "9   9   2      0      0.1       0"
      ]
     },
     "execution_count": 56,
     "metadata": {},
     "output_type": "execute_result"
    }
   ],
   "source": [
    "third_df"
   ]
  },
  {
   "cell_type": "code",
   "execution_count": 57,
   "id": "926b73a3",
   "metadata": {
    "execution": {
     "iopub.execute_input": "2024-07-12T05:21:22.350690Z",
     "iopub.status.busy": "2024-07-12T05:21:22.350278Z",
     "iopub.status.idle": "2024-07-12T05:21:22.357830Z",
     "shell.execute_reply": "2024-07-12T05:21:22.356490Z"
    },
    "papermill": {
     "duration": 0.041961,
     "end_time": "2024-07-12T05:21:22.360571",
     "exception": false,
     "start_time": "2024-07-12T05:21:22.318610",
     "status": "completed"
    },
    "tags": []
   },
   "outputs": [
    {
     "data": {
      "text/plain": [
       "-0.4236489301936017"
      ]
     },
     "execution_count": 57,
     "metadata": {},
     "output_type": "execute_result"
    }
   ],
   "source": [
    "alpha3 = calculate_model_weight(0.7)\n",
    "alpha3"
   ]
  },
  {
   "cell_type": "code",
   "execution_count": 58,
   "id": "4f7fa946",
   "metadata": {
    "execution": {
     "iopub.execute_input": "2024-07-12T05:21:22.422979Z",
     "iopub.status.busy": "2024-07-12T05:21:22.422518Z",
     "iopub.status.idle": "2024-07-12T05:21:22.429005Z",
     "shell.execute_reply": "2024-07-12T05:21:22.427788Z"
    },
    "papermill": {
     "duration": 0.040802,
     "end_time": "2024-07-12T05:21:22.431651",
     "exception": false,
     "start_time": "2024-07-12T05:21:22.390849",
     "status": "completed"
    },
    "tags": []
   },
   "outputs": [
    {
     "name": "stdout",
     "output_type": "stream",
     "text": [
      "0.42364893019360184 1.0986122886681098 -0.4236489301936017\n"
     ]
    }
   ],
   "source": [
    "print(alpha1,alpha2,alpha3)"
   ]
  },
  {
   "cell_type": "markdown",
   "id": "94623a88",
   "metadata": {
    "papermill": {
     "duration": 0.029843,
     "end_time": "2024-07-12T05:21:22.491913",
     "exception": false,
     "start_time": "2024-07-12T05:21:22.462070",
     "status": "completed"
    },
    "tags": []
   },
   "source": [
    "# ***Prediction***"
   ]
  },
  {
   "cell_type": "code",
   "execution_count": 59,
   "id": "16c223e1",
   "metadata": {
    "execution": {
     "iopub.execute_input": "2024-07-12T05:21:22.554221Z",
     "iopub.status.busy": "2024-07-12T05:21:22.553806Z",
     "iopub.status.idle": "2024-07-12T05:21:22.562365Z",
     "shell.execute_reply": "2024-07-12T05:21:22.561071Z"
    },
    "papermill": {
     "duration": 0.042575,
     "end_time": "2024-07-12T05:21:22.564867",
     "exception": false,
     "start_time": "2024-07-12T05:21:22.522292",
     "status": "completed"
    },
    "tags": []
   },
   "outputs": [
    {
     "data": {
      "text/plain": [
       "array([1])"
      ]
     },
     "execution_count": 59,
     "metadata": {},
     "output_type": "execute_result"
    }
   ],
   "source": [
    "query = np.array([1,5]).reshape(1,2)\n",
    "dt1.predict(query)\n",
    "  "
   ]
  },
  {
   "cell_type": "code",
   "execution_count": 60,
   "id": "fe18d024",
   "metadata": {
    "execution": {
     "iopub.execute_input": "2024-07-12T05:21:22.628341Z",
     "iopub.status.busy": "2024-07-12T05:21:22.627904Z",
     "iopub.status.idle": "2024-07-12T05:21:22.635596Z",
     "shell.execute_reply": "2024-07-12T05:21:22.634501Z"
    },
    "papermill": {
     "duration": 0.042441,
     "end_time": "2024-07-12T05:21:22.637890",
     "exception": false,
     "start_time": "2024-07-12T05:21:22.595449",
     "status": "completed"
    },
    "tags": []
   },
   "outputs": [
    {
     "data": {
      "text/plain": [
       "array([1])"
      ]
     },
     "execution_count": 60,
     "metadata": {},
     "output_type": "execute_result"
    }
   ],
   "source": [
    "dt2.predict(query)\n"
   ]
  },
  {
   "cell_type": "code",
   "execution_count": 61,
   "id": "6ae11622",
   "metadata": {
    "execution": {
     "iopub.execute_input": "2024-07-12T05:21:22.703020Z",
     "iopub.status.busy": "2024-07-12T05:21:22.702608Z",
     "iopub.status.idle": "2024-07-12T05:21:22.710518Z",
     "shell.execute_reply": "2024-07-12T05:21:22.709404Z"
    },
    "papermill": {
     "duration": 0.043144,
     "end_time": "2024-07-12T05:21:22.712848",
     "exception": false,
     "start_time": "2024-07-12T05:21:22.669704",
     "status": "completed"
    },
    "tags": []
   },
   "outputs": [
    {
     "data": {
      "text/plain": [
       "array([1])"
      ]
     },
     "execution_count": 61,
     "metadata": {},
     "output_type": "execute_result"
    }
   ],
   "source": [
    "dt3.predict(query)\n"
   ]
  },
  {
   "cell_type": "code",
   "execution_count": 62,
   "id": "f3ddac22",
   "metadata": {
    "execution": {
     "iopub.execute_input": "2024-07-12T05:21:22.776177Z",
     "iopub.status.busy": "2024-07-12T05:21:22.775737Z",
     "iopub.status.idle": "2024-07-12T05:21:22.783967Z",
     "shell.execute_reply": "2024-07-12T05:21:22.782531Z"
    },
    "papermill": {
     "duration": 0.042695,
     "end_time": "2024-07-12T05:21:22.786401",
     "exception": false,
     "start_time": "2024-07-12T05:21:22.743706",
     "status": "completed"
    },
    "tags": []
   },
   "outputs": [
    {
     "data": {
      "text/plain": [
       "1.09861228866811"
      ]
     },
     "execution_count": 62,
     "metadata": {},
     "output_type": "execute_result"
    }
   ],
   "source": [
    "alpha1*1 + alpha2*(1) + alpha3*(1)\n"
   ]
  },
  {
   "cell_type": "code",
   "execution_count": 63,
   "id": "649be3b8",
   "metadata": {
    "execution": {
     "iopub.execute_input": "2024-07-12T05:21:22.851306Z",
     "iopub.status.busy": "2024-07-12T05:21:22.850833Z",
     "iopub.status.idle": "2024-07-12T05:21:22.858705Z",
     "shell.execute_reply": "2024-07-12T05:21:22.857557Z"
    },
    "papermill": {
     "duration": 0.042838,
     "end_time": "2024-07-12T05:21:22.861338",
     "exception": false,
     "start_time": "2024-07-12T05:21:22.818500",
     "status": "completed"
    },
    "tags": []
   },
   "outputs": [
    {
     "data": {
      "text/plain": [
       "1.0"
      ]
     },
     "execution_count": 63,
     "metadata": {},
     "output_type": "execute_result"
    }
   ],
   "source": [
    "np.sign(1.09)\n"
   ]
  },
  {
   "cell_type": "code",
   "execution_count": 64,
   "id": "0f8396e2",
   "metadata": {
    "execution": {
     "iopub.execute_input": "2024-07-12T05:21:22.926068Z",
     "iopub.status.busy": "2024-07-12T05:21:22.925673Z",
     "iopub.status.idle": "2024-07-12T05:21:22.934586Z",
     "shell.execute_reply": "2024-07-12T05:21:22.933265Z"
    },
    "papermill": {
     "duration": 0.044006,
     "end_time": "2024-07-12T05:21:22.936981",
     "exception": false,
     "start_time": "2024-07-12T05:21:22.892975",
     "status": "completed"
    },
    "tags": []
   },
   "outputs": [
    {
     "data": {
      "text/plain": [
       "array([1])"
      ]
     },
     "execution_count": 64,
     "metadata": {},
     "output_type": "execute_result"
    }
   ],
   "source": [
    "query = np.array([9,9]).reshape(1,2)\n",
    "dt1.predict(query)\n",
    "     \n"
   ]
  },
  {
   "cell_type": "code",
   "execution_count": 65,
   "id": "0f386ae8",
   "metadata": {
    "execution": {
     "iopub.execute_input": "2024-07-12T05:21:23.004175Z",
     "iopub.status.busy": "2024-07-12T05:21:23.003562Z",
     "iopub.status.idle": "2024-07-12T05:21:23.011548Z",
     "shell.execute_reply": "2024-07-12T05:21:23.010467Z"
    },
    "papermill": {
     "duration": 0.045555,
     "end_time": "2024-07-12T05:21:23.013880",
     "exception": false,
     "start_time": "2024-07-12T05:21:22.968325",
     "status": "completed"
    },
    "tags": []
   },
   "outputs": [
    {
     "data": {
      "text/plain": [
       "array([0])"
      ]
     },
     "execution_count": 65,
     "metadata": {},
     "output_type": "execute_result"
    }
   ],
   "source": [
    "dt2.predict(query)\n"
   ]
  },
  {
   "cell_type": "code",
   "execution_count": 66,
   "id": "65c0d796",
   "metadata": {
    "execution": {
     "iopub.execute_input": "2024-07-12T05:21:23.079757Z",
     "iopub.status.busy": "2024-07-12T05:21:23.078858Z",
     "iopub.status.idle": "2024-07-12T05:21:23.087168Z",
     "shell.execute_reply": "2024-07-12T05:21:23.086067Z"
    },
    "papermill": {
     "duration": 0.043573,
     "end_time": "2024-07-12T05:21:23.089576",
     "exception": false,
     "start_time": "2024-07-12T05:21:23.046003",
     "status": "completed"
    },
    "tags": []
   },
   "outputs": [
    {
     "data": {
      "text/plain": [
       "array([0])"
      ]
     },
     "execution_count": 66,
     "metadata": {},
     "output_type": "execute_result"
    }
   ],
   "source": [
    "dt3.predict(query)\n"
   ]
  },
  {
   "cell_type": "code",
   "execution_count": 67,
   "id": "7b155493",
   "metadata": {
    "execution": {
     "iopub.execute_input": "2024-07-12T05:21:23.154114Z",
     "iopub.status.busy": "2024-07-12T05:21:23.153704Z",
     "iopub.status.idle": "2024-07-12T05:21:23.161162Z",
     "shell.execute_reply": "2024-07-12T05:21:23.160075Z"
    },
    "papermill": {
     "duration": 0.042563,
     "end_time": "2024-07-12T05:21:23.163547",
     "exception": false,
     "start_time": "2024-07-12T05:21:23.120984",
     "status": "completed"
    },
    "tags": []
   },
   "outputs": [
    {
     "data": {
      "text/plain": [
       "-0.2513144282809062"
      ]
     },
     "execution_count": 67,
     "metadata": {},
     "output_type": "execute_result"
    }
   ],
   "source": [
    "alpha1*(1) + alpha2*(-1) + alpha3*(-1)\n"
   ]
  },
  {
   "cell_type": "code",
   "execution_count": 68,
   "id": "bd76aff6",
   "metadata": {
    "execution": {
     "iopub.execute_input": "2024-07-12T05:21:23.230363Z",
     "iopub.status.busy": "2024-07-12T05:21:23.229898Z",
     "iopub.status.idle": "2024-07-12T05:21:23.237374Z",
     "shell.execute_reply": "2024-07-12T05:21:23.236284Z"
    },
    "papermill": {
     "duration": 0.044552,
     "end_time": "2024-07-12T05:21:23.239969",
     "exception": false,
     "start_time": "2024-07-12T05:21:23.195417",
     "status": "completed"
    },
    "tags": []
   },
   "outputs": [
    {
     "data": {
      "text/plain": [
       "-1.0"
      ]
     },
     "execution_count": 68,
     "metadata": {},
     "output_type": "execute_result"
    }
   ],
   "source": [
    "np.sign(-0.25)\n"
   ]
  },
  {
   "cell_type": "code",
   "execution_count": null,
   "id": "e4840488",
   "metadata": {
    "papermill": {
     "duration": 0.033405,
     "end_time": "2024-07-12T05:21:23.305311",
     "exception": false,
     "start_time": "2024-07-12T05:21:23.271906",
     "status": "completed"
    },
    "tags": []
   },
   "outputs": [],
   "source": []
  }
 ],
 "metadata": {
  "kaggle": {
   "accelerator": "none",
   "dataSources": [],
   "dockerImageVersionId": 30746,
   "isGpuEnabled": false,
   "isInternetEnabled": false,
   "language": "python",
   "sourceType": "notebook"
  },
  "kernelspec": {
   "display_name": "Python 3",
   "language": "python",
   "name": "python3"
  },
  "language_info": {
   "codemirror_mode": {
    "name": "ipython",
    "version": 3
   },
   "file_extension": ".py",
   "mimetype": "text/x-python",
   "name": "python",
   "nbconvert_exporter": "python",
   "pygments_lexer": "ipython3",
   "version": "3.10.13"
  },
  "papermill": {
   "default_parameters": {},
   "duration": 14.020123,
   "end_time": "2024-07-12T05:21:24.062221",
   "environment_variables": {},
   "exception": null,
   "input_path": "__notebook__.ipynb",
   "output_path": "__notebook__.ipynb",
   "parameters": {},
   "start_time": "2024-07-12T05:21:10.042098",
   "version": "2.5.0"
  }
 },
 "nbformat": 4,
 "nbformat_minor": 5
}
