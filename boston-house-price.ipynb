{
 "cells": [
  {
   "cell_type": "code",
   "execution_count": 1,
   "id": "224e3f22",
   "metadata": {
    "_cell_guid": "b1076dfc-b9ad-4769-8c92-a6c4dae69d19",
    "_uuid": "8f2839f25d086af736a60e9eeb907d3b93b6e0e5",
    "execution": {
     "iopub.execute_input": "2024-01-08T07:34:16.760240Z",
     "iopub.status.busy": "2024-01-08T07:34:16.759716Z",
     "iopub.status.idle": "2024-01-08T07:34:17.313148Z",
     "shell.execute_reply": "2024-01-08T07:34:17.311530Z"
    },
    "papermill": {
     "duration": 0.564736,
     "end_time": "2024-01-08T07:34:17.316135",
     "exception": false,
     "start_time": "2024-01-08T07:34:16.751399",
     "status": "completed"
    },
    "tags": []
   },
   "outputs": [],
   "source": [
    "import numpy as np\n",
    "import pandas as pd\n",
    "import matplotlib.pyplot as plt\n",
    "%matplotlib inline"
   ]
  },
  {
   "cell_type": "code",
   "execution_count": 2,
   "id": "f3446fd2",
   "metadata": {
    "execution": {
     "iopub.execute_input": "2024-01-08T07:34:17.330671Z",
     "iopub.status.busy": "2024-01-08T07:34:17.329997Z",
     "iopub.status.idle": "2024-01-08T07:34:17.357842Z",
     "shell.execute_reply": "2024-01-08T07:34:17.356755Z"
    },
    "papermill": {
     "duration": 0.038118,
     "end_time": "2024-01-08T07:34:17.360572",
     "exception": false,
     "start_time": "2024-01-08T07:34:17.322454",
     "status": "completed"
    },
    "tags": []
   },
   "outputs": [],
   "source": [
    "df=pd.read_csv(\"/kaggle/input/boston-housing-price/boston.csv\")"
   ]
  },
  {
   "cell_type": "code",
   "execution_count": 3,
   "id": "1786f54c",
   "metadata": {
    "execution": {
     "iopub.execute_input": "2024-01-08T07:34:17.375322Z",
     "iopub.status.busy": "2024-01-08T07:34:17.374451Z",
     "iopub.status.idle": "2024-01-08T07:34:17.426257Z",
     "shell.execute_reply": "2024-01-08T07:34:17.424727Z"
    },
    "papermill": {
     "duration": 0.062594,
     "end_time": "2024-01-08T07:34:17.429273",
     "exception": false,
     "start_time": "2024-01-08T07:34:17.366679",
     "status": "completed"
    },
    "tags": []
   },
   "outputs": [
    {
     "data": {
      "text/html": [
       "<div>\n",
       "<style scoped>\n",
       "    .dataframe tbody tr th:only-of-type {\n",
       "        vertical-align: middle;\n",
       "    }\n",
       "\n",
       "    .dataframe tbody tr th {\n",
       "        vertical-align: top;\n",
       "    }\n",
       "\n",
       "    .dataframe thead th {\n",
       "        text-align: right;\n",
       "    }\n",
       "</style>\n",
       "<table border=\"1\" class=\"dataframe\">\n",
       "  <thead>\n",
       "    <tr style=\"text-align: right;\">\n",
       "      <th></th>\n",
       "      <th>CRIM</th>\n",
       "      <th>ZN</th>\n",
       "      <th>INDUS</th>\n",
       "      <th>CHAS</th>\n",
       "      <th>NOX</th>\n",
       "      <th>RM</th>\n",
       "      <th>AGE</th>\n",
       "      <th>DIS</th>\n",
       "      <th>RAD</th>\n",
       "      <th>TAX</th>\n",
       "      <th>PTRATIO</th>\n",
       "      <th>B</th>\n",
       "      <th>LSTAT</th>\n",
       "      <th>MEDV</th>\n",
       "    </tr>\n",
       "  </thead>\n",
       "  <tbody>\n",
       "    <tr>\n",
       "      <th>0</th>\n",
       "      <td>0.00632</td>\n",
       "      <td>18.0</td>\n",
       "      <td>2.31</td>\n",
       "      <td>0</td>\n",
       "      <td>0.538</td>\n",
       "      <td>6.575</td>\n",
       "      <td>65.2</td>\n",
       "      <td>4.0900</td>\n",
       "      <td>1</td>\n",
       "      <td>296.0</td>\n",
       "      <td>15.3</td>\n",
       "      <td>396.90</td>\n",
       "      <td>4.98</td>\n",
       "      <td>24.0</td>\n",
       "    </tr>\n",
       "    <tr>\n",
       "      <th>1</th>\n",
       "      <td>0.02731</td>\n",
       "      <td>0.0</td>\n",
       "      <td>7.07</td>\n",
       "      <td>0</td>\n",
       "      <td>0.469</td>\n",
       "      <td>6.421</td>\n",
       "      <td>78.9</td>\n",
       "      <td>4.9671</td>\n",
       "      <td>2</td>\n",
       "      <td>242.0</td>\n",
       "      <td>17.8</td>\n",
       "      <td>396.90</td>\n",
       "      <td>9.14</td>\n",
       "      <td>21.6</td>\n",
       "    </tr>\n",
       "    <tr>\n",
       "      <th>2</th>\n",
       "      <td>0.02729</td>\n",
       "      <td>0.0</td>\n",
       "      <td>7.07</td>\n",
       "      <td>0</td>\n",
       "      <td>0.469</td>\n",
       "      <td>7.185</td>\n",
       "      <td>61.1</td>\n",
       "      <td>4.9671</td>\n",
       "      <td>2</td>\n",
       "      <td>242.0</td>\n",
       "      <td>17.8</td>\n",
       "      <td>392.83</td>\n",
       "      <td>4.03</td>\n",
       "      <td>34.7</td>\n",
       "    </tr>\n",
       "    <tr>\n",
       "      <th>3</th>\n",
       "      <td>0.03237</td>\n",
       "      <td>0.0</td>\n",
       "      <td>2.18</td>\n",
       "      <td>0</td>\n",
       "      <td>0.458</td>\n",
       "      <td>6.998</td>\n",
       "      <td>45.8</td>\n",
       "      <td>6.0622</td>\n",
       "      <td>3</td>\n",
       "      <td>222.0</td>\n",
       "      <td>18.7</td>\n",
       "      <td>394.63</td>\n",
       "      <td>2.94</td>\n",
       "      <td>33.4</td>\n",
       "    </tr>\n",
       "    <tr>\n",
       "      <th>4</th>\n",
       "      <td>0.06905</td>\n",
       "      <td>0.0</td>\n",
       "      <td>2.18</td>\n",
       "      <td>0</td>\n",
       "      <td>0.458</td>\n",
       "      <td>7.147</td>\n",
       "      <td>54.2</td>\n",
       "      <td>6.0622</td>\n",
       "      <td>3</td>\n",
       "      <td>222.0</td>\n",
       "      <td>18.7</td>\n",
       "      <td>396.90</td>\n",
       "      <td>5.33</td>\n",
       "      <td>36.2</td>\n",
       "    </tr>\n",
       "    <tr>\n",
       "      <th>...</th>\n",
       "      <td>...</td>\n",
       "      <td>...</td>\n",
       "      <td>...</td>\n",
       "      <td>...</td>\n",
       "      <td>...</td>\n",
       "      <td>...</td>\n",
       "      <td>...</td>\n",
       "      <td>...</td>\n",
       "      <td>...</td>\n",
       "      <td>...</td>\n",
       "      <td>...</td>\n",
       "      <td>...</td>\n",
       "      <td>...</td>\n",
       "      <td>...</td>\n",
       "    </tr>\n",
       "    <tr>\n",
       "      <th>501</th>\n",
       "      <td>0.06263</td>\n",
       "      <td>0.0</td>\n",
       "      <td>11.93</td>\n",
       "      <td>0</td>\n",
       "      <td>0.573</td>\n",
       "      <td>6.593</td>\n",
       "      <td>69.1</td>\n",
       "      <td>2.4786</td>\n",
       "      <td>1</td>\n",
       "      <td>273.0</td>\n",
       "      <td>21.0</td>\n",
       "      <td>391.99</td>\n",
       "      <td>9.67</td>\n",
       "      <td>22.4</td>\n",
       "    </tr>\n",
       "    <tr>\n",
       "      <th>502</th>\n",
       "      <td>0.04527</td>\n",
       "      <td>0.0</td>\n",
       "      <td>11.93</td>\n",
       "      <td>0</td>\n",
       "      <td>0.573</td>\n",
       "      <td>6.120</td>\n",
       "      <td>76.7</td>\n",
       "      <td>2.2875</td>\n",
       "      <td>1</td>\n",
       "      <td>273.0</td>\n",
       "      <td>21.0</td>\n",
       "      <td>396.90</td>\n",
       "      <td>9.08</td>\n",
       "      <td>20.6</td>\n",
       "    </tr>\n",
       "    <tr>\n",
       "      <th>503</th>\n",
       "      <td>0.06076</td>\n",
       "      <td>0.0</td>\n",
       "      <td>11.93</td>\n",
       "      <td>0</td>\n",
       "      <td>0.573</td>\n",
       "      <td>6.976</td>\n",
       "      <td>91.0</td>\n",
       "      <td>2.1675</td>\n",
       "      <td>1</td>\n",
       "      <td>273.0</td>\n",
       "      <td>21.0</td>\n",
       "      <td>396.90</td>\n",
       "      <td>5.64</td>\n",
       "      <td>23.9</td>\n",
       "    </tr>\n",
       "    <tr>\n",
       "      <th>504</th>\n",
       "      <td>0.10959</td>\n",
       "      <td>0.0</td>\n",
       "      <td>11.93</td>\n",
       "      <td>0</td>\n",
       "      <td>0.573</td>\n",
       "      <td>6.794</td>\n",
       "      <td>89.3</td>\n",
       "      <td>2.3889</td>\n",
       "      <td>1</td>\n",
       "      <td>273.0</td>\n",
       "      <td>21.0</td>\n",
       "      <td>393.45</td>\n",
       "      <td>6.48</td>\n",
       "      <td>22.0</td>\n",
       "    </tr>\n",
       "    <tr>\n",
       "      <th>505</th>\n",
       "      <td>0.04741</td>\n",
       "      <td>0.0</td>\n",
       "      <td>11.93</td>\n",
       "      <td>0</td>\n",
       "      <td>0.573</td>\n",
       "      <td>6.030</td>\n",
       "      <td>80.8</td>\n",
       "      <td>2.5050</td>\n",
       "      <td>1</td>\n",
       "      <td>273.0</td>\n",
       "      <td>21.0</td>\n",
       "      <td>396.90</td>\n",
       "      <td>7.88</td>\n",
       "      <td>11.9</td>\n",
       "    </tr>\n",
       "  </tbody>\n",
       "</table>\n",
       "<p>506 rows × 14 columns</p>\n",
       "</div>"
      ],
      "text/plain": [
       "        CRIM    ZN  INDUS  CHAS    NOX     RM   AGE     DIS  RAD    TAX  \\\n",
       "0    0.00632  18.0   2.31     0  0.538  6.575  65.2  4.0900    1  296.0   \n",
       "1    0.02731   0.0   7.07     0  0.469  6.421  78.9  4.9671    2  242.0   \n",
       "2    0.02729   0.0   7.07     0  0.469  7.185  61.1  4.9671    2  242.0   \n",
       "3    0.03237   0.0   2.18     0  0.458  6.998  45.8  6.0622    3  222.0   \n",
       "4    0.06905   0.0   2.18     0  0.458  7.147  54.2  6.0622    3  222.0   \n",
       "..       ...   ...    ...   ...    ...    ...   ...     ...  ...    ...   \n",
       "501  0.06263   0.0  11.93     0  0.573  6.593  69.1  2.4786    1  273.0   \n",
       "502  0.04527   0.0  11.93     0  0.573  6.120  76.7  2.2875    1  273.0   \n",
       "503  0.06076   0.0  11.93     0  0.573  6.976  91.0  2.1675    1  273.0   \n",
       "504  0.10959   0.0  11.93     0  0.573  6.794  89.3  2.3889    1  273.0   \n",
       "505  0.04741   0.0  11.93     0  0.573  6.030  80.8  2.5050    1  273.0   \n",
       "\n",
       "     PTRATIO       B  LSTAT  MEDV  \n",
       "0       15.3  396.90   4.98  24.0  \n",
       "1       17.8  396.90   9.14  21.6  \n",
       "2       17.8  392.83   4.03  34.7  \n",
       "3       18.7  394.63   2.94  33.4  \n",
       "4       18.7  396.90   5.33  36.2  \n",
       "..       ...     ...    ...   ...  \n",
       "501     21.0  391.99   9.67  22.4  \n",
       "502     21.0  396.90   9.08  20.6  \n",
       "503     21.0  396.90   5.64  23.9  \n",
       "504     21.0  393.45   6.48  22.0  \n",
       "505     21.0  396.90   7.88  11.9  \n",
       "\n",
       "[506 rows x 14 columns]"
      ]
     },
     "execution_count": 3,
     "metadata": {},
     "output_type": "execute_result"
    }
   ],
   "source": [
    "df"
   ]
  },
  {
   "cell_type": "markdown",
   "id": "727763dc",
   "metadata": {
    "execution": {
     "iopub.execute_input": "2024-01-08T06:01:12.355617Z",
     "iopub.status.busy": "2024-01-08T06:01:12.355161Z",
     "iopub.status.idle": "2024-01-08T06:01:12.541946Z",
     "shell.execute_reply": "2024-01-08T06:01:12.540630Z",
     "shell.execute_reply.started": "2024-01-08T06:01:12.355574Z"
    },
    "papermill": {
     "duration": 0.006875,
     "end_time": "2024-01-08T07:34:17.443362",
     "exception": false,
     "start_time": "2024-01-08T07:34:17.436487",
     "status": "completed"
    },
    "tags": []
   },
   "source": [
    "# **Dividing data into independent and dependent features**"
   ]
  },
  {
   "cell_type": "code",
   "execution_count": 4,
   "id": "bec754ae",
   "metadata": {
    "execution": {
     "iopub.execute_input": "2024-01-08T07:34:17.459915Z",
     "iopub.status.busy": "2024-01-08T07:34:17.459414Z",
     "iopub.status.idle": "2024-01-08T07:34:17.466081Z",
     "shell.execute_reply": "2024-01-08T07:34:17.464810Z"
    },
    "papermill": {
     "duration": 0.018043,
     "end_time": "2024-01-08T07:34:17.468691",
     "exception": false,
     "start_time": "2024-01-08T07:34:17.450648",
     "status": "completed"
    },
    "tags": []
   },
   "outputs": [],
   "source": [
    "X=df.iloc[:,:-1]\n",
    "y=df.iloc[:,-1]"
   ]
  },
  {
   "cell_type": "code",
   "execution_count": 5,
   "id": "d515a44b",
   "metadata": {
    "execution": {
     "iopub.execute_input": "2024-01-08T07:34:17.485670Z",
     "iopub.status.busy": "2024-01-08T07:34:17.484524Z",
     "iopub.status.idle": "2024-01-08T07:34:17.508970Z",
     "shell.execute_reply": "2024-01-08T07:34:17.507521Z"
    },
    "papermill": {
     "duration": 0.035779,
     "end_time": "2024-01-08T07:34:17.511682",
     "exception": false,
     "start_time": "2024-01-08T07:34:17.475903",
     "status": "completed"
    },
    "tags": []
   },
   "outputs": [
    {
     "data": {
      "text/html": [
       "<div>\n",
       "<style scoped>\n",
       "    .dataframe tbody tr th:only-of-type {\n",
       "        vertical-align: middle;\n",
       "    }\n",
       "\n",
       "    .dataframe tbody tr th {\n",
       "        vertical-align: top;\n",
       "    }\n",
       "\n",
       "    .dataframe thead th {\n",
       "        text-align: right;\n",
       "    }\n",
       "</style>\n",
       "<table border=\"1\" class=\"dataframe\">\n",
       "  <thead>\n",
       "    <tr style=\"text-align: right;\">\n",
       "      <th></th>\n",
       "      <th>CRIM</th>\n",
       "      <th>ZN</th>\n",
       "      <th>INDUS</th>\n",
       "      <th>CHAS</th>\n",
       "      <th>NOX</th>\n",
       "      <th>RM</th>\n",
       "      <th>AGE</th>\n",
       "      <th>DIS</th>\n",
       "      <th>RAD</th>\n",
       "      <th>TAX</th>\n",
       "      <th>PTRATIO</th>\n",
       "      <th>B</th>\n",
       "      <th>LSTAT</th>\n",
       "    </tr>\n",
       "  </thead>\n",
       "  <tbody>\n",
       "    <tr>\n",
       "      <th>0</th>\n",
       "      <td>0.00632</td>\n",
       "      <td>18.0</td>\n",
       "      <td>2.31</td>\n",
       "      <td>0</td>\n",
       "      <td>0.538</td>\n",
       "      <td>6.575</td>\n",
       "      <td>65.2</td>\n",
       "      <td>4.0900</td>\n",
       "      <td>1</td>\n",
       "      <td>296.0</td>\n",
       "      <td>15.3</td>\n",
       "      <td>396.90</td>\n",
       "      <td>4.98</td>\n",
       "    </tr>\n",
       "    <tr>\n",
       "      <th>1</th>\n",
       "      <td>0.02731</td>\n",
       "      <td>0.0</td>\n",
       "      <td>7.07</td>\n",
       "      <td>0</td>\n",
       "      <td>0.469</td>\n",
       "      <td>6.421</td>\n",
       "      <td>78.9</td>\n",
       "      <td>4.9671</td>\n",
       "      <td>2</td>\n",
       "      <td>242.0</td>\n",
       "      <td>17.8</td>\n",
       "      <td>396.90</td>\n",
       "      <td>9.14</td>\n",
       "    </tr>\n",
       "    <tr>\n",
       "      <th>2</th>\n",
       "      <td>0.02729</td>\n",
       "      <td>0.0</td>\n",
       "      <td>7.07</td>\n",
       "      <td>0</td>\n",
       "      <td>0.469</td>\n",
       "      <td>7.185</td>\n",
       "      <td>61.1</td>\n",
       "      <td>4.9671</td>\n",
       "      <td>2</td>\n",
       "      <td>242.0</td>\n",
       "      <td>17.8</td>\n",
       "      <td>392.83</td>\n",
       "      <td>4.03</td>\n",
       "    </tr>\n",
       "    <tr>\n",
       "      <th>3</th>\n",
       "      <td>0.03237</td>\n",
       "      <td>0.0</td>\n",
       "      <td>2.18</td>\n",
       "      <td>0</td>\n",
       "      <td>0.458</td>\n",
       "      <td>6.998</td>\n",
       "      <td>45.8</td>\n",
       "      <td>6.0622</td>\n",
       "      <td>3</td>\n",
       "      <td>222.0</td>\n",
       "      <td>18.7</td>\n",
       "      <td>394.63</td>\n",
       "      <td>2.94</td>\n",
       "    </tr>\n",
       "    <tr>\n",
       "      <th>4</th>\n",
       "      <td>0.06905</td>\n",
       "      <td>0.0</td>\n",
       "      <td>2.18</td>\n",
       "      <td>0</td>\n",
       "      <td>0.458</td>\n",
       "      <td>7.147</td>\n",
       "      <td>54.2</td>\n",
       "      <td>6.0622</td>\n",
       "      <td>3</td>\n",
       "      <td>222.0</td>\n",
       "      <td>18.7</td>\n",
       "      <td>396.90</td>\n",
       "      <td>5.33</td>\n",
       "    </tr>\n",
       "  </tbody>\n",
       "</table>\n",
       "</div>"
      ],
      "text/plain": [
       "      CRIM    ZN  INDUS  CHAS    NOX     RM   AGE     DIS  RAD    TAX  \\\n",
       "0  0.00632  18.0   2.31     0  0.538  6.575  65.2  4.0900    1  296.0   \n",
       "1  0.02731   0.0   7.07     0  0.469  6.421  78.9  4.9671    2  242.0   \n",
       "2  0.02729   0.0   7.07     0  0.469  7.185  61.1  4.9671    2  242.0   \n",
       "3  0.03237   0.0   2.18     0  0.458  6.998  45.8  6.0622    3  222.0   \n",
       "4  0.06905   0.0   2.18     0  0.458  7.147  54.2  6.0622    3  222.0   \n",
       "\n",
       "   PTRATIO       B  LSTAT  \n",
       "0     15.3  396.90   4.98  \n",
       "1     17.8  396.90   9.14  \n",
       "2     17.8  392.83   4.03  \n",
       "3     18.7  394.63   2.94  \n",
       "4     18.7  396.90   5.33  "
      ]
     },
     "execution_count": 5,
     "metadata": {},
     "output_type": "execute_result"
    }
   ],
   "source": [
    "X.head()"
   ]
  },
  {
   "cell_type": "code",
   "execution_count": 6,
   "id": "93cd8ae9",
   "metadata": {
    "execution": {
     "iopub.execute_input": "2024-01-08T07:34:17.527128Z",
     "iopub.status.busy": "2024-01-08T07:34:17.526750Z",
     "iopub.status.idle": "2024-01-08T07:34:17.536648Z",
     "shell.execute_reply": "2024-01-08T07:34:17.535319Z"
    },
    "papermill": {
     "duration": 0.020845,
     "end_time": "2024-01-08T07:34:17.539352",
     "exception": false,
     "start_time": "2024-01-08T07:34:17.518507",
     "status": "completed"
    },
    "tags": []
   },
   "outputs": [
    {
     "data": {
      "text/plain": [
       "0    24.0\n",
       "1    21.6\n",
       "2    34.7\n",
       "3    33.4\n",
       "4    36.2\n",
       "Name: MEDV, dtype: float64"
      ]
     },
     "execution_count": 6,
     "metadata": {},
     "output_type": "execute_result"
    }
   ],
   "source": [
    "y.head()"
   ]
  },
  {
   "cell_type": "markdown",
   "id": "157d513e",
   "metadata": {
    "papermill": {
     "duration": 0.006723,
     "end_time": "2024-01-08T07:34:17.553191",
     "exception": false,
     "start_time": "2024-01-08T07:34:17.546468",
     "status": "completed"
    },
    "tags": []
   },
   "source": [
    "# **Linear Regression**"
   ]
  },
  {
   "cell_type": "code",
   "execution_count": 7,
   "id": "e7fdab14",
   "metadata": {
    "execution": {
     "iopub.execute_input": "2024-01-08T07:34:17.568943Z",
     "iopub.status.busy": "2024-01-08T07:34:17.568518Z",
     "iopub.status.idle": "2024-01-08T07:34:19.220982Z",
     "shell.execute_reply": "2024-01-08T07:34:19.219520Z"
    },
    "papermill": {
     "duration": 1.663863,
     "end_time": "2024-01-08T07:34:19.223976",
     "exception": false,
     "start_time": "2024-01-08T07:34:17.560113",
     "status": "completed"
    },
    "tags": []
   },
   "outputs": [],
   "source": [
    "from sklearn.linear_model import LinearRegression\n",
    "from sklearn.model_selection import cross_val_score\n"
   ]
  },
  {
   "cell_type": "code",
   "execution_count": 8,
   "id": "5b1159ee",
   "metadata": {
    "execution": {
     "iopub.execute_input": "2024-01-08T07:34:19.239856Z",
     "iopub.status.busy": "2024-01-08T07:34:19.239405Z",
     "iopub.status.idle": "2024-01-08T07:34:19.244931Z",
     "shell.execute_reply": "2024-01-08T07:34:19.243707Z"
    },
    "papermill": {
     "duration": 0.016317,
     "end_time": "2024-01-08T07:34:19.247396",
     "exception": false,
     "start_time": "2024-01-08T07:34:19.231079",
     "status": "completed"
    },
    "tags": []
   },
   "outputs": [],
   "source": [
    "lin_reg=LinearRegression()"
   ]
  },
  {
   "cell_type": "code",
   "execution_count": 9,
   "id": "0ec43e4a",
   "metadata": {
    "execution": {
     "iopub.execute_input": "2024-01-08T07:34:19.262969Z",
     "iopub.status.busy": "2024-01-08T07:34:19.262537Z",
     "iopub.status.idle": "2024-01-08T07:34:19.322278Z",
     "shell.execute_reply": "2024-01-08T07:34:19.321026Z"
    },
    "papermill": {
     "duration": 0.070817,
     "end_time": "2024-01-08T07:34:19.325226",
     "exception": false,
     "start_time": "2024-01-08T07:34:19.254409",
     "status": "completed"
    },
    "tags": []
   },
   "outputs": [],
   "source": [
    "mse=cross_val_score(lin_reg,X,y,scoring=\"neg_mean_squared_error\",cv=5)"
   ]
  },
  {
   "cell_type": "code",
   "execution_count": 10,
   "id": "3acadf78",
   "metadata": {
    "execution": {
     "iopub.execute_input": "2024-01-08T07:34:19.341748Z",
     "iopub.status.busy": "2024-01-08T07:34:19.340952Z",
     "iopub.status.idle": "2024-01-08T07:34:19.347495Z",
     "shell.execute_reply": "2024-01-08T07:34:19.346248Z"
    },
    "papermill": {
     "duration": 0.017566,
     "end_time": "2024-01-08T07:34:19.349905",
     "exception": false,
     "start_time": "2024-01-08T07:34:19.332339",
     "status": "completed"
    },
    "tags": []
   },
   "outputs": [
    {
     "name": "stdout",
     "output_type": "stream",
     "text": [
      "[-12.46030057 -26.04862111 -33.07413798 -80.76237112 -33.31360656]\n"
     ]
    }
   ],
   "source": [
    "print(mse)"
   ]
  },
  {
   "cell_type": "code",
   "execution_count": 11,
   "id": "65f02d42",
   "metadata": {
    "execution": {
     "iopub.execute_input": "2024-01-08T07:34:19.366602Z",
     "iopub.status.busy": "2024-01-08T07:34:19.365808Z",
     "iopub.status.idle": "2024-01-08T07:34:19.370510Z",
     "shell.execute_reply": "2024-01-08T07:34:19.369694Z"
    },
    "papermill": {
     "duration": 0.016247,
     "end_time": "2024-01-08T07:34:19.373141",
     "exception": false,
     "start_time": "2024-01-08T07:34:19.356894",
     "status": "completed"
    },
    "tags": []
   },
   "outputs": [],
   "source": [
    "mean_mse=mse.mean()"
   ]
  },
  {
   "cell_type": "code",
   "execution_count": 12,
   "id": "05c01e21",
   "metadata": {
    "execution": {
     "iopub.execute_input": "2024-01-08T07:34:19.389468Z",
     "iopub.status.busy": "2024-01-08T07:34:19.389013Z",
     "iopub.status.idle": "2024-01-08T07:34:19.395380Z",
     "shell.execute_reply": "2024-01-08T07:34:19.393921Z"
    },
    "papermill": {
     "duration": 0.017746,
     "end_time": "2024-01-08T07:34:19.398055",
     "exception": false,
     "start_time": "2024-01-08T07:34:19.380309",
     "status": "completed"
    },
    "tags": []
   },
   "outputs": [
    {
     "name": "stdout",
     "output_type": "stream",
     "text": [
      "-37.13180746769887\n"
     ]
    }
   ],
   "source": [
    "print(mean_mse)"
   ]
  },
  {
   "cell_type": "markdown",
   "id": "6c8b84c5",
   "metadata": {
    "papermill": {
     "duration": 0.006836,
     "end_time": "2024-01-08T07:34:19.411971",
     "exception": false,
     "start_time": "2024-01-08T07:34:19.405135",
     "status": "completed"
    },
    "tags": []
   },
   "source": [
    "# **Ridge Regression**"
   ]
  },
  {
   "cell_type": "code",
   "execution_count": 13,
   "id": "802f0536",
   "metadata": {
    "execution": {
     "iopub.execute_input": "2024-01-08T07:34:19.428524Z",
     "iopub.status.busy": "2024-01-08T07:34:19.427533Z",
     "iopub.status.idle": "2024-01-08T07:34:19.433674Z",
     "shell.execute_reply": "2024-01-08T07:34:19.432392Z"
    },
    "papermill": {
     "duration": 0.017261,
     "end_time": "2024-01-08T07:34:19.436225",
     "exception": false,
     "start_time": "2024-01-08T07:34:19.418964",
     "status": "completed"
    },
    "tags": []
   },
   "outputs": [],
   "source": [
    "from sklearn.linear_model import Ridge\n",
    "from sklearn.model_selection import GridSearchCV"
   ]
  },
  {
   "cell_type": "code",
   "execution_count": null,
   "id": "f1760f71",
   "metadata": {
    "papermill": {
     "duration": 0.006868,
     "end_time": "2024-01-08T07:34:19.450116",
     "exception": false,
     "start_time": "2024-01-08T07:34:19.443248",
     "status": "completed"
    },
    "tags": []
   },
   "outputs": [],
   "source": []
  }
 ],
 "metadata": {
  "kaggle": {
   "accelerator": "none",
   "dataSources": [
    {
     "datasetId": 1890449,
     "sourceId": 3093925,
     "sourceType": "datasetVersion"
    }
   ],
   "dockerImageVersionId": 30626,
   "isGpuEnabled": false,
   "isInternetEnabled": false,
   "language": "python",
   "sourceType": "notebook"
  },
  "kernelspec": {
   "display_name": "Python 3",
   "language": "python",
   "name": "python3"
  },
  "language_info": {
   "codemirror_mode": {
    "name": "ipython",
    "version": 3
   },
   "file_extension": ".py",
   "mimetype": "text/x-python",
   "name": "python",
   "nbconvert_exporter": "python",
   "pygments_lexer": "ipython3",
   "version": "3.10.12"
  },
  "papermill": {
   "default_parameters": {},
   "duration": 6.783207,
   "end_time": "2024-01-08T07:34:20.078174",
   "environment_variables": {},
   "exception": null,
   "input_path": "__notebook__.ipynb",
   "output_path": "__notebook__.ipynb",
   "parameters": {},
   "start_time": "2024-01-08T07:34:13.294967",
   "version": "2.4.0"
  }
 },
 "nbformat": 4,
 "nbformat_minor": 5
}
